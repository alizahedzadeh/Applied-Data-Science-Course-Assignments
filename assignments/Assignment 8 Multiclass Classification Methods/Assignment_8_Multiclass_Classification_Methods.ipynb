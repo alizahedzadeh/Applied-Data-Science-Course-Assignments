{
  "nbformat": 4,
  "nbformat_minor": 0,
  "metadata": {
    "colab": {
      "provenance": []
    },
    "kernelspec": {
      "name": "python3",
      "display_name": "Python 3"
    },
    "language_info": {
      "name": "python"
    }
  },
  "cells": [
    {
      "cell_type": "markdown",
      "source": [
        "# Assignment 8: Multiclass Classification Methods"
      ],
      "metadata": {
        "id": "bXkvtIh_F7So"
      }
    },
    {
      "cell_type": "markdown",
      "metadata": {
        "id": "m130b9JMFyQj"
      },
      "source": [
        "### Group Members:\n",
        "\n",
        "\n",
        "*   Ali Zahedzadeh\n",
        "*   Melika Noubakhtian\n"
      ]
    },
    {
      "cell_type": "markdown",
      "source": [
        "**Import Libraries**"
      ],
      "metadata": {
        "id": "xuxNQWeR04lZ"
      }
    },
    {
      "cell_type": "code",
      "execution_count": 54,
      "metadata": {
        "id": "K1V4bLW85Lzb"
      },
      "outputs": [],
      "source": [
        "import pandas as pd\n",
        "import seaborn as sns\n",
        "import numpy as np\n",
        "import matplotlib.pyplot as plt\n",
        "from sklearn.preprocessing import LabelEncoder\n",
        "from sklearn.model_selection import train_test_split\n",
        "%matplotlib inline\n",
        "sns.set(color_codes=True)"
      ]
    },
    {
      "cell_type": "markdown",
      "source": [
        "# EDA and Data Preprocessing"
      ],
      "metadata": {
        "id": "gyIy2Fij0KYK"
      }
    },
    {
      "cell_type": "markdown",
      "metadata": {
        "id": "tK6xfBq60GH9"
      },
      "source": [
        "### About The Dataset\n",
        "\n",
        "**The target feature is**\n",
        "Drug type\n",
        "\n",
        "**The feature sets are:**\n",
        "* Age\n",
        "* Sex\n",
        "* Blood Pressure Levels (BP)\n",
        "* Cholesterol Levels\n",
        "* Na to Potassium Ration\n"
      ]
    },
    {
      "cell_type": "markdown",
      "metadata": {
        "id": "hDWOkg1P0GH-"
      },
      "source": [
        "**Reading Dataset**"
      ]
    },
    {
      "cell_type": "code",
      "execution_count": 55,
      "metadata": {
        "id": "3HfmCwir0GH-"
      },
      "outputs": [],
      "source": [
        "path = './drug.csv'\n",
        "drugs = pd.read_csv(path)"
      ]
    },
    {
      "cell_type": "markdown",
      "metadata": {
        "id": "JZZdQI5Z0GH-"
      },
      "source": [
        "Now let's take a look at the first 5 rows of the data:"
      ]
    },
    {
      "cell_type": "code",
      "execution_count": 56,
      "metadata": {
        "id": "lc5PJokG0GH-",
        "outputId": "a96eb153-f3c4-4723-d4ef-212587738187",
        "colab": {
          "base_uri": "https://localhost:8080/",
          "height": 206
        }
      },
      "outputs": [
        {
          "output_type": "execute_result",
          "data": {
            "text/plain": [
              "   Age Sex      BP Cholesterol  Na_to_K   Drug\n",
              "0   23   F    HIGH        HIGH   25.355  drugY\n",
              "1   47   M     LOW        HIGH   13.093  drugC\n",
              "2   47   M     LOW        HIGH   10.114  drugC\n",
              "3   28   F  NORMAL        HIGH    7.798  drugX\n",
              "4   61   F     LOW        HIGH   18.043  drugY"
            ],
            "text/html": [
              "\n",
              "  <div id=\"df-42c7fc67-b503-440a-8e02-0d943d92c6da\" class=\"colab-df-container\">\n",
              "    <div>\n",
              "<style scoped>\n",
              "    .dataframe tbody tr th:only-of-type {\n",
              "        vertical-align: middle;\n",
              "    }\n",
              "\n",
              "    .dataframe tbody tr th {\n",
              "        vertical-align: top;\n",
              "    }\n",
              "\n",
              "    .dataframe thead th {\n",
              "        text-align: right;\n",
              "    }\n",
              "</style>\n",
              "<table border=\"1\" class=\"dataframe\">\n",
              "  <thead>\n",
              "    <tr style=\"text-align: right;\">\n",
              "      <th></th>\n",
              "      <th>Age</th>\n",
              "      <th>Sex</th>\n",
              "      <th>BP</th>\n",
              "      <th>Cholesterol</th>\n",
              "      <th>Na_to_K</th>\n",
              "      <th>Drug</th>\n",
              "    </tr>\n",
              "  </thead>\n",
              "  <tbody>\n",
              "    <tr>\n",
              "      <th>0</th>\n",
              "      <td>23</td>\n",
              "      <td>F</td>\n",
              "      <td>HIGH</td>\n",
              "      <td>HIGH</td>\n",
              "      <td>25.355</td>\n",
              "      <td>drugY</td>\n",
              "    </tr>\n",
              "    <tr>\n",
              "      <th>1</th>\n",
              "      <td>47</td>\n",
              "      <td>M</td>\n",
              "      <td>LOW</td>\n",
              "      <td>HIGH</td>\n",
              "      <td>13.093</td>\n",
              "      <td>drugC</td>\n",
              "    </tr>\n",
              "    <tr>\n",
              "      <th>2</th>\n",
              "      <td>47</td>\n",
              "      <td>M</td>\n",
              "      <td>LOW</td>\n",
              "      <td>HIGH</td>\n",
              "      <td>10.114</td>\n",
              "      <td>drugC</td>\n",
              "    </tr>\n",
              "    <tr>\n",
              "      <th>3</th>\n",
              "      <td>28</td>\n",
              "      <td>F</td>\n",
              "      <td>NORMAL</td>\n",
              "      <td>HIGH</td>\n",
              "      <td>7.798</td>\n",
              "      <td>drugX</td>\n",
              "    </tr>\n",
              "    <tr>\n",
              "      <th>4</th>\n",
              "      <td>61</td>\n",
              "      <td>F</td>\n",
              "      <td>LOW</td>\n",
              "      <td>HIGH</td>\n",
              "      <td>18.043</td>\n",
              "      <td>drugY</td>\n",
              "    </tr>\n",
              "  </tbody>\n",
              "</table>\n",
              "</div>\n",
              "    <div class=\"colab-df-buttons\">\n",
              "\n",
              "  <div class=\"colab-df-container\">\n",
              "    <button class=\"colab-df-convert\" onclick=\"convertToInteractive('df-42c7fc67-b503-440a-8e02-0d943d92c6da')\"\n",
              "            title=\"Convert this dataframe to an interactive table.\"\n",
              "            style=\"display:none;\">\n",
              "\n",
              "  <svg xmlns=\"http://www.w3.org/2000/svg\" height=\"24px\" viewBox=\"0 -960 960 960\">\n",
              "    <path d=\"M120-120v-720h720v720H120Zm60-500h600v-160H180v160Zm220 220h160v-160H400v160Zm0 220h160v-160H400v160ZM180-400h160v-160H180v160Zm440 0h160v-160H620v160ZM180-180h160v-160H180v160Zm440 0h160v-160H620v160Z\"/>\n",
              "  </svg>\n",
              "    </button>\n",
              "\n",
              "  <style>\n",
              "    .colab-df-container {\n",
              "      display:flex;\n",
              "      gap: 12px;\n",
              "    }\n",
              "\n",
              "    .colab-df-convert {\n",
              "      background-color: #E8F0FE;\n",
              "      border: none;\n",
              "      border-radius: 50%;\n",
              "      cursor: pointer;\n",
              "      display: none;\n",
              "      fill: #1967D2;\n",
              "      height: 32px;\n",
              "      padding: 0 0 0 0;\n",
              "      width: 32px;\n",
              "    }\n",
              "\n",
              "    .colab-df-convert:hover {\n",
              "      background-color: #E2EBFA;\n",
              "      box-shadow: 0px 1px 2px rgba(60, 64, 67, 0.3), 0px 1px 3px 1px rgba(60, 64, 67, 0.15);\n",
              "      fill: #174EA6;\n",
              "    }\n",
              "\n",
              "    .colab-df-buttons div {\n",
              "      margin-bottom: 4px;\n",
              "    }\n",
              "\n",
              "    [theme=dark] .colab-df-convert {\n",
              "      background-color: #3B4455;\n",
              "      fill: #D2E3FC;\n",
              "    }\n",
              "\n",
              "    [theme=dark] .colab-df-convert:hover {\n",
              "      background-color: #434B5C;\n",
              "      box-shadow: 0px 1px 3px 1px rgba(0, 0, 0, 0.15);\n",
              "      filter: drop-shadow(0px 1px 2px rgba(0, 0, 0, 0.3));\n",
              "      fill: #FFFFFF;\n",
              "    }\n",
              "  </style>\n",
              "\n",
              "    <script>\n",
              "      const buttonEl =\n",
              "        document.querySelector('#df-42c7fc67-b503-440a-8e02-0d943d92c6da button.colab-df-convert');\n",
              "      buttonEl.style.display =\n",
              "        google.colab.kernel.accessAllowed ? 'block' : 'none';\n",
              "\n",
              "      async function convertToInteractive(key) {\n",
              "        const element = document.querySelector('#df-42c7fc67-b503-440a-8e02-0d943d92c6da');\n",
              "        const dataTable =\n",
              "          await google.colab.kernel.invokeFunction('convertToInteractive',\n",
              "                                                    [key], {});\n",
              "        if (!dataTable) return;\n",
              "\n",
              "        const docLinkHtml = 'Like what you see? Visit the ' +\n",
              "          '<a target=\"_blank\" href=https://colab.research.google.com/notebooks/data_table.ipynb>data table notebook</a>'\n",
              "          + ' to learn more about interactive tables.';\n",
              "        element.innerHTML = '';\n",
              "        dataTable['output_type'] = 'display_data';\n",
              "        await google.colab.output.renderOutput(dataTable, element);\n",
              "        const docLink = document.createElement('div');\n",
              "        docLink.innerHTML = docLinkHtml;\n",
              "        element.appendChild(docLink);\n",
              "      }\n",
              "    </script>\n",
              "  </div>\n",
              "\n",
              "\n",
              "<div id=\"df-07802c5c-170a-4a4d-84c6-0fbc7e751101\">\n",
              "  <button class=\"colab-df-quickchart\" onclick=\"quickchart('df-07802c5c-170a-4a4d-84c6-0fbc7e751101')\"\n",
              "            title=\"Suggest charts\"\n",
              "            style=\"display:none;\">\n",
              "\n",
              "<svg xmlns=\"http://www.w3.org/2000/svg\" height=\"24px\"viewBox=\"0 0 24 24\"\n",
              "     width=\"24px\">\n",
              "    <g>\n",
              "        <path d=\"M19 3H5c-1.1 0-2 .9-2 2v14c0 1.1.9 2 2 2h14c1.1 0 2-.9 2-2V5c0-1.1-.9-2-2-2zM9 17H7v-7h2v7zm4 0h-2V7h2v10zm4 0h-2v-4h2v4z\"/>\n",
              "    </g>\n",
              "</svg>\n",
              "  </button>\n",
              "\n",
              "<style>\n",
              "  .colab-df-quickchart {\n",
              "      --bg-color: #E8F0FE;\n",
              "      --fill-color: #1967D2;\n",
              "      --hover-bg-color: #E2EBFA;\n",
              "      --hover-fill-color: #174EA6;\n",
              "      --disabled-fill-color: #AAA;\n",
              "      --disabled-bg-color: #DDD;\n",
              "  }\n",
              "\n",
              "  [theme=dark] .colab-df-quickchart {\n",
              "      --bg-color: #3B4455;\n",
              "      --fill-color: #D2E3FC;\n",
              "      --hover-bg-color: #434B5C;\n",
              "      --hover-fill-color: #FFFFFF;\n",
              "      --disabled-bg-color: #3B4455;\n",
              "      --disabled-fill-color: #666;\n",
              "  }\n",
              "\n",
              "  .colab-df-quickchart {\n",
              "    background-color: var(--bg-color);\n",
              "    border: none;\n",
              "    border-radius: 50%;\n",
              "    cursor: pointer;\n",
              "    display: none;\n",
              "    fill: var(--fill-color);\n",
              "    height: 32px;\n",
              "    padding: 0;\n",
              "    width: 32px;\n",
              "  }\n",
              "\n",
              "  .colab-df-quickchart:hover {\n",
              "    background-color: var(--hover-bg-color);\n",
              "    box-shadow: 0 1px 2px rgba(60, 64, 67, 0.3), 0 1px 3px 1px rgba(60, 64, 67, 0.15);\n",
              "    fill: var(--button-hover-fill-color);\n",
              "  }\n",
              "\n",
              "  .colab-df-quickchart-complete:disabled,\n",
              "  .colab-df-quickchart-complete:disabled:hover {\n",
              "    background-color: var(--disabled-bg-color);\n",
              "    fill: var(--disabled-fill-color);\n",
              "    box-shadow: none;\n",
              "  }\n",
              "\n",
              "  .colab-df-spinner {\n",
              "    border: 2px solid var(--fill-color);\n",
              "    border-color: transparent;\n",
              "    border-bottom-color: var(--fill-color);\n",
              "    animation:\n",
              "      spin 1s steps(1) infinite;\n",
              "  }\n",
              "\n",
              "  @keyframes spin {\n",
              "    0% {\n",
              "      border-color: transparent;\n",
              "      border-bottom-color: var(--fill-color);\n",
              "      border-left-color: var(--fill-color);\n",
              "    }\n",
              "    20% {\n",
              "      border-color: transparent;\n",
              "      border-left-color: var(--fill-color);\n",
              "      border-top-color: var(--fill-color);\n",
              "    }\n",
              "    30% {\n",
              "      border-color: transparent;\n",
              "      border-left-color: var(--fill-color);\n",
              "      border-top-color: var(--fill-color);\n",
              "      border-right-color: var(--fill-color);\n",
              "    }\n",
              "    40% {\n",
              "      border-color: transparent;\n",
              "      border-right-color: var(--fill-color);\n",
              "      border-top-color: var(--fill-color);\n",
              "    }\n",
              "    60% {\n",
              "      border-color: transparent;\n",
              "      border-right-color: var(--fill-color);\n",
              "    }\n",
              "    80% {\n",
              "      border-color: transparent;\n",
              "      border-right-color: var(--fill-color);\n",
              "      border-bottom-color: var(--fill-color);\n",
              "    }\n",
              "    90% {\n",
              "      border-color: transparent;\n",
              "      border-bottom-color: var(--fill-color);\n",
              "    }\n",
              "  }\n",
              "</style>\n",
              "\n",
              "  <script>\n",
              "    async function quickchart(key) {\n",
              "      const quickchartButtonEl =\n",
              "        document.querySelector('#' + key + ' button');\n",
              "      quickchartButtonEl.disabled = true;  // To prevent multiple clicks.\n",
              "      quickchartButtonEl.classList.add('colab-df-spinner');\n",
              "      try {\n",
              "        const charts = await google.colab.kernel.invokeFunction(\n",
              "            'suggestCharts', [key], {});\n",
              "      } catch (error) {\n",
              "        console.error('Error during call to suggestCharts:', error);\n",
              "      }\n",
              "      quickchartButtonEl.classList.remove('colab-df-spinner');\n",
              "      quickchartButtonEl.classList.add('colab-df-quickchart-complete');\n",
              "    }\n",
              "    (() => {\n",
              "      let quickchartButtonEl =\n",
              "        document.querySelector('#df-07802c5c-170a-4a4d-84c6-0fbc7e751101 button');\n",
              "      quickchartButtonEl.style.display =\n",
              "        google.colab.kernel.accessAllowed ? 'block' : 'none';\n",
              "    })();\n",
              "  </script>\n",
              "</div>\n",
              "    </div>\n",
              "  </div>\n"
            ]
          },
          "metadata": {},
          "execution_count": 56
        }
      ],
      "source": [
        "drugs.head()"
      ]
    },
    {
      "cell_type": "markdown",
      "metadata": {
        "id": "imf7z7Rs0GH_"
      },
      "source": [
        "```df.info()``` shows that we have no NaN value."
      ]
    },
    {
      "cell_type": "code",
      "execution_count": 57,
      "metadata": {
        "id": "v26hL6ol0GH_",
        "outputId": "ba314ff6-4ce4-411a-da23-5a105232167f",
        "colab": {
          "base_uri": "https://localhost:8080/"
        }
      },
      "outputs": [
        {
          "output_type": "stream",
          "name": "stdout",
          "text": [
            "<class 'pandas.core.frame.DataFrame'>\n",
            "RangeIndex: 200 entries, 0 to 199\n",
            "Data columns (total 6 columns):\n",
            " #   Column       Non-Null Count  Dtype  \n",
            "---  ------       --------------  -----  \n",
            " 0   Age          200 non-null    int64  \n",
            " 1   Sex          200 non-null    object \n",
            " 2   BP           200 non-null    object \n",
            " 3   Cholesterol  200 non-null    object \n",
            " 4   Na_to_K      200 non-null    float64\n",
            " 5   Drug         200 non-null    object \n",
            "dtypes: float64(1), int64(1), object(4)\n",
            "memory usage: 9.5+ KB\n"
          ]
        }
      ],
      "source": [
        "drugs.info()"
      ]
    },
    {
      "cell_type": "markdown",
      "metadata": {
        "id": "LpXSUDY00GH_"
      },
      "source": [
        "Check Null values (We don't have any null values)"
      ]
    },
    {
      "cell_type": "code",
      "execution_count": 58,
      "metadata": {
        "id": "4VCPBdLL0GH_",
        "outputId": "d9a4cce6-4158-4406-e772-11acd24fa526",
        "colab": {
          "base_uri": "https://localhost:8080/"
        }
      },
      "outputs": [
        {
          "output_type": "execute_result",
          "data": {
            "text/plain": [
              "Age            0\n",
              "Sex            0\n",
              "BP             0\n",
              "Cholesterol    0\n",
              "Na_to_K        0\n",
              "Drug           0\n",
              "dtype: int64"
            ]
          },
          "metadata": {},
          "execution_count": 58
        }
      ],
      "source": [
        "drugs.isnull().sum()"
      ]
    },
    {
      "cell_type": "markdown",
      "metadata": {
        "id": "lb4P0MWz0GH_"
      },
      "source": [
        "Checking for duplicate rows, we dont have any duplicated row"
      ]
    },
    {
      "cell_type": "code",
      "execution_count": 59,
      "metadata": {
        "id": "EOI6xicP0GH_",
        "outputId": "489bd91f-64ea-4aca-ec74-5906183c8b37",
        "colab": {
          "base_uri": "https://localhost:8080/",
          "height": 53
        }
      },
      "outputs": [
        {
          "output_type": "execute_result",
          "data": {
            "text/plain": [
              "Empty DataFrame\n",
              "Columns: [Age, Sex, BP, Cholesterol, Na_to_K, Drug]\n",
              "Index: []"
            ],
            "text/html": [
              "\n",
              "  <div id=\"df-89ecbab3-4c80-445f-81b4-b452bdd3a4ff\" class=\"colab-df-container\">\n",
              "    <div>\n",
              "<style scoped>\n",
              "    .dataframe tbody tr th:only-of-type {\n",
              "        vertical-align: middle;\n",
              "    }\n",
              "\n",
              "    .dataframe tbody tr th {\n",
              "        vertical-align: top;\n",
              "    }\n",
              "\n",
              "    .dataframe thead th {\n",
              "        text-align: right;\n",
              "    }\n",
              "</style>\n",
              "<table border=\"1\" class=\"dataframe\">\n",
              "  <thead>\n",
              "    <tr style=\"text-align: right;\">\n",
              "      <th></th>\n",
              "      <th>Age</th>\n",
              "      <th>Sex</th>\n",
              "      <th>BP</th>\n",
              "      <th>Cholesterol</th>\n",
              "      <th>Na_to_K</th>\n",
              "      <th>Drug</th>\n",
              "    </tr>\n",
              "  </thead>\n",
              "  <tbody>\n",
              "  </tbody>\n",
              "</table>\n",
              "</div>\n",
              "    <div class=\"colab-df-buttons\">\n",
              "\n",
              "  <div class=\"colab-df-container\">\n",
              "    <button class=\"colab-df-convert\" onclick=\"convertToInteractive('df-89ecbab3-4c80-445f-81b4-b452bdd3a4ff')\"\n",
              "            title=\"Convert this dataframe to an interactive table.\"\n",
              "            style=\"display:none;\">\n",
              "\n",
              "  <svg xmlns=\"http://www.w3.org/2000/svg\" height=\"24px\" viewBox=\"0 -960 960 960\">\n",
              "    <path d=\"M120-120v-720h720v720H120Zm60-500h600v-160H180v160Zm220 220h160v-160H400v160Zm0 220h160v-160H400v160ZM180-400h160v-160H180v160Zm440 0h160v-160H620v160ZM180-180h160v-160H180v160Zm440 0h160v-160H620v160Z\"/>\n",
              "  </svg>\n",
              "    </button>\n",
              "\n",
              "  <style>\n",
              "    .colab-df-container {\n",
              "      display:flex;\n",
              "      gap: 12px;\n",
              "    }\n",
              "\n",
              "    .colab-df-convert {\n",
              "      background-color: #E8F0FE;\n",
              "      border: none;\n",
              "      border-radius: 50%;\n",
              "      cursor: pointer;\n",
              "      display: none;\n",
              "      fill: #1967D2;\n",
              "      height: 32px;\n",
              "      padding: 0 0 0 0;\n",
              "      width: 32px;\n",
              "    }\n",
              "\n",
              "    .colab-df-convert:hover {\n",
              "      background-color: #E2EBFA;\n",
              "      box-shadow: 0px 1px 2px rgba(60, 64, 67, 0.3), 0px 1px 3px 1px rgba(60, 64, 67, 0.15);\n",
              "      fill: #174EA6;\n",
              "    }\n",
              "\n",
              "    .colab-df-buttons div {\n",
              "      margin-bottom: 4px;\n",
              "    }\n",
              "\n",
              "    [theme=dark] .colab-df-convert {\n",
              "      background-color: #3B4455;\n",
              "      fill: #D2E3FC;\n",
              "    }\n",
              "\n",
              "    [theme=dark] .colab-df-convert:hover {\n",
              "      background-color: #434B5C;\n",
              "      box-shadow: 0px 1px 3px 1px rgba(0, 0, 0, 0.15);\n",
              "      filter: drop-shadow(0px 1px 2px rgba(0, 0, 0, 0.3));\n",
              "      fill: #FFFFFF;\n",
              "    }\n",
              "  </style>\n",
              "\n",
              "    <script>\n",
              "      const buttonEl =\n",
              "        document.querySelector('#df-89ecbab3-4c80-445f-81b4-b452bdd3a4ff button.colab-df-convert');\n",
              "      buttonEl.style.display =\n",
              "        google.colab.kernel.accessAllowed ? 'block' : 'none';\n",
              "\n",
              "      async function convertToInteractive(key) {\n",
              "        const element = document.querySelector('#df-89ecbab3-4c80-445f-81b4-b452bdd3a4ff');\n",
              "        const dataTable =\n",
              "          await google.colab.kernel.invokeFunction('convertToInteractive',\n",
              "                                                    [key], {});\n",
              "        if (!dataTable) return;\n",
              "\n",
              "        const docLinkHtml = 'Like what you see? Visit the ' +\n",
              "          '<a target=\"_blank\" href=https://colab.research.google.com/notebooks/data_table.ipynb>data table notebook</a>'\n",
              "          + ' to learn more about interactive tables.';\n",
              "        element.innerHTML = '';\n",
              "        dataTable['output_type'] = 'display_data';\n",
              "        await google.colab.output.renderOutput(dataTable, element);\n",
              "        const docLink = document.createElement('div');\n",
              "        docLink.innerHTML = docLinkHtml;\n",
              "        element.appendChild(docLink);\n",
              "      }\n",
              "    </script>\n",
              "  </div>\n",
              "\n",
              "    </div>\n",
              "  </div>\n"
            ]
          },
          "metadata": {},
          "execution_count": 59
        }
      ],
      "source": [
        "drugs[drugs.duplicated()]"
      ]
    },
    {
      "cell_type": "markdown",
      "metadata": {
        "id": "4QiJJLdp0GIA"
      },
      "source": [
        "We take a look to diffrent values for some columns"
      ]
    },
    {
      "cell_type": "code",
      "execution_count": 60,
      "metadata": {
        "id": "M-ot7OeF0GIA",
        "outputId": "e6133257-aaaf-40b0-d966-23772588b2b9",
        "colab": {
          "base_uri": "https://localhost:8080/",
          "height": 506
        }
      },
      "outputs": [
        {
          "output_type": "display_data",
          "data": {
            "text/plain": [
              "<Figure size 640x480 with 1 Axes>"
            ],
            "image/png": "[encoded data removed]"
          },
          "metadata": {}
        }
      ],
      "source": [
        "sns.countplot(data=drugs, x=\"Sex\")\n",
        "plt.suptitle('Plot based on Sex column')\n",
        "plt.show()"
      ]
    },
    {
      "cell_type": "markdown",
      "source": [
        "We have 5 different kind of drugs in this dataset, So There are 5 classes to classify:"
      ],
      "metadata": {
        "id": "QY84x7to3R0Y"
      }
    },
    {
      "cell_type": "code",
      "execution_count": 61,
      "metadata": {
        "id": "2hySIEHo0GIA",
        "outputId": "8b07945a-d004-4dc0-c6c9-692ee49c4d0b",
        "colab": {
          "base_uri": "https://localhost:8080/",
          "height": 506
        }
      },
      "outputs": [
        {
          "output_type": "display_data",
          "data": {
            "text/plain": [
              "<Figure size 640x480 with 1 Axes>"
            ],
            "image/png": "[encoded data removed]"
          },
          "metadata": {}
        }
      ],
      "source": [
        "sns.countplot(data=drugs, x=\"Drug\")\n",
        "plt.suptitle('Plot based on Drug column')\n",
        "plt.show()"
      ]
    },
    {
      "cell_type": "code",
      "execution_count": 62,
      "metadata": {
        "id": "sICppHjC0GIB",
        "outputId": "c8ac2bd1-5720-4938-d26a-077865c97344",
        "colab": {
          "base_uri": "https://localhost:8080/",
          "height": 506
        }
      },
      "outputs": [
        {
          "output_type": "display_data",
          "data": {
            "text/plain": [
              "<Figure size 640x480 with 1 Axes>"
            ],
            "image/png": "[encoded data removed]"
          },
          "metadata": {}
        }
      ],
      "source": [
        "sns.countplot(data=drugs, x=\"BP\")\n",
        "plt.suptitle('Plot based on BP column')\n",
        "plt.show()"
      ]
    },
    {
      "cell_type": "code",
      "execution_count": 63,
      "metadata": {
        "id": "odt1eZ7f0GIB",
        "outputId": "d6ae9841-f45b-4a1f-ef36-c0e3fc59e6d9",
        "colab": {
          "base_uri": "https://localhost:8080/",
          "height": 506
        }
      },
      "outputs": [
        {
          "output_type": "display_data",
          "data": {
            "text/plain": [
              "<Figure size 640x480 with 1 Axes>"
            ],
            "image/png": "[encoded data removed]"
          },
          "metadata": {}
        }
      ],
      "source": [
        "sns.countplot(data=drugs, x=\"Cholesterol\")\n",
        "plt.suptitle('Plot based on Cholesterol column')\n",
        "plt.show()"
      ]
    },
    {
      "cell_type": "markdown",
      "metadata": {
        "id": "cZYrvp-G0GIB"
      },
      "source": [
        "Using <b>drugs</b> as the Drug.csv data read by pandas, declare the following variables: <br>\n",
        "\n",
        "<ul>\n",
        "    <li> <b> X </b> as the <b> Feature Matrix </b> (data of drugs) </li>\n",
        "    <li> <b> y </b> as the <b> response vector </b> (target) </li>\n",
        "</ul>\n"
      ]
    },
    {
      "cell_type": "markdown",
      "metadata": {
        "id": "8-tW-Jdf0GIB"
      },
      "source": [
        "Remove the column containing the target name since it doesn't contain numeric values.\n"
      ]
    },
    {
      "cell_type": "code",
      "execution_count": 64,
      "metadata": {
        "id": "7_kM-Rrk0GIC",
        "outputId": "600176ad-2f6a-47cd-e610-3a9dba05c4e5",
        "colab": {
          "base_uri": "https://localhost:8080/"
        }
      },
      "outputs": [
        {
          "output_type": "execute_result",
          "data": {
            "text/plain": [
              "array([[23, 'F', 'HIGH', 'HIGH', 25.355],\n",
              "       [47, 'M', 'LOW', 'HIGH', 13.093],\n",
              "       [47, 'M', 'LOW', 'HIGH', 10.114],\n",
              "       [28, 'F', 'NORMAL', 'HIGH', 7.798],\n",
              "       [61, 'F', 'LOW', 'HIGH', 18.043],\n",
              "       [22, 'F', 'NORMAL', 'HIGH', 8.607],\n",
              "       [49, 'F', 'NORMAL', 'HIGH', 16.275],\n",
              "       [41, 'M', 'LOW', 'HIGH', 11.037],\n",
              "       [60, 'M', 'NORMAL', 'HIGH', 15.171],\n",
              "       [43, 'M', 'LOW', 'NORMAL', 19.368],\n",
              "       [47, 'F', 'LOW', 'HIGH', 11.767],\n",
              "       [34, 'F', 'HIGH', 'NORMAL', 19.199],\n",
              "       [43, 'M', 'LOW', 'HIGH', 15.376],\n",
              "       [74, 'F', 'LOW', 'HIGH', 20.942],\n",
              "       [50, 'F', 'NORMAL', 'HIGH', 12.703],\n",
              "       [16, 'F', 'HIGH', 'NORMAL', 15.516],\n",
              "       [69, 'M', 'LOW', 'NORMAL', 11.455],\n",
              "       [43, 'M', 'HIGH', 'HIGH', 13.972],\n",
              "       [23, 'M', 'LOW', 'HIGH', 7.298],\n",
              "       [32, 'F', 'HIGH', 'NORMAL', 25.974],\n",
              "       [57, 'M', 'LOW', 'NORMAL', 19.128],\n",
              "       [63, 'M', 'NORMAL', 'HIGH', 25.917],\n",
              "       [47, 'M', 'LOW', 'NORMAL', 30.568],\n",
              "       [48, 'F', 'LOW', 'HIGH', 15.036],\n",
              "       [33, 'F', 'LOW', 'HIGH', 33.486],\n",
              "       [28, 'F', 'HIGH', 'NORMAL', 18.809],\n",
              "       [31, 'M', 'HIGH', 'HIGH', 30.366],\n",
              "       [49, 'F', 'NORMAL', 'NORMAL', 9.381],\n",
              "       [39, 'F', 'LOW', 'NORMAL', 22.697],\n",
              "       [45, 'M', 'LOW', 'HIGH', 17.951],\n",
              "       [18, 'F', 'NORMAL', 'NORMAL', 8.75],\n",
              "       [74, 'M', 'HIGH', 'HIGH', 9.567],\n",
              "       [49, 'M', 'LOW', 'NORMAL', 11.014],\n",
              "       [65, 'F', 'HIGH', 'NORMAL', 31.876],\n",
              "       [53, 'M', 'NORMAL', 'HIGH', 14.133],\n",
              "       [46, 'M', 'NORMAL', 'NORMAL', 7.285],\n",
              "       [32, 'M', 'HIGH', 'NORMAL', 9.445],\n",
              "       [39, 'M', 'LOW', 'NORMAL', 13.938],\n",
              "       [39, 'F', 'NORMAL', 'NORMAL', 9.709],\n",
              "       [15, 'M', 'NORMAL', 'HIGH', 9.084],\n",
              "       [73, 'F', 'NORMAL', 'HIGH', 19.221],\n",
              "       [58, 'F', 'HIGH', 'NORMAL', 14.239],\n",
              "       [50, 'M', 'NORMAL', 'NORMAL', 15.79],\n",
              "       [23, 'M', 'NORMAL', 'HIGH', 12.26],\n",
              "       [50, 'F', 'NORMAL', 'NORMAL', 12.295],\n",
              "       [66, 'F', 'NORMAL', 'NORMAL', 8.107],\n",
              "       [37, 'F', 'HIGH', 'HIGH', 13.091],\n",
              "       [68, 'M', 'LOW', 'HIGH', 10.291],\n",
              "       [23, 'M', 'NORMAL', 'HIGH', 31.686],\n",
              "       [28, 'F', 'LOW', 'HIGH', 19.796],\n",
              "       [58, 'F', 'HIGH', 'HIGH', 19.416],\n",
              "       [67, 'M', 'NORMAL', 'NORMAL', 10.898],\n",
              "       [62, 'M', 'LOW', 'NORMAL', 27.183],\n",
              "       [24, 'F', 'HIGH', 'NORMAL', 18.457],\n",
              "       [68, 'F', 'HIGH', 'NORMAL', 10.189],\n",
              "       [26, 'F', 'LOW', 'HIGH', 14.16],\n",
              "       [65, 'M', 'HIGH', 'NORMAL', 11.34],\n",
              "       [40, 'M', 'HIGH', 'HIGH', 27.826],\n",
              "       [60, 'M', 'NORMAL', 'NORMAL', 10.091],\n",
              "       [34, 'M', 'HIGH', 'HIGH', 18.703],\n",
              "       [38, 'F', 'LOW', 'NORMAL', 29.875],\n",
              "       [24, 'M', 'HIGH', 'NORMAL', 9.475],\n",
              "       [67, 'M', 'LOW', 'NORMAL', 20.693],\n",
              "       [45, 'M', 'LOW', 'NORMAL', 8.37],\n",
              "       [60, 'F', 'HIGH', 'HIGH', 13.303],\n",
              "       [68, 'F', 'NORMAL', 'NORMAL', 27.05],\n",
              "       [29, 'M', 'HIGH', 'HIGH', 12.856],\n",
              "       [17, 'M', 'NORMAL', 'NORMAL', 10.832],\n",
              "       [54, 'M', 'NORMAL', 'HIGH', 24.658],\n",
              "       [18, 'F', 'HIGH', 'NORMAL', 24.276],\n",
              "       [70, 'M', 'HIGH', 'HIGH', 13.967],\n",
              "       [28, 'F', 'NORMAL', 'HIGH', 19.675],\n",
              "       [24, 'F', 'NORMAL', 'HIGH', 10.605],\n",
              "       [41, 'F', 'NORMAL', 'NORMAL', 22.905],\n",
              "       [31, 'M', 'HIGH', 'NORMAL', 17.069],\n",
              "       [26, 'M', 'LOW', 'NORMAL', 20.909],\n",
              "       [36, 'F', 'HIGH', 'HIGH', 11.198],\n",
              "       [26, 'F', 'HIGH', 'NORMAL', 19.161],\n",
              "       [19, 'F', 'HIGH', 'HIGH', 13.313],\n",
              "       [32, 'F', 'LOW', 'NORMAL', 10.84],\n",
              "       [60, 'M', 'HIGH', 'HIGH', 13.934],\n",
              "       [64, 'M', 'NORMAL', 'HIGH', 7.761],\n",
              "       [32, 'F', 'LOW', 'HIGH', 9.712],\n",
              "       [38, 'F', 'HIGH', 'NORMAL', 11.326],\n",
              "       [47, 'F', 'LOW', 'HIGH', 10.067],\n",
              "       [59, 'M', 'HIGH', 'HIGH', 13.935],\n",
              "       [51, 'F', 'NORMAL', 'HIGH', 13.597],\n",
              "       [69, 'M', 'LOW', 'HIGH', 15.478],\n",
              "       [37, 'F', 'HIGH', 'NORMAL', 23.091],\n",
              "       [50, 'F', 'NORMAL', 'NORMAL', 17.211],\n",
              "       [62, 'M', 'NORMAL', 'HIGH', 16.594],\n",
              "       [41, 'M', 'HIGH', 'NORMAL', 15.156],\n",
              "       [29, 'F', 'HIGH', 'HIGH', 29.45],\n",
              "       [42, 'F', 'LOW', 'NORMAL', 29.271],\n",
              "       [56, 'M', 'LOW', 'HIGH', 15.015],\n",
              "       [36, 'M', 'LOW', 'NORMAL', 11.424],\n",
              "       [58, 'F', 'LOW', 'HIGH', 38.247],\n",
              "       [56, 'F', 'HIGH', 'HIGH', 25.395],\n",
              "       [20, 'M', 'HIGH', 'NORMAL', 35.639],\n",
              "       [15, 'F', 'HIGH', 'NORMAL', 16.725],\n",
              "       [31, 'M', 'HIGH', 'NORMAL', 11.871],\n",
              "       [45, 'F', 'HIGH', 'HIGH', 12.854],\n",
              "       [28, 'F', 'LOW', 'HIGH', 13.127],\n",
              "       [56, 'M', 'NORMAL', 'HIGH', 8.966],\n",
              "       [22, 'M', 'HIGH', 'NORMAL', 28.294],\n",
              "       [37, 'M', 'LOW', 'NORMAL', 8.968],\n",
              "       [22, 'M', 'NORMAL', 'HIGH', 11.953],\n",
              "       [42, 'M', 'LOW', 'HIGH', 20.013],\n",
              "       [72, 'M', 'HIGH', 'NORMAL', 9.677],\n",
              "       [23, 'M', 'NORMAL', 'HIGH', 16.85],\n",
              "       [50, 'M', 'HIGH', 'HIGH', 7.49],\n",
              "       [47, 'F', 'NORMAL', 'NORMAL', 6.683],\n",
              "       [35, 'M', 'LOW', 'NORMAL', 9.17],\n",
              "       [65, 'F', 'LOW', 'NORMAL', 13.769],\n",
              "       [20, 'F', 'NORMAL', 'NORMAL', 9.281],\n",
              "       [51, 'M', 'HIGH', 'HIGH', 18.295],\n",
              "       [67, 'M', 'NORMAL', 'NORMAL', 9.514],\n",
              "       [40, 'F', 'NORMAL', 'HIGH', 10.103],\n",
              "       [32, 'F', 'HIGH', 'NORMAL', 10.292],\n",
              "       [61, 'F', 'HIGH', 'HIGH', 25.475],\n",
              "       [28, 'M', 'NORMAL', 'HIGH', 27.064],\n",
              "       [15, 'M', 'HIGH', 'NORMAL', 17.206],\n",
              "       [34, 'M', 'NORMAL', 'HIGH', 22.456],\n",
              "       [36, 'F', 'NORMAL', 'HIGH', 16.753],\n",
              "       [53, 'F', 'HIGH', 'NORMAL', 12.495],\n",
              "       [19, 'F', 'HIGH', 'NORMAL', 25.969],\n",
              "       [66, 'M', 'HIGH', 'HIGH', 16.347],\n",
              "       [35, 'M', 'NORMAL', 'NORMAL', 7.845],\n",
              "       [47, 'M', 'LOW', 'NORMAL', 33.542],\n",
              "       [32, 'F', 'NORMAL', 'HIGH', 7.477],\n",
              "       [70, 'F', 'NORMAL', 'HIGH', 20.489],\n",
              "       [52, 'M', 'LOW', 'NORMAL', 32.922],\n",
              "       [49, 'M', 'LOW', 'NORMAL', 13.598],\n",
              "       [24, 'M', 'NORMAL', 'HIGH', 25.786],\n",
              "       [42, 'F', 'HIGH', 'HIGH', 21.036],\n",
              "       [74, 'M', 'LOW', 'NORMAL', 11.939],\n",
              "       [55, 'F', 'HIGH', 'HIGH', 10.977],\n",
              "       [35, 'F', 'HIGH', 'HIGH', 12.894],\n",
              "       [51, 'M', 'HIGH', 'NORMAL', 11.343],\n",
              "       [69, 'F', 'NORMAL', 'HIGH', 10.065],\n",
              "       [49, 'M', 'HIGH', 'NORMAL', 6.269],\n",
              "       [64, 'F', 'LOW', 'NORMAL', 25.741],\n",
              "       [60, 'M', 'HIGH', 'NORMAL', 8.621],\n",
              "       [74, 'M', 'HIGH', 'NORMAL', 15.436],\n",
              "       [39, 'M', 'HIGH', 'HIGH', 9.664],\n",
              "       [61, 'M', 'NORMAL', 'HIGH', 9.443],\n",
              "       [37, 'F', 'LOW', 'NORMAL', 12.006],\n",
              "       [26, 'F', 'HIGH', 'NORMAL', 12.307],\n",
              "       [61, 'F', 'LOW', 'NORMAL', 7.34],\n",
              "       [22, 'M', 'LOW', 'HIGH', 8.151],\n",
              "       [49, 'M', 'HIGH', 'NORMAL', 8.7],\n",
              "       [68, 'M', 'HIGH', 'HIGH', 11.009],\n",
              "       [55, 'M', 'NORMAL', 'NORMAL', 7.261],\n",
              "       [72, 'F', 'LOW', 'NORMAL', 14.642],\n",
              "       [37, 'M', 'LOW', 'NORMAL', 16.724],\n",
              "       [49, 'M', 'LOW', 'HIGH', 10.537],\n",
              "       [31, 'M', 'HIGH', 'NORMAL', 11.227],\n",
              "       [53, 'M', 'LOW', 'HIGH', 22.963],\n",
              "       [59, 'F', 'LOW', 'HIGH', 10.444],\n",
              "       [34, 'F', 'LOW', 'NORMAL', 12.923],\n",
              "       [30, 'F', 'NORMAL', 'HIGH', 10.443],\n",
              "       [57, 'F', 'HIGH', 'NORMAL', 9.945],\n",
              "       [43, 'M', 'NORMAL', 'NORMAL', 12.859],\n",
              "       [21, 'F', 'HIGH', 'NORMAL', 28.632],\n",
              "       [16, 'M', 'HIGH', 'NORMAL', 19.007],\n",
              "       [38, 'M', 'LOW', 'HIGH', 18.295],\n",
              "       [58, 'F', 'LOW', 'HIGH', 26.645],\n",
              "       [57, 'F', 'NORMAL', 'HIGH', 14.216],\n",
              "       [51, 'F', 'LOW', 'NORMAL', 23.003],\n",
              "       [20, 'F', 'HIGH', 'HIGH', 11.262],\n",
              "       [28, 'F', 'NORMAL', 'HIGH', 12.879],\n",
              "       [45, 'M', 'LOW', 'NORMAL', 10.017],\n",
              "       [39, 'F', 'NORMAL', 'NORMAL', 17.225],\n",
              "       [41, 'F', 'LOW', 'NORMAL', 18.739],\n",
              "       [42, 'M', 'HIGH', 'NORMAL', 12.766],\n",
              "       [73, 'F', 'HIGH', 'HIGH', 18.348],\n",
              "       [48, 'M', 'HIGH', 'NORMAL', 10.446],\n",
              "       [25, 'M', 'NORMAL', 'HIGH', 19.011],\n",
              "       [39, 'M', 'NORMAL', 'HIGH', 15.969],\n",
              "       [67, 'F', 'NORMAL', 'HIGH', 15.891],\n",
              "       [22, 'F', 'HIGH', 'NORMAL', 22.818],\n",
              "       [59, 'F', 'NORMAL', 'HIGH', 13.884],\n",
              "       [20, 'F', 'LOW', 'NORMAL', 11.686],\n",
              "       [36, 'F', 'HIGH', 'NORMAL', 15.49],\n",
              "       [18, 'F', 'HIGH', 'HIGH', 37.188],\n",
              "       [57, 'F', 'NORMAL', 'NORMAL', 25.893],\n",
              "       [70, 'M', 'HIGH', 'HIGH', 9.849],\n",
              "       [47, 'M', 'HIGH', 'HIGH', 10.403],\n",
              "       [65, 'M', 'HIGH', 'NORMAL', 34.997],\n",
              "       [64, 'M', 'HIGH', 'NORMAL', 20.932],\n",
              "       [58, 'M', 'HIGH', 'HIGH', 18.991],\n",
              "       [23, 'M', 'HIGH', 'HIGH', 8.011],\n",
              "       [72, 'M', 'LOW', 'HIGH', 16.31],\n",
              "       [72, 'M', 'LOW', 'HIGH', 6.769],\n",
              "       [46, 'F', 'HIGH', 'HIGH', 34.686],\n",
              "       [56, 'F', 'LOW', 'HIGH', 11.567],\n",
              "       [16, 'M', 'LOW', 'HIGH', 12.006],\n",
              "       [52, 'M', 'NORMAL', 'HIGH', 9.894],\n",
              "       [23, 'M', 'NORMAL', 'NORMAL', 14.02],\n",
              "       [40, 'F', 'LOW', 'NORMAL', 11.349]], dtype=object)"
            ]
          },
          "metadata": {},
          "execution_count": 64
        }
      ],
      "source": [
        "X = drugs[['Age', 'Sex', 'BP', 'Cholesterol', 'Na_to_K']].values\n",
        "X"
      ]
    },
    {
      "cell_type": "markdown",
      "metadata": {
        "id": "vSwUr5mm0GIC"
      },
      "source": [
        "Some features in this dataset are categorical, such as **Sex** or **BP**.\n",
        "\n",
        "Sklearn Decision Trees does not handle categorical variables.\n",
        "\n",
        "We Use Label Encode for covert these feature to numerical values.\n"
      ]
    },
    {
      "cell_type": "code",
      "execution_count": 65,
      "metadata": {
        "id": "d6JBTkJl0GIC"
      },
      "outputs": [],
      "source": [
        "le_sex = LabelEncoder()\n",
        "le_sex.fit(['F', 'M'])\n",
        "X[:,1] = le_sex.transform(X[:,1])\n",
        "\n",
        "\n",
        "le_BP = LabelEncoder()\n",
        "le_BP.fit(['LOW', 'NORMAL', 'HIGH'])\n",
        "X[:,2] = le_BP.transform(X[:,2])\n",
        "\n",
        "\n",
        "le_Chol = LabelEncoder()\n",
        "le_Chol.fit(['NORMAL', 'HIGH'])\n",
        "X[:,3] = le_Chol.transform(X[:,3])"
      ]
    },
    {
      "cell_type": "markdown",
      "metadata": {
        "id": "Pu7Q-Jvt0GIC"
      },
      "source": [
        "Now , all of our data is numerical"
      ]
    },
    {
      "cell_type": "code",
      "execution_count": 66,
      "metadata": {
        "id": "CCOJE6J70GID",
        "outputId": "805e1034-9c8a-4c52-e86d-82eceef4b814",
        "colab": {
          "base_uri": "https://localhost:8080/"
        }
      },
      "outputs": [
        {
          "output_type": "execute_result",
          "data": {
            "text/plain": [
              "array([[23, 0, 0, 0, 25.355],\n",
              "       [47, 1, 1, 0, 13.093],\n",
              "       [47, 1, 1, 0, 10.114],\n",
              "       [28, 0, 2, 0, 7.798],\n",
              "       [61, 0, 1, 0, 18.043],\n",
              "       [22, 0, 2, 0, 8.607],\n",
              "       [49, 0, 2, 0, 16.275],\n",
              "       [41, 1, 1, 0, 11.037],\n",
              "       [60, 1, 2, 0, 15.171],\n",
              "       [43, 1, 1, 1, 19.368],\n",
              "       [47, 0, 1, 0, 11.767],\n",
              "       [34, 0, 0, 1, 19.199],\n",
              "       [43, 1, 1, 0, 15.376],\n",
              "       [74, 0, 1, 0, 20.942],\n",
              "       [50, 0, 2, 0, 12.703],\n",
              "       [16, 0, 0, 1, 15.516],\n",
              "       [69, 1, 1, 1, 11.455],\n",
              "       [43, 1, 0, 0, 13.972],\n",
              "       [23, 1, 1, 0, 7.298],\n",
              "       [32, 0, 0, 1, 25.974],\n",
              "       [57, 1, 1, 1, 19.128],\n",
              "       [63, 1, 2, 0, 25.917],\n",
              "       [47, 1, 1, 1, 30.568],\n",
              "       [48, 0, 1, 0, 15.036],\n",
              "       [33, 0, 1, 0, 33.486],\n",
              "       [28, 0, 0, 1, 18.809],\n",
              "       [31, 1, 0, 0, 30.366],\n",
              "       [49, 0, 2, 1, 9.381],\n",
              "       [39, 0, 1, 1, 22.697],\n",
              "       [45, 1, 1, 0, 17.951],\n",
              "       [18, 0, 2, 1, 8.75],\n",
              "       [74, 1, 0, 0, 9.567],\n",
              "       [49, 1, 1, 1, 11.014],\n",
              "       [65, 0, 0, 1, 31.876],\n",
              "       [53, 1, 2, 0, 14.133],\n",
              "       [46, 1, 2, 1, 7.285],\n",
              "       [32, 1, 0, 1, 9.445],\n",
              "       [39, 1, 1, 1, 13.938],\n",
              "       [39, 0, 2, 1, 9.709],\n",
              "       [15, 1, 2, 0, 9.084],\n",
              "       [73, 0, 2, 0, 19.221],\n",
              "       [58, 0, 0, 1, 14.239],\n",
              "       [50, 1, 2, 1, 15.79],\n",
              "       [23, 1, 2, 0, 12.26],\n",
              "       [50, 0, 2, 1, 12.295],\n",
              "       [66, 0, 2, 1, 8.107],\n",
              "       [37, 0, 0, 0, 13.091],\n",
              "       [68, 1, 1, 0, 10.291],\n",
              "       [23, 1, 2, 0, 31.686],\n",
              "       [28, 0, 1, 0, 19.796],\n",
              "       [58, 0, 0, 0, 19.416],\n",
              "       [67, 1, 2, 1, 10.898],\n",
              "       [62, 1, 1, 1, 27.183],\n",
              "       [24, 0, 0, 1, 18.457],\n",
              "       [68, 0, 0, 1, 10.189],\n",
              "       [26, 0, 1, 0, 14.16],\n",
              "       [65, 1, 0, 1, 11.34],\n",
              "       [40, 1, 0, 0, 27.826],\n",
              "       [60, 1, 2, 1, 10.091],\n",
              "       [34, 1, 0, 0, 18.703],\n",
              "       [38, 0, 1, 1, 29.875],\n",
              "       [24, 1, 0, 1, 9.475],\n",
              "       [67, 1, 1, 1, 20.693],\n",
              "       [45, 1, 1, 1, 8.37],\n",
              "       [60, 0, 0, 0, 13.303],\n",
              "       [68, 0, 2, 1, 27.05],\n",
              "       [29, 1, 0, 0, 12.856],\n",
              "       [17, 1, 2, 1, 10.832],\n",
              "       [54, 1, 2, 0, 24.658],\n",
              "       [18, 0, 0, 1, 24.276],\n",
              "       [70, 1, 0, 0, 13.967],\n",
              "       [28, 0, 2, 0, 19.675],\n",
              "       [24, 0, 2, 0, 10.605],\n",
              "       [41, 0, 2, 1, 22.905],\n",
              "       [31, 1, 0, 1, 17.069],\n",
              "       [26, 1, 1, 1, 20.909],\n",
              "       [36, 0, 0, 0, 11.198],\n",
              "       [26, 0, 0, 1, 19.161],\n",
              "       [19, 0, 0, 0, 13.313],\n",
              "       [32, 0, 1, 1, 10.84],\n",
              "       [60, 1, 0, 0, 13.934],\n",
              "       [64, 1, 2, 0, 7.761],\n",
              "       [32, 0, 1, 0, 9.712],\n",
              "       [38, 0, 0, 1, 11.326],\n",
              "       [47, 0, 1, 0, 10.067],\n",
              "       [59, 1, 0, 0, 13.935],\n",
              "       [51, 0, 2, 0, 13.597],\n",
              "       [69, 1, 1, 0, 15.478],\n",
              "       [37, 0, 0, 1, 23.091],\n",
              "       [50, 0, 2, 1, 17.211],\n",
              "       [62, 1, 2, 0, 16.594],\n",
              "       [41, 1, 0, 1, 15.156],\n",
              "       [29, 0, 0, 0, 29.45],\n",
              "       [42, 0, 1, 1, 29.271],\n",
              "       [56, 1, 1, 0, 15.015],\n",
              "       [36, 1, 1, 1, 11.424],\n",
              "       [58, 0, 1, 0, 38.247],\n",
              "       [56, 0, 0, 0, 25.395],\n",
              "       [20, 1, 0, 1, 35.639],\n",
              "       [15, 0, 0, 1, 16.725],\n",
              "       [31, 1, 0, 1, 11.871],\n",
              "       [45, 0, 0, 0, 12.854],\n",
              "       [28, 0, 1, 0, 13.127],\n",
              "       [56, 1, 2, 0, 8.966],\n",
              "       [22, 1, 0, 1, 28.294],\n",
              "       [37, 1, 1, 1, 8.968],\n",
              "       [22, 1, 2, 0, 11.953],\n",
              "       [42, 1, 1, 0, 20.013],\n",
              "       [72, 1, 0, 1, 9.677],\n",
              "       [23, 1, 2, 0, 16.85],\n",
              "       [50, 1, 0, 0, 7.49],\n",
              "       [47, 0, 2, 1, 6.683],\n",
              "       [35, 1, 1, 1, 9.17],\n",
              "       [65, 0, 1, 1, 13.769],\n",
              "       [20, 0, 2, 1, 9.281],\n",
              "       [51, 1, 0, 0, 18.295],\n",
              "       [67, 1, 2, 1, 9.514],\n",
              "       [40, 0, 2, 0, 10.103],\n",
              "       [32, 0, 0, 1, 10.292],\n",
              "       [61, 0, 0, 0, 25.475],\n",
              "       [28, 1, 2, 0, 27.064],\n",
              "       [15, 1, 0, 1, 17.206],\n",
              "       [34, 1, 2, 0, 22.456],\n",
              "       [36, 0, 2, 0, 16.753],\n",
              "       [53, 0, 0, 1, 12.495],\n",
              "       [19, 0, 0, 1, 25.969],\n",
              "       [66, 1, 0, 0, 16.347],\n",
              "       [35, 1, 2, 1, 7.845],\n",
              "       [47, 1, 1, 1, 33.542],\n",
              "       [32, 0, 2, 0, 7.477],\n",
              "       [70, 0, 2, 0, 20.489],\n",
              "       [52, 1, 1, 1, 32.922],\n",
              "       [49, 1, 1, 1, 13.598],\n",
              "       [24, 1, 2, 0, 25.786],\n",
              "       [42, 0, 0, 0, 21.036],\n",
              "       [74, 1, 1, 1, 11.939],\n",
              "       [55, 0, 0, 0, 10.977],\n",
              "       [35, 0, 0, 0, 12.894],\n",
              "       [51, 1, 0, 1, 11.343],\n",
              "       [69, 0, 2, 0, 10.065],\n",
              "       [49, 1, 0, 1, 6.269],\n",
              "       [64, 0, 1, 1, 25.741],\n",
              "       [60, 1, 0, 1, 8.621],\n",
              "       [74, 1, 0, 1, 15.436],\n",
              "       [39, 1, 0, 0, 9.664],\n",
              "       [61, 1, 2, 0, 9.443],\n",
              "       [37, 0, 1, 1, 12.006],\n",
              "       [26, 0, 0, 1, 12.307],\n",
              "       [61, 0, 1, 1, 7.34],\n",
              "       [22, 1, 1, 0, 8.151],\n",
              "       [49, 1, 0, 1, 8.7],\n",
              "       [68, 1, 0, 0, 11.009],\n",
              "       [55, 1, 2, 1, 7.261],\n",
              "       [72, 0, 1, 1, 14.642],\n",
              "       [37, 1, 1, 1, 16.724],\n",
              "       [49, 1, 1, 0, 10.537],\n",
              "       [31, 1, 0, 1, 11.227],\n",
              "       [53, 1, 1, 0, 22.963],\n",
              "       [59, 0, 1, 0, 10.444],\n",
              "       [34, 0, 1, 1, 12.923],\n",
              "       [30, 0, 2, 0, 10.443],\n",
              "       [57, 0, 0, 1, 9.945],\n",
              "       [43, 1, 2, 1, 12.859],\n",
              "       [21, 0, 0, 1, 28.632],\n",
              "       [16, 1, 0, 1, 19.007],\n",
              "       [38, 1, 1, 0, 18.295],\n",
              "       [58, 0, 1, 0, 26.645],\n",
              "       [57, 0, 2, 0, 14.216],\n",
              "       [51, 0, 1, 1, 23.003],\n",
              "       [20, 0, 0, 0, 11.262],\n",
              "       [28, 0, 2, 0, 12.879],\n",
              "       [45, 1, 1, 1, 10.017],\n",
              "       [39, 0, 2, 1, 17.225],\n",
              "       [41, 0, 1, 1, 18.739],\n",
              "       [42, 1, 0, 1, 12.766],\n",
              "       [73, 0, 0, 0, 18.348],\n",
              "       [48, 1, 0, 1, 10.446],\n",
              "       [25, 1, 2, 0, 19.011],\n",
              "       [39, 1, 2, 0, 15.969],\n",
              "       [67, 0, 2, 0, 15.891],\n",
              "       [22, 0, 0, 1, 22.818],\n",
              "       [59, 0, 2, 0, 13.884],\n",
              "       [20, 0, 1, 1, 11.686],\n",
              "       [36, 0, 0, 1, 15.49],\n",
              "       [18, 0, 0, 0, 37.188],\n",
              "       [57, 0, 2, 1, 25.893],\n",
              "       [70, 1, 0, 0, 9.849],\n",
              "       [47, 1, 0, 0, 10.403],\n",
              "       [65, 1, 0, 1, 34.997],\n",
              "       [64, 1, 0, 1, 20.932],\n",
              "       [58, 1, 0, 0, 18.991],\n",
              "       [23, 1, 0, 0, 8.011],\n",
              "       [72, 1, 1, 0, 16.31],\n",
              "       [72, 1, 1, 0, 6.769],\n",
              "       [46, 0, 0, 0, 34.686],\n",
              "       [56, 0, 1, 0, 11.567],\n",
              "       [16, 1, 1, 0, 12.006],\n",
              "       [52, 1, 2, 0, 9.894],\n",
              "       [23, 1, 2, 1, 14.02],\n",
              "       [40, 0, 1, 1, 11.349]], dtype=object)"
            ]
          },
          "metadata": {},
          "execution_count": 66
        }
      ],
      "source": [
        "X"
      ]
    },
    {
      "cell_type": "markdown",
      "metadata": {
        "id": "eiQfyS_F0GID"
      },
      "source": [
        "Now we can fill the target variable.\n"
      ]
    },
    {
      "cell_type": "code",
      "execution_count": 67,
      "metadata": {
        "id": "9DhrRz_g0GID",
        "outputId": "43d4608a-794f-415c-f281-e7ee0d8aa103",
        "colab": {
          "base_uri": "https://localhost:8080/"
        }
      },
      "outputs": [
        {
          "output_type": "execute_result",
          "data": {
            "text/plain": [
              "0    drugY\n",
              "1    drugC\n",
              "2    drugC\n",
              "3    drugX\n",
              "4    drugY\n",
              "Name: Drug, dtype: object"
            ]
          },
          "metadata": {},
          "execution_count": 67
        }
      ],
      "source": [
        "y = drugs[\"Drug\"]\n",
        "y[0:5]"
      ]
    },
    {
      "cell_type": "markdown",
      "metadata": {
        "id": "ict6OK-h0GID"
      },
      "source": [
        "\n",
        "\n",
        "**Spliting Dataset**\n"
      ]
    },
    {
      "cell_type": "code",
      "execution_count": 68,
      "metadata": {
        "id": "bOoO0iSl0GID"
      },
      "outputs": [],
      "source": [
        "X_train, X_test, y_train, y_test = train_test_split(X, y, test_size=0.2, random_state=42)"
      ]
    },
    {
      "cell_type": "markdown",
      "source": [
        "Now it's time to train models! We know that the minimum for f1-score is $\\frac{2.5}{number of classes}$. There are 5 classes here so the threshold will be $\\frac{2.5}{5}=0.5$."
      ],
      "metadata": {
        "id": "nllpQX3Q6ODR"
      }
    },
    {
      "cell_type": "markdown",
      "source": [
        "# Multiclass SVM"
      ],
      "metadata": {
        "id": "rXvX7v4T5bHH"
      }
    },
    {
      "cell_type": "markdown",
      "source": [
        "The first model we try is SVM. Here we use linear kernel and our decision function shape is ovr. C is regularization parameter. The strength of the regularization is inversely proportional to C:"
      ],
      "metadata": {
        "id": "ys2gshRYbrHk"
      }
    },
    {
      "cell_type": "code",
      "source": [
        "from sklearn.svm import SVC\n",
        "model = SVC(C=2,kernel='linear',decision_function_shape = \"ovr\",max_iter=5000, random_state=42)\n",
        "model.fit(X_train, y_train)"
      ],
      "metadata": {
        "colab": {
          "base_uri": "https://localhost:8080/",
          "height": 74
        },
        "id": "lCTNTJ1N5DHb",
        "outputId": "e44fa716-18bf-4a17-ad8d-1f47436fa7d9"
      },
      "execution_count": 69,
      "outputs": [
        {
          "output_type": "execute_result",
          "data": {
            "text/plain": [
              "SVC(C=2, kernel='linear', max_iter=5000, random_state=42)"
            ],
            "text/html": [
              "<style>#sk-container-id-10 {color: black;background-color: white;}#sk-container-id-10 pre{padding: 0;}#sk-container-id-10 div.sk-toggleable {background-color: white;}#sk-container-id-10 label.sk-toggleable__label {cursor: pointer;display: block;width: 100%;margin-bottom: 0;padding: 0.3em;box-sizing: border-box;text-align: center;}#sk-container-id-10 label.sk-toggleable__label-arrow:before {content: \"▸\";float: left;margin-right: 0.25em;color: #696969;}#sk-container-id-10 label.sk-toggleable__label-arrow:hover:before {color: black;}#sk-container-id-10 div.sk-estimator:hover label.sk-toggleable__label-arrow:before {color: black;}#sk-container-id-10 div.sk-toggleable__content {max-height: 0;max-width: 0;overflow: hidden;text-align: left;background-color: #f0f8ff;}#sk-container-id-10 div.sk-toggleable__content pre {margin: 0.2em;color: black;border-radius: 0.25em;background-color: #f0f8ff;}#sk-container-id-10 input.sk-toggleable__control:checked~div.sk-toggleable__content {max-height: 200px;max-width: 100%;overflow: auto;}#sk-container-id-10 input.sk-toggleable__control:checked~label.sk-toggleable__label-arrow:before {content: \"▾\";}#sk-container-id-10 div.sk-estimator input.sk-toggleable__control:checked~label.sk-toggleable__label {background-color: #d4ebff;}#sk-container-id-10 div.sk-label input.sk-toggleable__control:checked~label.sk-toggleable__label {background-color: #d4ebff;}#sk-container-id-10 input.sk-hidden--visually {border: 0;clip: rect(1px 1px 1px 1px);clip: rect(1px, 1px, 1px, 1px);height: 1px;margin: -1px;overflow: hidden;padding: 0;position: absolute;width: 1px;}#sk-container-id-10 div.sk-estimator {font-family: monospace;background-color: #f0f8ff;border: 1px dotted black;border-radius: 0.25em;box-sizing: border-box;margin-bottom: 0.5em;}#sk-container-id-10 div.sk-estimator:hover {background-color: #d4ebff;}#sk-container-id-10 div.sk-parallel-item::after {content: \"\";width: 100%;border-bottom: 1px solid gray;flex-grow: 1;}#sk-container-id-10 div.sk-label:hover label.sk-toggleable__label {background-color: #d4ebff;}#sk-container-id-10 div.sk-serial::before {content: \"\";position: absolute;border-left: 1px solid gray;box-sizing: border-box;top: 0;bottom: 0;left: 50%;z-index: 0;}#sk-container-id-10 div.sk-serial {display: flex;flex-direction: column;align-items: center;background-color: white;padding-right: 0.2em;padding-left: 0.2em;position: relative;}#sk-container-id-10 div.sk-item {position: relative;z-index: 1;}#sk-container-id-10 div.sk-parallel {display: flex;align-items: stretch;justify-content: center;background-color: white;position: relative;}#sk-container-id-10 div.sk-item::before, #sk-container-id-10 div.sk-parallel-item::before {content: \"\";position: absolute;border-left: 1px solid gray;box-sizing: border-box;top: 0;bottom: 0;left: 50%;z-index: -1;}#sk-container-id-10 div.sk-parallel-item {display: flex;flex-direction: column;z-index: 1;position: relative;background-color: white;}#sk-container-id-10 div.sk-parallel-item:first-child::after {align-self: flex-end;width: 50%;}#sk-container-id-10 div.sk-parallel-item:last-child::after {align-self: flex-start;width: 50%;}#sk-container-id-10 div.sk-parallel-item:only-child::after {width: 0;}#sk-container-id-10 div.sk-dashed-wrapped {border: 1px dashed gray;margin: 0 0.4em 0.5em 0.4em;box-sizing: border-box;padding-bottom: 0.4em;background-color: white;}#sk-container-id-10 div.sk-label label {font-family: monospace;font-weight: bold;display: inline-block;line-height: 1.2em;}#sk-container-id-10 div.sk-label-container {text-align: center;}#sk-container-id-10 div.sk-container {/* jupyter's `normalize.less` sets `[hidden] { display: none; }` but bootstrap.min.css set `[hidden] { display: none !important; }` so we also need the `!important` here to be able to override the default hidden behavior on the sphinx rendered scikit-learn.org. See: https://github.com/scikit-learn/scikit-learn/issues/21755 */display: inline-block !important;position: relative;}#sk-container-id-10 div.sk-text-repr-fallback {display: none;}</style><div id=\"sk-container-id-10\" class=\"sk-top-container\"><div class=\"sk-text-repr-fallback\"><pre>SVC(C=2, kernel=&#x27;linear&#x27;, max_iter=5000, random_state=42)</pre><b>In a Jupyter environment, please rerun this cell to show the HTML representation or trust the notebook. <br />On GitHub, the HTML representation is unable to render, please try loading this page with nbviewer.org.</b></div><div class=\"sk-container\" hidden><div class=\"sk-item\"><div class=\"sk-estimator sk-toggleable\"><input class=\"sk-toggleable__control sk-hidden--visually\" id=\"sk-estimator-id-10\" type=\"checkbox\" checked><label for=\"sk-estimator-id-10\" class=\"sk-toggleable__label sk-toggleable__label-arrow\">SVC</label><div class=\"sk-toggleable__content\"><pre>SVC(C=2, kernel=&#x27;linear&#x27;, max_iter=5000, random_state=42)</pre></div></div></div></div></div>"
            ]
          },
          "metadata": {},
          "execution_count": 69
        }
      ]
    },
    {
      "cell_type": "code",
      "source": [
        "test_pred = model.predict(X_test)\n",
        "train_pred = model.predict(X_train)"
      ],
      "metadata": {
        "id": "tWWqz8W35Lhg"
      },
      "execution_count": 70,
      "outputs": []
    },
    {
      "cell_type": "code",
      "source": [
        "from sklearn.metrics import f1_score\n",
        "print('Macro F1-score on Test is %.2f' %f1_score(y_test, test_pred, average='macro'))\n",
        "print('Macro F1-score on Train is %.2f' %f1_score(y_train, train_pred, average='macro'))"
      ],
      "metadata": {
        "colab": {
          "base_uri": "https://localhost:8080/"
        },
        "id": "9yFkQNcE5dJh",
        "outputId": "8cd42e37-82af-4ecc-d204-685268f43201"
      },
      "execution_count": 71,
      "outputs": [
        {
          "output_type": "stream",
          "name": "stdout",
          "text": [
            "Macro F1-score on Test is 1.00\n",
            "Macro F1-score on Train is 1.00\n"
          ]
        }
      ]
    },
    {
      "cell_type": "markdown",
      "source": [
        "# Multiclass Logistic Regression"
      ],
      "metadata": {
        "id": "8ll3Mizv5dxg"
      }
    },
    {
      "cell_type": "markdown",
      "source": [
        "Now we will try logistic regression model with different strategies to handle the multi class problem:"
      ],
      "metadata": {
        "id": "BeKiOm_dc9F9"
      }
    },
    {
      "cell_type": "markdown",
      "source": [
        "## OVR technique"
      ],
      "metadata": {
        "id": "ledfUGoz5oiV"
      }
    },
    {
      "cell_type": "markdown",
      "source": [
        "Here the chosen option for multi class is ovr. So a binary problem is fit for each label. Penalty is set to None so we don't have any regularization:"
      ],
      "metadata": {
        "id": "Z1rC9y5ydIs9"
      }
    },
    {
      "cell_type": "code",
      "source": [
        "from sklearn.linear_model import LogisticRegression\n",
        "model_ovr = LogisticRegression(penalty='none',max_iter=400,multi_class='ovr', random_state=42)\n",
        "model_ovr.fit(X_train, y_train)"
      ],
      "metadata": {
        "colab": {
          "base_uri": "https://localhost:8080/",
          "height": 148
        },
        "id": "HI4Fc_qS57LJ",
        "outputId": "07593e73-8bd3-405e-a71f-080ef49f8436"
      },
      "execution_count": 72,
      "outputs": [
        {
          "output_type": "stream",
          "name": "stderr",
          "text": [
            "/usr/local/lib/python3.10/dist-packages/sklearn/linear_model/_logistic.py:1173: FutureWarning: `penalty='none'`has been deprecated in 1.2 and will be removed in 1.4. To keep the past behaviour, set `penalty=None`.\n",
            "  warnings.warn(\n"
          ]
        },
        {
          "output_type": "execute_result",
          "data": {
            "text/plain": [
              "LogisticRegression(max_iter=400, multi_class='ovr', penalty='none',\n",
              "                   random_state=42)"
            ],
            "text/html": [
              "<style>#sk-container-id-11 {color: black;background-color: white;}#sk-container-id-11 pre{padding: 0;}#sk-container-id-11 div.sk-toggleable {background-color: white;}#sk-container-id-11 label.sk-toggleable__label {cursor: pointer;display: block;width: 100%;margin-bottom: 0;padding: 0.3em;box-sizing: border-box;text-align: center;}#sk-container-id-11 label.sk-toggleable__label-arrow:before {content: \"▸\";float: left;margin-right: 0.25em;color: #696969;}#sk-container-id-11 label.sk-toggleable__label-arrow:hover:before {color: black;}#sk-container-id-11 div.sk-estimator:hover label.sk-toggleable__label-arrow:before {color: black;}#sk-container-id-11 div.sk-toggleable__content {max-height: 0;max-width: 0;overflow: hidden;text-align: left;background-color: #f0f8ff;}#sk-container-id-11 div.sk-toggleable__content pre {margin: 0.2em;color: black;border-radius: 0.25em;background-color: #f0f8ff;}#sk-container-id-11 input.sk-toggleable__control:checked~div.sk-toggleable__content {max-height: 200px;max-width: 100%;overflow: auto;}#sk-container-id-11 input.sk-toggleable__control:checked~label.sk-toggleable__label-arrow:before {content: \"▾\";}#sk-container-id-11 div.sk-estimator input.sk-toggleable__control:checked~label.sk-toggleable__label {background-color: #d4ebff;}#sk-container-id-11 div.sk-label input.sk-toggleable__control:checked~label.sk-toggleable__label {background-color: #d4ebff;}#sk-container-id-11 input.sk-hidden--visually {border: 0;clip: rect(1px 1px 1px 1px);clip: rect(1px, 1px, 1px, 1px);height: 1px;margin: -1px;overflow: hidden;padding: 0;position: absolute;width: 1px;}#sk-container-id-11 div.sk-estimator {font-family: monospace;background-color: #f0f8ff;border: 1px dotted black;border-radius: 0.25em;box-sizing: border-box;margin-bottom: 0.5em;}#sk-container-id-11 div.sk-estimator:hover {background-color: #d4ebff;}#sk-container-id-11 div.sk-parallel-item::after {content: \"\";width: 100%;border-bottom: 1px solid gray;flex-grow: 1;}#sk-container-id-11 div.sk-label:hover label.sk-toggleable__label {background-color: #d4ebff;}#sk-container-id-11 div.sk-serial::before {content: \"\";position: absolute;border-left: 1px solid gray;box-sizing: border-box;top: 0;bottom: 0;left: 50%;z-index: 0;}#sk-container-id-11 div.sk-serial {display: flex;flex-direction: column;align-items: center;background-color: white;padding-right: 0.2em;padding-left: 0.2em;position: relative;}#sk-container-id-11 div.sk-item {position: relative;z-index: 1;}#sk-container-id-11 div.sk-parallel {display: flex;align-items: stretch;justify-content: center;background-color: white;position: relative;}#sk-container-id-11 div.sk-item::before, #sk-container-id-11 div.sk-parallel-item::before {content: \"\";position: absolute;border-left: 1px solid gray;box-sizing: border-box;top: 0;bottom: 0;left: 50%;z-index: -1;}#sk-container-id-11 div.sk-parallel-item {display: flex;flex-direction: column;z-index: 1;position: relative;background-color: white;}#sk-container-id-11 div.sk-parallel-item:first-child::after {align-self: flex-end;width: 50%;}#sk-container-id-11 div.sk-parallel-item:last-child::after {align-self: flex-start;width: 50%;}#sk-container-id-11 div.sk-parallel-item:only-child::after {width: 0;}#sk-container-id-11 div.sk-dashed-wrapped {border: 1px dashed gray;margin: 0 0.4em 0.5em 0.4em;box-sizing: border-box;padding-bottom: 0.4em;background-color: white;}#sk-container-id-11 div.sk-label label {font-family: monospace;font-weight: bold;display: inline-block;line-height: 1.2em;}#sk-container-id-11 div.sk-label-container {text-align: center;}#sk-container-id-11 div.sk-container {/* jupyter's `normalize.less` sets `[hidden] { display: none; }` but bootstrap.min.css set `[hidden] { display: none !important; }` so we also need the `!important` here to be able to override the default hidden behavior on the sphinx rendered scikit-learn.org. See: https://github.com/scikit-learn/scikit-learn/issues/21755 */display: inline-block !important;position: relative;}#sk-container-id-11 div.sk-text-repr-fallback {display: none;}</style><div id=\"sk-container-id-11\" class=\"sk-top-container\"><div class=\"sk-text-repr-fallback\"><pre>LogisticRegression(max_iter=400, multi_class=&#x27;ovr&#x27;, penalty=&#x27;none&#x27;,\n",
              "                   random_state=42)</pre><b>In a Jupyter environment, please rerun this cell to show the HTML representation or trust the notebook. <br />On GitHub, the HTML representation is unable to render, please try loading this page with nbviewer.org.</b></div><div class=\"sk-container\" hidden><div class=\"sk-item\"><div class=\"sk-estimator sk-toggleable\"><input class=\"sk-toggleable__control sk-hidden--visually\" id=\"sk-estimator-id-11\" type=\"checkbox\" checked><label for=\"sk-estimator-id-11\" class=\"sk-toggleable__label sk-toggleable__label-arrow\">LogisticRegression</label><div class=\"sk-toggleable__content\"><pre>LogisticRegression(max_iter=400, multi_class=&#x27;ovr&#x27;, penalty=&#x27;none&#x27;,\n",
              "                   random_state=42)</pre></div></div></div></div></div>"
            ]
          },
          "metadata": {},
          "execution_count": 72
        }
      ]
    },
    {
      "cell_type": "code",
      "source": [
        "test_pred = model_ovr.predict(X_test)\n",
        "train_pred = model_ovr.predict(X_train)"
      ],
      "metadata": {
        "id": "beCnhzAm59hw"
      },
      "execution_count": 73,
      "outputs": []
    },
    {
      "cell_type": "code",
      "source": [
        "from sklearn.metrics import f1_score\n",
        "print('Macro F1-score on Test is %.2f' %f1_score(y_test, test_pred, average='macro'))\n",
        "print('Macro F1-score on Train is %.2f' %f1_score(y_train, train_pred, average='macro'))"
      ],
      "metadata": {
        "colab": {
          "base_uri": "https://localhost:8080/"
        },
        "id": "lcvQFJtS6Bha",
        "outputId": "e5ae660e-c854-4f03-e51a-a0f1c903b510"
      },
      "execution_count": 74,
      "outputs": [
        {
          "output_type": "stream",
          "name": "stdout",
          "text": [
            "Macro F1-score on Test is 0.76\n",
            "Macro F1-score on Train is 0.99\n"
          ]
        }
      ]
    },
    {
      "cell_type": "markdown",
      "source": [
        "## Multinomial Approach"
      ],
      "metadata": {
        "id": "BeEzHoGb5rjF"
      }
    },
    {
      "cell_type": "markdown",
      "source": [
        "For multinomial the loss minimised is the multinomial loss fit across the entire probability distribution, even when the data is binary:"
      ],
      "metadata": {
        "id": "KVzCT1k3dywv"
      }
    },
    {
      "cell_type": "code",
      "source": [
        "model_mult = LogisticRegression(max_iter=700,multi_class='multinomial', random_state=42)\n",
        "model_mult.fit(X_train, y_train)"
      ],
      "metadata": {
        "colab": {
          "base_uri": "https://localhost:8080/",
          "height": 220
        },
        "id": "S9VBTcSS7T4G",
        "outputId": "1e730a8a-3f2b-406a-f43f-928ab0864c3b"
      },
      "execution_count": 75,
      "outputs": [
        {
          "output_type": "stream",
          "name": "stderr",
          "text": [
            "/usr/local/lib/python3.10/dist-packages/sklearn/linear_model/_logistic.py:458: ConvergenceWarning: lbfgs failed to converge (status=1):\n",
            "STOP: TOTAL NO. of ITERATIONS REACHED LIMIT.\n",
            "\n",
            "Increase the number of iterations (max_iter) or scale the data as shown in:\n",
            "    https://scikit-learn.org/stable/modules/preprocessing.html\n",
            "Please also refer to the documentation for alternative solver options:\n",
            "    https://scikit-learn.org/stable/modules/linear_model.html#logistic-regression\n",
            "  n_iter_i = _check_optimize_result(\n"
          ]
        },
        {
          "output_type": "execute_result",
          "data": {
            "text/plain": [
              "LogisticRegression(max_iter=700, multi_class='multinomial', random_state=42)"
            ],
            "text/html": [
              "<style>#sk-container-id-12 {color: black;background-color: white;}#sk-container-id-12 pre{padding: 0;}#sk-container-id-12 div.sk-toggleable {background-color: white;}#sk-container-id-12 label.sk-toggleable__label {cursor: pointer;display: block;width: 100%;margin-bottom: 0;padding: 0.3em;box-sizing: border-box;text-align: center;}#sk-container-id-12 label.sk-toggleable__label-arrow:before {content: \"▸\";float: left;margin-right: 0.25em;color: #696969;}#sk-container-id-12 label.sk-toggleable__label-arrow:hover:before {color: black;}#sk-container-id-12 div.sk-estimator:hover label.sk-toggleable__label-arrow:before {color: black;}#sk-container-id-12 div.sk-toggleable__content {max-height: 0;max-width: 0;overflow: hidden;text-align: left;background-color: #f0f8ff;}#sk-container-id-12 div.sk-toggleable__content pre {margin: 0.2em;color: black;border-radius: 0.25em;background-color: #f0f8ff;}#sk-container-id-12 input.sk-toggleable__control:checked~div.sk-toggleable__content {max-height: 200px;max-width: 100%;overflow: auto;}#sk-container-id-12 input.sk-toggleable__control:checked~label.sk-toggleable__label-arrow:before {content: \"▾\";}#sk-container-id-12 div.sk-estimator input.sk-toggleable__control:checked~label.sk-toggleable__label {background-color: #d4ebff;}#sk-container-id-12 div.sk-label input.sk-toggleable__control:checked~label.sk-toggleable__label {background-color: #d4ebff;}#sk-container-id-12 input.sk-hidden--visually {border: 0;clip: rect(1px 1px 1px 1px);clip: rect(1px, 1px, 1px, 1px);height: 1px;margin: -1px;overflow: hidden;padding: 0;position: absolute;width: 1px;}#sk-container-id-12 div.sk-estimator {font-family: monospace;background-color: #f0f8ff;border: 1px dotted black;border-radius: 0.25em;box-sizing: border-box;margin-bottom: 0.5em;}#sk-container-id-12 div.sk-estimator:hover {background-color: #d4ebff;}#sk-container-id-12 div.sk-parallel-item::after {content: \"\";width: 100%;border-bottom: 1px solid gray;flex-grow: 1;}#sk-container-id-12 div.sk-label:hover label.sk-toggleable__label {background-color: #d4ebff;}#sk-container-id-12 div.sk-serial::before {content: \"\";position: absolute;border-left: 1px solid gray;box-sizing: border-box;top: 0;bottom: 0;left: 50%;z-index: 0;}#sk-container-id-12 div.sk-serial {display: flex;flex-direction: column;align-items: center;background-color: white;padding-right: 0.2em;padding-left: 0.2em;position: relative;}#sk-container-id-12 div.sk-item {position: relative;z-index: 1;}#sk-container-id-12 div.sk-parallel {display: flex;align-items: stretch;justify-content: center;background-color: white;position: relative;}#sk-container-id-12 div.sk-item::before, #sk-container-id-12 div.sk-parallel-item::before {content: \"\";position: absolute;border-left: 1px solid gray;box-sizing: border-box;top: 0;bottom: 0;left: 50%;z-index: -1;}#sk-container-id-12 div.sk-parallel-item {display: flex;flex-direction: column;z-index: 1;position: relative;background-color: white;}#sk-container-id-12 div.sk-parallel-item:first-child::after {align-self: flex-end;width: 50%;}#sk-container-id-12 div.sk-parallel-item:last-child::after {align-self: flex-start;width: 50%;}#sk-container-id-12 div.sk-parallel-item:only-child::after {width: 0;}#sk-container-id-12 div.sk-dashed-wrapped {border: 1px dashed gray;margin: 0 0.4em 0.5em 0.4em;box-sizing: border-box;padding-bottom: 0.4em;background-color: white;}#sk-container-id-12 div.sk-label label {font-family: monospace;font-weight: bold;display: inline-block;line-height: 1.2em;}#sk-container-id-12 div.sk-label-container {text-align: center;}#sk-container-id-12 div.sk-container {/* jupyter's `normalize.less` sets `[hidden] { display: none; }` but bootstrap.min.css set `[hidden] { display: none !important; }` so we also need the `!important` here to be able to override the default hidden behavior on the sphinx rendered scikit-learn.org. See: https://github.com/scikit-learn/scikit-learn/issues/21755 */display: inline-block !important;position: relative;}#sk-container-id-12 div.sk-text-repr-fallback {display: none;}</style><div id=\"sk-container-id-12\" class=\"sk-top-container\"><div class=\"sk-text-repr-fallback\"><pre>LogisticRegression(max_iter=700, multi_class=&#x27;multinomial&#x27;, random_state=42)</pre><b>In a Jupyter environment, please rerun this cell to show the HTML representation or trust the notebook. <br />On GitHub, the HTML representation is unable to render, please try loading this page with nbviewer.org.</b></div><div class=\"sk-container\" hidden><div class=\"sk-item\"><div class=\"sk-estimator sk-toggleable\"><input class=\"sk-toggleable__control sk-hidden--visually\" id=\"sk-estimator-id-12\" type=\"checkbox\" checked><label for=\"sk-estimator-id-12\" class=\"sk-toggleable__label sk-toggleable__label-arrow\">LogisticRegression</label><div class=\"sk-toggleable__content\"><pre>LogisticRegression(max_iter=700, multi_class=&#x27;multinomial&#x27;, random_state=42)</pre></div></div></div></div></div>"
            ]
          },
          "metadata": {},
          "execution_count": 75
        }
      ]
    },
    {
      "cell_type": "code",
      "source": [
        "test_pred = model_mult.predict(X_test)\n",
        "train_pred = model_mult.predict(X_train)"
      ],
      "metadata": {
        "id": "sd0TqyVE7WW6"
      },
      "execution_count": 76,
      "outputs": []
    },
    {
      "cell_type": "code",
      "source": [
        "from sklearn.metrics import f1_score\n",
        "print('Macro F1-score on Test is %.2f' %f1_score(y_test, test_pred, average='macro'))\n",
        "print('Macro F1-score on Train is %.2f' %f1_score(y_train, train_pred, average='macro'))"
      ],
      "metadata": {
        "colab": {
          "base_uri": "https://localhost:8080/"
        },
        "id": "EbYtr-Mi7YNh",
        "outputId": "b67d25ba-4068-41a3-ac0c-b84c1e8e2155"
      },
      "execution_count": 77,
      "outputs": [
        {
          "output_type": "stream",
          "name": "stdout",
          "text": [
            "Macro F1-score on Test is 0.90\n",
            "Macro F1-score on Train is 0.93\n"
          ]
        }
      ]
    },
    {
      "cell_type": "markdown",
      "source": [
        "##  Log-loss for the output"
      ],
      "metadata": {
        "id": "sIJB0KWG5zJZ"
      }
    },
    {
      "cell_type": "markdown",
      "source": [
        "Now we can compute log-loss for the model output. In the multi-class problem, the log-loss has this formula:\n",
        "\n",
        "![Screenshot (1237).png](data:image/png;base64,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)"
      ],
      "metadata": {
        "id": "0K1mfeVmgRAa"
      }
    },
    {
      "cell_type": "code",
      "source": [
        "from sklearn.metrics import log_loss\n",
        "# predict probablity of classes for test set\n",
        "prob_mult = model_mult.predict_proba(X_test)\n",
        "\n",
        "# compute log loss\n",
        "mult_loss = log_loss(y_test, prob_mult)\n",
        "print('Log Loss For Multinomial: %.2f' %mult_loss)"
      ],
      "metadata": {
        "colab": {
          "base_uri": "https://localhost:8080/"
        },
        "id": "trDEIcpbDjg5",
        "outputId": "0b9c84f1-3c69-40c8-eeae-06ab718afb0a"
      },
      "execution_count": 78,
      "outputs": [
        {
          "output_type": "stream",
          "name": "stdout",
          "text": [
            "Log Loss For Multinomial: 0.23\n"
          ]
        }
      ]
    },
    {
      "cell_type": "markdown",
      "source": [
        "# Multiclass KNN"
      ],
      "metadata": {
        "id": "i-3T3jTC5_rH"
      }
    },
    {
      "cell_type": "markdown",
      "source": [
        "## Algorithm Implementation"
      ],
      "metadata": {
        "id": "fYj_vqLf6Hv8"
      }
    },
    {
      "cell_type": "markdown",
      "source": [
        "KNN is the next model! We set the number of neighbors to 3 and the weight function we used is distance. It weights points by the inverse of their distance. In this case, closer neighbors of a query point will have a greater influence than neighbors which are further away:"
      ],
      "metadata": {
        "id": "hPBJw4TIhA4Y"
      }
    },
    {
      "cell_type": "code",
      "source": [
        "from sklearn.neighbors import KNeighborsClassifier\n",
        "model = KNeighborsClassifier(n_neighbors=3, weights='distance')\n",
        "model.fit(X_train, y_train)"
      ],
      "metadata": {
        "colab": {
          "base_uri": "https://localhost:8080/",
          "height": 74
        },
        "id": "ToHMutb77zz6",
        "outputId": "4a7d0a5a-ad2d-42fb-ecbe-3b13b581de88"
      },
      "execution_count": 79,
      "outputs": [
        {
          "output_type": "execute_result",
          "data": {
            "text/plain": [
              "KNeighborsClassifier(n_neighbors=3, weights='distance')"
            ],
            "text/html": [
              "<style>#sk-container-id-13 {color: black;background-color: white;}#sk-container-id-13 pre{padding: 0;}#sk-container-id-13 div.sk-toggleable {background-color: white;}#sk-container-id-13 label.sk-toggleable__label {cursor: pointer;display: block;width: 100%;margin-bottom: 0;padding: 0.3em;box-sizing: border-box;text-align: center;}#sk-container-id-13 label.sk-toggleable__label-arrow:before {content: \"▸\";float: left;margin-right: 0.25em;color: #696969;}#sk-container-id-13 label.sk-toggleable__label-arrow:hover:before {color: black;}#sk-container-id-13 div.sk-estimator:hover label.sk-toggleable__label-arrow:before {color: black;}#sk-container-id-13 div.sk-toggleable__content {max-height: 0;max-width: 0;overflow: hidden;text-align: left;background-color: #f0f8ff;}#sk-container-id-13 div.sk-toggleable__content pre {margin: 0.2em;color: black;border-radius: 0.25em;background-color: #f0f8ff;}#sk-container-id-13 input.sk-toggleable__control:checked~div.sk-toggleable__content {max-height: 200px;max-width: 100%;overflow: auto;}#sk-container-id-13 input.sk-toggleable__control:checked~label.sk-toggleable__label-arrow:before {content: \"▾\";}#sk-container-id-13 div.sk-estimator input.sk-toggleable__control:checked~label.sk-toggleable__label {background-color: #d4ebff;}#sk-container-id-13 div.sk-label input.sk-toggleable__control:checked~label.sk-toggleable__label {background-color: #d4ebff;}#sk-container-id-13 input.sk-hidden--visually {border: 0;clip: rect(1px 1px 1px 1px);clip: rect(1px, 1px, 1px, 1px);height: 1px;margin: -1px;overflow: hidden;padding: 0;position: absolute;width: 1px;}#sk-container-id-13 div.sk-estimator {font-family: monospace;background-color: #f0f8ff;border: 1px dotted black;border-radius: 0.25em;box-sizing: border-box;margin-bottom: 0.5em;}#sk-container-id-13 div.sk-estimator:hover {background-color: #d4ebff;}#sk-container-id-13 div.sk-parallel-item::after {content: \"\";width: 100%;border-bottom: 1px solid gray;flex-grow: 1;}#sk-container-id-13 div.sk-label:hover label.sk-toggleable__label {background-color: #d4ebff;}#sk-container-id-13 div.sk-serial::before {content: \"\";position: absolute;border-left: 1px solid gray;box-sizing: border-box;top: 0;bottom: 0;left: 50%;z-index: 0;}#sk-container-id-13 div.sk-serial {display: flex;flex-direction: column;align-items: center;background-color: white;padding-right: 0.2em;padding-left: 0.2em;position: relative;}#sk-container-id-13 div.sk-item {position: relative;z-index: 1;}#sk-container-id-13 div.sk-parallel {display: flex;align-items: stretch;justify-content: center;background-color: white;position: relative;}#sk-container-id-13 div.sk-item::before, #sk-container-id-13 div.sk-parallel-item::before {content: \"\";position: absolute;border-left: 1px solid gray;box-sizing: border-box;top: 0;bottom: 0;left: 50%;z-index: -1;}#sk-container-id-13 div.sk-parallel-item {display: flex;flex-direction: column;z-index: 1;position: relative;background-color: white;}#sk-container-id-13 div.sk-parallel-item:first-child::after {align-self: flex-end;width: 50%;}#sk-container-id-13 div.sk-parallel-item:last-child::after {align-self: flex-start;width: 50%;}#sk-container-id-13 div.sk-parallel-item:only-child::after {width: 0;}#sk-container-id-13 div.sk-dashed-wrapped {border: 1px dashed gray;margin: 0 0.4em 0.5em 0.4em;box-sizing: border-box;padding-bottom: 0.4em;background-color: white;}#sk-container-id-13 div.sk-label label {font-family: monospace;font-weight: bold;display: inline-block;line-height: 1.2em;}#sk-container-id-13 div.sk-label-container {text-align: center;}#sk-container-id-13 div.sk-container {/* jupyter's `normalize.less` sets `[hidden] { display: none; }` but bootstrap.min.css set `[hidden] { display: none !important; }` so we also need the `!important` here to be able to override the default hidden behavior on the sphinx rendered scikit-learn.org. See: https://github.com/scikit-learn/scikit-learn/issues/21755 */display: inline-block !important;position: relative;}#sk-container-id-13 div.sk-text-repr-fallback {display: none;}</style><div id=\"sk-container-id-13\" class=\"sk-top-container\"><div class=\"sk-text-repr-fallback\"><pre>KNeighborsClassifier(n_neighbors=3, weights=&#x27;distance&#x27;)</pre><b>In a Jupyter environment, please rerun this cell to show the HTML representation or trust the notebook. <br />On GitHub, the HTML representation is unable to render, please try loading this page with nbviewer.org.</b></div><div class=\"sk-container\" hidden><div class=\"sk-item\"><div class=\"sk-estimator sk-toggleable\"><input class=\"sk-toggleable__control sk-hidden--visually\" id=\"sk-estimator-id-13\" type=\"checkbox\" checked><label for=\"sk-estimator-id-13\" class=\"sk-toggleable__label sk-toggleable__label-arrow\">KNeighborsClassifier</label><div class=\"sk-toggleable__content\"><pre>KNeighborsClassifier(n_neighbors=3, weights=&#x27;distance&#x27;)</pre></div></div></div></div></div>"
            ]
          },
          "metadata": {},
          "execution_count": 79
        }
      ]
    },
    {
      "cell_type": "code",
      "source": [
        "test_pred = model.predict(X_test)\n",
        "train_pred = model.predict(X_train)"
      ],
      "metadata": {
        "id": "h8oMuPW_72VK"
      },
      "execution_count": 80,
      "outputs": []
    },
    {
      "cell_type": "code",
      "source": [
        "from sklearn.metrics import f1_score\n",
        "print('Macro F1-score on Test is %.2f' %f1_score(y_test, test_pred, average='macro'))\n",
        "print('Macro F1-score on Train is %.2f' %f1_score(y_train, train_pred, average='macro'))"
      ],
      "metadata": {
        "colab": {
          "base_uri": "https://localhost:8080/"
        },
        "id": "KoZ9sYrq73ra",
        "outputId": "e5c02c15-f4b3-48b9-b8cd-9e11d9462cf2"
      },
      "execution_count": 81,
      "outputs": [
        {
          "output_type": "stream",
          "name": "stdout",
          "text": [
            "Macro F1-score on Test is 0.71\n",
            "Macro F1-score on Train is 1.00\n"
          ]
        }
      ]
    },
    {
      "cell_type": "markdown",
      "source": [
        "## Tune for best number of neighbors (K)"
      ],
      "metadata": {
        "id": "sf11YWAz6KE7"
      }
    },
    {
      "cell_type": "markdown",
      "source": [
        "We aim to find the best value for number of neighbors. The best value for it is 3 that we set for our model. After that we have a descending trend overall but sometimes it goes up. When number of neighbors reaches to 30, we won't have special change in f1-score:"
      ],
      "metadata": {
        "id": "zokIStLeht8i"
      }
    },
    {
      "cell_type": "code",
      "source": [
        "scores = []\n",
        "neighbors_list = np.arange(1,50)\n",
        "scores = []\n",
        "scores_train = []\n",
        "for n in neighbors_list:\n",
        "\n",
        "    # Create the model\n",
        "    model = KNeighborsClassifier(n_neighbors=n, weights='distance')\n",
        "    model.fit(X_train, y_train)\n",
        "    predictions_train = model.predict(X_train)\n",
        "    F1_train = f1_score(y_train, predictions_train, average='macro')\n",
        "    scores_train.append(F1_train)\n",
        "\n",
        "    predictions = model.predict(X_test)\n",
        "    F1 = f1_score(y_test, predictions, average='macro')\n",
        "    scores.append(F1)\n",
        "\n",
        "\n",
        "# Plot the results\n",
        "plt.figure(figsize=(20,8))\n",
        "plt.plot(neighbors_list,scores,lw=5)\n",
        "plt.plot(neighbors_list,scores_train,lw=5,color='orange')\n",
        "plt.xlabel('Number of neighbors')\n",
        "plt.ylabel('F1-Score')\n",
        "plt.legend(['F1: Test Set','F1: Train Set'])\n",
        "plt.show()\n"
      ],
      "metadata": {
        "colab": {
          "base_uri": "https://localhost:8080/",
          "height": 558
        },
        "id": "F0Dig21x88ks",
        "outputId": "5f46c801-08a4-40a4-de5e-35036fa22110"
      },
      "execution_count": 82,
      "outputs": [
        {
          "output_type": "display_data",
          "data": {
            "text/plain": [
              "<Figure size 2000x800 with 1 Axes>"
            ],
            "image/png": "[encoded data removed]"
          },
          "metadata": {}
        }
      ]
    },
    {
      "cell_type": "markdown",
      "source": [
        "# Multiclass Decision Trees"
      ],
      "metadata": {
        "id": "_TtJTlmB6TD1"
      }
    },
    {
      "cell_type": "markdown",
      "source": [
        "For decision tree, we set criterion to gini. This parameter determines how the impurity of a split will be measured:"
      ],
      "metadata": {
        "id": "rmemOKgUkmTW"
      }
    },
    {
      "cell_type": "code",
      "source": [
        "from sklearn.tree import DecisionTreeClassifier\n",
        "model = DecisionTreeClassifier(criterion='gini',max_depth=10, random_state=42)\n",
        "model.fit(X_train, y_train)"
      ],
      "metadata": {
        "colab": {
          "base_uri": "https://localhost:8080/",
          "height": 74
        },
        "id": "IlA5aRyQ9727",
        "outputId": "5ef0d6df-b465-4e27-ba74-58b6759adc61"
      },
      "execution_count": 83,
      "outputs": [
        {
          "output_type": "execute_result",
          "data": {
            "text/plain": [
              "DecisionTreeClassifier(max_depth=10, random_state=42)"
            ],
            "text/html": [
              "<style>#sk-container-id-14 {color: black;background-color: white;}#sk-container-id-14 pre{padding: 0;}#sk-container-id-14 div.sk-toggleable {background-color: white;}#sk-container-id-14 label.sk-toggleable__label {cursor: pointer;display: block;width: 100%;margin-bottom: 0;padding: 0.3em;box-sizing: border-box;text-align: center;}#sk-container-id-14 label.sk-toggleable__label-arrow:before {content: \"▸\";float: left;margin-right: 0.25em;color: #696969;}#sk-container-id-14 label.sk-toggleable__label-arrow:hover:before {color: black;}#sk-container-id-14 div.sk-estimator:hover label.sk-toggleable__label-arrow:before {color: black;}#sk-container-id-14 div.sk-toggleable__content {max-height: 0;max-width: 0;overflow: hidden;text-align: left;background-color: #f0f8ff;}#sk-container-id-14 div.sk-toggleable__content pre {margin: 0.2em;color: black;border-radius: 0.25em;background-color: #f0f8ff;}#sk-container-id-14 input.sk-toggleable__control:checked~div.sk-toggleable__content {max-height: 200px;max-width: 100%;overflow: auto;}#sk-container-id-14 input.sk-toggleable__control:checked~label.sk-toggleable__label-arrow:before {content: \"▾\";}#sk-container-id-14 div.sk-estimator input.sk-toggleable__control:checked~label.sk-toggleable__label {background-color: #d4ebff;}#sk-container-id-14 div.sk-label input.sk-toggleable__control:checked~label.sk-toggleable__label {background-color: #d4ebff;}#sk-container-id-14 input.sk-hidden--visually {border: 0;clip: rect(1px 1px 1px 1px);clip: rect(1px, 1px, 1px, 1px);height: 1px;margin: -1px;overflow: hidden;padding: 0;position: absolute;width: 1px;}#sk-container-id-14 div.sk-estimator {font-family: monospace;background-color: #f0f8ff;border: 1px dotted black;border-radius: 0.25em;box-sizing: border-box;margin-bottom: 0.5em;}#sk-container-id-14 div.sk-estimator:hover {background-color: #d4ebff;}#sk-container-id-14 div.sk-parallel-item::after {content: \"\";width: 100%;border-bottom: 1px solid gray;flex-grow: 1;}#sk-container-id-14 div.sk-label:hover label.sk-toggleable__label {background-color: #d4ebff;}#sk-container-id-14 div.sk-serial::before {content: \"\";position: absolute;border-left: 1px solid gray;box-sizing: border-box;top: 0;bottom: 0;left: 50%;z-index: 0;}#sk-container-id-14 div.sk-serial {display: flex;flex-direction: column;align-items: center;background-color: white;padding-right: 0.2em;padding-left: 0.2em;position: relative;}#sk-container-id-14 div.sk-item {position: relative;z-index: 1;}#sk-container-id-14 div.sk-parallel {display: flex;align-items: stretch;justify-content: center;background-color: white;position: relative;}#sk-container-id-14 div.sk-item::before, #sk-container-id-14 div.sk-parallel-item::before {content: \"\";position: absolute;border-left: 1px solid gray;box-sizing: border-box;top: 0;bottom: 0;left: 50%;z-index: -1;}#sk-container-id-14 div.sk-parallel-item {display: flex;flex-direction: column;z-index: 1;position: relative;background-color: white;}#sk-container-id-14 div.sk-parallel-item:first-child::after {align-self: flex-end;width: 50%;}#sk-container-id-14 div.sk-parallel-item:last-child::after {align-self: flex-start;width: 50%;}#sk-container-id-14 div.sk-parallel-item:only-child::after {width: 0;}#sk-container-id-14 div.sk-dashed-wrapped {border: 1px dashed gray;margin: 0 0.4em 0.5em 0.4em;box-sizing: border-box;padding-bottom: 0.4em;background-color: white;}#sk-container-id-14 div.sk-label label {font-family: monospace;font-weight: bold;display: inline-block;line-height: 1.2em;}#sk-container-id-14 div.sk-label-container {text-align: center;}#sk-container-id-14 div.sk-container {/* jupyter's `normalize.less` sets `[hidden] { display: none; }` but bootstrap.min.css set `[hidden] { display: none !important; }` so we also need the `!important` here to be able to override the default hidden behavior on the sphinx rendered scikit-learn.org. See: https://github.com/scikit-learn/scikit-learn/issues/21755 */display: inline-block !important;position: relative;}#sk-container-id-14 div.sk-text-repr-fallback {display: none;}</style><div id=\"sk-container-id-14\" class=\"sk-top-container\"><div class=\"sk-text-repr-fallback\"><pre>DecisionTreeClassifier(max_depth=10, random_state=42)</pre><b>In a Jupyter environment, please rerun this cell to show the HTML representation or trust the notebook. <br />On GitHub, the HTML representation is unable to render, please try loading this page with nbviewer.org.</b></div><div class=\"sk-container\" hidden><div class=\"sk-item\"><div class=\"sk-estimator sk-toggleable\"><input class=\"sk-toggleable__control sk-hidden--visually\" id=\"sk-estimator-id-14\" type=\"checkbox\" checked><label for=\"sk-estimator-id-14\" class=\"sk-toggleable__label sk-toggleable__label-arrow\">DecisionTreeClassifier</label><div class=\"sk-toggleable__content\"><pre>DecisionTreeClassifier(max_depth=10, random_state=42)</pre></div></div></div></div></div>"
            ]
          },
          "metadata": {},
          "execution_count": 83
        }
      ]
    },
    {
      "cell_type": "code",
      "source": [
        "test_pred = model.predict(X_test)\n",
        "train_pred = model.predict(X_train)"
      ],
      "metadata": {
        "id": "DnCA06Bu9-xZ"
      },
      "execution_count": 84,
      "outputs": []
    },
    {
      "cell_type": "code",
      "source": [
        "from sklearn.metrics import f1_score\n",
        "print('Macro F1-score on Test is %.2f' %f1_score(y_test, test_pred, average='macro'))\n",
        "print('Macro F1-score on Train is %.2f' %f1_score(y_train, train_pred, average='macro'))"
      ],
      "metadata": {
        "colab": {
          "base_uri": "https://localhost:8080/"
        },
        "id": "xg-Mbgl8-BkZ",
        "outputId": "88d7ef1a-9abc-4dd1-eb73-36f4bc83f634"
      },
      "execution_count": 85,
      "outputs": [
        {
          "output_type": "stream",
          "name": "stdout",
          "text": [
            "Macro F1-score on Test is 1.00\n",
            "Macro F1-score on Train is 1.00\n"
          ]
        }
      ]
    },
    {
      "cell_type": "markdown",
      "source": [
        "# Boosting Techniques"
      ],
      "metadata": {
        "id": "gyaCRr_g6f66"
      }
    },
    {
      "cell_type": "markdown",
      "source": [
        "In this dection, we try different boosting methods. These methods are examples of ensemble learning. For this purpose, firstly we should convert the class labels to numerical format:"
      ],
      "metadata": {
        "id": "PSqh441HlJ5h"
      }
    },
    {
      "cell_type": "code",
      "source": [
        "from sklearn.preprocessing import LabelEncoder\n",
        "le = LabelEncoder()\n",
        "le.fit(y_train)\n",
        "y_train = le.transform(y_train)\n",
        "y_test = le.transform(y_test)"
      ],
      "metadata": {
        "id": "vbkQvJqb-dnR"
      },
      "execution_count": 86,
      "outputs": []
    },
    {
      "cell_type": "markdown",
      "source": [
        "##  XGBoost"
      ],
      "metadata": {
        "id": "Cl3lokuV6jYe"
      }
    },
    {
      "cell_type": "markdown",
      "source": [
        "The first boosting method is XGBoost. XGBoost is the combination of these items: GBM(Gradient Boosting Machine) + Regularization + Parallel processing:"
      ],
      "metadata": {
        "id": "XOjwEZ_rltNH"
      }
    },
    {
      "cell_type": "code",
      "source": [
        "from xgboost import XGBClassifier\n",
        "model = XGBClassifier(n_estimators=50, random_state=42)\n",
        "model.fit(X_train, y_train,eval_metric=f1_score)"
      ],
      "metadata": {
        "colab": {
          "base_uri": "https://localhost:8080/",
          "height": 304
        },
        "id": "K5zdsIIu-QoR",
        "outputId": "fcb1e419-752a-42e2-e523-4fa438e51902"
      },
      "execution_count": 87,
      "outputs": [
        {
          "output_type": "stream",
          "name": "stderr",
          "text": [
            "/usr/local/lib/python3.10/dist-packages/xgboost/sklearn.py:885: UserWarning: `eval_metric` in `fit` method is deprecated for better compatibility with scikit-learn, use `eval_metric` in constructor or`set_params` instead.\n",
            "  warnings.warn(\n"
          ]
        },
        {
          "output_type": "execute_result",
          "data": {
            "text/plain": [
              "XGBClassifier(base_score=None, booster=None, callbacks=None,\n",
              "              colsample_bylevel=None, colsample_bynode=None,\n",
              "              colsample_bytree=None, device=None, early_stopping_rounds=None,\n",
              "              enable_categorical=False, eval_metric=None, feature_types=None,\n",
              "              gamma=None, grow_policy=None, importance_type=None,\n",
              "              interaction_constraints=None, learning_rate=None, max_bin=None,\n",
              "              max_cat_threshold=None, max_cat_to_onehot=None,\n",
              "              max_delta_step=None, max_depth=None, max_leaves=None,\n",
              "              min_child_weight=None, missing=nan, monotone_constraints=None,\n",
              "              multi_strategy=None, n_estimators=50, n_jobs=None,\n",
              "              num_parallel_tree=None, objective='multi:softprob', ...)"
            ],
            "text/html": [
              "<style>#sk-container-id-15 {color: black;background-color: white;}#sk-container-id-15 pre{padding: 0;}#sk-container-id-15 div.sk-toggleable {background-color: white;}#sk-container-id-15 label.sk-toggleable__label {cursor: pointer;display: block;width: 100%;margin-bottom: 0;padding: 0.3em;box-sizing: border-box;text-align: center;}#sk-container-id-15 label.sk-toggleable__label-arrow:before {content: \"▸\";float: left;margin-right: 0.25em;color: #696969;}#sk-container-id-15 label.sk-toggleable__label-arrow:hover:before {color: black;}#sk-container-id-15 div.sk-estimator:hover label.sk-toggleable__label-arrow:before {color: black;}#sk-container-id-15 div.sk-toggleable__content {max-height: 0;max-width: 0;overflow: hidden;text-align: left;background-color: #f0f8ff;}#sk-container-id-15 div.sk-toggleable__content pre {margin: 0.2em;color: black;border-radius: 0.25em;background-color: #f0f8ff;}#sk-container-id-15 input.sk-toggleable__control:checked~div.sk-toggleable__content {max-height: 200px;max-width: 100%;overflow: auto;}#sk-container-id-15 input.sk-toggleable__control:checked~label.sk-toggleable__label-arrow:before {content: \"▾\";}#sk-container-id-15 div.sk-estimator input.sk-toggleable__control:checked~label.sk-toggleable__label {background-color: #d4ebff;}#sk-container-id-15 div.sk-label input.sk-toggleable__control:checked~label.sk-toggleable__label {background-color: #d4ebff;}#sk-container-id-15 input.sk-hidden--visually {border: 0;clip: rect(1px 1px 1px 1px);clip: rect(1px, 1px, 1px, 1px);height: 1px;margin: -1px;overflow: hidden;padding: 0;position: absolute;width: 1px;}#sk-container-id-15 div.sk-estimator {font-family: monospace;background-color: #f0f8ff;border: 1px dotted black;border-radius: 0.25em;box-sizing: border-box;margin-bottom: 0.5em;}#sk-container-id-15 div.sk-estimator:hover {background-color: #d4ebff;}#sk-container-id-15 div.sk-parallel-item::after {content: \"\";width: 100%;border-bottom: 1px solid gray;flex-grow: 1;}#sk-container-id-15 div.sk-label:hover label.sk-toggleable__label {background-color: #d4ebff;}#sk-container-id-15 div.sk-serial::before {content: \"\";position: absolute;border-left: 1px solid gray;box-sizing: border-box;top: 0;bottom: 0;left: 50%;z-index: 0;}#sk-container-id-15 div.sk-serial {display: flex;flex-direction: column;align-items: center;background-color: white;padding-right: 0.2em;padding-left: 0.2em;position: relative;}#sk-container-id-15 div.sk-item {position: relative;z-index: 1;}#sk-container-id-15 div.sk-parallel {display: flex;align-items: stretch;justify-content: center;background-color: white;position: relative;}#sk-container-id-15 div.sk-item::before, #sk-container-id-15 div.sk-parallel-item::before {content: \"\";position: absolute;border-left: 1px solid gray;box-sizing: border-box;top: 0;bottom: 0;left: 50%;z-index: -1;}#sk-container-id-15 div.sk-parallel-item {display: flex;flex-direction: column;z-index: 1;position: relative;background-color: white;}#sk-container-id-15 div.sk-parallel-item:first-child::after {align-self: flex-end;width: 50%;}#sk-container-id-15 div.sk-parallel-item:last-child::after {align-self: flex-start;width: 50%;}#sk-container-id-15 div.sk-parallel-item:only-child::after {width: 0;}#sk-container-id-15 div.sk-dashed-wrapped {border: 1px dashed gray;margin: 0 0.4em 0.5em 0.4em;box-sizing: border-box;padding-bottom: 0.4em;background-color: white;}#sk-container-id-15 div.sk-label label {font-family: monospace;font-weight: bold;display: inline-block;line-height: 1.2em;}#sk-container-id-15 div.sk-label-container {text-align: center;}#sk-container-id-15 div.sk-container {/* jupyter's `normalize.less` sets `[hidden] { display: none; }` but bootstrap.min.css set `[hidden] { display: none !important; }` so we also need the `!important` here to be able to override the default hidden behavior on the sphinx rendered scikit-learn.org. See: https://github.com/scikit-learn/scikit-learn/issues/21755 */display: inline-block !important;position: relative;}#sk-container-id-15 div.sk-text-repr-fallback {display: none;}</style><div id=\"sk-container-id-15\" class=\"sk-top-container\"><div class=\"sk-text-repr-fallback\"><pre>XGBClassifier(base_score=None, booster=None, callbacks=None,\n",
              "              colsample_bylevel=None, colsample_bynode=None,\n",
              "              colsample_bytree=None, device=None, early_stopping_rounds=None,\n",
              "              enable_categorical=False, eval_metric=None, feature_types=None,\n",
              "              gamma=None, grow_policy=None, importance_type=None,\n",
              "              interaction_constraints=None, learning_rate=None, max_bin=None,\n",
              "              max_cat_threshold=None, max_cat_to_onehot=None,\n",
              "              max_delta_step=None, max_depth=None, max_leaves=None,\n",
              "              min_child_weight=None, missing=nan, monotone_constraints=None,\n",
              "              multi_strategy=None, n_estimators=50, n_jobs=None,\n",
              "              num_parallel_tree=None, objective=&#x27;multi:softprob&#x27;, ...)</pre><b>In a Jupyter environment, please rerun this cell to show the HTML representation or trust the notebook. <br />On GitHub, the HTML representation is unable to render, please try loading this page with nbviewer.org.</b></div><div class=\"sk-container\" hidden><div class=\"sk-item\"><div class=\"sk-estimator sk-toggleable\"><input class=\"sk-toggleable__control sk-hidden--visually\" id=\"sk-estimator-id-15\" type=\"checkbox\" checked><label for=\"sk-estimator-id-15\" class=\"sk-toggleable__label sk-toggleable__label-arrow\">XGBClassifier</label><div class=\"sk-toggleable__content\"><pre>XGBClassifier(base_score=None, booster=None, callbacks=None,\n",
              "              colsample_bylevel=None, colsample_bynode=None,\n",
              "              colsample_bytree=None, device=None, early_stopping_rounds=None,\n",
              "              enable_categorical=False, eval_metric=None, feature_types=None,\n",
              "              gamma=None, grow_policy=None, importance_type=None,\n",
              "              interaction_constraints=None, learning_rate=None, max_bin=None,\n",
              "              max_cat_threshold=None, max_cat_to_onehot=None,\n",
              "              max_delta_step=None, max_depth=None, max_leaves=None,\n",
              "              min_child_weight=None, missing=nan, monotone_constraints=None,\n",
              "              multi_strategy=None, n_estimators=50, n_jobs=None,\n",
              "              num_parallel_tree=None, objective=&#x27;multi:softprob&#x27;, ...)</pre></div></div></div></div></div>"
            ]
          },
          "metadata": {},
          "execution_count": 87
        }
      ]
    },
    {
      "cell_type": "code",
      "source": [
        "test_pred = model.predict(X_test)\n",
        "train_pred = model.predict(X_train)"
      ],
      "metadata": {
        "id": "zSr4A513-S7S"
      },
      "execution_count": 88,
      "outputs": []
    },
    {
      "cell_type": "code",
      "source": [
        "from sklearn.metrics import f1_score\n",
        "print('Macro F1-score on Test is %.2f' %f1_score(y_test, test_pred, average='macro'))\n",
        "print('Macro F1-score on Train is %.2f' %f1_score(y_train, train_pred, average='macro'))"
      ],
      "metadata": {
        "colab": {
          "base_uri": "https://localhost:8080/"
        },
        "id": "8YqkNH3J-UvI",
        "outputId": "d4a2069e-76f5-458a-9b02-132515bdb92b"
      },
      "execution_count": 89,
      "outputs": [
        {
          "output_type": "stream",
          "name": "stdout",
          "text": [
            "Macro F1-score on Test is 0.97\n",
            "Macro F1-score on Train is 1.00\n"
          ]
        }
      ]
    },
    {
      "cell_type": "markdown",
      "source": [
        "## LightGBM"
      ],
      "metadata": {
        "id": "bkqPllQ-6o1L"
      }
    },
    {
      "cell_type": "markdown",
      "source": [
        "LightGBM is another variant of boosting methods. It is the GBM designed for large data:"
      ],
      "metadata": {
        "id": "kkx3uCcVmeiv"
      }
    },
    {
      "cell_type": "code",
      "source": [
        "import lightgbm as lgb\n",
        "model = lgb.LGBMClassifier(learning_rate=0.01, random_state=42)\n",
        "model.fit(X_train,y_train,eval_metric=f1_score)"
      ],
      "metadata": {
        "colab": {
          "base_uri": "https://localhost:8080/",
          "height": 1000
        },
        "id": "dt6JZ5hA-tGz",
        "outputId": "f468951b-7c22-48b1-8649-b3004f543acc"
      },
      "execution_count": 90,
      "outputs": [
        {
          "output_type": "stream",
          "name": "stdout",
          "text": [
            "[LightGBM] [Info] Auto-choosing col-wise multi-threading, the overhead of testing was 0.000062 seconds.\n",
            "You can set `force_col_wise=true` to remove the overhead.\n",
            "[LightGBM] [Info] Total Bins 97\n",
            "[LightGBM] [Info] Number of data points in the train set: 160, number of used features: 5\n",
            "[LightGBM] [Info] Start training from score -2.241960\n",
            "[LightGBM] [Info] Start training from score -2.510224\n",
            "[LightGBM] [Info] Start training from score -2.677279\n",
            "[LightGBM] [Info] Start training from score -1.313974\n",
            "[LightGBM] [Info] Start training from score -0.744440\n",
            "[LightGBM] [Warning] No further splits with positive gain, best gain: -inf\n",
            "[LightGBM] [Warning] No further splits with positive gain, best gain: -inf\n",
            "[LightGBM] [Warning] No further splits with positive gain, best gain: -inf\n",
            "[LightGBM] [Warning] No further splits with positive gain, best gain: -inf\n",
            "[LightGBM] [Warning] No further splits with positive gain, best gain: -inf\n",
            "[LightGBM] [Warning] No further splits with positive gain, best gain: -inf\n",
            "[LightGBM] [Warning] No further splits with positive gain, best gain: -inf\n",
            "[LightGBM] [Warning] No further splits with positive gain, best gain: -inf\n",
            "[LightGBM] [Warning] No further splits with positive gain, best gain: -inf\n",
            "[LightGBM] [Warning] No further splits with positive gain, best gain: -inf\n",
            "[LightGBM] [Warning] No further splits with positive gain, best gain: -inf\n",
            "[LightGBM] [Warning] No further splits with positive gain, best gain: -inf\n",
            "[LightGBM] [Warning] No further splits with positive gain, best gain: -inf\n",
            "[LightGBM] [Warning] No further splits with positive gain, best gain: -inf\n",
            "[LightGBM] [Warning] No further splits with positive gain, best gain: -inf\n",
            "[LightGBM] [Warning] No further splits with positive gain, best gain: -inf\n",
            "[LightGBM] [Warning] No further splits with positive gain, best gain: -inf\n",
            "[LightGBM] [Warning] No further splits with positive gain, best gain: -inf\n",
            "[LightGBM] [Warning] No further splits with positive gain, best gain: -inf\n",
            "[LightGBM] [Warning] No further splits with positive gain, best gain: -inf\n",
            "[LightGBM] [Warning] No further splits with positive gain, best gain: -inf\n",
            "[LightGBM] [Warning] No further splits with positive gain, best gain: -inf\n",
            "[LightGBM] [Warning] No further splits with positive gain, best gain: -inf\n",
            "[LightGBM] [Warning] No further splits with positive gain, best gain: -inf\n",
            "[LightGBM] [Warning] No further splits with positive gain, best gain: -inf\n",
            "[LightGBM] [Warning] No further splits with positive gain, best gain: -inf\n",
            "[LightGBM] [Warning] No further splits with positive gain, best gain: -inf\n",
            "[LightGBM] [Warning] No further splits with positive gain, best gain: -inf\n",
            "[LightGBM] [Warning] No further splits with positive gain, best gain: -inf\n",
            "[LightGBM] [Warning] No further splits with positive gain, best gain: -inf\n",
            "[LightGBM] [Warning] No further splits with positive gain, best gain: -inf\n",
            "[LightGBM] [Warning] No further splits with positive gain, best gain: -inf\n",
            "[LightGBM] [Warning] No further splits with positive gain, best gain: -inf\n",
            "[LightGBM] [Warning] No further splits with positive gain, best gain: -inf\n",
            "[LightGBM] [Warning] No further splits with positive gain, best gain: -inf\n",
            "[LightGBM] [Warning] No further splits with positive gain, best gain: -inf\n",
            "[LightGBM] [Warning] No further splits with positive gain, best gain: -inf\n",
            "[LightGBM] [Warning] No further splits with positive gain, best gain: -inf\n",
            "[LightGBM] [Warning] No further splits with positive gain, best gain: -inf\n",
            "[LightGBM] [Warning] No further splits with positive gain, best gain: -inf\n",
            "[LightGBM] [Warning] No further splits with positive gain, best gain: -inf\n",
            "[LightGBM] [Warning] No further splits with positive gain, best gain: -inf\n",
            "[LightGBM] [Warning] No further splits with positive gain, best gain: -inf\n",
            "[LightGBM] [Warning] No further splits with positive gain, best gain: -inf\n",
            "[LightGBM] [Warning] No further splits with positive gain, best gain: -inf\n",
            "[LightGBM] [Warning] No further splits with positive gain, best gain: -inf\n",
            "[LightGBM] [Warning] No further splits with positive gain, best gain: -inf\n",
            "[LightGBM] [Warning] No further splits with positive gain, best gain: -inf\n",
            "[LightGBM] [Warning] No further splits with positive gain, best gain: -inf\n",
            "[LightGBM] [Warning] No further splits with positive gain, best gain: -inf\n",
            "[LightGBM] [Warning] No further splits with positive gain, best gain: -inf\n",
            "[LightGBM] [Warning] No further splits with positive gain, best gain: -inf\n",
            "[LightGBM] [Warning] No further splits with positive gain, best gain: -inf\n",
            "[LightGBM] [Warning] No further splits with positive gain, best gain: -inf\n",
            "[LightGBM] [Warning] No further splits with positive gain, best gain: -inf\n",
            "[LightGBM] [Warning] No further splits with positive gain, best gain: -inf\n",
            "[LightGBM] [Warning] No further splits with positive gain, best gain: -inf\n",
            "[LightGBM] [Warning] No further splits with positive gain, best gain: -inf\n",
            "[LightGBM] [Warning] No further splits with positive gain, best gain: -inf\n",
            "[LightGBM] [Warning] No further splits with positive gain, best gain: -inf\n",
            "[LightGBM] [Warning] No further splits with positive gain, best gain: -inf\n",
            "[LightGBM] [Warning] No further splits with positive gain, best gain: -inf\n",
            "[LightGBM] [Warning] No further splits with positive gain, best gain: -inf\n",
            "[LightGBM] [Warning] No further splits with positive gain, best gain: -inf\n",
            "[LightGBM] [Warning] No further splits with positive gain, best gain: -inf\n",
            "[LightGBM] [Warning] No further splits with positive gain, best gain: -inf\n",
            "[LightGBM] [Warning] No further splits with positive gain, best gain: -inf\n",
            "[LightGBM] [Warning] No further splits with positive gain, best gain: -inf\n",
            "[LightGBM] [Warning] No further splits with positive gain, best gain: -inf\n",
            "[LightGBM] [Warning] No further splits with positive gain, best gain: -inf\n",
            "[LightGBM] [Warning] No further splits with positive gain, best gain: -inf\n",
            "[LightGBM] [Warning] No further splits with positive gain, best gain: -inf\n",
            "[LightGBM] [Warning] No further splits with positive gain, best gain: -inf\n",
            "[LightGBM] [Warning] No further splits with positive gain, best gain: -inf\n",
            "[LightGBM] [Warning] No further splits with positive gain, best gain: -inf\n",
            "[LightGBM] [Warning] No further splits with positive gain, best gain: -inf\n",
            "[LightGBM] [Warning] No further splits with positive gain, best gain: -inf\n",
            "[LightGBM] [Warning] No further splits with positive gain, best gain: -inf\n",
            "[LightGBM] [Warning] No further splits with positive gain, best gain: -inf\n",
            "[LightGBM] [Warning] No further splits with positive gain, best gain: -inf\n",
            "[LightGBM] [Warning] No further splits with positive gain, best gain: -inf\n",
            "[LightGBM] [Warning] No further splits with positive gain, best gain: -inf\n",
            "[LightGBM] [Warning] No further splits with positive gain, best gain: -inf\n",
            "[LightGBM] [Warning] No further splits with positive gain, best gain: -inf\n",
            "[LightGBM] [Warning] No further splits with positive gain, best gain: -inf\n",
            "[LightGBM] [Warning] No further splits with positive gain, best gain: -inf\n",
            "[LightGBM] [Warning] No further splits with positive gain, best gain: -inf\n",
            "[LightGBM] [Warning] No further splits with positive gain, best gain: -inf\n",
            "[LightGBM] [Warning] No further splits with positive gain, best gain: -inf\n",
            "[LightGBM] [Warning] No further splits with positive gain, best gain: -inf\n",
            "[LightGBM] [Warning] No further splits with positive gain, best gain: -inf\n",
            "[LightGBM] [Warning] No further splits with positive gain, best gain: -inf\n",
            "[LightGBM] [Warning] No further splits with positive gain, best gain: -inf\n",
            "[LightGBM] [Warning] No further splits with positive gain, best gain: -inf\n",
            "[LightGBM] [Warning] No further splits with positive gain, best gain: -inf\n",
            "[LightGBM] [Warning] No further splits with positive gain, best gain: -inf\n",
            "[LightGBM] [Warning] No further splits with positive gain, best gain: -inf\n",
            "[LightGBM] [Warning] No further splits with positive gain, best gain: -inf\n",
            "[LightGBM] [Warning] No further splits with positive gain, best gain: -inf\n",
            "[LightGBM] [Warning] No further splits with positive gain, best gain: -inf\n",
            "[LightGBM] [Warning] No further splits with positive gain, best gain: -inf\n",
            "[LightGBM] [Warning] No further splits with positive gain, best gain: -inf\n",
            "[LightGBM] [Warning] No further splits with positive gain, best gain: -inf\n",
            "[LightGBM] [Warning] No further splits with positive gain, best gain: -inf\n",
            "[LightGBM] [Warning] No further splits with positive gain, best gain: -inf\n",
            "[LightGBM] [Warning] No further splits with positive gain, best gain: -inf\n",
            "[LightGBM] [Warning] No further splits with positive gain, best gain: -inf\n",
            "[LightGBM] [Warning] No further splits with positive gain, best gain: -inf\n",
            "[LightGBM] [Warning] No further splits with positive gain, best gain: -inf\n",
            "[LightGBM] [Warning] No further splits with positive gain, best gain: -inf\n",
            "[LightGBM] [Warning] No further splits with positive gain, best gain: -inf\n",
            "[LightGBM] [Warning] No further splits with positive gain, best gain: -inf\n",
            "[LightGBM] [Warning] No further splits with positive gain, best gain: -inf\n",
            "[LightGBM] [Warning] No further splits with positive gain, best gain: -inf\n",
            "[LightGBM] [Warning] No further splits with positive gain, best gain: -inf\n",
            "[LightGBM] [Warning] No further splits with positive gain, best gain: -inf\n",
            "[LightGBM] [Warning] No further splits with positive gain, best gain: -inf\n",
            "[LightGBM] [Warning] No further splits with positive gain, best gain: -inf\n",
            "[LightGBM] [Warning] No further splits with positive gain, best gain: -inf\n",
            "[LightGBM] [Warning] No further splits with positive gain, best gain: -inf\n",
            "[LightGBM] [Warning] No further splits with positive gain, best gain: -inf\n",
            "[LightGBM] [Warning] No further splits with positive gain, best gain: -inf\n",
            "[LightGBM] [Warning] No further splits with positive gain, best gain: -inf\n",
            "[LightGBM] [Warning] No further splits with positive gain, best gain: -inf\n",
            "[LightGBM] [Warning] No further splits with positive gain, best gain: -inf\n",
            "[LightGBM] [Warning] No further splits with positive gain, best gain: -inf\n",
            "[LightGBM] [Warning] No further splits with positive gain, best gain: -inf\n",
            "[LightGBM] [Warning] No further splits with positive gain, best gain: -inf\n",
            "[LightGBM] [Warning] No further splits with positive gain, best gain: -inf\n",
            "[LightGBM] [Warning] No further splits with positive gain, best gain: -inf\n",
            "[LightGBM] [Warning] No further splits with positive gain, best gain: -inf\n",
            "[LightGBM] [Warning] No further splits with positive gain, best gain: -inf\n",
            "[LightGBM] [Warning] No further splits with positive gain, best gain: -inf\n",
            "[LightGBM] [Warning] No further splits with positive gain, best gain: -inf\n",
            "[LightGBM] [Warning] No further splits with positive gain, best gain: -inf\n",
            "[LightGBM] [Warning] No further splits with positive gain, best gain: -inf\n",
            "[LightGBM] [Warning] No further splits with positive gain, best gain: -inf\n",
            "[LightGBM] [Warning] No further splits with positive gain, best gain: -inf\n",
            "[LightGBM] [Warning] No further splits with positive gain, best gain: -inf\n",
            "[LightGBM] [Warning] No further splits with positive gain, best gain: -inf\n",
            "[LightGBM] [Warning] No further splits with positive gain, best gain: -inf\n",
            "[LightGBM] [Warning] No further splits with positive gain, best gain: -inf\n",
            "[LightGBM] [Warning] No further splits with positive gain, best gain: -inf\n",
            "[LightGBM] [Warning] No further splits with positive gain, best gain: -inf\n",
            "[LightGBM] [Warning] No further splits with positive gain, best gain: -inf\n",
            "[LightGBM] [Warning] No further splits with positive gain, best gain: -inf\n",
            "[LightGBM] [Warning] No further splits with positive gain, best gain: -inf\n",
            "[LightGBM] [Warning] No further splits with positive gain, best gain: -inf\n",
            "[LightGBM] [Warning] No further splits with positive gain, best gain: -inf\n",
            "[LightGBM] [Warning] No further splits with positive gain, best gain: -inf\n",
            "[LightGBM] [Warning] No further splits with positive gain, best gain: -inf\n",
            "[LightGBM] [Warning] No further splits with positive gain, best gain: -inf\n",
            "[LightGBM] [Warning] No further splits with positive gain, best gain: -inf\n",
            "[LightGBM] [Warning] No further splits with positive gain, best gain: -inf\n",
            "[LightGBM] [Warning] No further splits with positive gain, best gain: -inf\n",
            "[LightGBM] [Warning] No further splits with positive gain, best gain: -inf\n",
            "[LightGBM] [Warning] No further splits with positive gain, best gain: -inf\n",
            "[LightGBM] [Warning] No further splits with positive gain, best gain: -inf\n",
            "[LightGBM] [Warning] No further splits with positive gain, best gain: -inf\n",
            "[LightGBM] [Warning] No further splits with positive gain, best gain: -inf\n",
            "[LightGBM] [Warning] No further splits with positive gain, best gain: -inf\n",
            "[LightGBM] [Warning] No further splits with positive gain, best gain: -inf\n",
            "[LightGBM] [Warning] No further splits with positive gain, best gain: -inf\n",
            "[LightGBM] [Warning] No further splits with positive gain, best gain: -inf\n",
            "[LightGBM] [Warning] No further splits with positive gain, best gain: -inf\n",
            "[LightGBM] [Warning] No further splits with positive gain, best gain: -inf\n",
            "[LightGBM] [Warning] No further splits with positive gain, best gain: -inf\n",
            "[LightGBM] [Warning] No further splits with positive gain, best gain: -inf\n",
            "[LightGBM] [Warning] No further splits with positive gain, best gain: -inf\n",
            "[LightGBM] [Warning] No further splits with positive gain, best gain: -inf\n",
            "[LightGBM] [Warning] No further splits with positive gain, best gain: -inf\n",
            "[LightGBM] [Warning] No further splits with positive gain, best gain: -inf\n",
            "[LightGBM] [Warning] No further splits with positive gain, best gain: -inf\n",
            "[LightGBM] [Warning] No further splits with positive gain, best gain: -inf\n",
            "[LightGBM] [Warning] No further splits with positive gain, best gain: -inf\n",
            "[LightGBM] [Warning] No further splits with positive gain, best gain: -inf\n",
            "[LightGBM] [Warning] No further splits with positive gain, best gain: -inf\n",
            "[LightGBM] [Warning] No further splits with positive gain, best gain: -inf\n",
            "[LightGBM] [Warning] No further splits with positive gain, best gain: -inf\n",
            "[LightGBM] [Warning] No further splits with positive gain, best gain: -inf\n",
            "[LightGBM] [Warning] No further splits with positive gain, best gain: -inf\n",
            "[LightGBM] [Warning] No further splits with positive gain, best gain: -inf\n",
            "[LightGBM] [Warning] No further splits with positive gain, best gain: -inf\n",
            "[LightGBM] [Warning] No further splits with positive gain, best gain: -inf\n",
            "[LightGBM] [Warning] No further splits with positive gain, best gain: -inf\n",
            "[LightGBM] [Warning] No further splits with positive gain, best gain: -inf\n",
            "[LightGBM] [Warning] No further splits with positive gain, best gain: -inf\n",
            "[LightGBM] [Warning] No further splits with positive gain, best gain: -inf\n",
            "[LightGBM] [Warning] No further splits with positive gain, best gain: -inf\n",
            "[LightGBM] [Warning] No further splits with positive gain, best gain: -inf\n",
            "[LightGBM] [Warning] No further splits with positive gain, best gain: -inf\n",
            "[LightGBM] [Warning] No further splits with positive gain, best gain: -inf\n",
            "[LightGBM] [Warning] No further splits with positive gain, best gain: -inf\n",
            "[LightGBM] [Warning] No further splits with positive gain, best gain: -inf\n",
            "[LightGBM] [Warning] No further splits with positive gain, best gain: -inf\n",
            "[LightGBM] [Warning] No further splits with positive gain, best gain: -inf\n",
            "[LightGBM] [Warning] No further splits with positive gain, best gain: -inf\n",
            "[LightGBM] [Warning] No further splits with positive gain, best gain: -inf\n",
            "[LightGBM] [Warning] No further splits with positive gain, best gain: -inf\n",
            "[LightGBM] [Warning] No further splits with positive gain, best gain: -inf\n",
            "[LightGBM] [Warning] No further splits with positive gain, best gain: -inf\n",
            "[LightGBM] [Warning] No further splits with positive gain, best gain: -inf\n",
            "[LightGBM] [Warning] No further splits with positive gain, best gain: -inf\n",
            "[LightGBM] [Warning] No further splits with positive gain, best gain: -inf\n",
            "[LightGBM] [Warning] No further splits with positive gain, best gain: -inf\n",
            "[LightGBM] [Warning] No further splits with positive gain, best gain: -inf\n",
            "[LightGBM] [Warning] No further splits with positive gain, best gain: -inf\n",
            "[LightGBM] [Warning] No further splits with positive gain, best gain: -inf\n",
            "[LightGBM] [Warning] No further splits with positive gain, best gain: -inf\n",
            "[LightGBM] [Warning] No further splits with positive gain, best gain: -inf\n",
            "[LightGBM] [Warning] No further splits with positive gain, best gain: -inf\n",
            "[LightGBM] [Warning] No further splits with positive gain, best gain: -inf\n",
            "[LightGBM] [Warning] No further splits with positive gain, best gain: -inf\n",
            "[LightGBM] [Warning] No further splits with positive gain, best gain: -inf\n",
            "[LightGBM] [Warning] No further splits with positive gain, best gain: -inf\n",
            "[LightGBM] [Warning] No further splits with positive gain, best gain: -inf\n",
            "[LightGBM] [Warning] No further splits with positive gain, best gain: -inf\n",
            "[LightGBM] [Warning] No further splits with positive gain, best gain: -inf\n",
            "[LightGBM] [Warning] No further splits with positive gain, best gain: -inf\n",
            "[LightGBM] [Warning] No further splits with positive gain, best gain: -inf\n",
            "[LightGBM] [Warning] No further splits with positive gain, best gain: -inf\n",
            "[LightGBM] [Warning] No further splits with positive gain, best gain: -inf\n",
            "[LightGBM] [Warning] No further splits with positive gain, best gain: -inf\n",
            "[LightGBM] [Warning] No further splits with positive gain, best gain: -inf\n",
            "[LightGBM] [Warning] No further splits with positive gain, best gain: -inf\n",
            "[LightGBM] [Warning] No further splits with positive gain, best gain: -inf\n",
            "[LightGBM] [Warning] No further splits with positive gain, best gain: -inf\n",
            "[LightGBM] [Warning] No further splits with positive gain, best gain: -inf\n",
            "[LightGBM] [Warning] No further splits with positive gain, best gain: -inf\n",
            "[LightGBM] [Warning] No further splits with positive gain, best gain: -inf\n",
            "[LightGBM] [Warning] No further splits with positive gain, best gain: -inf\n",
            "[LightGBM] [Warning] No further splits with positive gain, best gain: -inf\n",
            "[LightGBM] [Warning] No further splits with positive gain, best gain: -inf\n",
            "[LightGBM] [Warning] No further splits with positive gain, best gain: -inf\n",
            "[LightGBM] [Warning] No further splits with positive gain, best gain: -inf\n",
            "[LightGBM] [Warning] No further splits with positive gain, best gain: -inf\n",
            "[LightGBM] [Warning] No further splits with positive gain, best gain: -inf\n",
            "[LightGBM] [Warning] No further splits with positive gain, best gain: -inf\n",
            "[LightGBM] [Warning] No further splits with positive gain, best gain: -inf\n",
            "[LightGBM] [Warning] No further splits with positive gain, best gain: -inf\n",
            "[LightGBM] [Warning] No further splits with positive gain, best gain: -inf\n",
            "[LightGBM] [Warning] No further splits with positive gain, best gain: -inf\n",
            "[LightGBM] [Warning] No further splits with positive gain, best gain: -inf\n",
            "[LightGBM] [Warning] No further splits with positive gain, best gain: -inf\n",
            "[LightGBM] [Warning] No further splits with positive gain, best gain: -inf\n",
            "[LightGBM] [Warning] No further splits with positive gain, best gain: -inf\n",
            "[LightGBM] [Warning] No further splits with positive gain, best gain: -inf\n",
            "[LightGBM] [Warning] No further splits with positive gain, best gain: -inf\n",
            "[LightGBM] [Warning] No further splits with positive gain, best gain: -inf\n",
            "[LightGBM] [Warning] No further splits with positive gain, best gain: -inf\n",
            "[LightGBM] [Warning] No further splits with positive gain, best gain: -inf\n",
            "[LightGBM] [Warning] No further splits with positive gain, best gain: -inf\n",
            "[LightGBM] [Warning] No further splits with positive gain, best gain: -inf\n",
            "[LightGBM] [Warning] No further splits with positive gain, best gain: -inf\n",
            "[LightGBM] [Warning] No further splits with positive gain, best gain: -inf\n",
            "[LightGBM] [Warning] No further splits with positive gain, best gain: -inf\n",
            "[LightGBM] [Warning] No further splits with positive gain, best gain: -inf\n",
            "[LightGBM] [Warning] No further splits with positive gain, best gain: -inf\n",
            "[LightGBM] [Warning] No further splits with positive gain, best gain: -inf\n",
            "[LightGBM] [Warning] No further splits with positive gain, best gain: -inf\n",
            "[LightGBM] [Warning] No further splits with positive gain, best gain: -inf\n",
            "[LightGBM] [Warning] No further splits with positive gain, best gain: -inf\n",
            "[LightGBM] [Warning] No further splits with positive gain, best gain: -inf\n",
            "[LightGBM] [Warning] No further splits with positive gain, best gain: -inf\n",
            "[LightGBM] [Warning] No further splits with positive gain, best gain: -inf\n",
            "[LightGBM] [Warning] No further splits with positive gain, best gain: -inf\n",
            "[LightGBM] [Warning] No further splits with positive gain, best gain: -inf\n",
            "[LightGBM] [Warning] No further splits with positive gain, best gain: -inf\n",
            "[LightGBM] [Warning] No further splits with positive gain, best gain: -inf\n",
            "[LightGBM] [Warning] No further splits with positive gain, best gain: -inf\n",
            "[LightGBM] [Warning] No further splits with positive gain, best gain: -inf\n",
            "[LightGBM] [Warning] No further splits with positive gain, best gain: -inf\n",
            "[LightGBM] [Warning] No further splits with positive gain, best gain: -inf\n",
            "[LightGBM] [Warning] No further splits with positive gain, best gain: -inf\n",
            "[LightGBM] [Warning] No further splits with positive gain, best gain: -inf\n",
            "[LightGBM] [Warning] No further splits with positive gain, best gain: -inf\n",
            "[LightGBM] [Warning] No further splits with positive gain, best gain: -inf\n",
            "[LightGBM] [Warning] No further splits with positive gain, best gain: -inf\n",
            "[LightGBM] [Warning] No further splits with positive gain, best gain: -inf\n",
            "[LightGBM] [Warning] No further splits with positive gain, best gain: -inf\n",
            "[LightGBM] [Warning] No further splits with positive gain, best gain: -inf\n",
            "[LightGBM] [Warning] No further splits with positive gain, best gain: -inf\n",
            "[LightGBM] [Warning] No further splits with positive gain, best gain: -inf\n",
            "[LightGBM] [Warning] No further splits with positive gain, best gain: -inf\n",
            "[LightGBM] [Warning] No further splits with positive gain, best gain: -inf\n",
            "[LightGBM] [Warning] No further splits with positive gain, best gain: -inf\n",
            "[LightGBM] [Warning] No further splits with positive gain, best gain: -inf\n",
            "[LightGBM] [Warning] No further splits with positive gain, best gain: -inf\n",
            "[LightGBM] [Warning] No further splits with positive gain, best gain: -inf\n",
            "[LightGBM] [Warning] No further splits with positive gain, best gain: -inf\n",
            "[LightGBM] [Warning] No further splits with positive gain, best gain: -inf\n",
            "[LightGBM] [Warning] No further splits with positive gain, best gain: -inf\n",
            "[LightGBM] [Warning] No further splits with positive gain, best gain: -inf\n",
            "[LightGBM] [Warning] No further splits with positive gain, best gain: -inf\n",
            "[LightGBM] [Warning] No further splits with positive gain, best gain: -inf\n",
            "[LightGBM] [Warning] No further splits with positive gain, best gain: -inf\n",
            "[LightGBM] [Warning] No further splits with positive gain, best gain: -inf\n",
            "[LightGBM] [Warning] No further splits with positive gain, best gain: -inf\n",
            "[LightGBM] [Warning] No further splits with positive gain, best gain: -inf\n",
            "[LightGBM] [Warning] No further splits with positive gain, best gain: -inf\n",
            "[LightGBM] [Warning] No further splits with positive gain, best gain: -inf\n",
            "[LightGBM] [Warning] No further splits with positive gain, best gain: -inf\n",
            "[LightGBM] [Warning] No further splits with positive gain, best gain: -inf\n",
            "[LightGBM] [Warning] No further splits with positive gain, best gain: -inf\n",
            "[LightGBM] [Warning] No further splits with positive gain, best gain: -inf\n",
            "[LightGBM] [Warning] No further splits with positive gain, best gain: -inf\n",
            "[LightGBM] [Warning] No further splits with positive gain, best gain: -inf\n",
            "[LightGBM] [Warning] No further splits with positive gain, best gain: -inf\n",
            "[LightGBM] [Warning] No further splits with positive gain, best gain: -inf\n",
            "[LightGBM] [Warning] No further splits with positive gain, best gain: -inf\n",
            "[LightGBM] [Warning] No further splits with positive gain, best gain: -inf\n",
            "[LightGBM] [Warning] No further splits with positive gain, best gain: -inf\n",
            "[LightGBM] [Warning] No further splits with positive gain, best gain: -inf\n",
            "[LightGBM] [Warning] No further splits with positive gain, best gain: -inf\n",
            "[LightGBM] [Warning] No further splits with positive gain, best gain: -inf\n",
            "[LightGBM] [Warning] No further splits with positive gain, best gain: -inf\n",
            "[LightGBM] [Warning] No further splits with positive gain, best gain: -inf\n",
            "[LightGBM] [Warning] No further splits with positive gain, best gain: -inf\n",
            "[LightGBM] [Warning] No further splits with positive gain, best gain: -inf\n",
            "[LightGBM] [Warning] No further splits with positive gain, best gain: -inf\n",
            "[LightGBM] [Warning] No further splits with positive gain, best gain: -inf\n",
            "[LightGBM] [Warning] No further splits with positive gain, best gain: -inf\n",
            "[LightGBM] [Warning] No further splits with positive gain, best gain: -inf\n",
            "[LightGBM] [Warning] No further splits with positive gain, best gain: -inf\n",
            "[LightGBM] [Warning] No further splits with positive gain, best gain: -inf\n",
            "[LightGBM] [Warning] No further splits with positive gain, best gain: -inf\n",
            "[LightGBM] [Warning] No further splits with positive gain, best gain: -inf\n",
            "[LightGBM] [Warning] No further splits with positive gain, best gain: -inf\n",
            "[LightGBM] [Warning] No further splits with positive gain, best gain: -inf\n",
            "[LightGBM] [Warning] No further splits with positive gain, best gain: -inf\n",
            "[LightGBM] [Warning] No further splits with positive gain, best gain: -inf\n",
            "[LightGBM] [Warning] No further splits with positive gain, best gain: -inf\n",
            "[LightGBM] [Warning] No further splits with positive gain, best gain: -inf\n",
            "[LightGBM] [Warning] No further splits with positive gain, best gain: -inf\n",
            "[LightGBM] [Warning] No further splits with positive gain, best gain: -inf\n",
            "[LightGBM] [Warning] No further splits with positive gain, best gain: -inf\n",
            "[LightGBM] [Warning] No further splits with positive gain, best gain: -inf\n",
            "[LightGBM] [Warning] No further splits with positive gain, best gain: -inf\n",
            "[LightGBM] [Warning] No further splits with positive gain, best gain: -inf\n",
            "[LightGBM] [Warning] No further splits with positive gain, best gain: -inf\n",
            "[LightGBM] [Warning] No further splits with positive gain, best gain: -inf\n",
            "[LightGBM] [Warning] No further splits with positive gain, best gain: -inf\n",
            "[LightGBM] [Warning] No further splits with positive gain, best gain: -inf\n",
            "[LightGBM] [Warning] No further splits with positive gain, best gain: -inf\n",
            "[LightGBM] [Warning] No further splits with positive gain, best gain: -inf\n",
            "[LightGBM] [Warning] No further splits with positive gain, best gain: -inf\n",
            "[LightGBM] [Warning] No further splits with positive gain, best gain: -inf\n",
            "[LightGBM] [Warning] No further splits with positive gain, best gain: -inf\n",
            "[LightGBM] [Warning] No further splits with positive gain, best gain: -inf\n",
            "[LightGBM] [Warning] No further splits with positive gain, best gain: -inf\n",
            "[LightGBM] [Warning] No further splits with positive gain, best gain: -inf\n",
            "[LightGBM] [Warning] No further splits with positive gain, best gain: -inf\n",
            "[LightGBM] [Warning] No further splits with positive gain, best gain: -inf\n",
            "[LightGBM] [Warning] No further splits with positive gain, best gain: -inf\n",
            "[LightGBM] [Warning] No further splits with positive gain, best gain: -inf\n",
            "[LightGBM] [Warning] No further splits with positive gain, best gain: -inf\n",
            "[LightGBM] [Warning] No further splits with positive gain, best gain: -inf\n",
            "[LightGBM] [Warning] No further splits with positive gain, best gain: -inf\n",
            "[LightGBM] [Warning] No further splits with positive gain, best gain: -inf\n",
            "[LightGBM] [Warning] No further splits with positive gain, best gain: -inf\n",
            "[LightGBM] [Warning] No further splits with positive gain, best gain: -inf\n",
            "[LightGBM] [Warning] No further splits with positive gain, best gain: -inf\n",
            "[LightGBM] [Warning] No further splits with positive gain, best gain: -inf\n",
            "[LightGBM] [Warning] No further splits with positive gain, best gain: -inf\n",
            "[LightGBM] [Warning] No further splits with positive gain, best gain: -inf\n",
            "[LightGBM] [Warning] No further splits with positive gain, best gain: -inf\n",
            "[LightGBM] [Warning] No further splits with positive gain, best gain: -inf\n",
            "[LightGBM] [Warning] No further splits with positive gain, best gain: -inf\n",
            "[LightGBM] [Warning] No further splits with positive gain, best gain: -inf\n",
            "[LightGBM] [Warning] No further splits with positive gain, best gain: -inf\n",
            "[LightGBM] [Warning] No further splits with positive gain, best gain: -inf\n",
            "[LightGBM] [Warning] No further splits with positive gain, best gain: -inf\n",
            "[LightGBM] [Warning] No further splits with positive gain, best gain: -inf\n",
            "[LightGBM] [Warning] No further splits with positive gain, best gain: -inf\n",
            "[LightGBM] [Warning] No further splits with positive gain, best gain: -inf\n",
            "[LightGBM] [Warning] No further splits with positive gain, best gain: -inf\n",
            "[LightGBM] [Warning] No further splits with positive gain, best gain: -inf\n",
            "[LightGBM] [Warning] No further splits with positive gain, best gain: -inf\n",
            "[LightGBM] [Warning] No further splits with positive gain, best gain: -inf\n",
            "[LightGBM] [Warning] No further splits with positive gain, best gain: -inf\n",
            "[LightGBM] [Warning] No further splits with positive gain, best gain: -inf\n",
            "[LightGBM] [Warning] No further splits with positive gain, best gain: -inf\n",
            "[LightGBM] [Warning] No further splits with positive gain, best gain: -inf\n",
            "[LightGBM] [Warning] No further splits with positive gain, best gain: -inf\n",
            "[LightGBM] [Warning] No further splits with positive gain, best gain: -inf\n",
            "[LightGBM] [Warning] No further splits with positive gain, best gain: -inf\n",
            "[LightGBM] [Warning] No further splits with positive gain, best gain: -inf\n",
            "[LightGBM] [Warning] No further splits with positive gain, best gain: -inf\n",
            "[LightGBM] [Warning] No further splits with positive gain, best gain: -inf\n",
            "[LightGBM] [Warning] No further splits with positive gain, best gain: -inf\n",
            "[LightGBM] [Warning] No further splits with positive gain, best gain: -inf\n",
            "[LightGBM] [Warning] No further splits with positive gain, best gain: -inf\n",
            "[LightGBM] [Warning] No further splits with positive gain, best gain: -inf\n",
            "[LightGBM] [Warning] No further splits with positive gain, best gain: -inf\n",
            "[LightGBM] [Warning] No further splits with positive gain, best gain: -inf\n",
            "[LightGBM] [Warning] No further splits with positive gain, best gain: -inf\n",
            "[LightGBM] [Warning] No further splits with positive gain, best gain: -inf\n",
            "[LightGBM] [Warning] No further splits with positive gain, best gain: -inf\n",
            "[LightGBM] [Warning] No further splits with positive gain, best gain: -inf\n",
            "[LightGBM] [Warning] No further splits with positive gain, best gain: -inf\n",
            "[LightGBM] [Warning] No further splits with positive gain, best gain: -inf\n",
            "[LightGBM] [Warning] No further splits with positive gain, best gain: -inf\n",
            "[LightGBM] [Warning] No further splits with positive gain, best gain: -inf\n",
            "[LightGBM] [Warning] No further splits with positive gain, best gain: -inf\n",
            "[LightGBM] [Warning] No further splits with positive gain, best gain: -inf\n",
            "[LightGBM] [Warning] No further splits with positive gain, best gain: -inf\n",
            "[LightGBM] [Warning] No further splits with positive gain, best gain: -inf\n",
            "[LightGBM] [Warning] No further splits with positive gain, best gain: -inf\n",
            "[LightGBM] [Warning] No further splits with positive gain, best gain: -inf\n",
            "[LightGBM] [Warning] No further splits with positive gain, best gain: -inf\n",
            "[LightGBM] [Warning] No further splits with positive gain, best gain: -inf\n",
            "[LightGBM] [Warning] No further splits with positive gain, best gain: -inf\n",
            "[LightGBM] [Warning] No further splits with positive gain, best gain: -inf\n",
            "[LightGBM] [Warning] No further splits with positive gain, best gain: -inf\n",
            "[LightGBM] [Warning] No further splits with positive gain, best gain: -inf\n",
            "[LightGBM] [Warning] No further splits with positive gain, best gain: -inf\n",
            "[LightGBM] [Warning] No further splits with positive gain, best gain: -inf\n",
            "[LightGBM] [Warning] No further splits with positive gain, best gain: -inf\n",
            "[LightGBM] [Warning] No further splits with positive gain, best gain: -inf\n",
            "[LightGBM] [Warning] No further splits with positive gain, best gain: -inf\n",
            "[LightGBM] [Warning] No further splits with positive gain, best gain: -inf\n",
            "[LightGBM] [Warning] No further splits with positive gain, best gain: -inf\n",
            "[LightGBM] [Warning] No further splits with positive gain, best gain: -inf\n",
            "[LightGBM] [Warning] No further splits with positive gain, best gain: -inf\n",
            "[LightGBM] [Warning] No further splits with positive gain, best gain: -inf\n",
            "[LightGBM] [Warning] No further splits with positive gain, best gain: -inf\n",
            "[LightGBM] [Warning] No further splits with positive gain, best gain: -inf\n",
            "[LightGBM] [Warning] No further splits with positive gain, best gain: -inf\n",
            "[LightGBM] [Warning] No further splits with positive gain, best gain: -inf\n",
            "[LightGBM] [Warning] No further splits with positive gain, best gain: -inf\n",
            "[LightGBM] [Warning] No further splits with positive gain, best gain: -inf\n",
            "[LightGBM] [Warning] No further splits with positive gain, best gain: -inf\n",
            "[LightGBM] [Warning] No further splits with positive gain, best gain: -inf\n",
            "[LightGBM] [Warning] No further splits with positive gain, best gain: -inf\n",
            "[LightGBM] [Warning] No further splits with positive gain, best gain: -inf\n",
            "[LightGBM] [Warning] No further splits with positive gain, best gain: -inf\n",
            "[LightGBM] [Warning] No further splits with positive gain, best gain: -inf\n",
            "[LightGBM] [Warning] No further splits with positive gain, best gain: -inf\n",
            "[LightGBM] [Warning] No further splits with positive gain, best gain: -inf\n",
            "[LightGBM] [Warning] No further splits with positive gain, best gain: -inf\n",
            "[LightGBM] [Warning] No further splits with positive gain, best gain: -inf\n",
            "[LightGBM] [Warning] No further splits with positive gain, best gain: -inf\n",
            "[LightGBM] [Warning] No further splits with positive gain, best gain: -inf\n",
            "[LightGBM] [Warning] No further splits with positive gain, best gain: -inf\n",
            "[LightGBM] [Warning] No further splits with positive gain, best gain: -inf\n",
            "[LightGBM] [Warning] No further splits with positive gain, best gain: -inf\n",
            "[LightGBM] [Warning] No further splits with positive gain, best gain: -inf\n",
            "[LightGBM] [Warning] No further splits with positive gain, best gain: -inf\n",
            "[LightGBM] [Warning] No further splits with positive gain, best gain: -inf\n",
            "[LightGBM] [Warning] No further splits with positive gain, best gain: -inf\n",
            "[LightGBM] [Warning] No further splits with positive gain, best gain: -inf\n",
            "[LightGBM] [Warning] No further splits with positive gain, best gain: -inf\n",
            "[LightGBM] [Warning] No further splits with positive gain, best gain: -inf\n",
            "[LightGBM] [Warning] No further splits with positive gain, best gain: -inf\n",
            "[LightGBM] [Warning] No further splits with positive gain, best gain: -inf\n",
            "[LightGBM] [Warning] No further splits with positive gain, best gain: -inf\n",
            "[LightGBM] [Warning] No further splits with positive gain, best gain: -inf\n",
            "[LightGBM] [Warning] No further splits with positive gain, best gain: -inf\n",
            "[LightGBM] [Warning] No further splits with positive gain, best gain: -inf\n",
            "[LightGBM] [Warning] No further splits with positive gain, best gain: -inf\n",
            "[LightGBM] [Warning] No further splits with positive gain, best gain: -inf\n",
            "[LightGBM] [Warning] No further splits with positive gain, best gain: -inf\n",
            "[LightGBM] [Warning] No further splits with positive gain, best gain: -inf\n",
            "[LightGBM] [Warning] No further splits with positive gain, best gain: -inf\n",
            "[LightGBM] [Warning] No further splits with positive gain, best gain: -inf\n",
            "[LightGBM] [Warning] No further splits with positive gain, best gain: -inf\n",
            "[LightGBM] [Warning] No further splits with positive gain, best gain: -inf\n",
            "[LightGBM] [Warning] No further splits with positive gain, best gain: -inf\n",
            "[LightGBM] [Warning] No further splits with positive gain, best gain: -inf\n",
            "[LightGBM] [Warning] No further splits with positive gain, best gain: -inf\n",
            "[LightGBM] [Warning] No further splits with positive gain, best gain: -inf\n",
            "[LightGBM] [Warning] No further splits with positive gain, best gain: -inf\n",
            "[LightGBM] [Warning] No further splits with positive gain, best gain: -inf\n",
            "[LightGBM] [Warning] No further splits with positive gain, best gain: -inf\n",
            "[LightGBM] [Warning] No further splits with positive gain, best gain: -inf\n",
            "[LightGBM] [Warning] No further splits with positive gain, best gain: -inf\n",
            "[LightGBM] [Warning] No further splits with positive gain, best gain: -inf\n",
            "[LightGBM] [Warning] No further splits with positive gain, best gain: -inf\n",
            "[LightGBM] [Warning] No further splits with positive gain, best gain: -inf\n",
            "[LightGBM] [Warning] No further splits with positive gain, best gain: -inf\n",
            "[LightGBM] [Warning] No further splits with positive gain, best gain: -inf\n",
            "[LightGBM] [Warning] No further splits with positive gain, best gain: -inf\n",
            "[LightGBM] [Warning] No further splits with positive gain, best gain: -inf\n",
            "[LightGBM] [Warning] No further splits with positive gain, best gain: -inf\n",
            "[LightGBM] [Warning] No further splits with positive gain, best gain: -inf\n",
            "[LightGBM] [Warning] No further splits with positive gain, best gain: -inf\n",
            "[LightGBM] [Warning] No further splits with positive gain, best gain: -inf\n",
            "[LightGBM] [Warning] No further splits with positive gain, best gain: -inf\n",
            "[LightGBM] [Warning] No further splits with positive gain, best gain: -inf\n",
            "[LightGBM] [Warning] No further splits with positive gain, best gain: -inf\n",
            "[LightGBM] [Warning] No further splits with positive gain, best gain: -inf\n",
            "[LightGBM] [Warning] No further splits with positive gain, best gain: -inf\n",
            "[LightGBM] [Warning] No further splits with positive gain, best gain: -inf\n",
            "[LightGBM] [Warning] No further splits with positive gain, best gain: -inf\n",
            "[LightGBM] [Warning] No further splits with positive gain, best gain: -inf\n",
            "[LightGBM] [Warning] No further splits with positive gain, best gain: -inf\n",
            "[LightGBM] [Warning] No further splits with positive gain, best gain: -inf\n",
            "[LightGBM] [Warning] No further splits with positive gain, best gain: -inf\n",
            "[LightGBM] [Warning] No further splits with positive gain, best gain: -inf\n",
            "[LightGBM] [Warning] No further splits with positive gain, best gain: -inf\n"
          ]
        },
        {
          "output_type": "execute_result",
          "data": {
            "text/plain": [
              "LGBMClassifier(learning_rate=0.01, random_state=42)"
            ],
            "text/html": [
              "<style>#sk-container-id-16 {color: black;background-color: white;}#sk-container-id-16 pre{padding: 0;}#sk-container-id-16 div.sk-toggleable {background-color: white;}#sk-container-id-16 label.sk-toggleable__label {cursor: pointer;display: block;width: 100%;margin-bottom: 0;padding: 0.3em;box-sizing: border-box;text-align: center;}#sk-container-id-16 label.sk-toggleable__label-arrow:before {content: \"▸\";float: left;margin-right: 0.25em;color: #696969;}#sk-container-id-16 label.sk-toggleable__label-arrow:hover:before {color: black;}#sk-container-id-16 div.sk-estimator:hover label.sk-toggleable__label-arrow:before {color: black;}#sk-container-id-16 div.sk-toggleable__content {max-height: 0;max-width: 0;overflow: hidden;text-align: left;background-color: #f0f8ff;}#sk-container-id-16 div.sk-toggleable__content pre {margin: 0.2em;color: black;border-radius: 0.25em;background-color: #f0f8ff;}#sk-container-id-16 input.sk-toggleable__control:checked~div.sk-toggleable__content {max-height: 200px;max-width: 100%;overflow: auto;}#sk-container-id-16 input.sk-toggleable__control:checked~label.sk-toggleable__label-arrow:before {content: \"▾\";}#sk-container-id-16 div.sk-estimator input.sk-toggleable__control:checked~label.sk-toggleable__label {background-color: #d4ebff;}#sk-container-id-16 div.sk-label input.sk-toggleable__control:checked~label.sk-toggleable__label {background-color: #d4ebff;}#sk-container-id-16 input.sk-hidden--visually {border: 0;clip: rect(1px 1px 1px 1px);clip: rect(1px, 1px, 1px, 1px);height: 1px;margin: -1px;overflow: hidden;padding: 0;position: absolute;width: 1px;}#sk-container-id-16 div.sk-estimator {font-family: monospace;background-color: #f0f8ff;border: 1px dotted black;border-radius: 0.25em;box-sizing: border-box;margin-bottom: 0.5em;}#sk-container-id-16 div.sk-estimator:hover {background-color: #d4ebff;}#sk-container-id-16 div.sk-parallel-item::after {content: \"\";width: 100%;border-bottom: 1px solid gray;flex-grow: 1;}#sk-container-id-16 div.sk-label:hover label.sk-toggleable__label {background-color: #d4ebff;}#sk-container-id-16 div.sk-serial::before {content: \"\";position: absolute;border-left: 1px solid gray;box-sizing: border-box;top: 0;bottom: 0;left: 50%;z-index: 0;}#sk-container-id-16 div.sk-serial {display: flex;flex-direction: column;align-items: center;background-color: white;padding-right: 0.2em;padding-left: 0.2em;position: relative;}#sk-container-id-16 div.sk-item {position: relative;z-index: 1;}#sk-container-id-16 div.sk-parallel {display: flex;align-items: stretch;justify-content: center;background-color: white;position: relative;}#sk-container-id-16 div.sk-item::before, #sk-container-id-16 div.sk-parallel-item::before {content: \"\";position: absolute;border-left: 1px solid gray;box-sizing: border-box;top: 0;bottom: 0;left: 50%;z-index: -1;}#sk-container-id-16 div.sk-parallel-item {display: flex;flex-direction: column;z-index: 1;position: relative;background-color: white;}#sk-container-id-16 div.sk-parallel-item:first-child::after {align-self: flex-end;width: 50%;}#sk-container-id-16 div.sk-parallel-item:last-child::after {align-self: flex-start;width: 50%;}#sk-container-id-16 div.sk-parallel-item:only-child::after {width: 0;}#sk-container-id-16 div.sk-dashed-wrapped {border: 1px dashed gray;margin: 0 0.4em 0.5em 0.4em;box-sizing: border-box;padding-bottom: 0.4em;background-color: white;}#sk-container-id-16 div.sk-label label {font-family: monospace;font-weight: bold;display: inline-block;line-height: 1.2em;}#sk-container-id-16 div.sk-label-container {text-align: center;}#sk-container-id-16 div.sk-container {/* jupyter's `normalize.less` sets `[hidden] { display: none; }` but bootstrap.min.css set `[hidden] { display: none !important; }` so we also need the `!important` here to be able to override the default hidden behavior on the sphinx rendered scikit-learn.org. See: https://github.com/scikit-learn/scikit-learn/issues/21755 */display: inline-block !important;position: relative;}#sk-container-id-16 div.sk-text-repr-fallback {display: none;}</style><div id=\"sk-container-id-16\" class=\"sk-top-container\"><div class=\"sk-text-repr-fallback\"><pre>LGBMClassifier(learning_rate=0.01, random_state=42)</pre><b>In a Jupyter environment, please rerun this cell to show the HTML representation or trust the notebook. <br />On GitHub, the HTML representation is unable to render, please try loading this page with nbviewer.org.</b></div><div class=\"sk-container\" hidden><div class=\"sk-item\"><div class=\"sk-estimator sk-toggleable\"><input class=\"sk-toggleable__control sk-hidden--visually\" id=\"sk-estimator-id-16\" type=\"checkbox\" checked><label for=\"sk-estimator-id-16\" class=\"sk-toggleable__label sk-toggleable__label-arrow\">LGBMClassifier</label><div class=\"sk-toggleable__content\"><pre>LGBMClassifier(learning_rate=0.01, random_state=42)</pre></div></div></div></div></div>"
            ]
          },
          "metadata": {},
          "execution_count": 90
        }
      ]
    },
    {
      "cell_type": "code",
      "source": [
        "test_pred = model.predict(X_test)\n",
        "train_pred = model.predict(X_train)"
      ],
      "metadata": {
        "id": "WC91rhlr-yPg"
      },
      "execution_count": 91,
      "outputs": []
    },
    {
      "cell_type": "code",
      "source": [
        "from sklearn.metrics import f1_score\n",
        "print('Macro F1-score on Test is %.2f' %f1_score(y_test, test_pred, average='macro'))\n",
        "print('Macro F1-score on Train is %.2f' %f1_score(y_train, train_pred, average='macro'))"
      ],
      "metadata": {
        "colab": {
          "base_uri": "https://localhost:8080/"
        },
        "id": "T-FuNQe8-zvK",
        "outputId": "3dcf5e10-532a-4b90-8eb8-a6be0c3a9dd2"
      },
      "execution_count": 92,
      "outputs": [
        {
          "output_type": "stream",
          "name": "stdout",
          "text": [
            "Macro F1-score on Test is 0.97\n",
            "Macro F1-score on Train is 1.00\n"
          ]
        }
      ]
    },
    {
      "cell_type": "markdown",
      "source": [
        "## Adaboost or Catboost"
      ],
      "metadata": {
        "id": "nOhO7h-p6vKA"
      }
    },
    {
      "cell_type": "markdown",
      "source": [
        " Catboost is the last boosting method. The noticeable point about is is faster prediction time:"
      ],
      "metadata": {
        "id": "WrMhI7CNnVB5"
      }
    },
    {
      "cell_type": "code",
      "source": [
        "!pip install catboost"
      ],
      "metadata": {
        "colab": {
          "base_uri": "https://localhost:8080/"
        },
        "id": "6CC5mqSpBnv5",
        "outputId": "4fa10ced-dff8-4e05-8274-0082f92e6d12"
      },
      "execution_count": 93,
      "outputs": [
        {
          "output_type": "stream",
          "name": "stdout",
          "text": [
            "Requirement already satisfied: catboost in /usr/local/lib/python3.10/dist-packages (1.2.2)\n",
            "Requirement already satisfied: graphviz in /usr/local/lib/python3.10/dist-packages (from catboost) (0.20.1)\n",
            "Requirement already satisfied: matplotlib in /usr/local/lib/python3.10/dist-packages (from catboost) (3.7.1)\n",
            "Requirement already satisfied: numpy>=1.16.0 in /usr/local/lib/python3.10/dist-packages (from catboost) (1.23.5)\n",
            "Requirement already satisfied: pandas>=0.24 in /usr/local/lib/python3.10/dist-packages (from catboost) (1.5.3)\n",
            "Requirement already satisfied: scipy in /usr/local/lib/python3.10/dist-packages (from catboost) (1.11.3)\n",
            "Requirement already satisfied: plotly in /usr/local/lib/python3.10/dist-packages (from catboost) (5.15.0)\n",
            "Requirement already satisfied: six in /usr/local/lib/python3.10/dist-packages (from catboost) (1.16.0)\n",
            "Requirement already satisfied: python-dateutil>=2.8.1 in /usr/local/lib/python3.10/dist-packages (from pandas>=0.24->catboost) (2.8.2)\n",
            "Requirement already satisfied: pytz>=2020.1 in /usr/local/lib/python3.10/dist-packages (from pandas>=0.24->catboost) (2023.3.post1)\n",
            "Requirement already satisfied: contourpy>=1.0.1 in /usr/local/lib/python3.10/dist-packages (from matplotlib->catboost) (1.2.0)\n",
            "Requirement already satisfied: cycler>=0.10 in /usr/local/lib/python3.10/dist-packages (from matplotlib->catboost) (0.12.1)\n",
            "Requirement already satisfied: fonttools>=4.22.0 in /usr/local/lib/python3.10/dist-packages (from matplotlib->catboost) (4.44.3)\n",
            "Requirement already satisfied: kiwisolver>=1.0.1 in /usr/local/lib/python3.10/dist-packages (from matplotlib->catboost) (1.4.5)\n",
            "Requirement already satisfied: packaging>=20.0 in /usr/local/lib/python3.10/dist-packages (from matplotlib->catboost) (23.2)\n",
            "Requirement already satisfied: pillow>=6.2.0 in /usr/local/lib/python3.10/dist-packages (from matplotlib->catboost) (9.4.0)\n",
            "Requirement already satisfied: pyparsing>=2.3.1 in /usr/local/lib/python3.10/dist-packages (from matplotlib->catboost) (3.1.1)\n",
            "Requirement already satisfied: tenacity>=6.2.0 in /usr/local/lib/python3.10/dist-packages (from plotly->catboost) (8.2.3)\n"
          ]
        }
      ]
    },
    {
      "cell_type": "code",
      "source": [
        "from catboost import CatBoostClassifier\n",
        "model = CatBoostClassifier(random_state=42)\n",
        "model.fit(X_train, y_train)"
      ],
      "metadata": {
        "colab": {
          "base_uri": "https://localhost:8080/"
        },
        "id": "-RtUze_p_bCR",
        "outputId": "9328fbf8-dd36-46d2-8a6b-84cc504425fb"
      },
      "execution_count": 94,
      "outputs": [
        {
          "output_type": "stream",
          "name": "stdout",
          "text": [
            "Learning rate set to 0.072066\n",
            "0:\tlearn: 1.5266793\ttotal: 1.73ms\tremaining: 1.73s\n",
            "1:\tlearn: 1.4737251\ttotal: 3.24ms\tremaining: 1.62s\n",
            "2:\tlearn: 1.3625653\ttotal: 4.26ms\tremaining: 1.41s\n",
            "3:\tlearn: 1.2834890\ttotal: 5.27ms\tremaining: 1.31s\n",
            "4:\tlearn: 1.1875820\ttotal: 5.84ms\tremaining: 1.16s\n",
            "5:\tlearn: 1.1181477\ttotal: 6.56ms\tremaining: 1.09s\n",
            "6:\tlearn: 1.0719729\ttotal: 8.1ms\tremaining: 1.15s\n",
            "7:\tlearn: 1.0224125\ttotal: 9.76ms\tremaining: 1.21s\n",
            "8:\tlearn: 0.9739873\ttotal: 11.3ms\tremaining: 1.25s\n",
            "9:\tlearn: 0.9282998\ttotal: 13.1ms\tremaining: 1.3s\n",
            "10:\tlearn: 0.8979858\ttotal: 14.7ms\tremaining: 1.32s\n",
            "11:\tlearn: 0.8633226\ttotal: 16.1ms\tremaining: 1.32s\n",
            "12:\tlearn: 0.8247658\ttotal: 17.7ms\tremaining: 1.35s\n",
            "13:\tlearn: 0.7941827\ttotal: 19.2ms\tremaining: 1.35s\n",
            "14:\tlearn: 0.7606624\ttotal: 20.7ms\tremaining: 1.36s\n",
            "15:\tlearn: 0.7341305\ttotal: 22.2ms\tremaining: 1.37s\n",
            "16:\tlearn: 0.7107947\ttotal: 23.7ms\tremaining: 1.37s\n",
            "17:\tlearn: 0.6851331\ttotal: 24.7ms\tremaining: 1.34s\n",
            "18:\tlearn: 0.6666021\ttotal: 26.2ms\tremaining: 1.35s\n",
            "19:\tlearn: 0.6449256\ttotal: 27.7ms\tremaining: 1.35s\n",
            "20:\tlearn: 0.6204388\ttotal: 28.7ms\tremaining: 1.34s\n",
            "21:\tlearn: 0.5981945\ttotal: 30.1ms\tremaining: 1.34s\n",
            "22:\tlearn: 0.5815238\ttotal: 31.6ms\tremaining: 1.34s\n",
            "23:\tlearn: 0.5601652\ttotal: 32.6ms\tremaining: 1.32s\n",
            "24:\tlearn: 0.5444197\ttotal: 34.1ms\tremaining: 1.33s\n",
            "25:\tlearn: 0.5251753\ttotal: 35.6ms\tremaining: 1.33s\n",
            "26:\tlearn: 0.5081054\ttotal: 36.5ms\tremaining: 1.32s\n",
            "27:\tlearn: 0.4901345\ttotal: 38ms\tremaining: 1.32s\n",
            "28:\tlearn: 0.4712563\ttotal: 39ms\tremaining: 1.3s\n",
            "29:\tlearn: 0.4549149\ttotal: 40.4ms\tremaining: 1.3s\n",
            "30:\tlearn: 0.4387250\ttotal: 41.1ms\tremaining: 1.28s\n",
            "31:\tlearn: 0.4277494\ttotal: 42.6ms\tremaining: 1.29s\n",
            "32:\tlearn: 0.4096412\ttotal: 43.3ms\tremaining: 1.27s\n",
            "33:\tlearn: 0.3971245\ttotal: 44.8ms\tremaining: 1.27s\n",
            "34:\tlearn: 0.3876933\ttotal: 46.3ms\tremaining: 1.27s\n",
            "35:\tlearn: 0.3800457\ttotal: 47.8ms\tremaining: 1.28s\n",
            "36:\tlearn: 0.3684439\ttotal: 49.2ms\tremaining: 1.28s\n",
            "37:\tlearn: 0.3619731\ttotal: 50.7ms\tremaining: 1.28s\n",
            "38:\tlearn: 0.3545698\ttotal: 52.2ms\tremaining: 1.28s\n",
            "39:\tlearn: 0.3488976\ttotal: 53.7ms\tremaining: 1.29s\n",
            "40:\tlearn: 0.3375948\ttotal: 55.1ms\tremaining: 1.29s\n",
            "41:\tlearn: 0.3312759\ttotal: 56.6ms\tremaining: 1.29s\n",
            "42:\tlearn: 0.3239680\ttotal: 58.1ms\tremaining: 1.29s\n",
            "43:\tlearn: 0.3119957\ttotal: 58.8ms\tremaining: 1.28s\n",
            "44:\tlearn: 0.3059557\ttotal: 60.2ms\tremaining: 1.28s\n",
            "45:\tlearn: 0.2983266\ttotal: 61.7ms\tremaining: 1.28s\n",
            "46:\tlearn: 0.2909396\ttotal: 63.1ms\tremaining: 1.28s\n",
            "47:\tlearn: 0.2850653\ttotal: 63.8ms\tremaining: 1.27s\n",
            "48:\tlearn: 0.2804603\ttotal: 65.3ms\tremaining: 1.27s\n",
            "49:\tlearn: 0.2733190\ttotal: 66.8ms\tremaining: 1.27s\n",
            "50:\tlearn: 0.2658468\ttotal: 68.2ms\tremaining: 1.27s\n",
            "51:\tlearn: 0.2625610\ttotal: 69.7ms\tremaining: 1.27s\n",
            "52:\tlearn: 0.2585227\ttotal: 71.2ms\tremaining: 1.27s\n",
            "53:\tlearn: 0.2514236\ttotal: 72.6ms\tremaining: 1.27s\n",
            "54:\tlearn: 0.2456393\ttotal: 74.2ms\tremaining: 1.27s\n",
            "55:\tlearn: 0.2398872\ttotal: 75.7ms\tremaining: 1.28s\n",
            "56:\tlearn: 0.2337003\ttotal: 77.2ms\tremaining: 1.28s\n",
            "57:\tlearn: 0.2294656\ttotal: 78.7ms\tremaining: 1.28s\n",
            "58:\tlearn: 0.2245511\ttotal: 80.1ms\tremaining: 1.28s\n",
            "59:\tlearn: 0.2212678\ttotal: 81.7ms\tremaining: 1.28s\n",
            "60:\tlearn: 0.2160999\ttotal: 83.1ms\tremaining: 1.28s\n",
            "61:\tlearn: 0.2122607\ttotal: 84.6ms\tremaining: 1.28s\n",
            "62:\tlearn: 0.2087741\ttotal: 86.1ms\tremaining: 1.28s\n",
            "63:\tlearn: 0.2053736\ttotal: 87.6ms\tremaining: 1.28s\n",
            "64:\tlearn: 0.2013284\ttotal: 89ms\tremaining: 1.28s\n",
            "65:\tlearn: 0.1968299\ttotal: 90.4ms\tremaining: 1.28s\n",
            "66:\tlearn: 0.1927440\ttotal: 91.9ms\tremaining: 1.28s\n",
            "67:\tlearn: 0.1881577\ttotal: 93.3ms\tremaining: 1.28s\n",
            "68:\tlearn: 0.1844981\ttotal: 94.7ms\tremaining: 1.28s\n",
            "69:\tlearn: 0.1818381\ttotal: 96.2ms\tremaining: 1.28s\n",
            "70:\tlearn: 0.1776035\ttotal: 97.6ms\tremaining: 1.28s\n",
            "71:\tlearn: 0.1735540\ttotal: 99.1ms\tremaining: 1.28s\n",
            "72:\tlearn: 0.1706917\ttotal: 101ms\tremaining: 1.28s\n",
            "73:\tlearn: 0.1669160\ttotal: 102ms\tremaining: 1.28s\n",
            "74:\tlearn: 0.1638725\ttotal: 104ms\tremaining: 1.28s\n",
            "75:\tlearn: 0.1615547\ttotal: 105ms\tremaining: 1.28s\n",
            "76:\tlearn: 0.1594079\ttotal: 107ms\tremaining: 1.28s\n",
            "77:\tlearn: 0.1566423\ttotal: 108ms\tremaining: 1.28s\n",
            "78:\tlearn: 0.1549656\ttotal: 110ms\tremaining: 1.28s\n",
            "79:\tlearn: 0.1526005\ttotal: 112ms\tremaining: 1.28s\n",
            "80:\tlearn: 0.1495636\ttotal: 113ms\tremaining: 1.28s\n",
            "81:\tlearn: 0.1476168\ttotal: 115ms\tremaining: 1.28s\n",
            "82:\tlearn: 0.1448635\ttotal: 116ms\tremaining: 1.28s\n",
            "83:\tlearn: 0.1421688\ttotal: 118ms\tremaining: 1.28s\n",
            "84:\tlearn: 0.1398593\ttotal: 119ms\tremaining: 1.29s\n",
            "85:\tlearn: 0.1375865\ttotal: 121ms\tremaining: 1.29s\n",
            "86:\tlearn: 0.1351411\ttotal: 123ms\tremaining: 1.29s\n",
            "87:\tlearn: 0.1331786\ttotal: 124ms\tremaining: 1.28s\n",
            "88:\tlearn: 0.1306252\ttotal: 126ms\tremaining: 1.28s\n",
            "89:\tlearn: 0.1287578\ttotal: 127ms\tremaining: 1.28s\n",
            "90:\tlearn: 0.1264077\ttotal: 129ms\tremaining: 1.29s\n",
            "91:\tlearn: 0.1243697\ttotal: 131ms\tremaining: 1.3s\n",
            "92:\tlearn: 0.1223986\ttotal: 133ms\tremaining: 1.3s\n",
            "93:\tlearn: 0.1204842\ttotal: 134ms\tremaining: 1.29s\n",
            "94:\tlearn: 0.1187699\ttotal: 136ms\tremaining: 1.29s\n",
            "95:\tlearn: 0.1170462\ttotal: 138ms\tremaining: 1.29s\n",
            "96:\tlearn: 0.1150580\ttotal: 141ms\tremaining: 1.31s\n",
            "97:\tlearn: 0.1134018\ttotal: 142ms\tremaining: 1.31s\n",
            "98:\tlearn: 0.1116634\ttotal: 144ms\tremaining: 1.31s\n",
            "99:\tlearn: 0.1100452\ttotal: 145ms\tremaining: 1.31s\n",
            "100:\tlearn: 0.1083264\ttotal: 147ms\tremaining: 1.31s\n",
            "101:\tlearn: 0.1066997\ttotal: 148ms\tremaining: 1.3s\n",
            "102:\tlearn: 0.1054745\ttotal: 150ms\tremaining: 1.3s\n",
            "103:\tlearn: 0.1040749\ttotal: 152ms\tremaining: 1.3s\n",
            "104:\tlearn: 0.1025032\ttotal: 153ms\tremaining: 1.3s\n",
            "105:\tlearn: 0.1011683\ttotal: 155ms\tremaining: 1.3s\n",
            "106:\tlearn: 0.0999257\ttotal: 156ms\tremaining: 1.3s\n",
            "107:\tlearn: 0.0983977\ttotal: 158ms\tremaining: 1.3s\n",
            "108:\tlearn: 0.0971968\ttotal: 159ms\tremaining: 1.3s\n",
            "109:\tlearn: 0.0961249\ttotal: 160ms\tremaining: 1.3s\n",
            "110:\tlearn: 0.0951485\ttotal: 162ms\tremaining: 1.3s\n",
            "111:\tlearn: 0.0941071\ttotal: 163ms\tremaining: 1.29s\n",
            "112:\tlearn: 0.0931157\ttotal: 165ms\tremaining: 1.29s\n",
            "113:\tlearn: 0.0918655\ttotal: 166ms\tremaining: 1.29s\n",
            "114:\tlearn: 0.0908724\ttotal: 168ms\tremaining: 1.29s\n",
            "115:\tlearn: 0.0896619\ttotal: 169ms\tremaining: 1.29s\n",
            "116:\tlearn: 0.0884873\ttotal: 171ms\tremaining: 1.29s\n",
            "117:\tlearn: 0.0873207\ttotal: 172ms\tremaining: 1.29s\n",
            "118:\tlearn: 0.0863720\ttotal: 174ms\tremaining: 1.28s\n",
            "119:\tlearn: 0.0853789\ttotal: 175ms\tremaining: 1.28s\n",
            "120:\tlearn: 0.0842357\ttotal: 177ms\tremaining: 1.28s\n",
            "121:\tlearn: 0.0834002\ttotal: 178ms\tremaining: 1.28s\n",
            "122:\tlearn: 0.0822764\ttotal: 179ms\tremaining: 1.28s\n",
            "123:\tlearn: 0.0813259\ttotal: 181ms\tremaining: 1.28s\n",
            "124:\tlearn: 0.0803094\ttotal: 183ms\tremaining: 1.28s\n",
            "125:\tlearn: 0.0792718\ttotal: 185ms\tremaining: 1.28s\n",
            "126:\tlearn: 0.0785225\ttotal: 188ms\tremaining: 1.29s\n",
            "127:\tlearn: 0.0777886\ttotal: 190ms\tremaining: 1.29s\n",
            "128:\tlearn: 0.0769214\ttotal: 191ms\tremaining: 1.29s\n",
            "129:\tlearn: 0.0760292\ttotal: 193ms\tremaining: 1.29s\n",
            "130:\tlearn: 0.0751190\ttotal: 194ms\tremaining: 1.29s\n",
            "131:\tlearn: 0.0744389\ttotal: 196ms\tremaining: 1.29s\n",
            "132:\tlearn: 0.0737579\ttotal: 197ms\tremaining: 1.28s\n",
            "133:\tlearn: 0.0728859\ttotal: 199ms\tremaining: 1.28s\n",
            "134:\tlearn: 0.0722408\ttotal: 200ms\tremaining: 1.28s\n",
            "135:\tlearn: 0.0716358\ttotal: 202ms\tremaining: 1.28s\n",
            "136:\tlearn: 0.0709974\ttotal: 203ms\tremaining: 1.28s\n",
            "137:\tlearn: 0.0702791\ttotal: 205ms\tremaining: 1.28s\n",
            "138:\tlearn: 0.0696794\ttotal: 206ms\tremaining: 1.27s\n",
            "139:\tlearn: 0.0690766\ttotal: 207ms\tremaining: 1.27s\n",
            "140:\tlearn: 0.0684695\ttotal: 209ms\tremaining: 1.27s\n",
            "141:\tlearn: 0.0677329\ttotal: 210ms\tremaining: 1.27s\n",
            "142:\tlearn: 0.0671022\ttotal: 212ms\tremaining: 1.27s\n",
            "143:\tlearn: 0.0663424\ttotal: 213ms\tremaining: 1.27s\n",
            "144:\tlearn: 0.0656314\ttotal: 215ms\tremaining: 1.26s\n",
            "145:\tlearn: 0.0649849\ttotal: 216ms\tremaining: 1.26s\n",
            "146:\tlearn: 0.0644335\ttotal: 217ms\tremaining: 1.26s\n",
            "147:\tlearn: 0.0639197\ttotal: 219ms\tremaining: 1.26s\n",
            "148:\tlearn: 0.0633235\ttotal: 220ms\tremaining: 1.26s\n",
            "149:\tlearn: 0.0627403\ttotal: 222ms\tremaining: 1.26s\n",
            "150:\tlearn: 0.0622568\ttotal: 223ms\tremaining: 1.25s\n",
            "151:\tlearn: 0.0616328\ttotal: 225ms\tremaining: 1.25s\n",
            "152:\tlearn: 0.0611581\ttotal: 226ms\tremaining: 1.25s\n",
            "153:\tlearn: 0.0606098\ttotal: 228ms\tremaining: 1.25s\n",
            "154:\tlearn: 0.0601497\ttotal: 229ms\tremaining: 1.25s\n",
            "155:\tlearn: 0.0595632\ttotal: 231ms\tremaining: 1.25s\n",
            "156:\tlearn: 0.0591183\ttotal: 232ms\tremaining: 1.25s\n",
            "157:\tlearn: 0.0585241\ttotal: 234ms\tremaining: 1.25s\n",
            "158:\tlearn: 0.0579673\ttotal: 235ms\tremaining: 1.24s\n",
            "159:\tlearn: 0.0574743\ttotal: 237ms\tremaining: 1.24s\n",
            "160:\tlearn: 0.0569701\ttotal: 238ms\tremaining: 1.24s\n",
            "161:\tlearn: 0.0565604\ttotal: 239ms\tremaining: 1.24s\n",
            "162:\tlearn: 0.0560998\ttotal: 241ms\tremaining: 1.24s\n",
            "163:\tlearn: 0.0555844\ttotal: 242ms\tremaining: 1.24s\n",
            "164:\tlearn: 0.0551556\ttotal: 244ms\tremaining: 1.23s\n",
            "165:\tlearn: 0.0547706\ttotal: 245ms\tremaining: 1.23s\n",
            "166:\tlearn: 0.0543890\ttotal: 247ms\tremaining: 1.23s\n",
            "167:\tlearn: 0.0539039\ttotal: 248ms\tremaining: 1.23s\n",
            "168:\tlearn: 0.0534058\ttotal: 250ms\tremaining: 1.23s\n",
            "169:\tlearn: 0.0529862\ttotal: 252ms\tremaining: 1.23s\n",
            "170:\tlearn: 0.0525983\ttotal: 253ms\tremaining: 1.23s\n",
            "171:\tlearn: 0.0521920\ttotal: 255ms\tremaining: 1.23s\n",
            "172:\tlearn: 0.0518156\ttotal: 256ms\tremaining: 1.22s\n",
            "173:\tlearn: 0.0514524\ttotal: 257ms\tremaining: 1.22s\n",
            "174:\tlearn: 0.0510022\ttotal: 259ms\tremaining: 1.22s\n",
            "175:\tlearn: 0.0506676\ttotal: 260ms\tremaining: 1.22s\n",
            "176:\tlearn: 0.0502985\ttotal: 262ms\tremaining: 1.22s\n",
            "177:\tlearn: 0.0499742\ttotal: 263ms\tremaining: 1.22s\n",
            "178:\tlearn: 0.0496080\ttotal: 265ms\tremaining: 1.21s\n",
            "179:\tlearn: 0.0492858\ttotal: 266ms\tremaining: 1.21s\n",
            "180:\tlearn: 0.0489135\ttotal: 267ms\tremaining: 1.21s\n",
            "181:\tlearn: 0.0485360\ttotal: 269ms\tremaining: 1.21s\n",
            "182:\tlearn: 0.0482316\ttotal: 270ms\tremaining: 1.21s\n",
            "183:\tlearn: 0.0479320\ttotal: 272ms\tremaining: 1.21s\n",
            "184:\tlearn: 0.0476345\ttotal: 273ms\tremaining: 1.2s\n",
            "185:\tlearn: 0.0472493\ttotal: 275ms\tremaining: 1.2s\n",
            "186:\tlearn: 0.0468595\ttotal: 276ms\tremaining: 1.2s\n",
            "187:\tlearn: 0.0464738\ttotal: 278ms\tremaining: 1.2s\n",
            "188:\tlearn: 0.0460958\ttotal: 279ms\tremaining: 1.2s\n",
            "189:\tlearn: 0.0457221\ttotal: 281ms\tremaining: 1.2s\n",
            "190:\tlearn: 0.0454036\ttotal: 282ms\tremaining: 1.19s\n",
            "191:\tlearn: 0.0450525\ttotal: 283ms\tremaining: 1.19s\n",
            "192:\tlearn: 0.0447656\ttotal: 285ms\tremaining: 1.19s\n",
            "193:\tlearn: 0.0444525\ttotal: 286ms\tremaining: 1.19s\n",
            "194:\tlearn: 0.0441505\ttotal: 288ms\tremaining: 1.19s\n",
            "195:\tlearn: 0.0438669\ttotal: 289ms\tremaining: 1.19s\n",
            "196:\tlearn: 0.0436157\ttotal: 291ms\tremaining: 1.18s\n",
            "197:\tlearn: 0.0433040\ttotal: 292ms\tremaining: 1.18s\n",
            "198:\tlearn: 0.0429723\ttotal: 294ms\tremaining: 1.18s\n",
            "199:\tlearn: 0.0426920\ttotal: 295ms\tremaining: 1.18s\n",
            "200:\tlearn: 0.0423691\ttotal: 296ms\tremaining: 1.18s\n",
            "201:\tlearn: 0.0421411\ttotal: 298ms\tremaining: 1.18s\n",
            "202:\tlearn: 0.0419071\ttotal: 299ms\tremaining: 1.17s\n",
            "203:\tlearn: 0.0416094\ttotal: 301ms\tremaining: 1.17s\n",
            "204:\tlearn: 0.0413580\ttotal: 302ms\tremaining: 1.17s\n",
            "205:\tlearn: 0.0410599\ttotal: 303ms\tremaining: 1.17s\n",
            "206:\tlearn: 0.0408399\ttotal: 305ms\tremaining: 1.17s\n",
            "207:\tlearn: 0.0405767\ttotal: 306ms\tremaining: 1.17s\n",
            "208:\tlearn: 0.0403643\ttotal: 308ms\tremaining: 1.16s\n",
            "209:\tlearn: 0.0401269\ttotal: 309ms\tremaining: 1.16s\n",
            "210:\tlearn: 0.0398571\ttotal: 311ms\tremaining: 1.16s\n",
            "211:\tlearn: 0.0396437\ttotal: 312ms\tremaining: 1.16s\n",
            "212:\tlearn: 0.0393873\ttotal: 314ms\tremaining: 1.16s\n",
            "213:\tlearn: 0.0391580\ttotal: 315ms\tremaining: 1.16s\n",
            "214:\tlearn: 0.0389549\ttotal: 316ms\tremaining: 1.16s\n",
            "215:\tlearn: 0.0387523\ttotal: 318ms\tremaining: 1.15s\n",
            "216:\tlearn: 0.0384956\ttotal: 319ms\tremaining: 1.15s\n",
            "217:\tlearn: 0.0382777\ttotal: 321ms\tremaining: 1.15s\n",
            "218:\tlearn: 0.0380826\ttotal: 322ms\tremaining: 1.15s\n",
            "219:\tlearn: 0.0378511\ttotal: 324ms\tremaining: 1.15s\n",
            "220:\tlearn: 0.0376293\ttotal: 327ms\tremaining: 1.15s\n",
            "221:\tlearn: 0.0374218\ttotal: 329ms\tremaining: 1.15s\n",
            "222:\tlearn: 0.0372346\ttotal: 332ms\tremaining: 1.16s\n",
            "223:\tlearn: 0.0370182\ttotal: 334ms\tremaining: 1.16s\n",
            "224:\tlearn: 0.0367901\ttotal: 337ms\tremaining: 1.16s\n",
            "225:\tlearn: 0.0366096\ttotal: 340ms\tremaining: 1.16s\n",
            "226:\tlearn: 0.0364308\ttotal: 342ms\tremaining: 1.16s\n",
            "227:\tlearn: 0.0361923\ttotal: 343ms\tremaining: 1.16s\n",
            "228:\tlearn: 0.0360168\ttotal: 345ms\tremaining: 1.16s\n",
            "229:\tlearn: 0.0358401\ttotal: 346ms\tremaining: 1.16s\n",
            "230:\tlearn: 0.0356650\ttotal: 348ms\tremaining: 1.16s\n",
            "231:\tlearn: 0.0354427\ttotal: 349ms\tremaining: 1.16s\n",
            "232:\tlearn: 0.0352523\ttotal: 350ms\tremaining: 1.15s\n",
            "233:\tlearn: 0.0350763\ttotal: 352ms\tremaining: 1.15s\n",
            "234:\tlearn: 0.0349020\ttotal: 353ms\tremaining: 1.15s\n",
            "235:\tlearn: 0.0346957\ttotal: 354ms\tremaining: 1.15s\n",
            "236:\tlearn: 0.0345344\ttotal: 356ms\tremaining: 1.15s\n",
            "237:\tlearn: 0.0343581\ttotal: 357ms\tremaining: 1.14s\n",
            "238:\tlearn: 0.0341991\ttotal: 359ms\tremaining: 1.14s\n",
            "239:\tlearn: 0.0340003\ttotal: 360ms\tremaining: 1.14s\n",
            "240:\tlearn: 0.0338420\ttotal: 362ms\tremaining: 1.14s\n",
            "241:\tlearn: 0.0336581\ttotal: 363ms\tremaining: 1.14s\n",
            "242:\tlearn: 0.0334768\ttotal: 365ms\tremaining: 1.14s\n",
            "243:\tlearn: 0.0333261\ttotal: 366ms\tremaining: 1.13s\n",
            "244:\tlearn: 0.0331369\ttotal: 368ms\tremaining: 1.13s\n",
            "245:\tlearn: 0.0329767\ttotal: 369ms\tremaining: 1.13s\n",
            "246:\tlearn: 0.0327880\ttotal: 370ms\tremaining: 1.13s\n",
            "247:\tlearn: 0.0326042\ttotal: 372ms\tremaining: 1.13s\n",
            "248:\tlearn: 0.0324359\ttotal: 378ms\tremaining: 1.14s\n",
            "249:\tlearn: 0.0322755\ttotal: 380ms\tremaining: 1.14s\n",
            "250:\tlearn: 0.0321102\ttotal: 381ms\tremaining: 1.14s\n",
            "251:\tlearn: 0.0319286\ttotal: 383ms\tremaining: 1.14s\n",
            "252:\tlearn: 0.0317796\ttotal: 384ms\tremaining: 1.13s\n",
            "253:\tlearn: 0.0316321\ttotal: 386ms\tremaining: 1.13s\n",
            "254:\tlearn: 0.0314966\ttotal: 387ms\tremaining: 1.13s\n",
            "255:\tlearn: 0.0313153\ttotal: 389ms\tremaining: 1.13s\n",
            "256:\tlearn: 0.0311628\ttotal: 390ms\tremaining: 1.13s\n",
            "257:\tlearn: 0.0309939\ttotal: 392ms\tremaining: 1.13s\n",
            "258:\tlearn: 0.0308345\ttotal: 393ms\tremaining: 1.12s\n",
            "259:\tlearn: 0.0307054\ttotal: 394ms\tremaining: 1.12s\n",
            "260:\tlearn: 0.0305412\ttotal: 396ms\tremaining: 1.12s\n",
            "261:\tlearn: 0.0304139\ttotal: 397ms\tremaining: 1.12s\n",
            "262:\tlearn: 0.0302735\ttotal: 399ms\tremaining: 1.12s\n",
            "263:\tlearn: 0.0301162\ttotal: 400ms\tremaining: 1.12s\n",
            "264:\tlearn: 0.0299759\ttotal: 402ms\tremaining: 1.11s\n",
            "265:\tlearn: 0.0298535\ttotal: 403ms\tremaining: 1.11s\n",
            "266:\tlearn: 0.0296447\ttotal: 405ms\tremaining: 1.11s\n",
            "267:\tlearn: 0.0295245\ttotal: 406ms\tremaining: 1.11s\n",
            "268:\tlearn: 0.0294072\ttotal: 407ms\tremaining: 1.11s\n",
            "269:\tlearn: 0.0292827\ttotal: 409ms\tremaining: 1.1s\n",
            "270:\tlearn: 0.0291574\ttotal: 410ms\tremaining: 1.1s\n",
            "271:\tlearn: 0.0290214\ttotal: 412ms\tremaining: 1.1s\n",
            "272:\tlearn: 0.0288989\ttotal: 414ms\tremaining: 1.1s\n",
            "273:\tlearn: 0.0287566\ttotal: 415ms\tremaining: 1.1s\n",
            "274:\tlearn: 0.0286412\ttotal: 417ms\tremaining: 1.1s\n",
            "275:\tlearn: 0.0285098\ttotal: 418ms\tremaining: 1.1s\n",
            "276:\tlearn: 0.0283990\ttotal: 420ms\tremaining: 1.09s\n",
            "277:\tlearn: 0.0282531\ttotal: 421ms\tremaining: 1.09s\n",
            "278:\tlearn: 0.0281195\ttotal: 423ms\tremaining: 1.09s\n",
            "279:\tlearn: 0.0279886\ttotal: 424ms\tremaining: 1.09s\n",
            "280:\tlearn: 0.0278442\ttotal: 426ms\tremaining: 1.09s\n",
            "281:\tlearn: 0.0277060\ttotal: 427ms\tremaining: 1.09s\n",
            "282:\tlearn: 0.0275712\ttotal: 429ms\tremaining: 1.08s\n",
            "283:\tlearn: 0.0274357\ttotal: 430ms\tremaining: 1.08s\n",
            "284:\tlearn: 0.0273084\ttotal: 431ms\tremaining: 1.08s\n",
            "285:\tlearn: 0.0271734\ttotal: 433ms\tremaining: 1.08s\n",
            "286:\tlearn: 0.0270716\ttotal: 434ms\tremaining: 1.08s\n",
            "287:\tlearn: 0.0269709\ttotal: 436ms\tremaining: 1.08s\n",
            "288:\tlearn: 0.0268504\ttotal: 437ms\tremaining: 1.07s\n",
            "289:\tlearn: 0.0267448\ttotal: 439ms\tremaining: 1.07s\n",
            "290:\tlearn: 0.0266461\ttotal: 440ms\tremaining: 1.07s\n",
            "291:\tlearn: 0.0264697\ttotal: 442ms\tremaining: 1.07s\n",
            "292:\tlearn: 0.0263461\ttotal: 443ms\tremaining: 1.07s\n",
            "293:\tlearn: 0.0262504\ttotal: 445ms\tremaining: 1.07s\n",
            "294:\tlearn: 0.0261270\ttotal: 446ms\tremaining: 1.07s\n",
            "295:\tlearn: 0.0260066\ttotal: 448ms\tremaining: 1.06s\n",
            "296:\tlearn: 0.0258957\ttotal: 449ms\tremaining: 1.06s\n",
            "297:\tlearn: 0.0257790\ttotal: 451ms\tremaining: 1.06s\n",
            "298:\tlearn: 0.0256863\ttotal: 452ms\tremaining: 1.06s\n",
            "299:\tlearn: 0.0255950\ttotal: 453ms\tremaining: 1.06s\n",
            "300:\tlearn: 0.0255176\ttotal: 455ms\tremaining: 1.06s\n",
            "301:\tlearn: 0.0254274\ttotal: 457ms\tremaining: 1.05s\n",
            "302:\tlearn: 0.0253362\ttotal: 458ms\tremaining: 1.05s\n",
            "303:\tlearn: 0.0252674\ttotal: 460ms\tremaining: 1.05s\n",
            "304:\tlearn: 0.0251743\ttotal: 461ms\tremaining: 1.05s\n",
            "305:\tlearn: 0.0250851\ttotal: 462ms\tremaining: 1.05s\n",
            "306:\tlearn: 0.0249891\ttotal: 464ms\tremaining: 1.05s\n",
            "307:\tlearn: 0.0249026\ttotal: 465ms\tremaining: 1.04s\n",
            "308:\tlearn: 0.0248153\ttotal: 467ms\tremaining: 1.04s\n",
            "309:\tlearn: 0.0247213\ttotal: 468ms\tremaining: 1.04s\n",
            "310:\tlearn: 0.0246359\ttotal: 470ms\tremaining: 1.04s\n",
            "311:\tlearn: 0.0245518\ttotal: 471ms\tremaining: 1.04s\n",
            "312:\tlearn: 0.0244667\ttotal: 473ms\tremaining: 1.04s\n",
            "313:\tlearn: 0.0243683\ttotal: 474ms\tremaining: 1.04s\n",
            "314:\tlearn: 0.0242787\ttotal: 476ms\tremaining: 1.03s\n",
            "315:\tlearn: 0.0241724\ttotal: 477ms\tremaining: 1.03s\n",
            "316:\tlearn: 0.0240686\ttotal: 479ms\tremaining: 1.03s\n",
            "317:\tlearn: 0.0239657\ttotal: 480ms\tremaining: 1.03s\n",
            "318:\tlearn: 0.0238582\ttotal: 482ms\tremaining: 1.03s\n",
            "319:\tlearn: 0.0237585\ttotal: 483ms\tremaining: 1.03s\n",
            "320:\tlearn: 0.0236604\ttotal: 485ms\tremaining: 1.02s\n",
            "321:\tlearn: 0.0235825\ttotal: 486ms\tremaining: 1.02s\n",
            "322:\tlearn: 0.0235209\ttotal: 488ms\tremaining: 1.02s\n",
            "323:\tlearn: 0.0234310\ttotal: 489ms\tremaining: 1.02s\n",
            "324:\tlearn: 0.0233546\ttotal: 491ms\tremaining: 1.02s\n",
            "325:\tlearn: 0.0232789\ttotal: 492ms\tremaining: 1.02s\n",
            "326:\tlearn: 0.0231810\ttotal: 494ms\tremaining: 1.02s\n",
            "327:\tlearn: 0.0231062\ttotal: 495ms\tremaining: 1.01s\n",
            "328:\tlearn: 0.0230175\ttotal: 497ms\tremaining: 1.01s\n",
            "329:\tlearn: 0.0229425\ttotal: 498ms\tremaining: 1.01s\n",
            "330:\tlearn: 0.0228502\ttotal: 500ms\tremaining: 1.01s\n",
            "331:\tlearn: 0.0227789\ttotal: 501ms\tremaining: 1.01s\n",
            "332:\tlearn: 0.0226931\ttotal: 502ms\tremaining: 1.01s\n",
            "333:\tlearn: 0.0226213\ttotal: 504ms\tremaining: 1s\n",
            "334:\tlearn: 0.0225252\ttotal: 505ms\tremaining: 1s\n",
            "335:\tlearn: 0.0224543\ttotal: 507ms\tremaining: 1s\n",
            "336:\tlearn: 0.0223842\ttotal: 508ms\tremaining: 1s\n",
            "337:\tlearn: 0.0223105\ttotal: 510ms\tremaining: 999ms\n",
            "338:\tlearn: 0.0222341\ttotal: 511ms\tremaining: 997ms\n",
            "339:\tlearn: 0.0221415\ttotal: 513ms\tremaining: 996ms\n",
            "340:\tlearn: 0.0220591\ttotal: 514ms\tremaining: 994ms\n",
            "341:\tlearn: 0.0220051\ttotal: 516ms\tremaining: 992ms\n",
            "342:\tlearn: 0.0219173\ttotal: 517ms\tremaining: 991ms\n",
            "343:\tlearn: 0.0218316\ttotal: 519ms\tremaining: 989ms\n",
            "344:\tlearn: 0.0217228\ttotal: 520ms\tremaining: 988ms\n",
            "345:\tlearn: 0.0216498\ttotal: 522ms\tremaining: 986ms\n",
            "346:\tlearn: 0.0215794\ttotal: 523ms\tremaining: 984ms\n",
            "347:\tlearn: 0.0214917\ttotal: 525ms\tremaining: 983ms\n",
            "348:\tlearn: 0.0214271\ttotal: 526ms\tremaining: 981ms\n",
            "349:\tlearn: 0.0213627\ttotal: 527ms\tremaining: 980ms\n",
            "350:\tlearn: 0.0212810\ttotal: 529ms\tremaining: 978ms\n",
            "351:\tlearn: 0.0211961\ttotal: 530ms\tremaining: 976ms\n",
            "352:\tlearn: 0.0211146\ttotal: 532ms\tremaining: 975ms\n",
            "353:\tlearn: 0.0210339\ttotal: 533ms\tremaining: 973ms\n",
            "354:\tlearn: 0.0209536\ttotal: 535ms\tremaining: 972ms\n",
            "355:\tlearn: 0.0208752\ttotal: 536ms\tremaining: 970ms\n",
            "356:\tlearn: 0.0208135\ttotal: 538ms\tremaining: 968ms\n",
            "357:\tlearn: 0.0207432\ttotal: 539ms\tremaining: 967ms\n",
            "358:\tlearn: 0.0206769\ttotal: 541ms\tremaining: 965ms\n",
            "359:\tlearn: 0.0205993\ttotal: 542ms\tremaining: 964ms\n",
            "360:\tlearn: 0.0205386\ttotal: 544ms\tremaining: 962ms\n",
            "361:\tlearn: 0.0204683\ttotal: 545ms\tremaining: 961ms\n",
            "362:\tlearn: 0.0204094\ttotal: 546ms\tremaining: 959ms\n",
            "363:\tlearn: 0.0203308\ttotal: 548ms\tremaining: 957ms\n",
            "364:\tlearn: 0.0202847\ttotal: 549ms\tremaining: 956ms\n",
            "365:\tlearn: 0.0202268\ttotal: 551ms\tremaining: 954ms\n",
            "366:\tlearn: 0.0201682\ttotal: 552ms\tremaining: 953ms\n",
            "367:\tlearn: 0.0201059\ttotal: 554ms\tremaining: 951ms\n",
            "368:\tlearn: 0.0200490\ttotal: 555ms\tremaining: 949ms\n",
            "369:\tlearn: 0.0199759\ttotal: 557ms\tremaining: 948ms\n",
            "370:\tlearn: 0.0199061\ttotal: 558ms\tremaining: 946ms\n",
            "371:\tlearn: 0.0198502\ttotal: 560ms\tremaining: 945ms\n",
            "372:\tlearn: 0.0197948\ttotal: 561ms\tremaining: 943ms\n",
            "373:\tlearn: 0.0197396\ttotal: 563ms\tremaining: 942ms\n",
            "374:\tlearn: 0.0196697\ttotal: 566ms\tremaining: 943ms\n",
            "375:\tlearn: 0.0196025\ttotal: 568ms\tremaining: 942ms\n",
            "376:\tlearn: 0.0195483\ttotal: 569ms\tremaining: 941ms\n",
            "377:\tlearn: 0.0194916\ttotal: 572ms\tremaining: 940ms\n",
            "378:\tlearn: 0.0194292\ttotal: 573ms\tremaining: 939ms\n",
            "379:\tlearn: 0.0193614\ttotal: 574ms\tremaining: 937ms\n",
            "380:\tlearn: 0.0193048\ttotal: 576ms\tremaining: 936ms\n",
            "381:\tlearn: 0.0192532\ttotal: 577ms\tremaining: 934ms\n",
            "382:\tlearn: 0.0191976\ttotal: 579ms\tremaining: 932ms\n",
            "383:\tlearn: 0.0191565\ttotal: 580ms\tremaining: 931ms\n",
            "384:\tlearn: 0.0191047\ttotal: 582ms\tremaining: 929ms\n",
            "385:\tlearn: 0.0190391\ttotal: 583ms\tremaining: 928ms\n",
            "386:\tlearn: 0.0189845\ttotal: 585ms\tremaining: 926ms\n",
            "387:\tlearn: 0.0189187\ttotal: 586ms\tremaining: 924ms\n",
            "388:\tlearn: 0.0188535\ttotal: 588ms\tremaining: 923ms\n",
            "389:\tlearn: 0.0187989\ttotal: 589ms\tremaining: 921ms\n",
            "390:\tlearn: 0.0187369\ttotal: 590ms\tremaining: 920ms\n",
            "391:\tlearn: 0.0186872\ttotal: 592ms\tremaining: 918ms\n",
            "392:\tlearn: 0.0186378\ttotal: 593ms\tremaining: 916ms\n",
            "393:\tlearn: 0.0186009\ttotal: 600ms\tremaining: 923ms\n",
            "394:\tlearn: 0.0185424\ttotal: 602ms\tremaining: 922ms\n",
            "395:\tlearn: 0.0184896\ttotal: 606ms\tremaining: 924ms\n",
            "396:\tlearn: 0.0184299\ttotal: 607ms\tremaining: 922ms\n",
            "397:\tlearn: 0.0183688\ttotal: 609ms\tremaining: 920ms\n",
            "398:\tlearn: 0.0183068\ttotal: 610ms\tremaining: 919ms\n",
            "399:\tlearn: 0.0182507\ttotal: 611ms\tremaining: 917ms\n",
            "400:\tlearn: 0.0182035\ttotal: 613ms\tremaining: 916ms\n",
            "401:\tlearn: 0.0181406\ttotal: 614ms\tremaining: 914ms\n",
            "402:\tlearn: 0.0180933\ttotal: 616ms\tremaining: 912ms\n",
            "403:\tlearn: 0.0180438\ttotal: 617ms\tremaining: 911ms\n",
            "404:\tlearn: 0.0179978\ttotal: 619ms\tremaining: 909ms\n",
            "405:\tlearn: 0.0179376\ttotal: 620ms\tremaining: 908ms\n",
            "406:\tlearn: 0.0178921\ttotal: 622ms\tremaining: 906ms\n",
            "407:\tlearn: 0.0178368\ttotal: 623ms\tremaining: 904ms\n",
            "408:\tlearn: 0.0177918\ttotal: 625ms\tremaining: 903ms\n",
            "409:\tlearn: 0.0177353\ttotal: 626ms\tremaining: 901ms\n",
            "410:\tlearn: 0.0176900\ttotal: 628ms\tremaining: 900ms\n",
            "411:\tlearn: 0.0176327\ttotal: 629ms\tremaining: 898ms\n",
            "412:\tlearn: 0.0175886\ttotal: 631ms\tremaining: 896ms\n",
            "413:\tlearn: 0.0175418\ttotal: 632ms\tremaining: 895ms\n",
            "414:\tlearn: 0.0174835\ttotal: 633ms\tremaining: 893ms\n",
            "415:\tlearn: 0.0174397\ttotal: 635ms\tremaining: 891ms\n",
            "416:\tlearn: 0.0173959\ttotal: 636ms\tremaining: 890ms\n",
            "417:\tlearn: 0.0173531\ttotal: 638ms\tremaining: 888ms\n",
            "418:\tlearn: 0.0172975\ttotal: 639ms\tremaining: 886ms\n",
            "419:\tlearn: 0.0172550\ttotal: 641ms\tremaining: 885ms\n",
            "420:\tlearn: 0.0172008\ttotal: 642ms\tremaining: 883ms\n",
            "421:\tlearn: 0.0171465\ttotal: 644ms\tremaining: 882ms\n",
            "422:\tlearn: 0.0171049\ttotal: 645ms\tremaining: 880ms\n",
            "423:\tlearn: 0.0170627\ttotal: 647ms\tremaining: 879ms\n",
            "424:\tlearn: 0.0170101\ttotal: 648ms\tremaining: 877ms\n",
            "425:\tlearn: 0.0169590\ttotal: 650ms\tremaining: 876ms\n",
            "426:\tlearn: 0.0169144\ttotal: 651ms\tremaining: 874ms\n",
            "427:\tlearn: 0.0168737\ttotal: 653ms\tremaining: 872ms\n",
            "428:\tlearn: 0.0168312\ttotal: 654ms\tremaining: 871ms\n",
            "429:\tlearn: 0.0167909\ttotal: 656ms\tremaining: 869ms\n",
            "430:\tlearn: 0.0167405\ttotal: 657ms\tremaining: 868ms\n",
            "431:\tlearn: 0.0166890\ttotal: 659ms\tremaining: 866ms\n",
            "432:\tlearn: 0.0166387\ttotal: 660ms\tremaining: 864ms\n",
            "433:\tlearn: 0.0165886\ttotal: 662ms\tremaining: 863ms\n",
            "434:\tlearn: 0.0165403\ttotal: 663ms\tremaining: 861ms\n",
            "435:\tlearn: 0.0165014\ttotal: 665ms\tremaining: 860ms\n",
            "436:\tlearn: 0.0164556\ttotal: 666ms\tremaining: 858ms\n",
            "437:\tlearn: 0.0164151\ttotal: 668ms\tremaining: 857ms\n",
            "438:\tlearn: 0.0163767\ttotal: 669ms\tremaining: 855ms\n",
            "439:\tlearn: 0.0163323\ttotal: 673ms\tremaining: 856ms\n",
            "440:\tlearn: 0.0162849\ttotal: 674ms\tremaining: 855ms\n",
            "441:\tlearn: 0.0162452\ttotal: 676ms\tremaining: 853ms\n",
            "442:\tlearn: 0.0162155\ttotal: 677ms\tremaining: 852ms\n",
            "443:\tlearn: 0.0161679\ttotal: 679ms\tremaining: 850ms\n",
            "444:\tlearn: 0.0161212\ttotal: 680ms\tremaining: 848ms\n",
            "445:\tlearn: 0.0160752\ttotal: 682ms\tremaining: 847ms\n",
            "446:\tlearn: 0.0160384\ttotal: 683ms\tremaining: 845ms\n",
            "447:\tlearn: 0.0159991\ttotal: 685ms\tremaining: 844ms\n",
            "448:\tlearn: 0.0159523\ttotal: 686ms\tremaining: 842ms\n",
            "449:\tlearn: 0.0159141\ttotal: 688ms\tremaining: 840ms\n",
            "450:\tlearn: 0.0158749\ttotal: 689ms\tremaining: 839ms\n",
            "451:\tlearn: 0.0158283\ttotal: 691ms\tremaining: 837ms\n",
            "452:\tlearn: 0.0157822\ttotal: 693ms\tremaining: 837ms\n",
            "453:\tlearn: 0.0157371\ttotal: 694ms\tremaining: 835ms\n",
            "454:\tlearn: 0.0156926\ttotal: 697ms\tremaining: 835ms\n",
            "455:\tlearn: 0.0156574\ttotal: 701ms\tremaining: 836ms\n",
            "456:\tlearn: 0.0156130\ttotal: 702ms\tremaining: 834ms\n",
            "457:\tlearn: 0.0155691\ttotal: 704ms\tremaining: 833ms\n",
            "458:\tlearn: 0.0155252\ttotal: 705ms\tremaining: 831ms\n",
            "459:\tlearn: 0.0154908\ttotal: 707ms\tremaining: 830ms\n",
            "460:\tlearn: 0.0154466\ttotal: 710ms\tremaining: 830ms\n",
            "461:\tlearn: 0.0154107\ttotal: 712ms\tremaining: 829ms\n",
            "462:\tlearn: 0.0153653\ttotal: 713ms\tremaining: 827ms\n",
            "463:\tlearn: 0.0153284\ttotal: 715ms\tremaining: 826ms\n",
            "464:\tlearn: 0.0152858\ttotal: 716ms\tremaining: 824ms\n",
            "465:\tlearn: 0.0152469\ttotal: 718ms\tremaining: 823ms\n",
            "466:\tlearn: 0.0152137\ttotal: 719ms\tremaining: 821ms\n",
            "467:\tlearn: 0.0151800\ttotal: 721ms\tremaining: 819ms\n",
            "468:\tlearn: 0.0151383\ttotal: 722ms\tremaining: 818ms\n",
            "469:\tlearn: 0.0150946\ttotal: 724ms\tremaining: 816ms\n",
            "470:\tlearn: 0.0150621\ttotal: 725ms\tremaining: 814ms\n",
            "471:\tlearn: 0.0150210\ttotal: 727ms\tremaining: 813ms\n",
            "472:\tlearn: 0.0149809\ttotal: 728ms\tremaining: 811ms\n",
            "473:\tlearn: 0.0149409\ttotal: 729ms\tremaining: 810ms\n",
            "474:\tlearn: 0.0148981\ttotal: 731ms\tremaining: 808ms\n",
            "475:\tlearn: 0.0148572\ttotal: 733ms\tremaining: 807ms\n",
            "476:\tlearn: 0.0148172\ttotal: 736ms\tremaining: 807ms\n",
            "477:\tlearn: 0.0147782\ttotal: 738ms\tremaining: 806ms\n",
            "478:\tlearn: 0.0147413\ttotal: 739ms\tremaining: 804ms\n",
            "479:\tlearn: 0.0147027\ttotal: 741ms\tremaining: 803ms\n",
            "480:\tlearn: 0.0146615\ttotal: 742ms\tremaining: 801ms\n",
            "481:\tlearn: 0.0146286\ttotal: 744ms\tremaining: 799ms\n",
            "482:\tlearn: 0.0145979\ttotal: 745ms\tremaining: 798ms\n",
            "483:\tlearn: 0.0145580\ttotal: 747ms\tremaining: 796ms\n",
            "484:\tlearn: 0.0145276\ttotal: 748ms\tremaining: 794ms\n",
            "485:\tlearn: 0.0144938\ttotal: 750ms\tremaining: 793ms\n",
            "486:\tlearn: 0.0144638\ttotal: 756ms\tremaining: 796ms\n",
            "487:\tlearn: 0.0144266\ttotal: 758ms\tremaining: 795ms\n",
            "488:\tlearn: 0.0143919\ttotal: 760ms\tremaining: 794ms\n",
            "489:\tlearn: 0.0143537\ttotal: 761ms\tremaining: 792ms\n",
            "490:\tlearn: 0.0143213\ttotal: 762ms\tremaining: 790ms\n",
            "491:\tlearn: 0.0142903\ttotal: 764ms\tremaining: 789ms\n",
            "492:\tlearn: 0.0142511\ttotal: 765ms\tremaining: 787ms\n",
            "493:\tlearn: 0.0142137\ttotal: 767ms\tremaining: 786ms\n",
            "494:\tlearn: 0.0141782\ttotal: 768ms\tremaining: 784ms\n",
            "495:\tlearn: 0.0141417\ttotal: 770ms\tremaining: 782ms\n",
            "496:\tlearn: 0.0141042\ttotal: 771ms\tremaining: 781ms\n",
            "497:\tlearn: 0.0140682\ttotal: 773ms\tremaining: 779ms\n",
            "498:\tlearn: 0.0140175\ttotal: 774ms\tremaining: 777ms\n",
            "499:\tlearn: 0.0139838\ttotal: 776ms\tremaining: 776ms\n",
            "500:\tlearn: 0.0139478\ttotal: 777ms\tremaining: 774ms\n",
            "501:\tlearn: 0.0139144\ttotal: 779ms\tremaining: 772ms\n",
            "502:\tlearn: 0.0138850\ttotal: 780ms\tremaining: 771ms\n",
            "503:\tlearn: 0.0138537\ttotal: 782ms\tremaining: 769ms\n",
            "504:\tlearn: 0.0138170\ttotal: 783ms\tremaining: 767ms\n",
            "505:\tlearn: 0.0137831\ttotal: 784ms\tremaining: 766ms\n",
            "506:\tlearn: 0.0137466\ttotal: 786ms\tremaining: 764ms\n",
            "507:\tlearn: 0.0137118\ttotal: 787ms\tremaining: 763ms\n",
            "508:\tlearn: 0.0136799\ttotal: 789ms\tremaining: 761ms\n",
            "509:\tlearn: 0.0136529\ttotal: 790ms\tremaining: 759ms\n",
            "510:\tlearn: 0.0136191\ttotal: 792ms\tremaining: 758ms\n",
            "511:\tlearn: 0.0135860\ttotal: 793ms\tremaining: 756ms\n",
            "512:\tlearn: 0.0135490\ttotal: 795ms\tremaining: 754ms\n",
            "513:\tlearn: 0.0135225\ttotal: 796ms\tremaining: 753ms\n",
            "514:\tlearn: 0.0135028\ttotal: 798ms\tremaining: 751ms\n",
            "515:\tlearn: 0.0134822\ttotal: 799ms\tremaining: 750ms\n",
            "516:\tlearn: 0.0134565\ttotal: 800ms\tremaining: 748ms\n",
            "517:\tlearn: 0.0134288\ttotal: 802ms\tremaining: 746ms\n",
            "518:\tlearn: 0.0134027\ttotal: 803ms\tremaining: 745ms\n",
            "519:\tlearn: 0.0133772\ttotal: 805ms\tremaining: 743ms\n",
            "520:\tlearn: 0.0133481\ttotal: 806ms\tremaining: 741ms\n",
            "521:\tlearn: 0.0133152\ttotal: 808ms\tremaining: 740ms\n",
            "522:\tlearn: 0.0132837\ttotal: 809ms\tremaining: 738ms\n",
            "523:\tlearn: 0.0132532\ttotal: 811ms\tremaining: 736ms\n",
            "524:\tlearn: 0.0132213\ttotal: 812ms\tremaining: 735ms\n",
            "525:\tlearn: 0.0131962\ttotal: 814ms\tremaining: 733ms\n",
            "526:\tlearn: 0.0131693\ttotal: 815ms\tremaining: 732ms\n",
            "527:\tlearn: 0.0131443\ttotal: 817ms\tremaining: 730ms\n",
            "528:\tlearn: 0.0131194\ttotal: 818ms\tremaining: 728ms\n",
            "529:\tlearn: 0.0130876\ttotal: 820ms\tremaining: 727ms\n",
            "530:\tlearn: 0.0130397\ttotal: 821ms\tremaining: 725ms\n",
            "531:\tlearn: 0.0130113\ttotal: 822ms\tremaining: 723ms\n",
            "532:\tlearn: 0.0129868\ttotal: 824ms\tremaining: 722ms\n",
            "533:\tlearn: 0.0129566\ttotal: 825ms\tremaining: 720ms\n",
            "534:\tlearn: 0.0129267\ttotal: 827ms\tremaining: 719ms\n",
            "535:\tlearn: 0.0129022\ttotal: 828ms\tremaining: 717ms\n",
            "536:\tlearn: 0.0128781\ttotal: 830ms\tremaining: 715ms\n",
            "537:\tlearn: 0.0128479\ttotal: 831ms\tremaining: 714ms\n",
            "538:\tlearn: 0.0128232\ttotal: 833ms\tremaining: 712ms\n",
            "539:\tlearn: 0.0127971\ttotal: 834ms\tremaining: 711ms\n",
            "540:\tlearn: 0.0127697\ttotal: 836ms\tremaining: 709ms\n",
            "541:\tlearn: 0.0127405\ttotal: 837ms\tremaining: 707ms\n",
            "542:\tlearn: 0.0127158\ttotal: 838ms\tremaining: 706ms\n",
            "543:\tlearn: 0.0126866\ttotal: 840ms\tremaining: 704ms\n",
            "544:\tlearn: 0.0126614\ttotal: 842ms\tremaining: 703ms\n",
            "545:\tlearn: 0.0126370\ttotal: 843ms\tremaining: 701ms\n",
            "546:\tlearn: 0.0126116\ttotal: 844ms\tremaining: 699ms\n",
            "547:\tlearn: 0.0125809\ttotal: 846ms\tremaining: 698ms\n",
            "548:\tlearn: 0.0125580\ttotal: 847ms\tremaining: 696ms\n",
            "549:\tlearn: 0.0125340\ttotal: 849ms\tremaining: 695ms\n",
            "550:\tlearn: 0.0125115\ttotal: 850ms\tremaining: 693ms\n",
            "551:\tlearn: 0.0124889\ttotal: 852ms\tremaining: 691ms\n",
            "552:\tlearn: 0.0124629\ttotal: 853ms\tremaining: 690ms\n",
            "553:\tlearn: 0.0124347\ttotal: 855ms\tremaining: 688ms\n",
            "554:\tlearn: 0.0124094\ttotal: 856ms\tremaining: 687ms\n",
            "555:\tlearn: 0.0123863\ttotal: 858ms\tremaining: 685ms\n",
            "556:\tlearn: 0.0123584\ttotal: 859ms\tremaining: 683ms\n",
            "557:\tlearn: 0.0123363\ttotal: 861ms\tremaining: 682ms\n",
            "558:\tlearn: 0.0123118\ttotal: 862ms\tremaining: 680ms\n",
            "559:\tlearn: 0.0122863\ttotal: 864ms\tremaining: 679ms\n",
            "560:\tlearn: 0.0122626\ttotal: 865ms\tremaining: 677ms\n",
            "561:\tlearn: 0.0122394\ttotal: 867ms\tremaining: 675ms\n",
            "562:\tlearn: 0.0122143\ttotal: 868ms\tremaining: 674ms\n",
            "563:\tlearn: 0.0121885\ttotal: 870ms\tremaining: 672ms\n",
            "564:\tlearn: 0.0121632\ttotal: 871ms\tremaining: 671ms\n",
            "565:\tlearn: 0.0121362\ttotal: 873ms\tremaining: 669ms\n",
            "566:\tlearn: 0.0121148\ttotal: 874ms\tremaining: 667ms\n",
            "567:\tlearn: 0.0120923\ttotal: 875ms\tremaining: 666ms\n",
            "568:\tlearn: 0.0120712\ttotal: 877ms\tremaining: 664ms\n",
            "569:\tlearn: 0.0120488\ttotal: 878ms\tremaining: 663ms\n",
            "570:\tlearn: 0.0120229\ttotal: 880ms\tremaining: 661ms\n",
            "571:\tlearn: 0.0120007\ttotal: 881ms\tremaining: 659ms\n",
            "572:\tlearn: 0.0119666\ttotal: 883ms\tremaining: 658ms\n",
            "573:\tlearn: 0.0119409\ttotal: 884ms\tremaining: 656ms\n",
            "574:\tlearn: 0.0119201\ttotal: 886ms\tremaining: 655ms\n",
            "575:\tlearn: 0.0118949\ttotal: 887ms\tremaining: 653ms\n",
            "576:\tlearn: 0.0118687\ttotal: 889ms\tremaining: 652ms\n",
            "577:\tlearn: 0.0118471\ttotal: 890ms\tremaining: 650ms\n",
            "578:\tlearn: 0.0118268\ttotal: 892ms\tremaining: 648ms\n",
            "579:\tlearn: 0.0118064\ttotal: 893ms\tremaining: 647ms\n",
            "580:\tlearn: 0.0117796\ttotal: 895ms\tremaining: 645ms\n",
            "581:\tlearn: 0.0117539\ttotal: 896ms\tremaining: 644ms\n",
            "582:\tlearn: 0.0117336\ttotal: 897ms\tremaining: 642ms\n",
            "583:\tlearn: 0.0117095\ttotal: 899ms\tremaining: 640ms\n",
            "584:\tlearn: 0.0116940\ttotal: 900ms\tremaining: 639ms\n",
            "585:\tlearn: 0.0116725\ttotal: 902ms\tremaining: 637ms\n",
            "586:\tlearn: 0.0116570\ttotal: 903ms\tremaining: 636ms\n",
            "587:\tlearn: 0.0116373\ttotal: 905ms\tremaining: 634ms\n",
            "588:\tlearn: 0.0116070\ttotal: 906ms\tremaining: 632ms\n",
            "589:\tlearn: 0.0115874\ttotal: 908ms\tremaining: 631ms\n",
            "590:\tlearn: 0.0115678\ttotal: 909ms\tremaining: 629ms\n",
            "591:\tlearn: 0.0115483\ttotal: 911ms\tremaining: 628ms\n",
            "592:\tlearn: 0.0115240\ttotal: 912ms\tremaining: 626ms\n",
            "593:\tlearn: 0.0115047\ttotal: 914ms\tremaining: 625ms\n",
            "594:\tlearn: 0.0114801\ttotal: 915ms\tremaining: 623ms\n",
            "595:\tlearn: 0.0114609\ttotal: 917ms\tremaining: 621ms\n",
            "596:\tlearn: 0.0114373\ttotal: 918ms\tremaining: 620ms\n",
            "597:\tlearn: 0.0114181\ttotal: 920ms\tremaining: 618ms\n",
            "598:\tlearn: 0.0113930\ttotal: 921ms\tremaining: 617ms\n",
            "599:\tlearn: 0.0113693\ttotal: 923ms\tremaining: 615ms\n",
            "600:\tlearn: 0.0113453\ttotal: 924ms\tremaining: 614ms\n",
            "601:\tlearn: 0.0113266\ttotal: 926ms\tremaining: 612ms\n",
            "602:\tlearn: 0.0113028\ttotal: 927ms\tremaining: 610ms\n",
            "603:\tlearn: 0.0112799\ttotal: 928ms\tremaining: 609ms\n",
            "604:\tlearn: 0.0112566\ttotal: 930ms\tremaining: 607ms\n",
            "605:\tlearn: 0.0112382\ttotal: 931ms\tremaining: 606ms\n",
            "606:\tlearn: 0.0112199\ttotal: 933ms\tremaining: 604ms\n",
            "607:\tlearn: 0.0112016\ttotal: 934ms\tremaining: 602ms\n",
            "608:\tlearn: 0.0111818\ttotal: 936ms\tremaining: 601ms\n",
            "609:\tlearn: 0.0111676\ttotal: 937ms\tremaining: 599ms\n",
            "610:\tlearn: 0.0111495\ttotal: 939ms\tremaining: 598ms\n",
            "611:\tlearn: 0.0111264\ttotal: 943ms\tremaining: 598ms\n",
            "612:\tlearn: 0.0111084\ttotal: 947ms\tremaining: 598ms\n",
            "613:\tlearn: 0.0110905\ttotal: 949ms\tremaining: 596ms\n",
            "614:\tlearn: 0.0110676\ttotal: 950ms\tremaining: 595ms\n",
            "615:\tlearn: 0.0110456\ttotal: 951ms\tremaining: 593ms\n",
            "616:\tlearn: 0.0110219\ttotal: 953ms\tremaining: 592ms\n",
            "617:\tlearn: 0.0110029\ttotal: 954ms\tremaining: 590ms\n",
            "618:\tlearn: 0.0109823\ttotal: 956ms\tremaining: 588ms\n",
            "619:\tlearn: 0.0109606\ttotal: 957ms\tremaining: 587ms\n",
            "620:\tlearn: 0.0109382\ttotal: 959ms\tremaining: 585ms\n",
            "621:\tlearn: 0.0109164\ttotal: 966ms\tremaining: 587ms\n",
            "622:\tlearn: 0.0108988\ttotal: 968ms\tremaining: 585ms\n",
            "623:\tlearn: 0.0108746\ttotal: 969ms\tremaining: 584ms\n",
            "624:\tlearn: 0.0108564\ttotal: 971ms\tremaining: 582ms\n",
            "625:\tlearn: 0.0108383\ttotal: 972ms\tremaining: 581ms\n",
            "626:\tlearn: 0.0108157\ttotal: 974ms\tremaining: 579ms\n",
            "627:\tlearn: 0.0107939\ttotal: 975ms\tremaining: 578ms\n",
            "628:\tlearn: 0.0107769\ttotal: 977ms\tremaining: 576ms\n",
            "629:\tlearn: 0.0107588\ttotal: 978ms\tremaining: 574ms\n",
            "630:\tlearn: 0.0107363\ttotal: 980ms\tremaining: 573ms\n",
            "631:\tlearn: 0.0107149\ttotal: 981ms\tremaining: 571ms\n",
            "632:\tlearn: 0.0106926\ttotal: 983ms\tremaining: 570ms\n",
            "633:\tlearn: 0.0106738\ttotal: 984ms\tremaining: 568ms\n",
            "634:\tlearn: 0.0106518\ttotal: 986ms\tremaining: 567ms\n",
            "635:\tlearn: 0.0106326\ttotal: 987ms\tremaining: 565ms\n",
            "636:\tlearn: 0.0106112\ttotal: 989ms\tremaining: 563ms\n",
            "637:\tlearn: 0.0105948\ttotal: 990ms\tremaining: 562ms\n",
            "638:\tlearn: 0.0105820\ttotal: 993ms\tremaining: 561ms\n",
            "639:\tlearn: 0.0105636\ttotal: 994ms\tremaining: 559ms\n",
            "640:\tlearn: 0.0105435\ttotal: 995ms\tremaining: 557ms\n",
            "641:\tlearn: 0.0105273\ttotal: 997ms\tremaining: 556ms\n",
            "642:\tlearn: 0.0105111\ttotal: 998ms\tremaining: 554ms\n",
            "643:\tlearn: 0.0104910\ttotal: 1000ms\tremaining: 553ms\n",
            "644:\tlearn: 0.0104712\ttotal: 1s\tremaining: 551ms\n",
            "645:\tlearn: 0.0104551\ttotal: 1s\tremaining: 550ms\n",
            "646:\tlearn: 0.0104392\ttotal: 1s\tremaining: 548ms\n",
            "647:\tlearn: 0.0104224\ttotal: 1.01s\tremaining: 547ms\n",
            "648:\tlearn: 0.0104066\ttotal: 1.01s\tremaining: 545ms\n",
            "649:\tlearn: 0.0103867\ttotal: 1.01s\tremaining: 543ms\n",
            "650:\tlearn: 0.0103659\ttotal: 1.01s\tremaining: 542ms\n",
            "651:\tlearn: 0.0103470\ttotal: 1.01s\tremaining: 540ms\n",
            "652:\tlearn: 0.0103348\ttotal: 1.01s\tremaining: 539ms\n",
            "653:\tlearn: 0.0103141\ttotal: 1.01s\tremaining: 537ms\n",
            "654:\tlearn: 0.0103019\ttotal: 1.02s\tremaining: 535ms\n",
            "655:\tlearn: 0.0102865\ttotal: 1.02s\tremaining: 534ms\n",
            "656:\tlearn: 0.0102684\ttotal: 1.02s\tremaining: 532ms\n",
            "657:\tlearn: 0.0102481\ttotal: 1.02s\tremaining: 531ms\n",
            "658:\tlearn: 0.0102288\ttotal: 1.02s\tremaining: 529ms\n",
            "659:\tlearn: 0.0102109\ttotal: 1.02s\tremaining: 528ms\n",
            "660:\tlearn: 0.0101957\ttotal: 1.02s\tremaining: 526ms\n",
            "661:\tlearn: 0.0101756\ttotal: 1.03s\tremaining: 524ms\n",
            "662:\tlearn: 0.0101563\ttotal: 1.03s\tremaining: 523ms\n",
            "663:\tlearn: 0.0101390\ttotal: 1.03s\tremaining: 521ms\n",
            "664:\tlearn: 0.0101211\ttotal: 1.03s\tremaining: 520ms\n",
            "665:\tlearn: 0.0101038\ttotal: 1.03s\tremaining: 518ms\n",
            "666:\tlearn: 0.0100851\ttotal: 1.03s\tremaining: 517ms\n",
            "667:\tlearn: 0.0100695\ttotal: 1.04s\tremaining: 515ms\n",
            "668:\tlearn: 0.0100509\ttotal: 1.04s\tremaining: 513ms\n",
            "669:\tlearn: 0.0100362\ttotal: 1.04s\tremaining: 512ms\n",
            "670:\tlearn: 0.0100213\ttotal: 1.04s\tremaining: 510ms\n",
            "671:\tlearn: 0.0100054\ttotal: 1.04s\tremaining: 509ms\n",
            "672:\tlearn: 0.0099870\ttotal: 1.04s\tremaining: 507ms\n",
            "673:\tlearn: 0.0099691\ttotal: 1.04s\tremaining: 505ms\n",
            "674:\tlearn: 0.0099530\ttotal: 1.05s\tremaining: 504ms\n",
            "675:\tlearn: 0.0099352\ttotal: 1.05s\tremaining: 503ms\n",
            "676:\tlearn: 0.0099168\ttotal: 1.05s\tremaining: 501ms\n",
            "677:\tlearn: 0.0099024\ttotal: 1.05s\tremaining: 500ms\n",
            "678:\tlearn: 0.0098874\ttotal: 1.05s\tremaining: 498ms\n",
            "679:\tlearn: 0.0098724\ttotal: 1.05s\tremaining: 496ms\n",
            "680:\tlearn: 0.0098553\ttotal: 1.06s\tremaining: 495ms\n",
            "681:\tlearn: 0.0098358\ttotal: 1.06s\tremaining: 493ms\n",
            "682:\tlearn: 0.0098217\ttotal: 1.06s\tremaining: 492ms\n",
            "683:\tlearn: 0.0098054\ttotal: 1.06s\tremaining: 490ms\n",
            "684:\tlearn: 0.0097895\ttotal: 1.06s\tremaining: 488ms\n",
            "685:\tlearn: 0.0097748\ttotal: 1.06s\tremaining: 487ms\n",
            "686:\tlearn: 0.0097608\ttotal: 1.06s\tremaining: 485ms\n",
            "687:\tlearn: 0.0097469\ttotal: 1.07s\tremaining: 484ms\n",
            "688:\tlearn: 0.0097330\ttotal: 1.07s\tremaining: 482ms\n",
            "689:\tlearn: 0.0097170\ttotal: 1.07s\tremaining: 481ms\n",
            "690:\tlearn: 0.0097032\ttotal: 1.07s\tremaining: 479ms\n",
            "691:\tlearn: 0.0096895\ttotal: 1.07s\tremaining: 477ms\n",
            "692:\tlearn: 0.0096720\ttotal: 1.07s\tremaining: 476ms\n",
            "693:\tlearn: 0.0096545\ttotal: 1.07s\tremaining: 474ms\n",
            "694:\tlearn: 0.0096378\ttotal: 1.08s\tremaining: 473ms\n",
            "695:\tlearn: 0.0096235\ttotal: 1.08s\tremaining: 471ms\n",
            "696:\tlearn: 0.0096078\ttotal: 1.08s\tremaining: 469ms\n",
            "697:\tlearn: 0.0095937\ttotal: 1.08s\tremaining: 468ms\n",
            "698:\tlearn: 0.0095832\ttotal: 1.08s\tremaining: 466ms\n",
            "699:\tlearn: 0.0095613\ttotal: 1.08s\tremaining: 465ms\n",
            "700:\tlearn: 0.0095445\ttotal: 1.08s\tremaining: 463ms\n",
            "701:\tlearn: 0.0095312\ttotal: 1.09s\tremaining: 462ms\n",
            "702:\tlearn: 0.0095208\ttotal: 1.09s\tremaining: 460ms\n",
            "703:\tlearn: 0.0095060\ttotal: 1.09s\tremaining: 458ms\n",
            "704:\tlearn: 0.0094907\ttotal: 1.09s\tremaining: 457ms\n",
            "705:\tlearn: 0.0094739\ttotal: 1.09s\tremaining: 455ms\n",
            "706:\tlearn: 0.0094574\ttotal: 1.09s\tremaining: 454ms\n",
            "707:\tlearn: 0.0094400\ttotal: 1.1s\tremaining: 452ms\n",
            "708:\tlearn: 0.0094240\ttotal: 1.1s\tremaining: 451ms\n",
            "709:\tlearn: 0.0094100\ttotal: 1.1s\tremaining: 449ms\n",
            "710:\tlearn: 0.0093971\ttotal: 1.1s\tremaining: 447ms\n",
            "711:\tlearn: 0.0093841\ttotal: 1.1s\tremaining: 446ms\n",
            "712:\tlearn: 0.0093677\ttotal: 1.1s\tremaining: 444ms\n",
            "713:\tlearn: 0.0093445\ttotal: 1.1s\tremaining: 443ms\n",
            "714:\tlearn: 0.0093296\ttotal: 1.11s\tremaining: 441ms\n",
            "715:\tlearn: 0.0093159\ttotal: 1.11s\tremaining: 439ms\n",
            "716:\tlearn: 0.0092997\ttotal: 1.11s\tremaining: 438ms\n",
            "717:\tlearn: 0.0092864\ttotal: 1.11s\tremaining: 436ms\n",
            "718:\tlearn: 0.0092706\ttotal: 1.11s\tremaining: 435ms\n",
            "719:\tlearn: 0.0092580\ttotal: 1.11s\tremaining: 433ms\n",
            "720:\tlearn: 0.0092452\ttotal: 1.11s\tremaining: 432ms\n",
            "721:\tlearn: 0.0092331\ttotal: 1.12s\tremaining: 430ms\n",
            "722:\tlearn: 0.0092204\ttotal: 1.12s\tremaining: 429ms\n",
            "723:\tlearn: 0.0092082\ttotal: 1.12s\tremaining: 427ms\n",
            "724:\tlearn: 0.0091947\ttotal: 1.12s\tremaining: 425ms\n",
            "725:\tlearn: 0.0091816\ttotal: 1.12s\tremaining: 424ms\n",
            "726:\tlearn: 0.0091678\ttotal: 1.12s\tremaining: 422ms\n",
            "727:\tlearn: 0.0091555\ttotal: 1.13s\tremaining: 421ms\n",
            "728:\tlearn: 0.0091399\ttotal: 1.13s\tremaining: 419ms\n",
            "729:\tlearn: 0.0091274\ttotal: 1.13s\tremaining: 419ms\n",
            "730:\tlearn: 0.0091156\ttotal: 1.13s\tremaining: 418ms\n",
            "731:\tlearn: 0.0091003\ttotal: 1.14s\tremaining: 417ms\n",
            "732:\tlearn: 0.0090863\ttotal: 1.14s\tremaining: 416ms\n",
            "733:\tlearn: 0.0090723\ttotal: 1.14s\tremaining: 414ms\n",
            "734:\tlearn: 0.0090584\ttotal: 1.15s\tremaining: 413ms\n",
            "735:\tlearn: 0.0090443\ttotal: 1.15s\tremaining: 411ms\n",
            "736:\tlearn: 0.0090254\ttotal: 1.15s\tremaining: 410ms\n",
            "737:\tlearn: 0.0090135\ttotal: 1.15s\tremaining: 408ms\n",
            "738:\tlearn: 0.0090010\ttotal: 1.15s\tremaining: 407ms\n",
            "739:\tlearn: 0.0089859\ttotal: 1.15s\tremaining: 405ms\n",
            "740:\tlearn: 0.0089720\ttotal: 1.15s\tremaining: 403ms\n",
            "741:\tlearn: 0.0089582\ttotal: 1.16s\tremaining: 402ms\n",
            "742:\tlearn: 0.0089432\ttotal: 1.16s\tremaining: 400ms\n",
            "743:\tlearn: 0.0089315\ttotal: 1.16s\tremaining: 399ms\n",
            "744:\tlearn: 0.0089166\ttotal: 1.16s\tremaining: 397ms\n",
            "745:\tlearn: 0.0089050\ttotal: 1.16s\tremaining: 396ms\n",
            "746:\tlearn: 0.0088934\ttotal: 1.16s\tremaining: 394ms\n",
            "747:\tlearn: 0.0088808\ttotal: 1.16s\tremaining: 392ms\n",
            "748:\tlearn: 0.0088687\ttotal: 1.17s\tremaining: 391ms\n",
            "749:\tlearn: 0.0088540\ttotal: 1.17s\tremaining: 389ms\n",
            "750:\tlearn: 0.0088417\ttotal: 1.17s\tremaining: 388ms\n",
            "751:\tlearn: 0.0088296\ttotal: 1.17s\tremaining: 386ms\n",
            "752:\tlearn: 0.0088151\ttotal: 1.17s\tremaining: 385ms\n",
            "753:\tlearn: 0.0088037\ttotal: 1.17s\tremaining: 383ms\n",
            "754:\tlearn: 0.0087923\ttotal: 1.18s\tremaining: 381ms\n",
            "755:\tlearn: 0.0087783\ttotal: 1.18s\tremaining: 380ms\n",
            "756:\tlearn: 0.0087661\ttotal: 1.18s\tremaining: 378ms\n",
            "757:\tlearn: 0.0087523\ttotal: 1.18s\tremaining: 377ms\n",
            "758:\tlearn: 0.0087385\ttotal: 1.18s\tremaining: 375ms\n",
            "759:\tlearn: 0.0087273\ttotal: 1.18s\tremaining: 374ms\n",
            "760:\tlearn: 0.0087162\ttotal: 1.18s\tremaining: 372ms\n",
            "761:\tlearn: 0.0087024\ttotal: 1.19s\tremaining: 370ms\n",
            "762:\tlearn: 0.0086883\ttotal: 1.19s\tremaining: 369ms\n",
            "763:\tlearn: 0.0086771\ttotal: 1.19s\tremaining: 367ms\n",
            "764:\tlearn: 0.0086635\ttotal: 1.19s\tremaining: 366ms\n",
            "765:\tlearn: 0.0086499\ttotal: 1.19s\tremaining: 364ms\n",
            "766:\tlearn: 0.0086363\ttotal: 1.19s\tremaining: 363ms\n",
            "767:\tlearn: 0.0086244\ttotal: 1.2s\tremaining: 361ms\n",
            "768:\tlearn: 0.0086135\ttotal: 1.2s\tremaining: 360ms\n",
            "769:\tlearn: 0.0086026\ttotal: 1.2s\tremaining: 358ms\n",
            "770:\tlearn: 0.0085941\ttotal: 1.2s\tremaining: 357ms\n",
            "771:\tlearn: 0.0085808\ttotal: 1.2s\tremaining: 355ms\n",
            "772:\tlearn: 0.0085691\ttotal: 1.2s\tremaining: 353ms\n",
            "773:\tlearn: 0.0085583\ttotal: 1.2s\tremaining: 352ms\n",
            "774:\tlearn: 0.0085500\ttotal: 1.21s\tremaining: 350ms\n",
            "775:\tlearn: 0.0085393\ttotal: 1.21s\tremaining: 349ms\n",
            "776:\tlearn: 0.0085285\ttotal: 1.21s\tremaining: 347ms\n",
            "777:\tlearn: 0.0085177\ttotal: 1.21s\tremaining: 346ms\n",
            "778:\tlearn: 0.0085046\ttotal: 1.21s\tremaining: 344ms\n",
            "779:\tlearn: 0.0084935\ttotal: 1.21s\tremaining: 342ms\n",
            "780:\tlearn: 0.0084794\ttotal: 1.22s\tremaining: 341ms\n",
            "781:\tlearn: 0.0084677\ttotal: 1.22s\tremaining: 339ms\n",
            "782:\tlearn: 0.0084572\ttotal: 1.22s\tremaining: 338ms\n",
            "783:\tlearn: 0.0084494\ttotal: 1.22s\tremaining: 336ms\n",
            "784:\tlearn: 0.0084371\ttotal: 1.22s\tremaining: 335ms\n",
            "785:\tlearn: 0.0084266\ttotal: 1.22s\tremaining: 333ms\n",
            "786:\tlearn: 0.0084133\ttotal: 1.22s\tremaining: 331ms\n",
            "787:\tlearn: 0.0084003\ttotal: 1.23s\tremaining: 330ms\n",
            "788:\tlearn: 0.0083880\ttotal: 1.23s\tremaining: 328ms\n",
            "789:\tlearn: 0.0083764\ttotal: 1.23s\tremaining: 327ms\n",
            "790:\tlearn: 0.0083661\ttotal: 1.23s\tremaining: 325ms\n",
            "791:\tlearn: 0.0083533\ttotal: 1.23s\tremaining: 323ms\n",
            "792:\tlearn: 0.0083410\ttotal: 1.23s\tremaining: 322ms\n",
            "793:\tlearn: 0.0083296\ttotal: 1.23s\tremaining: 320ms\n",
            "794:\tlearn: 0.0083189\ttotal: 1.24s\tremaining: 319ms\n",
            "795:\tlearn: 0.0083068\ttotal: 1.24s\tremaining: 317ms\n",
            "796:\tlearn: 0.0082943\ttotal: 1.24s\tremaining: 316ms\n",
            "797:\tlearn: 0.0082837\ttotal: 1.24s\tremaining: 314ms\n",
            "798:\tlearn: 0.0082731\ttotal: 1.24s\tremaining: 312ms\n",
            "799:\tlearn: 0.0082598\ttotal: 1.24s\tremaining: 311ms\n",
            "800:\tlearn: 0.0082475\ttotal: 1.25s\tremaining: 310ms\n",
            "801:\tlearn: 0.0082351\ttotal: 1.25s\tremaining: 308ms\n",
            "802:\tlearn: 0.0082273\ttotal: 1.25s\tremaining: 306ms\n",
            "803:\tlearn: 0.0082149\ttotal: 1.25s\tremaining: 305ms\n",
            "804:\tlearn: 0.0082045\ttotal: 1.25s\tremaining: 303ms\n",
            "805:\tlearn: 0.0081924\ttotal: 1.25s\tremaining: 302ms\n",
            "806:\tlearn: 0.0081828\ttotal: 1.25s\tremaining: 300ms\n",
            "807:\tlearn: 0.0081730\ttotal: 1.26s\tremaining: 299ms\n",
            "808:\tlearn: 0.0081654\ttotal: 1.26s\tremaining: 297ms\n",
            "809:\tlearn: 0.0081548\ttotal: 1.26s\tremaining: 295ms\n",
            "810:\tlearn: 0.0081444\ttotal: 1.26s\tremaining: 294ms\n",
            "811:\tlearn: 0.0081347\ttotal: 1.26s\tremaining: 293ms\n",
            "812:\tlearn: 0.0081242\ttotal: 1.27s\tremaining: 291ms\n",
            "813:\tlearn: 0.0081127\ttotal: 1.27s\tremaining: 290ms\n",
            "814:\tlearn: 0.0081030\ttotal: 1.27s\tremaining: 289ms\n",
            "815:\tlearn: 0.0080934\ttotal: 1.27s\tremaining: 288ms\n",
            "816:\tlearn: 0.0080838\ttotal: 1.28s\tremaining: 286ms\n",
            "817:\tlearn: 0.0080730\ttotal: 1.28s\tremaining: 285ms\n",
            "818:\tlearn: 0.0080619\ttotal: 1.28s\tremaining: 283ms\n",
            "819:\tlearn: 0.0080522\ttotal: 1.28s\tremaining: 282ms\n",
            "820:\tlearn: 0.0080405\ttotal: 1.28s\tremaining: 280ms\n",
            "821:\tlearn: 0.0080305\ttotal: 1.29s\tremaining: 279ms\n",
            "822:\tlearn: 0.0080192\ttotal: 1.29s\tremaining: 277ms\n",
            "823:\tlearn: 0.0080118\ttotal: 1.29s\tremaining: 275ms\n",
            "824:\tlearn: 0.0080026\ttotal: 1.29s\tremaining: 274ms\n",
            "825:\tlearn: 0.0079952\ttotal: 1.29s\tremaining: 272ms\n",
            "826:\tlearn: 0.0079853\ttotal: 1.29s\tremaining: 271ms\n",
            "827:\tlearn: 0.0079742\ttotal: 1.29s\tremaining: 269ms\n",
            "828:\tlearn: 0.0079648\ttotal: 1.3s\tremaining: 268ms\n",
            "829:\tlearn: 0.0079555\ttotal: 1.3s\tremaining: 266ms\n",
            "830:\tlearn: 0.0079457\ttotal: 1.3s\tremaining: 264ms\n",
            "831:\tlearn: 0.0079338\ttotal: 1.3s\tremaining: 263ms\n",
            "832:\tlearn: 0.0079231\ttotal: 1.3s\tremaining: 261ms\n",
            "833:\tlearn: 0.0079115\ttotal: 1.3s\tremaining: 260ms\n",
            "834:\tlearn: 0.0079019\ttotal: 1.3s\tremaining: 258ms\n",
            "835:\tlearn: 0.0078903\ttotal: 1.31s\tremaining: 256ms\n",
            "836:\tlearn: 0.0078801\ttotal: 1.31s\tremaining: 255ms\n",
            "837:\tlearn: 0.0078702\ttotal: 1.31s\tremaining: 253ms\n",
            "838:\tlearn: 0.0078586\ttotal: 1.31s\tremaining: 252ms\n",
            "839:\tlearn: 0.0078495\ttotal: 1.31s\tremaining: 250ms\n",
            "840:\tlearn: 0.0078400\ttotal: 1.31s\tremaining: 249ms\n",
            "841:\tlearn: 0.0078289\ttotal: 1.32s\tremaining: 247ms\n",
            "842:\tlearn: 0.0078199\ttotal: 1.32s\tremaining: 246ms\n",
            "843:\tlearn: 0.0078131\ttotal: 1.32s\tremaining: 244ms\n",
            "844:\tlearn: 0.0078016\ttotal: 1.32s\tremaining: 243ms\n",
            "845:\tlearn: 0.0077898\ttotal: 1.33s\tremaining: 241ms\n",
            "846:\tlearn: 0.0077804\ttotal: 1.33s\tremaining: 240ms\n",
            "847:\tlearn: 0.0077697\ttotal: 1.33s\tremaining: 238ms\n",
            "848:\tlearn: 0.0077608\ttotal: 1.33s\tremaining: 237ms\n",
            "849:\tlearn: 0.0077490\ttotal: 1.33s\tremaining: 235ms\n",
            "850:\tlearn: 0.0077402\ttotal: 1.33s\tremaining: 234ms\n",
            "851:\tlearn: 0.0077299\ttotal: 1.33s\tremaining: 232ms\n",
            "852:\tlearn: 0.0077206\ttotal: 1.34s\tremaining: 230ms\n",
            "853:\tlearn: 0.0077097\ttotal: 1.34s\tremaining: 229ms\n",
            "854:\tlearn: 0.0077029\ttotal: 1.34s\tremaining: 227ms\n",
            "855:\tlearn: 0.0076941\ttotal: 1.34s\tremaining: 226ms\n",
            "856:\tlearn: 0.0076831\ttotal: 1.34s\tremaining: 224ms\n",
            "857:\tlearn: 0.0076741\ttotal: 1.34s\tremaining: 222ms\n",
            "858:\tlearn: 0.0076632\ttotal: 1.34s\tremaining: 221ms\n",
            "859:\tlearn: 0.0076530\ttotal: 1.35s\tremaining: 219ms\n",
            "860:\tlearn: 0.0076424\ttotal: 1.35s\tremaining: 218ms\n",
            "861:\tlearn: 0.0076338\ttotal: 1.35s\tremaining: 216ms\n",
            "862:\tlearn: 0.0076231\ttotal: 1.35s\tremaining: 215ms\n",
            "863:\tlearn: 0.0076145\ttotal: 1.35s\tremaining: 213ms\n",
            "864:\tlearn: 0.0076055\ttotal: 1.35s\tremaining: 211ms\n",
            "865:\tlearn: 0.0075943\ttotal: 1.36s\tremaining: 210ms\n",
            "866:\tlearn: 0.0075849\ttotal: 1.36s\tremaining: 208ms\n",
            "867:\tlearn: 0.0075762\ttotal: 1.36s\tremaining: 207ms\n",
            "868:\tlearn: 0.0075678\ttotal: 1.36s\tremaining: 205ms\n",
            "869:\tlearn: 0.0075593\ttotal: 1.36s\tremaining: 204ms\n",
            "870:\tlearn: 0.0075530\ttotal: 1.36s\tremaining: 202ms\n",
            "871:\tlearn: 0.0075436\ttotal: 1.36s\tremaining: 200ms\n",
            "872:\tlearn: 0.0075331\ttotal: 1.37s\tremaining: 199ms\n",
            "873:\tlearn: 0.0075240\ttotal: 1.37s\tremaining: 197ms\n",
            "874:\tlearn: 0.0075144\ttotal: 1.37s\tremaining: 196ms\n",
            "875:\tlearn: 0.0075057\ttotal: 1.37s\tremaining: 194ms\n",
            "876:\tlearn: 0.0074946\ttotal: 1.37s\tremaining: 193ms\n",
            "877:\tlearn: 0.0074823\ttotal: 1.37s\tremaining: 191ms\n",
            "878:\tlearn: 0.0074728\ttotal: 1.38s\tremaining: 189ms\n",
            "879:\tlearn: 0.0074664\ttotal: 1.38s\tremaining: 188ms\n",
            "880:\tlearn: 0.0074600\ttotal: 1.38s\tremaining: 186ms\n",
            "881:\tlearn: 0.0074497\ttotal: 1.38s\tremaining: 185ms\n",
            "882:\tlearn: 0.0074394\ttotal: 1.38s\tremaining: 183ms\n",
            "883:\tlearn: 0.0074300\ttotal: 1.38s\tremaining: 181ms\n",
            "884:\tlearn: 0.0074218\ttotal: 1.38s\tremaining: 180ms\n",
            "885:\tlearn: 0.0074123\ttotal: 1.39s\tremaining: 178ms\n",
            "886:\tlearn: 0.0074023\ttotal: 1.39s\tremaining: 177ms\n",
            "887:\tlearn: 0.0073929\ttotal: 1.39s\tremaining: 175ms\n",
            "888:\tlearn: 0.0073843\ttotal: 1.39s\tremaining: 174ms\n",
            "889:\tlearn: 0.0073750\ttotal: 1.39s\tremaining: 172ms\n",
            "890:\tlearn: 0.0073670\ttotal: 1.39s\tremaining: 170ms\n",
            "891:\tlearn: 0.0073577\ttotal: 1.39s\tremaining: 169ms\n",
            "892:\tlearn: 0.0073477\ttotal: 1.4s\tremaining: 167ms\n",
            "893:\tlearn: 0.0073391\ttotal: 1.4s\tremaining: 166ms\n",
            "894:\tlearn: 0.0073300\ttotal: 1.4s\tremaining: 164ms\n",
            "895:\tlearn: 0.0073201\ttotal: 1.4s\tremaining: 163ms\n",
            "896:\tlearn: 0.0073098\ttotal: 1.4s\tremaining: 161ms\n",
            "897:\tlearn: 0.0073019\ttotal: 1.4s\tremaining: 159ms\n",
            "898:\tlearn: 0.0072921\ttotal: 1.41s\tremaining: 158ms\n",
            "899:\tlearn: 0.0072842\ttotal: 1.41s\tremaining: 156ms\n",
            "900:\tlearn: 0.0072764\ttotal: 1.41s\tremaining: 155ms\n",
            "901:\tlearn: 0.0072666\ttotal: 1.41s\tremaining: 153ms\n",
            "902:\tlearn: 0.0072575\ttotal: 1.41s\tremaining: 152ms\n",
            "903:\tlearn: 0.0072496\ttotal: 1.41s\tremaining: 150ms\n",
            "904:\tlearn: 0.0072415\ttotal: 1.41s\tremaining: 149ms\n",
            "905:\tlearn: 0.0072330\ttotal: 1.42s\tremaining: 147ms\n",
            "906:\tlearn: 0.0072231\ttotal: 1.42s\tremaining: 145ms\n",
            "907:\tlearn: 0.0072141\ttotal: 1.42s\tremaining: 144ms\n",
            "908:\tlearn: 0.0072064\ttotal: 1.42s\tremaining: 142ms\n",
            "909:\tlearn: 0.0071982\ttotal: 1.42s\tremaining: 141ms\n",
            "910:\tlearn: 0.0071887\ttotal: 1.42s\tremaining: 139ms\n",
            "911:\tlearn: 0.0071793\ttotal: 1.42s\tremaining: 137ms\n",
            "912:\tlearn: 0.0071716\ttotal: 1.43s\tremaining: 136ms\n",
            "913:\tlearn: 0.0071640\ttotal: 1.43s\tremaining: 134ms\n",
            "914:\tlearn: 0.0071551\ttotal: 1.43s\tremaining: 133ms\n",
            "915:\tlearn: 0.0071455\ttotal: 1.43s\tremaining: 131ms\n",
            "916:\tlearn: 0.0071355\ttotal: 1.43s\tremaining: 130ms\n",
            "917:\tlearn: 0.0071276\ttotal: 1.43s\tremaining: 128ms\n",
            "918:\tlearn: 0.0071184\ttotal: 1.44s\tremaining: 127ms\n",
            "919:\tlearn: 0.0071089\ttotal: 1.44s\tremaining: 125ms\n",
            "920:\tlearn: 0.0070997\ttotal: 1.44s\tremaining: 123ms\n",
            "921:\tlearn: 0.0070922\ttotal: 1.44s\tremaining: 122ms\n",
            "922:\tlearn: 0.0070850\ttotal: 1.44s\tremaining: 120ms\n",
            "923:\tlearn: 0.0070772\ttotal: 1.44s\tremaining: 119ms\n",
            "924:\tlearn: 0.0070686\ttotal: 1.44s\tremaining: 117ms\n",
            "925:\tlearn: 0.0070592\ttotal: 1.45s\tremaining: 116ms\n",
            "926:\tlearn: 0.0070500\ttotal: 1.45s\tremaining: 114ms\n",
            "927:\tlearn: 0.0070423\ttotal: 1.45s\tremaining: 112ms\n",
            "928:\tlearn: 0.0070331\ttotal: 1.45s\tremaining: 111ms\n",
            "929:\tlearn: 0.0070253\ttotal: 1.45s\tremaining: 109ms\n",
            "930:\tlearn: 0.0070159\ttotal: 1.45s\tremaining: 108ms\n",
            "931:\tlearn: 0.0070068\ttotal: 1.45s\tremaining: 106ms\n",
            "932:\tlearn: 0.0069995\ttotal: 1.46s\tremaining: 105ms\n",
            "933:\tlearn: 0.0069922\ttotal: 1.46s\tremaining: 103ms\n",
            "934:\tlearn: 0.0069847\ttotal: 1.46s\tremaining: 101ms\n",
            "935:\tlearn: 0.0069791\ttotal: 1.46s\tremaining: 99.8ms\n",
            "936:\tlearn: 0.0069735\ttotal: 1.46s\tremaining: 98.3ms\n",
            "937:\tlearn: 0.0069662\ttotal: 1.46s\tremaining: 96.7ms\n",
            "938:\tlearn: 0.0069578\ttotal: 1.46s\tremaining: 95.2ms\n",
            "939:\tlearn: 0.0069501\ttotal: 1.47s\tremaining: 93.6ms\n",
            "940:\tlearn: 0.0069430\ttotal: 1.47s\tremaining: 92ms\n",
            "941:\tlearn: 0.0069343\ttotal: 1.47s\tremaining: 90.5ms\n",
            "942:\tlearn: 0.0069269\ttotal: 1.47s\tremaining: 88.9ms\n",
            "943:\tlearn: 0.0069180\ttotal: 1.47s\tremaining: 87.3ms\n",
            "944:\tlearn: 0.0069086\ttotal: 1.47s\tremaining: 85.8ms\n",
            "945:\tlearn: 0.0069007\ttotal: 1.48s\tremaining: 84.2ms\n",
            "946:\tlearn: 0.0068931\ttotal: 1.48s\tremaining: 82.6ms\n",
            "947:\tlearn: 0.0068857\ttotal: 1.48s\tremaining: 81.1ms\n",
            "948:\tlearn: 0.0068770\ttotal: 1.48s\tremaining: 79.5ms\n",
            "949:\tlearn: 0.0068697\ttotal: 1.48s\tremaining: 77.9ms\n",
            "950:\tlearn: 0.0068609\ttotal: 1.48s\tremaining: 76.4ms\n",
            "951:\tlearn: 0.0068517\ttotal: 1.48s\tremaining: 74.8ms\n",
            "952:\tlearn: 0.0068436\ttotal: 1.49s\tremaining: 73.3ms\n",
            "953:\tlearn: 0.0068349\ttotal: 1.49s\tremaining: 71.7ms\n",
            "954:\tlearn: 0.0068280\ttotal: 1.49s\tremaining: 70.1ms\n",
            "955:\tlearn: 0.0068205\ttotal: 1.49s\tremaining: 68.6ms\n",
            "956:\tlearn: 0.0068137\ttotal: 1.49s\tremaining: 67ms\n",
            "957:\tlearn: 0.0068058\ttotal: 1.49s\tremaining: 65.4ms\n",
            "958:\tlearn: 0.0067967\ttotal: 1.49s\tremaining: 63.9ms\n",
            "959:\tlearn: 0.0067914\ttotal: 1.5s\tremaining: 62.3ms\n",
            "960:\tlearn: 0.0067841\ttotal: 1.5s\tremaining: 60.8ms\n",
            "961:\tlearn: 0.0067773\ttotal: 1.5s\tremaining: 59.2ms\n",
            "962:\tlearn: 0.0067692\ttotal: 1.5s\tremaining: 57.6ms\n",
            "963:\tlearn: 0.0067610\ttotal: 1.5s\tremaining: 56.1ms\n",
            "964:\tlearn: 0.0067531\ttotal: 1.5s\tremaining: 54.5ms\n",
            "965:\tlearn: 0.0067454\ttotal: 1.5s\tremaining: 53ms\n",
            "966:\tlearn: 0.0067372\ttotal: 1.51s\tremaining: 51.4ms\n",
            "967:\tlearn: 0.0067293\ttotal: 1.51s\tremaining: 49.8ms\n",
            "968:\tlearn: 0.0067226\ttotal: 1.51s\tremaining: 48.4ms\n",
            "969:\tlearn: 0.0067144\ttotal: 1.52s\tremaining: 46.9ms\n",
            "970:\tlearn: 0.0067094\ttotal: 1.52s\tremaining: 45.3ms\n",
            "971:\tlearn: 0.0067015\ttotal: 1.52s\tremaining: 43.8ms\n",
            "972:\tlearn: 0.0066932\ttotal: 1.52s\tremaining: 42.2ms\n",
            "973:\tlearn: 0.0066855\ttotal: 1.52s\tremaining: 40.6ms\n",
            "974:\tlearn: 0.0066789\ttotal: 1.52s\tremaining: 39.1ms\n",
            "975:\tlearn: 0.0066711\ttotal: 1.52s\tremaining: 37.5ms\n",
            "976:\tlearn: 0.0066645\ttotal: 1.53s\tremaining: 36ms\n",
            "977:\tlearn: 0.0066564\ttotal: 1.53s\tremaining: 34.4ms\n",
            "978:\tlearn: 0.0066482\ttotal: 1.53s\tremaining: 32.8ms\n",
            "979:\tlearn: 0.0066412\ttotal: 1.53s\tremaining: 31.3ms\n",
            "980:\tlearn: 0.0066336\ttotal: 1.53s\tremaining: 29.7ms\n",
            "981:\tlearn: 0.0066253\ttotal: 1.53s\tremaining: 28.1ms\n",
            "982:\tlearn: 0.0066189\ttotal: 1.53s\tremaining: 26.6ms\n",
            "983:\tlearn: 0.0066108\ttotal: 1.54s\tremaining: 25ms\n",
            "984:\tlearn: 0.0066025\ttotal: 1.54s\tremaining: 23.4ms\n",
            "985:\tlearn: 0.0065945\ttotal: 1.54s\tremaining: 21.9ms\n",
            "986:\tlearn: 0.0065864\ttotal: 1.54s\tremaining: 20.3ms\n",
            "987:\tlearn: 0.0065797\ttotal: 1.54s\tremaining: 18.7ms\n",
            "988:\tlearn: 0.0065714\ttotal: 1.54s\tremaining: 17.2ms\n",
            "989:\tlearn: 0.0065649\ttotal: 1.54s\tremaining: 15.6ms\n",
            "990:\tlearn: 0.0065571\ttotal: 1.55s\tremaining: 14.1ms\n",
            "991:\tlearn: 0.0065503\ttotal: 1.55s\tremaining: 12.5ms\n",
            "992:\tlearn: 0.0065434\ttotal: 1.55s\tremaining: 10.9ms\n",
            "993:\tlearn: 0.0065371\ttotal: 1.55s\tremaining: 9.37ms\n",
            "994:\tlearn: 0.0065290\ttotal: 1.55s\tremaining: 7.8ms\n",
            "995:\tlearn: 0.0065224\ttotal: 1.55s\tremaining: 6.24ms\n",
            "996:\tlearn: 0.0065152\ttotal: 1.56s\tremaining: 4.68ms\n",
            "997:\tlearn: 0.0065070\ttotal: 1.56s\tremaining: 3.12ms\n",
            "998:\tlearn: 0.0065005\ttotal: 1.56s\tremaining: 1.56ms\n",
            "999:\tlearn: 0.0064942\ttotal: 1.56s\tremaining: 0us\n"
          ]
        },
        {
          "output_type": "execute_result",
          "data": {
            "text/plain": [
              "<catboost.core.CatBoostClassifier at 0x7f14a35e6fb0>"
            ]
          },
          "metadata": {},
          "execution_count": 94
        }
      ]
    },
    {
      "cell_type": "code",
      "source": [
        "test_pred = model.predict(X_test)\n",
        "train_pred = model.predict(X_train)"
      ],
      "metadata": {
        "id": "q1QQjMGX_rV5"
      },
      "execution_count": 95,
      "outputs": []
    },
    {
      "cell_type": "code",
      "source": [
        "from sklearn.metrics import f1_score\n",
        "print('Macro F1-score on Test is %.2f' %f1_score(y_test, test_pred, average='macro'))\n",
        "print('Macro F1-score on Train is %.2f' %f1_score(y_train, train_pred, average='macro'))"
      ],
      "metadata": {
        "colab": {
          "base_uri": "https://localhost:8080/"
        },
        "id": "Kp_7xfYZ_tr4",
        "outputId": "b5c2dba5-89cc-45ca-bc3c-bad1ccc34538"
      },
      "execution_count": 96,
      "outputs": [
        {
          "output_type": "stream",
          "name": "stdout",
          "text": [
            "Macro F1-score on Test is 1.00\n",
            "Macro F1-score on Train is 1.00\n"
          ]
        }
      ]
    },
    {
      "cell_type": "markdown",
      "source": [
        "## Grid search to tune one of the boosting methods above"
      ],
      "metadata": {
        "id": "QqTRAcyt65uJ"
      }
    },
    {
      "cell_type": "markdown",
      "source": [
        "We apply grid search to XGBoost. There are several parameters that we can optimize:\n",
        "\n",
        "\n",
        "*   eta or learning rate\n",
        "*   max depth of tree\n",
        "*   subsample is the fraction of the data which is sampled and given to each tree\n",
        "*   colsample_bytree determines fraction of features we want to use to construct each tree\n",
        "* gamma is the minimum loss reduction required to make a further partition on a leaf node of the tree. The larger gamma is, the more conservative the algorithm will be.\n",
        "\n",
        "\n",
        "In RandomizedSearchCV, we set refit to AUC. the refit of an estimator determines the best found parameters on the whole dataset:"
      ],
      "metadata": {
        "id": "yWWvFlEapgKv"
      }
    },
    {
      "cell_type": "code",
      "source": [
        "from sklearn.model_selection import RandomizedSearchCV\n",
        "\n",
        "model = XGBClassifier()\n",
        "\n",
        "param_grid = {\n",
        "    \"eta\": [0.1, 0.01],\n",
        "    \"subsample\": [0.6, 0.8, 1.0],\n",
        "    \"max_depth\": [2,5,10],\n",
        "    \"n_estimators\": [50,100, 150, 200],\n",
        "    \"gamma\": [ 0.0, 0.1, 0.2 , 0.3, 0.4 ],\n",
        "    \"colsample_bytree\": [0.6, 0.8, 1.0],\n",
        "}\n",
        "\n",
        "n_iter=50\n",
        "grid = RandomizedSearchCV(\n",
        "    estimator=model,\n",
        "    param_distributions=param_grid,\n",
        "    n_jobs=-1,\n",
        "    n_iter=n_iter,\n",
        "    refit=\"AUC\",\n",
        ")\n",
        "\n",
        "best_model = grid.fit(X_train,y_train)"
      ],
      "metadata": {
        "id": "LdUK4ysICTph"
      },
      "execution_count": 97,
      "outputs": []
    },
    {
      "cell_type": "markdown",
      "source": [
        "Here you can find some of the best parameters for XGBoost:"
      ],
      "metadata": {
        "id": "ik9GXUwlur1T"
      }
    },
    {
      "cell_type": "code",
      "source": [
        "print('Max depth is: %d ' %best_model.best_estimator_.max_depth)\n",
        "print('Gamma is: %.2f '  %best_model.best_estimator_.gamma)\n",
        "print('subsample is: %.2f '  %best_model.best_estimator_.subsample)"
      ],
      "metadata": {
        "colab": {
          "base_uri": "https://localhost:8080/"
        },
        "id": "dPCT5YovCwby",
        "outputId": "a1a4343c-f273-4214-d999-4a14d59a6603"
      },
      "execution_count": 98,
      "outputs": [
        {
          "output_type": "stream",
          "name": "stdout",
          "text": [
            "Max depth is: 2 \n",
            "Gamma is: 0.10 \n",
            "subsample is: 1.00 \n"
          ]
        }
      ]
    },
    {
      "cell_type": "markdown",
      "source": [
        "# Explain how KNN and decision trees can be extended to multi-label classification problems"
      ],
      "metadata": {
        "id": "KUdx057p7-Mf"
      }
    },
    {
      "cell_type": "markdown",
      "source": [
        "Both K-nearest neighbor (KNN) and decision trees can be extended to handle multi-label classification problems. Here's how:\n",
        "\n",
        "**K-Nearest Neighbor (KNN)**\n",
        "\n",
        "The traditional KNN algorithm is designed for single-label classification, where each instance belongs to one and only one class. In multi-label classification, each instance can belong to multiple classes simultaneously. To adapt KNN for multi-label classification, the following modifications are made:\n",
        "\n",
        "1. **Label Set Prediction:** Instead of predicting a single label, KNN predicts a label set for each instance. This is done by considering the label sets of the k nearest neighbors and assigning the most frequent labels to the new instance.\n",
        "\n",
        "2. **Distance Metric:** The distance metric used to find nearest neighbors needs to be adapted to handle multi-label data. Some common distance metrics for multi-label KNN include Hamming distance, Jaccard similarity, and Label Powerset distance.\n",
        "\n",
        "**Decision Trees**\n",
        "\n",
        "Decision trees can also be extended to handle multi-label classification by modifying the splitting criterion. The traditional information gain or gain ratio criterion is not suitable for multi-label data, as it assumes that labels are mutually exclusive. Instead, alternative splitting criteria, such as the maximum F1-score or the maximum multi-label classification accuracy, can be used.\n",
        "\n",
        "Here's a summary of the extensions for each algorithm:\n",
        "\n",
        "| Algorithm | Extension for Multi-Label Classification |\n",
        "|---|---|\n",
        "| KNN | Predict a label set, use multi-label distance metrics |\n",
        "| Decision Trees | Modify splitting criterion for multi-label data |\n",
        "\n"
      ],
      "metadata": {
        "id": "EYIw9B0ov4dS"
      }
    }
  ]
}