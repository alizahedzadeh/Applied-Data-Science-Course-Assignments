{
  "cells": [
    {
      "cell_type": "markdown",
      "metadata": {
        "id": "n478K6vpMISa"
      },
      "source": [
        "# Assignment 4: Feature Engineering\n",
        "Choosen Dataset:\n",
        "[Data Science Job Posting on Glassdoor](https://www.kaggle.com/datasets/rashikrahmanpritom/data-science-job-posting-on-glassdoor)\n",
        "\n",
        "Group Members:\n",
        "\n",
        "\n",
        "*   Ali Zahedzadeh\n",
        "*   Melika Noubakhtian\n",
        "\n"
      ]
    },
    {
      "cell_type": "markdown",
      "metadata": {
        "id": "VGT3a-e7Mc8j"
      },
      "source": [
        "**Import Libraries**"
      ]
    },
    {
      "cell_type": "code",
      "execution_count": 38,
      "metadata": {
        "id": "8GphD-cwalK_"
      },
      "outputs": [],
      "source": [
        "import pandas as pd\n",
        "import numpy as np\n",
        "import matplotlib.pyplot as plt\n",
        "import datetime\n",
        "from random import seed\n",
        "from random import randint\n",
        "from sklearn.feature_selection import SelectKBest, mutual_info_regression\n",
        "from sklearn.preprocessing import StandardScaler\n",
        "from sklearn.decomposition import PCA\n",
        "\n",
        "# seed random number generator\n",
        "seed(1)"
      ]
    },
    {
      "cell_type": "markdown",
      "metadata": {
        "id": "Rj_bylnPMnTy"
      },
      "source": [
        "**Read Dataset**"
      ]
    },
    {
      "cell_type": "code",
      "execution_count": 39,
      "metadata": {
        "colab": {
          "base_uri": "https://localhost:8080/",
          "height": 446
        },
        "id": "KZMJQghafgSE",
        "outputId": "e19a2484-c0f2-4064-fe98-6ae7a1e6daf5"
      },
      "outputs": [
        {
          "data": {
            "text/html": [
              "<div>\n",
              "<style scoped>\n",
              "    .dataframe tbody tr th:only-of-type {\n",
              "        vertical-align: middle;\n",
              "    }\n",
              "\n",
              "    .dataframe tbody tr th {\n",
              "        vertical-align: top;\n",
              "    }\n",
              "\n",
              "    .dataframe thead th {\n",
              "        text-align: right;\n",
              "    }\n",
              "</style>\n",
              "<table border=\"1\" class=\"dataframe\">\n",
              "  <thead>\n",
              "    <tr style=\"text-align: right;\">\n",
              "      <th></th>\n",
              "      <th>Job Title</th>\n",
              "      <th>Salary Estimate</th>\n",
              "      <th>Job Description</th>\n",
              "      <th>Rating</th>\n",
              "      <th>Company Name</th>\n",
              "      <th>Location</th>\n",
              "      <th>Headquarters</th>\n",
              "      <th>Size</th>\n",
              "      <th>Type of ownership</th>\n",
              "      <th>Industry</th>\n",
              "      <th>...</th>\n",
              "      <th>company_age</th>\n",
              "      <th>python</th>\n",
              "      <th>excel</th>\n",
              "      <th>hadoop</th>\n",
              "      <th>spark</th>\n",
              "      <th>aws</th>\n",
              "      <th>tableau</th>\n",
              "      <th>big_data</th>\n",
              "      <th>job_simp</th>\n",
              "      <th>seniority</th>\n",
              "    </tr>\n",
              "  </thead>\n",
              "  <tbody>\n",
              "    <tr>\n",
              "      <th>0</th>\n",
              "      <td>Sr Data Scientist</td>\n",
              "      <td>137-171</td>\n",
              "      <td>Description\\n\\nThe Senior Data Scientist is re...</td>\n",
              "      <td>3.1</td>\n",
              "      <td>Healthfirst</td>\n",
              "      <td>New York, NY</td>\n",
              "      <td>New York, NY</td>\n",
              "      <td>1001 to 5000 employees</td>\n",
              "      <td>Nonprofit Organization</td>\n",
              "      <td>Insurance Carriers</td>\n",
              "      <td>...</td>\n",
              "      <td>27</td>\n",
              "      <td>0</td>\n",
              "      <td>0</td>\n",
              "      <td>0</td>\n",
              "      <td>0</td>\n",
              "      <td>1</td>\n",
              "      <td>0</td>\n",
              "      <td>0</td>\n",
              "      <td>data scientist</td>\n",
              "      <td>senior</td>\n",
              "    </tr>\n",
              "    <tr>\n",
              "      <th>1</th>\n",
              "      <td>Data Scientist</td>\n",
              "      <td>137-171</td>\n",
              "      <td>Secure our Nation, Ignite your Future\\n\\nJoin ...</td>\n",
              "      <td>4.2</td>\n",
              "      <td>ManTech</td>\n",
              "      <td>Chantilly, VA</td>\n",
              "      <td>Herndon, VA</td>\n",
              "      <td>5001 to 10000 employees</td>\n",
              "      <td>Company - Public</td>\n",
              "      <td>Research &amp; Development</td>\n",
              "      <td>...</td>\n",
              "      <td>52</td>\n",
              "      <td>0</td>\n",
              "      <td>0</td>\n",
              "      <td>1</td>\n",
              "      <td>0</td>\n",
              "      <td>0</td>\n",
              "      <td>0</td>\n",
              "      <td>1</td>\n",
              "      <td>data scientist</td>\n",
              "      <td>na</td>\n",
              "    </tr>\n",
              "    <tr>\n",
              "      <th>2</th>\n",
              "      <td>Data Scientist</td>\n",
              "      <td>137-171</td>\n",
              "      <td>Overview\\n\\n\\nAnalysis Group is one of the lar...</td>\n",
              "      <td>3.8</td>\n",
              "      <td>Analysis Group</td>\n",
              "      <td>Boston, MA</td>\n",
              "      <td>Boston, MA</td>\n",
              "      <td>1001 to 5000 employees</td>\n",
              "      <td>Private Practice / Firm</td>\n",
              "      <td>Consulting</td>\n",
              "      <td>...</td>\n",
              "      <td>39</td>\n",
              "      <td>1</td>\n",
              "      <td>1</td>\n",
              "      <td>0</td>\n",
              "      <td>0</td>\n",
              "      <td>1</td>\n",
              "      <td>0</td>\n",
              "      <td>0</td>\n",
              "      <td>data scientist</td>\n",
              "      <td>na</td>\n",
              "    </tr>\n",
              "    <tr>\n",
              "      <th>3</th>\n",
              "      <td>Data Scientist</td>\n",
              "      <td>137-171</td>\n",
              "      <td>JOB DESCRIPTION:\\n\\nDo you have a passion for ...</td>\n",
              "      <td>3.5</td>\n",
              "      <td>INFICON</td>\n",
              "      <td>Newton, MA</td>\n",
              "      <td>Bad Ragaz, Switzerland</td>\n",
              "      <td>501 to 1000 employees</td>\n",
              "      <td>Company - Public</td>\n",
              "      <td>Electrical &amp; Electronic Manufacturing</td>\n",
              "      <td>...</td>\n",
              "      <td>20</td>\n",
              "      <td>1</td>\n",
              "      <td>1</td>\n",
              "      <td>0</td>\n",
              "      <td>0</td>\n",
              "      <td>1</td>\n",
              "      <td>0</td>\n",
              "      <td>0</td>\n",
              "      <td>data scientist</td>\n",
              "      <td>na</td>\n",
              "    </tr>\n",
              "    <tr>\n",
              "      <th>4</th>\n",
              "      <td>Data Scientist</td>\n",
              "      <td>137-171</td>\n",
              "      <td>Data Scientist\\nAffinity Solutions / Marketing...</td>\n",
              "      <td>2.9</td>\n",
              "      <td>Affinity Solutions</td>\n",
              "      <td>New York, NY</td>\n",
              "      <td>New York, NY</td>\n",
              "      <td>51 to 200 employees</td>\n",
              "      <td>Company - Private</td>\n",
              "      <td>Advertising &amp; Marketing</td>\n",
              "      <td>...</td>\n",
              "      <td>22</td>\n",
              "      <td>1</td>\n",
              "      <td>1</td>\n",
              "      <td>0</td>\n",
              "      <td>0</td>\n",
              "      <td>0</td>\n",
              "      <td>0</td>\n",
              "      <td>0</td>\n",
              "      <td>data scientist</td>\n",
              "      <td>na</td>\n",
              "    </tr>\n",
              "  </tbody>\n",
              "</table>\n",
              "<p>5 rows × 27 columns</p>\n",
              "</div>"
            ],
            "text/plain": [
              "           Job Title Salary Estimate  \\\n",
              "0  Sr Data Scientist        137-171    \n",
              "1     Data Scientist        137-171    \n",
              "2     Data Scientist        137-171    \n",
              "3     Data Scientist        137-171    \n",
              "4     Data Scientist        137-171    \n",
              "\n",
              "                                     Job Description  Rating  \\\n",
              "0  Description\\n\\nThe Senior Data Scientist is re...     3.1   \n",
              "1  Secure our Nation, Ignite your Future\\n\\nJoin ...     4.2   \n",
              "2  Overview\\n\\n\\nAnalysis Group is one of the lar...     3.8   \n",
              "3  JOB DESCRIPTION:\\n\\nDo you have a passion for ...     3.5   \n",
              "4  Data Scientist\\nAffinity Solutions / Marketing...     2.9   \n",
              "\n",
              "         Company Name       Location            Headquarters  \\\n",
              "0         Healthfirst   New York, NY            New York, NY   \n",
              "1             ManTech  Chantilly, VA             Herndon, VA   \n",
              "2      Analysis Group     Boston, MA              Boston, MA   \n",
              "3             INFICON     Newton, MA  Bad Ragaz, Switzerland   \n",
              "4  Affinity Solutions   New York, NY            New York, NY   \n",
              "\n",
              "                      Size        Type of ownership  \\\n",
              "0   1001 to 5000 employees   Nonprofit Organization   \n",
              "1  5001 to 10000 employees         Company - Public   \n",
              "2   1001 to 5000 employees  Private Practice / Firm   \n",
              "3    501 to 1000 employees         Company - Public   \n",
              "4      51 to 200 employees        Company - Private   \n",
              "\n",
              "                                Industry  ... company_age python  excel  \\\n",
              "0                     Insurance Carriers  ...          27      0      0   \n",
              "1                 Research & Development  ...          52      0      0   \n",
              "2                             Consulting  ...          39      1      1   \n",
              "3  Electrical & Electronic Manufacturing  ...          20      1      1   \n",
              "4                Advertising & Marketing  ...          22      1      1   \n",
              "\n",
              "   hadoop  spark aws  tableau  big_data        job_simp  seniority  \n",
              "0       0      0   1        0         0  data scientist     senior  \n",
              "1       1      0   0        0         1  data scientist         na  \n",
              "2       0      0   1        0         0  data scientist         na  \n",
              "3       0      0   1        0         0  data scientist         na  \n",
              "4       0      0   0        0         0  data scientist         na  \n",
              "\n",
              "[5 rows x 27 columns]"
            ]
          },
          "execution_count": 39,
          "metadata": {},
          "output_type": "execute_result"
        }
      ],
      "source": [
        "path = '../../datasets/Cleaned_DS_Jobs.csv'\n",
        "df = pd.read_csv(path)\n",
        "df.head()"
      ]
    },
    {
      "cell_type": "markdown",
      "metadata": {
        "id": "E9olca5ZMtrK"
      },
      "source": [
        "One of the practices for this assignment is related to Date/Time. Becuase we don't have any column for this subject, We add 2 new columns to dataset: first one called **\"Date_of_Posting\"** that indicates when a job opportunity is posted, second one is **\"Date_of_Acceptance\"** that shows when a suitable candidate has found for the job."
      ]
    },
    {
      "cell_type": "code",
      "execution_count": 40,
      "metadata": {
        "id": "skYD919H2Pon"
      },
      "outputs": [],
      "source": [
        "entries_count = len(df)\n",
        "df['Date_of_Posting'] = [np.random.choice(pd.date_range(datetime.datetime(2016,1,1)\n",
        "                                         ,datetime.datetime(2018,12,29)))\n",
        "                                          for i in range(entries_count)]\n",
        "\n",
        "# for day of acceptance, we add 14 day - 60 days randomly to day of posting\n",
        "df[\"Date_of_Acceptance\"] = df['Date_of_Posting'].apply(lambda x: x + datetime.timedelta(days=randint(14, 60)) )"
      ]
    },
    {
      "cell_type": "code",
      "execution_count": 41,
      "metadata": {
        "colab": {
          "base_uri": "https://localhost:8080/"
        },
        "id": "o6dXe6O9f0nQ",
        "outputId": "158675d6-1a16-4807-c307-335f1ba1ee18"
      },
      "outputs": [
        {
          "data": {
            "text/plain": [
              "Index(['Job Title', 'Salary Estimate', 'Job Description', 'Rating',\n",
              "       'Company Name', 'Location', 'Headquarters', 'Size', 'Type of ownership',\n",
              "       'Industry', 'Sector', 'Revenue', 'min_salary', 'max_salary',\n",
              "       'avg_salary', 'job_state', 'same_state', 'company_age', 'python',\n",
              "       'excel', 'hadoop', 'spark', 'aws', 'tableau', 'big_data', 'job_simp',\n",
              "       'seniority', 'Date_of_Posting', 'Date_of_Acceptance'],\n",
              "      dtype='object')"
            ]
          },
          "execution_count": 41,
          "metadata": {},
          "output_type": "execute_result"
        }
      ],
      "source": [
        "df.columns"
      ]
    },
    {
      "cell_type": "markdown",
      "metadata": {
        "id": "7kYfeiJ5avwQ"
      },
      "source": [
        "# Ratio"
      ]
    },
    {
      "cell_type": "markdown",
      "metadata": {
        "id": "CtQURZC4NvdE"
      },
      "source": [
        "Here, we will caculate the ratio of some of the features. At first we compute the ratio between max salary and avg salary:"
      ]
    },
    {
      "cell_type": "code",
      "execution_count": 42,
      "metadata": {
        "id": "saFFNiZXpMrM"
      },
      "outputs": [],
      "source": [
        "df['MaxSal_per_AvgSal'] = df['max_salary'] / df['avg_salary']"
      ]
    },
    {
      "cell_type": "code",
      "execution_count": 43,
      "metadata": {
        "colab": {
          "base_uri": "https://localhost:8080/",
          "height": 471
        },
        "id": "HjAT5KE8pvC-",
        "outputId": "98c8e490-fa77-48fe-e4ab-8304045bf192"
      },
      "outputs": [
        {
          "data": {
            "image/png": "[encoded data removed]",
            "text/plain": [
              "<Figure size 1000x500 with 1 Axes>"
            ]
          },
          "metadata": {},
          "output_type": "display_data"
        }
      ],
      "source": [
        "# Create the histogram\n",
        "df['MaxSal_per_AvgSal'].hist(bins=15,figsize=(10,5))\n",
        "plt.xlabel('Max salary to Avg Salary Ratio',fontsize=16)\n",
        "plt.show()"
      ]
    },
    {
      "cell_type": "markdown",
      "metadata": {
        "id": "FxpDECvaOqtb"
      },
      "source": [
        "Another ratio which we are calculating here is **\"Rating\"** per **\"Company Age\"** :"
      ]
    },
    {
      "cell_type": "code",
      "execution_count": 44,
      "metadata": {
        "id": "RjnLjcEmPB1M"
      },
      "outputs": [],
      "source": [
        "df['rating_per_age'] = df['Rating'] / df['company_age']"
      ]
    },
    {
      "cell_type": "code",
      "execution_count": 45,
      "metadata": {
        "colab": {
          "base_uri": "https://localhost:8080/",
          "height": 471
        },
        "id": "7Hq_kHKuP8qb",
        "outputId": "ebaf5882-a228-415a-9f5a-7b33cefa87c4"
      },
      "outputs": [
        {
          "data": {
            "image/png": "[encoded data removed]",
            "text/plain": [
              "<Figure size 1000x500 with 1 Axes>"
            ]
          },
          "metadata": {},
          "output_type": "display_data"
        }
      ],
      "source": [
        "# Create the histogram\n",
        "df['rating_per_age'].hist(bins=10,figsize=(10,5))\n",
        "plt.xlabel('Rating to Company Age Ratio',fontsize=16)\n",
        "plt.show()"
      ]
    },
    {
      "cell_type": "markdown",
      "metadata": {
        "id": "IUywxNgfay4z"
      },
      "source": [
        "# Binning"
      ]
    },
    {
      "cell_type": "markdown",
      "metadata": {
        "id": "uM6qq4jUuRHW"
      },
      "source": [
        "A suitable feature for binning is \"Rating\". We divide this column into intervals, for instance, we can categorize \"Rating\" in this way:\n",
        "\n",
        "*   Worst (<= 1 )\n",
        "*   Bad ( 1 < rate <= 2 )\n",
        "*   Neutral ( 2 < rate <= 3 )\n",
        "*   Good (3 < rate <= 4)\n",
        "*   Excellent (4 < rate <= 5)\n"
      ]
    },
    {
      "cell_type": "code",
      "execution_count": 46,
      "metadata": {
        "id": "cEIE002MuKat"
      },
      "outputs": [],
      "source": [
        "bins = [-0.01, 1.0, 2.0, 3.0, 4.0, 5.0]\n",
        "labels = [1,2,3,4,5]\n",
        "df['Binned_Rating'] = pd.cut(df['Rating'], bins=bins, labels=labels)"
      ]
    },
    {
      "cell_type": "code",
      "execution_count": 47,
      "metadata": {
        "colab": {
          "base_uri": "https://localhost:8080/",
          "height": 206
        },
        "id": "zbvfcrNqxCsA",
        "outputId": "8d2e4280-4c63-4b78-a9e3-9bb013cdf3c9"
      },
      "outputs": [
        {
          "data": {
            "text/html": [
              "<div>\n",
              "<style scoped>\n",
              "    .dataframe tbody tr th:only-of-type {\n",
              "        vertical-align: middle;\n",
              "    }\n",
              "\n",
              "    .dataframe tbody tr th {\n",
              "        vertical-align: top;\n",
              "    }\n",
              "\n",
              "    .dataframe thead th {\n",
              "        text-align: right;\n",
              "    }\n",
              "</style>\n",
              "<table border=\"1\" class=\"dataframe\">\n",
              "  <thead>\n",
              "    <tr style=\"text-align: right;\">\n",
              "      <th></th>\n",
              "      <th>Rating</th>\n",
              "      <th>Binned_Rating</th>\n",
              "    </tr>\n",
              "  </thead>\n",
              "  <tbody>\n",
              "    <tr>\n",
              "      <th>655</th>\n",
              "      <td>3.6</td>\n",
              "      <td>4</td>\n",
              "    </tr>\n",
              "    <tr>\n",
              "      <th>656</th>\n",
              "      <td>0.0</td>\n",
              "      <td>1</td>\n",
              "    </tr>\n",
              "    <tr>\n",
              "      <th>657</th>\n",
              "      <td>0.0</td>\n",
              "      <td>1</td>\n",
              "    </tr>\n",
              "    <tr>\n",
              "      <th>658</th>\n",
              "      <td>5.0</td>\n",
              "      <td>5</td>\n",
              "    </tr>\n",
              "    <tr>\n",
              "      <th>659</th>\n",
              "      <td>2.7</td>\n",
              "      <td>3</td>\n",
              "    </tr>\n",
              "  </tbody>\n",
              "</table>\n",
              "</div>"
            ],
            "text/plain": [
              "     Rating Binned_Rating\n",
              "655     3.6             4\n",
              "656     0.0             1\n",
              "657     0.0             1\n",
              "658     5.0             5\n",
              "659     2.7             3"
            ]
          },
          "execution_count": 47,
          "metadata": {},
          "output_type": "execute_result"
        }
      ],
      "source": [
        "df[['Rating','Binned_Rating']].tail()"
      ]
    },
    {
      "cell_type": "markdown",
      "metadata": {
        "id": "3X67lUFgRFcs"
      },
      "source": [
        "In the previous example, we manually determined bins and they were uneven. In this part, we just give number of bins and boundaries will be calculated automatically.\n",
        "\n",
        "We will apply this spproach to **\"avg_salary\"**."
      ]
    },
    {
      "cell_type": "code",
      "execution_count": 48,
      "metadata": {
        "id": "GOAGOIrTUtUN"
      },
      "outputs": [],
      "source": [
        "no_bins = 12\n",
        "bin_step = int((df['avg_salary'].max() - df['avg_salary'].min())/no_bins)\n",
        "bins = np.arange(int(df['avg_salary'].min()),int(df['avg_salary'].max()) + 1, bin_step)\n",
        "labels = np.arange(1,len(bins))\n",
        "df['Binned_avg_salary'] = pd.cut(df['avg_salary'], bins=bins, labels=labels)"
      ]
    },
    {
      "cell_type": "code",
      "execution_count": 49,
      "metadata": {
        "colab": {
          "base_uri": "https://localhost:8080/",
          "height": 423
        },
        "id": "mU7q1XwmVbWW",
        "outputId": "deda0290-ca23-41d3-e1b3-5a71ec82114f"
      },
      "outputs": [
        {
          "data": {
            "text/html": [
              "<div>\n",
              "<style scoped>\n",
              "    .dataframe tbody tr th:only-of-type {\n",
              "        vertical-align: middle;\n",
              "    }\n",
              "\n",
              "    .dataframe tbody tr th {\n",
              "        vertical-align: top;\n",
              "    }\n",
              "\n",
              "    .dataframe thead th {\n",
              "        text-align: right;\n",
              "    }\n",
              "</style>\n",
              "<table border=\"1\" class=\"dataframe\">\n",
              "  <thead>\n",
              "    <tr style=\"text-align: right;\">\n",
              "      <th></th>\n",
              "      <th>avg_salary</th>\n",
              "      <th>Binned_avg_salary</th>\n",
              "    </tr>\n",
              "  </thead>\n",
              "  <tbody>\n",
              "    <tr>\n",
              "      <th>0</th>\n",
              "      <td>154</td>\n",
              "      <td>6</td>\n",
              "    </tr>\n",
              "    <tr>\n",
              "      <th>1</th>\n",
              "      <td>154</td>\n",
              "      <td>6</td>\n",
              "    </tr>\n",
              "    <tr>\n",
              "      <th>2</th>\n",
              "      <td>154</td>\n",
              "      <td>6</td>\n",
              "    </tr>\n",
              "    <tr>\n",
              "      <th>3</th>\n",
              "      <td>154</td>\n",
              "      <td>6</td>\n",
              "    </tr>\n",
              "    <tr>\n",
              "      <th>4</th>\n",
              "      <td>154</td>\n",
              "      <td>6</td>\n",
              "    </tr>\n",
              "    <tr>\n",
              "      <th>...</th>\n",
              "      <td>...</td>\n",
              "      <td>...</td>\n",
              "    </tr>\n",
              "    <tr>\n",
              "      <th>655</th>\n",
              "      <td>136</td>\n",
              "      <td>5</td>\n",
              "    </tr>\n",
              "    <tr>\n",
              "      <th>656</th>\n",
              "      <td>136</td>\n",
              "      <td>5</td>\n",
              "    </tr>\n",
              "    <tr>\n",
              "      <th>657</th>\n",
              "      <td>136</td>\n",
              "      <td>5</td>\n",
              "    </tr>\n",
              "    <tr>\n",
              "      <th>658</th>\n",
              "      <td>136</td>\n",
              "      <td>5</td>\n",
              "    </tr>\n",
              "    <tr>\n",
              "      <th>659</th>\n",
              "      <td>136</td>\n",
              "      <td>5</td>\n",
              "    </tr>\n",
              "  </tbody>\n",
              "</table>\n",
              "<p>660 rows × 2 columns</p>\n",
              "</div>"
            ],
            "text/plain": [
              "     avg_salary Binned_avg_salary\n",
              "0           154                 6\n",
              "1           154                 6\n",
              "2           154                 6\n",
              "3           154                 6\n",
              "4           154                 6\n",
              "..          ...               ...\n",
              "655         136                 5\n",
              "656         136                 5\n",
              "657         136                 5\n",
              "658         136                 5\n",
              "659         136                 5\n",
              "\n",
              "[660 rows x 2 columns]"
            ]
          },
          "execution_count": 49,
          "metadata": {},
          "output_type": "execute_result"
        }
      ],
      "source": [
        "df[['avg_salary','Binned_avg_salary']]"
      ]
    },
    {
      "cell_type": "markdown",
      "metadata": {
        "id": "fTg-CqYCbUtV"
      },
      "source": [
        "# Combining columns"
      ]
    },
    {
      "cell_type": "markdown",
      "metadata": {
        "id": "pu2eO94GXZ1d"
      },
      "source": [
        "A career opportunity needs different skillsets but for now we just have them in separate columns. A new column,**\"NumRequiredSkills\"** is added to dataset showing how many skills a job applicant should have to be a proper candidate for a job."
      ]
    },
    {
      "cell_type": "code",
      "execution_count": 50,
      "metadata": {
        "id": "246fDhRig3U8"
      },
      "outputs": [],
      "source": [
        "# number of required skills\n",
        "def calculate_required_skills_size(input_df):\n",
        "    \"\"\" count of skills a job required\n",
        "    (python,excel, hadoop, spark, aws, tableau, big_data) \"\"\"\n",
        "\n",
        "    skills = ['python','excel', 'hadoop', 'spark', 'aws', 'tableau', 'big_data']\n",
        "    output = 0\n",
        "    for skill in skills:\n",
        "        output += input_df[skill]\n",
        "\n",
        "    return output"
      ]
    },
    {
      "cell_type": "code",
      "execution_count": 51,
      "metadata": {
        "id": "D1mtm4mljGYW"
      },
      "outputs": [],
      "source": [
        "df['NumRequiredSkills'] = df.apply(calculate_required_skills_size, axis=1)"
      ]
    },
    {
      "cell_type": "markdown",
      "metadata": {
        "id": "KY7jmirDYu7Y"
      },
      "source": [
        "The following plot represents that approximately **%65** of positions at most need 3 skills:"
      ]
    },
    {
      "cell_type": "code",
      "execution_count": 52,
      "metadata": {
        "colab": {
          "base_uri": "https://localhost:8080/",
          "height": 764
        },
        "id": "9PwafSnIjfmt",
        "outputId": "1d9bcf4f-6cc9-4e99-fcba-5d9714db67cc"
      },
      "outputs": [
        {
          "data": {
            "image/png": "[encoded data removed]",
            "text/plain": [
              "<Figure size 640x480 with 1 Axes>"
            ]
          },
          "metadata": {},
          "output_type": "display_data"
        }
      ],
      "source": [
        "df['NumRequiredSkills'].value_counts().plot.pie(autopct='%1.0f%%',radius=2,ylabel='')\n",
        "plt.title('Number of required skills for the Job', y=1.5,fontsize=20)\n",
        "plt.show()"
      ]
    },
    {
      "cell_type": "markdown",
      "metadata": {
        "id": "64vjf0MgWrY0"
      },
      "source": [
        "Sector and Industry are two fields that are related together. We combine them and introduce new feature **\"Sector_and_Industry_cat\"**:"
      ]
    },
    {
      "cell_type": "code",
      "execution_count": 53,
      "metadata": {
        "id": "lTJLhGiZky_V"
      },
      "outputs": [],
      "source": [
        "df['Sector_and_Industry_cat'] = df[['Sector', 'Industry']].agg('_'.join, axis=1)"
      ]
    },
    {
      "cell_type": "code",
      "execution_count": 54,
      "metadata": {
        "colab": {
          "base_uri": "https://localhost:8080/",
          "height": 432
        },
        "id": "L93_HtgQlwTt",
        "outputId": "981fe6df-cc30-4a74-c864-2a5e09356a7d"
      },
      "outputs": [
        {
          "data": {
            "text/html": [
              "<div>\n",
              "<style scoped>\n",
              "    .dataframe tbody tr th:only-of-type {\n",
              "        vertical-align: middle;\n",
              "    }\n",
              "\n",
              "    .dataframe tbody tr th {\n",
              "        vertical-align: top;\n",
              "    }\n",
              "\n",
              "    .dataframe thead th {\n",
              "        text-align: right;\n",
              "    }\n",
              "</style>\n",
              "<table border=\"1\" class=\"dataframe\">\n",
              "  <thead>\n",
              "    <tr style=\"text-align: right;\">\n",
              "      <th></th>\n",
              "      <th>Sector</th>\n",
              "      <th>Industry</th>\n",
              "      <th>Sector_and_Industry_cat</th>\n",
              "    </tr>\n",
              "  </thead>\n",
              "  <tbody>\n",
              "    <tr>\n",
              "      <th>0</th>\n",
              "      <td>Insurance</td>\n",
              "      <td>Insurance Carriers</td>\n",
              "      <td>Insurance_Insurance Carriers</td>\n",
              "    </tr>\n",
              "    <tr>\n",
              "      <th>1</th>\n",
              "      <td>Business Services</td>\n",
              "      <td>Research &amp; Development</td>\n",
              "      <td>Business Services_Research &amp; Development</td>\n",
              "    </tr>\n",
              "    <tr>\n",
              "      <th>2</th>\n",
              "      <td>Business Services</td>\n",
              "      <td>Consulting</td>\n",
              "      <td>Business Services_Consulting</td>\n",
              "    </tr>\n",
              "    <tr>\n",
              "      <th>3</th>\n",
              "      <td>Manufacturing</td>\n",
              "      <td>Electrical &amp; Electronic Manufacturing</td>\n",
              "      <td>Manufacturing_Electrical &amp; Electronic Manufact...</td>\n",
              "    </tr>\n",
              "    <tr>\n",
              "      <th>4</th>\n",
              "      <td>Business Services</td>\n",
              "      <td>Advertising &amp; Marketing</td>\n",
              "      <td>Business Services_Advertising &amp; Marketing</td>\n",
              "    </tr>\n",
              "    <tr>\n",
              "      <th>5</th>\n",
              "      <td>Information Technology</td>\n",
              "      <td>Computer Hardware &amp; Software</td>\n",
              "      <td>Information Technology_Computer Hardware &amp; Sof...</td>\n",
              "    </tr>\n",
              "    <tr>\n",
              "      <th>6</th>\n",
              "      <td>Biotech &amp; Pharmaceuticals</td>\n",
              "      <td>Biotech &amp; Pharmaceuticals</td>\n",
              "      <td>Biotech &amp; Pharmaceuticals_Biotech &amp; Pharmaceut...</td>\n",
              "    </tr>\n",
              "    <tr>\n",
              "      <th>7</th>\n",
              "      <td>Retail</td>\n",
              "      <td>Consumer Electronics &amp; Appliances Stores</td>\n",
              "      <td>Retail_Consumer Electronics &amp; Appliances Stores</td>\n",
              "    </tr>\n",
              "    <tr>\n",
              "      <th>8</th>\n",
              "      <td>Information Technology</td>\n",
              "      <td>Computer Hardware &amp; Software</td>\n",
              "      <td>Information Technology_Computer Hardware &amp; Sof...</td>\n",
              "    </tr>\n",
              "    <tr>\n",
              "      <th>9</th>\n",
              "      <td>Information Technology</td>\n",
              "      <td>Enterprise Software &amp; Network Solutions</td>\n",
              "      <td>Information Technology_Enterprise Software &amp; N...</td>\n",
              "    </tr>\n",
              "  </tbody>\n",
              "</table>\n",
              "</div>"
            ],
            "text/plain": [
              "                      Sector                                  Industry  \\\n",
              "0                  Insurance                        Insurance Carriers   \n",
              "1          Business Services                    Research & Development   \n",
              "2          Business Services                                Consulting   \n",
              "3              Manufacturing     Electrical & Electronic Manufacturing   \n",
              "4          Business Services                   Advertising & Marketing   \n",
              "5     Information Technology              Computer Hardware & Software   \n",
              "6  Biotech & Pharmaceuticals                 Biotech & Pharmaceuticals   \n",
              "7                     Retail  Consumer Electronics & Appliances Stores   \n",
              "8     Information Technology              Computer Hardware & Software   \n",
              "9     Information Technology   Enterprise Software & Network Solutions   \n",
              "\n",
              "                             Sector_and_Industry_cat  \n",
              "0                       Insurance_Insurance Carriers  \n",
              "1           Business Services_Research & Development  \n",
              "2                       Business Services_Consulting  \n",
              "3  Manufacturing_Electrical & Electronic Manufact...  \n",
              "4          Business Services_Advertising & Marketing  \n",
              "5  Information Technology_Computer Hardware & Sof...  \n",
              "6  Biotech & Pharmaceuticals_Biotech & Pharmaceut...  \n",
              "7    Retail_Consumer Electronics & Appliances Stores  \n",
              "8  Information Technology_Computer Hardware & Sof...  \n",
              "9  Information Technology_Enterprise Software & N...  "
            ]
          },
          "execution_count": 54,
          "metadata": {},
          "output_type": "execute_result"
        }
      ],
      "source": [
        "df[['Sector', 'Industry','Sector_and_Industry_cat']].head(10)"
      ]
    },
    {
      "cell_type": "code",
      "execution_count": 55,
      "metadata": {
        "colab": {
          "base_uri": "https://localhost:8080/"
        },
        "id": "XBRgyyz0l8LG",
        "outputId": "d3d9e9fb-b280-4439-c392-ae2f855e7915"
      },
      "outputs": [
        {
          "data": {
            "text/plain": [
              "array(['Insurance_Insurance Carriers',\n",
              "       'Business Services_Research & Development',\n",
              "       'Business Services_Consulting',\n",
              "       'Manufacturing_Electrical & Electronic Manufacturing',\n",
              "       'Business Services_Advertising & Marketing',\n",
              "       'Information Technology_Computer Hardware & Software',\n",
              "       'Biotech & Pharmaceuticals_Biotech & Pharmaceuticals',\n",
              "       'Retail_Consumer Electronics & Appliances Stores',\n",
              "       'Information Technology_Enterprise Software & Network Solutions',\n",
              "       'Information Technology_IT Services',\n",
              "       'Oil, Gas, Energy & Utilities_Energy',\n",
              "       'Manufacturing_Chemical Manufacturing',\n",
              "       'Government_Federal Agencies',\n",
              "       'Health Care_Health Care Services & Hospitals',\n",
              "       'Information Technology_Internet',\n",
              "       'Finance_Investment Banking & Asset Management',\n",
              "       'Aerospace & Defense_Aerospace & Defense',\n",
              "       'Oil, Gas, Energy & Utilities_Utilities', '-1_-1',\n",
              "       'Transportation & Logistics_Express Delivery Services',\n",
              "       'Business Services_Staffing & Outsourcing',\n",
              "       'Insurance_Insurance Agencies & Brokerages',\n",
              "       'Manufacturing_Consumer Products Manufacturing',\n",
              "       'Manufacturing_Industrial Manufacturing',\n",
              "       'Manufacturing_Food & Beverage Manufacturing',\n",
              "       'Finance_Banks & Credit Unions', 'Media_Video Games',\n",
              "       'Transportation & Logistics_Shipping',\n",
              "       'Telecommunications_Telecommunications Services',\n",
              "       'Finance_Lending',\n",
              "       'Telecommunications_Cable, Internet & Telephone Providers',\n",
              "       'Real Estate_Real Estate',\n",
              "       'Finance_Venture Capital & Private Equity',\n",
              "       'Manufacturing_Miscellaneous Manufacturing',\n",
              "       'Oil, Gas, Energy & Utilities_Oil & Gas Services',\n",
              "       'Manufacturing_Transportation Equipment Manufacturing',\n",
              "       'Telecommunications_Telecommunications Manufacturing',\n",
              "       'Transportation & Logistics_Transportation Management',\n",
              "       'Media_News Outlet',\n",
              "       'Business Services_Architectural & Engineering Services',\n",
              "       'Retail_Food & Beverage Stores', 'Retail_Other Retail Stores',\n",
              "       'Travel & Tourism_Hotels, Motels, & Resorts',\n",
              "       'Government_State & Regional Agencies',\n",
              "       'Finance_Financial Transaction Processing',\n",
              "       'Agriculture & Forestry_Timber Operations',\n",
              "       'Education_Colleges & Universities',\n",
              "       'Travel & Tourism_Travel Agencies',\n",
              "       'Accounting & Legal_Accounting',\n",
              "       'Transportation & Logistics_Logistics & Supply Chain',\n",
              "       'Agriculture & Forestry_Farm Support Services',\n",
              "       'Non-Profit_Social Assistance',\n",
              "       'Construction, Repair & Maintenance_Construction',\n",
              "       'Retail_Department, Clothing, & Shoe Stores', 'Media_Publishing',\n",
              "       'Consumer Services_Health, Beauty, & Fitness',\n",
              "       'Business Services_Wholesale', 'Transportation & Logistics_Rail'],\n",
              "      dtype=object)"
            ]
          },
          "execution_count": 55,
          "metadata": {},
          "output_type": "execute_result"
        }
      ],
      "source": [
        "df['Sector_and_Industry_cat'].unique()"
      ]
    },
    {
      "cell_type": "markdown",
      "metadata": {
        "id": "QfSUTkrca6Oe"
      },
      "source": [
        "# Function of a column"
      ]
    },
    {
      "cell_type": "markdown",
      "metadata": {
        "id": "J5A2vRP7Gvu4"
      },
      "source": [
        "In this section, we aim to discover that if the feature we want to predict is a function of certain column or not. For this purpose, **\"avg_salary\"** will be ploted based on these fields:\n",
        "\n",
        "\n",
        "*   Rating\n",
        "*   Min salary\n",
        "*   NumRequiredSkills\n",
        "\n",
        "\n"
      ]
    },
    {
      "cell_type": "code",
      "execution_count": 56,
      "metadata": {
        "colab": {
          "base_uri": "https://localhost:8080/",
          "height": 469
        },
        "id": "r_MAZ2lE0KQI",
        "outputId": "435fffa4-342e-403a-e6f4-8c9bacc231b6"
      },
      "outputs": [
        {
          "data": {
            "image/png": "[encoded data removed]",
            "text/plain": [
              "<Figure size 1200x600 with 3 Axes>"
            ]
          },
          "metadata": {},
          "output_type": "display_data"
        }
      ],
      "source": [
        "fig, axes = plt.subplots(nrows=1, ncols=3)\n",
        "\n",
        "df.plot(ax=axes[0], kind = 'scatter', x='Rating',y='avg_salary',figsize=(12,6),stacked=True,s=40)\n",
        "df.plot(ax=axes[1], kind = 'scatter', x='min_salary',y='avg_salary',figsize=(12,6),stacked=True,s=40)\n",
        "df.plot(ax=axes[2], kind = 'scatter', x='NumRequiredSkills',y='avg_salary',figsize=(12,6),stacked=True,s=40)\n",
        "\n",
        "\n",
        "axes[0].set_xlabel('Rating',fontsize=16)\n",
        "axes[0].set_ylabel('Avg Salary',fontsize=16)\n",
        "\n",
        "axes[1].set_xlabel('Min Salary',fontsize=16)\n",
        "axes[1].set_ylabel('',fontsize=16)\n",
        "\n",
        "axes[2].set_xlabel('Required Skills',fontsize=16)\n",
        "axes[2].set_ylabel('',fontsize=16)\n",
        "\n",
        "plt.show()\n",
        "\n"
      ]
    },
    {
      "cell_type": "markdown",
      "metadata": {
        "id": "mjhmHpJ_UP_y"
      },
      "source": [
        "Obviously, Min salary has a linear relation with Avg salary but about other attributes, We don't see any useful pattern between them and target feature.\n",
        "\n",
        "In some cases features have interesting relation with target column such as power of 2, inverse or logarthmic relation. In this scenario, we can apply a function on that column and achieve a new feature that has a simpler relation to target column, mostly linear one. Our model will benefit more from the new attribute.\n",
        "\n",
        "Unfortunately here there is no useful relation between columns so we can't do anything."
      ]
    },
    {
      "cell_type": "markdown",
      "metadata": {
        "id": "Q68EpweEbbpu"
      },
      "source": [
        "# Date/Time"
      ]
    },
    {
      "cell_type": "markdown",
      "metadata": {
        "id": "0On7A8KtZsKU"
      },
      "source": [
        "We will split **\"Date_of_Posting\"** to year, month, day, season and day of week. Then, we will calculate how many days it took to find a desired applicant for the position."
      ]
    },
    {
      "cell_type": "code",
      "execution_count": 57,
      "metadata": {
        "colab": {
          "base_uri": "https://localhost:8080/",
          "height": 206
        },
        "id": "rmrQ5AyuZqRl",
        "outputId": "0d616cfa-064f-429a-9184-19bca691e8f9"
      },
      "outputs": [
        {
          "data": {
            "text/html": [
              "<div>\n",
              "<style scoped>\n",
              "    .dataframe tbody tr th:only-of-type {\n",
              "        vertical-align: middle;\n",
              "    }\n",
              "\n",
              "    .dataframe tbody tr th {\n",
              "        vertical-align: top;\n",
              "    }\n",
              "\n",
              "    .dataframe thead th {\n",
              "        text-align: right;\n",
              "    }\n",
              "</style>\n",
              "<table border=\"1\" class=\"dataframe\">\n",
              "  <thead>\n",
              "    <tr style=\"text-align: right;\">\n",
              "      <th></th>\n",
              "      <th>Date_of_Posting</th>\n",
              "      <th>Date_of_Acceptance</th>\n",
              "      <th>year</th>\n",
              "      <th>month</th>\n",
              "      <th>day</th>\n",
              "      <th>day_of_week</th>\n",
              "      <th>season</th>\n",
              "      <th>No_Days_until_Closed</th>\n",
              "    </tr>\n",
              "  </thead>\n",
              "  <tbody>\n",
              "    <tr>\n",
              "      <th>0</th>\n",
              "      <td>2016-10-01</td>\n",
              "      <td>2016-10-23</td>\n",
              "      <td>2016</td>\n",
              "      <td>10</td>\n",
              "      <td>1</td>\n",
              "      <td>5</td>\n",
              "      <td>4</td>\n",
              "      <td>22</td>\n",
              "    </tr>\n",
              "    <tr>\n",
              "      <th>1</th>\n",
              "      <td>2016-01-11</td>\n",
              "      <td>2016-03-01</td>\n",
              "      <td>2016</td>\n",
              "      <td>1</td>\n",
              "      <td>11</td>\n",
              "      <td>0</td>\n",
              "      <td>1</td>\n",
              "      <td>50</td>\n",
              "    </tr>\n",
              "    <tr>\n",
              "      <th>2</th>\n",
              "      <td>2016-01-31</td>\n",
              "      <td>2016-02-18</td>\n",
              "      <td>2016</td>\n",
              "      <td>1</td>\n",
              "      <td>31</td>\n",
              "      <td>6</td>\n",
              "      <td>1</td>\n",
              "      <td>18</td>\n",
              "    </tr>\n",
              "    <tr>\n",
              "      <th>3</th>\n",
              "      <td>2017-01-20</td>\n",
              "      <td>2017-02-19</td>\n",
              "      <td>2017</td>\n",
              "      <td>1</td>\n",
              "      <td>20</td>\n",
              "      <td>4</td>\n",
              "      <td>1</td>\n",
              "      <td>30</td>\n",
              "    </tr>\n",
              "    <tr>\n",
              "      <th>4</th>\n",
              "      <td>2018-12-27</td>\n",
              "      <td>2019-01-17</td>\n",
              "      <td>2018</td>\n",
              "      <td>12</td>\n",
              "      <td>27</td>\n",
              "      <td>3</td>\n",
              "      <td>4</td>\n",
              "      <td>21</td>\n",
              "    </tr>\n",
              "  </tbody>\n",
              "</table>\n",
              "</div>"
            ],
            "text/plain": [
              "  Date_of_Posting Date_of_Acceptance  year  month  day  day_of_week  season  \\\n",
              "0      2016-10-01         2016-10-23  2016     10    1            5       4   \n",
              "1      2016-01-11         2016-03-01  2016      1   11            0       1   \n",
              "2      2016-01-31         2016-02-18  2016      1   31            6       1   \n",
              "3      2017-01-20         2017-02-19  2017      1   20            4       1   \n",
              "4      2018-12-27         2019-01-17  2018     12   27            3       4   \n",
              "\n",
              "   No_Days_until_Closed  \n",
              "0                    22  \n",
              "1                    50  \n",
              "2                    18  \n",
              "3                    30  \n",
              "4                    21  "
            ]
          },
          "execution_count": 57,
          "metadata": {},
          "output_type": "execute_result"
        }
      ],
      "source": [
        "# split date\n",
        "df['year'] = df[\"Date_of_Posting\"].dt.year\n",
        "df['month'] = df[\"Date_of_Posting\"].dt.month\n",
        "df['day'] = df[\"Date_of_Posting\"].dt.day\n",
        "df['season'] = df[\"Date_of_Posting\"].dt.quarter\n",
        "df['day_of_week'] = df[\"Date_of_Posting\"].dt.dayofweek\n",
        "\n",
        "# days passed to close the opportunity\n",
        "df['No_Days_until_Closed'] = ((df[\"Date_of_Acceptance\"] - df[\"Date_of_Posting\"]).dt.days).astype(int)\n",
        "\n",
        "df[['Date_of_Posting','Date_of_Acceptance','year','month','day','day_of_week','season','No_Days_until_Closed']].head()"
      ]
    },
    {
      "cell_type": "markdown",
      "metadata": {
        "id": "d_QKgOspbfeH"
      },
      "source": [
        "# Counts"
      ]
    },
    {
      "cell_type": "markdown",
      "metadata": {
        "id": "B_rxGuOVc3e2"
      },
      "source": [
        "We introduce several new columns here:\n",
        "\n",
        "\n",
        "*   Does this opportunity require any special skill? we will sum up skills cols and watch the result ( if sum > 0 )\n",
        "*   Saprk, Hadoop and Big data skills remind us that in this position you deal with massive data. We append a column that shows if the position is related to this field.\n",
        "*   In the last column, we will witness that how many big data skills a position needs.\n",
        "\n"
      ]
    },
    {
      "cell_type": "code",
      "execution_count": 58,
      "metadata": {
        "colab": {
          "base_uri": "https://localhost:8080/",
          "height": 539
        },
        "id": "jKq2ZrGZg1lG",
        "outputId": "9fa1a0ea-b6e6-430b-aad0-0a041cb65b6d"
      },
      "outputs": [
        {
          "data": {
            "text/html": [
              "<div>\n",
              "<style scoped>\n",
              "    .dataframe tbody tr th:only-of-type {\n",
              "        vertical-align: middle;\n",
              "    }\n",
              "\n",
              "    .dataframe tbody tr th {\n",
              "        vertical-align: top;\n",
              "    }\n",
              "\n",
              "    .dataframe thead th {\n",
              "        text-align: right;\n",
              "    }\n",
              "</style>\n",
              "<table border=\"1\" class=\"dataframe\">\n",
              "  <thead>\n",
              "    <tr style=\"text-align: right;\">\n",
              "      <th></th>\n",
              "      <th>python</th>\n",
              "      <th>excel</th>\n",
              "      <th>hadoop</th>\n",
              "      <th>spark</th>\n",
              "      <th>aws</th>\n",
              "      <th>tableau</th>\n",
              "      <th>big_data</th>\n",
              "      <th>Need_special_skill</th>\n",
              "      <th>Is_BigData_job</th>\n",
              "      <th>NumBigDataskills</th>\n",
              "    </tr>\n",
              "  </thead>\n",
              "  <tbody>\n",
              "    <tr>\n",
              "      <th>0</th>\n",
              "      <td>0</td>\n",
              "      <td>0</td>\n",
              "      <td>0</td>\n",
              "      <td>0</td>\n",
              "      <td>1</td>\n",
              "      <td>0</td>\n",
              "      <td>0</td>\n",
              "      <td>1</td>\n",
              "      <td>0</td>\n",
              "      <td>0</td>\n",
              "    </tr>\n",
              "    <tr>\n",
              "      <th>1</th>\n",
              "      <td>0</td>\n",
              "      <td>0</td>\n",
              "      <td>1</td>\n",
              "      <td>0</td>\n",
              "      <td>0</td>\n",
              "      <td>0</td>\n",
              "      <td>1</td>\n",
              "      <td>1</td>\n",
              "      <td>1</td>\n",
              "      <td>2</td>\n",
              "    </tr>\n",
              "    <tr>\n",
              "      <th>2</th>\n",
              "      <td>1</td>\n",
              "      <td>1</td>\n",
              "      <td>0</td>\n",
              "      <td>0</td>\n",
              "      <td>1</td>\n",
              "      <td>0</td>\n",
              "      <td>0</td>\n",
              "      <td>1</td>\n",
              "      <td>0</td>\n",
              "      <td>0</td>\n",
              "    </tr>\n",
              "    <tr>\n",
              "      <th>3</th>\n",
              "      <td>1</td>\n",
              "      <td>1</td>\n",
              "      <td>0</td>\n",
              "      <td>0</td>\n",
              "      <td>1</td>\n",
              "      <td>0</td>\n",
              "      <td>0</td>\n",
              "      <td>1</td>\n",
              "      <td>0</td>\n",
              "      <td>0</td>\n",
              "    </tr>\n",
              "    <tr>\n",
              "      <th>4</th>\n",
              "      <td>1</td>\n",
              "      <td>1</td>\n",
              "      <td>0</td>\n",
              "      <td>0</td>\n",
              "      <td>0</td>\n",
              "      <td>0</td>\n",
              "      <td>0</td>\n",
              "      <td>1</td>\n",
              "      <td>0</td>\n",
              "      <td>0</td>\n",
              "    </tr>\n",
              "    <tr>\n",
              "      <th>5</th>\n",
              "      <td>1</td>\n",
              "      <td>1</td>\n",
              "      <td>1</td>\n",
              "      <td>1</td>\n",
              "      <td>0</td>\n",
              "      <td>0</td>\n",
              "      <td>0</td>\n",
              "      <td>1</td>\n",
              "      <td>1</td>\n",
              "      <td>2</td>\n",
              "    </tr>\n",
              "    <tr>\n",
              "      <th>6</th>\n",
              "      <td>1</td>\n",
              "      <td>0</td>\n",
              "      <td>0</td>\n",
              "      <td>0</td>\n",
              "      <td>0</td>\n",
              "      <td>0</td>\n",
              "      <td>0</td>\n",
              "      <td>1</td>\n",
              "      <td>0</td>\n",
              "      <td>0</td>\n",
              "    </tr>\n",
              "    <tr>\n",
              "      <th>7</th>\n",
              "      <td>1</td>\n",
              "      <td>0</td>\n",
              "      <td>0</td>\n",
              "      <td>0</td>\n",
              "      <td>0</td>\n",
              "      <td>0</td>\n",
              "      <td>0</td>\n",
              "      <td>1</td>\n",
              "      <td>0</td>\n",
              "      <td>0</td>\n",
              "    </tr>\n",
              "    <tr>\n",
              "      <th>8</th>\n",
              "      <td>0</td>\n",
              "      <td>0</td>\n",
              "      <td>0</td>\n",
              "      <td>0</td>\n",
              "      <td>0</td>\n",
              "      <td>0</td>\n",
              "      <td>0</td>\n",
              "      <td>0</td>\n",
              "      <td>0</td>\n",
              "      <td>0</td>\n",
              "    </tr>\n",
              "    <tr>\n",
              "      <th>9</th>\n",
              "      <td>1</td>\n",
              "      <td>0</td>\n",
              "      <td>0</td>\n",
              "      <td>0</td>\n",
              "      <td>0</td>\n",
              "      <td>0</td>\n",
              "      <td>0</td>\n",
              "      <td>1</td>\n",
              "      <td>0</td>\n",
              "      <td>0</td>\n",
              "    </tr>\n",
              "    <tr>\n",
              "      <th>10</th>\n",
              "      <td>1</td>\n",
              "      <td>1</td>\n",
              "      <td>0</td>\n",
              "      <td>0</td>\n",
              "      <td>1</td>\n",
              "      <td>0</td>\n",
              "      <td>0</td>\n",
              "      <td>1</td>\n",
              "      <td>0</td>\n",
              "      <td>0</td>\n",
              "    </tr>\n",
              "    <tr>\n",
              "      <th>11</th>\n",
              "      <td>1</td>\n",
              "      <td>0</td>\n",
              "      <td>0</td>\n",
              "      <td>1</td>\n",
              "      <td>0</td>\n",
              "      <td>0</td>\n",
              "      <td>0</td>\n",
              "      <td>1</td>\n",
              "      <td>1</td>\n",
              "      <td>1</td>\n",
              "    </tr>\n",
              "    <tr>\n",
              "      <th>12</th>\n",
              "      <td>0</td>\n",
              "      <td>1</td>\n",
              "      <td>0</td>\n",
              "      <td>0</td>\n",
              "      <td>0</td>\n",
              "      <td>0</td>\n",
              "      <td>0</td>\n",
              "      <td>1</td>\n",
              "      <td>0</td>\n",
              "      <td>0</td>\n",
              "    </tr>\n",
              "    <tr>\n",
              "      <th>13</th>\n",
              "      <td>1</td>\n",
              "      <td>1</td>\n",
              "      <td>0</td>\n",
              "      <td>0</td>\n",
              "      <td>0</td>\n",
              "      <td>1</td>\n",
              "      <td>0</td>\n",
              "      <td>1</td>\n",
              "      <td>0</td>\n",
              "      <td>0</td>\n",
              "    </tr>\n",
              "    <tr>\n",
              "      <th>14</th>\n",
              "      <td>1</td>\n",
              "      <td>1</td>\n",
              "      <td>0</td>\n",
              "      <td>0</td>\n",
              "      <td>1</td>\n",
              "      <td>0</td>\n",
              "      <td>0</td>\n",
              "      <td>1</td>\n",
              "      <td>0</td>\n",
              "      <td>0</td>\n",
              "    </tr>\n",
              "  </tbody>\n",
              "</table>\n",
              "</div>"
            ],
            "text/plain": [
              "    python  excel  hadoop  spark  aws  tableau  big_data  Need_special_skill  \\\n",
              "0        0      0       0      0    1        0         0                   1   \n",
              "1        0      0       1      0    0        0         1                   1   \n",
              "2        1      1       0      0    1        0         0                   1   \n",
              "3        1      1       0      0    1        0         0                   1   \n",
              "4        1      1       0      0    0        0         0                   1   \n",
              "5        1      1       1      1    0        0         0                   1   \n",
              "6        1      0       0      0    0        0         0                   1   \n",
              "7        1      0       0      0    0        0         0                   1   \n",
              "8        0      0       0      0    0        0         0                   0   \n",
              "9        1      0       0      0    0        0         0                   1   \n",
              "10       1      1       0      0    1        0         0                   1   \n",
              "11       1      0       0      1    0        0         0                   1   \n",
              "12       0      1       0      0    0        0         0                   1   \n",
              "13       1      1       0      0    0        1         0                   1   \n",
              "14       1      1       0      0    1        0         0                   1   \n",
              "\n",
              "    Is_BigData_job  NumBigDataskills  \n",
              "0                0                 0  \n",
              "1                1                 2  \n",
              "2                0                 0  \n",
              "3                0                 0  \n",
              "4                0                 0  \n",
              "5                1                 2  \n",
              "6                0                 0  \n",
              "7                0                 0  \n",
              "8                0                 0  \n",
              "9                0                 0  \n",
              "10               0                 0  \n",
              "11               1                 1  \n",
              "12               0                 0  \n",
              "13               0                 0  \n",
              "14               0                 0  "
            ]
          },
          "execution_count": 58,
          "metadata": {},
          "output_type": "execute_result"
        }
      ],
      "source": [
        "df[\"Need_special_skill\"] = (df[['python','excel', 'hadoop', 'spark', 'aws', 'tableau', 'big_data']].sum(axis=1) > 0).astype(int)\n",
        "df[\"Is_BigData_job\"] = (df[['hadoop','spark','big_data']].sum(axis=1) > 0).astype(int)\n",
        "df[\"NumBigDataskills\"] = df[['hadoop','spark','big_data']].sum(axis=1)\n",
        "\n",
        "df[['python','excel', 'hadoop', 'spark', 'aws', 'tableau', 'big_data','Need_special_skill', 'Is_BigData_job', 'NumBigDataskills']].head(15)"
      ]
    },
    {
      "cell_type": "markdown",
      "metadata": {
        "id": "fhZ69yABbklD"
      },
      "source": [
        "# Aggregation"
      ]
    },
    {
      "cell_type": "markdown",
      "metadata": {
        "id": "ew3HRPxDAGZW"
      },
      "source": [
        "For aggregation, we introduce the following two features:\n",
        "\n",
        "\n",
        "*   Compare average rating of a company with average rating of similar companies (based on company size).\n",
        "\n",
        "*   Compare median salary (avg_salary) of an opportunity with median salary of similar opportunities (based on company)\n",
        "\n"
      ]
    },
    {
      "cell_type": "code",
      "execution_count": 59,
      "metadata": {
        "id": "N2Xa08VI280F"
      },
      "outputs": [],
      "source": [
        "df['Avg_Rating_Group'] = df['Rating'].groupby(df['Size']).transform('mean')\n",
        "df['Avg_AvgSalary_Group'] = df['avg_salary'].groupby(df['Company Name']).transform('median')"
      ]
    },
    {
      "cell_type": "code",
      "execution_count": 60,
      "metadata": {
        "colab": {
          "base_uri": "https://localhost:8080/",
          "height": 383
        },
        "id": "20ogTXYmutnt",
        "outputId": "2017bef3-3801-4bfc-8b19-666c2f36a45d"
      },
      "outputs": [
        {
          "data": {
            "text/html": [
              "<div>\n",
              "<style scoped>\n",
              "    .dataframe tbody tr th:only-of-type {\n",
              "        vertical-align: middle;\n",
              "    }\n",
              "\n",
              "    .dataframe tbody tr th {\n",
              "        vertical-align: top;\n",
              "    }\n",
              "\n",
              "    .dataframe thead th {\n",
              "        text-align: right;\n",
              "    }\n",
              "</style>\n",
              "<table border=\"1\" class=\"dataframe\">\n",
              "  <thead>\n",
              "    <tr style=\"text-align: right;\">\n",
              "      <th></th>\n",
              "      <th>Rating</th>\n",
              "      <th>avg_salary</th>\n",
              "      <th>Avg_Rating_Group</th>\n",
              "      <th>Avg_AvgSalary_Group</th>\n",
              "      <th>Avg_AvgSalary_Group</th>\n",
              "      <th>Avg_AvgSalary_Group_Ratio</th>\n",
              "    </tr>\n",
              "  </thead>\n",
              "  <tbody>\n",
              "    <tr>\n",
              "      <th>0</th>\n",
              "      <td>3.1</td>\n",
              "      <td>154</td>\n",
              "      <td>3.618269</td>\n",
              "      <td>129.5</td>\n",
              "      <td>129.5</td>\n",
              "      <td>1.189189</td>\n",
              "    </tr>\n",
              "    <tr>\n",
              "      <th>1</th>\n",
              "      <td>4.2</td>\n",
              "      <td>154</td>\n",
              "      <td>3.727869</td>\n",
              "      <td>114.0</td>\n",
              "      <td>114.0</td>\n",
              "      <td>1.350877</td>\n",
              "    </tr>\n",
              "    <tr>\n",
              "      <th>2</th>\n",
              "      <td>3.8</td>\n",
              "      <td>154</td>\n",
              "      <td>3.618269</td>\n",
              "      <td>120.0</td>\n",
              "      <td>120.0</td>\n",
              "      <td>1.283333</td>\n",
              "    </tr>\n",
              "    <tr>\n",
              "      <th>3</th>\n",
              "      <td>3.5</td>\n",
              "      <td>154</td>\n",
              "      <td>3.732468</td>\n",
              "      <td>154.0</td>\n",
              "      <td>154.0</td>\n",
              "      <td>1.000000</td>\n",
              "    </tr>\n",
              "    <tr>\n",
              "      <th>4</th>\n",
              "      <td>2.9</td>\n",
              "      <td>154</td>\n",
              "      <td>3.918750</td>\n",
              "      <td>148.0</td>\n",
              "      <td>148.0</td>\n",
              "      <td>1.040541</td>\n",
              "    </tr>\n",
              "    <tr>\n",
              "      <th>5</th>\n",
              "      <td>4.2</td>\n",
              "      <td>154</td>\n",
              "      <td>3.918750</td>\n",
              "      <td>129.5</td>\n",
              "      <td>129.5</td>\n",
              "      <td>1.189189</td>\n",
              "    </tr>\n",
              "    <tr>\n",
              "      <th>6</th>\n",
              "      <td>3.9</td>\n",
              "      <td>154</td>\n",
              "      <td>3.703797</td>\n",
              "      <td>103.0</td>\n",
              "      <td>103.0</td>\n",
              "      <td>1.495146</td>\n",
              "    </tr>\n",
              "    <tr>\n",
              "      <th>7</th>\n",
              "      <td>3.5</td>\n",
              "      <td>154</td>\n",
              "      <td>3.618269</td>\n",
              "      <td>129.5</td>\n",
              "      <td>129.5</td>\n",
              "      <td>1.189189</td>\n",
              "    </tr>\n",
              "    <tr>\n",
              "      <th>8</th>\n",
              "      <td>4.4</td>\n",
              "      <td>154</td>\n",
              "      <td>3.727869</td>\n",
              "      <td>115.0</td>\n",
              "      <td>115.0</td>\n",
              "      <td>1.339130</td>\n",
              "    </tr>\n",
              "    <tr>\n",
              "      <th>9</th>\n",
              "      <td>3.6</td>\n",
              "      <td>154</td>\n",
              "      <td>3.918750</td>\n",
              "      <td>126.5</td>\n",
              "      <td>126.5</td>\n",
              "      <td>1.217391</td>\n",
              "    </tr>\n",
              "  </tbody>\n",
              "</table>\n",
              "</div>"
            ],
            "text/plain": [
              "   Rating  avg_salary  Avg_Rating_Group  Avg_AvgSalary_Group  \\\n",
              "0     3.1         154          3.618269                129.5   \n",
              "1     4.2         154          3.727869                114.0   \n",
              "2     3.8         154          3.618269                120.0   \n",
              "3     3.5         154          3.732468                154.0   \n",
              "4     2.9         154          3.918750                148.0   \n",
              "5     4.2         154          3.918750                129.5   \n",
              "6     3.9         154          3.703797                103.0   \n",
              "7     3.5         154          3.618269                129.5   \n",
              "8     4.4         154          3.727869                115.0   \n",
              "9     3.6         154          3.918750                126.5   \n",
              "\n",
              "   Avg_AvgSalary_Group  Avg_AvgSalary_Group_Ratio  \n",
              "0                129.5                   1.189189  \n",
              "1                114.0                   1.350877  \n",
              "2                120.0                   1.283333  \n",
              "3                154.0                   1.000000  \n",
              "4                148.0                   1.040541  \n",
              "5                129.5                   1.189189  \n",
              "6                103.0                   1.495146  \n",
              "7                129.5                   1.189189  \n",
              "8                115.0                   1.339130  \n",
              "9                126.5                   1.217391  "
            ]
          },
          "execution_count": 60,
          "metadata": {},
          "output_type": "execute_result"
        }
      ],
      "source": [
        "df['Avg_Rating_Group_Ratio'] = df['Rating']/df['Avg_Rating_Group']\n",
        "df['Avg_AvgSalary_Group_Ratio'] = df['avg_salary']/df['Avg_AvgSalary_Group']\n",
        "df[['Rating', 'avg_salary', 'Avg_Rating_Group', 'Avg_AvgSalary_Group', 'Avg_AvgSalary_Group','Avg_AvgSalary_Group_Ratio' ]].head(10)"
      ]
    },
    {
      "cell_type": "markdown",
      "metadata": {
        "id": "ac0aiEPsbp_A"
      },
      "source": [
        "# Feature selection based on Mutual Information"
      ]
    },
    {
      "cell_type": "markdown",
      "metadata": {
        "id": "7q3gB-H6GfxB"
      },
      "source": [
        "To select best features, We will use **\"SelectKBest\"** to find the features that have the most mutual information with target column. This function uses univariate feature selection which works by selecting the best features based on univariate statistical tests."
      ]
    },
    {
      "cell_type": "code",
      "execution_count": 61,
      "metadata": {
        "id": "zl7rf_Qa3Fkf"
      },
      "outputs": [],
      "source": [
        "# numerical conversion - At first we should convert categorical fields to numerical\n",
        "for col in df.select_dtypes(\"object\"):\n",
        "    df[col] = df[col].factorize()[0]\n",
        "\n",
        "# cleaning - drop date/time columns - We can't use them!\n",
        "df = df.drop(['Date_of_Posting', 'Date_of_Acceptance'],axis=1)\n",
        "df = df.dropna(axis=0)"
      ]
    },
    {
      "cell_type": "code",
      "execution_count": 62,
      "metadata": {
        "id": "HE63mkJn7mqW"
      },
      "outputs": [],
      "source": [
        "# pop up target column (avg_salary)\n",
        "target_column = df.pop(\"avg_salary\")"
      ]
    },
    {
      "cell_type": "code",
      "execution_count": 63,
      "metadata": {
        "id": "uK2etJQe7tyk"
      },
      "outputs": [],
      "source": [
        "# apply feature selector\n",
        "feature_selector = SelectKBest(score_func=mutual_info_regression, k = 'all').fit(df,target_column)"
      ]
    },
    {
      "cell_type": "code",
      "execution_count": 64,
      "metadata": {
        "colab": {
          "base_uri": "https://localhost:8080/",
          "height": 363
        },
        "id": "v5YNOkCMaFxY",
        "outputId": "e4a2ab69-79fe-43ec-d08f-d2fb69856dd6"
      },
      "outputs": [
        {
          "data": {
            "text/html": [
              "<div>\n",
              "<style scoped>\n",
              "    .dataframe tbody tr th:only-of-type {\n",
              "        vertical-align: middle;\n",
              "    }\n",
              "\n",
              "    .dataframe tbody tr th {\n",
              "        vertical-align: top;\n",
              "    }\n",
              "\n",
              "    .dataframe thead th {\n",
              "        text-align: right;\n",
              "    }\n",
              "</style>\n",
              "<table border=\"1\" class=\"dataframe\">\n",
              "  <thead>\n",
              "    <tr style=\"text-align: right;\">\n",
              "      <th></th>\n",
              "      <th>Feature</th>\n",
              "      <th>Score</th>\n",
              "    </tr>\n",
              "  </thead>\n",
              "  <tbody>\n",
              "    <tr>\n",
              "      <th>1</th>\n",
              "      <td>Salary Estimate</td>\n",
              "      <td>3.190205</td>\n",
              "    </tr>\n",
              "    <tr>\n",
              "      <th>26</th>\n",
              "      <td>MaxSal_per_AvgSal</td>\n",
              "      <td>3.146875</td>\n",
              "    </tr>\n",
              "    <tr>\n",
              "      <th>13</th>\n",
              "      <td>max_salary</td>\n",
              "      <td>2.959506</td>\n",
              "    </tr>\n",
              "    <tr>\n",
              "      <th>12</th>\n",
              "      <td>min_salary</td>\n",
              "      <td>2.875261</td>\n",
              "    </tr>\n",
              "    <tr>\n",
              "      <th>2</th>\n",
              "      <td>Job Description</td>\n",
              "      <td>2.099433</td>\n",
              "    </tr>\n",
              "    <tr>\n",
              "      <th>29</th>\n",
              "      <td>Binned_avg_salary</td>\n",
              "      <td>1.764877</td>\n",
              "    </tr>\n",
              "    <tr>\n",
              "      <th>4</th>\n",
              "      <td>Company Name</td>\n",
              "      <td>1.760818</td>\n",
              "    </tr>\n",
              "    <tr>\n",
              "      <th>42</th>\n",
              "      <td>Avg_AvgSalary_Group</td>\n",
              "      <td>1.552621</td>\n",
              "    </tr>\n",
              "    <tr>\n",
              "      <th>6</th>\n",
              "      <td>Headquarters</td>\n",
              "      <td>0.572308</td>\n",
              "    </tr>\n",
              "    <tr>\n",
              "      <th>5</th>\n",
              "      <td>Location</td>\n",
              "      <td>0.551260</td>\n",
              "    </tr>\n",
              "  </tbody>\n",
              "</table>\n",
              "</div>"
            ],
            "text/plain": [
              "                Feature     Score\n",
              "1       Salary Estimate  3.190205\n",
              "26    MaxSal_per_AvgSal  3.146875\n",
              "13           max_salary  2.959506\n",
              "12           min_salary  2.875261\n",
              "2       Job Description  2.099433\n",
              "29    Binned_avg_salary  1.764877\n",
              "4          Company Name  1.760818\n",
              "42  Avg_AvgSalary_Group  1.552621\n",
              "6          Headquarters  0.572308\n",
              "5              Location  0.551260"
            ]
          },
          "execution_count": 64,
          "metadata": {},
          "output_type": "execute_result"
        }
      ],
      "source": [
        "feature_scores = pd.DataFrame({'Feature':df.columns,'Score':feature_selector.scores_})\n",
        "feature_scores.sort_values(by=['Score'],inplace=True, ascending=False)\n",
        "feature_scores.head(10)"
      ]
    },
    {
      "cell_type": "code",
      "execution_count": 65,
      "metadata": {
        "colab": {
          "base_uri": "https://localhost:8080/",
          "height": 417
        },
        "id": "Hbei5bfT7zdx",
        "outputId": "1750e7dd-c95a-4488-bb81-deb0b481f30b"
      },
      "outputs": [
        {
          "data": {
            "text/plain": [
              "<Axes: ylabel='Feature'>"
            ]
          },
          "execution_count": 65,
          "metadata": {},
          "output_type": "execute_result"
        },
        {
          "data": {
            "image/png": "[encoded data removed]",
            "text/plain": [
              "<Figure size 1600x800 with 1 Axes>"
            ]
          },
          "metadata": {},
          "output_type": "display_data"
        }
      ],
      "source": [
        "# plot values\n",
        "feature_scores[0:20].plot(x='Feature',y='Score',kind='barh',figsize=(16,8))"
      ]
    },
    {
      "cell_type": "markdown",
      "metadata": {
        "id": "VKImSm-UbMz-"
      },
      "source": [
        "The features with highest score have shown in the plot. It is obvious that why some of them have high mutual information with avg_salary ( max/min salary, salary estimate, ...) but there are other features that have also high mutual data with target column that are helpful for us."
      ]
    },
    {
      "cell_type": "markdown",
      "metadata": {
        "id": "tRi8OQkobz72"
      },
      "source": [
        "# Dimensonality reduction using PCA"
      ]
    },
    {
      "cell_type": "markdown",
      "metadata": {
        "id": "dOGNMUCmX0UF"
      },
      "source": [
        "Applying Mutual Information technique to high dimensional data is time-consuming! Due to this in the purpose of high dimensional data, we will use dimension reduction methods like PCA.\n",
        "\n",
        "It is better to normalize our data before PCA."
      ]
    },
    {
      "cell_type": "code",
      "execution_count": 66,
      "metadata": {
        "id": "kvzgDgwp-dO1"
      },
      "outputs": [],
      "source": [
        "# At first we should normalize data - necessary!\n",
        "normalized_df = StandardScaler().fit_transform(df)"
      ]
    },
    {
      "cell_type": "code",
      "execution_count": 67,
      "metadata": {
        "colab": {
          "base_uri": "https://localhost:8080/",
          "height": 255
        },
        "id": "7J-HRBJi-hkB",
        "outputId": "98d4d98b-f263-4ca1-b55f-6d6552807f0d"
      },
      "outputs": [
        {
          "data": {
            "text/html": [
              "<div>\n",
              "<style scoped>\n",
              "    .dataframe tbody tr th:only-of-type {\n",
              "        vertical-align: middle;\n",
              "    }\n",
              "\n",
              "    .dataframe tbody tr th {\n",
              "        vertical-align: top;\n",
              "    }\n",
              "\n",
              "    .dataframe thead th {\n",
              "        text-align: right;\n",
              "    }\n",
              "</style>\n",
              "<table border=\"1\" class=\"dataframe\">\n",
              "  <thead>\n",
              "    <tr style=\"text-align: right;\">\n",
              "      <th></th>\n",
              "      <th>0</th>\n",
              "      <th>1</th>\n",
              "      <th>2</th>\n",
              "      <th>3</th>\n",
              "      <th>4</th>\n",
              "      <th>5</th>\n",
              "      <th>6</th>\n",
              "      <th>7</th>\n",
              "      <th>8</th>\n",
              "      <th>9</th>\n",
              "      <th>...</th>\n",
              "      <th>35</th>\n",
              "      <th>36</th>\n",
              "      <th>37</th>\n",
              "      <th>38</th>\n",
              "      <th>39</th>\n",
              "      <th>40</th>\n",
              "      <th>41</th>\n",
              "      <th>42</th>\n",
              "      <th>43</th>\n",
              "      <th>44</th>\n",
              "    </tr>\n",
              "  </thead>\n",
              "  <tbody>\n",
              "    <tr>\n",
              "      <th>0</th>\n",
              "      <td>-0.738202</td>\n",
              "      <td>-1.45439</td>\n",
              "      <td>-1.622559</td>\n",
              "      <td>-0.671679</td>\n",
              "      <td>-1.460569</td>\n",
              "      <td>-1.018686</td>\n",
              "      <td>-1.196000</td>\n",
              "      <td>-1.475710</td>\n",
              "      <td>-1.635923</td>\n",
              "      <td>-1.160462</td>\n",
              "      <td>...</td>\n",
              "      <td>1.275111</td>\n",
              "      <td>1.006959</td>\n",
              "      <td>-1.119035</td>\n",
              "      <td>0.361934</td>\n",
              "      <td>-0.791198</td>\n",
              "      <td>-0.696255</td>\n",
              "      <td>-0.470883</td>\n",
              "      <td>0.173798</td>\n",
              "      <td>-0.531886</td>\n",
              "      <td>0.873068</td>\n",
              "    </tr>\n",
              "    <tr>\n",
              "      <th>1</th>\n",
              "      <td>-0.717196</td>\n",
              "      <td>-1.45439</td>\n",
              "      <td>-1.615182</td>\n",
              "      <td>0.487259</td>\n",
              "      <td>-1.452363</td>\n",
              "      <td>-1.001232</td>\n",
              "      <td>-1.180795</td>\n",
              "      <td>-1.002092</td>\n",
              "      <td>-1.007589</td>\n",
              "      <td>-1.070279</td>\n",
              "      <td>...</td>\n",
              "      <td>-1.350789</td>\n",
              "      <td>-1.490071</td>\n",
              "      <td>0.956737</td>\n",
              "      <td>0.361934</td>\n",
              "      <td>1.263906</td>\n",
              "      <td>1.302828</td>\n",
              "      <td>-0.045803</td>\n",
              "      <td>-0.329047</td>\n",
              "      <td>0.474961</td>\n",
              "      <td>1.703208</td>\n",
              "    </tr>\n",
              "    <tr>\n",
              "      <th>2</th>\n",
              "      <td>-0.717196</td>\n",
              "      <td>-1.45439</td>\n",
              "      <td>-1.607806</td>\n",
              "      <td>0.065827</td>\n",
              "      <td>-1.444157</td>\n",
              "      <td>-0.983778</td>\n",
              "      <td>-1.165590</td>\n",
              "      <td>-1.475710</td>\n",
              "      <td>-0.379255</td>\n",
              "      <td>-0.980096</td>\n",
              "      <td>...</td>\n",
              "      <td>-1.350789</td>\n",
              "      <td>1.506365</td>\n",
              "      <td>-1.415574</td>\n",
              "      <td>0.361934</td>\n",
              "      <td>-0.791198</td>\n",
              "      <td>-0.696255</td>\n",
              "      <td>-0.470883</td>\n",
              "      <td>-0.134397</td>\n",
              "      <td>0.189854</td>\n",
              "      <td>1.356423</td>\n",
              "    </tr>\n",
              "    <tr>\n",
              "      <th>3</th>\n",
              "      <td>-0.717196</td>\n",
              "      <td>-1.45439</td>\n",
              "      <td>-1.600430</td>\n",
              "      <td>-0.250247</td>\n",
              "      <td>-1.435951</td>\n",
              "      <td>-0.966324</td>\n",
              "      <td>-1.150385</td>\n",
              "      <td>-0.528474</td>\n",
              "      <td>-1.007589</td>\n",
              "      <td>-0.889913</td>\n",
              "      <td>...</td>\n",
              "      <td>-1.350789</td>\n",
              "      <td>0.507553</td>\n",
              "      <td>-0.525957</td>\n",
              "      <td>0.361934</td>\n",
              "      <td>-0.791198</td>\n",
              "      <td>-0.696255</td>\n",
              "      <td>-0.027967</td>\n",
              "      <td>0.968619</td>\n",
              "      <td>-0.229875</td>\n",
              "      <td>-0.098269</td>\n",
              "    </tr>\n",
              "    <tr>\n",
              "      <th>4</th>\n",
              "      <td>-0.717196</td>\n",
              "      <td>-1.45439</td>\n",
              "      <td>-1.593054</td>\n",
              "      <td>-0.882395</td>\n",
              "      <td>-1.427745</td>\n",
              "      <td>-1.018686</td>\n",
              "      <td>-1.196000</td>\n",
              "      <td>-0.054856</td>\n",
              "      <td>0.249078</td>\n",
              "      <td>-0.799730</td>\n",
              "      <td>...</td>\n",
              "      <td>1.275111</td>\n",
              "      <td>0.008147</td>\n",
              "      <td>-1.193170</td>\n",
              "      <td>0.361934</td>\n",
              "      <td>-0.791198</td>\n",
              "      <td>-0.696255</td>\n",
              "      <td>0.694526</td>\n",
              "      <td>0.773969</td>\n",
              "      <td>-0.967368</td>\n",
              "      <td>0.109874</td>\n",
              "    </tr>\n",
              "  </tbody>\n",
              "</table>\n",
              "<p>5 rows × 45 columns</p>\n",
              "</div>"
            ],
            "text/plain": [
              "         0        1         2         3         4         5         6   \\\n",
              "0 -0.738202 -1.45439 -1.622559 -0.671679 -1.460569 -1.018686 -1.196000   \n",
              "1 -0.717196 -1.45439 -1.615182  0.487259 -1.452363 -1.001232 -1.180795   \n",
              "2 -0.717196 -1.45439 -1.607806  0.065827 -1.444157 -0.983778 -1.165590   \n",
              "3 -0.717196 -1.45439 -1.600430 -0.250247 -1.435951 -0.966324 -1.150385   \n",
              "4 -0.717196 -1.45439 -1.593054 -0.882395 -1.427745 -1.018686 -1.196000   \n",
              "\n",
              "         7         8         9   ...        35        36        37        38  \\\n",
              "0 -1.475710 -1.635923 -1.160462  ...  1.275111  1.006959 -1.119035  0.361934   \n",
              "1 -1.002092 -1.007589 -1.070279  ... -1.350789 -1.490071  0.956737  0.361934   \n",
              "2 -1.475710 -0.379255 -0.980096  ... -1.350789  1.506365 -1.415574  0.361934   \n",
              "3 -0.528474 -1.007589 -0.889913  ... -1.350789  0.507553 -0.525957  0.361934   \n",
              "4 -0.054856  0.249078 -0.799730  ...  1.275111  0.008147 -1.193170  0.361934   \n",
              "\n",
              "         39        40        41        42        43        44  \n",
              "0 -0.791198 -0.696255 -0.470883  0.173798 -0.531886  0.873068  \n",
              "1  1.263906  1.302828 -0.045803 -0.329047  0.474961  1.703208  \n",
              "2 -0.791198 -0.696255 -0.470883 -0.134397  0.189854  1.356423  \n",
              "3 -0.791198 -0.696255 -0.027967  0.968619 -0.229875 -0.098269  \n",
              "4 -0.791198 -0.696255  0.694526  0.773969 -0.967368  0.109874  \n",
              "\n",
              "[5 rows x 45 columns]"
            ]
          },
          "execution_count": 67,
          "metadata": {},
          "output_type": "execute_result"
        }
      ],
      "source": [
        "pca = PCA(n_components=40)\n",
        "principalComponents = pca.fit_transform(normalized_df)\n",
        "df_pca = pd.DataFrame(data = normalized_df)\n",
        "df_pca.head()"
      ]
    },
    {
      "cell_type": "code",
      "execution_count": 68,
      "metadata": {
        "colab": {
          "base_uri": "https://localhost:8080/",
          "height": 507
        },
        "id": "lkf7WVCJ-r16",
        "outputId": "83fd7450-d0f3-4802-fb75-da46b7f212a5"
      },
      "outputs": [
        {
          "data": {
            "text/plain": [
              "Text(0.5, 1.0, ' ')"
            ]
          },
          "execution_count": 68,
          "metadata": {},
          "output_type": "execute_result"
        },
        {
          "data": {
            "image/png": "[encoded data removed]",
            "text/plain": [
              "<Figure size 1200x600 with 1 Axes>"
            ]
          },
          "metadata": {},
          "output_type": "display_data"
        }
      ],
      "source": [
        "from matplotlib.pyplot import figure\n",
        "\n",
        "figure(figsize=(12, 6))\n",
        "plt.plot(np.cumsum(pca.explained_variance_ratio_),lw=4)\n",
        "plt.xlabel('Component Number',fontsize=16)\n",
        "plt.ylabel('Cumulative Explained Variance',fontsize=16)\n",
        "plt.title(' ')\n"
      ]
    },
    {
      "cell_type": "markdown",
      "metadata": {
        "id": "c8wu76qPcupL"
      },
      "source": [
        "In some point, we observe a convergence to 1 although we increase components. This is the point that we should stop increasing components number."
      ]
    },
    {
      "cell_type": "markdown",
      "metadata": {
        "id": "Rm8QaqkKcRD-"
      },
      "source": [
        "# When is feature engineering a “**nice to have option**” and in what situations it is a “**must to have**”?"
      ]
    },
    {
      "cell_type": "markdown",
      "metadata": {
        "id": "_OOAzKq9Ccwn"
      },
      "source": [
        "## Must to have"
      ]
    },
    {
      "cell_type": "markdown",
      "metadata": {
        "id": "AH_wUkqFChXO"
      },
      "source": [
        "Feature engineering is a must to have option when:\n",
        "\n",
        "\n",
        "*   **Raw data**: Most ML algorithms need data in certain format and could not work with any type of data. For example, when we have categorical data, we should convert it to numerical values.\n",
        "\n",
        "*   **Noisy data**: Noisy data do not represent features correctly. With help of feature engineering, we can extract useful features.\n",
        "\n",
        "*   **Insufficient Data**: In cases where the available data is limited, feature engineering becomes essential. Creating relevant features can provide the model with additional information to learn from, making the most out of the available data.\n",
        "\n",
        "*   **Domain Knowledge**: When domain expertise is available, feature engineering can leverage this knowledge to create meaningful features. Domain-specific features can significantly enhance a model’s performance.\n",
        "\n",
        "*   **Complex Relationships**: When the relationship between features cannot be captured by simple linear functions, feature engineering becomes crucial. Polynomial or derived features are two instances of complex features.\n",
        "\n"
      ]
    },
    {
      "cell_type": "markdown",
      "metadata": {
        "id": "1Tu-B4V7BeHs"
      },
      "source": [
        "## Nice to have option"
      ]
    },
    {
      "cell_type": "markdown",
      "metadata": {
        "id": "84feYdeAHqA_"
      },
      "source": [
        "feature engineering is a \"nice-to-have\" option when:\n",
        "\n",
        "\n",
        "*   **Plenty of Data**: When you have massive amount of high-quality data, ML models can usually perform well without intricate feature engineering. Large datasets give this opportunity to model to discover patterns directly from data.\n",
        "\n",
        "*   **Limited Time/Resource**: Feature engineering is usually a time-consuming process. When we have limited time to develop our model, feature engineering is not a priority.\n",
        "\n",
        "* **Performance is promising!**: When we could achieve acceptable results without feature engineering, it won't be necessary to do it.\n",
        "\n"
      ]
    }
  ],
  "metadata": {
    "colab": {
      "provenance": []
    },
    "kernelspec": {
      "display_name": "Python 3",
      "name": "python3"
    },
    "language_info": {
      "codemirror_mode": {
        "name": "ipython",
        "version": 3
      },
      "file_extension": ".py",
      "mimetype": "text/x-python",
      "name": "python",
      "nbconvert_exporter": "python",
      "pygments_lexer": "ipython3",
      "version": "3.11.4"
    }
  },
  "nbformat": 4,
  "nbformat_minor": 0
}
