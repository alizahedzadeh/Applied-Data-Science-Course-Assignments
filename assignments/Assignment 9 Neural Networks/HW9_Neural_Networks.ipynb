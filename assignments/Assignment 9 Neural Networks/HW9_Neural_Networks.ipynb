{
 "cells": [
  {
   "cell_type": "markdown",
   "metadata": {},
   "source": [
    "# Assignment 9: Neural Networks\n",
    "### Choosen Datasets:\n",
    "\n",
    "**Linear Regression**\n",
    "\n",
    "[Fuel Consumption 2014](https://www.kaggle.com/datasets/ahmettyilmazz/fuel-consumption)\n",
    "\n",
    "Datasets provide model-specific fuel consumption ratings and estimated carbon dioxide emissions for new light-duty vehicles for retail sale in Canada.\n",
    "\n",
    "**Binary Classification**\n",
    "\n",
    "[Cancer Detection Dataset]([http://mlearn.ics.uci.edu/MLRepository.html])\n",
    "\n",
    "The dataset consists of several hundred human cell sample records, each of which contains the values of a set of cell characteristics."
   ]
  },
  {
   "cell_type": "markdown",
   "metadata": {},
   "source": [
    "<hr>"
   ]
  },
  {
   "cell_type": "markdown",
   "metadata": {},
   "source": [
    "### Group Members:\n",
    "\n",
    "\n",
    "*   Ali Zahedzadeh\n",
    "*   Melika Noubakhtian\n"
   ]
  },
  {
   "cell_type": "markdown",
   "metadata": {},
   "source": [
    "<hr>"
   ]
  },
  {
   "cell_type": "markdown",
   "metadata": {},
   "source": [
    "## **Linear Regression**"
   ]
  },
  {
   "cell_type": "markdown",
   "metadata": {},
   "source": [
    "Linear regression analysis is used to predict the value of a variable based on the value of another variable"
   ]
  },
  {
   "cell_type": "markdown",
   "metadata": {},
   "source": [
    "### About The Dataset "
   ]
  },
  {
   "cell_type": "markdown",
   "metadata": {},
   "source": [
    "*   **MODELYEAR** e.g. 2014\n",
    "*   **MAKE** e.g. Acura\n",
    "*   **MODEL** e.g. ILX\n",
    "*   **VEHICLE CLASS** e.g. SUV\n",
    "*   **ENGINE SIZE** e.g. 4.7\n",
    "*   **CYLINDERS** e.g 6\n",
    "*   **TRANSMISSION** e.g. A6\n",
    "*   **FUEL CONSUMPTION in CITY(L/100 km)** e.g. 9.9\n",
    "*   **FUEL CONSUMPTION in HWY (L/100 km)** e.g. 8.9\n",
    "*   **FUEL CONSUMPTION COMB (L/100 km)** e.g. 9.2\n",
    "*   **CO2 EMISSIONS (g/km)** e.g. 182   --> low --> 0"
   ]
  },
  {
   "cell_type": "markdown",
   "metadata": {},
   "source": [
    "**Import Libraries**"
   ]
  },
  {
   "cell_type": "code",
   "execution_count": 47,
   "metadata": {},
   "outputs": [],
   "source": [
    "import pandas as pd\n",
    "import numpy as np\n",
    "import matplotlib.pyplot as plt\n",
    "import seaborn as sns"
   ]
  },
  {
   "cell_type": "markdown",
   "metadata": {},
   "source": [
    "**Reading Dataset**"
   ]
  },
  {
   "cell_type": "code",
   "execution_count": 48,
   "metadata": {},
   "outputs": [],
   "source": [
    "path = './FuelConsumptionCo2.csv'\n",
    "df = pd.read_csv(path)"
   ]
  },
  {
   "cell_type": "markdown",
   "metadata": {},
   "source": [
    "Now let's take a look at the first 5 rows of the data:"
   ]
  },
  {
   "cell_type": "code",
   "execution_count": 49,
   "metadata": {},
   "outputs": [
    {
     "data": {
      "text/html": [
       "<div>\n",
       "<style scoped>\n",
       "    .dataframe tbody tr th:only-of-type {\n",
       "        vertical-align: middle;\n",
       "    }\n",
       "\n",
       "    .dataframe tbody tr th {\n",
       "        vertical-align: top;\n",
       "    }\n",
       "\n",
       "    .dataframe thead th {\n",
       "        text-align: right;\n",
       "    }\n",
       "</style>\n",
       "<table border=\"1\" class=\"dataframe\">\n",
       "  <thead>\n",
       "    <tr style=\"text-align: right;\">\n",
       "      <th></th>\n",
       "      <th>MODELYEAR</th>\n",
       "      <th>MAKE</th>\n",
       "      <th>MODEL</th>\n",
       "      <th>VEHICLECLASS</th>\n",
       "      <th>ENGINESIZE</th>\n",
       "      <th>CYLINDERS</th>\n",
       "      <th>TRANSMISSION</th>\n",
       "      <th>FUELTYPE</th>\n",
       "      <th>FUELCONSUMPTION_CITY</th>\n",
       "      <th>FUELCONSUMPTION_HWY</th>\n",
       "      <th>FUELCONSUMPTION_COMB</th>\n",
       "      <th>FUELCONSUMPTION_COMB_MPG</th>\n",
       "      <th>CO2EMISSIONS</th>\n",
       "    </tr>\n",
       "  </thead>\n",
       "  <tbody>\n",
       "    <tr>\n",
       "      <th>0</th>\n",
       "      <td>2014</td>\n",
       "      <td>ACURA</td>\n",
       "      <td>ILX</td>\n",
       "      <td>COMPACT</td>\n",
       "      <td>2.0</td>\n",
       "      <td>4</td>\n",
       "      <td>AS5</td>\n",
       "      <td>Z</td>\n",
       "      <td>9.9</td>\n",
       "      <td>6.7</td>\n",
       "      <td>8.5</td>\n",
       "      <td>33</td>\n",
       "      <td>196</td>\n",
       "    </tr>\n",
       "    <tr>\n",
       "      <th>1</th>\n",
       "      <td>2014</td>\n",
       "      <td>ACURA</td>\n",
       "      <td>ILX</td>\n",
       "      <td>COMPACT</td>\n",
       "      <td>2.4</td>\n",
       "      <td>4</td>\n",
       "      <td>M6</td>\n",
       "      <td>Z</td>\n",
       "      <td>11.2</td>\n",
       "      <td>7.7</td>\n",
       "      <td>9.6</td>\n",
       "      <td>29</td>\n",
       "      <td>221</td>\n",
       "    </tr>\n",
       "    <tr>\n",
       "      <th>2</th>\n",
       "      <td>2014</td>\n",
       "      <td>ACURA</td>\n",
       "      <td>ILX HYBRID</td>\n",
       "      <td>COMPACT</td>\n",
       "      <td>1.5</td>\n",
       "      <td>4</td>\n",
       "      <td>AV7</td>\n",
       "      <td>Z</td>\n",
       "      <td>6.0</td>\n",
       "      <td>5.8</td>\n",
       "      <td>5.9</td>\n",
       "      <td>48</td>\n",
       "      <td>136</td>\n",
       "    </tr>\n",
       "    <tr>\n",
       "      <th>3</th>\n",
       "      <td>2014</td>\n",
       "      <td>ACURA</td>\n",
       "      <td>MDX 4WD</td>\n",
       "      <td>SUV - SMALL</td>\n",
       "      <td>3.5</td>\n",
       "      <td>6</td>\n",
       "      <td>AS6</td>\n",
       "      <td>Z</td>\n",
       "      <td>12.7</td>\n",
       "      <td>9.1</td>\n",
       "      <td>11.1</td>\n",
       "      <td>25</td>\n",
       "      <td>255</td>\n",
       "    </tr>\n",
       "    <tr>\n",
       "      <th>4</th>\n",
       "      <td>2014</td>\n",
       "      <td>ACURA</td>\n",
       "      <td>RDX AWD</td>\n",
       "      <td>SUV - SMALL</td>\n",
       "      <td>3.5</td>\n",
       "      <td>6</td>\n",
       "      <td>AS6</td>\n",
       "      <td>Z</td>\n",
       "      <td>12.1</td>\n",
       "      <td>8.7</td>\n",
       "      <td>10.6</td>\n",
       "      <td>27</td>\n",
       "      <td>244</td>\n",
       "    </tr>\n",
       "  </tbody>\n",
       "</table>\n",
       "</div>"
      ],
      "text/plain": [
       "   MODELYEAR   MAKE       MODEL VEHICLECLASS  ENGINESIZE  CYLINDERS  \\\n",
       "0       2014  ACURA         ILX      COMPACT         2.0          4   \n",
       "1       2014  ACURA         ILX      COMPACT         2.4          4   \n",
       "2       2014  ACURA  ILX HYBRID      COMPACT         1.5          4   \n",
       "3       2014  ACURA     MDX 4WD  SUV - SMALL         3.5          6   \n",
       "4       2014  ACURA     RDX AWD  SUV - SMALL         3.5          6   \n",
       "\n",
       "  TRANSMISSION FUELTYPE  FUELCONSUMPTION_CITY  FUELCONSUMPTION_HWY  \\\n",
       "0          AS5        Z                   9.9                  6.7   \n",
       "1           M6        Z                  11.2                  7.7   \n",
       "2          AV7        Z                   6.0                  5.8   \n",
       "3          AS6        Z                  12.7                  9.1   \n",
       "4          AS6        Z                  12.1                  8.7   \n",
       "\n",
       "   FUELCONSUMPTION_COMB  FUELCONSUMPTION_COMB_MPG  CO2EMISSIONS  \n",
       "0                   8.5                        33           196  \n",
       "1                   9.6                        29           221  \n",
       "2                   5.9                        48           136  \n",
       "3                  11.1                        25           255  \n",
       "4                  10.6                        27           244  "
      ]
     },
     "execution_count": 49,
     "metadata": {},
     "output_type": "execute_result"
    }
   ],
   "source": [
    "df.head()"
   ]
  },
  {
   "cell_type": "markdown",
   "metadata": {},
   "source": [
    "```df.info()``` shows that we have no NaN value."
   ]
  },
  {
   "cell_type": "code",
   "execution_count": 50,
   "metadata": {},
   "outputs": [
    {
     "name": "stdout",
     "output_type": "stream",
     "text": [
      "<class 'pandas.core.frame.DataFrame'>\n",
      "RangeIndex: 1067 entries, 0 to 1066\n",
      "Data columns (total 13 columns):\n",
      " #   Column                    Non-Null Count  Dtype  \n",
      "---  ------                    --------------  -----  \n",
      " 0   MODELYEAR                 1067 non-null   int64  \n",
      " 1   MAKE                      1067 non-null   object \n",
      " 2   MODEL                     1067 non-null   object \n",
      " 3   VEHICLECLASS              1067 non-null   object \n",
      " 4   ENGINESIZE                1067 non-null   float64\n",
      " 5   CYLINDERS                 1067 non-null   int64  \n",
      " 6   TRANSMISSION              1067 non-null   object \n",
      " 7   FUELTYPE                  1067 non-null   object \n",
      " 8   FUELCONSUMPTION_CITY      1067 non-null   float64\n",
      " 9   FUELCONSUMPTION_HWY       1067 non-null   float64\n",
      " 10  FUELCONSUMPTION_COMB      1067 non-null   float64\n",
      " 11  FUELCONSUMPTION_COMB_MPG  1067 non-null   int64  \n",
      " 12  CO2EMISSIONS              1067 non-null   int64  \n",
      "dtypes: float64(4), int64(4), object(5)\n",
      "memory usage: 108.5+ KB\n"
     ]
    }
   ],
   "source": [
    "df.info()"
   ]
  },
  {
   "cell_type": "code",
   "execution_count": 51,
   "metadata": {},
   "outputs": [
    {
     "data": {
      "text/html": [
       "<div>\n",
       "<style scoped>\n",
       "    .dataframe tbody tr th:only-of-type {\n",
       "        vertical-align: middle;\n",
       "    }\n",
       "\n",
       "    .dataframe tbody tr th {\n",
       "        vertical-align: top;\n",
       "    }\n",
       "\n",
       "    .dataframe thead th {\n",
       "        text-align: right;\n",
       "    }\n",
       "</style>\n",
       "<table border=\"1\" class=\"dataframe\">\n",
       "  <thead>\n",
       "    <tr style=\"text-align: right;\">\n",
       "      <th></th>\n",
       "      <th>MODELYEAR</th>\n",
       "      <th>ENGINESIZE</th>\n",
       "      <th>CYLINDERS</th>\n",
       "      <th>FUELCONSUMPTION_CITY</th>\n",
       "      <th>FUELCONSUMPTION_HWY</th>\n",
       "      <th>FUELCONSUMPTION_COMB</th>\n",
       "      <th>FUELCONSUMPTION_COMB_MPG</th>\n",
       "      <th>CO2EMISSIONS</th>\n",
       "    </tr>\n",
       "  </thead>\n",
       "  <tbody>\n",
       "    <tr>\n",
       "      <th>count</th>\n",
       "      <td>1067.0</td>\n",
       "      <td>1067.000000</td>\n",
       "      <td>1067.000000</td>\n",
       "      <td>1067.000000</td>\n",
       "      <td>1067.000000</td>\n",
       "      <td>1067.000000</td>\n",
       "      <td>1067.000000</td>\n",
       "      <td>1067.000000</td>\n",
       "    </tr>\n",
       "    <tr>\n",
       "      <th>mean</th>\n",
       "      <td>2014.0</td>\n",
       "      <td>3.346298</td>\n",
       "      <td>5.794752</td>\n",
       "      <td>13.296532</td>\n",
       "      <td>9.474602</td>\n",
       "      <td>11.580881</td>\n",
       "      <td>26.441425</td>\n",
       "      <td>256.228679</td>\n",
       "    </tr>\n",
       "    <tr>\n",
       "      <th>std</th>\n",
       "      <td>0.0</td>\n",
       "      <td>1.415895</td>\n",
       "      <td>1.797447</td>\n",
       "      <td>4.101253</td>\n",
       "      <td>2.794510</td>\n",
       "      <td>3.485595</td>\n",
       "      <td>7.468702</td>\n",
       "      <td>63.372304</td>\n",
       "    </tr>\n",
       "    <tr>\n",
       "      <th>min</th>\n",
       "      <td>2014.0</td>\n",
       "      <td>1.000000</td>\n",
       "      <td>3.000000</td>\n",
       "      <td>4.600000</td>\n",
       "      <td>4.900000</td>\n",
       "      <td>4.700000</td>\n",
       "      <td>11.000000</td>\n",
       "      <td>108.000000</td>\n",
       "    </tr>\n",
       "    <tr>\n",
       "      <th>25%</th>\n",
       "      <td>2014.0</td>\n",
       "      <td>2.000000</td>\n",
       "      <td>4.000000</td>\n",
       "      <td>10.250000</td>\n",
       "      <td>7.500000</td>\n",
       "      <td>9.000000</td>\n",
       "      <td>21.000000</td>\n",
       "      <td>207.000000</td>\n",
       "    </tr>\n",
       "    <tr>\n",
       "      <th>50%</th>\n",
       "      <td>2014.0</td>\n",
       "      <td>3.400000</td>\n",
       "      <td>6.000000</td>\n",
       "      <td>12.600000</td>\n",
       "      <td>8.800000</td>\n",
       "      <td>10.900000</td>\n",
       "      <td>26.000000</td>\n",
       "      <td>251.000000</td>\n",
       "    </tr>\n",
       "    <tr>\n",
       "      <th>75%</th>\n",
       "      <td>2014.0</td>\n",
       "      <td>4.300000</td>\n",
       "      <td>8.000000</td>\n",
       "      <td>15.550000</td>\n",
       "      <td>10.850000</td>\n",
       "      <td>13.350000</td>\n",
       "      <td>31.000000</td>\n",
       "      <td>294.000000</td>\n",
       "    </tr>\n",
       "    <tr>\n",
       "      <th>max</th>\n",
       "      <td>2014.0</td>\n",
       "      <td>8.400000</td>\n",
       "      <td>12.000000</td>\n",
       "      <td>30.200000</td>\n",
       "      <td>20.500000</td>\n",
       "      <td>25.800000</td>\n",
       "      <td>60.000000</td>\n",
       "      <td>488.000000</td>\n",
       "    </tr>\n",
       "  </tbody>\n",
       "</table>\n",
       "</div>"
      ],
      "text/plain": [
       "       MODELYEAR   ENGINESIZE    CYLINDERS  FUELCONSUMPTION_CITY  \\\n",
       "count     1067.0  1067.000000  1067.000000           1067.000000   \n",
       "mean      2014.0     3.346298     5.794752             13.296532   \n",
       "std          0.0     1.415895     1.797447              4.101253   \n",
       "min       2014.0     1.000000     3.000000              4.600000   \n",
       "25%       2014.0     2.000000     4.000000             10.250000   \n",
       "50%       2014.0     3.400000     6.000000             12.600000   \n",
       "75%       2014.0     4.300000     8.000000             15.550000   \n",
       "max       2014.0     8.400000    12.000000             30.200000   \n",
       "\n",
       "       FUELCONSUMPTION_HWY  FUELCONSUMPTION_COMB  FUELCONSUMPTION_COMB_MPG  \\\n",
       "count          1067.000000           1067.000000               1067.000000   \n",
       "mean              9.474602             11.580881                 26.441425   \n",
       "std               2.794510              3.485595                  7.468702   \n",
       "min               4.900000              4.700000                 11.000000   \n",
       "25%               7.500000              9.000000                 21.000000   \n",
       "50%               8.800000             10.900000                 26.000000   \n",
       "75%              10.850000             13.350000                 31.000000   \n",
       "max              20.500000             25.800000                 60.000000   \n",
       "\n",
       "       CO2EMISSIONS  \n",
       "count   1067.000000  \n",
       "mean     256.228679  \n",
       "std       63.372304  \n",
       "min      108.000000  \n",
       "25%      207.000000  \n",
       "50%      251.000000  \n",
       "75%      294.000000  \n",
       "max      488.000000  "
      ]
     },
     "execution_count": 51,
     "metadata": {},
     "output_type": "execute_result"
    }
   ],
   "source": [
    "df.describe()"
   ]
  },
  {
   "cell_type": "markdown",
   "metadata": {},
   "source": [
    "Check Null values (We don't have any null values)"
   ]
  },
  {
   "cell_type": "code",
   "execution_count": 52,
   "metadata": {},
   "outputs": [
    {
     "data": {
      "text/plain": [
       "MODELYEAR                   0\n",
       "MAKE                        0\n",
       "MODEL                       0\n",
       "VEHICLECLASS                0\n",
       "ENGINESIZE                  0\n",
       "CYLINDERS                   0\n",
       "TRANSMISSION                0\n",
       "FUELTYPE                    0\n",
       "FUELCONSUMPTION_CITY        0\n",
       "FUELCONSUMPTION_HWY         0\n",
       "FUELCONSUMPTION_COMB        0\n",
       "FUELCONSUMPTION_COMB_MPG    0\n",
       "CO2EMISSIONS                0\n",
       "dtype: int64"
      ]
     },
     "execution_count": 52,
     "metadata": {},
     "output_type": "execute_result"
    }
   ],
   "source": [
    "df.isnull().sum()"
   ]
  },
  {
   "cell_type": "markdown",
   "metadata": {},
   "source": [
    "Check for duplicate values , we dont have any duplicate value"
   ]
  },
  {
   "cell_type": "code",
   "execution_count": 53,
   "metadata": {},
   "outputs": [
    {
     "data": {
      "text/html": [
       "<div>\n",
       "<style scoped>\n",
       "    .dataframe tbody tr th:only-of-type {\n",
       "        vertical-align: middle;\n",
       "    }\n",
       "\n",
       "    .dataframe tbody tr th {\n",
       "        vertical-align: top;\n",
       "    }\n",
       "\n",
       "    .dataframe thead th {\n",
       "        text-align: right;\n",
       "    }\n",
       "</style>\n",
       "<table border=\"1\" class=\"dataframe\">\n",
       "  <thead>\n",
       "    <tr style=\"text-align: right;\">\n",
       "      <th></th>\n",
       "      <th>MODELYEAR</th>\n",
       "      <th>MAKE</th>\n",
       "      <th>MODEL</th>\n",
       "      <th>VEHICLECLASS</th>\n",
       "      <th>ENGINESIZE</th>\n",
       "      <th>CYLINDERS</th>\n",
       "      <th>TRANSMISSION</th>\n",
       "      <th>FUELTYPE</th>\n",
       "      <th>FUELCONSUMPTION_CITY</th>\n",
       "      <th>FUELCONSUMPTION_HWY</th>\n",
       "      <th>FUELCONSUMPTION_COMB</th>\n",
       "      <th>FUELCONSUMPTION_COMB_MPG</th>\n",
       "      <th>CO2EMISSIONS</th>\n",
       "    </tr>\n",
       "  </thead>\n",
       "  <tbody>\n",
       "  </tbody>\n",
       "</table>\n",
       "</div>"
      ],
      "text/plain": [
       "Empty DataFrame\n",
       "Columns: [MODELYEAR, MAKE, MODEL, VEHICLECLASS, ENGINESIZE, CYLINDERS, TRANSMISSION, FUELTYPE, FUELCONSUMPTION_CITY, FUELCONSUMPTION_HWY, FUELCONSUMPTION_COMB, FUELCONSUMPTION_COMB_MPG, CO2EMISSIONS]\n",
       "Index: []"
      ]
     },
     "execution_count": 53,
     "metadata": {},
     "output_type": "execute_result"
    }
   ],
   "source": [
    "df[df.duplicated]"
   ]
  },
  {
   "cell_type": "markdown",
   "metadata": {},
   "source": [
    "**Correlation** "
   ]
  },
  {
   "cell_type": "markdown",
   "metadata": {},
   "source": [
    " correlation matrix is a useful tool for figuring out how different variables are related to each other. By looking at the correlation coefficients between two variables, we can learn how they are related and how changes in one variable may affect the other variables"
   ]
  },
  {
   "cell_type": "markdown",
   "metadata": {},
   "source": [
    "First we need to convert non numerical values to numerical values"
   ]
  },
  {
   "cell_type": "code",
   "execution_count": 54,
   "metadata": {},
   "outputs": [],
   "source": [
    "from sklearn.preprocessing import LabelEncoder"
   ]
  },
  {
   "cell_type": "markdown",
   "metadata": {},
   "source": [
    "Select columns for eoncoding"
   ]
  },
  {
   "cell_type": "code",
   "execution_count": 55,
   "metadata": {},
   "outputs": [],
   "source": [
    "categorical_column = ['MAKE', 'MODEL', 'TRANSMISSION', 'VEHICLECLASS']\n",
    "one_hot_column = ['FUELTYPE']"
   ]
  },
  {
   "cell_type": "markdown",
   "metadata": {},
   "source": [
    "an object of LabelEncoder"
   ]
  },
  {
   "cell_type": "code",
   "execution_count": 56,
   "metadata": {},
   "outputs": [],
   "source": [
    "le_encoder = LabelEncoder()"
   ]
  },
  {
   "cell_type": "markdown",
   "metadata": {},
   "source": [
    "Set Categorical encoding for selected columns"
   ]
  },
  {
   "cell_type": "code",
   "execution_count": 57,
   "metadata": {},
   "outputs": [
    {
     "data": {
      "text/html": [
       "<div>\n",
       "<style scoped>\n",
       "    .dataframe tbody tr th:only-of-type {\n",
       "        vertical-align: middle;\n",
       "    }\n",
       "\n",
       "    .dataframe tbody tr th {\n",
       "        vertical-align: top;\n",
       "    }\n",
       "\n",
       "    .dataframe thead th {\n",
       "        text-align: right;\n",
       "    }\n",
       "</style>\n",
       "<table border=\"1\" class=\"dataframe\">\n",
       "  <thead>\n",
       "    <tr style=\"text-align: right;\">\n",
       "      <th></th>\n",
       "      <th>MODELYEAR</th>\n",
       "      <th>MAKE</th>\n",
       "      <th>MODEL</th>\n",
       "      <th>VEHICLECLASS</th>\n",
       "      <th>ENGINESIZE</th>\n",
       "      <th>CYLINDERS</th>\n",
       "      <th>TRANSMISSION</th>\n",
       "      <th>FUELTYPE</th>\n",
       "      <th>FUELCONSUMPTION_CITY</th>\n",
       "      <th>FUELCONSUMPTION_HWY</th>\n",
       "      <th>FUELCONSUMPTION_COMB</th>\n",
       "      <th>FUELCONSUMPTION_COMB_MPG</th>\n",
       "      <th>CO2EMISSIONS</th>\n",
       "    </tr>\n",
       "  </thead>\n",
       "  <tbody>\n",
       "    <tr>\n",
       "      <th>0</th>\n",
       "      <td>2014</td>\n",
       "      <td>0</td>\n",
       "      <td>329</td>\n",
       "      <td>0</td>\n",
       "      <td>2.0</td>\n",
       "      <td>4</td>\n",
       "      <td>10</td>\n",
       "      <td>Z</td>\n",
       "      <td>9.9</td>\n",
       "      <td>6.7</td>\n",
       "      <td>8.5</td>\n",
       "      <td>33</td>\n",
       "      <td>196</td>\n",
       "    </tr>\n",
       "    <tr>\n",
       "      <th>1</th>\n",
       "      <td>2014</td>\n",
       "      <td>0</td>\n",
       "      <td>329</td>\n",
       "      <td>0</td>\n",
       "      <td>2.4</td>\n",
       "      <td>4</td>\n",
       "      <td>20</td>\n",
       "      <td>Z</td>\n",
       "      <td>11.2</td>\n",
       "      <td>7.7</td>\n",
       "      <td>9.6</td>\n",
       "      <td>29</td>\n",
       "      <td>221</td>\n",
       "    </tr>\n",
       "    <tr>\n",
       "      <th>2</th>\n",
       "      <td>2014</td>\n",
       "      <td>0</td>\n",
       "      <td>330</td>\n",
       "      <td>0</td>\n",
       "      <td>1.5</td>\n",
       "      <td>4</td>\n",
       "      <td>17</td>\n",
       "      <td>Z</td>\n",
       "      <td>6.0</td>\n",
       "      <td>5.8</td>\n",
       "      <td>5.9</td>\n",
       "      <td>48</td>\n",
       "      <td>136</td>\n",
       "    </tr>\n",
       "    <tr>\n",
       "      <th>3</th>\n",
       "      <td>2014</td>\n",
       "      <td>0</td>\n",
       "      <td>389</td>\n",
       "      <td>11</td>\n",
       "      <td>3.5</td>\n",
       "      <td>6</td>\n",
       "      <td>11</td>\n",
       "      <td>Z</td>\n",
       "      <td>12.7</td>\n",
       "      <td>9.1</td>\n",
       "      <td>11.1</td>\n",
       "      <td>25</td>\n",
       "      <td>255</td>\n",
       "    </tr>\n",
       "    <tr>\n",
       "      <th>4</th>\n",
       "      <td>2014</td>\n",
       "      <td>0</td>\n",
       "      <td>483</td>\n",
       "      <td>11</td>\n",
       "      <td>3.5</td>\n",
       "      <td>6</td>\n",
       "      <td>11</td>\n",
       "      <td>Z</td>\n",
       "      <td>12.1</td>\n",
       "      <td>8.7</td>\n",
       "      <td>10.6</td>\n",
       "      <td>27</td>\n",
       "      <td>244</td>\n",
       "    </tr>\n",
       "  </tbody>\n",
       "</table>\n",
       "</div>"
      ],
      "text/plain": [
       "   MODELYEAR  MAKE  MODEL  VEHICLECLASS  ENGINESIZE  CYLINDERS  TRANSMISSION  \\\n",
       "0       2014     0    329             0         2.0          4            10   \n",
       "1       2014     0    329             0         2.4          4            20   \n",
       "2       2014     0    330             0         1.5          4            17   \n",
       "3       2014     0    389            11         3.5          6            11   \n",
       "4       2014     0    483            11         3.5          6            11   \n",
       "\n",
       "  FUELTYPE  FUELCONSUMPTION_CITY  FUELCONSUMPTION_HWY  FUELCONSUMPTION_COMB  \\\n",
       "0        Z                   9.9                  6.7                   8.5   \n",
       "1        Z                  11.2                  7.7                   9.6   \n",
       "2        Z                   6.0                  5.8                   5.9   \n",
       "3        Z                  12.7                  9.1                  11.1   \n",
       "4        Z                  12.1                  8.7                  10.6   \n",
       "\n",
       "   FUELCONSUMPTION_COMB_MPG  CO2EMISSIONS  \n",
       "0                        33           196  \n",
       "1                        29           221  \n",
       "2                        48           136  \n",
       "3                        25           255  \n",
       "4                        27           244  "
      ]
     },
     "execution_count": 57,
     "metadata": {},
     "output_type": "execute_result"
    }
   ],
   "source": [
    "df[categorical_column] = df[categorical_column].apply(LabelEncoder().fit_transform)\n",
    "df.head()"
   ]
  },
  {
   "cell_type": "markdown",
   "metadata": {},
   "source": [
    "Set One hot encoding for selected column"
   ]
  },
  {
   "cell_type": "code",
   "execution_count": 58,
   "metadata": {},
   "outputs": [],
   "source": [
    "df = pd.get_dummies(df, columns=one_hot_column)"
   ]
  },
  {
   "cell_type": "code",
   "execution_count": 59,
   "metadata": {},
   "outputs": [
    {
     "data": {
      "text/html": [
       "<div>\n",
       "<style scoped>\n",
       "    .dataframe tbody tr th:only-of-type {\n",
       "        vertical-align: middle;\n",
       "    }\n",
       "\n",
       "    .dataframe tbody tr th {\n",
       "        vertical-align: top;\n",
       "    }\n",
       "\n",
       "    .dataframe thead th {\n",
       "        text-align: right;\n",
       "    }\n",
       "</style>\n",
       "<table border=\"1\" class=\"dataframe\">\n",
       "  <thead>\n",
       "    <tr style=\"text-align: right;\">\n",
       "      <th></th>\n",
       "      <th>MODELYEAR</th>\n",
       "      <th>MAKE</th>\n",
       "      <th>MODEL</th>\n",
       "      <th>VEHICLECLASS</th>\n",
       "      <th>ENGINESIZE</th>\n",
       "      <th>CYLINDERS</th>\n",
       "      <th>TRANSMISSION</th>\n",
       "      <th>FUELCONSUMPTION_CITY</th>\n",
       "      <th>FUELCONSUMPTION_HWY</th>\n",
       "      <th>FUELCONSUMPTION_COMB</th>\n",
       "      <th>FUELCONSUMPTION_COMB_MPG</th>\n",
       "      <th>CO2EMISSIONS</th>\n",
       "      <th>FUELTYPE_D</th>\n",
       "      <th>FUELTYPE_E</th>\n",
       "      <th>FUELTYPE_X</th>\n",
       "      <th>FUELTYPE_Z</th>\n",
       "    </tr>\n",
       "  </thead>\n",
       "  <tbody>\n",
       "    <tr>\n",
       "      <th>0</th>\n",
       "      <td>2014</td>\n",
       "      <td>0</td>\n",
       "      <td>329</td>\n",
       "      <td>0</td>\n",
       "      <td>2.0</td>\n",
       "      <td>4</td>\n",
       "      <td>10</td>\n",
       "      <td>9.9</td>\n",
       "      <td>6.7</td>\n",
       "      <td>8.5</td>\n",
       "      <td>33</td>\n",
       "      <td>196</td>\n",
       "      <td>False</td>\n",
       "      <td>False</td>\n",
       "      <td>False</td>\n",
       "      <td>True</td>\n",
       "    </tr>\n",
       "    <tr>\n",
       "      <th>1</th>\n",
       "      <td>2014</td>\n",
       "      <td>0</td>\n",
       "      <td>329</td>\n",
       "      <td>0</td>\n",
       "      <td>2.4</td>\n",
       "      <td>4</td>\n",
       "      <td>20</td>\n",
       "      <td>11.2</td>\n",
       "      <td>7.7</td>\n",
       "      <td>9.6</td>\n",
       "      <td>29</td>\n",
       "      <td>221</td>\n",
       "      <td>False</td>\n",
       "      <td>False</td>\n",
       "      <td>False</td>\n",
       "      <td>True</td>\n",
       "    </tr>\n",
       "    <tr>\n",
       "      <th>2</th>\n",
       "      <td>2014</td>\n",
       "      <td>0</td>\n",
       "      <td>330</td>\n",
       "      <td>0</td>\n",
       "      <td>1.5</td>\n",
       "      <td>4</td>\n",
       "      <td>17</td>\n",
       "      <td>6.0</td>\n",
       "      <td>5.8</td>\n",
       "      <td>5.9</td>\n",
       "      <td>48</td>\n",
       "      <td>136</td>\n",
       "      <td>False</td>\n",
       "      <td>False</td>\n",
       "      <td>False</td>\n",
       "      <td>True</td>\n",
       "    </tr>\n",
       "    <tr>\n",
       "      <th>3</th>\n",
       "      <td>2014</td>\n",
       "      <td>0</td>\n",
       "      <td>389</td>\n",
       "      <td>11</td>\n",
       "      <td>3.5</td>\n",
       "      <td>6</td>\n",
       "      <td>11</td>\n",
       "      <td>12.7</td>\n",
       "      <td>9.1</td>\n",
       "      <td>11.1</td>\n",
       "      <td>25</td>\n",
       "      <td>255</td>\n",
       "      <td>False</td>\n",
       "      <td>False</td>\n",
       "      <td>False</td>\n",
       "      <td>True</td>\n",
       "    </tr>\n",
       "    <tr>\n",
       "      <th>4</th>\n",
       "      <td>2014</td>\n",
       "      <td>0</td>\n",
       "      <td>483</td>\n",
       "      <td>11</td>\n",
       "      <td>3.5</td>\n",
       "      <td>6</td>\n",
       "      <td>11</td>\n",
       "      <td>12.1</td>\n",
       "      <td>8.7</td>\n",
       "      <td>10.6</td>\n",
       "      <td>27</td>\n",
       "      <td>244</td>\n",
       "      <td>False</td>\n",
       "      <td>False</td>\n",
       "      <td>False</td>\n",
       "      <td>True</td>\n",
       "    </tr>\n",
       "  </tbody>\n",
       "</table>\n",
       "</div>"
      ],
      "text/plain": [
       "   MODELYEAR  MAKE  MODEL  VEHICLECLASS  ENGINESIZE  CYLINDERS  TRANSMISSION  \\\n",
       "0       2014     0    329             0         2.0          4            10   \n",
       "1       2014     0    329             0         2.4          4            20   \n",
       "2       2014     0    330             0         1.5          4            17   \n",
       "3       2014     0    389            11         3.5          6            11   \n",
       "4       2014     0    483            11         3.5          6            11   \n",
       "\n",
       "   FUELCONSUMPTION_CITY  FUELCONSUMPTION_HWY  FUELCONSUMPTION_COMB  \\\n",
       "0                   9.9                  6.7                   8.5   \n",
       "1                  11.2                  7.7                   9.6   \n",
       "2                   6.0                  5.8                   5.9   \n",
       "3                  12.7                  9.1                  11.1   \n",
       "4                  12.1                  8.7                  10.6   \n",
       "\n",
       "   FUELCONSUMPTION_COMB_MPG  CO2EMISSIONS  FUELTYPE_D  FUELTYPE_E  FUELTYPE_X  \\\n",
       "0                        33           196       False       False       False   \n",
       "1                        29           221       False       False       False   \n",
       "2                        48           136       False       False       False   \n",
       "3                        25           255       False       False       False   \n",
       "4                        27           244       False       False       False   \n",
       "\n",
       "   FUELTYPE_Z  \n",
       "0        True  \n",
       "1        True  \n",
       "2        True  \n",
       "3        True  \n",
       "4        True  "
      ]
     },
     "execution_count": 59,
     "metadata": {},
     "output_type": "execute_result"
    }
   ],
   "source": [
    "df.head()"
   ]
  },
  {
   "cell_type": "code",
   "execution_count": 60,
   "metadata": {},
   "outputs": [
    {
     "data": {
      "text/html": [
       "<style type=\"text/css\">\n",
       "#T_96f37_row0_col0, #T_96f37_row1_col1, #T_96f37_row2_col2, #T_96f37_row3_col3, #T_96f37_row4_col4, #T_96f37_row5_col5, #T_96f37_row6_col6, #T_96f37_row6_col8, #T_96f37_row7_col7, #T_96f37_row8_col6, #T_96f37_row8_col8, #T_96f37_row9_col9, #T_96f37_row10_col10, #T_96f37_row11_col11, #T_96f37_row12_col12, #T_96f37_row13_col13, #T_96f37_row14_col14 {\n",
       "  background-color: #b40426;\n",
       "  color: #f1f1f1;\n",
       "}\n",
       "#T_96f37_row0_col1 {\n",
       "  background-color: #6e90f2;\n",
       "  color: #f1f1f1;\n",
       "}\n",
       "#T_96f37_row0_col2, #T_96f37_row6_col13 {\n",
       "  background-color: #93b5fe;\n",
       "  color: #000000;\n",
       "}\n",
       "#T_96f37_row0_col3, #T_96f37_row5_col0, #T_96f37_row12_col2, #T_96f37_row13_col10 {\n",
       "  background-color: #b1cbfc;\n",
       "  color: #000000;\n",
       "}\n",
       "#T_96f37_row0_col4, #T_96f37_row5_col10, #T_96f37_row13_col6 {\n",
       "  background-color: #a5c3fe;\n",
       "  color: #000000;\n",
       "}\n",
       "#T_96f37_row0_col5, #T_96f37_row11_col8 {\n",
       "  background-color: #c1d4f4;\n",
       "  color: #000000;\n",
       "}\n",
       "#T_96f37_row0_col6, #T_96f37_row11_col13 {\n",
       "  background-color: #b2ccfb;\n",
       "  color: #000000;\n",
       "}\n",
       "#T_96f37_row0_col7, #T_96f37_row9_col0 {\n",
       "  background-color: #bad0f8;\n",
       "  color: #000000;\n",
       "}\n",
       "#T_96f37_row0_col8 {\n",
       "  background-color: #b5cdfa;\n",
       "  color: #000000;\n",
       "}\n",
       "#T_96f37_row0_col9 {\n",
       "  background-color: #f2cbb7;\n",
       "  color: #000000;\n",
       "}\n",
       "#T_96f37_row0_col10, #T_96f37_row9_col14 {\n",
       "  background-color: #b9d0f9;\n",
       "  color: #000000;\n",
       "}\n",
       "#T_96f37_row0_col11, #T_96f37_row0_col12 {\n",
       "  background-color: #7699f6;\n",
       "  color: #f1f1f1;\n",
       "}\n",
       "#T_96f37_row0_col13, #T_96f37_row1_col3 {\n",
       "  background-color: #dddcdc;\n",
       "  color: #000000;\n",
       "}\n",
       "#T_96f37_row0_col14 {\n",
       "  background-color: #c9d7f0;\n",
       "  color: #000000;\n",
       "}\n",
       "#T_96f37_row1_col0 {\n",
       "  background-color: #85a8fc;\n",
       "  color: #f1f1f1;\n",
       "}\n",
       "#T_96f37_row1_col2 {\n",
       "  background-color: #cdd9ec;\n",
       "  color: #000000;\n",
       "}\n",
       "#T_96f37_row1_col4 {\n",
       "  background-color: #d7dce3;\n",
       "  color: #000000;\n",
       "}\n",
       "#T_96f37_row1_col5, #T_96f37_row6_col1 {\n",
       "  background-color: #90b2fe;\n",
       "  color: #000000;\n",
       "}\n",
       "#T_96f37_row1_col6, #T_96f37_row14_col10 {\n",
       "  background-color: #ebd3c6;\n",
       "  color: #000000;\n",
       "}\n",
       "#T_96f37_row1_col7 {\n",
       "  background-color: #edd2c3;\n",
       "  color: #000000;\n",
       "}\n",
       "#T_96f37_row1_col8, #T_96f37_row12_col10 {\n",
       "  background-color: #ecd3c5;\n",
       "  color: #000000;\n",
       "}\n",
       "#T_96f37_row1_col9, #T_96f37_row2_col14 {\n",
       "  background-color: #c3d5f4;\n",
       "  color: #000000;\n",
       "}\n",
       "#T_96f37_row1_col10 {\n",
       "  background-color: #ead4c8;\n",
       "  color: #000000;\n",
       "}\n",
       "#T_96f37_row1_col11, #T_96f37_row7_col0 {\n",
       "  background-color: #4b64d5;\n",
       "  color: #f1f1f1;\n",
       "}\n",
       "#T_96f37_row1_col12, #T_96f37_row2_col1 {\n",
       "  background-color: #adc9fd;\n",
       "  color: #000000;\n",
       "}\n",
       "#T_96f37_row1_col13, #T_96f37_row14_col8 {\n",
       "  background-color: #dbdcde;\n",
       "  color: #000000;\n",
       "}\n",
       "#T_96f37_row1_col14, #T_96f37_row11_col7 {\n",
       "  background-color: #bcd2f7;\n",
       "  color: #000000;\n",
       "}\n",
       "#T_96f37_row2_col0 {\n",
       "  background-color: #7b9ff9;\n",
       "  color: #f1f1f1;\n",
       "}\n",
       "#T_96f37_row2_col3, #T_96f37_row7_col2, #T_96f37_row12_col3, #T_96f37_row14_col4 {\n",
       "  background-color: #efcfbf;\n",
       "  color: #000000;\n",
       "}\n",
       "#T_96f37_row2_col4 {\n",
       "  background-color: #ead5c9;\n",
       "  color: #000000;\n",
       "}\n",
       "#T_96f37_row2_col5, #T_96f37_row5_col2 {\n",
       "  background-color: #6485ec;\n",
       "  color: #f1f1f1;\n",
       "}\n",
       "#T_96f37_row2_col6 {\n",
       "  background-color: #f7b89c;\n",
       "  color: #000000;\n",
       "}\n",
       "#T_96f37_row2_col7, #T_96f37_row6_col12 {\n",
       "  background-color: #f7ad90;\n",
       "  color: #000000;\n",
       "}\n",
       "#T_96f37_row2_col8 {\n",
       "  background-color: #f7b396;\n",
       "  color: #000000;\n",
       "}\n",
       "#T_96f37_row2_col9, #T_96f37_row5_col8, #T_96f37_row13_col3 {\n",
       "  background-color: #9ebeff;\n",
       "  color: #000000;\n",
       "}\n",
       "#T_96f37_row2_col10 {\n",
       "  background-color: #f7b497;\n",
       "  color: #000000;\n",
       "}\n",
       "#T_96f37_row2_col11 {\n",
       "  background-color: #5d7ce6;\n",
       "  color: #f1f1f1;\n",
       "}\n",
       "#T_96f37_row2_col12 {\n",
       "  background-color: #bbd1f8;\n",
       "  color: #000000;\n",
       "}\n",
       "#T_96f37_row2_col13 {\n",
       "  background-color: #cedaeb;\n",
       "  color: #000000;\n",
       "}\n",
       "#T_96f37_row3_col0, #T_96f37_row3_col9 {\n",
       "  background-color: #4e68d8;\n",
       "  color: #f1f1f1;\n",
       "}\n",
       "#T_96f37_row3_col1, #T_96f37_row14_col2 {\n",
       "  background-color: #80a3fa;\n",
       "  color: #f1f1f1;\n",
       "}\n",
       "#T_96f37_row3_col2 {\n",
       "  background-color: #ccd9ed;\n",
       "  color: #000000;\n",
       "}\n",
       "#T_96f37_row3_col4, #T_96f37_row4_col3 {\n",
       "  background-color: #c12b30;\n",
       "  color: #f1f1f1;\n",
       "}\n",
       "#T_96f37_row3_col5 {\n",
       "  background-color: #4c66d6;\n",
       "  color: #f1f1f1;\n",
       "}\n",
       "#T_96f37_row3_col6 {\n",
       "  background-color: #d24b40;\n",
       "  color: #f1f1f1;\n",
       "}\n",
       "#T_96f37_row3_col7, #T_96f37_row4_col8, #T_96f37_row6_col4 {\n",
       "  background-color: #da5a49;\n",
       "  color: #f1f1f1;\n",
       "}\n",
       "#T_96f37_row3_col8, #T_96f37_row6_col3 {\n",
       "  background-color: #d44e41;\n",
       "  color: #f1f1f1;\n",
       "}\n",
       "#T_96f37_row3_col10 {\n",
       "  background-color: #cb3e38;\n",
       "  color: #f1f1f1;\n",
       "}\n",
       "#T_96f37_row3_col11, #T_96f37_row11_col1 {\n",
       "  background-color: #4a63d3;\n",
       "  color: #f1f1f1;\n",
       "}\n",
       "#T_96f37_row3_col12 {\n",
       "  background-color: #d4dbe6;\n",
       "  color: #000000;\n",
       "}\n",
       "#T_96f37_row3_col13, #T_96f37_row5_col3, #T_96f37_row5_col4, #T_96f37_row7_col13 {\n",
       "  background-color: #9dbdff;\n",
       "  color: #000000;\n",
       "}\n",
       "#T_96f37_row3_col14, #T_96f37_row14_col3 {\n",
       "  background-color: #e6d7cf;\n",
       "  color: #000000;\n",
       "}\n",
       "#T_96f37_row4_col0 {\n",
       "  background-color: #445acc;\n",
       "  color: #f1f1f1;\n",
       "}\n",
       "#T_96f37_row4_col1 {\n",
       "  background-color: #7a9df8;\n",
       "  color: #f1f1f1;\n",
       "}\n",
       "#T_96f37_row4_col2, #T_96f37_row10_col12 {\n",
       "  background-color: #c5d6f2;\n",
       "  color: #000000;\n",
       "}\n",
       "#T_96f37_row4_col5, #T_96f37_row12_col5 {\n",
       "  background-color: #536edd;\n",
       "  color: #f1f1f1;\n",
       "}\n",
       "#T_96f37_row4_col6 {\n",
       "  background-color: #d75445;\n",
       "  color: #f1f1f1;\n",
       "}\n",
       "#T_96f37_row4_col7 {\n",
       "  background-color: #e36b54;\n",
       "  color: #f1f1f1;\n",
       "}\n",
       "#T_96f37_row4_col9 {\n",
       "  background-color: #5470de;\n",
       "  color: #f1f1f1;\n",
       "}\n",
       "#T_96f37_row4_col10 {\n",
       "  background-color: #d0473d;\n",
       "  color: #f1f1f1;\n",
       "}\n",
       "#T_96f37_row4_col11 {\n",
       "  background-color: #516ddb;\n",
       "  color: #f1f1f1;\n",
       "}\n",
       "#T_96f37_row4_col12, #T_96f37_row11_col10 {\n",
       "  background-color: #cbd8ee;\n",
       "  color: #000000;\n",
       "}\n",
       "#T_96f37_row4_col13 {\n",
       "  background-color: #8fb1fe;\n",
       "  color: #000000;\n",
       "}\n",
       "#T_96f37_row4_col14 {\n",
       "  background-color: #f0cdbb;\n",
       "  color: #000000;\n",
       "}\n",
       "#T_96f37_row5_col1, #T_96f37_row5_col12 {\n",
       "  background-color: #6282ea;\n",
       "  color: #f1f1f1;\n",
       "}\n",
       "#T_96f37_row5_col6, #T_96f37_row12_col14 {\n",
       "  background-color: #9fbfff;\n",
       "  color: #000000;\n",
       "}\n",
       "#T_96f37_row5_col7, #T_96f37_row7_col1, #T_96f37_row9_col11 {\n",
       "  background-color: #9abbff;\n",
       "  color: #000000;\n",
       "}\n",
       "#T_96f37_row5_col9 {\n",
       "  background-color: #f7ba9f;\n",
       "  color: #000000;\n",
       "}\n",
       "#T_96f37_row5_col11 {\n",
       "  background-color: #6687ed;\n",
       "  color: #f1f1f1;\n",
       "}\n",
       "#T_96f37_row5_col13 {\n",
       "  background-color: #c7d7f0;\n",
       "  color: #000000;\n",
       "}\n",
       "#T_96f37_row5_col14, #T_96f37_row8_col2, #T_96f37_row12_col4 {\n",
       "  background-color: #e8d6cc;\n",
       "  color: #000000;\n",
       "}\n",
       "#T_96f37_row6_col0, #T_96f37_row6_col5, #T_96f37_row6_col9, #T_96f37_row7_col5, #T_96f37_row7_col11, #T_96f37_row8_col5, #T_96f37_row9_col1, #T_96f37_row9_col2, #T_96f37_row9_col3, #T_96f37_row9_col4, #T_96f37_row9_col6, #T_96f37_row9_col7, #T_96f37_row9_col8, #T_96f37_row9_col10, #T_96f37_row9_col12, #T_96f37_row13_col11, #T_96f37_row13_col14, #T_96f37_row14_col13 {\n",
       "  background-color: #3b4cc0;\n",
       "  color: #f1f1f1;\n",
       "}\n",
       "#T_96f37_row6_col2 {\n",
       "  background-color: #e2dad5;\n",
       "  color: #000000;\n",
       "}\n",
       "#T_96f37_row6_col7, #T_96f37_row7_col6 {\n",
       "  background-color: #ba162b;\n",
       "  color: #f1f1f1;\n",
       "}\n",
       "#T_96f37_row6_col10, #T_96f37_row10_col6 {\n",
       "  background-color: #c73635;\n",
       "  color: #f1f1f1;\n",
       "}\n",
       "#T_96f37_row6_col11, #T_96f37_row10_col9 {\n",
       "  background-color: #3e51c5;\n",
       "  color: #f1f1f1;\n",
       "}\n",
       "#T_96f37_row6_col14 {\n",
       "  background-color: #d5dbe5;\n",
       "  color: #000000;\n",
       "}\n",
       "#T_96f37_row7_col3 {\n",
       "  background-color: #dd5f4b;\n",
       "  color: #f1f1f1;\n",
       "}\n",
       "#T_96f37_row7_col4 {\n",
       "  background-color: #e46e56;\n",
       "  color: #f1f1f1;\n",
       "}\n",
       "#T_96f37_row7_col8, #T_96f37_row8_col7 {\n",
       "  background-color: #b50927;\n",
       "  color: #f1f1f1;\n",
       "}\n",
       "#T_96f37_row7_col9 {\n",
       "  background-color: #4055c8;\n",
       "  color: #f1f1f1;\n",
       "}\n",
       "#T_96f37_row7_col10, #T_96f37_row10_col7 {\n",
       "  background-color: #cd423b;\n",
       "  color: #f1f1f1;\n",
       "}\n",
       "#T_96f37_row7_col12 {\n",
       "  background-color: #f7a688;\n",
       "  color: #000000;\n",
       "}\n",
       "#T_96f37_row7_col14 {\n",
       "  background-color: #cad8ef;\n",
       "  color: #000000;\n",
       "}\n",
       "#T_96f37_row8_col0, #T_96f37_row14_col11 {\n",
       "  background-color: #3f53c6;\n",
       "  color: #f1f1f1;\n",
       "}\n",
       "#T_96f37_row8_col1 {\n",
       "  background-color: #94b6ff;\n",
       "  color: #000000;\n",
       "}\n",
       "#T_96f37_row8_col3 {\n",
       "  background-color: #d65244;\n",
       "  color: #f1f1f1;\n",
       "}\n",
       "#T_96f37_row8_col4 {\n",
       "  background-color: #de614d;\n",
       "  color: #f1f1f1;\n",
       "}\n",
       "#T_96f37_row8_col9 {\n",
       "  background-color: #3c4ec2;\n",
       "  color: #f1f1f1;\n",
       "}\n",
       "#T_96f37_row8_col10, #T_96f37_row10_col8 {\n",
       "  background-color: #c83836;\n",
       "  color: #f1f1f1;\n",
       "}\n",
       "#T_96f37_row8_col11 {\n",
       "  background-color: #3d50c3;\n",
       "  color: #f1f1f1;\n",
       "}\n",
       "#T_96f37_row8_col12 {\n",
       "  background-color: #f7a98b;\n",
       "  color: #000000;\n",
       "}\n",
       "#T_96f37_row8_col13 {\n",
       "  background-color: #96b7ff;\n",
       "  color: #000000;\n",
       "}\n",
       "#T_96f37_row8_col14 {\n",
       "  background-color: #d1dae9;\n",
       "  color: #000000;\n",
       "}\n",
       "#T_96f37_row9_col5 {\n",
       "  background-color: #e0dbd8;\n",
       "  color: #000000;\n",
       "}\n",
       "#T_96f37_row9_col13 {\n",
       "  background-color: #f3c8b2;\n",
       "  color: #000000;\n",
       "}\n",
       "#T_96f37_row10_col0 {\n",
       "  background-color: #4961d2;\n",
       "  color: #f1f1f1;\n",
       "}\n",
       "#T_96f37_row10_col1, #T_96f37_row11_col5, #T_96f37_row11_col12, #T_96f37_row12_col9, #T_96f37_row13_col2 {\n",
       "  background-color: #92b4fe;\n",
       "  color: #000000;\n",
       "}\n",
       "#T_96f37_row10_col2 {\n",
       "  background-color: #e9d5cb;\n",
       "  color: #000000;\n",
       "}\n",
       "#T_96f37_row10_col3 {\n",
       "  background-color: #cc403a;\n",
       "  color: #f1f1f1;\n",
       "}\n",
       "#T_96f37_row10_col4 {\n",
       "  background-color: #d1493f;\n",
       "  color: #f1f1f1;\n",
       "}\n",
       "#T_96f37_row10_col5 {\n",
       "  background-color: #465ecf;\n",
       "  color: #f1f1f1;\n",
       "}\n",
       "#T_96f37_row10_col11 {\n",
       "  background-color: #506bda;\n",
       "  color: #f1f1f1;\n",
       "}\n",
       "#T_96f37_row10_col13 {\n",
       "  background-color: #a3c2fe;\n",
       "  color: #000000;\n",
       "}\n",
       "#T_96f37_row10_col14 {\n",
       "  background-color: #e5d8d1;\n",
       "  color: #000000;\n",
       "}\n",
       "#T_96f37_row11_col0, #T_96f37_row11_col2, #T_96f37_row13_col4 {\n",
       "  background-color: #8badfd;\n",
       "  color: #000000;\n",
       "}\n",
       "#T_96f37_row11_col3, #T_96f37_row11_col4 {\n",
       "  background-color: #bfd3f6;\n",
       "  color: #000000;\n",
       "}\n",
       "#T_96f37_row11_col6 {\n",
       "  background-color: #c4d5f3;\n",
       "  color: #000000;\n",
       "}\n",
       "#T_96f37_row11_col9 {\n",
       "  background-color: #eed0c0;\n",
       "  color: #000000;\n",
       "}\n",
       "#T_96f37_row11_col14 {\n",
       "  background-color: #b6cefa;\n",
       "  color: #000000;\n",
       "}\n",
       "#T_96f37_row12_col0 {\n",
       "  background-color: #4f69d9;\n",
       "  color: #f1f1f1;\n",
       "}\n",
       "#T_96f37_row12_col1 {\n",
       "  background-color: #7597f6;\n",
       "  color: #f1f1f1;\n",
       "}\n",
       "#T_96f37_row12_col6 {\n",
       "  background-color: #f18f71;\n",
       "  color: #f1f1f1;\n",
       "}\n",
       "#T_96f37_row12_col7 {\n",
       "  background-color: #f08a6c;\n",
       "  color: #f1f1f1;\n",
       "}\n",
       "#T_96f37_row12_col8 {\n",
       "  background-color: #f08b6e;\n",
       "  color: #f1f1f1;\n",
       "}\n",
       "#T_96f37_row12_col11, #T_96f37_row13_col12 {\n",
       "  background-color: #5673e0;\n",
       "  color: #f1f1f1;\n",
       "}\n",
       "#T_96f37_row12_col13, #T_96f37_row13_col0 {\n",
       "  background-color: #97b8ff;\n",
       "  color: #000000;\n",
       "}\n",
       "#T_96f37_row13_col1 {\n",
       "  background-color: #7ea1fa;\n",
       "  color: #f1f1f1;\n",
       "}\n",
       "#T_96f37_row13_col5 {\n",
       "  background-color: #86a9fc;\n",
       "  color: #f1f1f1;\n",
       "}\n",
       "#T_96f37_row13_col7 {\n",
       "  background-color: #a9c6fd;\n",
       "  color: #000000;\n",
       "}\n",
       "#T_96f37_row13_col8 {\n",
       "  background-color: #a6c4fe;\n",
       "  color: #000000;\n",
       "}\n",
       "#T_96f37_row13_col9 {\n",
       "  background-color: #f5c0a7;\n",
       "  color: #000000;\n",
       "}\n",
       "#T_96f37_row14_col0 {\n",
       "  background-color: #7295f4;\n",
       "  color: #f1f1f1;\n",
       "}\n",
       "#T_96f37_row14_col1 {\n",
       "  background-color: #485fd1;\n",
       "  color: #f1f1f1;\n",
       "}\n",
       "#T_96f37_row14_col5 {\n",
       "  background-color: #bed2f6;\n",
       "  color: #000000;\n",
       "}\n",
       "#T_96f37_row14_col6 {\n",
       "  background-color: #dedcdb;\n",
       "  color: #000000;\n",
       "}\n",
       "#T_96f37_row14_col7 {\n",
       "  background-color: #d3dbe7;\n",
       "  color: #000000;\n",
       "}\n",
       "#T_96f37_row14_col9 {\n",
       "  background-color: #c6d6f1;\n",
       "  color: #000000;\n",
       "}\n",
       "#T_96f37_row14_col12 {\n",
       "  background-color: #5f7fe8;\n",
       "  color: #f1f1f1;\n",
       "}\n",
       "</style>\n",
       "<table id=\"T_96f37\">\n",
       "  <thead>\n",
       "    <tr>\n",
       "      <th class=\"blank level0\" >&nbsp;</th>\n",
       "      <th id=\"T_96f37_level0_col0\" class=\"col_heading level0 col0\" >MAKE</th>\n",
       "      <th id=\"T_96f37_level0_col1\" class=\"col_heading level0 col1\" >MODEL</th>\n",
       "      <th id=\"T_96f37_level0_col2\" class=\"col_heading level0 col2\" >VEHICLECLASS</th>\n",
       "      <th id=\"T_96f37_level0_col3\" class=\"col_heading level0 col3\" >ENGINESIZE</th>\n",
       "      <th id=\"T_96f37_level0_col4\" class=\"col_heading level0 col4\" >CYLINDERS</th>\n",
       "      <th id=\"T_96f37_level0_col5\" class=\"col_heading level0 col5\" >TRANSMISSION</th>\n",
       "      <th id=\"T_96f37_level0_col6\" class=\"col_heading level0 col6\" >FUELCONSUMPTION_CITY</th>\n",
       "      <th id=\"T_96f37_level0_col7\" class=\"col_heading level0 col7\" >FUELCONSUMPTION_HWY</th>\n",
       "      <th id=\"T_96f37_level0_col8\" class=\"col_heading level0 col8\" >FUELCONSUMPTION_COMB</th>\n",
       "      <th id=\"T_96f37_level0_col9\" class=\"col_heading level0 col9\" >FUELCONSUMPTION_COMB_MPG</th>\n",
       "      <th id=\"T_96f37_level0_col10\" class=\"col_heading level0 col10\" >CO2EMISSIONS</th>\n",
       "      <th id=\"T_96f37_level0_col11\" class=\"col_heading level0 col11\" >FUELTYPE_D</th>\n",
       "      <th id=\"T_96f37_level0_col12\" class=\"col_heading level0 col12\" >FUELTYPE_E</th>\n",
       "      <th id=\"T_96f37_level0_col13\" class=\"col_heading level0 col13\" >FUELTYPE_X</th>\n",
       "      <th id=\"T_96f37_level0_col14\" class=\"col_heading level0 col14\" >FUELTYPE_Z</th>\n",
       "    </tr>\n",
       "  </thead>\n",
       "  <tbody>\n",
       "    <tr>\n",
       "      <th id=\"T_96f37_level0_row0\" class=\"row_heading level0 row0\" >MAKE</th>\n",
       "      <td id=\"T_96f37_row0_col0\" class=\"data row0 col0\" >1.000000</td>\n",
       "      <td id=\"T_96f37_row0_col1\" class=\"data row0 col1\" >0.039068</td>\n",
       "      <td id=\"T_96f37_row0_col2\" class=\"data row0 col2\" >0.005853</td>\n",
       "      <td id=\"T_96f37_row0_col3\" class=\"data row0 col3\" >-0.166416</td>\n",
       "      <td id=\"T_96f37_row0_col4\" class=\"data row0 col4\" >-0.203427</td>\n",
       "      <td id=\"T_96f37_row0_col5\" class=\"data row0 col5\" >0.193264</td>\n",
       "      <td id=\"T_96f37_row0_col6\" class=\"data row0 col6\" >-0.246247</td>\n",
       "      <td id=\"T_96f37_row0_col7\" class=\"data row0 col7\" >-0.174665</td>\n",
       "      <td id=\"T_96f37_row0_col8\" class=\"data row0 col8\" >-0.222273</td>\n",
       "      <td id=\"T_96f37_row0_col9\" class=\"data row0 col9\" >0.226347</td>\n",
       "      <td id=\"T_96f37_row0_col10\" class=\"data row0 col10\" >-0.186504</td>\n",
       "      <td id=\"T_96f37_row0_col11\" class=\"data row0 col11\" >0.057305</td>\n",
       "      <td id=\"T_96f37_row0_col12\" class=\"data row0 col12\" >-0.158673</td>\n",
       "      <td id=\"T_96f37_row0_col13\" class=\"data row0 col13\" >0.102489</td>\n",
       "      <td id=\"T_96f37_row0_col14\" class=\"data row0 col14\" >-0.031904</td>\n",
       "    </tr>\n",
       "    <tr>\n",
       "      <th id=\"T_96f37_level0_row1\" class=\"row_heading level0 row1\" >MODEL</th>\n",
       "      <td id=\"T_96f37_row1_col0\" class=\"data row1 col0\" >0.039068</td>\n",
       "      <td id=\"T_96f37_row1_col1\" class=\"data row1 col1\" >1.000000</td>\n",
       "      <td id=\"T_96f37_row1_col2\" class=\"data row1 col2\" >0.244648</td>\n",
       "      <td id=\"T_96f37_row1_col3\" class=\"data row1 col3\" >0.096304</td>\n",
       "      <td id=\"T_96f37_row1_col4\" class=\"data row1 col4\" >0.080010</td>\n",
       "      <td id=\"T_96f37_row1_col5\" class=\"data row1 col5\" >-0.002004</td>\n",
       "      <td id=\"T_96f37_row1_col6\" class=\"data row1 col6\" >0.147394</td>\n",
       "      <td id=\"T_96f37_row1_col7\" class=\"data row1 col7\" >0.182009</td>\n",
       "      <td id=\"T_96f37_row1_col8\" class=\"data row1 col8\" >0.161373</td>\n",
       "      <td id=\"T_96f37_row1_col9\" class=\"data row1 col9\" >-0.148806</td>\n",
       "      <td id=\"T_96f37_row1_col10\" class=\"data row1 col10\" >0.155492</td>\n",
       "      <td id=\"T_96f37_row1_col11\" class=\"data row1 col11\" >-0.088906</td>\n",
       "      <td id=\"T_96f37_row1_col12\" class=\"data row1 col12\" >0.060654</td>\n",
       "      <td id=\"T_96f37_row1_col13\" class=\"data row1 col13\" >0.090685</td>\n",
       "      <td id=\"T_96f37_row1_col14\" class=\"data row1 col14\" >-0.098477</td>\n",
       "    </tr>\n",
       "    <tr>\n",
       "      <th id=\"T_96f37_level0_row2\" class=\"row_heading level0 row2\" >VEHICLECLASS</th>\n",
       "      <td id=\"T_96f37_row2_col0\" class=\"data row2 col0\" >0.005853</td>\n",
       "      <td id=\"T_96f37_row2_col1\" class=\"data row2 col1\" >0.244648</td>\n",
       "      <td id=\"T_96f37_row2_col2\" class=\"data row2 col2\" >1.000000</td>\n",
       "      <td id=\"T_96f37_row2_col3\" class=\"data row2 col3\" >0.240529</td>\n",
       "      <td id=\"T_96f37_row2_col4\" class=\"data row2 col4\" >0.208528</td>\n",
       "      <td id=\"T_96f37_row2_col5\" class=\"data row2 col5\" >-0.172934</td>\n",
       "      <td id=\"T_96f37_row2_col6\" class=\"data row2 col6\" >0.354363</td>\n",
       "      <td id=\"T_96f37_row2_col7\" class=\"data row2 col7\" >0.430074</td>\n",
       "      <td id=\"T_96f37_row2_col8\" class=\"data row2 col8\" >0.384678</td>\n",
       "      <td id=\"T_96f37_row2_col9\" class=\"data row2 col9\" >-0.354073</td>\n",
       "      <td id=\"T_96f37_row2_col10\" class=\"data row2 col10\" >0.388468</td>\n",
       "      <td id=\"T_96f37_row2_col11\" class=\"data row2 col11\" >-0.024735</td>\n",
       "      <td id=\"T_96f37_row2_col12\" class=\"data row2 col12\" >0.125846</td>\n",
       "      <td id=\"T_96f37_row2_col13\" class=\"data row2 col13\" >0.003160</td>\n",
       "      <td id=\"T_96f37_row2_col14\" class=\"data row2 col14\" >-0.067216</td>\n",
       "    </tr>\n",
       "    <tr>\n",
       "      <th id=\"T_96f37_level0_row3\" class=\"row_heading level0 row3\" >ENGINESIZE</th>\n",
       "      <td id=\"T_96f37_row3_col0\" class=\"data row3 col0\" >-0.166416</td>\n",
       "      <td id=\"T_96f37_row3_col1\" class=\"data row3 col1\" >0.096304</td>\n",
       "      <td id=\"T_96f37_row3_col2\" class=\"data row3 col2\" >0.240529</td>\n",
       "      <td id=\"T_96f37_row3_col3\" class=\"data row3 col3\" >1.000000</td>\n",
       "      <td id=\"T_96f37_row3_col4\" class=\"data row3 col4\" >0.934011</td>\n",
       "      <td id=\"T_96f37_row3_col5\" class=\"data row3 col5\" >-0.272427</td>\n",
       "      <td id=\"T_96f37_row3_col6\" class=\"data row3 col6\" >0.832225</td>\n",
       "      <td id=\"T_96f37_row3_col7\" class=\"data row3 col7\" >0.778746</td>\n",
       "      <td id=\"T_96f37_row3_col8\" class=\"data row3 col8\" >0.819482</td>\n",
       "      <td id=\"T_96f37_row3_col9\" class=\"data row3 col9\" >-0.808554</td>\n",
       "      <td id=\"T_96f37_row3_col10\" class=\"data row3 col10\" >0.874154</td>\n",
       "      <td id=\"T_96f37_row3_col11\" class=\"data row3 col11\" >-0.093400</td>\n",
       "      <td id=\"T_96f37_row3_col12\" class=\"data row3 col12\" >0.237674</td>\n",
       "      <td id=\"T_96f37_row3_col13\" class=\"data row3 col13\" >-0.266920</td>\n",
       "      <td id=\"T_96f37_row3_col14\" class=\"data row3 col14\" >0.165557</td>\n",
       "    </tr>\n",
       "    <tr>\n",
       "      <th id=\"T_96f37_level0_row4\" class=\"row_heading level0 row4\" >CYLINDERS</th>\n",
       "      <td id=\"T_96f37_row4_col0\" class=\"data row4 col0\" >-0.203427</td>\n",
       "      <td id=\"T_96f37_row4_col1\" class=\"data row4 col1\" >0.080010</td>\n",
       "      <td id=\"T_96f37_row4_col2\" class=\"data row4 col2\" >0.208528</td>\n",
       "      <td id=\"T_96f37_row4_col3\" class=\"data row4 col3\" >0.934011</td>\n",
       "      <td id=\"T_96f37_row4_col4\" class=\"data row4 col4\" >1.000000</td>\n",
       "      <td id=\"T_96f37_row4_col5\" class=\"data row4 col5\" >-0.246456</td>\n",
       "      <td id=\"T_96f37_row4_col6\" class=\"data row4 col6\" >0.796473</td>\n",
       "      <td id=\"T_96f37_row4_col7\" class=\"data row4 col7\" >0.724594</td>\n",
       "      <td id=\"T_96f37_row4_col8\" class=\"data row4 col8\" >0.776788</td>\n",
       "      <td id=\"T_96f37_row4_col9\" class=\"data row4 col9\" >-0.770430</td>\n",
       "      <td id=\"T_96f37_row4_col10\" class=\"data row4 col10\" >0.849685</td>\n",
       "      <td id=\"T_96f37_row4_col11\" class=\"data row4 col11\" >-0.067955</td>\n",
       "      <td id=\"T_96f37_row4_col12\" class=\"data row4 col12\" >0.194920</td>\n",
       "      <td id=\"T_96f37_row4_col13\" class=\"data row4 col13\" >-0.339827</td>\n",
       "      <td id=\"T_96f37_row4_col14\" class=\"data row4 col14\" >0.256011</td>\n",
       "    </tr>\n",
       "    <tr>\n",
       "      <th id=\"T_96f37_level0_row5\" class=\"row_heading level0 row5\" >TRANSMISSION</th>\n",
       "      <td id=\"T_96f37_row5_col0\" class=\"data row5 col0\" >0.193264</td>\n",
       "      <td id=\"T_96f37_row5_col1\" class=\"data row5 col1\" >-0.002004</td>\n",
       "      <td id=\"T_96f37_row5_col2\" class=\"data row5 col2\" >-0.172934</td>\n",
       "      <td id=\"T_96f37_row5_col3\" class=\"data row5 col3\" >-0.272427</td>\n",
       "      <td id=\"T_96f37_row5_col4\" class=\"data row5 col4\" >-0.246456</td>\n",
       "      <td id=\"T_96f37_row5_col5\" class=\"data row5 col5\" >1.000000</td>\n",
       "      <td id=\"T_96f37_row5_col6\" class=\"data row5 col6\" >-0.350241</td>\n",
       "      <td id=\"T_96f37_row5_col7\" class=\"data row5 col7\" >-0.348174</td>\n",
       "      <td id=\"T_96f37_row5_col8\" class=\"data row5 col8\" >-0.352596</td>\n",
       "      <td id=\"T_96f37_row5_col9\" class=\"data row5 col9\" >0.341119</td>\n",
       "      <td id=\"T_96f37_row5_col10\" class=\"data row5 col10\" >-0.299393</td>\n",
       "      <td id=\"T_96f37_row5_col11\" class=\"data row5 col11\" >0.004390</td>\n",
       "      <td id=\"T_96f37_row5_col12\" class=\"data row5 col12\" >-0.245111</td>\n",
       "      <td id=\"T_96f37_row5_col13\" class=\"data row5 col13\" >-0.038929</td>\n",
       "      <td id=\"T_96f37_row5_col14\" class=\"data row5 col14\" >0.178253</td>\n",
       "    </tr>\n",
       "    <tr>\n",
       "      <th id=\"T_96f37_level0_row6\" class=\"row_heading level0 row6\" >FUELCONSUMPTION_CITY</th>\n",
       "      <td id=\"T_96f37_row6_col0\" class=\"data row6 col0\" >-0.246247</td>\n",
       "      <td id=\"T_96f37_row6_col1\" class=\"data row6 col1\" >0.147394</td>\n",
       "      <td id=\"T_96f37_row6_col2\" class=\"data row6 col2\" >0.354363</td>\n",
       "      <td id=\"T_96f37_row6_col3\" class=\"data row6 col3\" >0.832225</td>\n",
       "      <td id=\"T_96f37_row6_col4\" class=\"data row6 col4\" >0.796473</td>\n",
       "      <td id=\"T_96f37_row6_col5\" class=\"data row6 col5\" >-0.350241</td>\n",
       "      <td id=\"T_96f37_row6_col6\" class=\"data row6 col6\" >1.000000</td>\n",
       "      <td id=\"T_96f37_row6_col7\" class=\"data row6 col7\" >0.965718</td>\n",
       "      <td id=\"T_96f37_row6_col8\" class=\"data row6 col8\" >0.995542</td>\n",
       "      <td id=\"T_96f37_row6_col9\" class=\"data row6 col9\" >-0.935613</td>\n",
       "      <td id=\"T_96f37_row6_col10\" class=\"data row6 col10\" >0.898039</td>\n",
       "      <td id=\"T_96f37_row6_col11\" class=\"data row6 col11\" >-0.139180</td>\n",
       "      <td id=\"T_96f37_row6_col12\" class=\"data row6 col12\" >0.567070</td>\n",
       "      <td id=\"T_96f37_row6_col13\" class=\"data row6 col13\" >-0.319701</td>\n",
       "      <td id=\"T_96f37_row6_col14\" class=\"data row6 col14\" >0.045660</td>\n",
       "    </tr>\n",
       "    <tr>\n",
       "      <th id=\"T_96f37_level0_row7\" class=\"row_heading level0 row7\" >FUELCONSUMPTION_HWY</th>\n",
       "      <td id=\"T_96f37_row7_col0\" class=\"data row7 col0\" >-0.174665</td>\n",
       "      <td id=\"T_96f37_row7_col1\" class=\"data row7 col1\" >0.182009</td>\n",
       "      <td id=\"T_96f37_row7_col2\" class=\"data row7 col2\" >0.430074</td>\n",
       "      <td id=\"T_96f37_row7_col3\" class=\"data row7 col3\" >0.778746</td>\n",
       "      <td id=\"T_96f37_row7_col4\" class=\"data row7 col4\" >0.724594</td>\n",
       "      <td id=\"T_96f37_row7_col5\" class=\"data row7 col5\" >-0.348174</td>\n",
       "      <td id=\"T_96f37_row7_col6\" class=\"data row7 col6\" >0.965718</td>\n",
       "      <td id=\"T_96f37_row7_col7\" class=\"data row7 col7\" >1.000000</td>\n",
       "      <td id=\"T_96f37_row7_col8\" class=\"data row7 col8\" >0.985804</td>\n",
       "      <td id=\"T_96f37_row7_col9\" class=\"data row7 col9\" >-0.893809</td>\n",
       "      <td id=\"T_96f37_row7_col10\" class=\"data row7 col10\" >0.861748</td>\n",
       "      <td id=\"T_96f37_row7_col11\" class=\"data row7 col11\" >-0.154498</td>\n",
       "      <td id=\"T_96f37_row7_col12\" class=\"data row7 col12\" >0.598684</td>\n",
       "      <td id=\"T_96f37_row7_col13\" class=\"data row7 col13\" >-0.269105</td>\n",
       "      <td id=\"T_96f37_row7_col14\" class=\"data row7 col14\" >-0.018973</td>\n",
       "    </tr>\n",
       "    <tr>\n",
       "      <th id=\"T_96f37_level0_row8\" class=\"row_heading level0 row8\" >FUELCONSUMPTION_COMB</th>\n",
       "      <td id=\"T_96f37_row8_col0\" class=\"data row8 col0\" >-0.222273</td>\n",
       "      <td id=\"T_96f37_row8_col1\" class=\"data row8 col1\" >0.161373</td>\n",
       "      <td id=\"T_96f37_row8_col2\" class=\"data row8 col2\" >0.384678</td>\n",
       "      <td id=\"T_96f37_row8_col3\" class=\"data row8 col3\" >0.819482</td>\n",
       "      <td id=\"T_96f37_row8_col4\" class=\"data row8 col4\" >0.776788</td>\n",
       "      <td id=\"T_96f37_row8_col5\" class=\"data row8 col5\" >-0.352596</td>\n",
       "      <td id=\"T_96f37_row8_col6\" class=\"data row8 col6\" >0.995542</td>\n",
       "      <td id=\"T_96f37_row8_col7\" class=\"data row8 col7\" >0.985804</td>\n",
       "      <td id=\"T_96f37_row8_col8\" class=\"data row8 col8\" >1.000000</td>\n",
       "      <td id=\"T_96f37_row8_col9\" class=\"data row8 col9\" >-0.927965</td>\n",
       "      <td id=\"T_96f37_row8_col10\" class=\"data row8 col10\" >0.892129</td>\n",
       "      <td id=\"T_96f37_row8_col11\" class=\"data row8 col11\" >-0.145396</td>\n",
       "      <td id=\"T_96f37_row8_col12\" class=\"data row8 col12\" >0.583125</td>\n",
       "      <td id=\"T_96f37_row8_col13\" class=\"data row8 col13\" >-0.303950</td>\n",
       "      <td id=\"T_96f37_row8_col14\" class=\"data row8 col14\" >0.022451</td>\n",
       "    </tr>\n",
       "    <tr>\n",
       "      <th id=\"T_96f37_level0_row9\" class=\"row_heading level0 row9\" >FUELCONSUMPTION_COMB_MPG</th>\n",
       "      <td id=\"T_96f37_row9_col0\" class=\"data row9 col0\" >0.226347</td>\n",
       "      <td id=\"T_96f37_row9_col1\" class=\"data row9 col1\" >-0.148806</td>\n",
       "      <td id=\"T_96f37_row9_col2\" class=\"data row9 col2\" >-0.354073</td>\n",
       "      <td id=\"T_96f37_row9_col3\" class=\"data row9 col3\" >-0.808554</td>\n",
       "      <td id=\"T_96f37_row9_col4\" class=\"data row9 col4\" >-0.770430</td>\n",
       "      <td id=\"T_96f37_row9_col5\" class=\"data row9 col5\" >0.341119</td>\n",
       "      <td id=\"T_96f37_row9_col6\" class=\"data row9 col6\" >-0.935613</td>\n",
       "      <td id=\"T_96f37_row9_col7\" class=\"data row9 col7\" >-0.893809</td>\n",
       "      <td id=\"T_96f37_row9_col8\" class=\"data row9 col8\" >-0.927965</td>\n",
       "      <td id=\"T_96f37_row9_col9\" class=\"data row9 col9\" >1.000000</td>\n",
       "      <td id=\"T_96f37_row9_col10\" class=\"data row9 col10\" >-0.906394</td>\n",
       "      <td id=\"T_96f37_row9_col11\" class=\"data row9 col11\" >0.176731</td>\n",
       "      <td id=\"T_96f37_row9_col12\" class=\"data row9 col12\" >-0.425172</td>\n",
       "      <td id=\"T_96f37_row9_col13\" class=\"data row9 col13\" >0.300779</td>\n",
       "      <td id=\"T_96f37_row9_col14\" class=\"data row9 col14\" >-0.119499</td>\n",
       "    </tr>\n",
       "    <tr>\n",
       "      <th id=\"T_96f37_level0_row10\" class=\"row_heading level0 row10\" >CO2EMISSIONS</th>\n",
       "      <td id=\"T_96f37_row10_col0\" class=\"data row10 col0\" >-0.186504</td>\n",
       "      <td id=\"T_96f37_row10_col1\" class=\"data row10 col1\" >0.155492</td>\n",
       "      <td id=\"T_96f37_row10_col2\" class=\"data row10 col2\" >0.388468</td>\n",
       "      <td id=\"T_96f37_row10_col3\" class=\"data row10 col3\" >0.874154</td>\n",
       "      <td id=\"T_96f37_row10_col4\" class=\"data row10 col4\" >0.849685</td>\n",
       "      <td id=\"T_96f37_row10_col5\" class=\"data row10 col5\" >-0.299393</td>\n",
       "      <td id=\"T_96f37_row10_col6\" class=\"data row10 col6\" >0.898039</td>\n",
       "      <td id=\"T_96f37_row10_col7\" class=\"data row10 col7\" >0.861748</td>\n",
       "      <td id=\"T_96f37_row10_col8\" class=\"data row10 col8\" >0.892129</td>\n",
       "      <td id=\"T_96f37_row10_col9\" class=\"data row10 col9\" >-0.906394</td>\n",
       "      <td id=\"T_96f37_row10_col10\" class=\"data row10 col10\" >1.000000</td>\n",
       "      <td id=\"T_96f37_row10_col11\" class=\"data row10 col11\" >-0.072371</td>\n",
       "      <td id=\"T_96f37_row10_col12\" class=\"data row10 col12\" >0.169045</td>\n",
       "      <td id=\"T_96f37_row10_col13\" class=\"data row10 col13\" >-0.230304</td>\n",
       "      <td id=\"T_96f37_row10_col14\" class=\"data row10 col14\" >0.160804</td>\n",
       "    </tr>\n",
       "    <tr>\n",
       "      <th id=\"T_96f37_level0_row11\" class=\"row_heading level0 row11\" >FUELTYPE_D</th>\n",
       "      <td id=\"T_96f37_row11_col0\" class=\"data row11 col0\" >0.057305</td>\n",
       "      <td id=\"T_96f37_row11_col1\" class=\"data row11 col1\" >-0.088906</td>\n",
       "      <td id=\"T_96f37_row11_col2\" class=\"data row11 col2\" >-0.024735</td>\n",
       "      <td id=\"T_96f37_row11_col3\" class=\"data row11 col3\" >-0.093400</td>\n",
       "      <td id=\"T_96f37_row11_col4\" class=\"data row11 col4\" >-0.067955</td>\n",
       "      <td id=\"T_96f37_row11_col5\" class=\"data row11 col5\" >0.004390</td>\n",
       "      <td id=\"T_96f37_row11_col6\" class=\"data row11 col6\" >-0.139180</td>\n",
       "      <td id=\"T_96f37_row11_col7\" class=\"data row11 col7\" >-0.154498</td>\n",
       "      <td id=\"T_96f37_row11_col8\" class=\"data row11 col8\" >-0.145396</td>\n",
       "      <td id=\"T_96f37_row11_col9\" class=\"data row11 col9\" >0.176731</td>\n",
       "      <td id=\"T_96f37_row11_col10\" class=\"data row11 col10\" >-0.072371</td>\n",
       "      <td id=\"T_96f37_row11_col11\" class=\"data row11 col11\" >1.000000</td>\n",
       "      <td id=\"T_96f37_row11_col12\" class=\"data row11 col12\" >-0.049494</td>\n",
       "      <td id=\"T_96f37_row11_col13\" class=\"data row11 col13\" >-0.155340</td>\n",
       "      <td id=\"T_96f37_row11_col14\" class=\"data row11 col14\" >-0.133416</td>\n",
       "    </tr>\n",
       "    <tr>\n",
       "      <th id=\"T_96f37_level0_row12\" class=\"row_heading level0 row12\" >FUELTYPE_E</th>\n",
       "      <td id=\"T_96f37_row12_col0\" class=\"data row12 col0\" >-0.158673</td>\n",
       "      <td id=\"T_96f37_row12_col1\" class=\"data row12 col1\" >0.060654</td>\n",
       "      <td id=\"T_96f37_row12_col2\" class=\"data row12 col2\" >0.125846</td>\n",
       "      <td id=\"T_96f37_row12_col3\" class=\"data row12 col3\" >0.237674</td>\n",
       "      <td id=\"T_96f37_row12_col4\" class=\"data row12 col4\" >0.194920</td>\n",
       "      <td id=\"T_96f37_row12_col5\" class=\"data row12 col5\" >-0.245111</td>\n",
       "      <td id=\"T_96f37_row12_col6\" class=\"data row12 col6\" >0.567070</td>\n",
       "      <td id=\"T_96f37_row12_col7\" class=\"data row12 col7\" >0.598684</td>\n",
       "      <td id=\"T_96f37_row12_col8\" class=\"data row12 col8\" >0.583125</td>\n",
       "      <td id=\"T_96f37_row12_col9\" class=\"data row12 col9\" >-0.425172</td>\n",
       "      <td id=\"T_96f37_row12_col10\" class=\"data row12 col10\" >0.169045</td>\n",
       "      <td id=\"T_96f37_row12_col11\" class=\"data row12 col11\" >-0.049494</td>\n",
       "      <td id=\"T_96f37_row12_col12\" class=\"data row12 col12\" >1.000000</td>\n",
       "      <td id=\"T_96f37_row12_col13\" class=\"data row12 col13\" >-0.296149</td>\n",
       "      <td id=\"T_96f37_row12_col14\" class=\"data row12 col14\" >-0.254352</td>\n",
       "    </tr>\n",
       "    <tr>\n",
       "      <th id=\"T_96f37_level0_row13\" class=\"row_heading level0 row13\" >FUELTYPE_X</th>\n",
       "      <td id=\"T_96f37_row13_col0\" class=\"data row13 col0\" >0.102489</td>\n",
       "      <td id=\"T_96f37_row13_col1\" class=\"data row13 col1\" >0.090685</td>\n",
       "      <td id=\"T_96f37_row13_col2\" class=\"data row13 col2\" >0.003160</td>\n",
       "      <td id=\"T_96f37_row13_col3\" class=\"data row13 col3\" >-0.266920</td>\n",
       "      <td id=\"T_96f37_row13_col4\" class=\"data row13 col4\" >-0.339827</td>\n",
       "      <td id=\"T_96f37_row13_col5\" class=\"data row13 col5\" >-0.038929</td>\n",
       "      <td id=\"T_96f37_row13_col6\" class=\"data row13 col6\" >-0.319701</td>\n",
       "      <td id=\"T_96f37_row13_col7\" class=\"data row13 col7\" >-0.269105</td>\n",
       "      <td id=\"T_96f37_row13_col8\" class=\"data row13 col8\" >-0.303950</td>\n",
       "      <td id=\"T_96f37_row13_col9\" class=\"data row13 col9\" >0.300779</td>\n",
       "      <td id=\"T_96f37_row13_col10\" class=\"data row13 col10\" >-0.230304</td>\n",
       "      <td id=\"T_96f37_row13_col11\" class=\"data row13 col11\" >-0.155340</td>\n",
       "      <td id=\"T_96f37_row13_col12\" class=\"data row13 col12\" >-0.296149</td>\n",
       "      <td id=\"T_96f37_row13_col13\" class=\"data row13 col13\" >1.000000</td>\n",
       "      <td id=\"T_96f37_row13_col14\" class=\"data row13 col14\" >-0.798292</td>\n",
       "    </tr>\n",
       "    <tr>\n",
       "      <th id=\"T_96f37_level0_row14\" class=\"row_heading level0 row14\" >FUELTYPE_Z</th>\n",
       "      <td id=\"T_96f37_row14_col0\" class=\"data row14 col0\" >-0.031904</td>\n",
       "      <td id=\"T_96f37_row14_col1\" class=\"data row14 col1\" >-0.098477</td>\n",
       "      <td id=\"T_96f37_row14_col2\" class=\"data row14 col2\" >-0.067216</td>\n",
       "      <td id=\"T_96f37_row14_col3\" class=\"data row14 col3\" >0.165557</td>\n",
       "      <td id=\"T_96f37_row14_col4\" class=\"data row14 col4\" >0.256011</td>\n",
       "      <td id=\"T_96f37_row14_col5\" class=\"data row14 col5\" >0.178253</td>\n",
       "      <td id=\"T_96f37_row14_col6\" class=\"data row14 col6\" >0.045660</td>\n",
       "      <td id=\"T_96f37_row14_col7\" class=\"data row14 col7\" >-0.018973</td>\n",
       "      <td id=\"T_96f37_row14_col8\" class=\"data row14 col8\" >0.022451</td>\n",
       "      <td id=\"T_96f37_row14_col9\" class=\"data row14 col9\" >-0.119499</td>\n",
       "      <td id=\"T_96f37_row14_col10\" class=\"data row14 col10\" >0.160804</td>\n",
       "      <td id=\"T_96f37_row14_col11\" class=\"data row14 col11\" >-0.133416</td>\n",
       "      <td id=\"T_96f37_row14_col12\" class=\"data row14 col12\" >-0.254352</td>\n",
       "      <td id=\"T_96f37_row14_col13\" class=\"data row14 col13\" >-0.798292</td>\n",
       "      <td id=\"T_96f37_row14_col14\" class=\"data row14 col14\" >1.000000</td>\n",
       "    </tr>\n",
       "  </tbody>\n",
       "</table>\n"
      ],
      "text/plain": [
       "<pandas.io.formats.style.Styler at 0x2517146ca60>"
      ]
     },
     "execution_count": 60,
     "metadata": {},
     "output_type": "execute_result"
    }
   ],
   "source": [
    "corr = df.drop(columns=['MODELYEAR']).corr()\n",
    "corr.style.background_gradient(cmap='coolwarm')"
   ]
  },
  {
   "cell_type": "markdown",
   "metadata": {},
   "source": [
    "Our goal is to predict the amount of CO2 EMISSION based on the available data"
   ]
  },
  {
   "cell_type": "markdown",
   "metadata": {},
   "source": [
    "Let's select some features to explore more.\n",
    "based on above corr matrix we select 3 of high corr (becase if corr is higher it's mean good relation beetwen variables)"
   ]
  },
  {
   "cell_type": "code",
   "execution_count": 61,
   "metadata": {},
   "outputs": [],
   "source": [
    "data = df[['ENGINESIZE','CYLINDERS','FUELCONSUMPTION_COMB','CO2EMISSIONS']]"
   ]
  },
  {
   "cell_type": "code",
   "execution_count": 62,
   "metadata": {},
   "outputs": [
    {
     "data": {
      "image/png": "[encoded data removed]",
      "text/plain": [
       "<Figure size 640x480 with 4 Axes>"
      ]
     },
     "metadata": {},
     "output_type": "display_data"
    }
   ],
   "source": [
    "viz = data[['CYLINDERS','ENGINESIZE','CO2EMISSIONS','FUELCONSUMPTION_COMB']]\n",
    "viz.hist()\n",
    "plt.show()"
   ]
  },
  {
   "cell_type": "code",
   "execution_count": 63,
   "metadata": {},
   "outputs": [
    {
     "data": {
      "image/png": "[encoded data removed]",
      "text/plain": [
       "<Figure size 640x480 with 1 Axes>"
      ]
     },
     "metadata": {},
     "output_type": "display_data"
    }
   ],
   "source": [
    "plt.scatter(data.CYLINDERS, data.CO2EMISSIONS, color='red')\n",
    "plt.xlabel(\"Cylinders\")\n",
    "plt.ylabel(\"Emission\")\n",
    "plt.show()"
   ]
  },
  {
   "cell_type": "code",
   "execution_count": 64,
   "metadata": {},
   "outputs": [
    {
     "data": {
      "image/png": "[encoded data removed]",
      "text/plain": [
       "<Figure size 640x480 with 1 Axes>"
      ]
     },
     "metadata": {},
     "output_type": "display_data"
    }
   ],
   "source": [
    "plt.scatter(data.FUELCONSUMPTION_COMB, data.CO2EMISSIONS, color='red')\n",
    "plt.xlabel(\"FUELCONSUMPTION_COMB\")\n",
    "plt.ylabel(\"Emission\")\n",
    "plt.show()"
   ]
  },
  {
   "cell_type": "code",
   "execution_count": 65,
   "metadata": {},
   "outputs": [
    {
     "data": {
      "image/png": "[encoded data removed]",
      "text/plain": [
       "<Figure size 640x480 with 1 Axes>"
      ]
     },
     "metadata": {},
     "output_type": "display_data"
    }
   ],
   "source": [
    "plt.scatter(data.ENGINESIZE, data.CO2EMISSIONS, color='red')\n",
    "plt.xlabel(\"ENGINESIZE\")\n",
    "plt.ylabel(\"Emission\")\n",
    "plt.show()"
   ]
  },
  {
   "cell_type": "markdown",
   "metadata": {},
   "source": [
    "From above charts we decide to Use ```ENGINESIZE```  for regression\n",
    "\n",
    "Because There is a relatively linear relationship"
   ]
  },
  {
   "cell_type": "markdown",
   "metadata": {},
   "source": [
    "<hr>"
   ]
  },
  {
   "cell_type": "markdown",
   "metadata": {},
   "source": [
    "**Select features for `Regression`**"
   ]
  },
  {
   "cell_type": "code",
   "execution_count": 66,
   "metadata": {},
   "outputs": [],
   "source": [
    "#Function for split data beetwen Train and Split\n",
    "from sklearn.model_selection import train_test_split\n",
    "\n",
    "X = df[['ENGINESIZE', 'CYLINDERS', 'FUELCONSUMPTION_CITY', 'FUELCONSUMPTION_HWY']]\n",
    "y = df['CO2EMISSIONS']\n",
    "\n",
    "# Split the data into training and testing sets\n",
    "X_train, X_test, y_train, y_test = train_test_split(X, y, test_size=0.2, random_state=27)"
   ]
  },
  {
   "cell_type": "markdown",
   "metadata": {},
   "source": [
    "### **`Multilayer Perceptron with Scikit-Learn - Regression`**"
   ]
  },
  {
   "cell_type": "markdown",
   "metadata": {},
   "source": [
    "**Import Libraries**"
   ]
  },
  {
   "cell_type": "code",
   "execution_count": 67,
   "metadata": {},
   "outputs": [],
   "source": [
    "from sklearn.neural_network import MLPRegressor\n",
    "from sklearn.metrics import r2_score"
   ]
  },
  {
   "cell_type": "markdown",
   "metadata": {},
   "source": [
    "Create an instance of the MLPRegressor and train it using the training data."
   ]
  },
  {
   "cell_type": "code",
   "execution_count": 68,
   "metadata": {},
   "outputs": [
    {
     "data": {
      "text/html": [
       "<style>#sk-container-id-2 {color: black;}#sk-container-id-2 pre{padding: 0;}#sk-container-id-2 div.sk-toggleable {background-color: white;}#sk-container-id-2 label.sk-toggleable__label {cursor: pointer;display: block;width: 100%;margin-bottom: 0;padding: 0.3em;box-sizing: border-box;text-align: center;}#sk-container-id-2 label.sk-toggleable__label-arrow:before {content: \"▸\";float: left;margin-right: 0.25em;color: #696969;}#sk-container-id-2 label.sk-toggleable__label-arrow:hover:before {color: black;}#sk-container-id-2 div.sk-estimator:hover label.sk-toggleable__label-arrow:before {color: black;}#sk-container-id-2 div.sk-toggleable__content {max-height: 0;max-width: 0;overflow: hidden;text-align: left;background-color: #f0f8ff;}#sk-container-id-2 div.sk-toggleable__content pre {margin: 0.2em;color: black;border-radius: 0.25em;background-color: #f0f8ff;}#sk-container-id-2 input.sk-toggleable__control:checked~div.sk-toggleable__content {max-height: 200px;max-width: 100%;overflow: auto;}#sk-container-id-2 input.sk-toggleable__control:checked~label.sk-toggleable__label-arrow:before {content: \"▾\";}#sk-container-id-2 div.sk-estimator input.sk-toggleable__control:checked~label.sk-toggleable__label {background-color: #d4ebff;}#sk-container-id-2 div.sk-label input.sk-toggleable__control:checked~label.sk-toggleable__label {background-color: #d4ebff;}#sk-container-id-2 input.sk-hidden--visually {border: 0;clip: rect(1px 1px 1px 1px);clip: rect(1px, 1px, 1px, 1px);height: 1px;margin: -1px;overflow: hidden;padding: 0;position: absolute;width: 1px;}#sk-container-id-2 div.sk-estimator {font-family: monospace;background-color: #f0f8ff;border: 1px dotted black;border-radius: 0.25em;box-sizing: border-box;margin-bottom: 0.5em;}#sk-container-id-2 div.sk-estimator:hover {background-color: #d4ebff;}#sk-container-id-2 div.sk-parallel-item::after {content: \"\";width: 100%;border-bottom: 1px solid gray;flex-grow: 1;}#sk-container-id-2 div.sk-label:hover label.sk-toggleable__label {background-color: #d4ebff;}#sk-container-id-2 div.sk-serial::before {content: \"\";position: absolute;border-left: 1px solid gray;box-sizing: border-box;top: 0;bottom: 0;left: 50%;z-index: 0;}#sk-container-id-2 div.sk-serial {display: flex;flex-direction: column;align-items: center;background-color: white;padding-right: 0.2em;padding-left: 0.2em;position: relative;}#sk-container-id-2 div.sk-item {position: relative;z-index: 1;}#sk-container-id-2 div.sk-parallel {display: flex;align-items: stretch;justify-content: center;background-color: white;position: relative;}#sk-container-id-2 div.sk-item::before, #sk-container-id-2 div.sk-parallel-item::before {content: \"\";position: absolute;border-left: 1px solid gray;box-sizing: border-box;top: 0;bottom: 0;left: 50%;z-index: -1;}#sk-container-id-2 div.sk-parallel-item {display: flex;flex-direction: column;z-index: 1;position: relative;background-color: white;}#sk-container-id-2 div.sk-parallel-item:first-child::after {align-self: flex-end;width: 50%;}#sk-container-id-2 div.sk-parallel-item:last-child::after {align-self: flex-start;width: 50%;}#sk-container-id-2 div.sk-parallel-item:only-child::after {width: 0;}#sk-container-id-2 div.sk-dashed-wrapped {border: 1px dashed gray;margin: 0 0.4em 0.5em 0.4em;box-sizing: border-box;padding-bottom: 0.4em;background-color: white;}#sk-container-id-2 div.sk-label label {font-family: monospace;font-weight: bold;display: inline-block;line-height: 1.2em;}#sk-container-id-2 div.sk-label-container {text-align: center;}#sk-container-id-2 div.sk-container {/* jupyter's `normalize.less` sets `[hidden] { display: none; }` but bootstrap.min.css set `[hidden] { display: none !important; }` so we also need the `!important` here to be able to override the default hidden behavior on the sphinx rendered scikit-learn.org. See: https://github.com/scikit-learn/scikit-learn/issues/21755 */display: inline-block !important;position: relative;}#sk-container-id-2 div.sk-text-repr-fallback {display: none;}</style><div id=\"sk-container-id-2\" class=\"sk-top-container\"><div class=\"sk-text-repr-fallback\"><pre>MLPRegressor(hidden_layer_sizes=(100, 50), max_iter=1000, random_state=27)</pre><b>In a Jupyter environment, please rerun this cell to show the HTML representation or trust the notebook. <br />On GitHub, the HTML representation is unable to render, please try loading this page with nbviewer.org.</b></div><div class=\"sk-container\" hidden><div class=\"sk-item\"><div class=\"sk-estimator sk-toggleable\"><input class=\"sk-toggleable__control sk-hidden--visually\" id=\"sk-estimator-id-2\" type=\"checkbox\" checked><label for=\"sk-estimator-id-2\" class=\"sk-toggleable__label sk-toggleable__label-arrow\">MLPRegressor</label><div class=\"sk-toggleable__content\"><pre>MLPRegressor(hidden_layer_sizes=(100, 50), max_iter=1000, random_state=27)</pre></div></div></div></div></div>"
      ],
      "text/plain": [
       "MLPRegressor(hidden_layer_sizes=(100, 50), max_iter=1000, random_state=27)"
      ]
     },
     "execution_count": 68,
     "metadata": {},
     "output_type": "execute_result"
    }
   ],
   "source": [
    "mlp_model = MLPRegressor(hidden_layer_sizes=(100, 50), max_iter=1000, random_state=27)\n",
    "mlp_model.fit(X_train, y_train)"
   ]
  },
  {
   "cell_type": "markdown",
   "metadata": {},
   "source": [
    "Use the trained model to make predictions on the test data."
   ]
  },
  {
   "cell_type": "code",
   "execution_count": 69,
   "metadata": {},
   "outputs": [],
   "source": [
    "y_pred = mlp_model.predict(X_test)"
   ]
  },
  {
   "cell_type": "markdown",
   "metadata": {},
   "source": [
    "Assess the performance of MLP model. (Our `R2-Score` is above than 0.8)"
   ]
  },
  {
   "cell_type": "code",
   "execution_count": 70,
   "metadata": {},
   "outputs": [
    {
     "data": {
      "text/plain": [
       "0.9551296112925918"
      ]
     },
     "execution_count": 70,
     "metadata": {},
     "output_type": "execute_result"
    }
   ],
   "source": [
    "r2_score(y_test, y_pred)"
   ]
  },
  {
   "cell_type": "markdown",
   "metadata": {},
   "source": [
    "### **`4-layer feedforward network with Keras - Regression`**"
   ]
  },
  {
   "cell_type": "code",
   "execution_count": 71,
   "metadata": {},
   "outputs": [],
   "source": [
    "from sklearn.preprocessing import StandardScaler\n",
    "from keras.models import Sequential\n",
    "from keras.layers import Dense"
   ]
  },
  {
   "cell_type": "markdown",
   "metadata": {},
   "source": [
    "**Normalization/Standardization**\n",
    "\n",
    "The data is standardized using `StandardScaler` to scale the features."
   ]
  },
  {
   "cell_type": "code",
   "execution_count": 72,
   "metadata": {},
   "outputs": [],
   "source": [
    "# Standardize the features\n",
    "scaler = StandardScaler()\n",
    "X_train_scaled = scaler.fit_transform(X_train)\n",
    "X_test_scaled = scaler.transform(X_test)"
   ]
  },
  {
   "cell_type": "markdown",
   "metadata": {},
   "source": [
    "**Build NN model**\n",
    "\n",
    "We use `Sequential` from Keras to create a sequential model.\n",
    "\n",
    "The `Dense` layers define fully connected layers in the neural network."
   ]
  },
  {
   "cell_type": "code",
   "execution_count": 96,
   "metadata": {},
   "outputs": [],
   "source": [
    "# Build the neural network model\n",
    "\n",
    "model = Sequential()\n",
    "# Add a layer with 64 hidden neurons\n",
    "model.add(Dense(64, input_dim=X_train_scaled.shape[1], activation='relu'))\n",
    "# Add a layer with 32 hidden neurons\n",
    "model.add(Dense(32, activation='relu'))\n",
    "# Add a layer with 16 hidden neurons\n",
    "model.add(Dense(16, activation='relu'))\n",
    "# Add the output layer, with sigmoid activation fuction (to predict the rain)\n",
    "model.add(Dense(1, activation='linear'))"
   ]
  },
  {
   "cell_type": "markdown",
   "metadata": {},
   "source": [
    "**Model Training**\n",
    "\n",
    "The activation functions used are `relu` for hidden layers and `linear` for the output layer as it is a regression task.\n",
    "\n",
    "The model is compiled using the `Adam` optimizer and mean squared error as the loss function."
   ]
  },
  {
   "cell_type": "code",
   "execution_count": 109,
   "metadata": {},
   "outputs": [
    {
     "name": "stdout",
     "output_type": "stream",
     "text": [
      "Epoch 1/100\n",
      "WARNING:tensorflow:From d:\\Teias\\Usage\\Term-1\\ADS\\Assignments\\ads-course\\env\\lib\\site-packages\\keras\\src\\engine\\base_layer_utils.py:384: The name tf.executing_eagerly_outside_functions is deprecated. Please use tf.compat.v1.executing_eagerly_outside_functions instead.\n",
      "\n",
      "22/22 [==============================] - 1s 9ms/step - loss: 262.4727 - mse: 262.4727 - val_loss: 122.2249 - val_mse: 122.2249\n",
      "Epoch 2/100\n",
      "22/22 [==============================] - 0s 3ms/step - loss: 256.5954 - mse: 256.5954 - val_loss: 110.3869 - val_mse: 110.3869\n",
      "Epoch 3/100\n",
      "22/22 [==============================] - 0s 3ms/step - loss: 252.8680 - mse: 252.8680 - val_loss: 112.9725 - val_mse: 112.9725\n",
      "Epoch 4/100\n",
      "22/22 [==============================] - 0s 3ms/step - loss: 254.9128 - mse: 254.9128 - val_loss: 120.9204 - val_mse: 120.9204\n",
      "Epoch 5/100\n",
      "22/22 [==============================] - 0s 3ms/step - loss: 270.9433 - mse: 270.9433 - val_loss: 106.4052 - val_mse: 106.4052\n",
      "Epoch 6/100\n",
      "22/22 [==============================] - 0s 3ms/step - loss: 259.6281 - mse: 259.6281 - val_loss: 113.0173 - val_mse: 113.0173\n",
      "Epoch 7/100\n",
      "22/22 [==============================] - 0s 4ms/step - loss: 250.7563 - mse: 250.7563 - val_loss: 108.7330 - val_mse: 108.7330\n",
      "Epoch 8/100\n",
      "22/22 [==============================] - 0s 3ms/step - loss: 252.0319 - mse: 252.0319 - val_loss: 105.6806 - val_mse: 105.6806\n",
      "Epoch 9/100\n",
      "22/22 [==============================] - 0s 3ms/step - loss: 255.6056 - mse: 255.6056 - val_loss: 102.4043 - val_mse: 102.4043\n",
      "Epoch 10/100\n",
      "22/22 [==============================] - 0s 3ms/step - loss: 251.5595 - mse: 251.5595 - val_loss: 106.3444 - val_mse: 106.3444\n",
      "Epoch 11/100\n",
      "22/22 [==============================] - 0s 3ms/step - loss: 251.3613 - mse: 251.3613 - val_loss: 107.3431 - val_mse: 107.3431\n",
      "Epoch 12/100\n",
      "22/22 [==============================] - 0s 3ms/step - loss: 258.6578 - mse: 258.6578 - val_loss: 105.9286 - val_mse: 105.9286\n",
      "Epoch 13/100\n",
      "22/22 [==============================] - 0s 3ms/step - loss: 255.0546 - mse: 255.0546 - val_loss: 109.1748 - val_mse: 109.1748\n",
      "Epoch 14/100\n",
      "22/22 [==============================] - 0s 3ms/step - loss: 251.6853 - mse: 251.6853 - val_loss: 111.0299 - val_mse: 111.0299\n",
      "Epoch 15/100\n",
      "22/22 [==============================] - 0s 4ms/step - loss: 252.1284 - mse: 252.1284 - val_loss: 110.3917 - val_mse: 110.3917\n",
      "Epoch 16/100\n",
      "22/22 [==============================] - 0s 3ms/step - loss: 253.9110 - mse: 253.9110 - val_loss: 123.4814 - val_mse: 123.4814\n",
      "Epoch 17/100\n",
      "22/22 [==============================] - 0s 3ms/step - loss: 251.2957 - mse: 251.2957 - val_loss: 101.9644 - val_mse: 101.9644\n",
      "Epoch 18/100\n",
      "22/22 [==============================] - 0s 3ms/step - loss: 249.2702 - mse: 249.2702 - val_loss: 117.5265 - val_mse: 117.5265\n",
      "Epoch 19/100\n",
      "22/22 [==============================] - 0s 3ms/step - loss: 260.7356 - mse: 260.7356 - val_loss: 110.9890 - val_mse: 110.9890\n",
      "Epoch 20/100\n",
      "22/22 [==============================] - 0s 3ms/step - loss: 249.3196 - mse: 249.3196 - val_loss: 104.1514 - val_mse: 104.1514\n",
      "Epoch 21/100\n",
      "22/22 [==============================] - 0s 3ms/step - loss: 249.7533 - mse: 249.7533 - val_loss: 118.1439 - val_mse: 118.1439\n",
      "Epoch 22/100\n",
      "22/22 [==============================] - 0s 3ms/step - loss: 257.9429 - mse: 257.9429 - val_loss: 100.2841 - val_mse: 100.2841\n",
      "Epoch 23/100\n",
      "22/22 [==============================] - 0s 3ms/step - loss: 263.0584 - mse: 263.0584 - val_loss: 101.3438 - val_mse: 101.3438\n",
      "Epoch 24/100\n",
      "22/22 [==============================] - 0s 3ms/step - loss: 252.2459 - mse: 252.2459 - val_loss: 101.7160 - val_mse: 101.7160\n",
      "Epoch 25/100\n",
      "22/22 [==============================] - 0s 3ms/step - loss: 256.3238 - mse: 256.3238 - val_loss: 110.6748 - val_mse: 110.6748\n",
      "Epoch 26/100\n",
      "22/22 [==============================] - 0s 3ms/step - loss: 249.2112 - mse: 249.2112 - val_loss: 103.6271 - val_mse: 103.6271\n",
      "Epoch 27/100\n",
      "22/22 [==============================] - 0s 3ms/step - loss: 251.9995 - mse: 251.9995 - val_loss: 102.7495 - val_mse: 102.7495\n",
      "Epoch 28/100\n",
      "22/22 [==============================] - 0s 4ms/step - loss: 249.1423 - mse: 249.1423 - val_loss: 109.7776 - val_mse: 109.7776\n",
      "Epoch 29/100\n",
      "22/22 [==============================] - 0s 3ms/step - loss: 248.3712 - mse: 248.3712 - val_loss: 101.0942 - val_mse: 101.0942\n",
      "Epoch 30/100\n",
      "22/22 [==============================] - 0s 3ms/step - loss: 250.4472 - mse: 250.4472 - val_loss: 101.5880 - val_mse: 101.5880\n",
      "Epoch 31/100\n",
      "22/22 [==============================] - 0s 3ms/step - loss: 262.0024 - mse: 262.0024 - val_loss: 108.6638 - val_mse: 108.6638\n",
      "Epoch 32/100\n",
      "22/22 [==============================] - 0s 3ms/step - loss: 250.3670 - mse: 250.3670 - val_loss: 101.1505 - val_mse: 101.1505\n",
      "Epoch 33/100\n",
      "22/22 [==============================] - 0s 3ms/step - loss: 244.9173 - mse: 244.9173 - val_loss: 107.9274 - val_mse: 107.9274\n",
      "Epoch 34/100\n",
      "22/22 [==============================] - 0s 3ms/step - loss: 253.0992 - mse: 253.0992 - val_loss: 100.3452 - val_mse: 100.3452\n",
      "Epoch 35/100\n",
      "22/22 [==============================] - 0s 3ms/step - loss: 245.2925 - mse: 245.2925 - val_loss: 101.9158 - val_mse: 101.9158\n",
      "Epoch 36/100\n",
      "22/22 [==============================] - 0s 3ms/step - loss: 261.7686 - mse: 261.7686 - val_loss: 102.4936 - val_mse: 102.4936\n",
      "Epoch 37/100\n",
      "22/22 [==============================] - 0s 3ms/step - loss: 247.4641 - mse: 247.4641 - val_loss: 100.6939 - val_mse: 100.6939\n",
      "Epoch 38/100\n",
      "22/22 [==============================] - 0s 3ms/step - loss: 249.0942 - mse: 249.0942 - val_loss: 101.7137 - val_mse: 101.7137\n",
      "Epoch 39/100\n",
      "22/22 [==============================] - 0s 3ms/step - loss: 250.2093 - mse: 250.2093 - val_loss: 102.3177 - val_mse: 102.3177\n",
      "Epoch 40/100\n",
      "22/22 [==============================] - 0s 3ms/step - loss: 250.7976 - mse: 250.7976 - val_loss: 108.2662 - val_mse: 108.2662\n",
      "Epoch 41/100\n",
      "22/22 [==============================] - 0s 3ms/step - loss: 249.9245 - mse: 249.9245 - val_loss: 104.4900 - val_mse: 104.4900\n",
      "Epoch 42/100\n",
      "22/22 [==============================] - 0s 4ms/step - loss: 251.0305 - mse: 251.0305 - val_loss: 105.1731 - val_mse: 105.1731\n",
      "Epoch 43/100\n",
      "22/22 [==============================] - 0s 3ms/step - loss: 244.8145 - mse: 244.8145 - val_loss: 105.8871 - val_mse: 105.8871\n",
      "Epoch 44/100\n",
      "22/22 [==============================] - 0s 3ms/step - loss: 244.9386 - mse: 244.9386 - val_loss: 131.7090 - val_mse: 131.7090\n",
      "Epoch 45/100\n",
      "22/22 [==============================] - 0s 3ms/step - loss: 247.3667 - mse: 247.3667 - val_loss: 100.6741 - val_mse: 100.6741\n",
      "Epoch 46/100\n",
      "22/22 [==============================] - 0s 3ms/step - loss: 245.5324 - mse: 245.5324 - val_loss: 99.3151 - val_mse: 99.3151\n",
      "Epoch 47/100\n",
      "22/22 [==============================] - 0s 3ms/step - loss: 246.4243 - mse: 246.4243 - val_loss: 103.0573 - val_mse: 103.0573\n",
      "Epoch 48/100\n",
      "22/22 [==============================] - 0s 3ms/step - loss: 247.4937 - mse: 247.4937 - val_loss: 110.2458 - val_mse: 110.2458\n",
      "Epoch 49/100\n",
      "22/22 [==============================] - 0s 3ms/step - loss: 242.7404 - mse: 242.7404 - val_loss: 105.1048 - val_mse: 105.1048\n",
      "Epoch 50/100\n",
      "22/22 [==============================] - 0s 4ms/step - loss: 245.9004 - mse: 245.9004 - val_loss: 108.0683 - val_mse: 108.0683\n",
      "Epoch 51/100\n",
      "22/22 [==============================] - 0s 3ms/step - loss: 250.8132 - mse: 250.8132 - val_loss: 105.9797 - val_mse: 105.9797\n",
      "Epoch 52/100\n",
      "22/22 [==============================] - 0s 3ms/step - loss: 240.7590 - mse: 240.7590 - val_loss: 106.1286 - val_mse: 106.1286\n",
      "Epoch 53/100\n",
      "22/22 [==============================] - 0s 3ms/step - loss: 245.4676 - mse: 245.4676 - val_loss: 129.7033 - val_mse: 129.7033\n",
      "Epoch 54/100\n",
      "22/22 [==============================] - 0s 3ms/step - loss: 244.6183 - mse: 244.6183 - val_loss: 103.4117 - val_mse: 103.4117\n",
      "Epoch 55/100\n",
      "22/22 [==============================] - 0s 3ms/step - loss: 246.3541 - mse: 246.3541 - val_loss: 103.0114 - val_mse: 103.0114\n",
      "Epoch 56/100\n",
      "22/22 [==============================] - 0s 3ms/step - loss: 242.6234 - mse: 242.6234 - val_loss: 100.1250 - val_mse: 100.1250\n",
      "Epoch 57/100\n",
      "22/22 [==============================] - 0s 3ms/step - loss: 239.7393 - mse: 239.7393 - val_loss: 109.6186 - val_mse: 109.6186\n",
      "Epoch 58/100\n",
      "22/22 [==============================] - 0s 3ms/step - loss: 242.0528 - mse: 242.0528 - val_loss: 109.7943 - val_mse: 109.7943\n",
      "Epoch 59/100\n",
      "22/22 [==============================] - 0s 3ms/step - loss: 241.1214 - mse: 241.1214 - val_loss: 106.9093 - val_mse: 106.9093\n",
      "Epoch 60/100\n",
      "22/22 [==============================] - 0s 3ms/step - loss: 239.2635 - mse: 239.2635 - val_loss: 106.1124 - val_mse: 106.1124\n",
      "Epoch 61/100\n",
      "22/22 [==============================] - 0s 3ms/step - loss: 245.6893 - mse: 245.6893 - val_loss: 125.0810 - val_mse: 125.0810\n",
      "Epoch 62/100\n",
      "22/22 [==============================] - 0s 3ms/step - loss: 243.5271 - mse: 243.5271 - val_loss: 113.7394 - val_mse: 113.7394\n",
      "Epoch 63/100\n",
      "22/22 [==============================] - 0s 3ms/step - loss: 247.1305 - mse: 247.1305 - val_loss: 108.8005 - val_mse: 108.8005\n",
      "Epoch 64/100\n",
      "22/22 [==============================] - 0s 3ms/step - loss: 239.9807 - mse: 239.9807 - val_loss: 109.5784 - val_mse: 109.5784\n",
      "Epoch 65/100\n",
      "22/22 [==============================] - 0s 3ms/step - loss: 242.4686 - mse: 242.4686 - val_loss: 108.1323 - val_mse: 108.1323\n",
      "Epoch 66/100\n",
      "22/22 [==============================] - 0s 3ms/step - loss: 245.5060 - mse: 245.5060 - val_loss: 112.4431 - val_mse: 112.4431\n",
      "Epoch 67/100\n",
      "22/22 [==============================] - 0s 3ms/step - loss: 248.0255 - mse: 248.0255 - val_loss: 121.4571 - val_mse: 121.4571\n",
      "Epoch 68/100\n",
      "22/22 [==============================] - 0s 3ms/step - loss: 258.0648 - mse: 258.0648 - val_loss: 118.5045 - val_mse: 118.5045\n",
      "Epoch 69/100\n",
      "22/22 [==============================] - 0s 3ms/step - loss: 244.3657 - mse: 244.3657 - val_loss: 109.0424 - val_mse: 109.0424\n",
      "Epoch 70/100\n",
      "22/22 [==============================] - 0s 3ms/step - loss: 239.9811 - mse: 239.9811 - val_loss: 107.1752 - val_mse: 107.1752\n",
      "Epoch 71/100\n",
      "22/22 [==============================] - 0s 3ms/step - loss: 238.6145 - mse: 238.6145 - val_loss: 100.2149 - val_mse: 100.2149\n",
      "Epoch 72/100\n",
      "22/22 [==============================] - 0s 3ms/step - loss: 236.2324 - mse: 236.2324 - val_loss: 98.2075 - val_mse: 98.2075\n",
      "Epoch 73/100\n",
      "22/22 [==============================] - 0s 3ms/step - loss: 236.5840 - mse: 236.5840 - val_loss: 108.9930 - val_mse: 108.9930\n",
      "Epoch 74/100\n",
      "22/22 [==============================] - 0s 3ms/step - loss: 241.8785 - mse: 241.8785 - val_loss: 97.7177 - val_mse: 97.7177\n",
      "Epoch 75/100\n",
      "22/22 [==============================] - 0s 3ms/step - loss: 241.3222 - mse: 241.3222 - val_loss: 124.8826 - val_mse: 124.8826\n",
      "Epoch 76/100\n",
      "22/22 [==============================] - 0s 3ms/step - loss: 244.5048 - mse: 244.5048 - val_loss: 99.4954 - val_mse: 99.4954\n",
      "Epoch 77/100\n",
      "22/22 [==============================] - 0s 3ms/step - loss: 241.2178 - mse: 241.2178 - val_loss: 99.8736 - val_mse: 99.8736\n",
      "Epoch 78/100\n",
      "22/22 [==============================] - 0s 3ms/step - loss: 235.8227 - mse: 235.8227 - val_loss: 99.9984 - val_mse: 99.9984\n",
      "Epoch 79/100\n",
      "22/22 [==============================] - 0s 3ms/step - loss: 238.9958 - mse: 238.9958 - val_loss: 116.5416 - val_mse: 116.5416\n",
      "Epoch 80/100\n",
      "22/22 [==============================] - 0s 3ms/step - loss: 250.6529 - mse: 250.6529 - val_loss: 97.2464 - val_mse: 97.2464\n",
      "Epoch 81/100\n",
      "22/22 [==============================] - 0s 3ms/step - loss: 241.2847 - mse: 241.2847 - val_loss: 97.1987 - val_mse: 97.1987\n",
      "Epoch 82/100\n",
      "22/22 [==============================] - 0s 3ms/step - loss: 236.7873 - mse: 236.7873 - val_loss: 100.1133 - val_mse: 100.1133\n",
      "Epoch 83/100\n",
      "22/22 [==============================] - 0s 3ms/step - loss: 239.8551 - mse: 239.8551 - val_loss: 99.7302 - val_mse: 99.7302\n",
      "Epoch 84/100\n",
      "22/22 [==============================] - 0s 3ms/step - loss: 243.8336 - mse: 243.8336 - val_loss: 99.6264 - val_mse: 99.6264\n",
      "Epoch 85/100\n",
      "22/22 [==============================] - 0s 3ms/step - loss: 241.1875 - mse: 241.1875 - val_loss: 108.1321 - val_mse: 108.1321\n",
      "Epoch 86/100\n",
      "22/22 [==============================] - 0s 3ms/step - loss: 243.0420 - mse: 243.0420 - val_loss: 97.4916 - val_mse: 97.4916\n",
      "Epoch 87/100\n",
      "22/22 [==============================] - 0s 3ms/step - loss: 237.8078 - mse: 237.8078 - val_loss: 102.8059 - val_mse: 102.8059\n",
      "Epoch 88/100\n",
      "22/22 [==============================] - 0s 3ms/step - loss: 240.8009 - mse: 240.8009 - val_loss: 117.8001 - val_mse: 117.8001\n",
      "Epoch 89/100\n",
      "22/22 [==============================] - 0s 3ms/step - loss: 241.4924 - mse: 241.4924 - val_loss: 107.0342 - val_mse: 107.0342\n",
      "Epoch 90/100\n",
      "22/22 [==============================] - 0s 3ms/step - loss: 240.5750 - mse: 240.5750 - val_loss: 106.1863 - val_mse: 106.1863\n",
      "Epoch 91/100\n",
      "22/22 [==============================] - 0s 3ms/step - loss: 240.3106 - mse: 240.3106 - val_loss: 102.9730 - val_mse: 102.9730\n",
      "Epoch 92/100\n",
      "22/22 [==============================] - 0s 3ms/step - loss: 236.2891 - mse: 236.2891 - val_loss: 104.4108 - val_mse: 104.4108\n",
      "Epoch 93/100\n",
      "22/22 [==============================] - 0s 3ms/step - loss: 234.2939 - mse: 234.2939 - val_loss: 97.7823 - val_mse: 97.7823\n",
      "Epoch 94/100\n",
      "22/22 [==============================] - 0s 3ms/step - loss: 246.3930 - mse: 246.3930 - val_loss: 100.5459 - val_mse: 100.5459\n",
      "Epoch 95/100\n",
      "22/22 [==============================] - 0s 3ms/step - loss: 238.4828 - mse: 238.4828 - val_loss: 99.1397 - val_mse: 99.1397\n",
      "Epoch 96/100\n",
      "22/22 [==============================] - 0s 3ms/step - loss: 239.5333 - mse: 239.5333 - val_loss: 99.2288 - val_mse: 99.2288\n",
      "Epoch 97/100\n",
      "22/22 [==============================] - 0s 4ms/step - loss: 229.0452 - mse: 229.0452 - val_loss: 117.1788 - val_mse: 117.1788\n",
      "Epoch 98/100\n",
      "22/22 [==============================] - 0s 3ms/step - loss: 234.8053 - mse: 234.8053 - val_loss: 95.5574 - val_mse: 95.5574\n",
      "Epoch 99/100\n",
      "22/22 [==============================] - 0s 3ms/step - loss: 235.3496 - mse: 235.3496 - val_loss: 98.9059 - val_mse: 98.9059\n",
      "Epoch 100/100\n",
      "22/22 [==============================] - 0s 3ms/step - loss: 235.1548 - mse: 235.1548 - val_loss: 107.5311 - val_mse: 107.5311\n",
      "7/7 [==============================] - 0s 1ms/step\n"
     ]
    }
   ],
   "source": [
    "# Compile the model\n",
    "model.compile(optimizer='adam', loss='mean_squared_error', metrics=['mse'])\n",
    "\n",
    "# Train the model\n",
    "history = model.fit(X_train_scaled, y_train, epochs=100, batch_size=32, validation_split=0.2)\n",
    "\n",
    "# Make predictions on the test set\n",
    "y_pred = model.predict(X_test_scaled).flatten()"
   ]
  },
  {
   "cell_type": "markdown",
   "metadata": {},
   "source": [
    "**Evaluate the model**\n",
    "\n",
    "Finally, we make predictions on the test set and evaluate the model using regression metrics."
   ]
  },
  {
   "cell_type": "code",
   "execution_count": 110,
   "metadata": {},
   "outputs": [
    {
     "data": {
      "text/plain": [
       "0.9660284976254082"
      ]
     },
     "execution_count": 110,
     "metadata": {},
     "output_type": "execute_result"
    }
   ],
   "source": [
    "r2_score(y_test, y_pred)"
   ]
  },
  {
   "cell_type": "markdown",
   "metadata": {},
   "source": [
    "Let's see the progress of our algorithm in each iteration:"
   ]
  },
  {
   "cell_type": "code",
   "execution_count": 113,
   "metadata": {},
   "outputs": [
    {
     "data": {
      "image/png": "[encoded data removed]",
      "text/plain": [
       "<Figure size 2000x800 with 1 Axes>"
      ]
     },
     "metadata": {},
     "output_type": "display_data"
    }
   ],
   "source": [
    "hist_df = pd.DataFrame(history.history)\n",
    "plt.figure(figsize=(20, 8))\n",
    "plt.plot(hist_df['loss'], 'blue', label='Training Loss')\n",
    "plt.plot(hist_df['val_loss'], 'red', label='Validation Loss')\n",
    "plt.xlabel('Epochs')\n",
    "plt.ylabel('Loss')\n",
    "plt.legend(loc=\"best\")\n",
    "\n",
    "plt.show()\n"
   ]
  },
  {
   "cell_type": "markdown",
   "metadata": {},
   "source": [
    "### **`4-layer feedforward network with Pytorch - Regression`**"
   ]
  },
  {
   "cell_type": "markdown",
   "metadata": {},
   "source": [
    "**Import libraries**\n",
    "\n",
    "Importing the necessary PyTorch modules for creating and training the neural network."
   ]
  },
  {
   "cell_type": "code",
   "execution_count": 115,
   "metadata": {},
   "outputs": [],
   "source": [
    "import torch\n",
    "import torch.nn as nn\n",
    "import torch.optim as optim\n",
    "from torch.utils.data import DataLoader, TensorDataset"
   ]
  },
  {
   "cell_type": "markdown",
   "metadata": {},
   "source": [
    "**Preparing Data**\n",
    "\n",
    "Converting the training data (`X_train_scaled` and `y_train`) to PyTorch tensors."
   ]
  },
  {
   "cell_type": "code",
   "execution_count": 122,
   "metadata": {},
   "outputs": [],
   "source": [
    "# Assuming X_train_scaled and y_train are your scaled feature matrix and target variable\n",
    "X_train_tensor = torch.FloatTensor(X_train_scaled)\n",
    "y_train_tensor = torch.FloatTensor(y_train.values.reshape(-1, 1))\n",
    "X_test_tensor = torch.FloatTensor(X_test_scaled)\n",
    "y_test_tensor = torch.FloatTensor(y_test.values.reshape(-1, 1))"
   ]
  },
  {
   "cell_type": "markdown",
   "metadata": {},
   "source": [
    "**Set Hyperparameters**\n",
    "\n",
    "Defining hyperparameters such as the input size, sizes of hidden layers, output size, learning rate, and the number of training epochs."
   ]
  },
  {
   "cell_type": "code",
   "execution_count": 123,
   "metadata": {},
   "outputs": [],
   "source": [
    "# Hyperparameters\n",
    "input_size = X_train_tensor.shape[1]\n",
    "hidden_size1 = 64\n",
    "hidden_size2 = 32\n",
    "hidden_size3 = 16\n",
    "output_size = 1\n",
    "learning_rate = 0.001\n",
    "num_epochs = 100"
   ]
  },
  {
   "cell_type": "markdown",
   "metadata": {},
   "source": [
    "**Model Definition**\n",
    "\n",
    "Creating a sequential neural network model with four linear layers and ReLU activation functions."
   ]
  },
  {
   "cell_type": "code",
   "execution_count": 124,
   "metadata": {},
   "outputs": [],
   "source": [
    "# Define the model\n",
    "model = nn.Sequential(\n",
    "    nn.Linear(input_size, hidden_size1),\n",
    "    nn.ReLU(),\n",
    "    nn.Linear(hidden_size1, hidden_size2),\n",
    "    nn.ReLU(),\n",
    "    nn.Linear(hidden_size2, hidden_size3),\n",
    "    nn.ReLU(),\n",
    "    nn.Linear(hidden_size3, output_size)\n",
    ")"
   ]
  },
  {
   "cell_type": "markdown",
   "metadata": {},
   "source": [
    "**Loss Function and Optimizer**\n",
    "\n",
    "Defining Mean Squared Error (MSE) as the loss function and using the Adam optimizer."
   ]
  },
  {
   "cell_type": "code",
   "execution_count": 125,
   "metadata": {},
   "outputs": [],
   "source": [
    "# Loss function and optimizer\n",
    "criterion = nn.MSELoss()\n",
    "optimizer = optim.Adam(model.parameters(), lr=learning_rate)"
   ]
  },
  {
   "cell_type": "markdown",
   "metadata": {},
   "source": [
    "**Data Loading**\n",
    "\n",
    "Creating a PyTorch DataLoader to handle batching during training."
   ]
  },
  {
   "cell_type": "code",
   "execution_count": 126,
   "metadata": {},
   "outputs": [],
   "source": [
    "train_dataset = TensorDataset(X_train_tensor, y_train_tensor)\n",
    "train_loader = DataLoader(train_dataset, batch_size=32, shuffle=True)"
   ]
  },
  {
   "cell_type": "markdown",
   "metadata": {},
   "source": [
    "**Training Loop**\n",
    "\n",
    "Iterating through epochs and batches, performing forward and backward passes, and updating the model parameters."
   ]
  },
  {
   "cell_type": "code",
   "execution_count": 127,
   "metadata": {},
   "outputs": [
    {
     "name": "stdout",
     "output_type": "stream",
     "text": [
      "Epoch [10/100], Loss: 6726.5708\n",
      "Epoch [20/100], Loss: 1040.7782\n",
      "Epoch [30/100], Loss: 578.1411\n",
      "Epoch [40/100], Loss: 351.9195\n",
      "Epoch [50/100], Loss: 231.2440\n",
      "Epoch [60/100], Loss: 970.0153\n",
      "Epoch [70/100], Loss: 309.5101\n",
      "Epoch [80/100], Loss: 336.6777\n",
      "Epoch [90/100], Loss: 488.8773\n",
      "Epoch [100/100], Loss: 128.6442\n"
     ]
    }
   ],
   "source": [
    "# Training loop\n",
    "for epoch in range(num_epochs):\n",
    "    for inputs, targets in train_loader:\n",
    "        optimizer.zero_grad()\n",
    "        outputs = model(inputs)\n",
    "        loss = criterion(outputs, targets)\n",
    "        loss.backward()\n",
    "        optimizer.step()\n",
    "\n",
    "    if (epoch + 1) % 10 == 0:\n",
    "        print(f'Epoch [{epoch+1}/{num_epochs}], Loss: {loss.item():.4f}')"
   ]
  },
  {
   "cell_type": "markdown",
   "metadata": {},
   "source": [
    "**Make Predictions**\n",
    "\n",
    "Use trained model to make predictions on the test set:"
   ]
  },
  {
   "cell_type": "code",
   "execution_count": 128,
   "metadata": {},
   "outputs": [],
   "source": [
    "with torch.no_grad():\n",
    "    model.eval()  # Set the model to evaluation mode\n",
    "    y_pred = model(X_test_tensor)"
   ]
  },
  {
   "cell_type": "markdown",
   "metadata": {},
   "source": [
    "**Evaluate Performance**\n",
    "\n",
    "Use appropriate metrics to evaluate the performance of your model."
   ]
  },
  {
   "cell_type": "code",
   "execution_count": 130,
   "metadata": {},
   "outputs": [
    {
     "data": {
      "text/plain": [
       "0.9473968175450319"
      ]
     },
     "execution_count": 130,
     "metadata": {},
     "output_type": "execute_result"
    }
   ],
   "source": [
    "# Assuming you already have y_test_tensor and y_pred\n",
    "y_test_numpy = y_test_tensor.numpy()\n",
    "y_pred_numpy = y_pred.numpy()\n",
    "\n",
    "# Calculate R-squared\n",
    "r2_score(y_test_numpy, y_pred_numpy)"
   ]
  },
  {
   "cell_type": "markdown",
   "metadata": {},
   "source": [
    "**Visualize Predictions**"
   ]
  },
  {
   "cell_type": "code",
   "execution_count": 132,
   "metadata": {},
   "outputs": [
    {
     "data": {
      "image/png": "[encoded data removed]",
      "text/plain": [
       "<Figure size 640x480 with 1 Axes>"
      ]
     },
     "metadata": {},
     "output_type": "display_data"
    }
   ],
   "source": [
    "y_test_numpy = y_test_tensor.numpy()\n",
    "y_pred_numpy = y_pred.numpy()\n",
    "\n",
    "plt.scatter(y_test_numpy, y_pred_numpy, c='blue', label='Data Points')\n",
    "plt.plot([min(y_test_numpy), max(y_test_numpy)], [min(y_test_numpy), max(y_test_numpy)], '--', c='red', label='Perfect Fit')\n",
    "plt.xlabel('Actual Values')\n",
    "plt.ylabel('Predicted Values')\n",
    "plt.title('Actual vs Predicted Values')\n",
    "plt.legend()\n",
    "plt.show()\n"
   ]
  },
  {
   "cell_type": "markdown",
   "metadata": {},
   "source": [
    "### **`4-layer non-sequential feedforward network with Keras - Regression`**"
   ]
  },
  {
   "cell_type": "markdown",
   "metadata": {},
   "source": [
    "**Import Libraries**\n",
    "\n",
    "Here, we import the necessary libraries from TensorFlow and Keras."
   ]
  },
  {
   "cell_type": "code",
   "execution_count": 133,
   "metadata": {},
   "outputs": [],
   "source": [
    "import tensorflow as tf\n",
    "from tensorflow.keras.layers import Input, Dense\n",
    "from tensorflow.keras.models import Model"
   ]
  },
  {
   "cell_type": "markdown",
   "metadata": {},
   "source": [
    "**Define input layer**\n",
    "\n",
    "creates an input layer that takes input with a shape of `(input_dim,)`"
   ]
  },
  {
   "cell_type": "code",
   "execution_count": 135,
   "metadata": {},
   "outputs": [],
   "source": [
    "input_dim = X_train.shape[1]\n",
    "input_layer = Input(shape=(X_train_scaled.shape[1],))"
   ]
  },
  {
   "cell_type": "markdown",
   "metadata": {},
   "source": [
    "**Define Hidden Layers**\n",
    "\n",
    "define fully connected (dense) hidden layers with a specified number of units and ReLU activation function.\n",
    "\n",
    "Each layer takes the output of the previous layer as its input."
   ]
  },
  {
   "cell_type": "code",
   "execution_count": 136,
   "metadata": {},
   "outputs": [],
   "source": [
    "hidden_layer1 = Dense(64, activation='relu')(input_layer)\n",
    "hidden_layer2 = Dense(32, activation='relu')(hidden_layer1)\n",
    "hidden_layer3 = Dense(16, activation='relu')(hidden_layer2)"
   ]
  },
  {
   "cell_type": "markdown",
   "metadata": {},
   "source": [
    "**Define Output Layer**\n",
    "\n",
    "define the output layer with 1 unit (for regression) and a linear activation function.\n"
   ]
  },
  {
   "cell_type": "code",
   "execution_count": 137,
   "metadata": {},
   "outputs": [],
   "source": [
    "output_layer = Dense(1, activation='linear')(hidden_layer3)"
   ]
  },
  {
   "cell_type": "markdown",
   "metadata": {},
   "source": [
    "**Create the Model**\n",
    "\n",
    "create a Keras Model, specifying the input and output layers."
   ]
  },
  {
   "cell_type": "code",
   "execution_count": 138,
   "metadata": {},
   "outputs": [],
   "source": [
    "model = Model(inputs=input_layer, outputs=output_layer)"
   ]
  },
  {
   "cell_type": "markdown",
   "metadata": {},
   "source": [
    "**Compile the model**"
   ]
  },
  {
   "cell_type": "code",
   "execution_count": 139,
   "metadata": {},
   "outputs": [],
   "source": [
    "model.compile(optimizer='adam', loss='mean_squared_error')"
   ]
  },
  {
   "cell_type": "markdown",
   "metadata": {},
   "source": [
    "**Train the model**"
   ]
  },
  {
   "cell_type": "code",
   "execution_count": 141,
   "metadata": {},
   "outputs": [
    {
     "name": "stdout",
     "output_type": "stream",
     "text": [
      "Epoch 1/100\n",
      "22/22 [==============================] - 1s 8ms/step - loss: 69840.3594 - val_loss: 67569.6797\n",
      "Epoch 2/100\n",
      "22/22 [==============================] - 0s 3ms/step - loss: 68459.8516 - val_loss: 65152.1797\n",
      "Epoch 3/100\n",
      "22/22 [==============================] - 0s 3ms/step - loss: 64120.0781 - val_loss: 57615.9258\n",
      "Epoch 4/100\n",
      "22/22 [==============================] - 0s 3ms/step - loss: 51814.9102 - val_loss: 39260.9141\n",
      "Epoch 5/100\n",
      "22/22 [==============================] - 0s 3ms/step - loss: 29372.6387 - val_loss: 16249.3799\n",
      "Epoch 6/100\n",
      "22/22 [==============================] - 0s 3ms/step - loss: 14095.6895 - val_loss: 10745.4014\n",
      "Epoch 7/100\n",
      "22/22 [==============================] - 0s 3ms/step - loss: 11100.4482 - val_loss: 9091.5332\n",
      "Epoch 8/100\n",
      "22/22 [==============================] - 0s 3ms/step - loss: 9372.3604 - val_loss: 7615.1943\n",
      "Epoch 9/100\n",
      "22/22 [==============================] - 0s 3ms/step - loss: 7769.9844 - val_loss: 6168.9868\n",
      "Epoch 10/100\n",
      "22/22 [==============================] - 0s 3ms/step - loss: 6302.6562 - val_loss: 4979.2026\n",
      "Epoch 11/100\n",
      "22/22 [==============================] - 0s 3ms/step - loss: 4976.6255 - val_loss: 3918.5208\n",
      "Epoch 12/100\n",
      "22/22 [==============================] - 0s 4ms/step - loss: 3841.8538 - val_loss: 2963.0088\n",
      "Epoch 13/100\n",
      "22/22 [==============================] - 0s 4ms/step - loss: 2911.2297 - val_loss: 2230.2949\n",
      "Epoch 14/100\n",
      "22/22 [==============================] - 0s 3ms/step - loss: 2198.4988 - val_loss: 1723.5360\n",
      "Epoch 15/100\n",
      "22/22 [==============================] - 0s 3ms/step - loss: 1716.9758 - val_loss: 1368.0892\n",
      "Epoch 16/100\n",
      "22/22 [==============================] - 0s 3ms/step - loss: 1397.0223 - val_loss: 1123.0450\n",
      "Epoch 17/100\n",
      "22/22 [==============================] - 0s 3ms/step - loss: 1180.5126 - val_loss: 958.2772\n",
      "Epoch 18/100\n",
      "22/22 [==============================] - 0s 4ms/step - loss: 1021.5205 - val_loss: 824.6289\n",
      "Epoch 19/100\n",
      "22/22 [==============================] - 0s 3ms/step - loss: 920.4048 - val_loss: 742.3420\n",
      "Epoch 20/100\n",
      "22/22 [==============================] - 0s 3ms/step - loss: 848.8973 - val_loss: 677.8101\n",
      "Epoch 21/100\n",
      "22/22 [==============================] - 0s 3ms/step - loss: 789.6190 - val_loss: 618.0025\n",
      "Epoch 22/100\n",
      "22/22 [==============================] - 0s 3ms/step - loss: 752.7222 - val_loss: 590.6665\n",
      "Epoch 23/100\n",
      "22/22 [==============================] - 0s 3ms/step - loss: 730.2843 - val_loss: 565.3961\n",
      "Epoch 24/100\n",
      "22/22 [==============================] - 0s 3ms/step - loss: 716.1356 - val_loss: 562.3727\n",
      "Epoch 25/100\n",
      "22/22 [==============================] - 0s 4ms/step - loss: 684.3712 - val_loss: 521.1311\n",
      "Epoch 26/100\n",
      "22/22 [==============================] - 0s 3ms/step - loss: 681.4354 - val_loss: 521.6617\n",
      "Epoch 27/100\n",
      "22/22 [==============================] - 0s 3ms/step - loss: 671.5585 - val_loss: 497.2176\n",
      "Epoch 28/100\n",
      "22/22 [==============================] - 0s 3ms/step - loss: 662.5881 - val_loss: 492.3879\n",
      "Epoch 29/100\n",
      "22/22 [==============================] - 0s 3ms/step - loss: 645.5495 - val_loss: 487.5019\n",
      "Epoch 30/100\n",
      "22/22 [==============================] - 0s 3ms/step - loss: 637.5528 - val_loss: 477.3372\n",
      "Epoch 31/100\n",
      "22/22 [==============================] - 0s 3ms/step - loss: 635.3580 - val_loss: 476.8105\n",
      "Epoch 32/100\n",
      "22/22 [==============================] - 0s 3ms/step - loss: 632.3858 - val_loss: 473.7592\n",
      "Epoch 33/100\n",
      "22/22 [==============================] - 0s 3ms/step - loss: 629.1937 - val_loss: 462.5605\n",
      "Epoch 34/100\n",
      "22/22 [==============================] - 0s 3ms/step - loss: 640.3383 - val_loss: 465.3270\n",
      "Epoch 35/100\n",
      "22/22 [==============================] - 0s 3ms/step - loss: 622.0526 - val_loss: 468.0858\n",
      "Epoch 36/100\n",
      "22/22 [==============================] - 0s 3ms/step - loss: 612.1727 - val_loss: 452.1787\n",
      "Epoch 37/100\n",
      "22/22 [==============================] - 0s 3ms/step - loss: 608.6723 - val_loss: 447.3018\n",
      "Epoch 38/100\n",
      "22/22 [==============================] - 0s 5ms/step - loss: 601.9540 - val_loss: 458.1988\n",
      "Epoch 39/100\n",
      "22/22 [==============================] - 0s 3ms/step - loss: 605.8231 - val_loss: 446.2745\n",
      "Epoch 40/100\n",
      "22/22 [==============================] - 0s 3ms/step - loss: 599.5141 - val_loss: 442.2240\n",
      "Epoch 41/100\n",
      "22/22 [==============================] - 0s 3ms/step - loss: 596.5652 - val_loss: 437.9565\n",
      "Epoch 42/100\n",
      "22/22 [==============================] - 0s 3ms/step - loss: 602.6024 - val_loss: 439.1661\n",
      "Epoch 43/100\n",
      "22/22 [==============================] - 0s 3ms/step - loss: 596.8096 - val_loss: 457.0074\n",
      "Epoch 44/100\n",
      "22/22 [==============================] - 0s 3ms/step - loss: 591.0681 - val_loss: 435.0558\n",
      "Epoch 45/100\n",
      "22/22 [==============================] - 0s 3ms/step - loss: 591.0299 - val_loss: 434.4621\n",
      "Epoch 46/100\n",
      "22/22 [==============================] - 0s 3ms/step - loss: 589.6187 - val_loss: 444.3520\n",
      "Epoch 47/100\n",
      "22/22 [==============================] - 0s 3ms/step - loss: 606.1029 - val_loss: 428.7201\n",
      "Epoch 48/100\n",
      "22/22 [==============================] - 0s 3ms/step - loss: 588.1888 - val_loss: 425.8934\n",
      "Epoch 49/100\n",
      "22/22 [==============================] - 0s 3ms/step - loss: 580.8452 - val_loss: 443.7414\n",
      "Epoch 50/100\n",
      "22/22 [==============================] - 0s 3ms/step - loss: 585.6325 - val_loss: 425.7324\n",
      "Epoch 51/100\n",
      "22/22 [==============================] - 0s 3ms/step - loss: 587.3950 - val_loss: 440.9435\n",
      "Epoch 52/100\n",
      "22/22 [==============================] - 0s 3ms/step - loss: 580.1050 - val_loss: 426.4472\n",
      "Epoch 53/100\n",
      "22/22 [==============================] - 0s 3ms/step - loss: 594.2583 - val_loss: 444.9027\n",
      "Epoch 54/100\n",
      "22/22 [==============================] - 0s 3ms/step - loss: 580.3097 - val_loss: 442.8750\n",
      "Epoch 55/100\n",
      "22/22 [==============================] - 0s 3ms/step - loss: 596.9938 - val_loss: 425.6624\n",
      "Epoch 56/100\n",
      "22/22 [==============================] - 0s 3ms/step - loss: 578.6805 - val_loss: 430.1591\n",
      "Epoch 57/100\n",
      "22/22 [==============================] - 0s 3ms/step - loss: 578.3659 - val_loss: 418.2208\n",
      "Epoch 58/100\n",
      "22/22 [==============================] - 0s 3ms/step - loss: 582.2891 - val_loss: 433.9682\n",
      "Epoch 59/100\n",
      "22/22 [==============================] - 0s 3ms/step - loss: 581.3860 - val_loss: 427.0780\n",
      "Epoch 60/100\n",
      "22/22 [==============================] - 0s 3ms/step - loss: 576.9236 - val_loss: 422.8653\n",
      "Epoch 61/100\n",
      "22/22 [==============================] - 0s 3ms/step - loss: 572.5500 - val_loss: 434.1499\n",
      "Epoch 62/100\n",
      "22/22 [==============================] - 0s 3ms/step - loss: 577.9103 - val_loss: 436.4357\n",
      "Epoch 63/100\n",
      "22/22 [==============================] - 0s 3ms/step - loss: 592.7130 - val_loss: 432.8373\n",
      "Epoch 64/100\n",
      "22/22 [==============================] - 0s 3ms/step - loss: 575.9142 - val_loss: 423.1501\n",
      "Epoch 65/100\n",
      "22/22 [==============================] - 0s 3ms/step - loss: 572.7458 - val_loss: 416.0060\n",
      "Epoch 66/100\n",
      "22/22 [==============================] - 0s 3ms/step - loss: 581.7849 - val_loss: 414.7673\n",
      "Epoch 67/100\n",
      "22/22 [==============================] - 0s 3ms/step - loss: 565.6907 - val_loss: 432.2007\n",
      "Epoch 68/100\n",
      "22/22 [==============================] - 0s 3ms/step - loss: 561.4764 - val_loss: 402.6993\n",
      "Epoch 69/100\n",
      "22/22 [==============================] - 0s 3ms/step - loss: 565.9123 - val_loss: 438.8259\n",
      "Epoch 70/100\n",
      "22/22 [==============================] - 0s 3ms/step - loss: 556.6971 - val_loss: 390.2733\n",
      "Epoch 71/100\n",
      "22/22 [==============================] - 0s 3ms/step - loss: 545.7430 - val_loss: 380.0015\n",
      "Epoch 72/100\n",
      "22/22 [==============================] - 0s 3ms/step - loss: 538.6857 - val_loss: 372.6053\n",
      "Epoch 73/100\n",
      "22/22 [==============================] - 0s 3ms/step - loss: 532.5258 - val_loss: 364.0774\n",
      "Epoch 74/100\n",
      "22/22 [==============================] - 0s 3ms/step - loss: 522.1161 - val_loss: 362.0998\n",
      "Epoch 75/100\n",
      "22/22 [==============================] - 0s 3ms/step - loss: 528.2253 - val_loss: 344.9847\n",
      "Epoch 76/100\n",
      "22/22 [==============================] - 0s 3ms/step - loss: 502.1545 - val_loss: 343.2358\n",
      "Epoch 77/100\n",
      "22/22 [==============================] - 0s 3ms/step - loss: 506.9065 - val_loss: 319.3719\n",
      "Epoch 78/100\n",
      "22/22 [==============================] - 0s 3ms/step - loss: 498.2621 - val_loss: 323.2554\n",
      "Epoch 79/100\n",
      "22/22 [==============================] - 0s 3ms/step - loss: 481.2891 - val_loss: 307.0283\n",
      "Epoch 80/100\n",
      "22/22 [==============================] - 0s 3ms/step - loss: 472.7353 - val_loss: 299.0037\n",
      "Epoch 81/100\n",
      "22/22 [==============================] - 0s 3ms/step - loss: 464.9669 - val_loss: 331.0655\n",
      "Epoch 82/100\n",
      "22/22 [==============================] - 0s 3ms/step - loss: 462.5910 - val_loss: 280.2796\n",
      "Epoch 83/100\n",
      "22/22 [==============================] - 0s 3ms/step - loss: 448.6855 - val_loss: 274.5749\n",
      "Epoch 84/100\n",
      "22/22 [==============================] - 0s 3ms/step - loss: 442.6556 - val_loss: 264.4865\n",
      "Epoch 85/100\n",
      "22/22 [==============================] - 0s 3ms/step - loss: 443.8742 - val_loss: 264.6365\n",
      "Epoch 86/100\n",
      "22/22 [==============================] - 0s 4ms/step - loss: 442.8131 - val_loss: 252.1821\n",
      "Epoch 87/100\n",
      "22/22 [==============================] - 0s 3ms/step - loss: 429.0688 - val_loss: 240.0138\n",
      "Epoch 88/100\n",
      "22/22 [==============================] - 0s 3ms/step - loss: 417.0373 - val_loss: 248.8140\n",
      "Epoch 89/100\n",
      "22/22 [==============================] - 0s 3ms/step - loss: 410.3343 - val_loss: 235.8018\n",
      "Epoch 90/100\n",
      "22/22 [==============================] - 0s 3ms/step - loss: 408.7513 - val_loss: 238.9494\n",
      "Epoch 91/100\n",
      "22/22 [==============================] - 0s 3ms/step - loss: 407.2142 - val_loss: 231.3836\n",
      "Epoch 92/100\n",
      "22/22 [==============================] - 0s 3ms/step - loss: 394.4486 - val_loss: 210.5603\n",
      "Epoch 93/100\n",
      "22/22 [==============================] - 0s 3ms/step - loss: 390.9193 - val_loss: 209.8332\n",
      "Epoch 94/100\n",
      "22/22 [==============================] - 0s 3ms/step - loss: 386.5708 - val_loss: 199.4551\n",
      "Epoch 95/100\n",
      "22/22 [==============================] - 0s 3ms/step - loss: 385.1152 - val_loss: 209.8594\n",
      "Epoch 96/100\n",
      "22/22 [==============================] - 0s 3ms/step - loss: 384.9020 - val_loss: 195.7989\n",
      "Epoch 97/100\n",
      "22/22 [==============================] - 0s 3ms/step - loss: 381.5604 - val_loss: 192.5081\n",
      "Epoch 98/100\n",
      "22/22 [==============================] - 0s 3ms/step - loss: 380.8046 - val_loss: 198.8181\n",
      "Epoch 99/100\n",
      "22/22 [==============================] - 0s 3ms/step - loss: 393.7315 - val_loss: 230.6444\n",
      "Epoch 100/100\n",
      "22/22 [==============================] - 0s 3ms/step - loss: 374.9273 - val_loss: 175.5801\n"
     ]
    },
    {
     "data": {
      "text/plain": [
       "<keras.src.callbacks.History at 0x25105b76280>"
      ]
     },
     "execution_count": 141,
     "metadata": {},
     "output_type": "execute_result"
    }
   ],
   "source": [
    "model.fit(X_train_scaled, y_train, epochs=100, batch_size=32, validation_split=0.2)"
   ]
  },
  {
   "cell_type": "markdown",
   "metadata": {},
   "source": [
    "**Display Model Summary**\n",
    "\n",
    "This prints a summary of the model architecture, including the number of parameters in each layer."
   ]
  },
  {
   "cell_type": "code",
   "execution_count": 145,
   "metadata": {},
   "outputs": [
    {
     "name": "stdout",
     "output_type": "stream",
     "text": [
      "Model: \"model\"\n",
      "_________________________________________________________________\n",
      " Layer (type)                Output Shape              Param #   \n",
      "=================================================================\n",
      " input_1 (InputLayer)        [(None, 4)]               0         \n",
      "                                                                 \n",
      " dense_24 (Dense)            (None, 100)               500       \n",
      "                                                                 \n",
      " dense_25 (Dense)            (None, 50)                5050      \n",
      "                                                                 \n",
      " dense_26 (Dense)            (None, 20)                1020      \n",
      "                                                                 \n",
      " dense_27 (Dense)            (None, 1)                 21        \n",
      "                                                                 \n",
      "=================================================================\n",
      "Total params: 6591 (25.75 KB)\n",
      "Trainable params: 6591 (25.75 KB)\n",
      "Non-trainable params: 0 (0.00 Byte)\n",
      "_________________________________________________________________\n"
     ]
    }
   ],
   "source": [
    "model.summary()"
   ]
  },
  {
   "cell_type": "markdown",
   "metadata": {},
   "source": [
    "**Make predictions on the test set**"
   ]
  },
  {
   "cell_type": "code",
   "execution_count": 146,
   "metadata": {},
   "outputs": [
    {
     "name": "stdout",
     "output_type": "stream",
     "text": [
      "7/7 [==============================] - 0s 1ms/step\n"
     ]
    }
   ],
   "source": [
    "y_pred = model.predict(X_test_scaled).flatten()"
   ]
  },
  {
   "cell_type": "markdown",
   "metadata": {},
   "source": [
    "**Evaluate the model**"
   ]
  },
  {
   "cell_type": "code",
   "execution_count": 147,
   "metadata": {},
   "outputs": [
    {
     "data": {
      "text/plain": [
       "0.9444807988284983"
      ]
     },
     "execution_count": 147,
     "metadata": {},
     "output_type": "execute_result"
    }
   ],
   "source": [
    "r2_score(y_test, y_pred)"
   ]
  },
  {
   "cell_type": "markdown",
   "metadata": {},
   "source": [
    "Let's see the progress of our algorithm in each iteration:"
   ]
  },
  {
   "cell_type": "code",
   "execution_count": 148,
   "metadata": {},
   "outputs": [
    {
     "data": {
      "image/png": "[encoded data removed]",
      "text/plain": [
       "<Figure size 2000x800 with 1 Axes>"
      ]
     },
     "metadata": {},
     "output_type": "display_data"
    }
   ],
   "source": [
    "hist_df = pd.DataFrame(history.history)\n",
    "plt.figure(figsize=(20, 8))\n",
    "plt.plot(hist_df['loss'], 'blue', label='Training Loss')\n",
    "plt.plot(hist_df['val_loss'], 'red', label='Validation Loss')\n",
    "plt.xlabel('Epochs')\n",
    "plt.ylabel('Loss')\n",
    "plt.legend(loc=\"best\")\n",
    "\n",
    "plt.show()"
   ]
  },
  {
   "cell_type": "markdown",
   "metadata": {},
   "source": [
    "<hr>"
   ]
  },
  {
   "cell_type": "markdown",
   "metadata": {},
   "source": [
    "## **Binary Classification**"
   ]
  },
  {
   "cell_type": "markdown",
   "metadata": {},
   "source": [
    "### About The Dataset \n",
    "\n",
    "<div dir=ltr style=\"direction: ltr;text-align: right;line-height:200%;font-family:vazir;font-size:medium\">\n",
    "<font face=\"vazir\" size=3>\n",
    "<center>\n",
    "\n",
    "|Field name|Description|\n",
    "|--- |--- |\n",
    "|ID|Clump thickness|\n",
    "|Clump|Clump thickness|\n",
    "|UnifSize|Uniformity of cell size|\n",
    "|UnifShape|Uniformity of cell shape|\n",
    "|MargAdh|Marginal adhesion|\n",
    "|SingEpiSize|Single epithelial cell size|\n",
    "|BareNuc|Bare nuclei|\n",
    "|BlandChrom|Bland chromatin|\n",
    "|NormNucl|Normal nucleoli|\n",
    "|Mit|Mitoses|\n",
    "|Class|Benign or malignant|\n",
    "\n",
    "</center>\n",
    "</font>\n",
    "</div>"
   ]
  },
  {
   "cell_type": "markdown",
   "metadata": {},
   "source": [
    "**Reading Dataset**"
   ]
  },
  {
   "cell_type": "code",
   "execution_count": 149,
   "metadata": {},
   "outputs": [],
   "source": [
    "path = './cell_samples.csv'\n",
    "df = pd.read_csv(path)"
   ]
  },
  {
   "cell_type": "markdown",
   "metadata": {},
   "source": [
    "Now let's take a look at the first 5 rows of the data:"
   ]
  },
  {
   "cell_type": "code",
   "execution_count": 77,
   "metadata": {},
   "outputs": [
    {
     "data": {
      "text/html": [
       "<div>\n",
       "<style scoped>\n",
       "    .dataframe tbody tr th:only-of-type {\n",
       "        vertical-align: middle;\n",
       "    }\n",
       "\n",
       "    .dataframe tbody tr th {\n",
       "        vertical-align: top;\n",
       "    }\n",
       "\n",
       "    .dataframe thead th {\n",
       "        text-align: right;\n",
       "    }\n",
       "</style>\n",
       "<table border=\"1\" class=\"dataframe\">\n",
       "  <thead>\n",
       "    <tr style=\"text-align: right;\">\n",
       "      <th></th>\n",
       "      <th>ID</th>\n",
       "      <th>Clump</th>\n",
       "      <th>UnifSize</th>\n",
       "      <th>UnifShape</th>\n",
       "      <th>MargAdh</th>\n",
       "      <th>SingEpiSize</th>\n",
       "      <th>BareNuc</th>\n",
       "      <th>BlandChrom</th>\n",
       "      <th>NormNucl</th>\n",
       "      <th>Mit</th>\n",
       "      <th>Class</th>\n",
       "    </tr>\n",
       "  </thead>\n",
       "  <tbody>\n",
       "    <tr>\n",
       "      <th>0</th>\n",
       "      <td>1000025</td>\n",
       "      <td>5</td>\n",
       "      <td>1</td>\n",
       "      <td>1</td>\n",
       "      <td>1</td>\n",
       "      <td>2</td>\n",
       "      <td>1</td>\n",
       "      <td>3</td>\n",
       "      <td>1</td>\n",
       "      <td>1</td>\n",
       "      <td>2</td>\n",
       "    </tr>\n",
       "    <tr>\n",
       "      <th>1</th>\n",
       "      <td>1002945</td>\n",
       "      <td>5</td>\n",
       "      <td>4</td>\n",
       "      <td>4</td>\n",
       "      <td>5</td>\n",
       "      <td>7</td>\n",
       "      <td>10</td>\n",
       "      <td>3</td>\n",
       "      <td>2</td>\n",
       "      <td>1</td>\n",
       "      <td>2</td>\n",
       "    </tr>\n",
       "    <tr>\n",
       "      <th>2</th>\n",
       "      <td>1015425</td>\n",
       "      <td>3</td>\n",
       "      <td>1</td>\n",
       "      <td>1</td>\n",
       "      <td>1</td>\n",
       "      <td>2</td>\n",
       "      <td>2</td>\n",
       "      <td>3</td>\n",
       "      <td>1</td>\n",
       "      <td>1</td>\n",
       "      <td>2</td>\n",
       "    </tr>\n",
       "    <tr>\n",
       "      <th>3</th>\n",
       "      <td>1016277</td>\n",
       "      <td>6</td>\n",
       "      <td>8</td>\n",
       "      <td>8</td>\n",
       "      <td>1</td>\n",
       "      <td>3</td>\n",
       "      <td>4</td>\n",
       "      <td>3</td>\n",
       "      <td>7</td>\n",
       "      <td>1</td>\n",
       "      <td>2</td>\n",
       "    </tr>\n",
       "    <tr>\n",
       "      <th>4</th>\n",
       "      <td>1017023</td>\n",
       "      <td>4</td>\n",
       "      <td>1</td>\n",
       "      <td>1</td>\n",
       "      <td>3</td>\n",
       "      <td>2</td>\n",
       "      <td>1</td>\n",
       "      <td>3</td>\n",
       "      <td>1</td>\n",
       "      <td>1</td>\n",
       "      <td>2</td>\n",
       "    </tr>\n",
       "  </tbody>\n",
       "</table>\n",
       "</div>"
      ],
      "text/plain": [
       "        ID  Clump  UnifSize  UnifShape  MargAdh  SingEpiSize BareNuc  \\\n",
       "0  1000025      5         1          1        1            2       1   \n",
       "1  1002945      5         4          4        5            7      10   \n",
       "2  1015425      3         1          1        1            2       2   \n",
       "3  1016277      6         8          8        1            3       4   \n",
       "4  1017023      4         1          1        3            2       1   \n",
       "\n",
       "   BlandChrom  NormNucl  Mit  Class  \n",
       "0           3         1    1      2  \n",
       "1           3         2    1      2  \n",
       "2           3         1    1      2  \n",
       "3           3         7    1      2  \n",
       "4           3         1    1      2  "
      ]
     },
     "execution_count": 77,
     "metadata": {},
     "output_type": "execute_result"
    }
   ],
   "source": [
    "df.head()"
   ]
  },
  {
   "cell_type": "markdown",
   "metadata": {},
   "source": [
    "```df.info()``` \n",
    "\n",
    "This methods give us data about our dataset.\n",
    "\n",
    "It shows that we have no NaN value."
   ]
  },
  {
   "cell_type": "code",
   "execution_count": 78,
   "metadata": {},
   "outputs": [
    {
     "name": "stdout",
     "output_type": "stream",
     "text": [
      "<class 'pandas.core.frame.DataFrame'>\n",
      "RangeIndex: 699 entries, 0 to 698\n",
      "Data columns (total 11 columns):\n",
      " #   Column       Non-Null Count  Dtype \n",
      "---  ------       --------------  ----- \n",
      " 0   ID           699 non-null    int64 \n",
      " 1   Clump        699 non-null    int64 \n",
      " 2   UnifSize     699 non-null    int64 \n",
      " 3   UnifShape    699 non-null    int64 \n",
      " 4   MargAdh      699 non-null    int64 \n",
      " 5   SingEpiSize  699 non-null    int64 \n",
      " 6   BareNuc      699 non-null    object\n",
      " 7   BlandChrom   699 non-null    int64 \n",
      " 8   NormNucl     699 non-null    int64 \n",
      " 9   Mit          699 non-null    int64 \n",
      " 10  Class        699 non-null    int64 \n",
      "dtypes: int64(10), object(1)\n",
      "memory usage: 60.2+ KB\n"
     ]
    }
   ],
   "source": [
    "df.info()"
   ]
  },
  {
   "cell_type": "code",
   "execution_count": 79,
   "metadata": {},
   "outputs": [
    {
     "data": {
      "text/html": [
       "<div>\n",
       "<style scoped>\n",
       "    .dataframe tbody tr th:only-of-type {\n",
       "        vertical-align: middle;\n",
       "    }\n",
       "\n",
       "    .dataframe tbody tr th {\n",
       "        vertical-align: top;\n",
       "    }\n",
       "\n",
       "    .dataframe thead th {\n",
       "        text-align: right;\n",
       "    }\n",
       "</style>\n",
       "<table border=\"1\" class=\"dataframe\">\n",
       "  <thead>\n",
       "    <tr style=\"text-align: right;\">\n",
       "      <th></th>\n",
       "      <th>ID</th>\n",
       "      <th>Clump</th>\n",
       "      <th>UnifSize</th>\n",
       "      <th>UnifShape</th>\n",
       "      <th>MargAdh</th>\n",
       "      <th>SingEpiSize</th>\n",
       "      <th>BlandChrom</th>\n",
       "      <th>NormNucl</th>\n",
       "      <th>Mit</th>\n",
       "      <th>Class</th>\n",
       "    </tr>\n",
       "  </thead>\n",
       "  <tbody>\n",
       "    <tr>\n",
       "      <th>count</th>\n",
       "      <td>6.990000e+02</td>\n",
       "      <td>699.000000</td>\n",
       "      <td>699.000000</td>\n",
       "      <td>699.000000</td>\n",
       "      <td>699.000000</td>\n",
       "      <td>699.000000</td>\n",
       "      <td>699.000000</td>\n",
       "      <td>699.000000</td>\n",
       "      <td>699.000000</td>\n",
       "      <td>699.000000</td>\n",
       "    </tr>\n",
       "    <tr>\n",
       "      <th>mean</th>\n",
       "      <td>1.071704e+06</td>\n",
       "      <td>4.417740</td>\n",
       "      <td>3.134478</td>\n",
       "      <td>3.207439</td>\n",
       "      <td>2.806867</td>\n",
       "      <td>3.216023</td>\n",
       "      <td>3.437768</td>\n",
       "      <td>2.866953</td>\n",
       "      <td>1.589413</td>\n",
       "      <td>2.689557</td>\n",
       "    </tr>\n",
       "    <tr>\n",
       "      <th>std</th>\n",
       "      <td>6.170957e+05</td>\n",
       "      <td>2.815741</td>\n",
       "      <td>3.051459</td>\n",
       "      <td>2.971913</td>\n",
       "      <td>2.855379</td>\n",
       "      <td>2.214300</td>\n",
       "      <td>2.438364</td>\n",
       "      <td>3.053634</td>\n",
       "      <td>1.715078</td>\n",
       "      <td>0.951273</td>\n",
       "    </tr>\n",
       "    <tr>\n",
       "      <th>min</th>\n",
       "      <td>6.163400e+04</td>\n",
       "      <td>1.000000</td>\n",
       "      <td>1.000000</td>\n",
       "      <td>1.000000</td>\n",
       "      <td>1.000000</td>\n",
       "      <td>1.000000</td>\n",
       "      <td>1.000000</td>\n",
       "      <td>1.000000</td>\n",
       "      <td>1.000000</td>\n",
       "      <td>2.000000</td>\n",
       "    </tr>\n",
       "    <tr>\n",
       "      <th>25%</th>\n",
       "      <td>8.706885e+05</td>\n",
       "      <td>2.000000</td>\n",
       "      <td>1.000000</td>\n",
       "      <td>1.000000</td>\n",
       "      <td>1.000000</td>\n",
       "      <td>2.000000</td>\n",
       "      <td>2.000000</td>\n",
       "      <td>1.000000</td>\n",
       "      <td>1.000000</td>\n",
       "      <td>2.000000</td>\n",
       "    </tr>\n",
       "    <tr>\n",
       "      <th>50%</th>\n",
       "      <td>1.171710e+06</td>\n",
       "      <td>4.000000</td>\n",
       "      <td>1.000000</td>\n",
       "      <td>1.000000</td>\n",
       "      <td>1.000000</td>\n",
       "      <td>2.000000</td>\n",
       "      <td>3.000000</td>\n",
       "      <td>1.000000</td>\n",
       "      <td>1.000000</td>\n",
       "      <td>2.000000</td>\n",
       "    </tr>\n",
       "    <tr>\n",
       "      <th>75%</th>\n",
       "      <td>1.238298e+06</td>\n",
       "      <td>6.000000</td>\n",
       "      <td>5.000000</td>\n",
       "      <td>5.000000</td>\n",
       "      <td>4.000000</td>\n",
       "      <td>4.000000</td>\n",
       "      <td>5.000000</td>\n",
       "      <td>4.000000</td>\n",
       "      <td>1.000000</td>\n",
       "      <td>4.000000</td>\n",
       "    </tr>\n",
       "    <tr>\n",
       "      <th>max</th>\n",
       "      <td>1.345435e+07</td>\n",
       "      <td>10.000000</td>\n",
       "      <td>10.000000</td>\n",
       "      <td>10.000000</td>\n",
       "      <td>10.000000</td>\n",
       "      <td>10.000000</td>\n",
       "      <td>10.000000</td>\n",
       "      <td>10.000000</td>\n",
       "      <td>10.000000</td>\n",
       "      <td>4.000000</td>\n",
       "    </tr>\n",
       "  </tbody>\n",
       "</table>\n",
       "</div>"
      ],
      "text/plain": [
       "                 ID       Clump    UnifSize   UnifShape     MargAdh  \\\n",
       "count  6.990000e+02  699.000000  699.000000  699.000000  699.000000   \n",
       "mean   1.071704e+06    4.417740    3.134478    3.207439    2.806867   \n",
       "std    6.170957e+05    2.815741    3.051459    2.971913    2.855379   \n",
       "min    6.163400e+04    1.000000    1.000000    1.000000    1.000000   \n",
       "25%    8.706885e+05    2.000000    1.000000    1.000000    1.000000   \n",
       "50%    1.171710e+06    4.000000    1.000000    1.000000    1.000000   \n",
       "75%    1.238298e+06    6.000000    5.000000    5.000000    4.000000   \n",
       "max    1.345435e+07   10.000000   10.000000   10.000000   10.000000   \n",
       "\n",
       "       SingEpiSize  BlandChrom    NormNucl         Mit       Class  \n",
       "count   699.000000  699.000000  699.000000  699.000000  699.000000  \n",
       "mean      3.216023    3.437768    2.866953    1.589413    2.689557  \n",
       "std       2.214300    2.438364    3.053634    1.715078    0.951273  \n",
       "min       1.000000    1.000000    1.000000    1.000000    2.000000  \n",
       "25%       2.000000    2.000000    1.000000    1.000000    2.000000  \n",
       "50%       2.000000    3.000000    1.000000    1.000000    2.000000  \n",
       "75%       4.000000    5.000000    4.000000    1.000000    4.000000  \n",
       "max      10.000000   10.000000   10.000000   10.000000    4.000000  "
      ]
     },
     "execution_count": 79,
     "metadata": {},
     "output_type": "execute_result"
    }
   ],
   "source": [
    "df.describe()"
   ]
  },
  {
   "cell_type": "markdown",
   "metadata": {},
   "source": [
    "Check Null values (We don't have any null values)"
   ]
  },
  {
   "cell_type": "code",
   "execution_count": 80,
   "metadata": {},
   "outputs": [
    {
     "data": {
      "text/plain": [
       "ID             0\n",
       "Clump          0\n",
       "UnifSize       0\n",
       "UnifShape      0\n",
       "MargAdh        0\n",
       "SingEpiSize    0\n",
       "BareNuc        0\n",
       "BlandChrom     0\n",
       "NormNucl       0\n",
       "Mit            0\n",
       "Class          0\n",
       "dtype: int64"
      ]
     },
     "execution_count": 80,
     "metadata": {},
     "output_type": "execute_result"
    }
   ],
   "source": [
    "df.isnull().sum()"
   ]
  },
  {
   "cell_type": "markdown",
   "metadata": {},
   "source": [
    "**Check for duplicate values**\n",
    "\n",
    "we have duplicate value so we must drop it"
   ]
  },
  {
   "cell_type": "code",
   "execution_count": 81,
   "metadata": {},
   "outputs": [
    {
     "data": {
      "text/html": [
       "<div>\n",
       "<style scoped>\n",
       "    .dataframe tbody tr th:only-of-type {\n",
       "        vertical-align: middle;\n",
       "    }\n",
       "\n",
       "    .dataframe tbody tr th {\n",
       "        vertical-align: top;\n",
       "    }\n",
       "\n",
       "    .dataframe thead th {\n",
       "        text-align: right;\n",
       "    }\n",
       "</style>\n",
       "<table border=\"1\" class=\"dataframe\">\n",
       "  <thead>\n",
       "    <tr style=\"text-align: right;\">\n",
       "      <th></th>\n",
       "      <th>ID</th>\n",
       "      <th>Clump</th>\n",
       "      <th>UnifSize</th>\n",
       "      <th>UnifShape</th>\n",
       "      <th>MargAdh</th>\n",
       "      <th>SingEpiSize</th>\n",
       "      <th>BareNuc</th>\n",
       "      <th>BlandChrom</th>\n",
       "      <th>NormNucl</th>\n",
       "      <th>Mit</th>\n",
       "      <th>Class</th>\n",
       "    </tr>\n",
       "  </thead>\n",
       "  <tbody>\n",
       "    <tr>\n",
       "      <th>208</th>\n",
       "      <td>1218860</td>\n",
       "      <td>1</td>\n",
       "      <td>1</td>\n",
       "      <td>1</td>\n",
       "      <td>1</td>\n",
       "      <td>1</td>\n",
       "      <td>1</td>\n",
       "      <td>3</td>\n",
       "      <td>1</td>\n",
       "      <td>1</td>\n",
       "      <td>2</td>\n",
       "    </tr>\n",
       "    <tr>\n",
       "      <th>253</th>\n",
       "      <td>1100524</td>\n",
       "      <td>6</td>\n",
       "      <td>10</td>\n",
       "      <td>10</td>\n",
       "      <td>2</td>\n",
       "      <td>8</td>\n",
       "      <td>10</td>\n",
       "      <td>7</td>\n",
       "      <td>3</td>\n",
       "      <td>3</td>\n",
       "      <td>4</td>\n",
       "    </tr>\n",
       "    <tr>\n",
       "      <th>254</th>\n",
       "      <td>1116116</td>\n",
       "      <td>9</td>\n",
       "      <td>10</td>\n",
       "      <td>10</td>\n",
       "      <td>1</td>\n",
       "      <td>10</td>\n",
       "      <td>8</td>\n",
       "      <td>3</td>\n",
       "      <td>3</td>\n",
       "      <td>1</td>\n",
       "      <td>4</td>\n",
       "    </tr>\n",
       "    <tr>\n",
       "      <th>258</th>\n",
       "      <td>1198641</td>\n",
       "      <td>3</td>\n",
       "      <td>1</td>\n",
       "      <td>1</td>\n",
       "      <td>1</td>\n",
       "      <td>2</td>\n",
       "      <td>1</td>\n",
       "      <td>3</td>\n",
       "      <td>1</td>\n",
       "      <td>1</td>\n",
       "      <td>2</td>\n",
       "    </tr>\n",
       "    <tr>\n",
       "      <th>272</th>\n",
       "      <td>320675</td>\n",
       "      <td>3</td>\n",
       "      <td>3</td>\n",
       "      <td>5</td>\n",
       "      <td>2</td>\n",
       "      <td>3</td>\n",
       "      <td>10</td>\n",
       "      <td>7</td>\n",
       "      <td>1</td>\n",
       "      <td>1</td>\n",
       "      <td>4</td>\n",
       "    </tr>\n",
       "    <tr>\n",
       "      <th>338</th>\n",
       "      <td>704097</td>\n",
       "      <td>1</td>\n",
       "      <td>1</td>\n",
       "      <td>1</td>\n",
       "      <td>1</td>\n",
       "      <td>1</td>\n",
       "      <td>1</td>\n",
       "      <td>2</td>\n",
       "      <td>1</td>\n",
       "      <td>1</td>\n",
       "      <td>2</td>\n",
       "    </tr>\n",
       "    <tr>\n",
       "      <th>561</th>\n",
       "      <td>1321942</td>\n",
       "      <td>5</td>\n",
       "      <td>1</td>\n",
       "      <td>1</td>\n",
       "      <td>1</td>\n",
       "      <td>2</td>\n",
       "      <td>1</td>\n",
       "      <td>3</td>\n",
       "      <td>1</td>\n",
       "      <td>1</td>\n",
       "      <td>2</td>\n",
       "    </tr>\n",
       "    <tr>\n",
       "      <th>684</th>\n",
       "      <td>466906</td>\n",
       "      <td>1</td>\n",
       "      <td>1</td>\n",
       "      <td>1</td>\n",
       "      <td>1</td>\n",
       "      <td>2</td>\n",
       "      <td>1</td>\n",
       "      <td>1</td>\n",
       "      <td>1</td>\n",
       "      <td>1</td>\n",
       "      <td>2</td>\n",
       "    </tr>\n",
       "  </tbody>\n",
       "</table>\n",
       "</div>"
      ],
      "text/plain": [
       "          ID  Clump  UnifSize  UnifShape  MargAdh  SingEpiSize BareNuc  \\\n",
       "208  1218860      1         1          1        1            1       1   \n",
       "253  1100524      6        10         10        2            8      10   \n",
       "254  1116116      9        10         10        1           10       8   \n",
       "258  1198641      3         1          1        1            2       1   \n",
       "272   320675      3         3          5        2            3      10   \n",
       "338   704097      1         1          1        1            1       1   \n",
       "561  1321942      5         1          1        1            2       1   \n",
       "684   466906      1         1          1        1            2       1   \n",
       "\n",
       "     BlandChrom  NormNucl  Mit  Class  \n",
       "208           3         1    1      2  \n",
       "253           7         3    3      4  \n",
       "254           3         3    1      4  \n",
       "258           3         1    1      2  \n",
       "272           7         1    1      4  \n",
       "338           2         1    1      2  \n",
       "561           3         1    1      2  \n",
       "684           1         1    1      2  "
      ]
     },
     "execution_count": 81,
     "metadata": {},
     "output_type": "execute_result"
    }
   ],
   "source": [
    "df[df.duplicated]"
   ]
  },
  {
   "cell_type": "code",
   "execution_count": 82,
   "metadata": {},
   "outputs": [],
   "source": [
    "df = df.drop_duplicates()"
   ]
  },
  {
   "cell_type": "code",
   "execution_count": 83,
   "metadata": {},
   "outputs": [
    {
     "data": {
      "text/html": [
       "<div>\n",
       "<style scoped>\n",
       "    .dataframe tbody tr th:only-of-type {\n",
       "        vertical-align: middle;\n",
       "    }\n",
       "\n",
       "    .dataframe tbody tr th {\n",
       "        vertical-align: top;\n",
       "    }\n",
       "\n",
       "    .dataframe thead th {\n",
       "        text-align: right;\n",
       "    }\n",
       "</style>\n",
       "<table border=\"1\" class=\"dataframe\">\n",
       "  <thead>\n",
       "    <tr style=\"text-align: right;\">\n",
       "      <th></th>\n",
       "      <th>ID</th>\n",
       "      <th>Clump</th>\n",
       "      <th>UnifSize</th>\n",
       "      <th>UnifShape</th>\n",
       "      <th>MargAdh</th>\n",
       "      <th>SingEpiSize</th>\n",
       "      <th>BareNuc</th>\n",
       "      <th>BlandChrom</th>\n",
       "      <th>NormNucl</th>\n",
       "      <th>Mit</th>\n",
       "      <th>Class</th>\n",
       "    </tr>\n",
       "  </thead>\n",
       "  <tbody>\n",
       "  </tbody>\n",
       "</table>\n",
       "</div>"
      ],
      "text/plain": [
       "Empty DataFrame\n",
       "Columns: [ID, Clump, UnifSize, UnifShape, MargAdh, SingEpiSize, BareNuc, BlandChrom, NormNucl, Mit, Class]\n",
       "Index: []"
      ]
     },
     "execution_count": 83,
     "metadata": {},
     "output_type": "execute_result"
    }
   ],
   "source": [
    "df[df.duplicated]"
   ]
  },
  {
   "cell_type": "code",
   "execution_count": 84,
   "metadata": {},
   "outputs": [
    {
     "name": "stdout",
     "output_type": "stream",
     "text": [
      "<class 'pandas.core.frame.DataFrame'>\n",
      "Index: 691 entries, 0 to 698\n",
      "Data columns (total 11 columns):\n",
      " #   Column       Non-Null Count  Dtype \n",
      "---  ------       --------------  ----- \n",
      " 0   ID           691 non-null    int64 \n",
      " 1   Clump        691 non-null    int64 \n",
      " 2   UnifSize     691 non-null    int64 \n",
      " 3   UnifShape    691 non-null    int64 \n",
      " 4   MargAdh      691 non-null    int64 \n",
      " 5   SingEpiSize  691 non-null    int64 \n",
      " 6   BareNuc      691 non-null    object\n",
      " 7   BlandChrom   691 non-null    int64 \n",
      " 8   NormNucl     691 non-null    int64 \n",
      " 9   Mit          691 non-null    int64 \n",
      " 10  Class        691 non-null    int64 \n",
      "dtypes: int64(10), object(1)\n",
      "memory usage: 64.8+ KB\n"
     ]
    }
   ],
   "source": [
    "df.info()"
   ]
  },
  {
   "cell_type": "markdown",
   "metadata": {},
   "source": [
    "**Check for Outliers**"
   ]
  },
  {
   "cell_type": "markdown",
   "metadata": {},
   "source": [
    "Outliers are data points that deviate significantly from the rest of the data in a dataset. They are observations that lie an abnormal distance from other values in a random sample from a population. In other words, outliers are data points that are unusually far from the central tendency of a distribution."
   ]
  },
  {
   "cell_type": "code",
   "execution_count": 85,
   "metadata": {},
   "outputs": [
    {
     "ename": "ModuleNotFoundError",
     "evalue": "No module named 'plotly'",
     "output_type": "error",
     "traceback": [
      "\u001b[1;31m---------------------------------------------------------------------------\u001b[0m",
      "\u001b[1;31mModuleNotFoundError\u001b[0m                       Traceback (most recent call last)",
      "\u001b[1;32md:\\Teias\\Usage\\Term-1\\ADS\\Assignments\\ads-course\\assignments\\Assignment 9 Neural Networks\\HW9_Neural_Networks.ipynb Cell 85\u001b[0m line \u001b[0;36m1\n\u001b[1;32m----> <a href='vscode-notebook-cell:/d%3A/Teias/Usage/Term-1/ADS/Assignments/ads-course/assignments/Assignment%209%20Neural%20Networks/HW9_Neural_Networks.ipynb#Y136sZmlsZQ%3D%3D?line=0'>1</a>\u001b[0m \u001b[39mimport\u001b[39;00m \u001b[39mplotly\u001b[39;00m\u001b[39m.\u001b[39;00m\u001b[39mexpress\u001b[39;00m \u001b[39mas\u001b[39;00m \u001b[39mpx\u001b[39;00m\n\u001b[0;32m      <a href='vscode-notebook-cell:/d%3A/Teias/Usage/Term-1/ADS/Assignments/ads-course/assignments/Assignment%209%20Neural%20Networks/HW9_Neural_Networks.ipynb#Y136sZmlsZQ%3D%3D?line=2'>3</a>\u001b[0m \u001b[39mfor\u001b[39;00m col \u001b[39min\u001b[39;00m df\u001b[39m.\u001b[39mcolumns:\n\u001b[0;32m      <a href='vscode-notebook-cell:/d%3A/Teias/Usage/Term-1/ADS/Assignments/ads-course/assignments/Assignment%209%20Neural%20Networks/HW9_Neural_Networks.ipynb#Y136sZmlsZQ%3D%3D?line=3'>4</a>\u001b[0m     fig \u001b[39m=\u001b[39m px\u001b[39m.\u001b[39mbox(df, y\u001b[39m=\u001b[39mcol)\n",
      "\u001b[1;31mModuleNotFoundError\u001b[0m: No module named 'plotly'"
     ]
    }
   ],
   "source": [
    "import plotly.express as px\n",
    "\n",
    "for col in df.columns:\n",
    "    fig = px.box(df, y=col)\n",
    "    fig.update_traces(marker_color='#FF851B')\n",
    "    fig.update_layout(autosize=False, width=600, height=500, title='Detected Outliers')\n",
    "    fig.show()\n"
   ]
  },
  {
   "cell_type": "markdown",
   "metadata": {},
   "source": [
    "We check the outliers and know that dont have any outliers\n",
    "\n",
    "Some of boxplot show a little outlier but it's not outlier its related to things that rarely happen in medical science"
   ]
  },
  {
   "cell_type": "markdown",
   "metadata": {},
   "source": [
    "**Check for Invalid data**"
   ]
  },
  {
   "cell_type": "markdown",
   "metadata": {},
   "source": [
    "In ```BareNuc``` the data type is deffrent , we need to check it."
   ]
  },
  {
   "cell_type": "code",
   "execution_count": null,
   "metadata": {},
   "outputs": [
    {
     "data": {
      "text/plain": [
       "BareNuc\n",
       "1     397\n",
       "10    130\n",
       "2      30\n",
       "5      30\n",
       "3      28\n",
       "8      20\n",
       "4      19\n",
       "?      16\n",
       "9       9\n",
       "7       8\n",
       "6       4\n",
       "Name: count, dtype: int64"
      ]
     },
     "execution_count": 87,
     "metadata": {},
     "output_type": "execute_result"
    }
   ],
   "source": [
    "df.BareNuc.value_counts()"
   ]
  },
  {
   "cell_type": "markdown",
   "metadata": {},
   "source": [
    "Yes , we have a column with ```?``` value , so need to fix it."
   ]
  },
  {
   "cell_type": "code",
   "execution_count": null,
   "metadata": {},
   "outputs": [
    {
     "data": {
      "text/plain": [
       "BareNuc\n",
       "1     397\n",
       "10    130\n",
       "2      30\n",
       "5      30\n",
       "3      28\n",
       "8      20\n",
       "4      19\n",
       "9       9\n",
       "7       8\n",
       "6       4\n",
       "Name: count, dtype: int64"
      ]
     },
     "execution_count": 88,
     "metadata": {},
     "output_type": "execute_result"
    }
   ],
   "source": [
    "df.BareNuc.replace('?',np.nan,inplace=True)\n",
    "df.BareNuc.value_counts()"
   ]
  },
  {
   "cell_type": "markdown",
   "metadata": {},
   "source": [
    "Now we will fill ```Null``` value of this column with ```mode```"
   ]
  },
  {
   "cell_type": "code",
   "execution_count": null,
   "metadata": {},
   "outputs": [
    {
     "data": {
      "text/plain": [
       "ID             0\n",
       "Clump          0\n",
       "UnifSize       0\n",
       "UnifShape      0\n",
       "MargAdh        0\n",
       "SingEpiSize    0\n",
       "BareNuc        0\n",
       "BlandChrom     0\n",
       "NormNucl       0\n",
       "Mit            0\n",
       "Class          0\n",
       "dtype: int64"
      ]
     },
     "execution_count": 89,
     "metadata": {},
     "output_type": "execute_result"
    }
   ],
   "source": [
    "df['BareNuc'].fillna(df['BareNuc'].mode()[0], inplace=True)\n",
    "df.isnull().sum()"
   ]
  },
  {
   "cell_type": "markdown",
   "metadata": {},
   "source": [
    "We don't need the ID column , so drop it."
   ]
  },
  {
   "cell_type": "code",
   "execution_count": null,
   "metadata": {},
   "outputs": [],
   "source": [
    "df.drop(columns=['ID'],inplace=True)"
   ]
  },
  {
   "cell_type": "markdown",
   "metadata": {},
   "source": [
    "**Correlation** "
   ]
  },
  {
   "cell_type": "markdown",
   "metadata": {},
   "source": [
    " correlation matrix is a useful tool for figuring out how different variables are related to each other. By looking at the correlation coefficients between two variables, we can learn how they are related and how changes in one variable may affect the other variables"
   ]
  },
  {
   "cell_type": "code",
   "execution_count": null,
   "metadata": {},
   "outputs": [
    {
     "data": {
      "text/html": [
       "<style type=\"text/css\">\n",
       "#T_8ca53_row0_col0, #T_8ca53_row1_col1, #T_8ca53_row2_col2, #T_8ca53_row3_col3, #T_8ca53_row4_col4, #T_8ca53_row5_col5, #T_8ca53_row6_col6, #T_8ca53_row7_col7, #T_8ca53_row8_col8, #T_8ca53_row9_col9 {\n",
       "  background-color: #b40426;\n",
       "  color: #f1f1f1;\n",
       "}\n",
       "#T_8ca53_row0_col1 {\n",
       "  background-color: #abc8fd;\n",
       "  color: #000000;\n",
       "}\n",
       "#T_8ca53_row0_col2 {\n",
       "  background-color: #bad0f8;\n",
       "  color: #000000;\n",
       "}\n",
       "#T_8ca53_row0_col3, #T_8ca53_row9_col8 {\n",
       "  background-color: #6180e9;\n",
       "  color: #f1f1f1;\n",
       "}\n",
       "#T_8ca53_row0_col4 {\n",
       "  background-color: #4f69d9;\n",
       "  color: #f1f1f1;\n",
       "}\n",
       "#T_8ca53_row0_col5 {\n",
       "  background-color: #b9d0f9;\n",
       "  color: #000000;\n",
       "}\n",
       "#T_8ca53_row0_col6, #T_8ca53_row4_col3 {\n",
       "  background-color: #a9c6fd;\n",
       "  color: #000000;\n",
       "}\n",
       "#T_8ca53_row0_col7, #T_8ca53_row5_col4 {\n",
       "  background-color: #779af7;\n",
       "  color: #f1f1f1;\n",
       "}\n",
       "#T_8ca53_row0_col8 {\n",
       "  background-color: #3d50c3;\n",
       "  color: #f1f1f1;\n",
       "}\n",
       "#T_8ca53_row0_col9, #T_8ca53_row1_col4, #T_8ca53_row7_col2 {\n",
       "  background-color: #dfdbd9;\n",
       "  color: #000000;\n",
       "}\n",
       "#T_8ca53_row1_col0 {\n",
       "  background-color: #cfdaea;\n",
       "  color: #000000;\n",
       "}\n",
       "#T_8ca53_row1_col2 {\n",
       "  background-color: #e8765c;\n",
       "  color: #f1f1f1;\n",
       "}\n",
       "#T_8ca53_row1_col3, #T_8ca53_row7_col9 {\n",
       "  background-color: #dedcdb;\n",
       "  color: #000000;\n",
       "}\n",
       "#T_8ca53_row1_col5 {\n",
       "  background-color: #e2dad5;\n",
       "  color: #000000;\n",
       "}\n",
       "#T_8ca53_row1_col6 {\n",
       "  background-color: #f5c1a9;\n",
       "  color: #000000;\n",
       "}\n",
       "#T_8ca53_row1_col7 {\n",
       "  background-color: #e3d9d3;\n",
       "  color: #000000;\n",
       "}\n",
       "#T_8ca53_row1_col8 {\n",
       "  background-color: #7396f5;\n",
       "  color: #f1f1f1;\n",
       "}\n",
       "#T_8ca53_row1_col9, #T_8ca53_row2_col9, #T_8ca53_row5_col9 {\n",
       "  background-color: #f7b396;\n",
       "  color: #000000;\n",
       "}\n",
       "#T_8ca53_row2_col0, #T_8ca53_row3_col1 {\n",
       "  background-color: #d4dbe6;\n",
       "  color: #000000;\n",
       "}\n",
       "#T_8ca53_row2_col1 {\n",
       "  background-color: #e9785d;\n",
       "  color: #f1f1f1;\n",
       "}\n",
       "#T_8ca53_row2_col3, #T_8ca53_row5_col2 {\n",
       "  background-color: #d5dbe5;\n",
       "  color: #000000;\n",
       "}\n",
       "#T_8ca53_row2_col4, #T_8ca53_row3_col2, #T_8ca53_row4_col9 {\n",
       "  background-color: #cedaeb;\n",
       "  color: #000000;\n",
       "}\n",
       "#T_8ca53_row2_col5 {\n",
       "  background-color: #e9d5cb;\n",
       "  color: #000000;\n",
       "}\n",
       "#T_8ca53_row2_col6 {\n",
       "  background-color: #f2cbb7;\n",
       "  color: #000000;\n",
       "}\n",
       "#T_8ca53_row2_col7 {\n",
       "  background-color: #e1dad6;\n",
       "  color: #000000;\n",
       "}\n",
       "#T_8ca53_row2_col8 {\n",
       "  background-color: #6a8bef;\n",
       "  color: #f1f1f1;\n",
       "}\n",
       "#T_8ca53_row3_col0, #T_8ca53_row4_col8 {\n",
       "  background-color: #80a3fa;\n",
       "  color: #f1f1f1;\n",
       "}\n",
       "#T_8ca53_row3_col4 {\n",
       "  background-color: #8badfd;\n",
       "  color: #000000;\n",
       "}\n",
       "#T_8ca53_row3_col5, #T_8ca53_row5_col6, #T_8ca53_row6_col5, #T_8ca53_row9_col7 {\n",
       "  background-color: #dddcdc;\n",
       "  color: #000000;\n",
       "}\n",
       "#T_8ca53_row3_col6 {\n",
       "  background-color: #dcdddd;\n",
       "  color: #000000;\n",
       "}\n",
       "#T_8ca53_row3_col7 {\n",
       "  background-color: #a1c0ff;\n",
       "  color: #000000;\n",
       "}\n",
       "#T_8ca53_row3_col8 {\n",
       "  background-color: #5d7ce6;\n",
       "  color: #f1f1f1;\n",
       "}\n",
       "#T_8ca53_row3_col9 {\n",
       "  background-color: #d8dce2;\n",
       "  color: #000000;\n",
       "}\n",
       "#T_8ca53_row4_col0 {\n",
       "  background-color: #8fb1fe;\n",
       "  color: #000000;\n",
       "}\n",
       "#T_8ca53_row4_col1, #T_8ca53_row6_col2 {\n",
       "  background-color: #e5d8d1;\n",
       "  color: #000000;\n",
       "}\n",
       "#T_8ca53_row4_col2 {\n",
       "  background-color: #dadce0;\n",
       "  color: #000000;\n",
       "}\n",
       "#T_8ca53_row4_col5, #T_8ca53_row4_col7 {\n",
       "  background-color: #b3cdfb;\n",
       "  color: #000000;\n",
       "}\n",
       "#T_8ca53_row4_col6, #T_8ca53_row6_col7 {\n",
       "  background-color: #c6d6f1;\n",
       "  color: #000000;\n",
       "}\n",
       "#T_8ca53_row5_col0 {\n",
       "  background-color: #b6cefa;\n",
       "  color: #000000;\n",
       "}\n",
       "#T_8ca53_row5_col1 {\n",
       "  background-color: #c5d6f2;\n",
       "  color: #000000;\n",
       "}\n",
       "#T_8ca53_row5_col3 {\n",
       "  background-color: #ccd9ed;\n",
       "  color: #000000;\n",
       "}\n",
       "#T_8ca53_row5_col7 {\n",
       "  background-color: #92b4fe;\n",
       "  color: #000000;\n",
       "}\n",
       "#T_8ca53_row5_col8, #T_8ca53_row6_col8, #T_8ca53_row8_col0, #T_8ca53_row8_col1, #T_8ca53_row8_col2, #T_8ca53_row8_col3, #T_8ca53_row8_col4, #T_8ca53_row8_col5, #T_8ca53_row8_col6, #T_8ca53_row8_col7, #T_8ca53_row8_col9 {\n",
       "  background-color: #3b4cc0;\n",
       "  color: #f1f1f1;\n",
       "}\n",
       "#T_8ca53_row6_col0 {\n",
       "  background-color: #a7c5fe;\n",
       "  color: #000000;\n",
       "}\n",
       "#T_8ca53_row6_col1 {\n",
       "  background-color: #ead5c9;\n",
       "  color: #000000;\n",
       "}\n",
       "#T_8ca53_row6_col3 {\n",
       "  background-color: #cad8ef;\n",
       "  color: #000000;\n",
       "}\n",
       "#T_8ca53_row6_col4 {\n",
       "  background-color: #93b5fe;\n",
       "  color: #000000;\n",
       "}\n",
       "#T_8ca53_row6_col9 {\n",
       "  background-color: #eed0c0;\n",
       "  color: #000000;\n",
       "}\n",
       "#T_8ca53_row7_col0 {\n",
       "  background-color: #9abbff;\n",
       "  color: #000000;\n",
       "}\n",
       "#T_8ca53_row7_col1, #T_8ca53_row7_col6 {\n",
       "  background-color: #dbdcde;\n",
       "  color: #000000;\n",
       "}\n",
       "#T_8ca53_row7_col3 {\n",
       "  background-color: #a5c3fe;\n",
       "  color: #000000;\n",
       "}\n",
       "#T_8ca53_row7_col4 {\n",
       "  background-color: #9bbcff;\n",
       "  color: #000000;\n",
       "}\n",
       "#T_8ca53_row7_col5 {\n",
       "  background-color: #b2ccfb;\n",
       "  color: #000000;\n",
       "}\n",
       "#T_8ca53_row7_col8 {\n",
       "  background-color: #6282ea;\n",
       "  color: #f1f1f1;\n",
       "}\n",
       "#T_8ca53_row9_col0 {\n",
       "  background-color: #ecd3c5;\n",
       "  color: #000000;\n",
       "}\n",
       "#T_8ca53_row9_col1 {\n",
       "  background-color: #f7b99e;\n",
       "  color: #000000;\n",
       "}\n",
       "#T_8ca53_row9_col2 {\n",
       "  background-color: #f7b599;\n",
       "  color: #000000;\n",
       "}\n",
       "#T_8ca53_row9_col3 {\n",
       "  background-color: #d9dce1;\n",
       "  color: #000000;\n",
       "}\n",
       "#T_8ca53_row9_col4 {\n",
       "  background-color: #bbd1f8;\n",
       "  color: #000000;\n",
       "}\n",
       "#T_8ca53_row9_col5 {\n",
       "  background-color: #f6a586;\n",
       "  color: #000000;\n",
       "}\n",
       "#T_8ca53_row9_col6 {\n",
       "  background-color: #f5c2aa;\n",
       "  color: #000000;\n",
       "}\n",
       "</style>\n",
       "<table id=\"T_8ca53\">\n",
       "  <thead>\n",
       "    <tr>\n",
       "      <th class=\"blank level0\" >&nbsp;</th>\n",
       "      <th id=\"T_8ca53_level0_col0\" class=\"col_heading level0 col0\" >Clump</th>\n",
       "      <th id=\"T_8ca53_level0_col1\" class=\"col_heading level0 col1\" >UnifSize</th>\n",
       "      <th id=\"T_8ca53_level0_col2\" class=\"col_heading level0 col2\" >UnifShape</th>\n",
       "      <th id=\"T_8ca53_level0_col3\" class=\"col_heading level0 col3\" >MargAdh</th>\n",
       "      <th id=\"T_8ca53_level0_col4\" class=\"col_heading level0 col4\" >SingEpiSize</th>\n",
       "      <th id=\"T_8ca53_level0_col5\" class=\"col_heading level0 col5\" >BareNuc</th>\n",
       "      <th id=\"T_8ca53_level0_col6\" class=\"col_heading level0 col6\" >BlandChrom</th>\n",
       "      <th id=\"T_8ca53_level0_col7\" class=\"col_heading level0 col7\" >NormNucl</th>\n",
       "      <th id=\"T_8ca53_level0_col8\" class=\"col_heading level0 col8\" >Mit</th>\n",
       "      <th id=\"T_8ca53_level0_col9\" class=\"col_heading level0 col9\" >Class</th>\n",
       "    </tr>\n",
       "  </thead>\n",
       "  <tbody>\n",
       "    <tr>\n",
       "      <th id=\"T_8ca53_level0_row0\" class=\"row_heading level0 row0\" >Clump</th>\n",
       "      <td id=\"T_8ca53_row0_col0\" class=\"data row0 col0\" >1.000000</td>\n",
       "      <td id=\"T_8ca53_row0_col1\" class=\"data row0 col1\" >0.643340</td>\n",
       "      <td id=\"T_8ca53_row0_col2\" class=\"data row0 col2\" >0.653752</td>\n",
       "      <td id=\"T_8ca53_row0_col3\" class=\"data row0 col3\" >0.487949</td>\n",
       "      <td id=\"T_8ca53_row0_col4\" class=\"data row0 col4\" >0.517448</td>\n",
       "      <td id=\"T_8ca53_row0_col5\" class=\"data row0 col5\" >0.590841</td>\n",
       "      <td id=\"T_8ca53_row0_col6\" class=\"data row0 col6\" >0.561076</td>\n",
       "      <td id=\"T_8ca53_row0_col7\" class=\"data row0 col7\" >0.535712</td>\n",
       "      <td id=\"T_8ca53_row0_col8\" class=\"data row0 col8\" >0.350354</td>\n",
       "      <td id=\"T_8ca53_row0_col9\" class=\"data row0 col9\" >0.716938</td>\n",
       "    </tr>\n",
       "    <tr>\n",
       "      <th id=\"T_8ca53_level0_row1\" class=\"row_heading level0 row1\" >UnifSize</th>\n",
       "      <td id=\"T_8ca53_row1_col0\" class=\"data row1 col0\" >0.643340</td>\n",
       "      <td id=\"T_8ca53_row1_col1\" class=\"data row1 col1\" >1.000000</td>\n",
       "      <td id=\"T_8ca53_row1_col2\" class=\"data row1 col2\" >0.905420</td>\n",
       "      <td id=\"T_8ca53_row1_col3\" class=\"data row1 col3\" >0.713117</td>\n",
       "      <td id=\"T_8ca53_row1_col4\" class=\"data row1 col4\" >0.747111</td>\n",
       "      <td id=\"T_8ca53_row1_col5\" class=\"data row1 col5\" >0.684791</td>\n",
       "      <td id=\"T_8ca53_row1_col6\" class=\"data row1 col6\" >0.759525</td>\n",
       "      <td id=\"T_8ca53_row1_col7\" class=\"data row1 col7\" >0.727239</td>\n",
       "      <td id=\"T_8ca53_row1_col8\" class=\"data row1 col8\" >0.460064</td>\n",
       "      <td id=\"T_8ca53_row1_col9\" class=\"data row1 col9\" >0.817720</td>\n",
       "    </tr>\n",
       "    <tr>\n",
       "      <th id=\"T_8ca53_level0_row2\" class=\"row_heading level0 row2\" >UnifShape</th>\n",
       "      <td id=\"T_8ca53_row2_col0\" class=\"data row2 col0\" >0.653752</td>\n",
       "      <td id=\"T_8ca53_row2_col1\" class=\"data row2 col1\" >0.905420</td>\n",
       "      <td id=\"T_8ca53_row2_col2\" class=\"data row2 col2\" >1.000000</td>\n",
       "      <td id=\"T_8ca53_row2_col3\" class=\"data row2 col3\" >0.690989</td>\n",
       "      <td id=\"T_8ca53_row2_col4\" class=\"data row2 col4\" >0.714393</td>\n",
       "      <td id=\"T_8ca53_row2_col5\" class=\"data row2 col5\" >0.704382</td>\n",
       "      <td id=\"T_8ca53_row2_col6\" class=\"data row2 col6\" >0.738455</td>\n",
       "      <td id=\"T_8ca53_row2_col7\" class=\"data row2 col7\" >0.724693</td>\n",
       "      <td id=\"T_8ca53_row2_col8\" class=\"data row2 col8\" >0.440592</td>\n",
       "      <td id=\"T_8ca53_row2_col9\" class=\"data row2 col9\" >0.817693</td>\n",
       "    </tr>\n",
       "    <tr>\n",
       "      <th id=\"T_8ca53_level0_row3\" class=\"row_heading level0 row3\" >MargAdh</th>\n",
       "      <td id=\"T_8ca53_row3_col0\" class=\"data row3 col0\" >0.487949</td>\n",
       "      <td id=\"T_8ca53_row3_col1\" class=\"data row3 col1\" >0.713117</td>\n",
       "      <td id=\"T_8ca53_row3_col2\" class=\"data row3 col2\" >0.690989</td>\n",
       "      <td id=\"T_8ca53_row3_col3\" class=\"data row3 col3\" >1.000000</td>\n",
       "      <td id=\"T_8ca53_row3_col4\" class=\"data row3 col4\" >0.608477</td>\n",
       "      <td id=\"T_8ca53_row3_col5\" class=\"data row3 col5\" >0.672719</td>\n",
       "      <td id=\"T_8ca53_row3_col6\" class=\"data row3 col6\" >0.669813</td>\n",
       "      <td id=\"T_8ca53_row3_col7\" class=\"data row3 col7\" >0.602453</td>\n",
       "      <td id=\"T_8ca53_row3_col8\" class=\"data row3 col8\" >0.417167</td>\n",
       "      <td id=\"T_8ca53_row3_col9\" class=\"data row3 col9\" >0.701371</td>\n",
       "    </tr>\n",
       "    <tr>\n",
       "      <th id=\"T_8ca53_level0_row4\" class=\"row_heading level0 row4\" >SingEpiSize</th>\n",
       "      <td id=\"T_8ca53_row4_col0\" class=\"data row4 col0\" >0.517448</td>\n",
       "      <td id=\"T_8ca53_row4_col1\" class=\"data row4 col1\" >0.747111</td>\n",
       "      <td id=\"T_8ca53_row4_col2\" class=\"data row4 col2\" >0.714393</td>\n",
       "      <td id=\"T_8ca53_row4_col3\" class=\"data row4 col3\" >0.608477</td>\n",
       "      <td id=\"T_8ca53_row4_col4\" class=\"data row4 col4\" >1.000000</td>\n",
       "      <td id=\"T_8ca53_row4_col5\" class=\"data row4 col5\" >0.580709</td>\n",
       "      <td id=\"T_8ca53_row4_col6\" class=\"data row4 col6\" >0.620518</td>\n",
       "      <td id=\"T_8ca53_row4_col7\" class=\"data row4 col7\" >0.634058</td>\n",
       "      <td id=\"T_8ca53_row4_col8\" class=\"data row4 col8\" >0.482644</td>\n",
       "      <td id=\"T_8ca53_row4_col9\" class=\"data row4 col9\" >0.681233</td>\n",
       "    </tr>\n",
       "    <tr>\n",
       "      <th id=\"T_8ca53_level0_row5\" class=\"row_heading level0 row5\" >BareNuc</th>\n",
       "      <td id=\"T_8ca53_row5_col0\" class=\"data row5 col0\" >0.590841</td>\n",
       "      <td id=\"T_8ca53_row5_col1\" class=\"data row5 col1\" >0.684791</td>\n",
       "      <td id=\"T_8ca53_row5_col2\" class=\"data row5 col2\" >0.704382</td>\n",
       "      <td id=\"T_8ca53_row5_col3\" class=\"data row5 col3\" >0.672719</td>\n",
       "      <td id=\"T_8ca53_row5_col4\" class=\"data row5 col4\" >0.580709</td>\n",
       "      <td id=\"T_8ca53_row5_col5\" class=\"data row5 col5\" >1.000000</td>\n",
       "      <td id=\"T_8ca53_row5_col6\" class=\"data row5 col6\" >0.672687</td>\n",
       "      <td id=\"T_8ca53_row5_col7\" class=\"data row5 col7\" >0.578417</td>\n",
       "      <td id=\"T_8ca53_row5_col8\" class=\"data row5 col8\" >0.343020</td>\n",
       "      <td id=\"T_8ca53_row5_col9\" class=\"data row5 col9\" >0.816787</td>\n",
       "    </tr>\n",
       "    <tr>\n",
       "      <th id=\"T_8ca53_level0_row6\" class=\"row_heading level0 row6\" >BlandChrom</th>\n",
       "      <td id=\"T_8ca53_row6_col0\" class=\"data row6 col0\" >0.561076</td>\n",
       "      <td id=\"T_8ca53_row6_col1\" class=\"data row6 col1\" >0.759525</td>\n",
       "      <td id=\"T_8ca53_row6_col2\" class=\"data row6 col2\" >0.738455</td>\n",
       "      <td id=\"T_8ca53_row6_col3\" class=\"data row6 col3\" >0.669813</td>\n",
       "      <td id=\"T_8ca53_row6_col4\" class=\"data row6 col4\" >0.620518</td>\n",
       "      <td id=\"T_8ca53_row6_col5\" class=\"data row6 col5\" >0.672687</td>\n",
       "      <td id=\"T_8ca53_row6_col6\" class=\"data row6 col6\" >1.000000</td>\n",
       "      <td id=\"T_8ca53_row6_col7\" class=\"data row6 col7\" >0.669059</td>\n",
       "      <td id=\"T_8ca53_row6_col8\" class=\"data row6 col8\" >0.343821</td>\n",
       "      <td id=\"T_8ca53_row6_col9\" class=\"data row6 col9\" >0.756618</td>\n",
       "    </tr>\n",
       "    <tr>\n",
       "      <th id=\"T_8ca53_level0_row7\" class=\"row_heading level0 row7\" >NormNucl</th>\n",
       "      <td id=\"T_8ca53_row7_col0\" class=\"data row7 col0\" >0.535712</td>\n",
       "      <td id=\"T_8ca53_row7_col1\" class=\"data row7 col1\" >0.727239</td>\n",
       "      <td id=\"T_8ca53_row7_col2\" class=\"data row7 col2\" >0.724693</td>\n",
       "      <td id=\"T_8ca53_row7_col3\" class=\"data row7 col3\" >0.602453</td>\n",
       "      <td id=\"T_8ca53_row7_col4\" class=\"data row7 col4\" >0.634058</td>\n",
       "      <td id=\"T_8ca53_row7_col5\" class=\"data row7 col5\" >0.578417</td>\n",
       "      <td id=\"T_8ca53_row7_col6\" class=\"data row7 col6\" >0.669059</td>\n",
       "      <td id=\"T_8ca53_row7_col7\" class=\"data row7 col7\" >1.000000</td>\n",
       "      <td id=\"T_8ca53_row7_col8\" class=\"data row7 col8\" >0.427644</td>\n",
       "      <td id=\"T_8ca53_row7_col9\" class=\"data row7 col9\" >0.715540</td>\n",
       "    </tr>\n",
       "    <tr>\n",
       "      <th id=\"T_8ca53_level0_row8\" class=\"row_heading level0 row8\" >Mit</th>\n",
       "      <td id=\"T_8ca53_row8_col0\" class=\"data row8 col0\" >0.350354</td>\n",
       "      <td id=\"T_8ca53_row8_col1\" class=\"data row8 col1\" >0.460064</td>\n",
       "      <td id=\"T_8ca53_row8_col2\" class=\"data row8 col2\" >0.440592</td>\n",
       "      <td id=\"T_8ca53_row8_col3\" class=\"data row8 col3\" >0.417167</td>\n",
       "      <td id=\"T_8ca53_row8_col4\" class=\"data row8 col4\" >0.482644</td>\n",
       "      <td id=\"T_8ca53_row8_col5\" class=\"data row8 col5\" >0.343020</td>\n",
       "      <td id=\"T_8ca53_row8_col6\" class=\"data row8 col6\" >0.343821</td>\n",
       "      <td id=\"T_8ca53_row8_col7\" class=\"data row8 col7\" >0.427644</td>\n",
       "      <td id=\"T_8ca53_row8_col8\" class=\"data row8 col8\" >1.000000</td>\n",
       "      <td id=\"T_8ca53_row8_col9\" class=\"data row8 col9\" >0.424111</td>\n",
       "    </tr>\n",
       "    <tr>\n",
       "      <th id=\"T_8ca53_level0_row9\" class=\"row_heading level0 row9\" >Class</th>\n",
       "      <td id=\"T_8ca53_row9_col0\" class=\"data row9 col0\" >0.716938</td>\n",
       "      <td id=\"T_8ca53_row9_col1\" class=\"data row9 col1\" >0.817720</td>\n",
       "      <td id=\"T_8ca53_row9_col2\" class=\"data row9 col2\" >0.817693</td>\n",
       "      <td id=\"T_8ca53_row9_col3\" class=\"data row9 col3\" >0.701371</td>\n",
       "      <td id=\"T_8ca53_row9_col4\" class=\"data row9 col4\" >0.681233</td>\n",
       "      <td id=\"T_8ca53_row9_col5\" class=\"data row9 col5\" >0.816787</td>\n",
       "      <td id=\"T_8ca53_row9_col6\" class=\"data row9 col6\" >0.756618</td>\n",
       "      <td id=\"T_8ca53_row9_col7\" class=\"data row9 col7\" >0.715540</td>\n",
       "      <td id=\"T_8ca53_row9_col8\" class=\"data row9 col8\" >0.424111</td>\n",
       "      <td id=\"T_8ca53_row9_col9\" class=\"data row9 col9\" >1.000000</td>\n",
       "    </tr>\n",
       "  </tbody>\n",
       "</table>\n"
      ],
      "text/plain": [
       "<pandas.io.formats.style.Styler at 0x1cc13aa1df0>"
      ]
     },
     "execution_count": 91,
     "metadata": {},
     "output_type": "execute_result"
    }
   ],
   "source": [
    "corr = df.corr()\n",
    "corr.style.background_gradient(cmap='coolwarm')"
   ]
  },
  {
   "cell_type": "markdown",
   "metadata": {},
   "source": [
    "##### Some Insights from Our Data"
   ]
  },
  {
   "cell_type": "markdown",
   "metadata": {},
   "source": [
    "Countplot for each column."
   ]
  },
  {
   "cell_type": "code",
   "execution_count": null,
   "metadata": {},
   "outputs": [
    {
     "data": {
      "image/png": "[encoded data removed]",
      "text/plain": [
       "<Figure size 640x480 with 1 Axes>"
      ]
     },
     "metadata": {},
     "output_type": "display_data"
    },
    {
     "data": {
      "image/png": "[encoded data removed]",
      "text/plain": [
       "<Figure size 640x480 with 1 Axes>"
      ]
     },
     "metadata": {},
     "output_type": "display_data"
    },
    {
     "data": {
      "image/png": "[encoded data removed]",
      "text/plain": [
       "<Figure size 640x480 with 1 Axes>"
      ]
     },
     "metadata": {},
     "output_type": "display_data"
    },
    {
     "data": {
      "image/png": "[encoded data removed]",
      "text/plain": [
       "<Figure size 640x480 with 1 Axes>"
      ]
     },
     "metadata": {},
     "output_type": "display_data"
    },
    {
     "data": {
      "image/png": "[encoded data removed]",
      "text/plain": [
       "<Figure size 640x480 with 1 Axes>"
      ]
     },
     "metadata": {},
     "output_type": "display_data"
    },
    {
     "data": {
      "image/png": "[encoded data removed]",
      "text/plain": [
       "<Figure size 640x480 with 1 Axes>"
      ]
     },
     "metadata": {},
     "output_type": "display_data"
    },
    {
     "data": {
      "image/png": "[encoded data removed]",
      "text/plain": [
       "<Figure size 640x480 with 1 Axes>"
      ]
     },
     "metadata": {},
     "output_type": "display_data"
    },
    {
     "data": {
      "image/png": "[encoded data removed]",
      "text/plain": [
       "<Figure size 640x480 with 1 Axes>"
      ]
     },
     "metadata": {},
     "output_type": "display_data"
    },
    {
     "data": {
      "image/png": "[encoded data removed]",
      "text/plain": [
       "<Figure size 640x480 with 1 Axes>"
      ]
     },
     "metadata": {},
     "output_type": "display_data"
    },
    {
     "data": {
      "image/png": "[encoded data removed]",
      "text/plain": [
       "<Figure size 640x480 with 1 Axes>"
      ]
     },
     "metadata": {},
     "output_type": "display_data"
    }
   ],
   "source": [
    "for column in df.columns:\n",
    "    sns.countplot(data=df, x=column, hue=column)\n",
    "    plt.suptitle('Plot based on people' + column)\n",
    "    plt.show();"
   ]
  }
 ],
 "metadata": {
  "kernelspec": {
   "display_name": "Python 3",
   "language": "python",
   "name": "python3"
  },
  "language_info": {
   "codemirror_mode": {
    "name": "ipython",
    "version": 3
   },
   "file_extension": ".py",
   "mimetype": "text/x-python",
   "name": "python",
   "nbconvert_exporter": "python",
   "pygments_lexer": "ipython3",
   "version": "3.9.0"
  }
 },
 "nbformat": 4,
 "nbformat_minor": 2
}
