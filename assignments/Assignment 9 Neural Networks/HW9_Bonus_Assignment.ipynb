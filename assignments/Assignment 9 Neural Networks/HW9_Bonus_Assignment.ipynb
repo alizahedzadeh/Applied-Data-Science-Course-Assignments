{
 "cells": [
  {
   "cell_type": "markdown",
   "metadata": {},
   "source": [
    "## Bonus Assignment "
   ]
  },
  {
   "cell_type": "markdown",
   "metadata": {},
   "source": [
    "(if dataset has time-series like features) 3-layer Recurrent Neural Network with Keras"
   ]
  },
  {
   "cell_type": "markdown",
   "metadata": {},
   "source": [
    "<hr>"
   ]
  },
  {
   "cell_type": "markdown",
   "metadata": {},
   "source": [
    "## **Linear Regression (With Time Series Data)**"
   ]
  },
  {
   "cell_type": "markdown",
   "metadata": {},
   "source": [
    "### About The Dataset "
   ]
  },
  {
   "cell_type": "markdown",
   "metadata": {},
   "source": [
    "**Context**\n",
    "\n",
    "This file contains 5 years of daily time series data for several measures of traffic on a statistical forecasting teaching notes website whose alias is statforecasting.com. The variables have complex seasonality that is keyed to the day of the week and to the academic calendar. The patterns you you see here are similar in principle to what you would see in other daily data with day-of-week and time-of-year effects. Some good exercises are to develop a 1-day-ahead forecasting model, a 7-day ahead forecasting model, and an entire-next-week forecasting model (i.e., next 7 days) for unique visitors.\n",
    "\n",
    "**Content**\n",
    "\n",
    "The variables are daily counts of page loads, unique visitors, first-time visitors, and returning visitors to an academic teaching notes website. There are 2167 rows of data spanning the date range from September 14, 2014, to August 19, 2020. A visit is defined as a stream of hits on one or more pages on the site on a given day by the same user, as identified by IP address. Multiple individuals with a shared IP address (e.g., in a computer lab) are considered as a single user, so real users may be undercounted to some extent. A visit is classified as \"unique\" if a hit from the same IP address has not come within the last 6 hours. Returning visitors are identified by cookies if those are accepted. All others are classified as first-time visitors, so the count of unique visitors is the sum of the counts of returning and first-time visitors by definition. The data was collected through a traffic monitoring service known as StatCounter."
   ]
  },
  {
   "cell_type": "markdown",
   "metadata": {},
   "source": [
    "**Import Libraries**"
   ]
  },
  {
   "cell_type": "code",
   "execution_count": 69,
   "metadata": {},
   "outputs": [],
   "source": [
    "import pandas as pd\n",
    "import numpy as np\n",
    "import seaborn as sns\n",
    "import matplotlib.pyplot as plt"
   ]
  },
  {
   "cell_type": "code",
   "execution_count": 70,
   "metadata": {},
   "outputs": [
    {
     "data": {
      "text/html": [
       "<div>\n",
       "<style scoped>\n",
       "    .dataframe tbody tr th:only-of-type {\n",
       "        vertical-align: middle;\n",
       "    }\n",
       "\n",
       "    .dataframe tbody tr th {\n",
       "        vertical-align: top;\n",
       "    }\n",
       "\n",
       "    .dataframe thead th {\n",
       "        text-align: right;\n",
       "    }\n",
       "</style>\n",
       "<table border=\"1\" class=\"dataframe\">\n",
       "  <thead>\n",
       "    <tr style=\"text-align: right;\">\n",
       "      <th></th>\n",
       "      <th>Row</th>\n",
       "      <th>Day</th>\n",
       "      <th>Day.Of.Week</th>\n",
       "      <th>Date</th>\n",
       "      <th>Page.Loads</th>\n",
       "      <th>Unique.Visits</th>\n",
       "      <th>First.Time.Visits</th>\n",
       "      <th>Returning.Visits</th>\n",
       "    </tr>\n",
       "  </thead>\n",
       "  <tbody>\n",
       "    <tr>\n",
       "      <th>0</th>\n",
       "      <td>1</td>\n",
       "      <td>Sunday</td>\n",
       "      <td>1</td>\n",
       "      <td>9/14/2014</td>\n",
       "      <td>2,146</td>\n",
       "      <td>1,582</td>\n",
       "      <td>1,430</td>\n",
       "      <td>152</td>\n",
       "    </tr>\n",
       "    <tr>\n",
       "      <th>1</th>\n",
       "      <td>2</td>\n",
       "      <td>Monday</td>\n",
       "      <td>2</td>\n",
       "      <td>9/15/2014</td>\n",
       "      <td>3,621</td>\n",
       "      <td>2,528</td>\n",
       "      <td>2,297</td>\n",
       "      <td>231</td>\n",
       "    </tr>\n",
       "    <tr>\n",
       "      <th>2</th>\n",
       "      <td>3</td>\n",
       "      <td>Tuesday</td>\n",
       "      <td>3</td>\n",
       "      <td>9/16/2014</td>\n",
       "      <td>3,698</td>\n",
       "      <td>2,630</td>\n",
       "      <td>2,352</td>\n",
       "      <td>278</td>\n",
       "    </tr>\n",
       "    <tr>\n",
       "      <th>3</th>\n",
       "      <td>4</td>\n",
       "      <td>Wednesday</td>\n",
       "      <td>4</td>\n",
       "      <td>9/17/2014</td>\n",
       "      <td>3,667</td>\n",
       "      <td>2,614</td>\n",
       "      <td>2,327</td>\n",
       "      <td>287</td>\n",
       "    </tr>\n",
       "    <tr>\n",
       "      <th>4</th>\n",
       "      <td>5</td>\n",
       "      <td>Thursday</td>\n",
       "      <td>5</td>\n",
       "      <td>9/18/2014</td>\n",
       "      <td>3,316</td>\n",
       "      <td>2,366</td>\n",
       "      <td>2,130</td>\n",
       "      <td>236</td>\n",
       "    </tr>\n",
       "  </tbody>\n",
       "</table>\n",
       "</div>"
      ],
      "text/plain": [
       "   Row        Day  Day.Of.Week       Date Page.Loads Unique.Visits  \\\n",
       "0    1     Sunday            1  9/14/2014      2,146         1,582   \n",
       "1    2     Monday            2  9/15/2014      3,621         2,528   \n",
       "2    3    Tuesday            3  9/16/2014      3,698         2,630   \n",
       "3    4  Wednesday            4  9/17/2014      3,667         2,614   \n",
       "4    5   Thursday            5  9/18/2014      3,316         2,366   \n",
       "\n",
       "  First.Time.Visits Returning.Visits  \n",
       "0             1,430              152  \n",
       "1             2,297              231  \n",
       "2             2,352              278  \n",
       "3             2,327              287  \n",
       "4             2,130              236  "
      ]
     },
     "execution_count": 70,
     "metadata": {},
     "output_type": "execute_result"
    }
   ],
   "source": [
    "df = pd.read_csv('./daily-website-visitors.csv')\n",
    "df.head()"
   ]
  },
  {
   "cell_type": "code",
   "execution_count": 71,
   "metadata": {},
   "outputs": [
    {
     "data": {
      "text/plain": [
       "Row                  0\n",
       "Day                  0\n",
       "Day.Of.Week          0\n",
       "Date                 0\n",
       "Page.Loads           0\n",
       "Unique.Visits        0\n",
       "First.Time.Visits    0\n",
       "Returning.Visits     0\n",
       "dtype: int64"
      ]
     },
     "execution_count": 71,
     "metadata": {},
     "output_type": "execute_result"
    }
   ],
   "source": [
    "df.isnull().sum()"
   ]
  },
  {
   "cell_type": "code",
   "execution_count": 72,
   "metadata": {},
   "outputs": [
    {
     "data": {
      "text/html": [
       "<div>\n",
       "<style scoped>\n",
       "    .dataframe tbody tr th:only-of-type {\n",
       "        vertical-align: middle;\n",
       "    }\n",
       "\n",
       "    .dataframe tbody tr th {\n",
       "        vertical-align: top;\n",
       "    }\n",
       "\n",
       "    .dataframe thead th {\n",
       "        text-align: right;\n",
       "    }\n",
       "</style>\n",
       "<table border=\"1\" class=\"dataframe\">\n",
       "  <thead>\n",
       "    <tr style=\"text-align: right;\">\n",
       "      <th></th>\n",
       "      <th>Row</th>\n",
       "      <th>Day.Of.Week</th>\n",
       "    </tr>\n",
       "  </thead>\n",
       "  <tbody>\n",
       "    <tr>\n",
       "      <th>count</th>\n",
       "      <td>2167.000000</td>\n",
       "      <td>2167.000000</td>\n",
       "    </tr>\n",
       "    <tr>\n",
       "      <th>mean</th>\n",
       "      <td>1084.000000</td>\n",
       "      <td>3.997231</td>\n",
       "    </tr>\n",
       "    <tr>\n",
       "      <th>std</th>\n",
       "      <td>625.703338</td>\n",
       "      <td>2.000229</td>\n",
       "    </tr>\n",
       "    <tr>\n",
       "      <th>min</th>\n",
       "      <td>1.000000</td>\n",
       "      <td>1.000000</td>\n",
       "    </tr>\n",
       "    <tr>\n",
       "      <th>25%</th>\n",
       "      <td>542.500000</td>\n",
       "      <td>2.000000</td>\n",
       "    </tr>\n",
       "    <tr>\n",
       "      <th>50%</th>\n",
       "      <td>1084.000000</td>\n",
       "      <td>4.000000</td>\n",
       "    </tr>\n",
       "    <tr>\n",
       "      <th>75%</th>\n",
       "      <td>1625.500000</td>\n",
       "      <td>6.000000</td>\n",
       "    </tr>\n",
       "    <tr>\n",
       "      <th>max</th>\n",
       "      <td>2167.000000</td>\n",
       "      <td>7.000000</td>\n",
       "    </tr>\n",
       "  </tbody>\n",
       "</table>\n",
       "</div>"
      ],
      "text/plain": [
       "               Row  Day.Of.Week\n",
       "count  2167.000000  2167.000000\n",
       "mean   1084.000000     3.997231\n",
       "std     625.703338     2.000229\n",
       "min       1.000000     1.000000\n",
       "25%     542.500000     2.000000\n",
       "50%    1084.000000     4.000000\n",
       "75%    1625.500000     6.000000\n",
       "max    2167.000000     7.000000"
      ]
     },
     "execution_count": 72,
     "metadata": {},
     "output_type": "execute_result"
    }
   ],
   "source": [
    "df.describe()"
   ]
  },
  {
   "cell_type": "code",
   "execution_count": 73,
   "metadata": {},
   "outputs": [
    {
     "name": "stdout",
     "output_type": "stream",
     "text": [
      "<class 'pandas.core.frame.DataFrame'>\n",
      "RangeIndex: 2167 entries, 0 to 2166\n",
      "Data columns (total 8 columns):\n",
      " #   Column             Non-Null Count  Dtype \n",
      "---  ------             --------------  ----- \n",
      " 0   Row                2167 non-null   int64 \n",
      " 1   Day                2167 non-null   object\n",
      " 2   Day.Of.Week        2167 non-null   int64 \n",
      " 3   Date               2167 non-null   object\n",
      " 4   Page.Loads         2167 non-null   object\n",
      " 5   Unique.Visits      2167 non-null   object\n",
      " 6   First.Time.Visits  2167 non-null   object\n",
      " 7   Returning.Visits   2167 non-null   object\n",
      "dtypes: int64(2), object(6)\n",
      "memory usage: 135.6+ KB\n"
     ]
    }
   ],
   "source": [
    "df.info()"
   ]
  },
  {
   "cell_type": "code",
   "execution_count": 74,
   "metadata": {},
   "outputs": [
    {
     "name": "stdout",
     "output_type": "stream",
     "text": [
      "Epoch 1/50\n",
      "217/217 - 3s - loss: 161333.7031 - val_loss: 8737.4619 - 3s/epoch - 13ms/step\n",
      "Epoch 2/50\n",
      "217/217 - 1s - loss: 8088.7798 - val_loss: 5998.6763 - 500ms/epoch - 2ms/step\n",
      "Epoch 3/50\n",
      "217/217 - 0s - loss: 6185.3809 - val_loss: 5280.6641 - 500ms/epoch - 2ms/step\n",
      "Epoch 4/50\n",
      "217/217 - 1s - loss: 5794.4292 - val_loss: 5209.1792 - 502ms/epoch - 2ms/step\n",
      "Epoch 5/50\n",
      "217/217 - 1s - loss: 5705.1191 - val_loss: 5151.1108 - 501ms/epoch - 2ms/step\n",
      "Epoch 6/50\n",
      "217/217 - 1s - loss: 5664.9058 - val_loss: 5125.3481 - 505ms/epoch - 2ms/step\n",
      "Epoch 7/50\n",
      "217/217 - 1s - loss: 5631.2861 - val_loss: 5088.6187 - 562ms/epoch - 3ms/step\n",
      "Epoch 8/50\n",
      "217/217 - 1s - loss: 5589.2305 - val_loss: 5060.1689 - 524ms/epoch - 2ms/step\n",
      "Epoch 9/50\n",
      "217/217 - 1s - loss: 5578.5327 - val_loss: 5027.9648 - 529ms/epoch - 2ms/step\n",
      "Epoch 10/50\n",
      "217/217 - 1s - loss: 5565.6509 - val_loss: 5123.6719 - 658ms/epoch - 3ms/step\n",
      "Epoch 11/50\n",
      "217/217 - 1s - loss: 5549.4404 - val_loss: 4973.3076 - 547ms/epoch - 3ms/step\n",
      "Epoch 12/50\n",
      "217/217 - 1s - loss: 5481.6152 - val_loss: 4927.5352 - 541ms/epoch - 2ms/step\n",
      "Epoch 13/50\n",
      "217/217 - 1s - loss: 5411.4380 - val_loss: 4896.3740 - 667ms/epoch - 3ms/step\n",
      "Epoch 14/50\n",
      "217/217 - 1s - loss: 5407.4912 - val_loss: 4870.4585 - 625ms/epoch - 3ms/step\n",
      "Epoch 15/50\n",
      "217/217 - 1s - loss: 5382.6118 - val_loss: 4948.9204 - 711ms/epoch - 3ms/step\n",
      "Epoch 16/50\n",
      "217/217 - 1s - loss: 5308.7007 - val_loss: 4795.8721 - 666ms/epoch - 3ms/step\n",
      "Epoch 17/50\n",
      "217/217 - 1s - loss: 5314.3638 - val_loss: 4787.2168 - 649ms/epoch - 3ms/step\n",
      "Epoch 18/50\n",
      "217/217 - 1s - loss: 5212.0767 - val_loss: 4763.8882 - 509ms/epoch - 2ms/step\n",
      "Epoch 19/50\n",
      "217/217 - 1s - loss: 5216.7749 - val_loss: 4657.1890 - 509ms/epoch - 2ms/step\n",
      "Epoch 20/50\n",
      "217/217 - 1s - loss: 5121.8228 - val_loss: 4929.1851 - 538ms/epoch - 2ms/step\n",
      "Epoch 21/50\n",
      "217/217 - 1s - loss: 5160.6201 - val_loss: 4913.7012 - 524ms/epoch - 2ms/step\n",
      "Epoch 22/50\n",
      "217/217 - 1s - loss: 5074.1797 - val_loss: 4709.6006 - 526ms/epoch - 2ms/step\n",
      "Epoch 23/50\n",
      "217/217 - 1s - loss: 5101.5771 - val_loss: 4565.5010 - 519ms/epoch - 2ms/step\n",
      "Epoch 24/50\n",
      "217/217 - 1s - loss: 5041.3247 - val_loss: 4453.3208 - 519ms/epoch - 2ms/step\n",
      "Epoch 25/50\n",
      "217/217 - 1s - loss: 4933.2329 - val_loss: 4399.0493 - 522ms/epoch - 2ms/step\n",
      "Epoch 26/50\n",
      "217/217 - 1s - loss: 4914.2192 - val_loss: 4362.9517 - 524ms/epoch - 2ms/step\n",
      "Epoch 27/50\n",
      "217/217 - 1s - loss: 4873.1836 - val_loss: 4333.0718 - 518ms/epoch - 2ms/step\n",
      "Epoch 28/50\n",
      "217/217 - 1s - loss: 4823.8833 - val_loss: 4425.2773 - 524ms/epoch - 2ms/step\n",
      "Epoch 29/50\n",
      "217/217 - 1s - loss: 4811.5264 - val_loss: 4256.5435 - 519ms/epoch - 2ms/step\n",
      "Epoch 30/50\n",
      "217/217 - 1s - loss: 4695.6592 - val_loss: 4295.6465 - 522ms/epoch - 2ms/step\n",
      "Epoch 31/50\n",
      "217/217 - 1s - loss: 4627.6523 - val_loss: 4122.7739 - 517ms/epoch - 2ms/step\n",
      "Epoch 32/50\n",
      "217/217 - 1s - loss: 4549.2446 - val_loss: 4166.0215 - 523ms/epoch - 2ms/step\n",
      "Epoch 33/50\n",
      "217/217 - 1s - loss: 4497.4541 - val_loss: 3969.0916 - 530ms/epoch - 2ms/step\n",
      "Epoch 34/50\n",
      "217/217 - 1s - loss: 4450.8828 - val_loss: 3938.6672 - 504ms/epoch - 2ms/step\n",
      "Epoch 35/50\n",
      "217/217 - 1s - loss: 4417.2188 - val_loss: 3843.4355 - 516ms/epoch - 2ms/step\n",
      "Epoch 36/50\n",
      "217/217 - 1s - loss: 4258.8589 - val_loss: 3827.4675 - 517ms/epoch - 2ms/step\n",
      "Epoch 37/50\n",
      "217/217 - 1s - loss: 4185.9058 - val_loss: 3686.4333 - 522ms/epoch - 2ms/step\n",
      "Epoch 38/50\n",
      "217/217 - 1s - loss: 4231.6455 - val_loss: 3605.9397 - 520ms/epoch - 2ms/step\n",
      "Epoch 39/50\n",
      "217/217 - 1s - loss: 4061.3069 - val_loss: 3861.5405 - 519ms/epoch - 2ms/step\n",
      "Epoch 40/50\n",
      "217/217 - 1s - loss: 3955.0310 - val_loss: 4078.0098 - 507ms/epoch - 2ms/step\n",
      "Epoch 41/50\n",
      "217/217 - 1s - loss: 3865.5859 - val_loss: 3436.1328 - 523ms/epoch - 2ms/step\n",
      "Epoch 42/50\n",
      "217/217 - 1s - loss: 3791.5159 - val_loss: 3954.7542 - 554ms/epoch - 3ms/step\n",
      "Epoch 43/50\n",
      "217/217 - 1s - loss: 3750.0251 - val_loss: 3328.8833 - 531ms/epoch - 2ms/step\n",
      "Epoch 44/50\n",
      "217/217 - 1s - loss: 3591.2725 - val_loss: 3807.9404 - 502ms/epoch - 2ms/step\n",
      "Epoch 45/50\n",
      "217/217 - 1s - loss: 3463.0681 - val_loss: 3038.8215 - 514ms/epoch - 2ms/step\n",
      "Epoch 46/50\n",
      "217/217 - 1s - loss: 3315.1086 - val_loss: 2857.8601 - 521ms/epoch - 2ms/step\n",
      "Epoch 47/50\n",
      "217/217 - 1s - loss: 3249.6042 - val_loss: 2763.3584 - 517ms/epoch - 2ms/step\n",
      "Epoch 48/50\n",
      "217/217 - 1s - loss: 3118.9348 - val_loss: 2868.2649 - 516ms/epoch - 2ms/step\n",
      "Epoch 49/50\n",
      "217/217 - 1s - loss: 3045.0906 - val_loss: 2566.9763 - 533ms/epoch - 2ms/step\n",
      "Epoch 50/50\n",
      "217/217 - 1s - loss: 2878.5090 - val_loss: 2449.4202 - 555ms/epoch - 3ms/step\n",
      "Mean Squared Error on Test Set: 2449.419921875\n",
      "14/14 [==============================] - 0s 2ms/step\n",
      "R-squared (R2) Score on Test Set: 0.9099615253568623\n"
     ]
    }
   ],
   "source": [
    "from sklearn.preprocessing import MinMaxScaler\n",
    "from sklearn.model_selection import train_test_split\n",
    "from tensorflow.keras.models import Sequential\n",
    "from tensorflow.keras.layers import SimpleRNN, Dense\n",
    "import matplotlib.pyplot as plt\n",
    "from sklearn.metrics import r2_score\n",
    "\n",
    "# Convert 'Date' to datetime\n",
    "df['Date'] = pd.to_datetime(df['Date'], format='%m/%d/%Y')\n",
    "\n",
    "# Sort the dataframe by date\n",
    "df.sort_values('Date', inplace=True)\n",
    "\n",
    "# Convert 'Page.Loads' to numeric after removing commas\n",
    "df['Page.Loads'] = df['Page.Loads'].replace(',', '', regex=True).astype(float)\n",
    "df['Unique.Visits'] = df['Unique.Visits'].replace(',', '', regex=True).astype(float)\n",
    "df['First.Time.Visits'] = df['First.Time.Visits'].replace(',', '', regex=True).astype(float)\n",
    "\n",
    "# Convert target variable to numeric\n",
    "df['Returning.Visits'] = pd.to_numeric(df['Returning.Visits'], errors='coerce')\n",
    "\n",
    "# Drop rows with missing values in the target variable\n",
    "df = df.dropna(subset=['Returning.Visits'])\n",
    "\n",
    "# Extract features and target variable\n",
    "features = df[['Day.Of.Week', 'Page.Loads', 'Unique.Visits', 'First.Time.Visits']]\n",
    "target = df['Returning.Visits']\n",
    "\n",
    "# Normalize features\n",
    "scaler = MinMaxScaler()\n",
    "features_scaled = scaler.fit_transform(features)\n",
    "\n",
    "# Split the data into training and test sets\n",
    "X_train, X_test, y_train, y_test = train_test_split(features_scaled, target, test_size=0.2, random_state=42)\n",
    "\n",
    "# Reshape data for RNN input (samples, time steps, features)\n",
    "X_train_reshaped = X_train.reshape((X_train.shape[0], 1, X_train.shape[1]))\n",
    "X_test_reshaped = X_test.reshape((X_test.shape[0], 1, X_test.shape[1]))\n",
    "\n",
    "# Build the RNN model\n",
    "model = Sequential()\n",
    "model.add(SimpleRNN(50, activation='relu', input_shape=(1, X_train.shape[1]), return_sequences=True))\n",
    "model.add(SimpleRNN(50, activation='relu', return_sequences=True))\n",
    "model.add(SimpleRNN(50, activation='relu'))\n",
    "model.add(Dense(1))  # Adjust activation based on your task\n",
    "\n",
    "# Compile the model\n",
    "model.compile(optimizer='adam', loss='mean_squared_error')\n",
    "\n",
    "# Train the model\n",
    "history = model.fit(X_train_reshaped, y_train, epochs=50, batch_size=8, validation_data=(X_test_reshaped, y_test), verbose=2)\n",
    "\n",
    "# Evaluate the model\n",
    "loss = model.evaluate(X_test_reshaped, y_test, verbose=0)\n",
    "print(f'Mean Squared Error on Test Set: {loss}')\n",
    "\n",
    "# Predict the target variable on the test set\n",
    "y_pred = model.predict(X_test_reshaped)\n",
    "\n",
    "# Flatten the predictions and true values\n",
    "y_pred = y_pred.flatten()\n",
    "y_test = np.array(y_test)\n",
    "\n",
    "# Calculate R-squared score\n",
    "r2 = r2_score(y_test, y_pred)\n",
    "print(f'R-squared (R2) Score on Test Set: {r2}')\n"
   ]
  },
  {
   "cell_type": "code",
   "execution_count": 75,
   "metadata": {},
   "outputs": [
    {
     "data": {
      "image/png": "[encoded data removed]",
      "text/plain": [
       "<Figure size 640x480 with 1 Axes>"
      ]
     },
     "metadata": {},
     "output_type": "display_data"
    }
   ],
   "source": [
    "# Plot training loss and validation loss over epochs\n",
    "plt.plot(history.history['loss'], label='Training Loss')\n",
    "plt.plot(history.history['val_loss'], label='Validation Loss')\n",
    "plt.legend()\n",
    "plt.show()"
   ]
  },
  {
   "cell_type": "markdown",
   "metadata": {},
   "source": [
    "<hr>"
   ]
  },
  {
   "cell_type": "markdown",
   "metadata": {},
   "source": [
    "## **Binary Classification (With Time Series Data)**"
   ]
  },
  {
   "cell_type": "markdown",
   "metadata": {},
   "source": [
    "For this part we convert my regression dataset to a classification task and then create our model."
   ]
  },
  {
   "cell_type": "code",
   "execution_count": 76,
   "metadata": {},
   "outputs": [
    {
     "name": "stdout",
     "output_type": "stream",
     "text": [
      "Epoch 1/10\n",
      "217/217 - 3s - loss: 0.1382 - accuracy: 0.9677 - val_loss: 0.0576 - val_accuracy: 0.9770 - 3s/epoch - 15ms/step\n",
      "Epoch 2/10\n",
      "217/217 - 1s - loss: 0.0586 - accuracy: 0.9792 - val_loss: 0.0522 - val_accuracy: 0.9770 - 534ms/epoch - 2ms/step\n",
      "Epoch 3/10\n",
      "217/217 - 1s - loss: 0.0548 - accuracy: 0.9792 - val_loss: 0.0458 - val_accuracy: 0.9770 - 541ms/epoch - 2ms/step\n",
      "Epoch 4/10\n",
      "217/217 - 1s - loss: 0.0524 - accuracy: 0.9781 - val_loss: 0.0405 - val_accuracy: 0.9770 - 533ms/epoch - 2ms/step\n",
      "Epoch 5/10\n",
      "217/217 - 1s - loss: 0.0506 - accuracy: 0.9804 - val_loss: 0.0397 - val_accuracy: 0.9793 - 534ms/epoch - 2ms/step\n",
      "Epoch 6/10\n",
      "217/217 - 1s - loss: 0.0494 - accuracy: 0.9809 - val_loss: 0.0339 - val_accuracy: 0.9816 - 574ms/epoch - 3ms/step\n",
      "Epoch 7/10\n",
      "217/217 - 1s - loss: 0.0509 - accuracy: 0.9809 - val_loss: 0.0369 - val_accuracy: 0.9816 - 530ms/epoch - 2ms/step\n",
      "Epoch 8/10\n",
      "217/217 - 1s - loss: 0.0509 - accuracy: 0.9804 - val_loss: 0.0356 - val_accuracy: 0.9816 - 523ms/epoch - 2ms/step\n",
      "Epoch 9/10\n",
      "217/217 - 1s - loss: 0.0481 - accuracy: 0.9827 - val_loss: 0.0477 - val_accuracy: 0.9770 - 522ms/epoch - 2ms/step\n",
      "Epoch 10/10\n",
      "217/217 - 1s - loss: 0.0487 - accuracy: 0.9798 - val_loss: 0.0345 - val_accuracy: 0.9885 - 543ms/epoch - 3ms/step\n",
      "Binary Crossentropy Loss on Test Set: 0.034512199461460114\n",
      "Accuracy on Test Set: 0.9884792566299438\n",
      "14/14 [==============================] - 0s 2ms/step\n",
      "Accuracy on Test Set (Binary): 0.988479262672811\n"
     ]
    }
   ],
   "source": [
    "import pandas as pd\n",
    "from sklearn.model_selection import train_test_split\n",
    "from sklearn.preprocessing import MinMaxScaler\n",
    "from tensorflow.keras.models import Sequential\n",
    "from tensorflow.keras.layers import SimpleRNN, Dense\n",
    "from sklearn.metrics import accuracy_score\n",
    "\n",
    "# Choose a threshold for 'Returning.Visits' to create a binary target variable\n",
    "threshold = 200  # You can adjust this threshold based on your specific requirements\n",
    "\n",
    "# Create a binary target variable ('1' if 'Returning.Visits' is above the threshold, '0' otherwise)\n",
    "df['Binary_Target'] = (df['Returning.Visits'] > threshold).astype(int)\n",
    "\n",
    "# Drop 'Returning.Visits' column if you no longer need it\n",
    "df = df.drop(['Returning.Visits'], axis=1)\n",
    "\n",
    "# Extract features and target variable\n",
    "features = df[['Day.Of.Week', 'Page.Loads', 'Unique.Visits', 'First.Time.Visits']]\n",
    "target = df['Binary_Target']\n",
    "\n",
    "# Normalize features\n",
    "scaler = MinMaxScaler()\n",
    "features_scaled = scaler.fit_transform(features)\n",
    "\n",
    "# Split the data into training and test sets\n",
    "X_train, X_test, y_train, y_test = train_test_split(features_scaled, target, test_size=0.2, random_state=42)\n",
    "\n",
    "# Reshape data for RNN input (samples, time steps, features)\n",
    "X_train_reshaped = X_train.reshape((X_train.shape[0], 1, X_train.shape[1]))\n",
    "X_test_reshaped = X_test.reshape((X_test.shape[0], 1, X_test.shape[1]))\n",
    "\n",
    "# Build the RNN model\n",
    "model = Sequential()\n",
    "model.add(SimpleRNN(50, activation='relu', input_shape=(1, X_train.shape[1]), return_sequences=True))\n",
    "model.add(SimpleRNN(50, activation='relu', return_sequences=True))\n",
    "model.add(SimpleRNN(50, activation='relu'))\n",
    "model.add(Dense(1, activation='sigmoid'))\n",
    "\n",
    "# Compile the model\n",
    "model.compile(optimizer='adam', loss='binary_crossentropy', metrics=['accuracy'])\n",
    "\n",
    "# Train the model\n",
    "history = model.fit(X_train_reshaped, y_train, epochs=10, batch_size=8, validation_data=(X_test_reshaped, y_test), verbose=2)\n",
    "\n",
    "# Evaluate the model\n",
    "loss, accuracy = model.evaluate(X_test_reshaped, y_test, verbose=0)\n",
    "print(f'Binary Crossentropy Loss on Test Set: {loss}')\n",
    "print(f'Accuracy on Test Set: {accuracy}')\n",
    "\n",
    "# Predict the target variable on the test set\n",
    "y_pred = (model.predict(X_test_reshaped) > 0.5).astype(int)\n",
    "\n",
    "# Calculate accuracy\n",
    "accuracy_binary = accuracy_score(y_test, y_pred)\n",
    "print(f'Accuracy on Test Set (Binary): {accuracy_binary}')\n"
   ]
  }
 ],
 "metadata": {
  "kernelspec": {
   "display_name": "env",
   "language": "python",
   "name": "python3"
  },
  "language_info": {
   "codemirror_mode": {
    "name": "ipython",
    "version": 3
   },
   "file_extension": ".py",
   "mimetype": "text/x-python",
   "name": "python",
   "nbconvert_exporter": "python",
   "pygments_lexer": "ipython3",
   "version": "3.9.0"
  }
 },
 "nbformat": 4,
 "nbformat_minor": 2
}
