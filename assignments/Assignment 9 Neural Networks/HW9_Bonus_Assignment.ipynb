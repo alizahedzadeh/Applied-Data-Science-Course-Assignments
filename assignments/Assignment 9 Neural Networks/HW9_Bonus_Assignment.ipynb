{
 "cells": [
  {
   "cell_type": "markdown",
   "metadata": {},
   "source": [
    "## Bonus Assignment "
   ]
  },
  {
   "cell_type": "markdown",
   "metadata": {},
   "source": [
    "(if dataset has time-series like features) 3-layer Recurrent Neural Network with Keras"
   ]
  },
  {
   "cell_type": "markdown",
   "metadata": {},
   "source": [
    "<hr>"
   ]
  },
  {
   "cell_type": "markdown",
   "metadata": {},
   "source": [
    "## **Linear Regression (With Time Series Data)**"
   ]
  },
  {
   "cell_type": "markdown",
   "metadata": {},
   "source": [
    "### About The Dataset "
   ]
  },
  {
   "cell_type": "markdown",
   "metadata": {},
   "source": [
    "**Context**\n",
    "\n",
    "I get this dataset from UCI Machine Learning. I very interested with this dataset because one of our global warming problem is about air quality in some big city very serious. In UCI ML get this data from sensor device that located in Italy. Also you can read about the dataset in the description.\n",
    "\n",
    "**Content**\n",
    "\n",
    "I get this data from UCI Machine Learning. Here is about descripstion rows and column also another description.\n",
    "\"The dataset contains 9358 instances of hourly averaged responses from an array of 5 metal oxide chemical sensors embedded in an Air Quality Chemical Multisensor Device. The device was located on the field in a significantly polluted area, at road level,within an Italian city. Data were recorded from March 2004 to February 2005 (one year)representing the longest freely available recordings of on field deployed air quality chemical sensor devices responses. Ground Truth hourly averaged concentrations for CO, Non Metanic Hydrocarbons, Benzene, Total Nitrogen Oxides (NOx) and Nitrogen Dioxide (NO2) and were provided by a co-located reference certified analyzer. Evidences of cross-sensitivities as well as both concept and sensor drifts are present as described in De Vito et al., Sens. And Act. B, Vol. 129,2,2008 (citation required) eventually affecting sensors concentration estimation capabilities. Missing values are tagged with -200 value. \""
   ]
  },
  {
   "cell_type": "markdown",
   "metadata": {},
   "source": [
    "**Import Libraries**"
   ]
  },
  {
   "cell_type": "code",
   "execution_count": 28,
   "metadata": {},
   "outputs": [],
   "source": [
    "import pandas as pd\n",
    "import numpy as np\n",
    "import seaborn as sns\n",
    "import matplotlib.pyplot as plt"
   ]
  },
  {
   "cell_type": "code",
   "execution_count": 36,
   "metadata": {},
   "outputs": [
    {
     "data": {
      "text/html": [
       "<div>\n",
       "<style scoped>\n",
       "    .dataframe tbody tr th:only-of-type {\n",
       "        vertical-align: middle;\n",
       "    }\n",
       "\n",
       "    .dataframe tbody tr th {\n",
       "        vertical-align: top;\n",
       "    }\n",
       "\n",
       "    .dataframe thead th {\n",
       "        text-align: right;\n",
       "    }\n",
       "</style>\n",
       "<table border=\"1\" class=\"dataframe\">\n",
       "  <thead>\n",
       "    <tr style=\"text-align: right;\">\n",
       "      <th></th>\n",
       "      <th>Row</th>\n",
       "      <th>Day</th>\n",
       "      <th>Day.Of.Week</th>\n",
       "      <th>Date</th>\n",
       "      <th>Page.Loads</th>\n",
       "      <th>Unique.Visits</th>\n",
       "      <th>First.Time.Visits</th>\n",
       "      <th>Returning.Visits</th>\n",
       "    </tr>\n",
       "  </thead>\n",
       "  <tbody>\n",
       "    <tr>\n",
       "      <th>0</th>\n",
       "      <td>1</td>\n",
       "      <td>Sunday</td>\n",
       "      <td>1</td>\n",
       "      <td>9/14/2014</td>\n",
       "      <td>2,146</td>\n",
       "      <td>1,582</td>\n",
       "      <td>1,430</td>\n",
       "      <td>152</td>\n",
       "    </tr>\n",
       "    <tr>\n",
       "      <th>1</th>\n",
       "      <td>2</td>\n",
       "      <td>Monday</td>\n",
       "      <td>2</td>\n",
       "      <td>9/15/2014</td>\n",
       "      <td>3,621</td>\n",
       "      <td>2,528</td>\n",
       "      <td>2,297</td>\n",
       "      <td>231</td>\n",
       "    </tr>\n",
       "    <tr>\n",
       "      <th>2</th>\n",
       "      <td>3</td>\n",
       "      <td>Tuesday</td>\n",
       "      <td>3</td>\n",
       "      <td>9/16/2014</td>\n",
       "      <td>3,698</td>\n",
       "      <td>2,630</td>\n",
       "      <td>2,352</td>\n",
       "      <td>278</td>\n",
       "    </tr>\n",
       "    <tr>\n",
       "      <th>3</th>\n",
       "      <td>4</td>\n",
       "      <td>Wednesday</td>\n",
       "      <td>4</td>\n",
       "      <td>9/17/2014</td>\n",
       "      <td>3,667</td>\n",
       "      <td>2,614</td>\n",
       "      <td>2,327</td>\n",
       "      <td>287</td>\n",
       "    </tr>\n",
       "    <tr>\n",
       "      <th>4</th>\n",
       "      <td>5</td>\n",
       "      <td>Thursday</td>\n",
       "      <td>5</td>\n",
       "      <td>9/18/2014</td>\n",
       "      <td>3,316</td>\n",
       "      <td>2,366</td>\n",
       "      <td>2,130</td>\n",
       "      <td>236</td>\n",
       "    </tr>\n",
       "  </tbody>\n",
       "</table>\n",
       "</div>"
      ],
      "text/plain": [
       "   Row        Day  Day.Of.Week       Date Page.Loads Unique.Visits  \\\n",
       "0    1     Sunday            1  9/14/2014      2,146         1,582   \n",
       "1    2     Monday            2  9/15/2014      3,621         2,528   \n",
       "2    3    Tuesday            3  9/16/2014      3,698         2,630   \n",
       "3    4  Wednesday            4  9/17/2014      3,667         2,614   \n",
       "4    5   Thursday            5  9/18/2014      3,316         2,366   \n",
       "\n",
       "  First.Time.Visits Returning.Visits  \n",
       "0             1,430              152  \n",
       "1             2,297              231  \n",
       "2             2,352              278  \n",
       "3             2,327              287  \n",
       "4             2,130              236  "
      ]
     },
     "execution_count": 36,
     "metadata": {},
     "output_type": "execute_result"
    }
   ],
   "source": [
    "df = pd.read_csv('./daily-website-visitors.csv')\n",
    "df.head()"
   ]
  },
  {
   "cell_type": "code",
   "execution_count": 37,
   "metadata": {},
   "outputs": [
    {
     "data": {
      "text/plain": [
       "Row                  0\n",
       "Day                  0\n",
       "Day.Of.Week          0\n",
       "Date                 0\n",
       "Page.Loads           0\n",
       "Unique.Visits        0\n",
       "First.Time.Visits    0\n",
       "Returning.Visits     0\n",
       "dtype: int64"
      ]
     },
     "execution_count": 37,
     "metadata": {},
     "output_type": "execute_result"
    }
   ],
   "source": [
    "df.isnull().sum()"
   ]
  },
  {
   "cell_type": "code",
   "execution_count": 39,
   "metadata": {},
   "outputs": [
    {
     "data": {
      "text/html": [
       "<div>\n",
       "<style scoped>\n",
       "    .dataframe tbody tr th:only-of-type {\n",
       "        vertical-align: middle;\n",
       "    }\n",
       "\n",
       "    .dataframe tbody tr th {\n",
       "        vertical-align: top;\n",
       "    }\n",
       "\n",
       "    .dataframe thead th {\n",
       "        text-align: right;\n",
       "    }\n",
       "</style>\n",
       "<table border=\"1\" class=\"dataframe\">\n",
       "  <thead>\n",
       "    <tr style=\"text-align: right;\">\n",
       "      <th></th>\n",
       "      <th>Row</th>\n",
       "      <th>Day.Of.Week</th>\n",
       "    </tr>\n",
       "  </thead>\n",
       "  <tbody>\n",
       "    <tr>\n",
       "      <th>count</th>\n",
       "      <td>2167.000000</td>\n",
       "      <td>2167.000000</td>\n",
       "    </tr>\n",
       "    <tr>\n",
       "      <th>mean</th>\n",
       "      <td>1084.000000</td>\n",
       "      <td>3.997231</td>\n",
       "    </tr>\n",
       "    <tr>\n",
       "      <th>std</th>\n",
       "      <td>625.703338</td>\n",
       "      <td>2.000229</td>\n",
       "    </tr>\n",
       "    <tr>\n",
       "      <th>min</th>\n",
       "      <td>1.000000</td>\n",
       "      <td>1.000000</td>\n",
       "    </tr>\n",
       "    <tr>\n",
       "      <th>25%</th>\n",
       "      <td>542.500000</td>\n",
       "      <td>2.000000</td>\n",
       "    </tr>\n",
       "    <tr>\n",
       "      <th>50%</th>\n",
       "      <td>1084.000000</td>\n",
       "      <td>4.000000</td>\n",
       "    </tr>\n",
       "    <tr>\n",
       "      <th>75%</th>\n",
       "      <td>1625.500000</td>\n",
       "      <td>6.000000</td>\n",
       "    </tr>\n",
       "    <tr>\n",
       "      <th>max</th>\n",
       "      <td>2167.000000</td>\n",
       "      <td>7.000000</td>\n",
       "    </tr>\n",
       "  </tbody>\n",
       "</table>\n",
       "</div>"
      ],
      "text/plain": [
       "               Row  Day.Of.Week\n",
       "count  2167.000000  2167.000000\n",
       "mean   1084.000000     3.997231\n",
       "std     625.703338     2.000229\n",
       "min       1.000000     1.000000\n",
       "25%     542.500000     2.000000\n",
       "50%    1084.000000     4.000000\n",
       "75%    1625.500000     6.000000\n",
       "max    2167.000000     7.000000"
      ]
     },
     "execution_count": 39,
     "metadata": {},
     "output_type": "execute_result"
    }
   ],
   "source": [
    "df.describe()"
   ]
  },
  {
   "cell_type": "code",
   "execution_count": 40,
   "metadata": {},
   "outputs": [
    {
     "name": "stdout",
     "output_type": "stream",
     "text": [
      "<class 'pandas.core.frame.DataFrame'>\n",
      "RangeIndex: 2167 entries, 0 to 2166\n",
      "Data columns (total 8 columns):\n",
      " #   Column             Non-Null Count  Dtype \n",
      "---  ------             --------------  ----- \n",
      " 0   Row                2167 non-null   int64 \n",
      " 1   Day                2167 non-null   object\n",
      " 2   Day.Of.Week        2167 non-null   int64 \n",
      " 3   Date               2167 non-null   object\n",
      " 4   Page.Loads         2167 non-null   object\n",
      " 5   Unique.Visits      2167 non-null   object\n",
      " 6   First.Time.Visits  2167 non-null   object\n",
      " 7   Returning.Visits   2167 non-null   object\n",
      "dtypes: int64(2), object(6)\n",
      "memory usage: 135.6+ KB\n"
     ]
    }
   ],
   "source": [
    "df.info()"
   ]
  },
  {
   "cell_type": "code",
   "execution_count": 61,
   "metadata": {},
   "outputs": [
    {
     "name": "stdout",
     "output_type": "stream",
     "text": [
      "Epoch 1/50\n",
      "217/217 - 3s - loss: 175476.7188 - val_loss: 10984.9082 - 3s/epoch - 14ms/step\n",
      "Epoch 2/50\n",
      "217/217 - 1s - loss: 9591.0039 - val_loss: 6639.0386 - 521ms/epoch - 2ms/step\n",
      "Epoch 3/50\n",
      "217/217 - 1s - loss: 6651.1348 - val_loss: 5421.9751 - 529ms/epoch - 2ms/step\n",
      "Epoch 4/50\n",
      "217/217 - 1s - loss: 5867.5435 - val_loss: 5198.2524 - 519ms/epoch - 2ms/step\n",
      "Epoch 5/50\n",
      "217/217 - 1s - loss: 5706.0986 - val_loss: 5263.5601 - 524ms/epoch - 2ms/step\n",
      "Epoch 6/50\n",
      "217/217 - 1s - loss: 5668.6133 - val_loss: 5148.4609 - 551ms/epoch - 3ms/step\n",
      "Epoch 7/50\n",
      "217/217 - 1s - loss: 5656.9629 - val_loss: 5166.9453 - 546ms/epoch - 3ms/step\n",
      "Epoch 8/50\n",
      "217/217 - 1s - loss: 5634.5386 - val_loss: 5091.6470 - 541ms/epoch - 2ms/step\n",
      "Epoch 9/50\n",
      "217/217 - 1s - loss: 5558.9683 - val_loss: 5096.8359 - 528ms/epoch - 2ms/step\n",
      "Epoch 10/50\n",
      "217/217 - 1s - loss: 5541.9468 - val_loss: 5065.5215 - 522ms/epoch - 2ms/step\n",
      "Epoch 11/50\n",
      "217/217 - 1s - loss: 5517.0508 - val_loss: 5168.0439 - 514ms/epoch - 2ms/step\n",
      "Epoch 12/50\n",
      "217/217 - 1s - loss: 5489.8833 - val_loss: 4961.2095 - 533ms/epoch - 2ms/step\n",
      "Epoch 13/50\n",
      "217/217 - 1s - loss: 5450.7700 - val_loss: 4922.4180 - 504ms/epoch - 2ms/step\n",
      "Epoch 14/50\n",
      "217/217 - 1s - loss: 5416.3599 - val_loss: 4909.2158 - 513ms/epoch - 2ms/step\n",
      "Epoch 15/50\n",
      "217/217 - 1s - loss: 5336.7100 - val_loss: 4930.0347 - 521ms/epoch - 2ms/step\n",
      "Epoch 16/50\n",
      "217/217 - 1s - loss: 5354.1484 - val_loss: 4847.5522 - 522ms/epoch - 2ms/step\n",
      "Epoch 17/50\n",
      "217/217 - 1s - loss: 5336.7173 - val_loss: 4847.0166 - 522ms/epoch - 2ms/step\n",
      "Epoch 18/50\n",
      "217/217 - 1s - loss: 5324.2314 - val_loss: 4835.3984 - 511ms/epoch - 2ms/step\n",
      "Epoch 19/50\n",
      "217/217 - 1s - loss: 5246.5952 - val_loss: 4758.4917 - 510ms/epoch - 2ms/step\n",
      "Epoch 20/50\n",
      "217/217 - 1s - loss: 5202.9355 - val_loss: 4758.4150 - 531ms/epoch - 2ms/step\n",
      "Epoch 21/50\n",
      "217/217 - 1s - loss: 5184.6309 - val_loss: 4634.7744 - 525ms/epoch - 2ms/step\n",
      "Epoch 22/50\n",
      "217/217 - 1s - loss: 5136.1934 - val_loss: 5077.3545 - 548ms/epoch - 3ms/step\n",
      "Epoch 23/50\n",
      "217/217 - 1s - loss: 5129.1538 - val_loss: 4595.1406 - 545ms/epoch - 3ms/step\n",
      "Epoch 24/50\n",
      "217/217 - 1s - loss: 5076.2886 - val_loss: 4680.8462 - 509ms/epoch - 2ms/step\n",
      "Epoch 25/50\n",
      "217/217 - 1s - loss: 5017.7891 - val_loss: 4489.8013 - 592ms/epoch - 3ms/step\n",
      "Epoch 26/50\n",
      "217/217 - 1s - loss: 4995.8540 - val_loss: 4429.3774 - 545ms/epoch - 3ms/step\n",
      "Epoch 27/50\n",
      "217/217 - 1s - loss: 4972.3271 - val_loss: 4611.9653 - 523ms/epoch - 2ms/step\n",
      "Epoch 28/50\n",
      "217/217 - 1s - loss: 4872.2930 - val_loss: 4407.1294 - 550ms/epoch - 3ms/step\n",
      "Epoch 29/50\n",
      "217/217 - 1s - loss: 4796.8809 - val_loss: 4336.4238 - 517ms/epoch - 2ms/step\n",
      "Epoch 30/50\n",
      "217/217 - 1s - loss: 4765.7739 - val_loss: 4264.3604 - 516ms/epoch - 2ms/step\n",
      "Epoch 31/50\n",
      "217/217 - 1s - loss: 4744.3179 - val_loss: 4293.3086 - 507ms/epoch - 2ms/step\n",
      "Epoch 32/50\n",
      "217/217 - 1s - loss: 4684.5869 - val_loss: 4203.1382 - 508ms/epoch - 2ms/step\n",
      "Epoch 33/50\n",
      "217/217 - 1s - loss: 4669.4849 - val_loss: 4086.6260 - 504ms/epoch - 2ms/step\n",
      "Epoch 34/50\n",
      "217/217 - 1s - loss: 4546.9985 - val_loss: 4098.2788 - 509ms/epoch - 2ms/step\n",
      "Epoch 35/50\n",
      "217/217 - 1s - loss: 4485.1919 - val_loss: 4035.9717 - 508ms/epoch - 2ms/step\n",
      "Epoch 36/50\n",
      "217/217 - 1s - loss: 4418.4697 - val_loss: 3910.8955 - 518ms/epoch - 2ms/step\n",
      "Epoch 37/50\n",
      "217/217 - 1s - loss: 4328.9111 - val_loss: 3833.1223 - 517ms/epoch - 2ms/step\n",
      "Epoch 38/50\n",
      "217/217 - 1s - loss: 4294.7446 - val_loss: 3767.0347 - 514ms/epoch - 2ms/step\n",
      "Epoch 39/50\n",
      "217/217 - 0s - loss: 4264.2798 - val_loss: 3744.2913 - 491ms/epoch - 2ms/step\n",
      "Epoch 40/50\n",
      "217/217 - 0s - loss: 4154.6084 - val_loss: 3635.5962 - 497ms/epoch - 2ms/step\n",
      "Epoch 41/50\n",
      "217/217 - 1s - loss: 4143.2490 - val_loss: 3564.4355 - 506ms/epoch - 2ms/step\n",
      "Epoch 42/50\n",
      "217/217 - 1s - loss: 4014.3120 - val_loss: 3483.7122 - 540ms/epoch - 2ms/step\n",
      "Epoch 43/50\n",
      "217/217 - 1s - loss: 3869.3208 - val_loss: 3371.9023 - 503ms/epoch - 2ms/step\n",
      "Epoch 44/50\n",
      "217/217 - 1s - loss: 3789.9766 - val_loss: 3279.9890 - 502ms/epoch - 2ms/step\n",
      "Epoch 45/50\n",
      "217/217 - 1s - loss: 3756.4397 - val_loss: 3415.9546 - 501ms/epoch - 2ms/step\n",
      "Epoch 46/50\n",
      "217/217 - 1s - loss: 3619.7747 - val_loss: 3164.5791 - 506ms/epoch - 2ms/step\n",
      "Epoch 47/50\n",
      "217/217 - 1s - loss: 3515.2954 - val_loss: 3091.3872 - 502ms/epoch - 2ms/step\n",
      "Epoch 48/50\n",
      "217/217 - 0s - loss: 3406.1892 - val_loss: 2974.4648 - 497ms/epoch - 2ms/step\n",
      "Epoch 49/50\n",
      "217/217 - 1s - loss: 3263.3389 - val_loss: 2865.9417 - 507ms/epoch - 2ms/step\n",
      "Epoch 50/50\n",
      "217/217 - 1s - loss: 3222.9854 - val_loss: 2745.3809 - 506ms/epoch - 2ms/step\n",
      "Mean Squared Error on Test Set: 2745.38037109375\n",
      "14/14 [==============================] - 0s 2ms/step\n",
      "R-squared (R2) Score on Test Set: 0.8990822863714436\n"
     ]
    }
   ],
   "source": [
    "from sklearn.preprocessing import MinMaxScaler\n",
    "from sklearn.model_selection import train_test_split\n",
    "from tensorflow.keras.models import Sequential\n",
    "from tensorflow.keras.layers import SimpleRNN, Dense\n",
    "import matplotlib.pyplot as plt\n",
    "from sklearn.metrics import r2_score\n",
    "\n",
    "# Convert 'Date' to datetime\n",
    "df['Date'] = pd.to_datetime(df['Date'], format='%m/%d/%Y')\n",
    "\n",
    "# Sort the dataframe by date\n",
    "df.sort_values('Date', inplace=True)\n",
    "\n",
    "# Convert 'Page.Loads' to numeric after removing commas\n",
    "df['Page.Loads'] = df['Page.Loads'].replace(',', '', regex=True).astype(float)\n",
    "df['Unique.Visits'] = df['Unique.Visits'].replace(',', '', regex=True).astype(float)\n",
    "df['First.Time.Visits'] = df['First.Time.Visits'].replace(',', '', regex=True).astype(float)\n",
    "\n",
    "# Convert target variable to numeric\n",
    "df['Returning.Visits'] = pd.to_numeric(df['Returning.Visits'], errors='coerce')\n",
    "\n",
    "# Drop rows with missing values in the target variable\n",
    "df = df.dropna(subset=['Returning.Visits'])\n",
    "\n",
    "# Extract features and target variable\n",
    "features = df[['Day.Of.Week', 'Page.Loads', 'Unique.Visits', 'First.Time.Visits']]\n",
    "target = df['Returning.Visits']\n",
    "\n",
    "# Normalize features\n",
    "scaler = MinMaxScaler()\n",
    "features_scaled = scaler.fit_transform(features)\n",
    "\n",
    "# Split the data into training and test sets\n",
    "X_train, X_test, y_train, y_test = train_test_split(features_scaled, target, test_size=0.2, random_state=42)\n",
    "\n",
    "# Reshape data for RNN input (samples, time steps, features)\n",
    "X_train_reshaped = X_train.reshape((X_train.shape[0], 1, X_train.shape[1]))\n",
    "X_test_reshaped = X_test.reshape((X_test.shape[0], 1, X_test.shape[1]))\n",
    "\n",
    "# Build the RNN model\n",
    "model = Sequential()\n",
    "model.add(SimpleRNN(50, activation='relu', input_shape=(1, X_train.shape[1]), return_sequences=True))\n",
    "model.add(SimpleRNN(50, activation='relu', return_sequences=True))\n",
    "model.add(SimpleRNN(50, activation='relu'))\n",
    "model.add(Dense(1))  # Adjust activation based on your task\n",
    "\n",
    "# Compile the model\n",
    "model.compile(optimizer='adam', loss='mean_squared_error')\n",
    "\n",
    "# Train the model\n",
    "history = model.fit(X_train_reshaped, y_train, epochs=50, batch_size=8, validation_data=(X_test_reshaped, y_test), verbose=2)\n",
    "\n",
    "# Evaluate the model\n",
    "loss = model.evaluate(X_test_reshaped, y_test, verbose=0)\n",
    "print(f'Mean Squared Error on Test Set: {loss}')\n",
    "\n",
    "# Predict the target variable on the test set\n",
    "y_pred = model.predict(X_test_reshaped)\n",
    "\n",
    "# Flatten the predictions and true values\n",
    "y_pred = y_pred.flatten()\n",
    "y_test = np.array(y_test)\n",
    "\n",
    "# Calculate R-squared score\n",
    "r2 = r2_score(y_test, y_pred)\n",
    "print(f'R-squared (R2) Score on Test Set: {r2}')\n"
   ]
  },
  {
   "cell_type": "code",
   "execution_count": 62,
   "metadata": {},
   "outputs": [
    {
     "data": {
      "image/png": "[encoded data removed]",
      "text/plain": [
       "<Figure size 640x480 with 1 Axes>"
      ]
     },
     "metadata": {},
     "output_type": "display_data"
    }
   ],
   "source": [
    "# Plot training loss and validation loss over epochs\n",
    "plt.plot(history.history['loss'], label='Training Loss')\n",
    "plt.plot(history.history['val_loss'], label='Validation Loss')\n",
    "plt.legend()\n",
    "plt.show()"
   ]
  }
 ],
 "metadata": {
  "kernelspec": {
   "display_name": "env",
   "language": "python",
   "name": "python3"
  },
  "language_info": {
   "codemirror_mode": {
    "name": "ipython",
    "version": 3
   },
   "file_extension": ".py",
   "mimetype": "text/x-python",
   "name": "python",
   "nbconvert_exporter": "python",
   "pygments_lexer": "ipython3",
   "version": "3.9.0"
  }
 },
 "nbformat": 4,
 "nbformat_minor": 2
}
