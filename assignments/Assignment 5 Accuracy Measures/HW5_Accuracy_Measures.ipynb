{
 "cells": [
  {
   "cell_type": "markdown",
   "metadata": {},
   "source": [
    "# Assignment 5: Accuracy Measures\n",
    "Choosen Datasets:\n",
    "\n",
    "**Linear Regression**\n",
    "\n",
    "[Fuel Consumption 2014](https://www.kaggle.com/datasets/ahmettyilmazz/fuel-consumption)\n",
    "\n",
    "Datasets provide model-specific fuel consumption ratings and estimated carbon dioxide emissions for new light-duty vehicles for retail sale in Canada.\n",
    "\n",
    "**Binary Classification**\n",
    "\n",
    "[Heart Attack Analysis & Prediction Dataset](https://www.kaggle.com/datasets/rashikrahmanpritom/heart-attack-analysis-prediction-dataset)\n",
    "\n",
    "A dataset for heart attack classification\n",
    "\n",
    "**Multi Class Classification**\n",
    "\n",
    "[Drug Classification](https://www.kaggle.com/datasets/prathamtripathi/drug-classification)\n",
    "\n",
    "This database contains information about certain drug types.\n",
    "\n",
    "\n"
   ]
  },
  {
   "cell_type": "markdown",
   "metadata": {},
   "source": [
    "### Group Members:\n",
    "\n",
    "\n",
    "*   Ali Zahedzadeh\n",
    "*   Melika Noubakhtian\n"
   ]
  },
  {
   "cell_type": "markdown",
   "metadata": {},
   "source": [
    "## Linear Regression"
   ]
  },
  {
   "cell_type": "markdown",
   "metadata": {},
   "source": [
    "Linear regression analysis is used to predict the value of a variable based on the value of another variable"
   ]
  },
  {
   "cell_type": "markdown",
   "metadata": {},
   "source": [
    "### About The Dataset "
   ]
  },
  {
   "cell_type": "markdown",
   "metadata": {},
   "source": [
    "*   **MODELYEAR** e.g. 2014\n",
    "*   **MAKE** e.g. Acura\n",
    "*   **MODEL** e.g. ILX\n",
    "*   **VEHICLE CLASS** e.g. SUV\n",
    "*   **ENGINE SIZE** e.g. 4.7\n",
    "*   **CYLINDERS** e.g 6\n",
    "*   **TRANSMISSION** e.g. A6\n",
    "*   **FUEL CONSUMPTION in CITY(L/100 km)** e.g. 9.9\n",
    "*   **FUEL CONSUMPTION in HWY (L/100 km)** e.g. 8.9\n",
    "*   **FUEL CONSUMPTION COMB (L/100 km)** e.g. 9.2\n",
    "*   **CO2 EMISSIONS (g/km)** e.g. 182   --> low --> 0"
   ]
  },
  {
   "cell_type": "markdown",
   "metadata": {},
   "source": [
    "**Import Libraries**"
   ]
  },
  {
   "cell_type": "code",
   "execution_count": 2,
   "metadata": {},
   "outputs": [],
   "source": [
    "import pandas as pd\n",
    "import numpy as np\n",
    "import matplotlib.pyplot as plt\n",
    "import seaborn as sns"
   ]
  },
  {
   "cell_type": "markdown",
   "metadata": {},
   "source": [
    "**Reading Dataset**"
   ]
  },
  {
   "cell_type": "code",
   "execution_count": 3,
   "metadata": {},
   "outputs": [],
   "source": [
    "path = './FuelConsumptionCo2.csv'\n",
    "df = pd.read_csv(path)"
   ]
  },
  {
   "cell_type": "markdown",
   "metadata": {},
   "source": [
    "Now let's take a look at the first 5 rows of the data:"
   ]
  },
  {
   "cell_type": "code",
   "execution_count": 4,
   "metadata": {},
   "outputs": [
    {
     "data": {
      "text/html": [
       "<div>\n",
       "<style scoped>\n",
       "    .dataframe tbody tr th:only-of-type {\n",
       "        vertical-align: middle;\n",
       "    }\n",
       "\n",
       "    .dataframe tbody tr th {\n",
       "        vertical-align: top;\n",
       "    }\n",
       "\n",
       "    .dataframe thead th {\n",
       "        text-align: right;\n",
       "    }\n",
       "</style>\n",
       "<table border=\"1\" class=\"dataframe\">\n",
       "  <thead>\n",
       "    <tr style=\"text-align: right;\">\n",
       "      <th></th>\n",
       "      <th>MODELYEAR</th>\n",
       "      <th>MAKE</th>\n",
       "      <th>MODEL</th>\n",
       "      <th>VEHICLECLASS</th>\n",
       "      <th>ENGINESIZE</th>\n",
       "      <th>CYLINDERS</th>\n",
       "      <th>TRANSMISSION</th>\n",
       "      <th>FUELTYPE</th>\n",
       "      <th>FUELCONSUMPTION_CITY</th>\n",
       "      <th>FUELCONSUMPTION_HWY</th>\n",
       "      <th>FUELCONSUMPTION_COMB</th>\n",
       "      <th>FUELCONSUMPTION_COMB_MPG</th>\n",
       "      <th>CO2EMISSIONS</th>\n",
       "    </tr>\n",
       "  </thead>\n",
       "  <tbody>\n",
       "    <tr>\n",
       "      <th>0</th>\n",
       "      <td>2014</td>\n",
       "      <td>ACURA</td>\n",
       "      <td>ILX</td>\n",
       "      <td>COMPACT</td>\n",
       "      <td>2.0</td>\n",
       "      <td>4</td>\n",
       "      <td>AS5</td>\n",
       "      <td>Z</td>\n",
       "      <td>9.9</td>\n",
       "      <td>6.7</td>\n",
       "      <td>8.5</td>\n",
       "      <td>33</td>\n",
       "      <td>196</td>\n",
       "    </tr>\n",
       "    <tr>\n",
       "      <th>1</th>\n",
       "      <td>2014</td>\n",
       "      <td>ACURA</td>\n",
       "      <td>ILX</td>\n",
       "      <td>COMPACT</td>\n",
       "      <td>2.4</td>\n",
       "      <td>4</td>\n",
       "      <td>M6</td>\n",
       "      <td>Z</td>\n",
       "      <td>11.2</td>\n",
       "      <td>7.7</td>\n",
       "      <td>9.6</td>\n",
       "      <td>29</td>\n",
       "      <td>221</td>\n",
       "    </tr>\n",
       "    <tr>\n",
       "      <th>2</th>\n",
       "      <td>2014</td>\n",
       "      <td>ACURA</td>\n",
       "      <td>ILX HYBRID</td>\n",
       "      <td>COMPACT</td>\n",
       "      <td>1.5</td>\n",
       "      <td>4</td>\n",
       "      <td>AV7</td>\n",
       "      <td>Z</td>\n",
       "      <td>6.0</td>\n",
       "      <td>5.8</td>\n",
       "      <td>5.9</td>\n",
       "      <td>48</td>\n",
       "      <td>136</td>\n",
       "    </tr>\n",
       "    <tr>\n",
       "      <th>3</th>\n",
       "      <td>2014</td>\n",
       "      <td>ACURA</td>\n",
       "      <td>MDX 4WD</td>\n",
       "      <td>SUV - SMALL</td>\n",
       "      <td>3.5</td>\n",
       "      <td>6</td>\n",
       "      <td>AS6</td>\n",
       "      <td>Z</td>\n",
       "      <td>12.7</td>\n",
       "      <td>9.1</td>\n",
       "      <td>11.1</td>\n",
       "      <td>25</td>\n",
       "      <td>255</td>\n",
       "    </tr>\n",
       "    <tr>\n",
       "      <th>4</th>\n",
       "      <td>2014</td>\n",
       "      <td>ACURA</td>\n",
       "      <td>RDX AWD</td>\n",
       "      <td>SUV - SMALL</td>\n",
       "      <td>3.5</td>\n",
       "      <td>6</td>\n",
       "      <td>AS6</td>\n",
       "      <td>Z</td>\n",
       "      <td>12.1</td>\n",
       "      <td>8.7</td>\n",
       "      <td>10.6</td>\n",
       "      <td>27</td>\n",
       "      <td>244</td>\n",
       "    </tr>\n",
       "  </tbody>\n",
       "</table>\n",
       "</div>"
      ],
      "text/plain": [
       "   MODELYEAR   MAKE       MODEL VEHICLECLASS  ENGINESIZE  CYLINDERS  \\\n",
       "0       2014  ACURA         ILX      COMPACT         2.0          4   \n",
       "1       2014  ACURA         ILX      COMPACT         2.4          4   \n",
       "2       2014  ACURA  ILX HYBRID      COMPACT         1.5          4   \n",
       "3       2014  ACURA     MDX 4WD  SUV - SMALL         3.5          6   \n",
       "4       2014  ACURA     RDX AWD  SUV - SMALL         3.5          6   \n",
       "\n",
       "  TRANSMISSION FUELTYPE  FUELCONSUMPTION_CITY  FUELCONSUMPTION_HWY  \\\n",
       "0          AS5        Z                   9.9                  6.7   \n",
       "1           M6        Z                  11.2                  7.7   \n",
       "2          AV7        Z                   6.0                  5.8   \n",
       "3          AS6        Z                  12.7                  9.1   \n",
       "4          AS6        Z                  12.1                  8.7   \n",
       "\n",
       "   FUELCONSUMPTION_COMB  FUELCONSUMPTION_COMB_MPG  CO2EMISSIONS  \n",
       "0                   8.5                        33           196  \n",
       "1                   9.6                        29           221  \n",
       "2                   5.9                        48           136  \n",
       "3                  11.1                        25           255  \n",
       "4                  10.6                        27           244  "
      ]
     },
     "execution_count": 4,
     "metadata": {},
     "output_type": "execute_result"
    }
   ],
   "source": [
    "df.head()"
   ]
  },
  {
   "cell_type": "markdown",
   "metadata": {},
   "source": [
    "```df.info()``` shows that we have no NaN value."
   ]
  },
  {
   "cell_type": "code",
   "execution_count": 5,
   "metadata": {},
   "outputs": [
    {
     "name": "stdout",
     "output_type": "stream",
     "text": [
      "<class 'pandas.core.frame.DataFrame'>\n",
      "RangeIndex: 1067 entries, 0 to 1066\n",
      "Data columns (total 13 columns):\n",
      " #   Column                    Non-Null Count  Dtype  \n",
      "---  ------                    --------------  -----  \n",
      " 0   MODELYEAR                 1067 non-null   int64  \n",
      " 1   MAKE                      1067 non-null   object \n",
      " 2   MODEL                     1067 non-null   object \n",
      " 3   VEHICLECLASS              1067 non-null   object \n",
      " 4   ENGINESIZE                1067 non-null   float64\n",
      " 5   CYLINDERS                 1067 non-null   int64  \n",
      " 6   TRANSMISSION              1067 non-null   object \n",
      " 7   FUELTYPE                  1067 non-null   object \n",
      " 8   FUELCONSUMPTION_CITY      1067 non-null   float64\n",
      " 9   FUELCONSUMPTION_HWY       1067 non-null   float64\n",
      " 10  FUELCONSUMPTION_COMB      1067 non-null   float64\n",
      " 11  FUELCONSUMPTION_COMB_MPG  1067 non-null   int64  \n",
      " 12  CO2EMISSIONS              1067 non-null   int64  \n",
      "dtypes: float64(4), int64(4), object(5)\n",
      "memory usage: 108.5+ KB\n"
     ]
    }
   ],
   "source": [
    "df.info()"
   ]
  },
  {
   "cell_type": "code",
   "execution_count": 6,
   "metadata": {},
   "outputs": [
    {
     "data": {
      "text/html": [
       "<div>\n",
       "<style scoped>\n",
       "    .dataframe tbody tr th:only-of-type {\n",
       "        vertical-align: middle;\n",
       "    }\n",
       "\n",
       "    .dataframe tbody tr th {\n",
       "        vertical-align: top;\n",
       "    }\n",
       "\n",
       "    .dataframe thead th {\n",
       "        text-align: right;\n",
       "    }\n",
       "</style>\n",
       "<table border=\"1\" class=\"dataframe\">\n",
       "  <thead>\n",
       "    <tr style=\"text-align: right;\">\n",
       "      <th></th>\n",
       "      <th>MODELYEAR</th>\n",
       "      <th>ENGINESIZE</th>\n",
       "      <th>CYLINDERS</th>\n",
       "      <th>FUELCONSUMPTION_CITY</th>\n",
       "      <th>FUELCONSUMPTION_HWY</th>\n",
       "      <th>FUELCONSUMPTION_COMB</th>\n",
       "      <th>FUELCONSUMPTION_COMB_MPG</th>\n",
       "      <th>CO2EMISSIONS</th>\n",
       "    </tr>\n",
       "  </thead>\n",
       "  <tbody>\n",
       "    <tr>\n",
       "      <th>count</th>\n",
       "      <td>1067.0</td>\n",
       "      <td>1067.000000</td>\n",
       "      <td>1067.000000</td>\n",
       "      <td>1067.000000</td>\n",
       "      <td>1067.000000</td>\n",
       "      <td>1067.000000</td>\n",
       "      <td>1067.000000</td>\n",
       "      <td>1067.000000</td>\n",
       "    </tr>\n",
       "    <tr>\n",
       "      <th>mean</th>\n",
       "      <td>2014.0</td>\n",
       "      <td>3.346298</td>\n",
       "      <td>5.794752</td>\n",
       "      <td>13.296532</td>\n",
       "      <td>9.474602</td>\n",
       "      <td>11.580881</td>\n",
       "      <td>26.441425</td>\n",
       "      <td>256.228679</td>\n",
       "    </tr>\n",
       "    <tr>\n",
       "      <th>std</th>\n",
       "      <td>0.0</td>\n",
       "      <td>1.415895</td>\n",
       "      <td>1.797447</td>\n",
       "      <td>4.101253</td>\n",
       "      <td>2.794510</td>\n",
       "      <td>3.485595</td>\n",
       "      <td>7.468702</td>\n",
       "      <td>63.372304</td>\n",
       "    </tr>\n",
       "    <tr>\n",
       "      <th>min</th>\n",
       "      <td>2014.0</td>\n",
       "      <td>1.000000</td>\n",
       "      <td>3.000000</td>\n",
       "      <td>4.600000</td>\n",
       "      <td>4.900000</td>\n",
       "      <td>4.700000</td>\n",
       "      <td>11.000000</td>\n",
       "      <td>108.000000</td>\n",
       "    </tr>\n",
       "    <tr>\n",
       "      <th>25%</th>\n",
       "      <td>2014.0</td>\n",
       "      <td>2.000000</td>\n",
       "      <td>4.000000</td>\n",
       "      <td>10.250000</td>\n",
       "      <td>7.500000</td>\n",
       "      <td>9.000000</td>\n",
       "      <td>21.000000</td>\n",
       "      <td>207.000000</td>\n",
       "    </tr>\n",
       "    <tr>\n",
       "      <th>50%</th>\n",
       "      <td>2014.0</td>\n",
       "      <td>3.400000</td>\n",
       "      <td>6.000000</td>\n",
       "      <td>12.600000</td>\n",
       "      <td>8.800000</td>\n",
       "      <td>10.900000</td>\n",
       "      <td>26.000000</td>\n",
       "      <td>251.000000</td>\n",
       "    </tr>\n",
       "    <tr>\n",
       "      <th>75%</th>\n",
       "      <td>2014.0</td>\n",
       "      <td>4.300000</td>\n",
       "      <td>8.000000</td>\n",
       "      <td>15.550000</td>\n",
       "      <td>10.850000</td>\n",
       "      <td>13.350000</td>\n",
       "      <td>31.000000</td>\n",
       "      <td>294.000000</td>\n",
       "    </tr>\n",
       "    <tr>\n",
       "      <th>max</th>\n",
       "      <td>2014.0</td>\n",
       "      <td>8.400000</td>\n",
       "      <td>12.000000</td>\n",
       "      <td>30.200000</td>\n",
       "      <td>20.500000</td>\n",
       "      <td>25.800000</td>\n",
       "      <td>60.000000</td>\n",
       "      <td>488.000000</td>\n",
       "    </tr>\n",
       "  </tbody>\n",
       "</table>\n",
       "</div>"
      ],
      "text/plain": [
       "       MODELYEAR   ENGINESIZE    CYLINDERS  FUELCONSUMPTION_CITY  \\\n",
       "count     1067.0  1067.000000  1067.000000           1067.000000   \n",
       "mean      2014.0     3.346298     5.794752             13.296532   \n",
       "std          0.0     1.415895     1.797447              4.101253   \n",
       "min       2014.0     1.000000     3.000000              4.600000   \n",
       "25%       2014.0     2.000000     4.000000             10.250000   \n",
       "50%       2014.0     3.400000     6.000000             12.600000   \n",
       "75%       2014.0     4.300000     8.000000             15.550000   \n",
       "max       2014.0     8.400000    12.000000             30.200000   \n",
       "\n",
       "       FUELCONSUMPTION_HWY  FUELCONSUMPTION_COMB  FUELCONSUMPTION_COMB_MPG  \\\n",
       "count          1067.000000           1067.000000               1067.000000   \n",
       "mean              9.474602             11.580881                 26.441425   \n",
       "std               2.794510              3.485595                  7.468702   \n",
       "min               4.900000              4.700000                 11.000000   \n",
       "25%               7.500000              9.000000                 21.000000   \n",
       "50%               8.800000             10.900000                 26.000000   \n",
       "75%              10.850000             13.350000                 31.000000   \n",
       "max              20.500000             25.800000                 60.000000   \n",
       "\n",
       "       CO2EMISSIONS  \n",
       "count   1067.000000  \n",
       "mean     256.228679  \n",
       "std       63.372304  \n",
       "min      108.000000  \n",
       "25%      207.000000  \n",
       "50%      251.000000  \n",
       "75%      294.000000  \n",
       "max      488.000000  "
      ]
     },
     "execution_count": 6,
     "metadata": {},
     "output_type": "execute_result"
    }
   ],
   "source": [
    "df.describe()"
   ]
  },
  {
   "cell_type": "markdown",
   "metadata": {},
   "source": [
    "Check Null values (We don't have any null values)"
   ]
  },
  {
   "cell_type": "code",
   "execution_count": 7,
   "metadata": {},
   "outputs": [
    {
     "data": {
      "text/plain": [
       "MODELYEAR                   0\n",
       "MAKE                        0\n",
       "MODEL                       0\n",
       "VEHICLECLASS                0\n",
       "ENGINESIZE                  0\n",
       "CYLINDERS                   0\n",
       "TRANSMISSION                0\n",
       "FUELTYPE                    0\n",
       "FUELCONSUMPTION_CITY        0\n",
       "FUELCONSUMPTION_HWY         0\n",
       "FUELCONSUMPTION_COMB        0\n",
       "FUELCONSUMPTION_COMB_MPG    0\n",
       "CO2EMISSIONS                0\n",
       "dtype: int64"
      ]
     },
     "execution_count": 7,
     "metadata": {},
     "output_type": "execute_result"
    }
   ],
   "source": [
    "df.isnull().sum()"
   ]
  },
  {
   "cell_type": "markdown",
   "metadata": {},
   "source": [
    "Check for duplicate values , we dont have any duplicate value"
   ]
  },
  {
   "cell_type": "code",
   "execution_count": 8,
   "metadata": {},
   "outputs": [
    {
     "data": {
      "text/html": [
       "<div>\n",
       "<style scoped>\n",
       "    .dataframe tbody tr th:only-of-type {\n",
       "        vertical-align: middle;\n",
       "    }\n",
       "\n",
       "    .dataframe tbody tr th {\n",
       "        vertical-align: top;\n",
       "    }\n",
       "\n",
       "    .dataframe thead th {\n",
       "        text-align: right;\n",
       "    }\n",
       "</style>\n",
       "<table border=\"1\" class=\"dataframe\">\n",
       "  <thead>\n",
       "    <tr style=\"text-align: right;\">\n",
       "      <th></th>\n",
       "      <th>MODELYEAR</th>\n",
       "      <th>MAKE</th>\n",
       "      <th>MODEL</th>\n",
       "      <th>VEHICLECLASS</th>\n",
       "      <th>ENGINESIZE</th>\n",
       "      <th>CYLINDERS</th>\n",
       "      <th>TRANSMISSION</th>\n",
       "      <th>FUELTYPE</th>\n",
       "      <th>FUELCONSUMPTION_CITY</th>\n",
       "      <th>FUELCONSUMPTION_HWY</th>\n",
       "      <th>FUELCONSUMPTION_COMB</th>\n",
       "      <th>FUELCONSUMPTION_COMB_MPG</th>\n",
       "      <th>CO2EMISSIONS</th>\n",
       "    </tr>\n",
       "  </thead>\n",
       "  <tbody>\n",
       "  </tbody>\n",
       "</table>\n",
       "</div>"
      ],
      "text/plain": [
       "Empty DataFrame\n",
       "Columns: [MODELYEAR, MAKE, MODEL, VEHICLECLASS, ENGINESIZE, CYLINDERS, TRANSMISSION, FUELTYPE, FUELCONSUMPTION_CITY, FUELCONSUMPTION_HWY, FUELCONSUMPTION_COMB, FUELCONSUMPTION_COMB_MPG, CO2EMISSIONS]\n",
       "Index: []"
      ]
     },
     "execution_count": 8,
     "metadata": {},
     "output_type": "execute_result"
    }
   ],
   "source": [
    "df[df.duplicated]"
   ]
  },
  {
   "cell_type": "markdown",
   "metadata": {},
   "source": [
    "**Correlation** "
   ]
  },
  {
   "cell_type": "markdown",
   "metadata": {},
   "source": [
    " correlation matrix is a useful tool for figuring out how different variables are related to each other. By looking at the correlation coefficients between two variables, we can learn how they are related and how changes in one variable may affect the other variables"
   ]
  },
  {
   "cell_type": "markdown",
   "metadata": {},
   "source": [
    "First we need to convert non numerical values to numerical values"
   ]
  },
  {
   "cell_type": "code",
   "execution_count": 9,
   "metadata": {},
   "outputs": [],
   "source": [
    "from sklearn.preprocessing import LabelEncoder"
   ]
  },
  {
   "cell_type": "markdown",
   "metadata": {},
   "source": [
    "Select columns for eoncoding"
   ]
  },
  {
   "cell_type": "code",
   "execution_count": 10,
   "metadata": {},
   "outputs": [],
   "source": [
    "categorical_column = ['MAKE', 'MODEL', 'TRANSMISSION', 'VEHICLECLASS']\n",
    "one_hot_column = ['FUELTYPE']"
   ]
  },
  {
   "cell_type": "markdown",
   "metadata": {},
   "source": [
    "an object of LabelEncoder"
   ]
  },
  {
   "cell_type": "code",
   "execution_count": 11,
   "metadata": {},
   "outputs": [],
   "source": [
    "le_encoder = LabelEncoder()"
   ]
  },
  {
   "cell_type": "markdown",
   "metadata": {},
   "source": [
    "Set Categorical encoding for selected columns"
   ]
  },
  {
   "cell_type": "code",
   "execution_count": 12,
   "metadata": {},
   "outputs": [
    {
     "data": {
      "text/html": [
       "<div>\n",
       "<style scoped>\n",
       "    .dataframe tbody tr th:only-of-type {\n",
       "        vertical-align: middle;\n",
       "    }\n",
       "\n",
       "    .dataframe tbody tr th {\n",
       "        vertical-align: top;\n",
       "    }\n",
       "\n",
       "    .dataframe thead th {\n",
       "        text-align: right;\n",
       "    }\n",
       "</style>\n",
       "<table border=\"1\" class=\"dataframe\">\n",
       "  <thead>\n",
       "    <tr style=\"text-align: right;\">\n",
       "      <th></th>\n",
       "      <th>MODELYEAR</th>\n",
       "      <th>MAKE</th>\n",
       "      <th>MODEL</th>\n",
       "      <th>VEHICLECLASS</th>\n",
       "      <th>ENGINESIZE</th>\n",
       "      <th>CYLINDERS</th>\n",
       "      <th>TRANSMISSION</th>\n",
       "      <th>FUELTYPE</th>\n",
       "      <th>FUELCONSUMPTION_CITY</th>\n",
       "      <th>FUELCONSUMPTION_HWY</th>\n",
       "      <th>FUELCONSUMPTION_COMB</th>\n",
       "      <th>FUELCONSUMPTION_COMB_MPG</th>\n",
       "      <th>CO2EMISSIONS</th>\n",
       "    </tr>\n",
       "  </thead>\n",
       "  <tbody>\n",
       "    <tr>\n",
       "      <th>0</th>\n",
       "      <td>2014</td>\n",
       "      <td>0</td>\n",
       "      <td>329</td>\n",
       "      <td>0</td>\n",
       "      <td>2.0</td>\n",
       "      <td>4</td>\n",
       "      <td>10</td>\n",
       "      <td>Z</td>\n",
       "      <td>9.9</td>\n",
       "      <td>6.7</td>\n",
       "      <td>8.5</td>\n",
       "      <td>33</td>\n",
       "      <td>196</td>\n",
       "    </tr>\n",
       "    <tr>\n",
       "      <th>1</th>\n",
       "      <td>2014</td>\n",
       "      <td>0</td>\n",
       "      <td>329</td>\n",
       "      <td>0</td>\n",
       "      <td>2.4</td>\n",
       "      <td>4</td>\n",
       "      <td>20</td>\n",
       "      <td>Z</td>\n",
       "      <td>11.2</td>\n",
       "      <td>7.7</td>\n",
       "      <td>9.6</td>\n",
       "      <td>29</td>\n",
       "      <td>221</td>\n",
       "    </tr>\n",
       "    <tr>\n",
       "      <th>2</th>\n",
       "      <td>2014</td>\n",
       "      <td>0</td>\n",
       "      <td>330</td>\n",
       "      <td>0</td>\n",
       "      <td>1.5</td>\n",
       "      <td>4</td>\n",
       "      <td>17</td>\n",
       "      <td>Z</td>\n",
       "      <td>6.0</td>\n",
       "      <td>5.8</td>\n",
       "      <td>5.9</td>\n",
       "      <td>48</td>\n",
       "      <td>136</td>\n",
       "    </tr>\n",
       "    <tr>\n",
       "      <th>3</th>\n",
       "      <td>2014</td>\n",
       "      <td>0</td>\n",
       "      <td>389</td>\n",
       "      <td>11</td>\n",
       "      <td>3.5</td>\n",
       "      <td>6</td>\n",
       "      <td>11</td>\n",
       "      <td>Z</td>\n",
       "      <td>12.7</td>\n",
       "      <td>9.1</td>\n",
       "      <td>11.1</td>\n",
       "      <td>25</td>\n",
       "      <td>255</td>\n",
       "    </tr>\n",
       "    <tr>\n",
       "      <th>4</th>\n",
       "      <td>2014</td>\n",
       "      <td>0</td>\n",
       "      <td>483</td>\n",
       "      <td>11</td>\n",
       "      <td>3.5</td>\n",
       "      <td>6</td>\n",
       "      <td>11</td>\n",
       "      <td>Z</td>\n",
       "      <td>12.1</td>\n",
       "      <td>8.7</td>\n",
       "      <td>10.6</td>\n",
       "      <td>27</td>\n",
       "      <td>244</td>\n",
       "    </tr>\n",
       "  </tbody>\n",
       "</table>\n",
       "</div>"
      ],
      "text/plain": [
       "   MODELYEAR  MAKE  MODEL  VEHICLECLASS  ENGINESIZE  CYLINDERS  TRANSMISSION  \\\n",
       "0       2014     0    329             0         2.0          4            10   \n",
       "1       2014     0    329             0         2.4          4            20   \n",
       "2       2014     0    330             0         1.5          4            17   \n",
       "3       2014     0    389            11         3.5          6            11   \n",
       "4       2014     0    483            11         3.5          6            11   \n",
       "\n",
       "  FUELTYPE  FUELCONSUMPTION_CITY  FUELCONSUMPTION_HWY  FUELCONSUMPTION_COMB  \\\n",
       "0        Z                   9.9                  6.7                   8.5   \n",
       "1        Z                  11.2                  7.7                   9.6   \n",
       "2        Z                   6.0                  5.8                   5.9   \n",
       "3        Z                  12.7                  9.1                  11.1   \n",
       "4        Z                  12.1                  8.7                  10.6   \n",
       "\n",
       "   FUELCONSUMPTION_COMB_MPG  CO2EMISSIONS  \n",
       "0                        33           196  \n",
       "1                        29           221  \n",
       "2                        48           136  \n",
       "3                        25           255  \n",
       "4                        27           244  "
      ]
     },
     "execution_count": 12,
     "metadata": {},
     "output_type": "execute_result"
    }
   ],
   "source": [
    "df[categorical_column] = df[categorical_column].apply(LabelEncoder().fit_transform)\n",
    "df.head()"
   ]
  },
  {
   "cell_type": "markdown",
   "metadata": {},
   "source": [
    "Set One hot encoding for selected column"
   ]
  },
  {
   "cell_type": "code",
   "execution_count": 13,
   "metadata": {},
   "outputs": [],
   "source": [
    "df = pd.get_dummies(df, columns=one_hot_column)"
   ]
  },
  {
   "cell_type": "code",
   "execution_count": 14,
   "metadata": {},
   "outputs": [
    {
     "data": {
      "text/html": [
       "<div>\n",
       "<style scoped>\n",
       "    .dataframe tbody tr th:only-of-type {\n",
       "        vertical-align: middle;\n",
       "    }\n",
       "\n",
       "    .dataframe tbody tr th {\n",
       "        vertical-align: top;\n",
       "    }\n",
       "\n",
       "    .dataframe thead th {\n",
       "        text-align: right;\n",
       "    }\n",
       "</style>\n",
       "<table border=\"1\" class=\"dataframe\">\n",
       "  <thead>\n",
       "    <tr style=\"text-align: right;\">\n",
       "      <th></th>\n",
       "      <th>MODELYEAR</th>\n",
       "      <th>MAKE</th>\n",
       "      <th>MODEL</th>\n",
       "      <th>VEHICLECLASS</th>\n",
       "      <th>ENGINESIZE</th>\n",
       "      <th>CYLINDERS</th>\n",
       "      <th>TRANSMISSION</th>\n",
       "      <th>FUELCONSUMPTION_CITY</th>\n",
       "      <th>FUELCONSUMPTION_HWY</th>\n",
       "      <th>FUELCONSUMPTION_COMB</th>\n",
       "      <th>FUELCONSUMPTION_COMB_MPG</th>\n",
       "      <th>CO2EMISSIONS</th>\n",
       "      <th>FUELTYPE_D</th>\n",
       "      <th>FUELTYPE_E</th>\n",
       "      <th>FUELTYPE_X</th>\n",
       "      <th>FUELTYPE_Z</th>\n",
       "    </tr>\n",
       "  </thead>\n",
       "  <tbody>\n",
       "    <tr>\n",
       "      <th>0</th>\n",
       "      <td>2014</td>\n",
       "      <td>0</td>\n",
       "      <td>329</td>\n",
       "      <td>0</td>\n",
       "      <td>2.0</td>\n",
       "      <td>4</td>\n",
       "      <td>10</td>\n",
       "      <td>9.9</td>\n",
       "      <td>6.7</td>\n",
       "      <td>8.5</td>\n",
       "      <td>33</td>\n",
       "      <td>196</td>\n",
       "      <td>False</td>\n",
       "      <td>False</td>\n",
       "      <td>False</td>\n",
       "      <td>True</td>\n",
       "    </tr>\n",
       "    <tr>\n",
       "      <th>1</th>\n",
       "      <td>2014</td>\n",
       "      <td>0</td>\n",
       "      <td>329</td>\n",
       "      <td>0</td>\n",
       "      <td>2.4</td>\n",
       "      <td>4</td>\n",
       "      <td>20</td>\n",
       "      <td>11.2</td>\n",
       "      <td>7.7</td>\n",
       "      <td>9.6</td>\n",
       "      <td>29</td>\n",
       "      <td>221</td>\n",
       "      <td>False</td>\n",
       "      <td>False</td>\n",
       "      <td>False</td>\n",
       "      <td>True</td>\n",
       "    </tr>\n",
       "    <tr>\n",
       "      <th>2</th>\n",
       "      <td>2014</td>\n",
       "      <td>0</td>\n",
       "      <td>330</td>\n",
       "      <td>0</td>\n",
       "      <td>1.5</td>\n",
       "      <td>4</td>\n",
       "      <td>17</td>\n",
       "      <td>6.0</td>\n",
       "      <td>5.8</td>\n",
       "      <td>5.9</td>\n",
       "      <td>48</td>\n",
       "      <td>136</td>\n",
       "      <td>False</td>\n",
       "      <td>False</td>\n",
       "      <td>False</td>\n",
       "      <td>True</td>\n",
       "    </tr>\n",
       "    <tr>\n",
       "      <th>3</th>\n",
       "      <td>2014</td>\n",
       "      <td>0</td>\n",
       "      <td>389</td>\n",
       "      <td>11</td>\n",
       "      <td>3.5</td>\n",
       "      <td>6</td>\n",
       "      <td>11</td>\n",
       "      <td>12.7</td>\n",
       "      <td>9.1</td>\n",
       "      <td>11.1</td>\n",
       "      <td>25</td>\n",
       "      <td>255</td>\n",
       "      <td>False</td>\n",
       "      <td>False</td>\n",
       "      <td>False</td>\n",
       "      <td>True</td>\n",
       "    </tr>\n",
       "    <tr>\n",
       "      <th>4</th>\n",
       "      <td>2014</td>\n",
       "      <td>0</td>\n",
       "      <td>483</td>\n",
       "      <td>11</td>\n",
       "      <td>3.5</td>\n",
       "      <td>6</td>\n",
       "      <td>11</td>\n",
       "      <td>12.1</td>\n",
       "      <td>8.7</td>\n",
       "      <td>10.6</td>\n",
       "      <td>27</td>\n",
       "      <td>244</td>\n",
       "      <td>False</td>\n",
       "      <td>False</td>\n",
       "      <td>False</td>\n",
       "      <td>True</td>\n",
       "    </tr>\n",
       "  </tbody>\n",
       "</table>\n",
       "</div>"
      ],
      "text/plain": [
       "   MODELYEAR  MAKE  MODEL  VEHICLECLASS  ENGINESIZE  CYLINDERS  TRANSMISSION  \\\n",
       "0       2014     0    329             0         2.0          4            10   \n",
       "1       2014     0    329             0         2.4          4            20   \n",
       "2       2014     0    330             0         1.5          4            17   \n",
       "3       2014     0    389            11         3.5          6            11   \n",
       "4       2014     0    483            11         3.5          6            11   \n",
       "\n",
       "   FUELCONSUMPTION_CITY  FUELCONSUMPTION_HWY  FUELCONSUMPTION_COMB  \\\n",
       "0                   9.9                  6.7                   8.5   \n",
       "1                  11.2                  7.7                   9.6   \n",
       "2                   6.0                  5.8                   5.9   \n",
       "3                  12.7                  9.1                  11.1   \n",
       "4                  12.1                  8.7                  10.6   \n",
       "\n",
       "   FUELCONSUMPTION_COMB_MPG  CO2EMISSIONS  FUELTYPE_D  FUELTYPE_E  FUELTYPE_X  \\\n",
       "0                        33           196       False       False       False   \n",
       "1                        29           221       False       False       False   \n",
       "2                        48           136       False       False       False   \n",
       "3                        25           255       False       False       False   \n",
       "4                        27           244       False       False       False   \n",
       "\n",
       "   FUELTYPE_Z  \n",
       "0        True  \n",
       "1        True  \n",
       "2        True  \n",
       "3        True  \n",
       "4        True  "
      ]
     },
     "execution_count": 14,
     "metadata": {},
     "output_type": "execute_result"
    }
   ],
   "source": [
    "df.head()"
   ]
  },
  {
   "cell_type": "code",
   "execution_count": 15,
   "metadata": {},
   "outputs": [
    {
     "data": {
      "text/html": [
       "<style type=\"text/css\">\n",
       "#T_d9a63_row0_col0, #T_d9a63_row1_col1, #T_d9a63_row2_col2, #T_d9a63_row3_col3, #T_d9a63_row4_col4, #T_d9a63_row5_col5, #T_d9a63_row6_col6, #T_d9a63_row6_col8, #T_d9a63_row7_col7, #T_d9a63_row8_col6, #T_d9a63_row8_col8, #T_d9a63_row9_col9, #T_d9a63_row10_col10, #T_d9a63_row11_col11, #T_d9a63_row12_col12, #T_d9a63_row13_col13, #T_d9a63_row14_col14 {\n",
       "  background-color: #b40426;\n",
       "  color: #f1f1f1;\n",
       "}\n",
       "#T_d9a63_row0_col1 {\n",
       "  background-color: #6e90f2;\n",
       "  color: #f1f1f1;\n",
       "}\n",
       "#T_d9a63_row0_col2, #T_d9a63_row6_col13 {\n",
       "  background-color: #93b5fe;\n",
       "  color: #000000;\n",
       "}\n",
       "#T_d9a63_row0_col3, #T_d9a63_row5_col0, #T_d9a63_row12_col2, #T_d9a63_row13_col10 {\n",
       "  background-color: #b1cbfc;\n",
       "  color: #000000;\n",
       "}\n",
       "#T_d9a63_row0_col4, #T_d9a63_row5_col10, #T_d9a63_row13_col6 {\n",
       "  background-color: #a5c3fe;\n",
       "  color: #000000;\n",
       "}\n",
       "#T_d9a63_row0_col5, #T_d9a63_row11_col8 {\n",
       "  background-color: #c1d4f4;\n",
       "  color: #000000;\n",
       "}\n",
       "#T_d9a63_row0_col6, #T_d9a63_row11_col13 {\n",
       "  background-color: #b2ccfb;\n",
       "  color: #000000;\n",
       "}\n",
       "#T_d9a63_row0_col7, #T_d9a63_row9_col0 {\n",
       "  background-color: #bad0f8;\n",
       "  color: #000000;\n",
       "}\n",
       "#T_d9a63_row0_col8 {\n",
       "  background-color: #b5cdfa;\n",
       "  color: #000000;\n",
       "}\n",
       "#T_d9a63_row0_col9 {\n",
       "  background-color: #f2cbb7;\n",
       "  color: #000000;\n",
       "}\n",
       "#T_d9a63_row0_col10, #T_d9a63_row9_col14 {\n",
       "  background-color: #b9d0f9;\n",
       "  color: #000000;\n",
       "}\n",
       "#T_d9a63_row0_col11, #T_d9a63_row0_col12 {\n",
       "  background-color: #7699f6;\n",
       "  color: #f1f1f1;\n",
       "}\n",
       "#T_d9a63_row0_col13, #T_d9a63_row1_col3 {\n",
       "  background-color: #dddcdc;\n",
       "  color: #000000;\n",
       "}\n",
       "#T_d9a63_row0_col14 {\n",
       "  background-color: #c9d7f0;\n",
       "  color: #000000;\n",
       "}\n",
       "#T_d9a63_row1_col0 {\n",
       "  background-color: #85a8fc;\n",
       "  color: #f1f1f1;\n",
       "}\n",
       "#T_d9a63_row1_col2 {\n",
       "  background-color: #cdd9ec;\n",
       "  color: #000000;\n",
       "}\n",
       "#T_d9a63_row1_col4 {\n",
       "  background-color: #d7dce3;\n",
       "  color: #000000;\n",
       "}\n",
       "#T_d9a63_row1_col5, #T_d9a63_row6_col1 {\n",
       "  background-color: #90b2fe;\n",
       "  color: #000000;\n",
       "}\n",
       "#T_d9a63_row1_col6, #T_d9a63_row14_col10 {\n",
       "  background-color: #ebd3c6;\n",
       "  color: #000000;\n",
       "}\n",
       "#T_d9a63_row1_col7 {\n",
       "  background-color: #edd2c3;\n",
       "  color: #000000;\n",
       "}\n",
       "#T_d9a63_row1_col8, #T_d9a63_row12_col10 {\n",
       "  background-color: #ecd3c5;\n",
       "  color: #000000;\n",
       "}\n",
       "#T_d9a63_row1_col9, #T_d9a63_row2_col14 {\n",
       "  background-color: #c3d5f4;\n",
       "  color: #000000;\n",
       "}\n",
       "#T_d9a63_row1_col10 {\n",
       "  background-color: #ead4c8;\n",
       "  color: #000000;\n",
       "}\n",
       "#T_d9a63_row1_col11, #T_d9a63_row7_col0 {\n",
       "  background-color: #4b64d5;\n",
       "  color: #f1f1f1;\n",
       "}\n",
       "#T_d9a63_row1_col12, #T_d9a63_row2_col1 {\n",
       "  background-color: #adc9fd;\n",
       "  color: #000000;\n",
       "}\n",
       "#T_d9a63_row1_col13, #T_d9a63_row14_col8 {\n",
       "  background-color: #dbdcde;\n",
       "  color: #000000;\n",
       "}\n",
       "#T_d9a63_row1_col14, #T_d9a63_row11_col7 {\n",
       "  background-color: #bcd2f7;\n",
       "  color: #000000;\n",
       "}\n",
       "#T_d9a63_row2_col0 {\n",
       "  background-color: #7b9ff9;\n",
       "  color: #f1f1f1;\n",
       "}\n",
       "#T_d9a63_row2_col3, #T_d9a63_row7_col2, #T_d9a63_row12_col3, #T_d9a63_row14_col4 {\n",
       "  background-color: #efcfbf;\n",
       "  color: #000000;\n",
       "}\n",
       "#T_d9a63_row2_col4 {\n",
       "  background-color: #ead5c9;\n",
       "  color: #000000;\n",
       "}\n",
       "#T_d9a63_row2_col5, #T_d9a63_row5_col2 {\n",
       "  background-color: #6485ec;\n",
       "  color: #f1f1f1;\n",
       "}\n",
       "#T_d9a63_row2_col6 {\n",
       "  background-color: #f7b89c;\n",
       "  color: #000000;\n",
       "}\n",
       "#T_d9a63_row2_col7, #T_d9a63_row6_col12 {\n",
       "  background-color: #f7ad90;\n",
       "  color: #000000;\n",
       "}\n",
       "#T_d9a63_row2_col8 {\n",
       "  background-color: #f7b396;\n",
       "  color: #000000;\n",
       "}\n",
       "#T_d9a63_row2_col9, #T_d9a63_row5_col8, #T_d9a63_row13_col3 {\n",
       "  background-color: #9ebeff;\n",
       "  color: #000000;\n",
       "}\n",
       "#T_d9a63_row2_col10 {\n",
       "  background-color: #f7b497;\n",
       "  color: #000000;\n",
       "}\n",
       "#T_d9a63_row2_col11 {\n",
       "  background-color: #5d7ce6;\n",
       "  color: #f1f1f1;\n",
       "}\n",
       "#T_d9a63_row2_col12 {\n",
       "  background-color: #bbd1f8;\n",
       "  color: #000000;\n",
       "}\n",
       "#T_d9a63_row2_col13 {\n",
       "  background-color: #cedaeb;\n",
       "  color: #000000;\n",
       "}\n",
       "#T_d9a63_row3_col0, #T_d9a63_row3_col9 {\n",
       "  background-color: #4e68d8;\n",
       "  color: #f1f1f1;\n",
       "}\n",
       "#T_d9a63_row3_col1, #T_d9a63_row14_col2 {\n",
       "  background-color: #80a3fa;\n",
       "  color: #f1f1f1;\n",
       "}\n",
       "#T_d9a63_row3_col2 {\n",
       "  background-color: #ccd9ed;\n",
       "  color: #000000;\n",
       "}\n",
       "#T_d9a63_row3_col4, #T_d9a63_row4_col3 {\n",
       "  background-color: #c12b30;\n",
       "  color: #f1f1f1;\n",
       "}\n",
       "#T_d9a63_row3_col5 {\n",
       "  background-color: #4c66d6;\n",
       "  color: #f1f1f1;\n",
       "}\n",
       "#T_d9a63_row3_col6 {\n",
       "  background-color: #d24b40;\n",
       "  color: #f1f1f1;\n",
       "}\n",
       "#T_d9a63_row3_col7, #T_d9a63_row4_col8, #T_d9a63_row6_col4 {\n",
       "  background-color: #da5a49;\n",
       "  color: #f1f1f1;\n",
       "}\n",
       "#T_d9a63_row3_col8, #T_d9a63_row6_col3 {\n",
       "  background-color: #d44e41;\n",
       "  color: #f1f1f1;\n",
       "}\n",
       "#T_d9a63_row3_col10 {\n",
       "  background-color: #cb3e38;\n",
       "  color: #f1f1f1;\n",
       "}\n",
       "#T_d9a63_row3_col11, #T_d9a63_row11_col1 {\n",
       "  background-color: #4a63d3;\n",
       "  color: #f1f1f1;\n",
       "}\n",
       "#T_d9a63_row3_col12 {\n",
       "  background-color: #d4dbe6;\n",
       "  color: #000000;\n",
       "}\n",
       "#T_d9a63_row3_col13, #T_d9a63_row5_col3, #T_d9a63_row5_col4, #T_d9a63_row7_col13 {\n",
       "  background-color: #9dbdff;\n",
       "  color: #000000;\n",
       "}\n",
       "#T_d9a63_row3_col14, #T_d9a63_row14_col3 {\n",
       "  background-color: #e6d7cf;\n",
       "  color: #000000;\n",
       "}\n",
       "#T_d9a63_row4_col0 {\n",
       "  background-color: #445acc;\n",
       "  color: #f1f1f1;\n",
       "}\n",
       "#T_d9a63_row4_col1 {\n",
       "  background-color: #7a9df8;\n",
       "  color: #f1f1f1;\n",
       "}\n",
       "#T_d9a63_row4_col2, #T_d9a63_row10_col12 {\n",
       "  background-color: #c5d6f2;\n",
       "  color: #000000;\n",
       "}\n",
       "#T_d9a63_row4_col5, #T_d9a63_row12_col5 {\n",
       "  background-color: #536edd;\n",
       "  color: #f1f1f1;\n",
       "}\n",
       "#T_d9a63_row4_col6 {\n",
       "  background-color: #d75445;\n",
       "  color: #f1f1f1;\n",
       "}\n",
       "#T_d9a63_row4_col7 {\n",
       "  background-color: #e36b54;\n",
       "  color: #f1f1f1;\n",
       "}\n",
       "#T_d9a63_row4_col9 {\n",
       "  background-color: #5470de;\n",
       "  color: #f1f1f1;\n",
       "}\n",
       "#T_d9a63_row4_col10 {\n",
       "  background-color: #d0473d;\n",
       "  color: #f1f1f1;\n",
       "}\n",
       "#T_d9a63_row4_col11 {\n",
       "  background-color: #516ddb;\n",
       "  color: #f1f1f1;\n",
       "}\n",
       "#T_d9a63_row4_col12, #T_d9a63_row11_col10 {\n",
       "  background-color: #cbd8ee;\n",
       "  color: #000000;\n",
       "}\n",
       "#T_d9a63_row4_col13 {\n",
       "  background-color: #8fb1fe;\n",
       "  color: #000000;\n",
       "}\n",
       "#T_d9a63_row4_col14 {\n",
       "  background-color: #f0cdbb;\n",
       "  color: #000000;\n",
       "}\n",
       "#T_d9a63_row5_col1, #T_d9a63_row5_col12 {\n",
       "  background-color: #6282ea;\n",
       "  color: #f1f1f1;\n",
       "}\n",
       "#T_d9a63_row5_col6, #T_d9a63_row12_col14 {\n",
       "  background-color: #9fbfff;\n",
       "  color: #000000;\n",
       "}\n",
       "#T_d9a63_row5_col7, #T_d9a63_row7_col1, #T_d9a63_row9_col11 {\n",
       "  background-color: #9abbff;\n",
       "  color: #000000;\n",
       "}\n",
       "#T_d9a63_row5_col9 {\n",
       "  background-color: #f7ba9f;\n",
       "  color: #000000;\n",
       "}\n",
       "#T_d9a63_row5_col11 {\n",
       "  background-color: #6687ed;\n",
       "  color: #f1f1f1;\n",
       "}\n",
       "#T_d9a63_row5_col13 {\n",
       "  background-color: #c7d7f0;\n",
       "  color: #000000;\n",
       "}\n",
       "#T_d9a63_row5_col14, #T_d9a63_row8_col2, #T_d9a63_row12_col4 {\n",
       "  background-color: #e8d6cc;\n",
       "  color: #000000;\n",
       "}\n",
       "#T_d9a63_row6_col0, #T_d9a63_row6_col5, #T_d9a63_row6_col9, #T_d9a63_row7_col5, #T_d9a63_row7_col11, #T_d9a63_row8_col5, #T_d9a63_row9_col1, #T_d9a63_row9_col2, #T_d9a63_row9_col3, #T_d9a63_row9_col4, #T_d9a63_row9_col6, #T_d9a63_row9_col7, #T_d9a63_row9_col8, #T_d9a63_row9_col10, #T_d9a63_row9_col12, #T_d9a63_row13_col11, #T_d9a63_row13_col14, #T_d9a63_row14_col13 {\n",
       "  background-color: #3b4cc0;\n",
       "  color: #f1f1f1;\n",
       "}\n",
       "#T_d9a63_row6_col2 {\n",
       "  background-color: #e2dad5;\n",
       "  color: #000000;\n",
       "}\n",
       "#T_d9a63_row6_col7, #T_d9a63_row7_col6 {\n",
       "  background-color: #ba162b;\n",
       "  color: #f1f1f1;\n",
       "}\n",
       "#T_d9a63_row6_col10, #T_d9a63_row10_col6 {\n",
       "  background-color: #c73635;\n",
       "  color: #f1f1f1;\n",
       "}\n",
       "#T_d9a63_row6_col11, #T_d9a63_row10_col9 {\n",
       "  background-color: #3e51c5;\n",
       "  color: #f1f1f1;\n",
       "}\n",
       "#T_d9a63_row6_col14 {\n",
       "  background-color: #d5dbe5;\n",
       "  color: #000000;\n",
       "}\n",
       "#T_d9a63_row7_col3 {\n",
       "  background-color: #dd5f4b;\n",
       "  color: #f1f1f1;\n",
       "}\n",
       "#T_d9a63_row7_col4 {\n",
       "  background-color: #e46e56;\n",
       "  color: #f1f1f1;\n",
       "}\n",
       "#T_d9a63_row7_col8, #T_d9a63_row8_col7 {\n",
       "  background-color: #b50927;\n",
       "  color: #f1f1f1;\n",
       "}\n",
       "#T_d9a63_row7_col9 {\n",
       "  background-color: #4055c8;\n",
       "  color: #f1f1f1;\n",
       "}\n",
       "#T_d9a63_row7_col10, #T_d9a63_row10_col7 {\n",
       "  background-color: #cd423b;\n",
       "  color: #f1f1f1;\n",
       "}\n",
       "#T_d9a63_row7_col12 {\n",
       "  background-color: #f7a688;\n",
       "  color: #000000;\n",
       "}\n",
       "#T_d9a63_row7_col14 {\n",
       "  background-color: #cad8ef;\n",
       "  color: #000000;\n",
       "}\n",
       "#T_d9a63_row8_col0, #T_d9a63_row14_col11 {\n",
       "  background-color: #3f53c6;\n",
       "  color: #f1f1f1;\n",
       "}\n",
       "#T_d9a63_row8_col1 {\n",
       "  background-color: #94b6ff;\n",
       "  color: #000000;\n",
       "}\n",
       "#T_d9a63_row8_col3 {\n",
       "  background-color: #d65244;\n",
       "  color: #f1f1f1;\n",
       "}\n",
       "#T_d9a63_row8_col4 {\n",
       "  background-color: #de614d;\n",
       "  color: #f1f1f1;\n",
       "}\n",
       "#T_d9a63_row8_col9 {\n",
       "  background-color: #3c4ec2;\n",
       "  color: #f1f1f1;\n",
       "}\n",
       "#T_d9a63_row8_col10, #T_d9a63_row10_col8 {\n",
       "  background-color: #c83836;\n",
       "  color: #f1f1f1;\n",
       "}\n",
       "#T_d9a63_row8_col11 {\n",
       "  background-color: #3d50c3;\n",
       "  color: #f1f1f1;\n",
       "}\n",
       "#T_d9a63_row8_col12 {\n",
       "  background-color: #f7a98b;\n",
       "  color: #000000;\n",
       "}\n",
       "#T_d9a63_row8_col13 {\n",
       "  background-color: #96b7ff;\n",
       "  color: #000000;\n",
       "}\n",
       "#T_d9a63_row8_col14 {\n",
       "  background-color: #d1dae9;\n",
       "  color: #000000;\n",
       "}\n",
       "#T_d9a63_row9_col5 {\n",
       "  background-color: #e0dbd8;\n",
       "  color: #000000;\n",
       "}\n",
       "#T_d9a63_row9_col13 {\n",
       "  background-color: #f3c8b2;\n",
       "  color: #000000;\n",
       "}\n",
       "#T_d9a63_row10_col0 {\n",
       "  background-color: #4961d2;\n",
       "  color: #f1f1f1;\n",
       "}\n",
       "#T_d9a63_row10_col1, #T_d9a63_row11_col5, #T_d9a63_row11_col12, #T_d9a63_row12_col9, #T_d9a63_row13_col2 {\n",
       "  background-color: #92b4fe;\n",
       "  color: #000000;\n",
       "}\n",
       "#T_d9a63_row10_col2 {\n",
       "  background-color: #e9d5cb;\n",
       "  color: #000000;\n",
       "}\n",
       "#T_d9a63_row10_col3 {\n",
       "  background-color: #cc403a;\n",
       "  color: #f1f1f1;\n",
       "}\n",
       "#T_d9a63_row10_col4 {\n",
       "  background-color: #d1493f;\n",
       "  color: #f1f1f1;\n",
       "}\n",
       "#T_d9a63_row10_col5 {\n",
       "  background-color: #465ecf;\n",
       "  color: #f1f1f1;\n",
       "}\n",
       "#T_d9a63_row10_col11 {\n",
       "  background-color: #506bda;\n",
       "  color: #f1f1f1;\n",
       "}\n",
       "#T_d9a63_row10_col13 {\n",
       "  background-color: #a3c2fe;\n",
       "  color: #000000;\n",
       "}\n",
       "#T_d9a63_row10_col14 {\n",
       "  background-color: #e5d8d1;\n",
       "  color: #000000;\n",
       "}\n",
       "#T_d9a63_row11_col0, #T_d9a63_row11_col2, #T_d9a63_row13_col4 {\n",
       "  background-color: #8badfd;\n",
       "  color: #000000;\n",
       "}\n",
       "#T_d9a63_row11_col3, #T_d9a63_row11_col4 {\n",
       "  background-color: #bfd3f6;\n",
       "  color: #000000;\n",
       "}\n",
       "#T_d9a63_row11_col6 {\n",
       "  background-color: #c4d5f3;\n",
       "  color: #000000;\n",
       "}\n",
       "#T_d9a63_row11_col9 {\n",
       "  background-color: #eed0c0;\n",
       "  color: #000000;\n",
       "}\n",
       "#T_d9a63_row11_col14 {\n",
       "  background-color: #b6cefa;\n",
       "  color: #000000;\n",
       "}\n",
       "#T_d9a63_row12_col0 {\n",
       "  background-color: #4f69d9;\n",
       "  color: #f1f1f1;\n",
       "}\n",
       "#T_d9a63_row12_col1 {\n",
       "  background-color: #7597f6;\n",
       "  color: #f1f1f1;\n",
       "}\n",
       "#T_d9a63_row12_col6 {\n",
       "  background-color: #f18f71;\n",
       "  color: #f1f1f1;\n",
       "}\n",
       "#T_d9a63_row12_col7 {\n",
       "  background-color: #f08a6c;\n",
       "  color: #f1f1f1;\n",
       "}\n",
       "#T_d9a63_row12_col8 {\n",
       "  background-color: #f08b6e;\n",
       "  color: #f1f1f1;\n",
       "}\n",
       "#T_d9a63_row12_col11, #T_d9a63_row13_col12 {\n",
       "  background-color: #5673e0;\n",
       "  color: #f1f1f1;\n",
       "}\n",
       "#T_d9a63_row12_col13, #T_d9a63_row13_col0 {\n",
       "  background-color: #97b8ff;\n",
       "  color: #000000;\n",
       "}\n",
       "#T_d9a63_row13_col1 {\n",
       "  background-color: #7ea1fa;\n",
       "  color: #f1f1f1;\n",
       "}\n",
       "#T_d9a63_row13_col5 {\n",
       "  background-color: #86a9fc;\n",
       "  color: #f1f1f1;\n",
       "}\n",
       "#T_d9a63_row13_col7 {\n",
       "  background-color: #a9c6fd;\n",
       "  color: #000000;\n",
       "}\n",
       "#T_d9a63_row13_col8 {\n",
       "  background-color: #a6c4fe;\n",
       "  color: #000000;\n",
       "}\n",
       "#T_d9a63_row13_col9 {\n",
       "  background-color: #f5c0a7;\n",
       "  color: #000000;\n",
       "}\n",
       "#T_d9a63_row14_col0 {\n",
       "  background-color: #7295f4;\n",
       "  color: #f1f1f1;\n",
       "}\n",
       "#T_d9a63_row14_col1 {\n",
       "  background-color: #485fd1;\n",
       "  color: #f1f1f1;\n",
       "}\n",
       "#T_d9a63_row14_col5 {\n",
       "  background-color: #bed2f6;\n",
       "  color: #000000;\n",
       "}\n",
       "#T_d9a63_row14_col6 {\n",
       "  background-color: #dedcdb;\n",
       "  color: #000000;\n",
       "}\n",
       "#T_d9a63_row14_col7 {\n",
       "  background-color: #d3dbe7;\n",
       "  color: #000000;\n",
       "}\n",
       "#T_d9a63_row14_col9 {\n",
       "  background-color: #c6d6f1;\n",
       "  color: #000000;\n",
       "}\n",
       "#T_d9a63_row14_col12 {\n",
       "  background-color: #5f7fe8;\n",
       "  color: #f1f1f1;\n",
       "}\n",
       "</style>\n",
       "<table id=\"T_d9a63\">\n",
       "  <thead>\n",
       "    <tr>\n",
       "      <th class=\"blank level0\" >&nbsp;</th>\n",
       "      <th id=\"T_d9a63_level0_col0\" class=\"col_heading level0 col0\" >MAKE</th>\n",
       "      <th id=\"T_d9a63_level0_col1\" class=\"col_heading level0 col1\" >MODEL</th>\n",
       "      <th id=\"T_d9a63_level0_col2\" class=\"col_heading level0 col2\" >VEHICLECLASS</th>\n",
       "      <th id=\"T_d9a63_level0_col3\" class=\"col_heading level0 col3\" >ENGINESIZE</th>\n",
       "      <th id=\"T_d9a63_level0_col4\" class=\"col_heading level0 col4\" >CYLINDERS</th>\n",
       "      <th id=\"T_d9a63_level0_col5\" class=\"col_heading level0 col5\" >TRANSMISSION</th>\n",
       "      <th id=\"T_d9a63_level0_col6\" class=\"col_heading level0 col6\" >FUELCONSUMPTION_CITY</th>\n",
       "      <th id=\"T_d9a63_level0_col7\" class=\"col_heading level0 col7\" >FUELCONSUMPTION_HWY</th>\n",
       "      <th id=\"T_d9a63_level0_col8\" class=\"col_heading level0 col8\" >FUELCONSUMPTION_COMB</th>\n",
       "      <th id=\"T_d9a63_level0_col9\" class=\"col_heading level0 col9\" >FUELCONSUMPTION_COMB_MPG</th>\n",
       "      <th id=\"T_d9a63_level0_col10\" class=\"col_heading level0 col10\" >CO2EMISSIONS</th>\n",
       "      <th id=\"T_d9a63_level0_col11\" class=\"col_heading level0 col11\" >FUELTYPE_D</th>\n",
       "      <th id=\"T_d9a63_level0_col12\" class=\"col_heading level0 col12\" >FUELTYPE_E</th>\n",
       "      <th id=\"T_d9a63_level0_col13\" class=\"col_heading level0 col13\" >FUELTYPE_X</th>\n",
       "      <th id=\"T_d9a63_level0_col14\" class=\"col_heading level0 col14\" >FUELTYPE_Z</th>\n",
       "    </tr>\n",
       "  </thead>\n",
       "  <tbody>\n",
       "    <tr>\n",
       "      <th id=\"T_d9a63_level0_row0\" class=\"row_heading level0 row0\" >MAKE</th>\n",
       "      <td id=\"T_d9a63_row0_col0\" class=\"data row0 col0\" >1.000000</td>\n",
       "      <td id=\"T_d9a63_row0_col1\" class=\"data row0 col1\" >0.039068</td>\n",
       "      <td id=\"T_d9a63_row0_col2\" class=\"data row0 col2\" >0.005853</td>\n",
       "      <td id=\"T_d9a63_row0_col3\" class=\"data row0 col3\" >-0.166416</td>\n",
       "      <td id=\"T_d9a63_row0_col4\" class=\"data row0 col4\" >-0.203427</td>\n",
       "      <td id=\"T_d9a63_row0_col5\" class=\"data row0 col5\" >0.193264</td>\n",
       "      <td id=\"T_d9a63_row0_col6\" class=\"data row0 col6\" >-0.246247</td>\n",
       "      <td id=\"T_d9a63_row0_col7\" class=\"data row0 col7\" >-0.174665</td>\n",
       "      <td id=\"T_d9a63_row0_col8\" class=\"data row0 col8\" >-0.222273</td>\n",
       "      <td id=\"T_d9a63_row0_col9\" class=\"data row0 col9\" >0.226347</td>\n",
       "      <td id=\"T_d9a63_row0_col10\" class=\"data row0 col10\" >-0.186504</td>\n",
       "      <td id=\"T_d9a63_row0_col11\" class=\"data row0 col11\" >0.057305</td>\n",
       "      <td id=\"T_d9a63_row0_col12\" class=\"data row0 col12\" >-0.158673</td>\n",
       "      <td id=\"T_d9a63_row0_col13\" class=\"data row0 col13\" >0.102489</td>\n",
       "      <td id=\"T_d9a63_row0_col14\" class=\"data row0 col14\" >-0.031904</td>\n",
       "    </tr>\n",
       "    <tr>\n",
       "      <th id=\"T_d9a63_level0_row1\" class=\"row_heading level0 row1\" >MODEL</th>\n",
       "      <td id=\"T_d9a63_row1_col0\" class=\"data row1 col0\" >0.039068</td>\n",
       "      <td id=\"T_d9a63_row1_col1\" class=\"data row1 col1\" >1.000000</td>\n",
       "      <td id=\"T_d9a63_row1_col2\" class=\"data row1 col2\" >0.244648</td>\n",
       "      <td id=\"T_d9a63_row1_col3\" class=\"data row1 col3\" >0.096304</td>\n",
       "      <td id=\"T_d9a63_row1_col4\" class=\"data row1 col4\" >0.080010</td>\n",
       "      <td id=\"T_d9a63_row1_col5\" class=\"data row1 col5\" >-0.002004</td>\n",
       "      <td id=\"T_d9a63_row1_col6\" class=\"data row1 col6\" >0.147394</td>\n",
       "      <td id=\"T_d9a63_row1_col7\" class=\"data row1 col7\" >0.182009</td>\n",
       "      <td id=\"T_d9a63_row1_col8\" class=\"data row1 col8\" >0.161373</td>\n",
       "      <td id=\"T_d9a63_row1_col9\" class=\"data row1 col9\" >-0.148806</td>\n",
       "      <td id=\"T_d9a63_row1_col10\" class=\"data row1 col10\" >0.155492</td>\n",
       "      <td id=\"T_d9a63_row1_col11\" class=\"data row1 col11\" >-0.088906</td>\n",
       "      <td id=\"T_d9a63_row1_col12\" class=\"data row1 col12\" >0.060654</td>\n",
       "      <td id=\"T_d9a63_row1_col13\" class=\"data row1 col13\" >0.090685</td>\n",
       "      <td id=\"T_d9a63_row1_col14\" class=\"data row1 col14\" >-0.098477</td>\n",
       "    </tr>\n",
       "    <tr>\n",
       "      <th id=\"T_d9a63_level0_row2\" class=\"row_heading level0 row2\" >VEHICLECLASS</th>\n",
       "      <td id=\"T_d9a63_row2_col0\" class=\"data row2 col0\" >0.005853</td>\n",
       "      <td id=\"T_d9a63_row2_col1\" class=\"data row2 col1\" >0.244648</td>\n",
       "      <td id=\"T_d9a63_row2_col2\" class=\"data row2 col2\" >1.000000</td>\n",
       "      <td id=\"T_d9a63_row2_col3\" class=\"data row2 col3\" >0.240529</td>\n",
       "      <td id=\"T_d9a63_row2_col4\" class=\"data row2 col4\" >0.208528</td>\n",
       "      <td id=\"T_d9a63_row2_col5\" class=\"data row2 col5\" >-0.172934</td>\n",
       "      <td id=\"T_d9a63_row2_col6\" class=\"data row2 col6\" >0.354363</td>\n",
       "      <td id=\"T_d9a63_row2_col7\" class=\"data row2 col7\" >0.430074</td>\n",
       "      <td id=\"T_d9a63_row2_col8\" class=\"data row2 col8\" >0.384678</td>\n",
       "      <td id=\"T_d9a63_row2_col9\" class=\"data row2 col9\" >-0.354073</td>\n",
       "      <td id=\"T_d9a63_row2_col10\" class=\"data row2 col10\" >0.388468</td>\n",
       "      <td id=\"T_d9a63_row2_col11\" class=\"data row2 col11\" >-0.024735</td>\n",
       "      <td id=\"T_d9a63_row2_col12\" class=\"data row2 col12\" >0.125846</td>\n",
       "      <td id=\"T_d9a63_row2_col13\" class=\"data row2 col13\" >0.003160</td>\n",
       "      <td id=\"T_d9a63_row2_col14\" class=\"data row2 col14\" >-0.067216</td>\n",
       "    </tr>\n",
       "    <tr>\n",
       "      <th id=\"T_d9a63_level0_row3\" class=\"row_heading level0 row3\" >ENGINESIZE</th>\n",
       "      <td id=\"T_d9a63_row3_col0\" class=\"data row3 col0\" >-0.166416</td>\n",
       "      <td id=\"T_d9a63_row3_col1\" class=\"data row3 col1\" >0.096304</td>\n",
       "      <td id=\"T_d9a63_row3_col2\" class=\"data row3 col2\" >0.240529</td>\n",
       "      <td id=\"T_d9a63_row3_col3\" class=\"data row3 col3\" >1.000000</td>\n",
       "      <td id=\"T_d9a63_row3_col4\" class=\"data row3 col4\" >0.934011</td>\n",
       "      <td id=\"T_d9a63_row3_col5\" class=\"data row3 col5\" >-0.272427</td>\n",
       "      <td id=\"T_d9a63_row3_col6\" class=\"data row3 col6\" >0.832225</td>\n",
       "      <td id=\"T_d9a63_row3_col7\" class=\"data row3 col7\" >0.778746</td>\n",
       "      <td id=\"T_d9a63_row3_col8\" class=\"data row3 col8\" >0.819482</td>\n",
       "      <td id=\"T_d9a63_row3_col9\" class=\"data row3 col9\" >-0.808554</td>\n",
       "      <td id=\"T_d9a63_row3_col10\" class=\"data row3 col10\" >0.874154</td>\n",
       "      <td id=\"T_d9a63_row3_col11\" class=\"data row3 col11\" >-0.093400</td>\n",
       "      <td id=\"T_d9a63_row3_col12\" class=\"data row3 col12\" >0.237674</td>\n",
       "      <td id=\"T_d9a63_row3_col13\" class=\"data row3 col13\" >-0.266920</td>\n",
       "      <td id=\"T_d9a63_row3_col14\" class=\"data row3 col14\" >0.165557</td>\n",
       "    </tr>\n",
       "    <tr>\n",
       "      <th id=\"T_d9a63_level0_row4\" class=\"row_heading level0 row4\" >CYLINDERS</th>\n",
       "      <td id=\"T_d9a63_row4_col0\" class=\"data row4 col0\" >-0.203427</td>\n",
       "      <td id=\"T_d9a63_row4_col1\" class=\"data row4 col1\" >0.080010</td>\n",
       "      <td id=\"T_d9a63_row4_col2\" class=\"data row4 col2\" >0.208528</td>\n",
       "      <td id=\"T_d9a63_row4_col3\" class=\"data row4 col3\" >0.934011</td>\n",
       "      <td id=\"T_d9a63_row4_col4\" class=\"data row4 col4\" >1.000000</td>\n",
       "      <td id=\"T_d9a63_row4_col5\" class=\"data row4 col5\" >-0.246456</td>\n",
       "      <td id=\"T_d9a63_row4_col6\" class=\"data row4 col6\" >0.796473</td>\n",
       "      <td id=\"T_d9a63_row4_col7\" class=\"data row4 col7\" >0.724594</td>\n",
       "      <td id=\"T_d9a63_row4_col8\" class=\"data row4 col8\" >0.776788</td>\n",
       "      <td id=\"T_d9a63_row4_col9\" class=\"data row4 col9\" >-0.770430</td>\n",
       "      <td id=\"T_d9a63_row4_col10\" class=\"data row4 col10\" >0.849685</td>\n",
       "      <td id=\"T_d9a63_row4_col11\" class=\"data row4 col11\" >-0.067955</td>\n",
       "      <td id=\"T_d9a63_row4_col12\" class=\"data row4 col12\" >0.194920</td>\n",
       "      <td id=\"T_d9a63_row4_col13\" class=\"data row4 col13\" >-0.339827</td>\n",
       "      <td id=\"T_d9a63_row4_col14\" class=\"data row4 col14\" >0.256011</td>\n",
       "    </tr>\n",
       "    <tr>\n",
       "      <th id=\"T_d9a63_level0_row5\" class=\"row_heading level0 row5\" >TRANSMISSION</th>\n",
       "      <td id=\"T_d9a63_row5_col0\" class=\"data row5 col0\" >0.193264</td>\n",
       "      <td id=\"T_d9a63_row5_col1\" class=\"data row5 col1\" >-0.002004</td>\n",
       "      <td id=\"T_d9a63_row5_col2\" class=\"data row5 col2\" >-0.172934</td>\n",
       "      <td id=\"T_d9a63_row5_col3\" class=\"data row5 col3\" >-0.272427</td>\n",
       "      <td id=\"T_d9a63_row5_col4\" class=\"data row5 col4\" >-0.246456</td>\n",
       "      <td id=\"T_d9a63_row5_col5\" class=\"data row5 col5\" >1.000000</td>\n",
       "      <td id=\"T_d9a63_row5_col6\" class=\"data row5 col6\" >-0.350241</td>\n",
       "      <td id=\"T_d9a63_row5_col7\" class=\"data row5 col7\" >-0.348174</td>\n",
       "      <td id=\"T_d9a63_row5_col8\" class=\"data row5 col8\" >-0.352596</td>\n",
       "      <td id=\"T_d9a63_row5_col9\" class=\"data row5 col9\" >0.341119</td>\n",
       "      <td id=\"T_d9a63_row5_col10\" class=\"data row5 col10\" >-0.299393</td>\n",
       "      <td id=\"T_d9a63_row5_col11\" class=\"data row5 col11\" >0.004390</td>\n",
       "      <td id=\"T_d9a63_row5_col12\" class=\"data row5 col12\" >-0.245111</td>\n",
       "      <td id=\"T_d9a63_row5_col13\" class=\"data row5 col13\" >-0.038929</td>\n",
       "      <td id=\"T_d9a63_row5_col14\" class=\"data row5 col14\" >0.178253</td>\n",
       "    </tr>\n",
       "    <tr>\n",
       "      <th id=\"T_d9a63_level0_row6\" class=\"row_heading level0 row6\" >FUELCONSUMPTION_CITY</th>\n",
       "      <td id=\"T_d9a63_row6_col0\" class=\"data row6 col0\" >-0.246247</td>\n",
       "      <td id=\"T_d9a63_row6_col1\" class=\"data row6 col1\" >0.147394</td>\n",
       "      <td id=\"T_d9a63_row6_col2\" class=\"data row6 col2\" >0.354363</td>\n",
       "      <td id=\"T_d9a63_row6_col3\" class=\"data row6 col3\" >0.832225</td>\n",
       "      <td id=\"T_d9a63_row6_col4\" class=\"data row6 col4\" >0.796473</td>\n",
       "      <td id=\"T_d9a63_row6_col5\" class=\"data row6 col5\" >-0.350241</td>\n",
       "      <td id=\"T_d9a63_row6_col6\" class=\"data row6 col6\" >1.000000</td>\n",
       "      <td id=\"T_d9a63_row6_col7\" class=\"data row6 col7\" >0.965718</td>\n",
       "      <td id=\"T_d9a63_row6_col8\" class=\"data row6 col8\" >0.995542</td>\n",
       "      <td id=\"T_d9a63_row6_col9\" class=\"data row6 col9\" >-0.935613</td>\n",
       "      <td id=\"T_d9a63_row6_col10\" class=\"data row6 col10\" >0.898039</td>\n",
       "      <td id=\"T_d9a63_row6_col11\" class=\"data row6 col11\" >-0.139180</td>\n",
       "      <td id=\"T_d9a63_row6_col12\" class=\"data row6 col12\" >0.567070</td>\n",
       "      <td id=\"T_d9a63_row6_col13\" class=\"data row6 col13\" >-0.319701</td>\n",
       "      <td id=\"T_d9a63_row6_col14\" class=\"data row6 col14\" >0.045660</td>\n",
       "    </tr>\n",
       "    <tr>\n",
       "      <th id=\"T_d9a63_level0_row7\" class=\"row_heading level0 row7\" >FUELCONSUMPTION_HWY</th>\n",
       "      <td id=\"T_d9a63_row7_col0\" class=\"data row7 col0\" >-0.174665</td>\n",
       "      <td id=\"T_d9a63_row7_col1\" class=\"data row7 col1\" >0.182009</td>\n",
       "      <td id=\"T_d9a63_row7_col2\" class=\"data row7 col2\" >0.430074</td>\n",
       "      <td id=\"T_d9a63_row7_col3\" class=\"data row7 col3\" >0.778746</td>\n",
       "      <td id=\"T_d9a63_row7_col4\" class=\"data row7 col4\" >0.724594</td>\n",
       "      <td id=\"T_d9a63_row7_col5\" class=\"data row7 col5\" >-0.348174</td>\n",
       "      <td id=\"T_d9a63_row7_col6\" class=\"data row7 col6\" >0.965718</td>\n",
       "      <td id=\"T_d9a63_row7_col7\" class=\"data row7 col7\" >1.000000</td>\n",
       "      <td id=\"T_d9a63_row7_col8\" class=\"data row7 col8\" >0.985804</td>\n",
       "      <td id=\"T_d9a63_row7_col9\" class=\"data row7 col9\" >-0.893809</td>\n",
       "      <td id=\"T_d9a63_row7_col10\" class=\"data row7 col10\" >0.861748</td>\n",
       "      <td id=\"T_d9a63_row7_col11\" class=\"data row7 col11\" >-0.154498</td>\n",
       "      <td id=\"T_d9a63_row7_col12\" class=\"data row7 col12\" >0.598684</td>\n",
       "      <td id=\"T_d9a63_row7_col13\" class=\"data row7 col13\" >-0.269105</td>\n",
       "      <td id=\"T_d9a63_row7_col14\" class=\"data row7 col14\" >-0.018973</td>\n",
       "    </tr>\n",
       "    <tr>\n",
       "      <th id=\"T_d9a63_level0_row8\" class=\"row_heading level0 row8\" >FUELCONSUMPTION_COMB</th>\n",
       "      <td id=\"T_d9a63_row8_col0\" class=\"data row8 col0\" >-0.222273</td>\n",
       "      <td id=\"T_d9a63_row8_col1\" class=\"data row8 col1\" >0.161373</td>\n",
       "      <td id=\"T_d9a63_row8_col2\" class=\"data row8 col2\" >0.384678</td>\n",
       "      <td id=\"T_d9a63_row8_col3\" class=\"data row8 col3\" >0.819482</td>\n",
       "      <td id=\"T_d9a63_row8_col4\" class=\"data row8 col4\" >0.776788</td>\n",
       "      <td id=\"T_d9a63_row8_col5\" class=\"data row8 col5\" >-0.352596</td>\n",
       "      <td id=\"T_d9a63_row8_col6\" class=\"data row8 col6\" >0.995542</td>\n",
       "      <td id=\"T_d9a63_row8_col7\" class=\"data row8 col7\" >0.985804</td>\n",
       "      <td id=\"T_d9a63_row8_col8\" class=\"data row8 col8\" >1.000000</td>\n",
       "      <td id=\"T_d9a63_row8_col9\" class=\"data row8 col9\" >-0.927965</td>\n",
       "      <td id=\"T_d9a63_row8_col10\" class=\"data row8 col10\" >0.892129</td>\n",
       "      <td id=\"T_d9a63_row8_col11\" class=\"data row8 col11\" >-0.145396</td>\n",
       "      <td id=\"T_d9a63_row8_col12\" class=\"data row8 col12\" >0.583125</td>\n",
       "      <td id=\"T_d9a63_row8_col13\" class=\"data row8 col13\" >-0.303950</td>\n",
       "      <td id=\"T_d9a63_row8_col14\" class=\"data row8 col14\" >0.022451</td>\n",
       "    </tr>\n",
       "    <tr>\n",
       "      <th id=\"T_d9a63_level0_row9\" class=\"row_heading level0 row9\" >FUELCONSUMPTION_COMB_MPG</th>\n",
       "      <td id=\"T_d9a63_row9_col0\" class=\"data row9 col0\" >0.226347</td>\n",
       "      <td id=\"T_d9a63_row9_col1\" class=\"data row9 col1\" >-0.148806</td>\n",
       "      <td id=\"T_d9a63_row9_col2\" class=\"data row9 col2\" >-0.354073</td>\n",
       "      <td id=\"T_d9a63_row9_col3\" class=\"data row9 col3\" >-0.808554</td>\n",
       "      <td id=\"T_d9a63_row9_col4\" class=\"data row9 col4\" >-0.770430</td>\n",
       "      <td id=\"T_d9a63_row9_col5\" class=\"data row9 col5\" >0.341119</td>\n",
       "      <td id=\"T_d9a63_row9_col6\" class=\"data row9 col6\" >-0.935613</td>\n",
       "      <td id=\"T_d9a63_row9_col7\" class=\"data row9 col7\" >-0.893809</td>\n",
       "      <td id=\"T_d9a63_row9_col8\" class=\"data row9 col8\" >-0.927965</td>\n",
       "      <td id=\"T_d9a63_row9_col9\" class=\"data row9 col9\" >1.000000</td>\n",
       "      <td id=\"T_d9a63_row9_col10\" class=\"data row9 col10\" >-0.906394</td>\n",
       "      <td id=\"T_d9a63_row9_col11\" class=\"data row9 col11\" >0.176731</td>\n",
       "      <td id=\"T_d9a63_row9_col12\" class=\"data row9 col12\" >-0.425172</td>\n",
       "      <td id=\"T_d9a63_row9_col13\" class=\"data row9 col13\" >0.300779</td>\n",
       "      <td id=\"T_d9a63_row9_col14\" class=\"data row9 col14\" >-0.119499</td>\n",
       "    </tr>\n",
       "    <tr>\n",
       "      <th id=\"T_d9a63_level0_row10\" class=\"row_heading level0 row10\" >CO2EMISSIONS</th>\n",
       "      <td id=\"T_d9a63_row10_col0\" class=\"data row10 col0\" >-0.186504</td>\n",
       "      <td id=\"T_d9a63_row10_col1\" class=\"data row10 col1\" >0.155492</td>\n",
       "      <td id=\"T_d9a63_row10_col2\" class=\"data row10 col2\" >0.388468</td>\n",
       "      <td id=\"T_d9a63_row10_col3\" class=\"data row10 col3\" >0.874154</td>\n",
       "      <td id=\"T_d9a63_row10_col4\" class=\"data row10 col4\" >0.849685</td>\n",
       "      <td id=\"T_d9a63_row10_col5\" class=\"data row10 col5\" >-0.299393</td>\n",
       "      <td id=\"T_d9a63_row10_col6\" class=\"data row10 col6\" >0.898039</td>\n",
       "      <td id=\"T_d9a63_row10_col7\" class=\"data row10 col7\" >0.861748</td>\n",
       "      <td id=\"T_d9a63_row10_col8\" class=\"data row10 col8\" >0.892129</td>\n",
       "      <td id=\"T_d9a63_row10_col9\" class=\"data row10 col9\" >-0.906394</td>\n",
       "      <td id=\"T_d9a63_row10_col10\" class=\"data row10 col10\" >1.000000</td>\n",
       "      <td id=\"T_d9a63_row10_col11\" class=\"data row10 col11\" >-0.072371</td>\n",
       "      <td id=\"T_d9a63_row10_col12\" class=\"data row10 col12\" >0.169045</td>\n",
       "      <td id=\"T_d9a63_row10_col13\" class=\"data row10 col13\" >-0.230304</td>\n",
       "      <td id=\"T_d9a63_row10_col14\" class=\"data row10 col14\" >0.160804</td>\n",
       "    </tr>\n",
       "    <tr>\n",
       "      <th id=\"T_d9a63_level0_row11\" class=\"row_heading level0 row11\" >FUELTYPE_D</th>\n",
       "      <td id=\"T_d9a63_row11_col0\" class=\"data row11 col0\" >0.057305</td>\n",
       "      <td id=\"T_d9a63_row11_col1\" class=\"data row11 col1\" >-0.088906</td>\n",
       "      <td id=\"T_d9a63_row11_col2\" class=\"data row11 col2\" >-0.024735</td>\n",
       "      <td id=\"T_d9a63_row11_col3\" class=\"data row11 col3\" >-0.093400</td>\n",
       "      <td id=\"T_d9a63_row11_col4\" class=\"data row11 col4\" >-0.067955</td>\n",
       "      <td id=\"T_d9a63_row11_col5\" class=\"data row11 col5\" >0.004390</td>\n",
       "      <td id=\"T_d9a63_row11_col6\" class=\"data row11 col6\" >-0.139180</td>\n",
       "      <td id=\"T_d9a63_row11_col7\" class=\"data row11 col7\" >-0.154498</td>\n",
       "      <td id=\"T_d9a63_row11_col8\" class=\"data row11 col8\" >-0.145396</td>\n",
       "      <td id=\"T_d9a63_row11_col9\" class=\"data row11 col9\" >0.176731</td>\n",
       "      <td id=\"T_d9a63_row11_col10\" class=\"data row11 col10\" >-0.072371</td>\n",
       "      <td id=\"T_d9a63_row11_col11\" class=\"data row11 col11\" >1.000000</td>\n",
       "      <td id=\"T_d9a63_row11_col12\" class=\"data row11 col12\" >-0.049494</td>\n",
       "      <td id=\"T_d9a63_row11_col13\" class=\"data row11 col13\" >-0.155340</td>\n",
       "      <td id=\"T_d9a63_row11_col14\" class=\"data row11 col14\" >-0.133416</td>\n",
       "    </tr>\n",
       "    <tr>\n",
       "      <th id=\"T_d9a63_level0_row12\" class=\"row_heading level0 row12\" >FUELTYPE_E</th>\n",
       "      <td id=\"T_d9a63_row12_col0\" class=\"data row12 col0\" >-0.158673</td>\n",
       "      <td id=\"T_d9a63_row12_col1\" class=\"data row12 col1\" >0.060654</td>\n",
       "      <td id=\"T_d9a63_row12_col2\" class=\"data row12 col2\" >0.125846</td>\n",
       "      <td id=\"T_d9a63_row12_col3\" class=\"data row12 col3\" >0.237674</td>\n",
       "      <td id=\"T_d9a63_row12_col4\" class=\"data row12 col4\" >0.194920</td>\n",
       "      <td id=\"T_d9a63_row12_col5\" class=\"data row12 col5\" >-0.245111</td>\n",
       "      <td id=\"T_d9a63_row12_col6\" class=\"data row12 col6\" >0.567070</td>\n",
       "      <td id=\"T_d9a63_row12_col7\" class=\"data row12 col7\" >0.598684</td>\n",
       "      <td id=\"T_d9a63_row12_col8\" class=\"data row12 col8\" >0.583125</td>\n",
       "      <td id=\"T_d9a63_row12_col9\" class=\"data row12 col9\" >-0.425172</td>\n",
       "      <td id=\"T_d9a63_row12_col10\" class=\"data row12 col10\" >0.169045</td>\n",
       "      <td id=\"T_d9a63_row12_col11\" class=\"data row12 col11\" >-0.049494</td>\n",
       "      <td id=\"T_d9a63_row12_col12\" class=\"data row12 col12\" >1.000000</td>\n",
       "      <td id=\"T_d9a63_row12_col13\" class=\"data row12 col13\" >-0.296149</td>\n",
       "      <td id=\"T_d9a63_row12_col14\" class=\"data row12 col14\" >-0.254352</td>\n",
       "    </tr>\n",
       "    <tr>\n",
       "      <th id=\"T_d9a63_level0_row13\" class=\"row_heading level0 row13\" >FUELTYPE_X</th>\n",
       "      <td id=\"T_d9a63_row13_col0\" class=\"data row13 col0\" >0.102489</td>\n",
       "      <td id=\"T_d9a63_row13_col1\" class=\"data row13 col1\" >0.090685</td>\n",
       "      <td id=\"T_d9a63_row13_col2\" class=\"data row13 col2\" >0.003160</td>\n",
       "      <td id=\"T_d9a63_row13_col3\" class=\"data row13 col3\" >-0.266920</td>\n",
       "      <td id=\"T_d9a63_row13_col4\" class=\"data row13 col4\" >-0.339827</td>\n",
       "      <td id=\"T_d9a63_row13_col5\" class=\"data row13 col5\" >-0.038929</td>\n",
       "      <td id=\"T_d9a63_row13_col6\" class=\"data row13 col6\" >-0.319701</td>\n",
       "      <td id=\"T_d9a63_row13_col7\" class=\"data row13 col7\" >-0.269105</td>\n",
       "      <td id=\"T_d9a63_row13_col8\" class=\"data row13 col8\" >-0.303950</td>\n",
       "      <td id=\"T_d9a63_row13_col9\" class=\"data row13 col9\" >0.300779</td>\n",
       "      <td id=\"T_d9a63_row13_col10\" class=\"data row13 col10\" >-0.230304</td>\n",
       "      <td id=\"T_d9a63_row13_col11\" class=\"data row13 col11\" >-0.155340</td>\n",
       "      <td id=\"T_d9a63_row13_col12\" class=\"data row13 col12\" >-0.296149</td>\n",
       "      <td id=\"T_d9a63_row13_col13\" class=\"data row13 col13\" >1.000000</td>\n",
       "      <td id=\"T_d9a63_row13_col14\" class=\"data row13 col14\" >-0.798292</td>\n",
       "    </tr>\n",
       "    <tr>\n",
       "      <th id=\"T_d9a63_level0_row14\" class=\"row_heading level0 row14\" >FUELTYPE_Z</th>\n",
       "      <td id=\"T_d9a63_row14_col0\" class=\"data row14 col0\" >-0.031904</td>\n",
       "      <td id=\"T_d9a63_row14_col1\" class=\"data row14 col1\" >-0.098477</td>\n",
       "      <td id=\"T_d9a63_row14_col2\" class=\"data row14 col2\" >-0.067216</td>\n",
       "      <td id=\"T_d9a63_row14_col3\" class=\"data row14 col3\" >0.165557</td>\n",
       "      <td id=\"T_d9a63_row14_col4\" class=\"data row14 col4\" >0.256011</td>\n",
       "      <td id=\"T_d9a63_row14_col5\" class=\"data row14 col5\" >0.178253</td>\n",
       "      <td id=\"T_d9a63_row14_col6\" class=\"data row14 col6\" >0.045660</td>\n",
       "      <td id=\"T_d9a63_row14_col7\" class=\"data row14 col7\" >-0.018973</td>\n",
       "      <td id=\"T_d9a63_row14_col8\" class=\"data row14 col8\" >0.022451</td>\n",
       "      <td id=\"T_d9a63_row14_col9\" class=\"data row14 col9\" >-0.119499</td>\n",
       "      <td id=\"T_d9a63_row14_col10\" class=\"data row14 col10\" >0.160804</td>\n",
       "      <td id=\"T_d9a63_row14_col11\" class=\"data row14 col11\" >-0.133416</td>\n",
       "      <td id=\"T_d9a63_row14_col12\" class=\"data row14 col12\" >-0.254352</td>\n",
       "      <td id=\"T_d9a63_row14_col13\" class=\"data row14 col13\" >-0.798292</td>\n",
       "      <td id=\"T_d9a63_row14_col14\" class=\"data row14 col14\" >1.000000</td>\n",
       "    </tr>\n",
       "  </tbody>\n",
       "</table>\n"
      ],
      "text/plain": [
       "<pandas.io.formats.style.Styler at 0x217bbd327d0>"
      ]
     },
     "execution_count": 15,
     "metadata": {},
     "output_type": "execute_result"
    }
   ],
   "source": [
    "corr = df.drop(columns=['MODELYEAR']).corr()\n",
    "corr.style.background_gradient(cmap='coolwarm')"
   ]
  },
  {
   "cell_type": "markdown",
   "metadata": {},
   "source": [
    "Our goal is to predict the amount of CO2 EMISSION based on the available data"
   ]
  },
  {
   "cell_type": "markdown",
   "metadata": {},
   "source": [
    "Let's select some features to explore more.\n",
    "based on above corr matrix we select 3 of high corr (becase if corr is higher it's mean good relation beetwen variables)"
   ]
  },
  {
   "cell_type": "code",
   "execution_count": 16,
   "metadata": {},
   "outputs": [],
   "source": [
    "data = df[['ENGINESIZE','CYLINDERS','FUELCONSUMPTION_COMB','CO2EMISSIONS']]"
   ]
  },
  {
   "cell_type": "code",
   "execution_count": 17,
   "metadata": {},
   "outputs": [
    {
     "data": {
      "image/png": "[encoded data removed]",
      "text/plain": [
       "<Figure size 640x480 with 4 Axes>"
      ]
     },
     "metadata": {},
     "output_type": "display_data"
    }
   ],
   "source": [
    "viz = data[['CYLINDERS','ENGINESIZE','CO2EMISSIONS','FUELCONSUMPTION_COMB']]\n",
    "viz.hist()\n",
    "plt.show()"
   ]
  },
  {
   "cell_type": "code",
   "execution_count": 18,
   "metadata": {},
   "outputs": [
    {
     "data": {
      "image/png": "[encoded data removed]",
      "text/plain": [
       "<Figure size 640x480 with 1 Axes>"
      ]
     },
     "metadata": {},
     "output_type": "display_data"
    }
   ],
   "source": [
    "plt.scatter(data.CYLINDERS, data.CO2EMISSIONS, color='red')\n",
    "plt.xlabel(\"Cylinders\")\n",
    "plt.ylabel(\"Emission\")\n",
    "plt.show()"
   ]
  },
  {
   "cell_type": "code",
   "execution_count": 19,
   "metadata": {},
   "outputs": [
    {
     "data": {
      "image/png": "[encoded data removed]",
      "text/plain": [
       "<Figure size 640x480 with 1 Axes>"
      ]
     },
     "metadata": {},
     "output_type": "display_data"
    }
   ],
   "source": [
    "plt.scatter(data.FUELCONSUMPTION_COMB, data.CO2EMISSIONS, color='red')\n",
    "plt.xlabel(\"FUELCONSUMPTION_COMB\")\n",
    "plt.ylabel(\"Emission\")\n",
    "plt.show()"
   ]
  },
  {
   "cell_type": "code",
   "execution_count": 20,
   "metadata": {},
   "outputs": [
    {
     "data": {
      "image/png": "[encoded data removed]",
      "text/plain": [
       "<Figure size 640x480 with 1 Axes>"
      ]
     },
     "metadata": {},
     "output_type": "display_data"
    }
   ],
   "source": [
    "plt.scatter(data.ENGINESIZE, data.CO2EMISSIONS, color='red')\n",
    "plt.xlabel(\"ENGINESIZE\")\n",
    "plt.ylabel(\"Emission\")\n",
    "plt.show()"
   ]
  },
  {
   "cell_type": "markdown",
   "metadata": {},
   "source": [
    "From above charts we decide to Use ```ENGINESIZE```  for regression\n",
    "\n",
    "Because There is a relatively linear relationship"
   ]
  },
  {
   "cell_type": "markdown",
   "metadata": {},
   "source": [
    "**import libraries for ML algorithms**"
   ]
  },
  {
   "cell_type": "code",
   "execution_count": 21,
   "metadata": {},
   "outputs": [],
   "source": [
    "#Function for split data beetwen Train and Split\n",
    "from sklearn.model_selection import train_test_split\n",
    "#Function for Linear Regression model\n",
    "from sklearn.linear_model import LinearRegression\n",
    "#Accuracy metric\n",
    "from sklearn.metrics import mean_absolute_error, mean_squared_error, mean_absolute_percentage_error, r2_score"
   ]
  },
  {
   "cell_type": "markdown",
   "metadata": {},
   "source": [
    "Output columns is ```CO2EMISSION```"
   ]
  },
  {
   "cell_type": "code",
   "execution_count": 22,
   "metadata": {},
   "outputs": [],
   "source": [
    "X = df.drop('CO2EMISSIONS', axis=1)\n",
    "y = df['CO2EMISSIONS']"
   ]
  },
  {
   "cell_type": "markdown",
   "metadata": {},
   "source": [
    "Split the data into training and testing sets\n",
    "\n",
    "80 % for train\n",
    "\n",
    "20% for test"
   ]
  },
  {
   "cell_type": "code",
   "execution_count": 23,
   "metadata": {},
   "outputs": [],
   "source": [
    "X_train, X_test, y_train, y_test = train_test_split(X, y, test_size=0.2, random_state=42)"
   ]
  },
  {
   "cell_type": "markdown",
   "metadata": {},
   "source": [
    "Initialize the model"
   ]
  },
  {
   "cell_type": "code",
   "execution_count": 24,
   "metadata": {},
   "outputs": [],
   "source": [
    "model = LinearRegression()"
   ]
  },
  {
   "cell_type": "markdown",
   "metadata": {},
   "source": [
    "Train the model"
   ]
  },
  {
   "cell_type": "code",
   "execution_count": 25,
   "metadata": {},
   "outputs": [
    {
     "data": {
      "text/html": [
       "<style>#sk-container-id-1 {color: black;}#sk-container-id-1 pre{padding: 0;}#sk-container-id-1 div.sk-toggleable {background-color: white;}#sk-container-id-1 label.sk-toggleable__label {cursor: pointer;display: block;width: 100%;margin-bottom: 0;padding: 0.3em;box-sizing: border-box;text-align: center;}#sk-container-id-1 label.sk-toggleable__label-arrow:before {content: \"▸\";float: left;margin-right: 0.25em;color: #696969;}#sk-container-id-1 label.sk-toggleable__label-arrow:hover:before {color: black;}#sk-container-id-1 div.sk-estimator:hover label.sk-toggleable__label-arrow:before {color: black;}#sk-container-id-1 div.sk-toggleable__content {max-height: 0;max-width: 0;overflow: hidden;text-align: left;background-color: #f0f8ff;}#sk-container-id-1 div.sk-toggleable__content pre {margin: 0.2em;color: black;border-radius: 0.25em;background-color: #f0f8ff;}#sk-container-id-1 input.sk-toggleable__control:checked~div.sk-toggleable__content {max-height: 200px;max-width: 100%;overflow: auto;}#sk-container-id-1 input.sk-toggleable__control:checked~label.sk-toggleable__label-arrow:before {content: \"▾\";}#sk-container-id-1 div.sk-estimator input.sk-toggleable__control:checked~label.sk-toggleable__label {background-color: #d4ebff;}#sk-container-id-1 div.sk-label input.sk-toggleable__control:checked~label.sk-toggleable__label {background-color: #d4ebff;}#sk-container-id-1 input.sk-hidden--visually {border: 0;clip: rect(1px 1px 1px 1px);clip: rect(1px, 1px, 1px, 1px);height: 1px;margin: -1px;overflow: hidden;padding: 0;position: absolute;width: 1px;}#sk-container-id-1 div.sk-estimator {font-family: monospace;background-color: #f0f8ff;border: 1px dotted black;border-radius: 0.25em;box-sizing: border-box;margin-bottom: 0.5em;}#sk-container-id-1 div.sk-estimator:hover {background-color: #d4ebff;}#sk-container-id-1 div.sk-parallel-item::after {content: \"\";width: 100%;border-bottom: 1px solid gray;flex-grow: 1;}#sk-container-id-1 div.sk-label:hover label.sk-toggleable__label {background-color: #d4ebff;}#sk-container-id-1 div.sk-serial::before {content: \"\";position: absolute;border-left: 1px solid gray;box-sizing: border-box;top: 0;bottom: 0;left: 50%;z-index: 0;}#sk-container-id-1 div.sk-serial {display: flex;flex-direction: column;align-items: center;background-color: white;padding-right: 0.2em;padding-left: 0.2em;position: relative;}#sk-container-id-1 div.sk-item {position: relative;z-index: 1;}#sk-container-id-1 div.sk-parallel {display: flex;align-items: stretch;justify-content: center;background-color: white;position: relative;}#sk-container-id-1 div.sk-item::before, #sk-container-id-1 div.sk-parallel-item::before {content: \"\";position: absolute;border-left: 1px solid gray;box-sizing: border-box;top: 0;bottom: 0;left: 50%;z-index: -1;}#sk-container-id-1 div.sk-parallel-item {display: flex;flex-direction: column;z-index: 1;position: relative;background-color: white;}#sk-container-id-1 div.sk-parallel-item:first-child::after {align-self: flex-end;width: 50%;}#sk-container-id-1 div.sk-parallel-item:last-child::after {align-self: flex-start;width: 50%;}#sk-container-id-1 div.sk-parallel-item:only-child::after {width: 0;}#sk-container-id-1 div.sk-dashed-wrapped {border: 1px dashed gray;margin: 0 0.4em 0.5em 0.4em;box-sizing: border-box;padding-bottom: 0.4em;background-color: white;}#sk-container-id-1 div.sk-label label {font-family: monospace;font-weight: bold;display: inline-block;line-height: 1.2em;}#sk-container-id-1 div.sk-label-container {text-align: center;}#sk-container-id-1 div.sk-container {/* jupyter's `normalize.less` sets `[hidden] { display: none; }` but bootstrap.min.css set `[hidden] { display: none !important; }` so we also need the `!important` here to be able to override the default hidden behavior on the sphinx rendered scikit-learn.org. See: https://github.com/scikit-learn/scikit-learn/issues/21755 */display: inline-block !important;position: relative;}#sk-container-id-1 div.sk-text-repr-fallback {display: none;}</style><div id=\"sk-container-id-1\" class=\"sk-top-container\"><div class=\"sk-text-repr-fallback\"><pre>LinearRegression()</pre><b>In a Jupyter environment, please rerun this cell to show the HTML representation or trust the notebook. <br />On GitHub, the HTML representation is unable to render, please try loading this page with nbviewer.org.</b></div><div class=\"sk-container\" hidden><div class=\"sk-item\"><div class=\"sk-estimator sk-toggleable\"><input class=\"sk-toggleable__control sk-hidden--visually\" id=\"sk-estimator-id-1\" type=\"checkbox\" checked><label for=\"sk-estimator-id-1\" class=\"sk-toggleable__label sk-toggleable__label-arrow\">LinearRegression</label><div class=\"sk-toggleable__content\"><pre>LinearRegression()</pre></div></div></div></div></div>"
      ],
      "text/plain": [
       "LinearRegression()"
      ]
     },
     "execution_count": 25,
     "metadata": {},
     "output_type": "execute_result"
    }
   ],
   "source": [
    "X_train = np.asanyarray(X_train[['ENGINESIZE']])\n",
    "model.fit(X_train, y_train)"
   ]
  },
  {
   "cell_type": "markdown",
   "metadata": {},
   "source": [
    "Make predictions on the test set"
   ]
  },
  {
   "cell_type": "code",
   "execution_count": 26,
   "metadata": {},
   "outputs": [],
   "source": [
    "X_test = np.asanyarray(X_test[['ENGINESIZE']])\n",
    "y_pred = model.predict(X_test)"
   ]
  },
  {
   "cell_type": "markdown",
   "metadata": {},
   "source": [
    "Calculate regression metrics"
   ]
  },
  {
   "cell_type": "markdown",
   "metadata": {},
   "source": [
    "<b>Mean Absolute Error (MAE):</b>\n",
    "\n",
    "* Interpretation:\n",
    "\n",
    "MAE measures the average absolute difference between predicted and actual values. A lower MAE indicates a better fit.\n",
    "\n",
    "* Analysis:\n",
    "\n",
    "Compare the MAE to the scale of the target variable. A lower MAE suggests that the model's predictions are closer to the actual values."
   ]
  },
  {
   "cell_type": "markdown",
   "metadata": {},
   "source": [
    "<b>Mean Squared Error (MSE):</b>\n",
    "\n",
    "* Interpretation: \n",
    "\n",
    "MSE measures the average of the squared differences between predicted and actual values. It penalizes larger errors more heavily.\n",
    "\n",
    "* Analysis: \n",
    "\n",
    "Similar to MAE, MSE should be compared to the scale of the target variable. A lower MSE indicates a better fit."
   ]
  },
  {
   "cell_type": "markdown",
   "metadata": {},
   "source": [
    "<b>Mean Absolute Percentage Error (MAPE):</b>\n",
    "\n",
    "* Interpretation: \n",
    "\n",
    "MAPE measures the percentage difference between predicted and actual values.\n",
    "\n",
    "* Analysis: \n",
    "\n",
    "MAPE is useful when you want to understand the relative size of prediction errors. A lower MAPE indicates a better fit."
   ]
  },
  {
   "cell_type": "markdown",
   "metadata": {},
   "source": [
    "<b>R-squared (R2) Score:</b>\n",
    "\n",
    "* Interpretation: \n",
    "\n",
    "R2 measures the proportion of the variance in the dependent variable that is predictable from the independent variables. A higher R2 indicates a better fit.\n",
    "\n",
    "* Analysis: \n",
    "\n",
    "R2 ranges from 0 to 1. A value closer to 1 suggests that the model explains a large portion of the variance in the target variable."
   ]
  },
  {
   "cell_type": "code",
   "execution_count": 27,
   "metadata": {},
   "outputs": [],
   "source": [
    "mae = mean_absolute_error(y_test, y_pred)\n",
    "mse = mean_squared_error(y_test, y_pred)\n",
    "mape = mean_absolute_percentage_error(y_test, y_pred)\n",
    "r2 = r2_score(y_test, y_pred)"
   ]
  },
  {
   "cell_type": "code",
   "execution_count": 28,
   "metadata": {},
   "outputs": [
    {
     "name": "stdout",
     "output_type": "stream",
     "text": [
      "Mean Absolute Error (MAE): 24.09725741170784\n",
      "Mean Squared Error (MSE): 985.9381692274999\n",
      "Mean Absolute Percentage Error (MAPE): 0.10268043126886091\n",
      "R-squared (R2) Score: 0.7615595731934373\n"
     ]
    }
   ],
   "source": [
    "print('Mean Absolute Error (MAE):', mae)\n",
    "print('Mean Squared Error (MSE):', mse)\n",
    "print('Mean Absolute Percentage Error (MAPE):', mape)\n",
    "print('R-squared (R2) Score:', r2)"
   ]
  },
  {
   "cell_type": "markdown",
   "metadata": {},
   "source": [
    "Simple Scatter plot"
   ]
  },
  {
   "cell_type": "code",
   "execution_count": 29,
   "metadata": {},
   "outputs": [
    {
     "data": {
      "text/plain": [
       "<matplotlib.collections.PathCollection at 0x217be2818d0>"
      ]
     },
     "execution_count": 29,
     "metadata": {},
     "output_type": "execute_result"
    },
    {
     "data": {
      "image/png": "[encoded data removed]",
      "text/plain": [
       "<Figure size 640x480 with 1 Axes>"
      ]
     },
     "metadata": {},
     "output_type": "display_data"
    }
   ],
   "source": [
    "plt.scatter(y_test,y_pred)"
   ]
  },
  {
   "cell_type": "markdown",
   "metadata": {},
   "source": [
    "Scatter plot with regression line"
   ]
  },
  {
   "cell_type": "code",
   "execution_count": 38,
   "metadata": {},
   "outputs": [
    {
     "data": {
      "text/plain": [
       "<Axes: xlabel='CO2EMISSIONS'>"
      ]
     },
     "execution_count": 38,
     "metadata": {},
     "output_type": "execute_result"
    },
    {
     "data": {
      "image/png": "[encoded data removed]",
      "text/plain": [
       "<Figure size 640x480 with 1 Axes>"
      ]
     },
     "metadata": {},
     "output_type": "display_data"
    }
   ],
   "source": [
    "sns.regplot(x = y_test, y = y_pred,\n",
    "            scatter_kws = {\"color\": \"black\", \"alpha\": 0.5},\n",
    "            line_kws = {\"color\": \"red\"})"
   ]
  },
  {
   "cell_type": "markdown",
   "metadata": {},
   "source": [
    "## Logistic Regression (for  Binary Classification)"
   ]
  },
  {
   "cell_type": "markdown",
   "metadata": {},
   "source": [
    "Logistic regression is a supervised machine learning algorithm mainly used for classification tasks where the goal is to predict the probability that an instance of belonging to a given class or not"
   ]
  },
  {
   "cell_type": "markdown",
   "metadata": {},
   "source": [
    "### About The Dataset \n",
    "\n",
    "<div dir=ltr style=\"direction: ltr;text-align: right;line-height:200%;font-family:vazir;font-size:medium\">\n",
    "<font face=\"vazir\" size=3>\n",
    "<center>\n",
    "\n",
    "| Column | Description |\n",
    "|:-----------:|:------:|\n",
    "| age |Age of the person|\n",
    "| sex | Gender of the person|\n",
    "| exng |exercise induced angina (1 = yes, 0 = no)|\n",
    "| ca | number of major vessels (0-3)|\n",
    "| cp | Chest Pain type (1: typical angina, 2: atypical angina, 3: non-anginal pain, 4: asymptomatic)|\n",
    "| chol | cholestoral in mg/dl fetched via BMI sensor|\n",
    "| fbs |(fasting blood sugar > 120 mg/dl) (1 = true; 0 = false)|\n",
    "| restecg | 0: normal, 1: having ST-T wave abnormality (T wave inversions and/or ST elevation or depression of > 0.05 mV), 2: showing probable or definite left ventricular hypertrophy by Estes' criteria|\n",
    "| thalach | maximum heart rate achieved|\n",
    "| output | 0 = less chance of heart attack , 1 = more chance of heart attack|\n",
    "| trtbps | resting blood pressure (in mm Hg)|\n",
    "| oldpeak | Previous peak|\n",
    "\n",
    "</center>\n",
    "</font>\n",
    "</div>"
   ]
  },
  {
   "cell_type": "markdown",
   "metadata": {},
   "source": [
    "**Reading Dataset**"
   ]
  },
  {
   "cell_type": "code",
   "execution_count": null,
   "metadata": {},
   "outputs": [],
   "source": [
    "path = './heart.csv'\n",
    "df = pd.read_csv(path)"
   ]
  },
  {
   "cell_type": "markdown",
   "metadata": {},
   "source": [
    "Now let's take a look at the first 5 rows of the data:"
   ]
  },
  {
   "cell_type": "code",
   "execution_count": null,
   "metadata": {},
   "outputs": [
    {
     "data": {
      "text/html": [
       "<div>\n",
       "<style scoped>\n",
       "    .dataframe tbody tr th:only-of-type {\n",
       "        vertical-align: middle;\n",
       "    }\n",
       "\n",
       "    .dataframe tbody tr th {\n",
       "        vertical-align: top;\n",
       "    }\n",
       "\n",
       "    .dataframe thead th {\n",
       "        text-align: right;\n",
       "    }\n",
       "</style>\n",
       "<table border=\"1\" class=\"dataframe\">\n",
       "  <thead>\n",
       "    <tr style=\"text-align: right;\">\n",
       "      <th></th>\n",
       "      <th>age</th>\n",
       "      <th>sex</th>\n",
       "      <th>cp</th>\n",
       "      <th>trtbps</th>\n",
       "      <th>chol</th>\n",
       "      <th>fbs</th>\n",
       "      <th>restecg</th>\n",
       "      <th>thalachh</th>\n",
       "      <th>exng</th>\n",
       "      <th>oldpeak</th>\n",
       "      <th>slp</th>\n",
       "      <th>caa</th>\n",
       "      <th>thall</th>\n",
       "      <th>output</th>\n",
       "    </tr>\n",
       "  </thead>\n",
       "  <tbody>\n",
       "    <tr>\n",
       "      <th>0</th>\n",
       "      <td>63</td>\n",
       "      <td>1</td>\n",
       "      <td>3</td>\n",
       "      <td>145</td>\n",
       "      <td>233</td>\n",
       "      <td>1</td>\n",
       "      <td>0</td>\n",
       "      <td>150</td>\n",
       "      <td>0</td>\n",
       "      <td>2.3</td>\n",
       "      <td>0</td>\n",
       "      <td>0</td>\n",
       "      <td>1</td>\n",
       "      <td>1</td>\n",
       "    </tr>\n",
       "    <tr>\n",
       "      <th>1</th>\n",
       "      <td>37</td>\n",
       "      <td>1</td>\n",
       "      <td>2</td>\n",
       "      <td>130</td>\n",
       "      <td>250</td>\n",
       "      <td>0</td>\n",
       "      <td>1</td>\n",
       "      <td>187</td>\n",
       "      <td>0</td>\n",
       "      <td>3.5</td>\n",
       "      <td>0</td>\n",
       "      <td>0</td>\n",
       "      <td>2</td>\n",
       "      <td>1</td>\n",
       "    </tr>\n",
       "    <tr>\n",
       "      <th>2</th>\n",
       "      <td>41</td>\n",
       "      <td>0</td>\n",
       "      <td>1</td>\n",
       "      <td>130</td>\n",
       "      <td>204</td>\n",
       "      <td>0</td>\n",
       "      <td>0</td>\n",
       "      <td>172</td>\n",
       "      <td>0</td>\n",
       "      <td>1.4</td>\n",
       "      <td>2</td>\n",
       "      <td>0</td>\n",
       "      <td>2</td>\n",
       "      <td>1</td>\n",
       "    </tr>\n",
       "    <tr>\n",
       "      <th>3</th>\n",
       "      <td>56</td>\n",
       "      <td>1</td>\n",
       "      <td>1</td>\n",
       "      <td>120</td>\n",
       "      <td>236</td>\n",
       "      <td>0</td>\n",
       "      <td>1</td>\n",
       "      <td>178</td>\n",
       "      <td>0</td>\n",
       "      <td>0.8</td>\n",
       "      <td>2</td>\n",
       "      <td>0</td>\n",
       "      <td>2</td>\n",
       "      <td>1</td>\n",
       "    </tr>\n",
       "    <tr>\n",
       "      <th>4</th>\n",
       "      <td>57</td>\n",
       "      <td>0</td>\n",
       "      <td>0</td>\n",
       "      <td>120</td>\n",
       "      <td>354</td>\n",
       "      <td>0</td>\n",
       "      <td>1</td>\n",
       "      <td>163</td>\n",
       "      <td>1</td>\n",
       "      <td>0.6</td>\n",
       "      <td>2</td>\n",
       "      <td>0</td>\n",
       "      <td>2</td>\n",
       "      <td>1</td>\n",
       "    </tr>\n",
       "  </tbody>\n",
       "</table>\n",
       "</div>"
      ],
      "text/plain": [
       "   age  sex  cp  trtbps  chol  fbs  restecg  thalachh  exng  oldpeak  slp  \\\n",
       "0   63    1   3     145   233    1        0       150     0      2.3    0   \n",
       "1   37    1   2     130   250    0        1       187     0      3.5    0   \n",
       "2   41    0   1     130   204    0        0       172     0      1.4    2   \n",
       "3   56    1   1     120   236    0        1       178     0      0.8    2   \n",
       "4   57    0   0     120   354    0        1       163     1      0.6    2   \n",
       "\n",
       "   caa  thall  output  \n",
       "0    0      1       1  \n",
       "1    0      2       1  \n",
       "2    0      2       1  \n",
       "3    0      2       1  \n",
       "4    0      2       1  "
      ]
     },
     "execution_count": 195,
     "metadata": {},
     "output_type": "execute_result"
    }
   ],
   "source": [
    "df.head()"
   ]
  },
  {
   "cell_type": "markdown",
   "metadata": {},
   "source": [
    "```df.info()``` shows that we have no NaN value."
   ]
  },
  {
   "cell_type": "code",
   "execution_count": null,
   "metadata": {},
   "outputs": [
    {
     "name": "stdout",
     "output_type": "stream",
     "text": [
      "<class 'pandas.core.frame.DataFrame'>\n",
      "RangeIndex: 303 entries, 0 to 302\n",
      "Data columns (total 14 columns):\n",
      " #   Column    Non-Null Count  Dtype  \n",
      "---  ------    --------------  -----  \n",
      " 0   age       303 non-null    int64  \n",
      " 1   sex       303 non-null    int64  \n",
      " 2   cp        303 non-null    int64  \n",
      " 3   trtbps    303 non-null    int64  \n",
      " 4   chol      303 non-null    int64  \n",
      " 5   fbs       303 non-null    int64  \n",
      " 6   restecg   303 non-null    int64  \n",
      " 7   thalachh  303 non-null    int64  \n",
      " 8   exng      303 non-null    int64  \n",
      " 9   oldpeak   303 non-null    float64\n",
      " 10  slp       303 non-null    int64  \n",
      " 11  caa       303 non-null    int64  \n",
      " 12  thall     303 non-null    int64  \n",
      " 13  output    303 non-null    int64  \n",
      "dtypes: float64(1), int64(13)\n",
      "memory usage: 33.3 KB\n"
     ]
    }
   ],
   "source": [
    "df.info()"
   ]
  },
  {
   "cell_type": "code",
   "execution_count": null,
   "metadata": {},
   "outputs": [
    {
     "data": {
      "text/html": [
       "<div>\n",
       "<style scoped>\n",
       "    .dataframe tbody tr th:only-of-type {\n",
       "        vertical-align: middle;\n",
       "    }\n",
       "\n",
       "    .dataframe tbody tr th {\n",
       "        vertical-align: top;\n",
       "    }\n",
       "\n",
       "    .dataframe thead th {\n",
       "        text-align: right;\n",
       "    }\n",
       "</style>\n",
       "<table border=\"1\" class=\"dataframe\">\n",
       "  <thead>\n",
       "    <tr style=\"text-align: right;\">\n",
       "      <th></th>\n",
       "      <th>age</th>\n",
       "      <th>sex</th>\n",
       "      <th>cp</th>\n",
       "      <th>trtbps</th>\n",
       "      <th>chol</th>\n",
       "      <th>fbs</th>\n",
       "      <th>restecg</th>\n",
       "      <th>thalachh</th>\n",
       "      <th>exng</th>\n",
       "      <th>oldpeak</th>\n",
       "      <th>slp</th>\n",
       "      <th>caa</th>\n",
       "      <th>thall</th>\n",
       "      <th>output</th>\n",
       "    </tr>\n",
       "  </thead>\n",
       "  <tbody>\n",
       "    <tr>\n",
       "      <th>count</th>\n",
       "      <td>303.000000</td>\n",
       "      <td>303.000000</td>\n",
       "      <td>303.000000</td>\n",
       "      <td>303.000000</td>\n",
       "      <td>303.000000</td>\n",
       "      <td>303.000000</td>\n",
       "      <td>303.000000</td>\n",
       "      <td>303.000000</td>\n",
       "      <td>303.000000</td>\n",
       "      <td>303.000000</td>\n",
       "      <td>303.000000</td>\n",
       "      <td>303.000000</td>\n",
       "      <td>303.000000</td>\n",
       "      <td>303.000000</td>\n",
       "    </tr>\n",
       "    <tr>\n",
       "      <th>mean</th>\n",
       "      <td>54.366337</td>\n",
       "      <td>0.683168</td>\n",
       "      <td>0.966997</td>\n",
       "      <td>131.623762</td>\n",
       "      <td>246.264026</td>\n",
       "      <td>0.148515</td>\n",
       "      <td>0.528053</td>\n",
       "      <td>149.646865</td>\n",
       "      <td>0.326733</td>\n",
       "      <td>1.039604</td>\n",
       "      <td>1.399340</td>\n",
       "      <td>0.729373</td>\n",
       "      <td>2.313531</td>\n",
       "      <td>0.544554</td>\n",
       "    </tr>\n",
       "    <tr>\n",
       "      <th>std</th>\n",
       "      <td>9.082101</td>\n",
       "      <td>0.466011</td>\n",
       "      <td>1.032052</td>\n",
       "      <td>17.538143</td>\n",
       "      <td>51.830751</td>\n",
       "      <td>0.356198</td>\n",
       "      <td>0.525860</td>\n",
       "      <td>22.905161</td>\n",
       "      <td>0.469794</td>\n",
       "      <td>1.161075</td>\n",
       "      <td>0.616226</td>\n",
       "      <td>1.022606</td>\n",
       "      <td>0.612277</td>\n",
       "      <td>0.498835</td>\n",
       "    </tr>\n",
       "    <tr>\n",
       "      <th>min</th>\n",
       "      <td>29.000000</td>\n",
       "      <td>0.000000</td>\n",
       "      <td>0.000000</td>\n",
       "      <td>94.000000</td>\n",
       "      <td>126.000000</td>\n",
       "      <td>0.000000</td>\n",
       "      <td>0.000000</td>\n",
       "      <td>71.000000</td>\n",
       "      <td>0.000000</td>\n",
       "      <td>0.000000</td>\n",
       "      <td>0.000000</td>\n",
       "      <td>0.000000</td>\n",
       "      <td>0.000000</td>\n",
       "      <td>0.000000</td>\n",
       "    </tr>\n",
       "    <tr>\n",
       "      <th>25%</th>\n",
       "      <td>47.500000</td>\n",
       "      <td>0.000000</td>\n",
       "      <td>0.000000</td>\n",
       "      <td>120.000000</td>\n",
       "      <td>211.000000</td>\n",
       "      <td>0.000000</td>\n",
       "      <td>0.000000</td>\n",
       "      <td>133.500000</td>\n",
       "      <td>0.000000</td>\n",
       "      <td>0.000000</td>\n",
       "      <td>1.000000</td>\n",
       "      <td>0.000000</td>\n",
       "      <td>2.000000</td>\n",
       "      <td>0.000000</td>\n",
       "    </tr>\n",
       "    <tr>\n",
       "      <th>50%</th>\n",
       "      <td>55.000000</td>\n",
       "      <td>1.000000</td>\n",
       "      <td>1.000000</td>\n",
       "      <td>130.000000</td>\n",
       "      <td>240.000000</td>\n",
       "      <td>0.000000</td>\n",
       "      <td>1.000000</td>\n",
       "      <td>153.000000</td>\n",
       "      <td>0.000000</td>\n",
       "      <td>0.800000</td>\n",
       "      <td>1.000000</td>\n",
       "      <td>0.000000</td>\n",
       "      <td>2.000000</td>\n",
       "      <td>1.000000</td>\n",
       "    </tr>\n",
       "    <tr>\n",
       "      <th>75%</th>\n",
       "      <td>61.000000</td>\n",
       "      <td>1.000000</td>\n",
       "      <td>2.000000</td>\n",
       "      <td>140.000000</td>\n",
       "      <td>274.500000</td>\n",
       "      <td>0.000000</td>\n",
       "      <td>1.000000</td>\n",
       "      <td>166.000000</td>\n",
       "      <td>1.000000</td>\n",
       "      <td>1.600000</td>\n",
       "      <td>2.000000</td>\n",
       "      <td>1.000000</td>\n",
       "      <td>3.000000</td>\n",
       "      <td>1.000000</td>\n",
       "    </tr>\n",
       "    <tr>\n",
       "      <th>max</th>\n",
       "      <td>77.000000</td>\n",
       "      <td>1.000000</td>\n",
       "      <td>3.000000</td>\n",
       "      <td>200.000000</td>\n",
       "      <td>564.000000</td>\n",
       "      <td>1.000000</td>\n",
       "      <td>2.000000</td>\n",
       "      <td>202.000000</td>\n",
       "      <td>1.000000</td>\n",
       "      <td>6.200000</td>\n",
       "      <td>2.000000</td>\n",
       "      <td>4.000000</td>\n",
       "      <td>3.000000</td>\n",
       "      <td>1.000000</td>\n",
       "    </tr>\n",
       "  </tbody>\n",
       "</table>\n",
       "</div>"
      ],
      "text/plain": [
       "              age         sex          cp      trtbps        chol         fbs  \\\n",
       "count  303.000000  303.000000  303.000000  303.000000  303.000000  303.000000   \n",
       "mean    54.366337    0.683168    0.966997  131.623762  246.264026    0.148515   \n",
       "std      9.082101    0.466011    1.032052   17.538143   51.830751    0.356198   \n",
       "min     29.000000    0.000000    0.000000   94.000000  126.000000    0.000000   \n",
       "25%     47.500000    0.000000    0.000000  120.000000  211.000000    0.000000   \n",
       "50%     55.000000    1.000000    1.000000  130.000000  240.000000    0.000000   \n",
       "75%     61.000000    1.000000    2.000000  140.000000  274.500000    0.000000   \n",
       "max     77.000000    1.000000    3.000000  200.000000  564.000000    1.000000   \n",
       "\n",
       "          restecg    thalachh        exng     oldpeak         slp         caa  \\\n",
       "count  303.000000  303.000000  303.000000  303.000000  303.000000  303.000000   \n",
       "mean     0.528053  149.646865    0.326733    1.039604    1.399340    0.729373   \n",
       "std      0.525860   22.905161    0.469794    1.161075    0.616226    1.022606   \n",
       "min      0.000000   71.000000    0.000000    0.000000    0.000000    0.000000   \n",
       "25%      0.000000  133.500000    0.000000    0.000000    1.000000    0.000000   \n",
       "50%      1.000000  153.000000    0.000000    0.800000    1.000000    0.000000   \n",
       "75%      1.000000  166.000000    1.000000    1.600000    2.000000    1.000000   \n",
       "max      2.000000  202.000000    1.000000    6.200000    2.000000    4.000000   \n",
       "\n",
       "            thall      output  \n",
       "count  303.000000  303.000000  \n",
       "mean     2.313531    0.544554  \n",
       "std      0.612277    0.498835  \n",
       "min      0.000000    0.000000  \n",
       "25%      2.000000    0.000000  \n",
       "50%      2.000000    1.000000  \n",
       "75%      3.000000    1.000000  \n",
       "max      3.000000    1.000000  "
      ]
     },
     "execution_count": 197,
     "metadata": {},
     "output_type": "execute_result"
    }
   ],
   "source": [
    "df.describe()"
   ]
  },
  {
   "cell_type": "markdown",
   "metadata": {},
   "source": [
    "Check Null values (We don't have any null values)"
   ]
  },
  {
   "cell_type": "code",
   "execution_count": null,
   "metadata": {},
   "outputs": [
    {
     "data": {
      "text/plain": [
       "age         0\n",
       "sex         0\n",
       "cp          0\n",
       "trtbps      0\n",
       "chol        0\n",
       "fbs         0\n",
       "restecg     0\n",
       "thalachh    0\n",
       "exng        0\n",
       "oldpeak     0\n",
       "slp         0\n",
       "caa         0\n",
       "thall       0\n",
       "output      0\n",
       "dtype: int64"
      ]
     },
     "execution_count": 198,
     "metadata": {},
     "output_type": "execute_result"
    }
   ],
   "source": [
    "df.isnull().sum()"
   ]
  },
  {
   "cell_type": "markdown",
   "metadata": {},
   "source": [
    "Checking for duplicate rows"
   ]
  },
  {
   "cell_type": "code",
   "execution_count": null,
   "metadata": {},
   "outputs": [
    {
     "data": {
      "text/html": [
       "<div>\n",
       "<style scoped>\n",
       "    .dataframe tbody tr th:only-of-type {\n",
       "        vertical-align: middle;\n",
       "    }\n",
       "\n",
       "    .dataframe tbody tr th {\n",
       "        vertical-align: top;\n",
       "    }\n",
       "\n",
       "    .dataframe thead th {\n",
       "        text-align: right;\n",
       "    }\n",
       "</style>\n",
       "<table border=\"1\" class=\"dataframe\">\n",
       "  <thead>\n",
       "    <tr style=\"text-align: right;\">\n",
       "      <th></th>\n",
       "      <th>age</th>\n",
       "      <th>sex</th>\n",
       "      <th>cp</th>\n",
       "      <th>trtbps</th>\n",
       "      <th>chol</th>\n",
       "      <th>fbs</th>\n",
       "      <th>restecg</th>\n",
       "      <th>thalachh</th>\n",
       "      <th>exng</th>\n",
       "      <th>oldpeak</th>\n",
       "      <th>slp</th>\n",
       "      <th>caa</th>\n",
       "      <th>thall</th>\n",
       "      <th>output</th>\n",
       "    </tr>\n",
       "  </thead>\n",
       "  <tbody>\n",
       "    <tr>\n",
       "      <th>164</th>\n",
       "      <td>38</td>\n",
       "      <td>1</td>\n",
       "      <td>2</td>\n",
       "      <td>138</td>\n",
       "      <td>175</td>\n",
       "      <td>0</td>\n",
       "      <td>1</td>\n",
       "      <td>173</td>\n",
       "      <td>0</td>\n",
       "      <td>0.0</td>\n",
       "      <td>2</td>\n",
       "      <td>4</td>\n",
       "      <td>2</td>\n",
       "      <td>1</td>\n",
       "    </tr>\n",
       "  </tbody>\n",
       "</table>\n",
       "</div>"
      ],
      "text/plain": [
       "     age  sex  cp  trtbps  chol  fbs  restecg  thalachh  exng  oldpeak  slp  \\\n",
       "164   38    1   2     138   175    0        1       173     0      0.0    2   \n",
       "\n",
       "     caa  thall  output  \n",
       "164    4      2       1  "
      ]
     },
     "execution_count": 199,
     "metadata": {},
     "output_type": "execute_result"
    }
   ],
   "source": [
    "df[df.duplicated()]"
   ]
  },
  {
   "cell_type": "markdown",
   "metadata": {},
   "source": [
    "Removing the duplicates"
   ]
  },
  {
   "cell_type": "code",
   "execution_count": null,
   "metadata": {},
   "outputs": [],
   "source": [
    "df.drop_duplicates(keep='first',inplace=True)"
   ]
  },
  {
   "cell_type": "markdown",
   "metadata": {},
   "source": [
    "Now , we dont have any duplicate value"
   ]
  },
  {
   "cell_type": "code",
   "execution_count": null,
   "metadata": {},
   "outputs": [
    {
     "data": {
      "text/html": [
       "<div>\n",
       "<style scoped>\n",
       "    .dataframe tbody tr th:only-of-type {\n",
       "        vertical-align: middle;\n",
       "    }\n",
       "\n",
       "    .dataframe tbody tr th {\n",
       "        vertical-align: top;\n",
       "    }\n",
       "\n",
       "    .dataframe thead th {\n",
       "        text-align: right;\n",
       "    }\n",
       "</style>\n",
       "<table border=\"1\" class=\"dataframe\">\n",
       "  <thead>\n",
       "    <tr style=\"text-align: right;\">\n",
       "      <th></th>\n",
       "      <th>age</th>\n",
       "      <th>sex</th>\n",
       "      <th>cp</th>\n",
       "      <th>trtbps</th>\n",
       "      <th>chol</th>\n",
       "      <th>fbs</th>\n",
       "      <th>restecg</th>\n",
       "      <th>thalachh</th>\n",
       "      <th>exng</th>\n",
       "      <th>oldpeak</th>\n",
       "      <th>slp</th>\n",
       "      <th>caa</th>\n",
       "      <th>thall</th>\n",
       "      <th>output</th>\n",
       "    </tr>\n",
       "  </thead>\n",
       "  <tbody>\n",
       "  </tbody>\n",
       "</table>\n",
       "</div>"
      ],
      "text/plain": [
       "Empty DataFrame\n",
       "Columns: [age, sex, cp, trtbps, chol, fbs, restecg, thalachh, exng, oldpeak, slp, caa, thall, output]\n",
       "Index: []"
      ]
     },
     "execution_count": 201,
     "metadata": {},
     "output_type": "execute_result"
    }
   ],
   "source": [
    "df[df.duplicated()]"
   ]
  },
  {
   "cell_type": "markdown",
   "metadata": {},
   "source": [
    "**Correlation** "
   ]
  },
  {
   "cell_type": "markdown",
   "metadata": {},
   "source": [
    " correlation matrix is a useful tool for figuring out how different variables are related to each other. By looking at the correlation coefficients between two variables, we can learn how they are related and how changes in one variable may affect the other variables"
   ]
  },
  {
   "cell_type": "code",
   "execution_count": null,
   "metadata": {},
   "outputs": [
    {
     "data": {
      "text/html": [
       "<style type=\"text/css\">\n",
       "#T_28294_row0_col0, #T_28294_row1_col1, #T_28294_row2_col2, #T_28294_row3_col3, #T_28294_row4_col4, #T_28294_row5_col5, #T_28294_row6_col6, #T_28294_row7_col7, #T_28294_row8_col8, #T_28294_row9_col9, #T_28294_row10_col10, #T_28294_row11_col11, #T_28294_row12_col12, #T_28294_row13_col13 {\n",
       "  background-color: #b40426;\n",
       "  color: #f1f1f1;\n",
       "}\n",
       "#T_28294_row0_col1 {\n",
       "  background-color: #688aef;\n",
       "  color: #f1f1f1;\n",
       "}\n",
       "#T_28294_row0_col2, #T_28294_row2_col0, #T_28294_row4_col3, #T_28294_row11_col4 {\n",
       "  background-color: #88abfd;\n",
       "  color: #000000;\n",
       "}\n",
       "#T_28294_row0_col3, #T_28294_row11_col12 {\n",
       "  background-color: #b7cff9;\n",
       "  color: #000000;\n",
       "}\n",
       "#T_28294_row0_col4 {\n",
       "  background-color: #abc8fd;\n",
       "  color: #000000;\n",
       "}\n",
       "#T_28294_row0_col5, #T_28294_row7_col1, #T_28294_row7_col12, #T_28294_row8_col3 {\n",
       "  background-color: #7699f6;\n",
       "  color: #f1f1f1;\n",
       "}\n",
       "#T_28294_row0_col6 {\n",
       "  background-color: #445acc;\n",
       "  color: #f1f1f1;\n",
       "}\n",
       "#T_28294_row0_col7, #T_28294_row1_col4, #T_28294_row4_col6, #T_28294_row6_col5, #T_28294_row7_col0, #T_28294_row8_col2, #T_28294_row8_col13, #T_28294_row9_col10, #T_28294_row10_col9, #T_28294_row13_col1, #T_28294_row13_col3, #T_28294_row13_col8, #T_28294_row13_col11, #T_28294_row13_col12 {\n",
       "  background-color: #3b4cc0;\n",
       "  color: #f1f1f1;\n",
       "}\n",
       "#T_28294_row0_col8, #T_28294_row1_col11, #T_28294_row5_col0, #T_28294_row5_col9 {\n",
       "  background-color: #b6cefa;\n",
       "  color: #000000;\n",
       "}\n",
       "#T_28294_row0_col9, #T_28294_row11_col0, #T_28294_row12_col9 {\n",
       "  background-color: #dcdddd;\n",
       "  color: #000000;\n",
       "}\n",
       "#T_28294_row0_col10 {\n",
       "  background-color: #90b2fe;\n",
       "  color: #000000;\n",
       "}\n",
       "#T_28294_row0_col11 {\n",
       "  background-color: #dedcdb;\n",
       "  color: #000000;\n",
       "}\n",
       "#T_28294_row0_col12, #T_28294_row3_col12 {\n",
       "  background-color: #9fbfff;\n",
       "  color: #000000;\n",
       "}\n",
       "#T_28294_row0_col13, #T_28294_row2_col11, #T_28294_row7_col9 {\n",
       "  background-color: #6a8bef;\n",
       "  color: #f1f1f1;\n",
       "}\n",
       "#T_28294_row1_col0, #T_28294_row8_col4, #T_28294_row12_col7 {\n",
       "  background-color: #81a4fb;\n",
       "  color: #f1f1f1;\n",
       "}\n",
       "#T_28294_row1_col2, #T_28294_row12_col4 {\n",
       "  background-color: #8badfd;\n",
       "  color: #000000;\n",
       "}\n",
       "#T_28294_row1_col3, #T_28294_row1_col6 {\n",
       "  background-color: #516ddb;\n",
       "  color: #f1f1f1;\n",
       "}\n",
       "#T_28294_row1_col5, #T_28294_row11_col7, #T_28294_row12_col6 {\n",
       "  background-color: #5f7fe8;\n",
       "  color: #f1f1f1;\n",
       "}\n",
       "#T_28294_row1_col7, #T_28294_row3_col7, #T_28294_row4_col13, #T_28294_row6_col12, #T_28294_row13_col6 {\n",
       "  background-color: #8caffe;\n",
       "  color: #000000;\n",
       "}\n",
       "#T_28294_row1_col8, #T_28294_row12_col11 {\n",
       "  background-color: #c1d4f4;\n",
       "  color: #000000;\n",
       "}\n",
       "#T_28294_row1_col9 {\n",
       "  background-color: #c9d7f0;\n",
       "  color: #000000;\n",
       "}\n",
       "#T_28294_row1_col10 {\n",
       "  background-color: #aec9fc;\n",
       "  color: #000000;\n",
       "}\n",
       "#T_28294_row1_col12, #T_28294_row9_col12 {\n",
       "  background-color: #c4d5f3;\n",
       "  color: #000000;\n",
       "}\n",
       "#T_28294_row1_col13 {\n",
       "  background-color: #5b7ae5;\n",
       "  color: #f1f1f1;\n",
       "}\n",
       "#T_28294_row2_col1, #T_28294_row12_col3 {\n",
       "  background-color: #7597f6;\n",
       "  color: #f1f1f1;\n",
       "}\n",
       "#T_28294_row2_col3 {\n",
       "  background-color: #7093f3;\n",
       "  color: #f1f1f1;\n",
       "}\n",
       "#T_28294_row2_col4 {\n",
       "  background-color: #5a78e4;\n",
       "  color: #f1f1f1;\n",
       "}\n",
       "#T_28294_row2_col5, #T_28294_row2_col6, #T_28294_row7_col6, #T_28294_row10_col0, #T_28294_row12_col2 {\n",
       "  background-color: #6f92f3;\n",
       "  color: #f1f1f1;\n",
       "}\n",
       "#T_28294_row2_col7, #T_28294_row7_col2 {\n",
       "  background-color: #dbdcde;\n",
       "  color: #000000;\n",
       "}\n",
       "#T_28294_row2_col8, #T_28294_row3_col6 {\n",
       "  background-color: #4358cb;\n",
       "  color: #f1f1f1;\n",
       "}\n",
       "#T_28294_row2_col9 {\n",
       "  background-color: #94b6ff;\n",
       "  color: #000000;\n",
       "}\n",
       "#T_28294_row2_col10 {\n",
       "  background-color: #ccd9ed;\n",
       "  color: #000000;\n",
       "}\n",
       "#T_28294_row2_col12 {\n",
       "  background-color: #6485ec;\n",
       "  color: #f1f1f1;\n",
       "}\n",
       "#T_28294_row2_col13 {\n",
       "  background-color: #f2cab5;\n",
       "  color: #000000;\n",
       "}\n",
       "#T_28294_row3_col0 {\n",
       "  background-color: #d9dce1;\n",
       "  color: #000000;\n",
       "}\n",
       "#T_28294_row3_col1, #T_28294_row9_col2, #T_28294_row10_col12 {\n",
       "  background-color: #7396f5;\n",
       "  color: #f1f1f1;\n",
       "}\n",
       "#T_28294_row3_col2, #T_28294_row6_col7 {\n",
       "  background-color: #a3c2fe;\n",
       "  color: #000000;\n",
       "}\n",
       "#T_28294_row3_col4 {\n",
       "  background-color: #93b5fe;\n",
       "  color: #000000;\n",
       "}\n",
       "#T_28294_row3_col5 {\n",
       "  background-color: #89acfd;\n",
       "  color: #000000;\n",
       "}\n",
       "#T_28294_row3_col8, #T_28294_row4_col8, #T_28294_row5_col2, #T_28294_row8_col0 {\n",
       "  background-color: #afcafc;\n",
       "  color: #000000;\n",
       "}\n",
       "#T_28294_row3_col9 {\n",
       "  background-color: #dadce0;\n",
       "  color: #000000;\n",
       "}\n",
       "#T_28294_row3_col10 {\n",
       "  background-color: #9abbff;\n",
       "  color: #000000;\n",
       "}\n",
       "#T_28294_row3_col11 {\n",
       "  background-color: #b3cdfb;\n",
       "  color: #000000;\n",
       "}\n",
       "#T_28294_row3_col13 {\n",
       "  background-color: #7b9ff9;\n",
       "  color: #f1f1f1;\n",
       "}\n",
       "#T_28294_row4_col0, #T_28294_row9_col0 {\n",
       "  background-color: #cad8ef;\n",
       "  color: #000000;\n",
       "}\n",
       "#T_28294_row4_col1, #T_28294_row7_col5, #T_28294_row8_col6 {\n",
       "  background-color: #4f69d9;\n",
       "  color: #f1f1f1;\n",
       "}\n",
       "#T_28294_row4_col2 {\n",
       "  background-color: #85a8fc;\n",
       "  color: #f1f1f1;\n",
       "}\n",
       "#T_28294_row4_col5 {\n",
       "  background-color: #5572df;\n",
       "  color: #f1f1f1;\n",
       "}\n",
       "#T_28294_row4_col7, #T_28294_row5_col7 {\n",
       "  background-color: #97b8ff;\n",
       "  color: #000000;\n",
       "}\n",
       "#T_28294_row4_col9, #T_28294_row6_col13 {\n",
       "  background-color: #bfd3f6;\n",
       "  color: #000000;\n",
       "}\n",
       "#T_28294_row4_col10, #T_28294_row10_col2 {\n",
       "  background-color: #b5cdfa;\n",
       "  color: #000000;\n",
       "}\n",
       "#T_28294_row4_col11 {\n",
       "  background-color: #b1cbfc;\n",
       "  color: #000000;\n",
       "}\n",
       "#T_28294_row4_col12 {\n",
       "  background-color: #a7c5fe;\n",
       "  color: #000000;\n",
       "}\n",
       "#T_28294_row5_col1, #T_28294_row6_col8 {\n",
       "  background-color: #8fb1fe;\n",
       "  color: #000000;\n",
       "}\n",
       "#T_28294_row5_col3, #T_28294_row5_col13 {\n",
       "  background-color: #98b9ff;\n",
       "  color: #000000;\n",
       "}\n",
       "#T_28294_row5_col4, #T_28294_row6_col1 {\n",
       "  background-color: #7295f4;\n",
       "  color: #f1f1f1;\n",
       "}\n",
       "#T_28294_row5_col6, #T_28294_row11_col6 {\n",
       "  background-color: #4b64d5;\n",
       "  color: #f1f1f1;\n",
       "}\n",
       "#T_28294_row5_col8 {\n",
       "  background-color: #a6c4fe;\n",
       "  color: #000000;\n",
       "}\n",
       "#T_28294_row5_col10, #T_28294_row6_col9, #T_28294_row12_col0 {\n",
       "  background-color: #a9c6fd;\n",
       "  color: #000000;\n",
       "}\n",
       "#T_28294_row5_col11, #T_28294_row11_col8 {\n",
       "  background-color: #bed2f6;\n",
       "  color: #000000;\n",
       "}\n",
       "#T_28294_row5_col12, #T_28294_row6_col11 {\n",
       "  background-color: #86a9fc;\n",
       "  color: #f1f1f1;\n",
       "}\n",
       "#T_28294_row6_col0, #T_28294_row8_col10, #T_28294_row9_col4 {\n",
       "  background-color: #7da0f9;\n",
       "  color: #f1f1f1;\n",
       "}\n",
       "#T_28294_row6_col2, #T_28294_row11_col1 {\n",
       "  background-color: #a2c1ff;\n",
       "  color: #000000;\n",
       "}\n",
       "#T_28294_row6_col3 {\n",
       "  background-color: #4257c9;\n",
       "  color: #f1f1f1;\n",
       "}\n",
       "#T_28294_row6_col4, #T_28294_row7_col8 {\n",
       "  background-color: #465ecf;\n",
       "  color: #f1f1f1;\n",
       "}\n",
       "#T_28294_row6_col10 {\n",
       "  background-color: #c7d7f0;\n",
       "  color: #000000;\n",
       "}\n",
       "#T_28294_row7_col3 {\n",
       "  background-color: #5470de;\n",
       "  color: #f1f1f1;\n",
       "}\n",
       "#T_28294_row7_col4 {\n",
       "  background-color: #6c8ff1;\n",
       "  color: #f1f1f1;\n",
       "}\n",
       "#T_28294_row7_col10 {\n",
       "  background-color: #f3c8b2;\n",
       "  color: #000000;\n",
       "}\n",
       "#T_28294_row7_col11, #T_28294_row10_col8 {\n",
       "  background-color: #6282ea;\n",
       "  color: #f1f1f1;\n",
       "}\n",
       "#T_28294_row7_col13 {\n",
       "  background-color: #f1ccb8;\n",
       "  color: #000000;\n",
       "}\n",
       "#T_28294_row8_col1 {\n",
       "  background-color: #aac7fd;\n",
       "  color: #000000;\n",
       "}\n",
       "#T_28294_row8_col5 {\n",
       "  background-color: #5977e3;\n",
       "  color: #f1f1f1;\n",
       "}\n",
       "#T_28294_row8_col7 {\n",
       "  background-color: #3e51c5;\n",
       "  color: #f1f1f1;\n",
       "}\n",
       "#T_28294_row8_col9 {\n",
       "  background-color: #e9d5cb;\n",
       "  color: #000000;\n",
       "}\n",
       "#T_28294_row8_col11 {\n",
       "  background-color: #bad0f8;\n",
       "  color: #000000;\n",
       "}\n",
       "#T_28294_row8_col12 {\n",
       "  background-color: #c3d5f4;\n",
       "  color: #000000;\n",
       "}\n",
       "#T_28294_row9_col1, #T_28294_row9_col3, #T_28294_row12_col10 {\n",
       "  background-color: #9ebeff;\n",
       "  color: #000000;\n",
       "}\n",
       "#T_28294_row9_col5, #T_28294_row9_col6 {\n",
       "  background-color: #536edd;\n",
       "  color: #f1f1f1;\n",
       "}\n",
       "#T_28294_row9_col7 {\n",
       "  background-color: #455cce;\n",
       "  color: #f1f1f1;\n",
       "}\n",
       "#T_28294_row9_col8 {\n",
       "  background-color: #dddcdc;\n",
       "  color: #000000;\n",
       "}\n",
       "#T_28294_row9_col11 {\n",
       "  background-color: #d2dbe8;\n",
       "  color: #000000;\n",
       "}\n",
       "#T_28294_row9_col13 {\n",
       "  background-color: #3c4ec2;\n",
       "  color: #f1f1f1;\n",
       "}\n",
       "#T_28294_row10_col1 {\n",
       "  background-color: #799cf8;\n",
       "  color: #f1f1f1;\n",
       "}\n",
       "#T_28294_row10_col3, #T_28294_row10_col5 {\n",
       "  background-color: #4055c8;\n",
       "  color: #f1f1f1;\n",
       "}\n",
       "#T_28294_row10_col4 {\n",
       "  background-color: #6e90f2;\n",
       "  color: #f1f1f1;\n",
       "}\n",
       "#T_28294_row10_col6, #T_28294_row11_col5 {\n",
       "  background-color: #7ea1fa;\n",
       "  color: #f1f1f1;\n",
       "}\n",
       "#T_28294_row10_col7 {\n",
       "  background-color: #ebd3c6;\n",
       "  color: #000000;\n",
       "}\n",
       "#T_28294_row10_col11 {\n",
       "  background-color: #84a7fc;\n",
       "  color: #f1f1f1;\n",
       "}\n",
       "#T_28294_row10_col13 {\n",
       "  background-color: #e8d6cc;\n",
       "  color: #000000;\n",
       "}\n",
       "#T_28294_row11_col2 {\n",
       "  background-color: #6788ee;\n",
       "  color: #f1f1f1;\n",
       "}\n",
       "#T_28294_row11_col3 {\n",
       "  background-color: #80a3fa;\n",
       "  color: #f1f1f1;\n",
       "}\n",
       "#T_28294_row11_col9 {\n",
       "  background-color: #e1dad6;\n",
       "  color: #000000;\n",
       "}\n",
       "#T_28294_row11_col10 {\n",
       "  background-color: #a1c0ff;\n",
       "  color: #000000;\n",
       "}\n",
       "#T_28294_row11_col13 {\n",
       "  background-color: #3f53c6;\n",
       "  color: #f1f1f1;\n",
       "}\n",
       "#T_28294_row12_col1 {\n",
       "  background-color: #bbd1f8;\n",
       "  color: #000000;\n",
       "}\n",
       "#T_28294_row12_col5 {\n",
       "  background-color: #485fd1;\n",
       "  color: #f1f1f1;\n",
       "}\n",
       "#T_28294_row12_col8 {\n",
       "  background-color: #cedaeb;\n",
       "  color: #000000;\n",
       "}\n",
       "#T_28294_row12_col13 {\n",
       "  background-color: #4e68d8;\n",
       "  color: #f1f1f1;\n",
       "}\n",
       "#T_28294_row13_col0 {\n",
       "  background-color: #6180e9;\n",
       "  color: #f1f1f1;\n",
       "}\n",
       "#T_28294_row13_col2 {\n",
       "  background-color: #f1cdba;\n",
       "  color: #000000;\n",
       "}\n",
       "#T_28294_row13_col4 {\n",
       "  background-color: #5875e1;\n",
       "  color: #f1f1f1;\n",
       "}\n",
       "#T_28294_row13_col5 {\n",
       "  background-color: #4a63d3;\n",
       "  color: #f1f1f1;\n",
       "}\n",
       "#T_28294_row13_col7, #T_28294_row13_col10 {\n",
       "  background-color: #efcebd;\n",
       "  color: #000000;\n",
       "}\n",
       "#T_28294_row13_col9 {\n",
       "  background-color: #5673e0;\n",
       "  color: #f1f1f1;\n",
       "}\n",
       "</style>\n",
       "<table id=\"T_28294\">\n",
       "  <thead>\n",
       "    <tr>\n",
       "      <th class=\"blank level0\" >&nbsp;</th>\n",
       "      <th id=\"T_28294_level0_col0\" class=\"col_heading level0 col0\" >age</th>\n",
       "      <th id=\"T_28294_level0_col1\" class=\"col_heading level0 col1\" >sex</th>\n",
       "      <th id=\"T_28294_level0_col2\" class=\"col_heading level0 col2\" >cp</th>\n",
       "      <th id=\"T_28294_level0_col3\" class=\"col_heading level0 col3\" >trtbps</th>\n",
       "      <th id=\"T_28294_level0_col4\" class=\"col_heading level0 col4\" >chol</th>\n",
       "      <th id=\"T_28294_level0_col5\" class=\"col_heading level0 col5\" >fbs</th>\n",
       "      <th id=\"T_28294_level0_col6\" class=\"col_heading level0 col6\" >restecg</th>\n",
       "      <th id=\"T_28294_level0_col7\" class=\"col_heading level0 col7\" >thalachh</th>\n",
       "      <th id=\"T_28294_level0_col8\" class=\"col_heading level0 col8\" >exng</th>\n",
       "      <th id=\"T_28294_level0_col9\" class=\"col_heading level0 col9\" >oldpeak</th>\n",
       "      <th id=\"T_28294_level0_col10\" class=\"col_heading level0 col10\" >slp</th>\n",
       "      <th id=\"T_28294_level0_col11\" class=\"col_heading level0 col11\" >caa</th>\n",
       "      <th id=\"T_28294_level0_col12\" class=\"col_heading level0 col12\" >thall</th>\n",
       "      <th id=\"T_28294_level0_col13\" class=\"col_heading level0 col13\" >output</th>\n",
       "    </tr>\n",
       "  </thead>\n",
       "  <tbody>\n",
       "    <tr>\n",
       "      <th id=\"T_28294_level0_row0\" class=\"row_heading level0 row0\" >age</th>\n",
       "      <td id=\"T_28294_row0_col0\" class=\"data row0 col0\" >1.000000</td>\n",
       "      <td id=\"T_28294_row0_col1\" class=\"data row0 col1\" >-0.094962</td>\n",
       "      <td id=\"T_28294_row0_col2\" class=\"data row0 col2\" >-0.063107</td>\n",
       "      <td id=\"T_28294_row0_col3\" class=\"data row0 col3\" >0.283121</td>\n",
       "      <td id=\"T_28294_row0_col4\" class=\"data row0 col4\" >0.207216</td>\n",
       "      <td id=\"T_28294_row0_col5\" class=\"data row0 col5\" >0.119492</td>\n",
       "      <td id=\"T_28294_row0_col6\" class=\"data row0 col6\" >-0.111590</td>\n",
       "      <td id=\"T_28294_row0_col7\" class=\"data row0 col7\" >-0.395235</td>\n",
       "      <td id=\"T_28294_row0_col8\" class=\"data row0 col8\" >0.093216</td>\n",
       "      <td id=\"T_28294_row0_col9\" class=\"data row0 col9\" >0.206040</td>\n",
       "      <td id=\"T_28294_row0_col10\" class=\"data row0 col10\" >-0.164124</td>\n",
       "      <td id=\"T_28294_row0_col11\" class=\"data row0 col11\" >0.302261</td>\n",
       "      <td id=\"T_28294_row0_col12\" class=\"data row0 col12\" >0.065317</td>\n",
       "      <td id=\"T_28294_row0_col13\" class=\"data row0 col13\" >-0.221476</td>\n",
       "    </tr>\n",
       "    <tr>\n",
       "      <th id=\"T_28294_level0_row1\" class=\"row_heading level0 row1\" >sex</th>\n",
       "      <td id=\"T_28294_row1_col0\" class=\"data row1 col0\" >-0.094962</td>\n",
       "      <td id=\"T_28294_row1_col1\" class=\"data row1 col1\" >1.000000</td>\n",
       "      <td id=\"T_28294_row1_col2\" class=\"data row1 col2\" >-0.051740</td>\n",
       "      <td id=\"T_28294_row1_col3\" class=\"data row1 col3\" >-0.057647</td>\n",
       "      <td id=\"T_28294_row1_col4\" class=\"data row1 col4\" >-0.195571</td>\n",
       "      <td id=\"T_28294_row1_col5\" class=\"data row1 col5\" >0.046022</td>\n",
       "      <td id=\"T_28294_row1_col6\" class=\"data row1 col6\" >-0.060351</td>\n",
       "      <td id=\"T_28294_row1_col7\" class=\"data row1 col7\" >-0.046439</td>\n",
       "      <td id=\"T_28294_row1_col8\" class=\"data row1 col8\" >0.143460</td>\n",
       "      <td id=\"T_28294_row1_col9\" class=\"data row1 col9\" >0.098322</td>\n",
       "      <td id=\"T_28294_row1_col10\" class=\"data row1 col10\" >-0.032990</td>\n",
       "      <td id=\"T_28294_row1_col11\" class=\"data row1 col11\" >0.113060</td>\n",
       "      <td id=\"T_28294_row1_col12\" class=\"data row1 col12\" >0.211452</td>\n",
       "      <td id=\"T_28294_row1_col13\" class=\"data row1 col13\" >-0.283609</td>\n",
       "    </tr>\n",
       "    <tr>\n",
       "      <th id=\"T_28294_level0_row2\" class=\"row_heading level0 row2\" >cp</th>\n",
       "      <td id=\"T_28294_row2_col0\" class=\"data row2 col0\" >-0.063107</td>\n",
       "      <td id=\"T_28294_row2_col1\" class=\"data row2 col1\" >-0.051740</td>\n",
       "      <td id=\"T_28294_row2_col2\" class=\"data row2 col2\" >1.000000</td>\n",
       "      <td id=\"T_28294_row2_col3\" class=\"data row2 col3\" >0.046486</td>\n",
       "      <td id=\"T_28294_row2_col4\" class=\"data row2 col4\" >-0.072682</td>\n",
       "      <td id=\"T_28294_row2_col5\" class=\"data row2 col5\" >0.096018</td>\n",
       "      <td id=\"T_28294_row2_col6\" class=\"data row2 col6\" >0.041561</td>\n",
       "      <td id=\"T_28294_row2_col7\" class=\"data row2 col7\" >0.293367</td>\n",
       "      <td id=\"T_28294_row2_col8\" class=\"data row2 col8\" >-0.392937</td>\n",
       "      <td id=\"T_28294_row2_col9\" class=\"data row2 col9\" >-0.146692</td>\n",
       "      <td id=\"T_28294_row2_col10\" class=\"data row2 col10\" >0.116854</td>\n",
       "      <td id=\"T_28294_row2_col11\" class=\"data row2 col11\" >-0.195356</td>\n",
       "      <td id=\"T_28294_row2_col12\" class=\"data row2 col12\" >-0.160370</td>\n",
       "      <td id=\"T_28294_row2_col13\" class=\"data row2 col13\" >0.432080</td>\n",
       "    </tr>\n",
       "    <tr>\n",
       "      <th id=\"T_28294_level0_row3\" class=\"row_heading level0 row3\" >trtbps</th>\n",
       "      <td id=\"T_28294_row3_col0\" class=\"data row3 col0\" >0.283121</td>\n",
       "      <td id=\"T_28294_row3_col1\" class=\"data row3 col1\" >-0.057647</td>\n",
       "      <td id=\"T_28294_row3_col2\" class=\"data row3 col2\" >0.046486</td>\n",
       "      <td id=\"T_28294_row3_col3\" class=\"data row3 col3\" >1.000000</td>\n",
       "      <td id=\"T_28294_row3_col4\" class=\"data row3 col4\" >0.125256</td>\n",
       "      <td id=\"T_28294_row3_col5\" class=\"data row3 col5\" >0.178125</td>\n",
       "      <td id=\"T_28294_row3_col6\" class=\"data row3 col6\" >-0.115367</td>\n",
       "      <td id=\"T_28294_row3_col7\" class=\"data row3 col7\" >-0.048023</td>\n",
       "      <td id=\"T_28294_row3_col8\" class=\"data row3 col8\" >0.068526</td>\n",
       "      <td id=\"T_28294_row3_col9\" class=\"data row3 col9\" >0.194600</td>\n",
       "      <td id=\"T_28294_row3_col10\" class=\"data row3 col10\" >-0.122873</td>\n",
       "      <td id=\"T_28294_row3_col11\" class=\"data row3 col11\" >0.099248</td>\n",
       "      <td id=\"T_28294_row3_col12\" class=\"data row3 col12\" >0.062870</td>\n",
       "      <td id=\"T_28294_row3_col13\" class=\"data row3 col13\" >-0.146269</td>\n",
       "    </tr>\n",
       "    <tr>\n",
       "      <th id=\"T_28294_level0_row4\" class=\"row_heading level0 row4\" >chol</th>\n",
       "      <td id=\"T_28294_row4_col0\" class=\"data row4 col0\" >0.207216</td>\n",
       "      <td id=\"T_28294_row4_col1\" class=\"data row4 col1\" >-0.195571</td>\n",
       "      <td id=\"T_28294_row4_col2\" class=\"data row4 col2\" >-0.072682</td>\n",
       "      <td id=\"T_28294_row4_col3\" class=\"data row4 col3\" >0.125256</td>\n",
       "      <td id=\"T_28294_row4_col4\" class=\"data row4 col4\" >1.000000</td>\n",
       "      <td id=\"T_28294_row4_col5\" class=\"data row4 col5\" >0.011428</td>\n",
       "      <td id=\"T_28294_row4_col6\" class=\"data row4 col6\" >-0.147602</td>\n",
       "      <td id=\"T_28294_row4_col7\" class=\"data row4 col7\" >-0.005308</td>\n",
       "      <td id=\"T_28294_row4_col8\" class=\"data row4 col8\" >0.064099</td>\n",
       "      <td id=\"T_28294_row4_col9\" class=\"data row4 col9\" >0.050086</td>\n",
       "      <td id=\"T_28294_row4_col10\" class=\"data row4 col10\" >0.000417</td>\n",
       "      <td id=\"T_28294_row4_col11\" class=\"data row4 col11\" >0.086878</td>\n",
       "      <td id=\"T_28294_row4_col12\" class=\"data row4 col12\" >0.096810</td>\n",
       "      <td id=\"T_28294_row4_col13\" class=\"data row4 col13\" >-0.081437</td>\n",
       "    </tr>\n",
       "    <tr>\n",
       "      <th id=\"T_28294_level0_row5\" class=\"row_heading level0 row5\" >fbs</th>\n",
       "      <td id=\"T_28294_row5_col0\" class=\"data row5 col0\" >0.119492</td>\n",
       "      <td id=\"T_28294_row5_col1\" class=\"data row5 col1\" >0.046022</td>\n",
       "      <td id=\"T_28294_row5_col2\" class=\"data row5 col2\" >0.096018</td>\n",
       "      <td id=\"T_28294_row5_col3\" class=\"data row5 col3\" >0.178125</td>\n",
       "      <td id=\"T_28294_row5_col4\" class=\"data row5 col4\" >0.011428</td>\n",
       "      <td id=\"T_28294_row5_col5\" class=\"data row5 col5\" >1.000000</td>\n",
       "      <td id=\"T_28294_row5_col6\" class=\"data row5 col6\" >-0.083081</td>\n",
       "      <td id=\"T_28294_row5_col7\" class=\"data row5 col7\" >-0.007169</td>\n",
       "      <td id=\"T_28294_row5_col8\" class=\"data row5 col8\" >0.024729</td>\n",
       "      <td id=\"T_28294_row5_col9\" class=\"data row5 col9\" >0.004514</td>\n",
       "      <td id=\"T_28294_row5_col10\" class=\"data row5 col10\" >-0.058654</td>\n",
       "      <td id=\"T_28294_row5_col11\" class=\"data row5 col11\" >0.144935</td>\n",
       "      <td id=\"T_28294_row5_col12\" class=\"data row5 col12\" >-0.032752</td>\n",
       "      <td id=\"T_28294_row5_col13\" class=\"data row5 col13\" >-0.026826</td>\n",
       "    </tr>\n",
       "    <tr>\n",
       "      <th id=\"T_28294_level0_row6\" class=\"row_heading level0 row6\" >restecg</th>\n",
       "      <td id=\"T_28294_row6_col0\" class=\"data row6 col0\" >-0.111590</td>\n",
       "      <td id=\"T_28294_row6_col1\" class=\"data row6 col1\" >-0.060351</td>\n",
       "      <td id=\"T_28294_row6_col2\" class=\"data row6 col2\" >0.041561</td>\n",
       "      <td id=\"T_28294_row6_col3\" class=\"data row6 col3\" >-0.115367</td>\n",
       "      <td id=\"T_28294_row6_col4\" class=\"data row6 col4\" >-0.147602</td>\n",
       "      <td id=\"T_28294_row6_col5\" class=\"data row6 col5\" >-0.083081</td>\n",
       "      <td id=\"T_28294_row6_col6\" class=\"data row6 col6\" >1.000000</td>\n",
       "      <td id=\"T_28294_row6_col7\" class=\"data row6 col7\" >0.041210</td>\n",
       "      <td id=\"T_28294_row6_col8\" class=\"data row6 col8\" >-0.068807</td>\n",
       "      <td id=\"T_28294_row6_col9\" class=\"data row6 col9\" >-0.056251</td>\n",
       "      <td id=\"T_28294_row6_col10\" class=\"data row6 col10\" >0.090402</td>\n",
       "      <td id=\"T_28294_row6_col11\" class=\"data row6 col11\" >-0.083112</td>\n",
       "      <td id=\"T_28294_row6_col12\" class=\"data row6 col12\" >-0.010473</td>\n",
       "      <td id=\"T_28294_row6_col13\" class=\"data row6 col13\" >0.134874</td>\n",
       "    </tr>\n",
       "    <tr>\n",
       "      <th id=\"T_28294_level0_row7\" class=\"row_heading level0 row7\" >thalachh</th>\n",
       "      <td id=\"T_28294_row7_col0\" class=\"data row7 col0\" >-0.395235</td>\n",
       "      <td id=\"T_28294_row7_col1\" class=\"data row7 col1\" >-0.046439</td>\n",
       "      <td id=\"T_28294_row7_col2\" class=\"data row7 col2\" >0.293367</td>\n",
       "      <td id=\"T_28294_row7_col3\" class=\"data row7 col3\" >-0.048023</td>\n",
       "      <td id=\"T_28294_row7_col4\" class=\"data row7 col4\" >-0.005308</td>\n",
       "      <td id=\"T_28294_row7_col5\" class=\"data row7 col5\" >-0.007169</td>\n",
       "      <td id=\"T_28294_row7_col6\" class=\"data row7 col6\" >0.041210</td>\n",
       "      <td id=\"T_28294_row7_col7\" class=\"data row7 col7\" >1.000000</td>\n",
       "      <td id=\"T_28294_row7_col8\" class=\"data row7 col8\" >-0.377411</td>\n",
       "      <td id=\"T_28294_row7_col9\" class=\"data row7 col9\" >-0.342201</td>\n",
       "      <td id=\"T_28294_row7_col10\" class=\"data row7 col10\" >0.384754</td>\n",
       "      <td id=\"T_28294_row7_col11\" class=\"data row7 col11\" >-0.228311</td>\n",
       "      <td id=\"T_28294_row7_col12\" class=\"data row7 col12\" >-0.094910</td>\n",
       "      <td id=\"T_28294_row7_col13\" class=\"data row7 col13\" >0.419955</td>\n",
       "    </tr>\n",
       "    <tr>\n",
       "      <th id=\"T_28294_level0_row8\" class=\"row_heading level0 row8\" >exng</th>\n",
       "      <td id=\"T_28294_row8_col0\" class=\"data row8 col0\" >0.093216</td>\n",
       "      <td id=\"T_28294_row8_col1\" class=\"data row8 col1\" >0.143460</td>\n",
       "      <td id=\"T_28294_row8_col2\" class=\"data row8 col2\" >-0.392937</td>\n",
       "      <td id=\"T_28294_row8_col3\" class=\"data row8 col3\" >0.068526</td>\n",
       "      <td id=\"T_28294_row8_col4\" class=\"data row8 col4\" >0.064099</td>\n",
       "      <td id=\"T_28294_row8_col5\" class=\"data row8 col5\" >0.024729</td>\n",
       "      <td id=\"T_28294_row8_col6\" class=\"data row8 col6\" >-0.068807</td>\n",
       "      <td id=\"T_28294_row8_col7\" class=\"data row8 col7\" >-0.377411</td>\n",
       "      <td id=\"T_28294_row8_col8\" class=\"data row8 col8\" >1.000000</td>\n",
       "      <td id=\"T_28294_row8_col9\" class=\"data row8 col9\" >0.286766</td>\n",
       "      <td id=\"T_28294_row8_col10\" class=\"data row8 col10\" >-0.256106</td>\n",
       "      <td id=\"T_28294_row8_col11\" class=\"data row8 col11\" >0.125377</td>\n",
       "      <td id=\"T_28294_row8_col12\" class=\"data row8 col12\" >0.205826</td>\n",
       "      <td id=\"T_28294_row8_col13\" class=\"data row8 col13\" >-0.435601</td>\n",
       "    </tr>\n",
       "    <tr>\n",
       "      <th id=\"T_28294_level0_row9\" class=\"row_heading level0 row9\" >oldpeak</th>\n",
       "      <td id=\"T_28294_row9_col0\" class=\"data row9 col0\" >0.206040</td>\n",
       "      <td id=\"T_28294_row9_col1\" class=\"data row9 col1\" >0.098322</td>\n",
       "      <td id=\"T_28294_row9_col2\" class=\"data row9 col2\" >-0.146692</td>\n",
       "      <td id=\"T_28294_row9_col3\" class=\"data row9 col3\" >0.194600</td>\n",
       "      <td id=\"T_28294_row9_col4\" class=\"data row9 col4\" >0.050086</td>\n",
       "      <td id=\"T_28294_row9_col5\" class=\"data row9 col5\" >0.004514</td>\n",
       "      <td id=\"T_28294_row9_col6\" class=\"data row9 col6\" >-0.056251</td>\n",
       "      <td id=\"T_28294_row9_col7\" class=\"data row9 col7\" >-0.342201</td>\n",
       "      <td id=\"T_28294_row9_col8\" class=\"data row9 col8\" >0.286766</td>\n",
       "      <td id=\"T_28294_row9_col9\" class=\"data row9 col9\" >1.000000</td>\n",
       "      <td id=\"T_28294_row9_col10\" class=\"data row9 col10\" >-0.576314</td>\n",
       "      <td id=\"T_28294_row9_col11\" class=\"data row9 col11\" >0.236560</td>\n",
       "      <td id=\"T_28294_row9_col12\" class=\"data row9 col12\" >0.209090</td>\n",
       "      <td id=\"T_28294_row9_col13\" class=\"data row9 col13\" >-0.429146</td>\n",
       "    </tr>\n",
       "    <tr>\n",
       "      <th id=\"T_28294_level0_row10\" class=\"row_heading level0 row10\" >slp</th>\n",
       "      <td id=\"T_28294_row10_col0\" class=\"data row10 col0\" >-0.164124</td>\n",
       "      <td id=\"T_28294_row10_col1\" class=\"data row10 col1\" >-0.032990</td>\n",
       "      <td id=\"T_28294_row10_col2\" class=\"data row10 col2\" >0.116854</td>\n",
       "      <td id=\"T_28294_row10_col3\" class=\"data row10 col3\" >-0.122873</td>\n",
       "      <td id=\"T_28294_row10_col4\" class=\"data row10 col4\" >0.000417</td>\n",
       "      <td id=\"T_28294_row10_col5\" class=\"data row10 col5\" >-0.058654</td>\n",
       "      <td id=\"T_28294_row10_col6\" class=\"data row10 col6\" >0.090402</td>\n",
       "      <td id=\"T_28294_row10_col7\" class=\"data row10 col7\" >0.384754</td>\n",
       "      <td id=\"T_28294_row10_col8\" class=\"data row10 col8\" >-0.256106</td>\n",
       "      <td id=\"T_28294_row10_col9\" class=\"data row10 col9\" >-0.576314</td>\n",
       "      <td id=\"T_28294_row10_col10\" class=\"data row10 col10\" >1.000000</td>\n",
       "      <td id=\"T_28294_row10_col11\" class=\"data row10 col11\" >-0.092236</td>\n",
       "      <td id=\"T_28294_row10_col12\" class=\"data row10 col12\" >-0.103314</td>\n",
       "      <td id=\"T_28294_row10_col13\" class=\"data row10 col13\" >0.343940</td>\n",
       "    </tr>\n",
       "    <tr>\n",
       "      <th id=\"T_28294_level0_row11\" class=\"row_heading level0 row11\" >caa</th>\n",
       "      <td id=\"T_28294_row11_col0\" class=\"data row11 col0\" >0.302261</td>\n",
       "      <td id=\"T_28294_row11_col1\" class=\"data row11 col1\" >0.113060</td>\n",
       "      <td id=\"T_28294_row11_col2\" class=\"data row11 col2\" >-0.195356</td>\n",
       "      <td id=\"T_28294_row11_col3\" class=\"data row11 col3\" >0.099248</td>\n",
       "      <td id=\"T_28294_row11_col4\" class=\"data row11 col4\" >0.086878</td>\n",
       "      <td id=\"T_28294_row11_col5\" class=\"data row11 col5\" >0.144935</td>\n",
       "      <td id=\"T_28294_row11_col6\" class=\"data row11 col6\" >-0.083112</td>\n",
       "      <td id=\"T_28294_row11_col7\" class=\"data row11 col7\" >-0.228311</td>\n",
       "      <td id=\"T_28294_row11_col8\" class=\"data row11 col8\" >0.125377</td>\n",
       "      <td id=\"T_28294_row11_col9\" class=\"data row11 col9\" >0.236560</td>\n",
       "      <td id=\"T_28294_row11_col10\" class=\"data row11 col10\" >-0.092236</td>\n",
       "      <td id=\"T_28294_row11_col11\" class=\"data row11 col11\" >1.000000</td>\n",
       "      <td id=\"T_28294_row11_col12\" class=\"data row11 col12\" >0.160085</td>\n",
       "      <td id=\"T_28294_row11_col13\" class=\"data row11 col13\" >-0.408992</td>\n",
       "    </tr>\n",
       "    <tr>\n",
       "      <th id=\"T_28294_level0_row12\" class=\"row_heading level0 row12\" >thall</th>\n",
       "      <td id=\"T_28294_row12_col0\" class=\"data row12 col0\" >0.065317</td>\n",
       "      <td id=\"T_28294_row12_col1\" class=\"data row12 col1\" >0.211452</td>\n",
       "      <td id=\"T_28294_row12_col2\" class=\"data row12 col2\" >-0.160370</td>\n",
       "      <td id=\"T_28294_row12_col3\" class=\"data row12 col3\" >0.062870</td>\n",
       "      <td id=\"T_28294_row12_col4\" class=\"data row12 col4\" >0.096810</td>\n",
       "      <td id=\"T_28294_row12_col5\" class=\"data row12 col5\" >-0.032752</td>\n",
       "      <td id=\"T_28294_row12_col6\" class=\"data row12 col6\" >-0.010473</td>\n",
       "      <td id=\"T_28294_row12_col7\" class=\"data row12 col7\" >-0.094910</td>\n",
       "      <td id=\"T_28294_row12_col8\" class=\"data row12 col8\" >0.205826</td>\n",
       "      <td id=\"T_28294_row12_col9\" class=\"data row12 col9\" >0.209090</td>\n",
       "      <td id=\"T_28294_row12_col10\" class=\"data row12 col10\" >-0.103314</td>\n",
       "      <td id=\"T_28294_row12_col11\" class=\"data row12 col11\" >0.160085</td>\n",
       "      <td id=\"T_28294_row12_col12\" class=\"data row12 col12\" >1.000000</td>\n",
       "      <td id=\"T_28294_row12_col13\" class=\"data row12 col13\" >-0.343101</td>\n",
       "    </tr>\n",
       "    <tr>\n",
       "      <th id=\"T_28294_level0_row13\" class=\"row_heading level0 row13\" >output</th>\n",
       "      <td id=\"T_28294_row13_col0\" class=\"data row13 col0\" >-0.221476</td>\n",
       "      <td id=\"T_28294_row13_col1\" class=\"data row13 col1\" >-0.283609</td>\n",
       "      <td id=\"T_28294_row13_col2\" class=\"data row13 col2\" >0.432080</td>\n",
       "      <td id=\"T_28294_row13_col3\" class=\"data row13 col3\" >-0.146269</td>\n",
       "      <td id=\"T_28294_row13_col4\" class=\"data row13 col4\" >-0.081437</td>\n",
       "      <td id=\"T_28294_row13_col5\" class=\"data row13 col5\" >-0.026826</td>\n",
       "      <td id=\"T_28294_row13_col6\" class=\"data row13 col6\" >0.134874</td>\n",
       "      <td id=\"T_28294_row13_col7\" class=\"data row13 col7\" >0.419955</td>\n",
       "      <td id=\"T_28294_row13_col8\" class=\"data row13 col8\" >-0.435601</td>\n",
       "      <td id=\"T_28294_row13_col9\" class=\"data row13 col9\" >-0.429146</td>\n",
       "      <td id=\"T_28294_row13_col10\" class=\"data row13 col10\" >0.343940</td>\n",
       "      <td id=\"T_28294_row13_col11\" class=\"data row13 col11\" >-0.408992</td>\n",
       "      <td id=\"T_28294_row13_col12\" class=\"data row13 col12\" >-0.343101</td>\n",
       "      <td id=\"T_28294_row13_col13\" class=\"data row13 col13\" >1.000000</td>\n",
       "    </tr>\n",
       "  </tbody>\n",
       "</table>\n"
      ],
      "text/plain": [
       "<pandas.io.formats.style.Styler at 0x1cd4bfa2490>"
      ]
     },
     "execution_count": 202,
     "metadata": {},
     "output_type": "execute_result"
    }
   ],
   "source": [
    "corr = df.corr()\n",
    "corr.style.background_gradient(cmap='coolwarm')"
   ]
  },
  {
   "cell_type": "markdown",
   "metadata": {},
   "source": [
    "##### Some Insights from Our Data"
   ]
  },
  {
   "cell_type": "code",
   "execution_count": null,
   "metadata": {},
   "outputs": [
    {
     "data": {
      "image/png": "[encoded data removed]",
      "text/plain": [
       "<Figure size 640x480 with 1 Axes>"
      ]
     },
     "metadata": {},
     "output_type": "display_data"
    }
   ],
   "source": [
    "sns.countplot(data=df, x=\"sex\", hue='sex')\n",
    "plt.suptitle('Plot based on people Sex')\n",
    "plt.show()"
   ]
  },
  {
   "cell_type": "code",
   "execution_count": null,
   "metadata": {},
   "outputs": [
    {
     "data": {
      "image/png": "[encoded data removed]",
      "text/plain": [
       "<Figure size 640x480 with 1 Axes>"
      ]
     },
     "metadata": {},
     "output_type": "display_data"
    }
   ],
   "source": [
    "sns.countplot(data=df, x=\"cp\", hue='cp')\n",
    "plt.suptitle('Plot based on Chest Pain type')\n",
    "plt.show()"
   ]
  },
  {
   "cell_type": "code",
   "execution_count": null,
   "metadata": {},
   "outputs": [
    {
     "data": {
      "image/png": "[encoded data removed]",
      "text/plain": [
       "<Figure size 640x480 with 1 Axes>"
      ]
     },
     "metadata": {},
     "output_type": "display_data"
    }
   ],
   "source": [
    "sns.countplot(data=df, x=\"fbs\", hue='fbs')\n",
    "plt.suptitle('Plot based on Fasting blood sugar')\n",
    "plt.show()"
   ]
  },
  {
   "cell_type": "code",
   "execution_count": null,
   "metadata": {},
   "outputs": [
    {
     "data": {
      "image/png": "[encoded data removed]",
      "text/plain": [
       "<Figure size 640x480 with 1 Axes>"
      ]
     },
     "metadata": {},
     "output_type": "display_data"
    }
   ],
   "source": [
    "sns.countplot(data=df, x=\"restecg\", hue='restecg')\n",
    "plt.suptitle('Plot based on Resting electrocardiographic results')\n",
    "plt.show()"
   ]
  },
  {
   "cell_type": "markdown",
   "metadata": {},
   "source": [
    "**import libraries for ML algorithms**"
   ]
  },
  {
   "cell_type": "code",
   "execution_count": null,
   "metadata": {},
   "outputs": [],
   "source": [
    "from sklearn.linear_model import LogisticRegression\n",
    "from sklearn.metrics import precision_score, recall_score, f1_score,confusion_matrix"
   ]
  },
  {
   "cell_type": "markdown",
   "metadata": {},
   "source": [
    "Assuming ```output``` is the column representing the likelihood of a heart attack"
   ]
  },
  {
   "cell_type": "code",
   "execution_count": null,
   "metadata": {},
   "outputs": [],
   "source": [
    "X = df.drop('output', axis=1)\n",
    "y = df['output']"
   ]
  },
  {
   "cell_type": "markdown",
   "metadata": {},
   "source": [
    "Split the data into training and testing sets\n",
    "\n",
    "80 % for train\n",
    "\n",
    "20% for test"
   ]
  },
  {
   "cell_type": "code",
   "execution_count": null,
   "metadata": {},
   "outputs": [],
   "source": [
    "X_train, X_test, y_train, y_test = train_test_split(X, y, test_size=0.2, random_state=42)"
   ]
  },
  {
   "cell_type": "markdown",
   "metadata": {},
   "source": [
    "**Initialize the model**\n",
    "\n",
    "max_iter : Maximum number of iterations taken for the solvers to converge."
   ]
  },
  {
   "cell_type": "code",
   "execution_count": null,
   "metadata": {},
   "outputs": [],
   "source": [
    "model = LogisticRegression(max_iter=1000)"
   ]
  },
  {
   "cell_type": "markdown",
   "metadata": {},
   "source": [
    "**Train the model**"
   ]
  },
  {
   "cell_type": "code",
   "execution_count": null,
   "metadata": {},
   "outputs": [
    {
     "data": {
      "text/html": [
       "<style>#sk-container-id-9 {color: black;}#sk-container-id-9 pre{padding: 0;}#sk-container-id-9 div.sk-toggleable {background-color: white;}#sk-container-id-9 label.sk-toggleable__label {cursor: pointer;display: block;width: 100%;margin-bottom: 0;padding: 0.3em;box-sizing: border-box;text-align: center;}#sk-container-id-9 label.sk-toggleable__label-arrow:before {content: \"▸\";float: left;margin-right: 0.25em;color: #696969;}#sk-container-id-9 label.sk-toggleable__label-arrow:hover:before {color: black;}#sk-container-id-9 div.sk-estimator:hover label.sk-toggleable__label-arrow:before {color: black;}#sk-container-id-9 div.sk-toggleable__content {max-height: 0;max-width: 0;overflow: hidden;text-align: left;background-color: #f0f8ff;}#sk-container-id-9 div.sk-toggleable__content pre {margin: 0.2em;color: black;border-radius: 0.25em;background-color: #f0f8ff;}#sk-container-id-9 input.sk-toggleable__control:checked~div.sk-toggleable__content {max-height: 200px;max-width: 100%;overflow: auto;}#sk-container-id-9 input.sk-toggleable__control:checked~label.sk-toggleable__label-arrow:before {content: \"▾\";}#sk-container-id-9 div.sk-estimator input.sk-toggleable__control:checked~label.sk-toggleable__label {background-color: #d4ebff;}#sk-container-id-9 div.sk-label input.sk-toggleable__control:checked~label.sk-toggleable__label {background-color: #d4ebff;}#sk-container-id-9 input.sk-hidden--visually {border: 0;clip: rect(1px 1px 1px 1px);clip: rect(1px, 1px, 1px, 1px);height: 1px;margin: -1px;overflow: hidden;padding: 0;position: absolute;width: 1px;}#sk-container-id-9 div.sk-estimator {font-family: monospace;background-color: #f0f8ff;border: 1px dotted black;border-radius: 0.25em;box-sizing: border-box;margin-bottom: 0.5em;}#sk-container-id-9 div.sk-estimator:hover {background-color: #d4ebff;}#sk-container-id-9 div.sk-parallel-item::after {content: \"\";width: 100%;border-bottom: 1px solid gray;flex-grow: 1;}#sk-container-id-9 div.sk-label:hover label.sk-toggleable__label {background-color: #d4ebff;}#sk-container-id-9 div.sk-serial::before {content: \"\";position: absolute;border-left: 1px solid gray;box-sizing: border-box;top: 0;bottom: 0;left: 50%;z-index: 0;}#sk-container-id-9 div.sk-serial {display: flex;flex-direction: column;align-items: center;background-color: white;padding-right: 0.2em;padding-left: 0.2em;position: relative;}#sk-container-id-9 div.sk-item {position: relative;z-index: 1;}#sk-container-id-9 div.sk-parallel {display: flex;align-items: stretch;justify-content: center;background-color: white;position: relative;}#sk-container-id-9 div.sk-item::before, #sk-container-id-9 div.sk-parallel-item::before {content: \"\";position: absolute;border-left: 1px solid gray;box-sizing: border-box;top: 0;bottom: 0;left: 50%;z-index: -1;}#sk-container-id-9 div.sk-parallel-item {display: flex;flex-direction: column;z-index: 1;position: relative;background-color: white;}#sk-container-id-9 div.sk-parallel-item:first-child::after {align-self: flex-end;width: 50%;}#sk-container-id-9 div.sk-parallel-item:last-child::after {align-self: flex-start;width: 50%;}#sk-container-id-9 div.sk-parallel-item:only-child::after {width: 0;}#sk-container-id-9 div.sk-dashed-wrapped {border: 1px dashed gray;margin: 0 0.4em 0.5em 0.4em;box-sizing: border-box;padding-bottom: 0.4em;background-color: white;}#sk-container-id-9 div.sk-label label {font-family: monospace;font-weight: bold;display: inline-block;line-height: 1.2em;}#sk-container-id-9 div.sk-label-container {text-align: center;}#sk-container-id-9 div.sk-container {/* jupyter's `normalize.less` sets `[hidden] { display: none; }` but bootstrap.min.css set `[hidden] { display: none !important; }` so we also need the `!important` here to be able to override the default hidden behavior on the sphinx rendered scikit-learn.org. See: https://github.com/scikit-learn/scikit-learn/issues/21755 */display: inline-block !important;position: relative;}#sk-container-id-9 div.sk-text-repr-fallback {display: none;}</style><div id=\"sk-container-id-9\" class=\"sk-top-container\"><div class=\"sk-text-repr-fallback\"><pre>LogisticRegression(max_iter=1000)</pre><b>In a Jupyter environment, please rerun this cell to show the HTML representation or trust the notebook. <br />On GitHub, the HTML representation is unable to render, please try loading this page with nbviewer.org.</b></div><div class=\"sk-container\" hidden><div class=\"sk-item\"><div class=\"sk-estimator sk-toggleable\"><input class=\"sk-toggleable__control sk-hidden--visually\" id=\"sk-estimator-id-9\" type=\"checkbox\" checked><label for=\"sk-estimator-id-9\" class=\"sk-toggleable__label sk-toggleable__label-arrow\">LogisticRegression</label><div class=\"sk-toggleable__content\"><pre>LogisticRegression(max_iter=1000)</pre></div></div></div></div></div>"
      ],
      "text/plain": [
       "LogisticRegression(max_iter=1000)"
      ]
     },
     "execution_count": 211,
     "metadata": {},
     "output_type": "execute_result"
    }
   ],
   "source": [
    "model.fit(X_train, y_train)"
   ]
  },
  {
   "cell_type": "markdown",
   "metadata": {},
   "source": [
    "**Make predictions on the test set**"
   ]
  },
  {
   "cell_type": "code",
   "execution_count": null,
   "metadata": {},
   "outputs": [],
   "source": [
    "y_pred = model.predict(X_test)"
   ]
  },
  {
   "cell_type": "markdown",
   "metadata": {},
   "source": [
    "<b>True Positives (TP):</b> The model correctly predicted positive instances.\n",
    "\n",
    "<b>False Positives (FP):</b> The model incorrectly predicted positive instances.\n",
    "\n",
    "<b>True Negatives (TN):</b> The model correctly predicted negative instances.\n",
    "\n",
    "<b>False Negatives (FN):</b> The model incorrectly predicted negative instances."
   ]
  },
  {
   "cell_type": "markdown",
   "metadata": {},
   "source": [
    "<b>Confusion Matrix:</b>\n",
    "\n",
    "A confusion matrix provides a tabular summary of the number of true positives, true negatives, false positives, and false negatives."
   ]
  },
  {
   "cell_type": "code",
   "execution_count": null,
   "metadata": {},
   "outputs": [
    {
     "data": {
      "text/plain": [
       "array([[24,  5],\n",
       "       [ 6, 26]], dtype=int64)"
      ]
     },
     "execution_count": 213,
     "metadata": {},
     "output_type": "execute_result"
    }
   ],
   "source": [
    "conf_matrix = confusion_matrix(y_test, y_pred)\n",
    "conf_matrix"
   ]
  },
  {
   "cell_type": "code",
   "execution_count": null,
   "metadata": {},
   "outputs": [
    {
     "data": {
      "image/png": "[encoded data removed]",
      "text/plain": [
       "<Figure size 800x600 with 2 Axes>"
      ]
     },
     "metadata": {},
     "output_type": "display_data"
    }
   ],
   "source": [
    "plt.figure(figsize=(8, 6))\n",
    "sns.heatmap(conf_matrix, annot=True, fmt='d', cmap='Blues', \n",
    "            xticklabels=['Predicted Negative', 'Predicted Positive'], \n",
    "            yticklabels=['Actual Negative', 'Actual Positive'])\n",
    "plt.xlabel('Predicted')\n",
    "plt.ylabel('Actual')\n",
    "plt.title('Confusion Matrix')\n",
    "plt.show()"
   ]
  },
  {
   "cell_type": "markdown",
   "metadata": {},
   "source": [
    "<b>Precision:</b>\n",
    "\n",
    "Precision measures the proportion of true positives (correctly predicted positives) out of all predicted positives.\n",
    "\n",
    "Precision is the ratio of true positives to the sum of true positives and false positives. It answers the question: \"Of all the positive predictions made by the model, how many were actually correct?\"\n",
    "\n",
    "Precision is important when minimizing false positives is crucial. For example, in medical diagnoses, a high precision means a low rate of misdiagnoses.\n",
    "\n",
    "Formula: \n",
    "\n",
    "\\begin{align}\n",
    "Precision = \\frac{TP}{TP+FP}\n",
    "\\end{align}"
   ]
  },
  {
   "cell_type": "code",
   "execution_count": null,
   "metadata": {},
   "outputs": [
    {
     "name": "stdout",
     "output_type": "stream",
     "text": [
      "Precision: 0.8387096774193549\n"
     ]
    }
   ],
   "source": [
    "# Calculate precision\n",
    "precision = precision_score(y_test, y_pred)\n",
    "print('Precision:', precision)"
   ]
  },
  {
   "cell_type": "markdown",
   "metadata": {},
   "source": [
    "<b>Recall (Sensitivity, True Positive Rate):</b>\n",
    "\n",
    "Recall measures the proportion of true positives out of all actual positives.\n",
    "\n",
    "Recall, also known as sensitivity or true positive rate, is the ratio of true positives to the sum of true positives and false negatives. It answers the question: \"Of all the actual positive instances, how many were correctly predicted by the model?\"\n",
    "\n",
    "Recall is important when minimizing false negatives is crucial. For instance, in spam detection, a high recall means a low rate of missing actual spam emails.\n",
    "\n",
    "Formula: \n",
    "\n",
    "\\begin{align}\n",
    "Recall = \\frac{TP}{TP+FN}\n",
    "\\end{align}"
   ]
  },
  {
   "cell_type": "code",
   "execution_count": null,
   "metadata": {},
   "outputs": [
    {
     "name": "stdout",
     "output_type": "stream",
     "text": [
      "Recall: 0.8125\n"
     ]
    }
   ],
   "source": [
    "# Calculate recall\n",
    "recall = recall_score(y_test, y_pred)\n",
    "print('Recall:', recall)"
   ]
  },
  {
   "cell_type": "markdown",
   "metadata": {},
   "source": [
    "<b>F1-Score:</b>\n",
    "\n",
    "The F1-Score is the harmonic mean of precision and recall. It provides a balance between precision and recall.\n",
    "\n",
    "The F1-Score is the harmonic mean of precision and recall. It provides a balance between precision and recall. The harmonic mean gives more weight to lower values, making the F1-Score sensitive to both false positives and false negatives.\n",
    "\n",
    "The F1-Score is useful when you want to find a balance between precision and recall, and you don't want to favor one over the other.\n",
    "\n",
    "Formula:\n",
    "\n",
    "\\begin{align}\n",
    "F1 = \\frac{2*Precision*Recall}{Precision+Recall} = \\frac{2*TP}{2*TP+FP+FN}\n",
    "\\end{align}"
   ]
  },
  {
   "cell_type": "code",
   "execution_count": null,
   "metadata": {},
   "outputs": [
    {
     "name": "stdout",
     "output_type": "stream",
     "text": [
      "F1-Score: 0.8253968253968254\n"
     ]
    }
   ],
   "source": [
    "# Calculate F1-score\n",
    "f1 = f1_score(y_test, y_pred)\n",
    "print('F1-Score:', f1)"
   ]
  },
  {
   "cell_type": "markdown",
   "metadata": {},
   "source": [
    "## Decision Tree (for  Multi-Class Classification)"
   ]
  },
  {
   "cell_type": "markdown",
   "metadata": {},
   "source": [
    "### About The Dataset \n",
    "\n",
    "**The target feature is**\n",
    "Drug type\n",
    "\n",
    "**The feature sets are:**\n",
    "* Age\n",
    "* Sex\n",
    "* Blood Pressure Levels (BP)\n",
    "* Cholesterol Levels\n",
    "* Na to Potassium Ration\n"
   ]
  },
  {
   "cell_type": "markdown",
   "metadata": {},
   "source": [
    "**Reading Dataset**"
   ]
  },
  {
   "cell_type": "code",
   "execution_count": 39,
   "metadata": {},
   "outputs": [],
   "source": [
    "path = './drug.csv'\n",
    "drugs = pd.read_csv(path)"
   ]
  },
  {
   "cell_type": "markdown",
   "metadata": {},
   "source": [
    "Now let's take a look at the first 5 rows of the data:"
   ]
  },
  {
   "cell_type": "code",
   "execution_count": 40,
   "metadata": {},
   "outputs": [
    {
     "data": {
      "text/html": [
       "<div>\n",
       "<style scoped>\n",
       "    .dataframe tbody tr th:only-of-type {\n",
       "        vertical-align: middle;\n",
       "    }\n",
       "\n",
       "    .dataframe tbody tr th {\n",
       "        vertical-align: top;\n",
       "    }\n",
       "\n",
       "    .dataframe thead th {\n",
       "        text-align: right;\n",
       "    }\n",
       "</style>\n",
       "<table border=\"1\" class=\"dataframe\">\n",
       "  <thead>\n",
       "    <tr style=\"text-align: right;\">\n",
       "      <th></th>\n",
       "      <th>Age</th>\n",
       "      <th>Sex</th>\n",
       "      <th>BP</th>\n",
       "      <th>Cholesterol</th>\n",
       "      <th>Na_to_K</th>\n",
       "      <th>Drug</th>\n",
       "    </tr>\n",
       "  </thead>\n",
       "  <tbody>\n",
       "    <tr>\n",
       "      <th>0</th>\n",
       "      <td>23</td>\n",
       "      <td>F</td>\n",
       "      <td>HIGH</td>\n",
       "      <td>HIGH</td>\n",
       "      <td>25.355</td>\n",
       "      <td>drugY</td>\n",
       "    </tr>\n",
       "    <tr>\n",
       "      <th>1</th>\n",
       "      <td>47</td>\n",
       "      <td>M</td>\n",
       "      <td>LOW</td>\n",
       "      <td>HIGH</td>\n",
       "      <td>13.093</td>\n",
       "      <td>drugC</td>\n",
       "    </tr>\n",
       "    <tr>\n",
       "      <th>2</th>\n",
       "      <td>47</td>\n",
       "      <td>M</td>\n",
       "      <td>LOW</td>\n",
       "      <td>HIGH</td>\n",
       "      <td>10.114</td>\n",
       "      <td>drugC</td>\n",
       "    </tr>\n",
       "    <tr>\n",
       "      <th>3</th>\n",
       "      <td>28</td>\n",
       "      <td>F</td>\n",
       "      <td>NORMAL</td>\n",
       "      <td>HIGH</td>\n",
       "      <td>7.798</td>\n",
       "      <td>drugX</td>\n",
       "    </tr>\n",
       "    <tr>\n",
       "      <th>4</th>\n",
       "      <td>61</td>\n",
       "      <td>F</td>\n",
       "      <td>LOW</td>\n",
       "      <td>HIGH</td>\n",
       "      <td>18.043</td>\n",
       "      <td>drugY</td>\n",
       "    </tr>\n",
       "  </tbody>\n",
       "</table>\n",
       "</div>"
      ],
      "text/plain": [
       "   Age Sex      BP Cholesterol  Na_to_K   Drug\n",
       "0   23   F    HIGH        HIGH   25.355  drugY\n",
       "1   47   M     LOW        HIGH   13.093  drugC\n",
       "2   47   M     LOW        HIGH   10.114  drugC\n",
       "3   28   F  NORMAL        HIGH    7.798  drugX\n",
       "4   61   F     LOW        HIGH   18.043  drugY"
      ]
     },
     "execution_count": 40,
     "metadata": {},
     "output_type": "execute_result"
    }
   ],
   "source": [
    "drugs.head()"
   ]
  },
  {
   "cell_type": "markdown",
   "metadata": {},
   "source": [
    "```df.info()``` shows that we have no NaN value."
   ]
  },
  {
   "cell_type": "code",
   "execution_count": 42,
   "metadata": {},
   "outputs": [
    {
     "name": "stdout",
     "output_type": "stream",
     "text": [
      "<class 'pandas.core.frame.DataFrame'>\n",
      "RangeIndex: 200 entries, 0 to 199\n",
      "Data columns (total 6 columns):\n",
      " #   Column       Non-Null Count  Dtype  \n",
      "---  ------       --------------  -----  \n",
      " 0   Age          200 non-null    int64  \n",
      " 1   Sex          200 non-null    object \n",
      " 2   BP           200 non-null    object \n",
      " 3   Cholesterol  200 non-null    object \n",
      " 4   Na_to_K      200 non-null    float64\n",
      " 5   Drug         200 non-null    object \n",
      "dtypes: float64(1), int64(1), object(4)\n",
      "memory usage: 9.5+ KB\n"
     ]
    }
   ],
   "source": [
    "drugs.info()"
   ]
  },
  {
   "cell_type": "markdown",
   "metadata": {},
   "source": [
    "Check Null values (We don't have any null values)"
   ]
  },
  {
   "cell_type": "code",
   "execution_count": 43,
   "metadata": {},
   "outputs": [
    {
     "data": {
      "text/plain": [
       "Age            0\n",
       "Sex            0\n",
       "BP             0\n",
       "Cholesterol    0\n",
       "Na_to_K        0\n",
       "Drug           0\n",
       "dtype: int64"
      ]
     },
     "execution_count": 43,
     "metadata": {},
     "output_type": "execute_result"
    }
   ],
   "source": [
    "drugs.isnull().sum()"
   ]
  },
  {
   "cell_type": "markdown",
   "metadata": {},
   "source": [
    "Checking for duplicate rows, we dont have any duplicated row"
   ]
  },
  {
   "cell_type": "code",
   "execution_count": 44,
   "metadata": {},
   "outputs": [
    {
     "data": {
      "text/html": [
       "<div>\n",
       "<style scoped>\n",
       "    .dataframe tbody tr th:only-of-type {\n",
       "        vertical-align: middle;\n",
       "    }\n",
       "\n",
       "    .dataframe tbody tr th {\n",
       "        vertical-align: top;\n",
       "    }\n",
       "\n",
       "    .dataframe thead th {\n",
       "        text-align: right;\n",
       "    }\n",
       "</style>\n",
       "<table border=\"1\" class=\"dataframe\">\n",
       "  <thead>\n",
       "    <tr style=\"text-align: right;\">\n",
       "      <th></th>\n",
       "      <th>Age</th>\n",
       "      <th>Sex</th>\n",
       "      <th>BP</th>\n",
       "      <th>Cholesterol</th>\n",
       "      <th>Na_to_K</th>\n",
       "      <th>Drug</th>\n",
       "    </tr>\n",
       "  </thead>\n",
       "  <tbody>\n",
       "  </tbody>\n",
       "</table>\n",
       "</div>"
      ],
      "text/plain": [
       "Empty DataFrame\n",
       "Columns: [Age, Sex, BP, Cholesterol, Na_to_K, Drug]\n",
       "Index: []"
      ]
     },
     "execution_count": 44,
     "metadata": {},
     "output_type": "execute_result"
    }
   ],
   "source": [
    "drugs[drugs.duplicated()]"
   ]
  },
  {
   "cell_type": "markdown",
   "metadata": {},
   "source": [
    "We take a look to diffrent values for some columns"
   ]
  },
  {
   "cell_type": "code",
   "execution_count": 55,
   "metadata": {},
   "outputs": [
    {
     "data": {
      "image/png": "[encoded data removed]",
      "text/plain": [
       "<Figure size 640x480 with 1 Axes>"
      ]
     },
     "metadata": {},
     "output_type": "display_data"
    }
   ],
   "source": [
    "sns.countplot(data=drugs, x=\"Sex\", hue='Sex')\n",
    "plt.suptitle('Plot based on Sex column')\n",
    "plt.show()"
   ]
  },
  {
   "cell_type": "code",
   "execution_count": 56,
   "metadata": {},
   "outputs": [
    {
     "data": {
      "image/png": "[encoded data removed]",
      "text/plain": [
       "<Figure size 640x480 with 1 Axes>"
      ]
     },
     "metadata": {},
     "output_type": "display_data"
    }
   ],
   "source": [
    "sns.countplot(data=drugs, x=\"Drug\", hue='Drug')\n",
    "plt.suptitle('Plot based on Drug column')\n",
    "plt.show()"
   ]
  },
  {
   "cell_type": "code",
   "execution_count": 57,
   "metadata": {},
   "outputs": [
    {
     "data": {
      "image/png": "[encoded data removed]",
      "text/plain": [
       "<Figure size 640x480 with 1 Axes>"
      ]
     },
     "metadata": {},
     "output_type": "display_data"
    }
   ],
   "source": [
    "sns.countplot(data=drugs, x=\"BP\", hue='BP')\n",
    "plt.suptitle('Plot based on BP column')\n",
    "plt.show()"
   ]
  },
  {
   "cell_type": "code",
   "execution_count": 58,
   "metadata": {},
   "outputs": [
    {
     "data": {
      "image/png": "[encoded data removed]",
      "text/plain": [
       "<Figure size 640x480 with 1 Axes>"
      ]
     },
     "metadata": {},
     "output_type": "display_data"
    }
   ],
   "source": [
    "sns.countplot(data=drugs, x=\"Cholesterol\", hue='Cholesterol')\n",
    "plt.suptitle('Plot based on Cholesterol column')\n",
    "plt.show()"
   ]
  },
  {
   "cell_type": "markdown",
   "metadata": {},
   "source": [
    "Using <b>drugs</b> as the Drug.csv data read by pandas, declare the following variables: <br>\n",
    "\n",
    "<ul>\n",
    "    <li> <b> X </b> as the <b> Feature Matrix </b> (data of drugs) </li>\n",
    "    <li> <b> y </b> as the <b> response vector </b> (target) </li>\n",
    "</ul>\n"
   ]
  },
  {
   "cell_type": "markdown",
   "metadata": {},
   "source": [
    "Remove the column containing the target name since it doesn't contain numeric values.\n"
   ]
  },
  {
   "cell_type": "code",
   "execution_count": 45,
   "metadata": {},
   "outputs": [
    {
     "data": {
      "text/plain": [
       "array([[23, 'F', 'HIGH', 'HIGH', 25.355],\n",
       "       [47, 'M', 'LOW', 'HIGH', 13.093],\n",
       "       [47, 'M', 'LOW', 'HIGH', 10.114],\n",
       "       [28, 'F', 'NORMAL', 'HIGH', 7.798],\n",
       "       [61, 'F', 'LOW', 'HIGH', 18.043],\n",
       "       [22, 'F', 'NORMAL', 'HIGH', 8.607],\n",
       "       [49, 'F', 'NORMAL', 'HIGH', 16.275],\n",
       "       [41, 'M', 'LOW', 'HIGH', 11.037],\n",
       "       [60, 'M', 'NORMAL', 'HIGH', 15.171],\n",
       "       [43, 'M', 'LOW', 'NORMAL', 19.368],\n",
       "       [47, 'F', 'LOW', 'HIGH', 11.767],\n",
       "       [34, 'F', 'HIGH', 'NORMAL', 19.199],\n",
       "       [43, 'M', 'LOW', 'HIGH', 15.376],\n",
       "       [74, 'F', 'LOW', 'HIGH', 20.942],\n",
       "       [50, 'F', 'NORMAL', 'HIGH', 12.703],\n",
       "       [16, 'F', 'HIGH', 'NORMAL', 15.516],\n",
       "       [69, 'M', 'LOW', 'NORMAL', 11.455],\n",
       "       [43, 'M', 'HIGH', 'HIGH', 13.972],\n",
       "       [23, 'M', 'LOW', 'HIGH', 7.298],\n",
       "       [32, 'F', 'HIGH', 'NORMAL', 25.974],\n",
       "       [57, 'M', 'LOW', 'NORMAL', 19.128],\n",
       "       [63, 'M', 'NORMAL', 'HIGH', 25.917],\n",
       "       [47, 'M', 'LOW', 'NORMAL', 30.568],\n",
       "       [48, 'F', 'LOW', 'HIGH', 15.036],\n",
       "       [33, 'F', 'LOW', 'HIGH', 33.486],\n",
       "       [28, 'F', 'HIGH', 'NORMAL', 18.809],\n",
       "       [31, 'M', 'HIGH', 'HIGH', 30.366],\n",
       "       [49, 'F', 'NORMAL', 'NORMAL', 9.381],\n",
       "       [39, 'F', 'LOW', 'NORMAL', 22.697],\n",
       "       [45, 'M', 'LOW', 'HIGH', 17.951],\n",
       "       [18, 'F', 'NORMAL', 'NORMAL', 8.75],\n",
       "       [74, 'M', 'HIGH', 'HIGH', 9.567],\n",
       "       [49, 'M', 'LOW', 'NORMAL', 11.014],\n",
       "       [65, 'F', 'HIGH', 'NORMAL', 31.876],\n",
       "       [53, 'M', 'NORMAL', 'HIGH', 14.133],\n",
       "       [46, 'M', 'NORMAL', 'NORMAL', 7.285],\n",
       "       [32, 'M', 'HIGH', 'NORMAL', 9.445],\n",
       "       [39, 'M', 'LOW', 'NORMAL', 13.938],\n",
       "       [39, 'F', 'NORMAL', 'NORMAL', 9.709],\n",
       "       [15, 'M', 'NORMAL', 'HIGH', 9.084],\n",
       "       [73, 'F', 'NORMAL', 'HIGH', 19.221],\n",
       "       [58, 'F', 'HIGH', 'NORMAL', 14.239],\n",
       "       [50, 'M', 'NORMAL', 'NORMAL', 15.79],\n",
       "       [23, 'M', 'NORMAL', 'HIGH', 12.26],\n",
       "       [50, 'F', 'NORMAL', 'NORMAL', 12.295],\n",
       "       [66, 'F', 'NORMAL', 'NORMAL', 8.107],\n",
       "       [37, 'F', 'HIGH', 'HIGH', 13.091],\n",
       "       [68, 'M', 'LOW', 'HIGH', 10.291],\n",
       "       [23, 'M', 'NORMAL', 'HIGH', 31.686],\n",
       "       [28, 'F', 'LOW', 'HIGH', 19.796],\n",
       "       [58, 'F', 'HIGH', 'HIGH', 19.416],\n",
       "       [67, 'M', 'NORMAL', 'NORMAL', 10.898],\n",
       "       [62, 'M', 'LOW', 'NORMAL', 27.183],\n",
       "       [24, 'F', 'HIGH', 'NORMAL', 18.457],\n",
       "       [68, 'F', 'HIGH', 'NORMAL', 10.189],\n",
       "       [26, 'F', 'LOW', 'HIGH', 14.16],\n",
       "       [65, 'M', 'HIGH', 'NORMAL', 11.34],\n",
       "       [40, 'M', 'HIGH', 'HIGH', 27.826],\n",
       "       [60, 'M', 'NORMAL', 'NORMAL', 10.091],\n",
       "       [34, 'M', 'HIGH', 'HIGH', 18.703],\n",
       "       [38, 'F', 'LOW', 'NORMAL', 29.875],\n",
       "       [24, 'M', 'HIGH', 'NORMAL', 9.475],\n",
       "       [67, 'M', 'LOW', 'NORMAL', 20.693],\n",
       "       [45, 'M', 'LOW', 'NORMAL', 8.37],\n",
       "       [60, 'F', 'HIGH', 'HIGH', 13.303],\n",
       "       [68, 'F', 'NORMAL', 'NORMAL', 27.05],\n",
       "       [29, 'M', 'HIGH', 'HIGH', 12.856],\n",
       "       [17, 'M', 'NORMAL', 'NORMAL', 10.832],\n",
       "       [54, 'M', 'NORMAL', 'HIGH', 24.658],\n",
       "       [18, 'F', 'HIGH', 'NORMAL', 24.276],\n",
       "       [70, 'M', 'HIGH', 'HIGH', 13.967],\n",
       "       [28, 'F', 'NORMAL', 'HIGH', 19.675],\n",
       "       [24, 'F', 'NORMAL', 'HIGH', 10.605],\n",
       "       [41, 'F', 'NORMAL', 'NORMAL', 22.905],\n",
       "       [31, 'M', 'HIGH', 'NORMAL', 17.069],\n",
       "       [26, 'M', 'LOW', 'NORMAL', 20.909],\n",
       "       [36, 'F', 'HIGH', 'HIGH', 11.198],\n",
       "       [26, 'F', 'HIGH', 'NORMAL', 19.161],\n",
       "       [19, 'F', 'HIGH', 'HIGH', 13.313],\n",
       "       [32, 'F', 'LOW', 'NORMAL', 10.84],\n",
       "       [60, 'M', 'HIGH', 'HIGH', 13.934],\n",
       "       [64, 'M', 'NORMAL', 'HIGH', 7.761],\n",
       "       [32, 'F', 'LOW', 'HIGH', 9.712],\n",
       "       [38, 'F', 'HIGH', 'NORMAL', 11.326],\n",
       "       [47, 'F', 'LOW', 'HIGH', 10.067],\n",
       "       [59, 'M', 'HIGH', 'HIGH', 13.935],\n",
       "       [51, 'F', 'NORMAL', 'HIGH', 13.597],\n",
       "       [69, 'M', 'LOW', 'HIGH', 15.478],\n",
       "       [37, 'F', 'HIGH', 'NORMAL', 23.091],\n",
       "       [50, 'F', 'NORMAL', 'NORMAL', 17.211],\n",
       "       [62, 'M', 'NORMAL', 'HIGH', 16.594],\n",
       "       [41, 'M', 'HIGH', 'NORMAL', 15.156],\n",
       "       [29, 'F', 'HIGH', 'HIGH', 29.45],\n",
       "       [42, 'F', 'LOW', 'NORMAL', 29.271],\n",
       "       [56, 'M', 'LOW', 'HIGH', 15.015],\n",
       "       [36, 'M', 'LOW', 'NORMAL', 11.424],\n",
       "       [58, 'F', 'LOW', 'HIGH', 38.247],\n",
       "       [56, 'F', 'HIGH', 'HIGH', 25.395],\n",
       "       [20, 'M', 'HIGH', 'NORMAL', 35.639],\n",
       "       [15, 'F', 'HIGH', 'NORMAL', 16.725],\n",
       "       [31, 'M', 'HIGH', 'NORMAL', 11.871],\n",
       "       [45, 'F', 'HIGH', 'HIGH', 12.854],\n",
       "       [28, 'F', 'LOW', 'HIGH', 13.127],\n",
       "       [56, 'M', 'NORMAL', 'HIGH', 8.966],\n",
       "       [22, 'M', 'HIGH', 'NORMAL', 28.294],\n",
       "       [37, 'M', 'LOW', 'NORMAL', 8.968],\n",
       "       [22, 'M', 'NORMAL', 'HIGH', 11.953],\n",
       "       [42, 'M', 'LOW', 'HIGH', 20.013],\n",
       "       [72, 'M', 'HIGH', 'NORMAL', 9.677],\n",
       "       [23, 'M', 'NORMAL', 'HIGH', 16.85],\n",
       "       [50, 'M', 'HIGH', 'HIGH', 7.49],\n",
       "       [47, 'F', 'NORMAL', 'NORMAL', 6.683],\n",
       "       [35, 'M', 'LOW', 'NORMAL', 9.17],\n",
       "       [65, 'F', 'LOW', 'NORMAL', 13.769],\n",
       "       [20, 'F', 'NORMAL', 'NORMAL', 9.281],\n",
       "       [51, 'M', 'HIGH', 'HIGH', 18.295],\n",
       "       [67, 'M', 'NORMAL', 'NORMAL', 9.514],\n",
       "       [40, 'F', 'NORMAL', 'HIGH', 10.103],\n",
       "       [32, 'F', 'HIGH', 'NORMAL', 10.292],\n",
       "       [61, 'F', 'HIGH', 'HIGH', 25.475],\n",
       "       [28, 'M', 'NORMAL', 'HIGH', 27.064],\n",
       "       [15, 'M', 'HIGH', 'NORMAL', 17.206],\n",
       "       [34, 'M', 'NORMAL', 'HIGH', 22.456],\n",
       "       [36, 'F', 'NORMAL', 'HIGH', 16.753],\n",
       "       [53, 'F', 'HIGH', 'NORMAL', 12.495],\n",
       "       [19, 'F', 'HIGH', 'NORMAL', 25.969],\n",
       "       [66, 'M', 'HIGH', 'HIGH', 16.347],\n",
       "       [35, 'M', 'NORMAL', 'NORMAL', 7.845],\n",
       "       [47, 'M', 'LOW', 'NORMAL', 33.542],\n",
       "       [32, 'F', 'NORMAL', 'HIGH', 7.477],\n",
       "       [70, 'F', 'NORMAL', 'HIGH', 20.489],\n",
       "       [52, 'M', 'LOW', 'NORMAL', 32.922],\n",
       "       [49, 'M', 'LOW', 'NORMAL', 13.598],\n",
       "       [24, 'M', 'NORMAL', 'HIGH', 25.786],\n",
       "       [42, 'F', 'HIGH', 'HIGH', 21.036],\n",
       "       [74, 'M', 'LOW', 'NORMAL', 11.939],\n",
       "       [55, 'F', 'HIGH', 'HIGH', 10.977],\n",
       "       [35, 'F', 'HIGH', 'HIGH', 12.894],\n",
       "       [51, 'M', 'HIGH', 'NORMAL', 11.343],\n",
       "       [69, 'F', 'NORMAL', 'HIGH', 10.065],\n",
       "       [49, 'M', 'HIGH', 'NORMAL', 6.269],\n",
       "       [64, 'F', 'LOW', 'NORMAL', 25.741],\n",
       "       [60, 'M', 'HIGH', 'NORMAL', 8.621],\n",
       "       [74, 'M', 'HIGH', 'NORMAL', 15.436],\n",
       "       [39, 'M', 'HIGH', 'HIGH', 9.664],\n",
       "       [61, 'M', 'NORMAL', 'HIGH', 9.443],\n",
       "       [37, 'F', 'LOW', 'NORMAL', 12.006],\n",
       "       [26, 'F', 'HIGH', 'NORMAL', 12.307],\n",
       "       [61, 'F', 'LOW', 'NORMAL', 7.34],\n",
       "       [22, 'M', 'LOW', 'HIGH', 8.151],\n",
       "       [49, 'M', 'HIGH', 'NORMAL', 8.7],\n",
       "       [68, 'M', 'HIGH', 'HIGH', 11.009],\n",
       "       [55, 'M', 'NORMAL', 'NORMAL', 7.261],\n",
       "       [72, 'F', 'LOW', 'NORMAL', 14.642],\n",
       "       [37, 'M', 'LOW', 'NORMAL', 16.724],\n",
       "       [49, 'M', 'LOW', 'HIGH', 10.537],\n",
       "       [31, 'M', 'HIGH', 'NORMAL', 11.227],\n",
       "       [53, 'M', 'LOW', 'HIGH', 22.963],\n",
       "       [59, 'F', 'LOW', 'HIGH', 10.444],\n",
       "       [34, 'F', 'LOW', 'NORMAL', 12.923],\n",
       "       [30, 'F', 'NORMAL', 'HIGH', 10.443],\n",
       "       [57, 'F', 'HIGH', 'NORMAL', 9.945],\n",
       "       [43, 'M', 'NORMAL', 'NORMAL', 12.859],\n",
       "       [21, 'F', 'HIGH', 'NORMAL', 28.632],\n",
       "       [16, 'M', 'HIGH', 'NORMAL', 19.007],\n",
       "       [38, 'M', 'LOW', 'HIGH', 18.295],\n",
       "       [58, 'F', 'LOW', 'HIGH', 26.645],\n",
       "       [57, 'F', 'NORMAL', 'HIGH', 14.216],\n",
       "       [51, 'F', 'LOW', 'NORMAL', 23.003],\n",
       "       [20, 'F', 'HIGH', 'HIGH', 11.262],\n",
       "       [28, 'F', 'NORMAL', 'HIGH', 12.879],\n",
       "       [45, 'M', 'LOW', 'NORMAL', 10.017],\n",
       "       [39, 'F', 'NORMAL', 'NORMAL', 17.225],\n",
       "       [41, 'F', 'LOW', 'NORMAL', 18.739],\n",
       "       [42, 'M', 'HIGH', 'NORMAL', 12.766],\n",
       "       [73, 'F', 'HIGH', 'HIGH', 18.348],\n",
       "       [48, 'M', 'HIGH', 'NORMAL', 10.446],\n",
       "       [25, 'M', 'NORMAL', 'HIGH', 19.011],\n",
       "       [39, 'M', 'NORMAL', 'HIGH', 15.969],\n",
       "       [67, 'F', 'NORMAL', 'HIGH', 15.891],\n",
       "       [22, 'F', 'HIGH', 'NORMAL', 22.818],\n",
       "       [59, 'F', 'NORMAL', 'HIGH', 13.884],\n",
       "       [20, 'F', 'LOW', 'NORMAL', 11.686],\n",
       "       [36, 'F', 'HIGH', 'NORMAL', 15.49],\n",
       "       [18, 'F', 'HIGH', 'HIGH', 37.188],\n",
       "       [57, 'F', 'NORMAL', 'NORMAL', 25.893],\n",
       "       [70, 'M', 'HIGH', 'HIGH', 9.849],\n",
       "       [47, 'M', 'HIGH', 'HIGH', 10.403],\n",
       "       [65, 'M', 'HIGH', 'NORMAL', 34.997],\n",
       "       [64, 'M', 'HIGH', 'NORMAL', 20.932],\n",
       "       [58, 'M', 'HIGH', 'HIGH', 18.991],\n",
       "       [23, 'M', 'HIGH', 'HIGH', 8.011],\n",
       "       [72, 'M', 'LOW', 'HIGH', 16.31],\n",
       "       [72, 'M', 'LOW', 'HIGH', 6.769],\n",
       "       [46, 'F', 'HIGH', 'HIGH', 34.686],\n",
       "       [56, 'F', 'LOW', 'HIGH', 11.567],\n",
       "       [16, 'M', 'LOW', 'HIGH', 12.006],\n",
       "       [52, 'M', 'NORMAL', 'HIGH', 9.894],\n",
       "       [23, 'M', 'NORMAL', 'NORMAL', 14.02],\n",
       "       [40, 'F', 'LOW', 'NORMAL', 11.349]], dtype=object)"
      ]
     },
     "execution_count": 45,
     "metadata": {},
     "output_type": "execute_result"
    }
   ],
   "source": [
    "X = drugs[['Age', 'Sex', 'BP', 'Cholesterol', 'Na_to_K']].values\n",
    "X"
   ]
  },
  {
   "cell_type": "markdown",
   "metadata": {},
   "source": [
    "Some features in this dataset are categorical, such as **Sex** or **BP**.\n",
    "\n",
    "Sklearn Decision Trees does not handle categorical variables.\n",
    "\n",
    "We Use Label Encode for covert these feature to numerical values.\n"
   ]
  },
  {
   "cell_type": "code",
   "execution_count": 46,
   "metadata": {},
   "outputs": [],
   "source": [
    "le_sex = LabelEncoder()\n",
    "le_sex.fit(['F', 'M'])\n",
    "X[:,1] = le_sex.transform(X[:,1]) \n",
    "\n",
    "\n",
    "le_BP = LabelEncoder()\n",
    "le_BP.fit(['LOW', 'NORMAL', 'HIGH'])\n",
    "X[:,2] = le_BP.transform(X[:,2])\n",
    "\n",
    "\n",
    "le_Chol = LabelEncoder()\n",
    "le_Chol.fit(['NORMAL', 'HIGH'])\n",
    "X[:,3] = le_Chol.transform(X[:,3]) "
   ]
  },
  {
   "cell_type": "markdown",
   "metadata": {},
   "source": [
    "Now , all of our data is numerical"
   ]
  },
  {
   "cell_type": "code",
   "execution_count": 47,
   "metadata": {},
   "outputs": [
    {
     "data": {
      "text/plain": [
       "array([[23, 0, 0, 0, 25.355],\n",
       "       [47, 1, 1, 0, 13.093],\n",
       "       [47, 1, 1, 0, 10.114],\n",
       "       [28, 0, 2, 0, 7.798],\n",
       "       [61, 0, 1, 0, 18.043],\n",
       "       [22, 0, 2, 0, 8.607],\n",
       "       [49, 0, 2, 0, 16.275],\n",
       "       [41, 1, 1, 0, 11.037],\n",
       "       [60, 1, 2, 0, 15.171],\n",
       "       [43, 1, 1, 1, 19.368],\n",
       "       [47, 0, 1, 0, 11.767],\n",
       "       [34, 0, 0, 1, 19.199],\n",
       "       [43, 1, 1, 0, 15.376],\n",
       "       [74, 0, 1, 0, 20.942],\n",
       "       [50, 0, 2, 0, 12.703],\n",
       "       [16, 0, 0, 1, 15.516],\n",
       "       [69, 1, 1, 1, 11.455],\n",
       "       [43, 1, 0, 0, 13.972],\n",
       "       [23, 1, 1, 0, 7.298],\n",
       "       [32, 0, 0, 1, 25.974],\n",
       "       [57, 1, 1, 1, 19.128],\n",
       "       [63, 1, 2, 0, 25.917],\n",
       "       [47, 1, 1, 1, 30.568],\n",
       "       [48, 0, 1, 0, 15.036],\n",
       "       [33, 0, 1, 0, 33.486],\n",
       "       [28, 0, 0, 1, 18.809],\n",
       "       [31, 1, 0, 0, 30.366],\n",
       "       [49, 0, 2, 1, 9.381],\n",
       "       [39, 0, 1, 1, 22.697],\n",
       "       [45, 1, 1, 0, 17.951],\n",
       "       [18, 0, 2, 1, 8.75],\n",
       "       [74, 1, 0, 0, 9.567],\n",
       "       [49, 1, 1, 1, 11.014],\n",
       "       [65, 0, 0, 1, 31.876],\n",
       "       [53, 1, 2, 0, 14.133],\n",
       "       [46, 1, 2, 1, 7.285],\n",
       "       [32, 1, 0, 1, 9.445],\n",
       "       [39, 1, 1, 1, 13.938],\n",
       "       [39, 0, 2, 1, 9.709],\n",
       "       [15, 1, 2, 0, 9.084],\n",
       "       [73, 0, 2, 0, 19.221],\n",
       "       [58, 0, 0, 1, 14.239],\n",
       "       [50, 1, 2, 1, 15.79],\n",
       "       [23, 1, 2, 0, 12.26],\n",
       "       [50, 0, 2, 1, 12.295],\n",
       "       [66, 0, 2, 1, 8.107],\n",
       "       [37, 0, 0, 0, 13.091],\n",
       "       [68, 1, 1, 0, 10.291],\n",
       "       [23, 1, 2, 0, 31.686],\n",
       "       [28, 0, 1, 0, 19.796],\n",
       "       [58, 0, 0, 0, 19.416],\n",
       "       [67, 1, 2, 1, 10.898],\n",
       "       [62, 1, 1, 1, 27.183],\n",
       "       [24, 0, 0, 1, 18.457],\n",
       "       [68, 0, 0, 1, 10.189],\n",
       "       [26, 0, 1, 0, 14.16],\n",
       "       [65, 1, 0, 1, 11.34],\n",
       "       [40, 1, 0, 0, 27.826],\n",
       "       [60, 1, 2, 1, 10.091],\n",
       "       [34, 1, 0, 0, 18.703],\n",
       "       [38, 0, 1, 1, 29.875],\n",
       "       [24, 1, 0, 1, 9.475],\n",
       "       [67, 1, 1, 1, 20.693],\n",
       "       [45, 1, 1, 1, 8.37],\n",
       "       [60, 0, 0, 0, 13.303],\n",
       "       [68, 0, 2, 1, 27.05],\n",
       "       [29, 1, 0, 0, 12.856],\n",
       "       [17, 1, 2, 1, 10.832],\n",
       "       [54, 1, 2, 0, 24.658],\n",
       "       [18, 0, 0, 1, 24.276],\n",
       "       [70, 1, 0, 0, 13.967],\n",
       "       [28, 0, 2, 0, 19.675],\n",
       "       [24, 0, 2, 0, 10.605],\n",
       "       [41, 0, 2, 1, 22.905],\n",
       "       [31, 1, 0, 1, 17.069],\n",
       "       [26, 1, 1, 1, 20.909],\n",
       "       [36, 0, 0, 0, 11.198],\n",
       "       [26, 0, 0, 1, 19.161],\n",
       "       [19, 0, 0, 0, 13.313],\n",
       "       [32, 0, 1, 1, 10.84],\n",
       "       [60, 1, 0, 0, 13.934],\n",
       "       [64, 1, 2, 0, 7.761],\n",
       "       [32, 0, 1, 0, 9.712],\n",
       "       [38, 0, 0, 1, 11.326],\n",
       "       [47, 0, 1, 0, 10.067],\n",
       "       [59, 1, 0, 0, 13.935],\n",
       "       [51, 0, 2, 0, 13.597],\n",
       "       [69, 1, 1, 0, 15.478],\n",
       "       [37, 0, 0, 1, 23.091],\n",
       "       [50, 0, 2, 1, 17.211],\n",
       "       [62, 1, 2, 0, 16.594],\n",
       "       [41, 1, 0, 1, 15.156],\n",
       "       [29, 0, 0, 0, 29.45],\n",
       "       [42, 0, 1, 1, 29.271],\n",
       "       [56, 1, 1, 0, 15.015],\n",
       "       [36, 1, 1, 1, 11.424],\n",
       "       [58, 0, 1, 0, 38.247],\n",
       "       [56, 0, 0, 0, 25.395],\n",
       "       [20, 1, 0, 1, 35.639],\n",
       "       [15, 0, 0, 1, 16.725],\n",
       "       [31, 1, 0, 1, 11.871],\n",
       "       [45, 0, 0, 0, 12.854],\n",
       "       [28, 0, 1, 0, 13.127],\n",
       "       [56, 1, 2, 0, 8.966],\n",
       "       [22, 1, 0, 1, 28.294],\n",
       "       [37, 1, 1, 1, 8.968],\n",
       "       [22, 1, 2, 0, 11.953],\n",
       "       [42, 1, 1, 0, 20.013],\n",
       "       [72, 1, 0, 1, 9.677],\n",
       "       [23, 1, 2, 0, 16.85],\n",
       "       [50, 1, 0, 0, 7.49],\n",
       "       [47, 0, 2, 1, 6.683],\n",
       "       [35, 1, 1, 1, 9.17],\n",
       "       [65, 0, 1, 1, 13.769],\n",
       "       [20, 0, 2, 1, 9.281],\n",
       "       [51, 1, 0, 0, 18.295],\n",
       "       [67, 1, 2, 1, 9.514],\n",
       "       [40, 0, 2, 0, 10.103],\n",
       "       [32, 0, 0, 1, 10.292],\n",
       "       [61, 0, 0, 0, 25.475],\n",
       "       [28, 1, 2, 0, 27.064],\n",
       "       [15, 1, 0, 1, 17.206],\n",
       "       [34, 1, 2, 0, 22.456],\n",
       "       [36, 0, 2, 0, 16.753],\n",
       "       [53, 0, 0, 1, 12.495],\n",
       "       [19, 0, 0, 1, 25.969],\n",
       "       [66, 1, 0, 0, 16.347],\n",
       "       [35, 1, 2, 1, 7.845],\n",
       "       [47, 1, 1, 1, 33.542],\n",
       "       [32, 0, 2, 0, 7.477],\n",
       "       [70, 0, 2, 0, 20.489],\n",
       "       [52, 1, 1, 1, 32.922],\n",
       "       [49, 1, 1, 1, 13.598],\n",
       "       [24, 1, 2, 0, 25.786],\n",
       "       [42, 0, 0, 0, 21.036],\n",
       "       [74, 1, 1, 1, 11.939],\n",
       "       [55, 0, 0, 0, 10.977],\n",
       "       [35, 0, 0, 0, 12.894],\n",
       "       [51, 1, 0, 1, 11.343],\n",
       "       [69, 0, 2, 0, 10.065],\n",
       "       [49, 1, 0, 1, 6.269],\n",
       "       [64, 0, 1, 1, 25.741],\n",
       "       [60, 1, 0, 1, 8.621],\n",
       "       [74, 1, 0, 1, 15.436],\n",
       "       [39, 1, 0, 0, 9.664],\n",
       "       [61, 1, 2, 0, 9.443],\n",
       "       [37, 0, 1, 1, 12.006],\n",
       "       [26, 0, 0, 1, 12.307],\n",
       "       [61, 0, 1, 1, 7.34],\n",
       "       [22, 1, 1, 0, 8.151],\n",
       "       [49, 1, 0, 1, 8.7],\n",
       "       [68, 1, 0, 0, 11.009],\n",
       "       [55, 1, 2, 1, 7.261],\n",
       "       [72, 0, 1, 1, 14.642],\n",
       "       [37, 1, 1, 1, 16.724],\n",
       "       [49, 1, 1, 0, 10.537],\n",
       "       [31, 1, 0, 1, 11.227],\n",
       "       [53, 1, 1, 0, 22.963],\n",
       "       [59, 0, 1, 0, 10.444],\n",
       "       [34, 0, 1, 1, 12.923],\n",
       "       [30, 0, 2, 0, 10.443],\n",
       "       [57, 0, 0, 1, 9.945],\n",
       "       [43, 1, 2, 1, 12.859],\n",
       "       [21, 0, 0, 1, 28.632],\n",
       "       [16, 1, 0, 1, 19.007],\n",
       "       [38, 1, 1, 0, 18.295],\n",
       "       [58, 0, 1, 0, 26.645],\n",
       "       [57, 0, 2, 0, 14.216],\n",
       "       [51, 0, 1, 1, 23.003],\n",
       "       [20, 0, 0, 0, 11.262],\n",
       "       [28, 0, 2, 0, 12.879],\n",
       "       [45, 1, 1, 1, 10.017],\n",
       "       [39, 0, 2, 1, 17.225],\n",
       "       [41, 0, 1, 1, 18.739],\n",
       "       [42, 1, 0, 1, 12.766],\n",
       "       [73, 0, 0, 0, 18.348],\n",
       "       [48, 1, 0, 1, 10.446],\n",
       "       [25, 1, 2, 0, 19.011],\n",
       "       [39, 1, 2, 0, 15.969],\n",
       "       [67, 0, 2, 0, 15.891],\n",
       "       [22, 0, 0, 1, 22.818],\n",
       "       [59, 0, 2, 0, 13.884],\n",
       "       [20, 0, 1, 1, 11.686],\n",
       "       [36, 0, 0, 1, 15.49],\n",
       "       [18, 0, 0, 0, 37.188],\n",
       "       [57, 0, 2, 1, 25.893],\n",
       "       [70, 1, 0, 0, 9.849],\n",
       "       [47, 1, 0, 0, 10.403],\n",
       "       [65, 1, 0, 1, 34.997],\n",
       "       [64, 1, 0, 1, 20.932],\n",
       "       [58, 1, 0, 0, 18.991],\n",
       "       [23, 1, 0, 0, 8.011],\n",
       "       [72, 1, 1, 0, 16.31],\n",
       "       [72, 1, 1, 0, 6.769],\n",
       "       [46, 0, 0, 0, 34.686],\n",
       "       [56, 0, 1, 0, 11.567],\n",
       "       [16, 1, 1, 0, 12.006],\n",
       "       [52, 1, 2, 0, 9.894],\n",
       "       [23, 1, 2, 1, 14.02],\n",
       "       [40, 0, 1, 1, 11.349]], dtype=object)"
      ]
     },
     "execution_count": 47,
     "metadata": {},
     "output_type": "execute_result"
    }
   ],
   "source": [
    "X"
   ]
  },
  {
   "cell_type": "markdown",
   "metadata": {},
   "source": [
    "Now we can fill the target variable.\n"
   ]
  },
  {
   "cell_type": "code",
   "execution_count": 49,
   "metadata": {},
   "outputs": [
    {
     "data": {
      "text/plain": [
       "0    drugY\n",
       "1    drugC\n",
       "2    drugC\n",
       "3    drugX\n",
       "4    drugY\n",
       "Name: Drug, dtype: object"
      ]
     },
     "execution_count": 49,
     "metadata": {},
     "output_type": "execute_result"
    }
   ],
   "source": [
    "y = drugs[\"Drug\"]\n",
    "y[0:5]"
   ]
  },
  {
   "cell_type": "markdown",
   "metadata": {},
   "source": [
    "\n",
    "\n",
    "**Setting up the Decision Tree**\n",
    "\n",
    "We will be using train/test split on our decision tree.\n",
    "\n",
    "we import train_test_split above .\n",
    "\n"
   ]
  },
  {
   "cell_type": "code",
   "execution_count": 59,
   "metadata": {},
   "outputs": [],
   "source": [
    "X_train, X_test, y_train, y_test = train_test_split(X, y, test_size=0.2, random_state=42)"
   ]
  },
  {
   "cell_type": "markdown",
   "metadata": {},
   "source": [
    "Shape of Train and Test"
   ]
  },
  {
   "cell_type": "code",
   "execution_count": 62,
   "metadata": {},
   "outputs": [
    {
     "data": {
      "text/plain": [
       "((160, 5), (40, 5))"
      ]
     },
     "execution_count": 62,
     "metadata": {},
     "output_type": "execute_result"
    }
   ],
   "source": [
    "X_train.shape,X_test.shape"
   ]
  },
  {
   "cell_type": "markdown",
   "metadata": {},
   "source": [
    "**Train the model**\n",
    "\n",
    "We will first create an instance of the DecisionTreeClassifier.\n",
    "\n",
    "Inside of the classifier, specify  criterion=\"entropy\" so we can see the information gain of each node."
   ]
  },
  {
   "cell_type": "code",
   "execution_count": 63,
   "metadata": {},
   "outputs": [],
   "source": [
    "from sklearn.tree import DecisionTreeClassifier"
   ]
  },
  {
   "cell_type": "code",
   "execution_count": 64,
   "metadata": {},
   "outputs": [
    {
     "data": {
      "text/html": [
       "<style>#sk-container-id-2 {color: black;}#sk-container-id-2 pre{padding: 0;}#sk-container-id-2 div.sk-toggleable {background-color: white;}#sk-container-id-2 label.sk-toggleable__label {cursor: pointer;display: block;width: 100%;margin-bottom: 0;padding: 0.3em;box-sizing: border-box;text-align: center;}#sk-container-id-2 label.sk-toggleable__label-arrow:before {content: \"▸\";float: left;margin-right: 0.25em;color: #696969;}#sk-container-id-2 label.sk-toggleable__label-arrow:hover:before {color: black;}#sk-container-id-2 div.sk-estimator:hover label.sk-toggleable__label-arrow:before {color: black;}#sk-container-id-2 div.sk-toggleable__content {max-height: 0;max-width: 0;overflow: hidden;text-align: left;background-color: #f0f8ff;}#sk-container-id-2 div.sk-toggleable__content pre {margin: 0.2em;color: black;border-radius: 0.25em;background-color: #f0f8ff;}#sk-container-id-2 input.sk-toggleable__control:checked~div.sk-toggleable__content {max-height: 200px;max-width: 100%;overflow: auto;}#sk-container-id-2 input.sk-toggleable__control:checked~label.sk-toggleable__label-arrow:before {content: \"▾\";}#sk-container-id-2 div.sk-estimator input.sk-toggleable__control:checked~label.sk-toggleable__label {background-color: #d4ebff;}#sk-container-id-2 div.sk-label input.sk-toggleable__control:checked~label.sk-toggleable__label {background-color: #d4ebff;}#sk-container-id-2 input.sk-hidden--visually {border: 0;clip: rect(1px 1px 1px 1px);clip: rect(1px, 1px, 1px, 1px);height: 1px;margin: -1px;overflow: hidden;padding: 0;position: absolute;width: 1px;}#sk-container-id-2 div.sk-estimator {font-family: monospace;background-color: #f0f8ff;border: 1px dotted black;border-radius: 0.25em;box-sizing: border-box;margin-bottom: 0.5em;}#sk-container-id-2 div.sk-estimator:hover {background-color: #d4ebff;}#sk-container-id-2 div.sk-parallel-item::after {content: \"\";width: 100%;border-bottom: 1px solid gray;flex-grow: 1;}#sk-container-id-2 div.sk-label:hover label.sk-toggleable__label {background-color: #d4ebff;}#sk-container-id-2 div.sk-serial::before {content: \"\";position: absolute;border-left: 1px solid gray;box-sizing: border-box;top: 0;bottom: 0;left: 50%;z-index: 0;}#sk-container-id-2 div.sk-serial {display: flex;flex-direction: column;align-items: center;background-color: white;padding-right: 0.2em;padding-left: 0.2em;position: relative;}#sk-container-id-2 div.sk-item {position: relative;z-index: 1;}#sk-container-id-2 div.sk-parallel {display: flex;align-items: stretch;justify-content: center;background-color: white;position: relative;}#sk-container-id-2 div.sk-item::before, #sk-container-id-2 div.sk-parallel-item::before {content: \"\";position: absolute;border-left: 1px solid gray;box-sizing: border-box;top: 0;bottom: 0;left: 50%;z-index: -1;}#sk-container-id-2 div.sk-parallel-item {display: flex;flex-direction: column;z-index: 1;position: relative;background-color: white;}#sk-container-id-2 div.sk-parallel-item:first-child::after {align-self: flex-end;width: 50%;}#sk-container-id-2 div.sk-parallel-item:last-child::after {align-self: flex-start;width: 50%;}#sk-container-id-2 div.sk-parallel-item:only-child::after {width: 0;}#sk-container-id-2 div.sk-dashed-wrapped {border: 1px dashed gray;margin: 0 0.4em 0.5em 0.4em;box-sizing: border-box;padding-bottom: 0.4em;background-color: white;}#sk-container-id-2 div.sk-label label {font-family: monospace;font-weight: bold;display: inline-block;line-height: 1.2em;}#sk-container-id-2 div.sk-label-container {text-align: center;}#sk-container-id-2 div.sk-container {/* jupyter's `normalize.less` sets `[hidden] { display: none; }` but bootstrap.min.css set `[hidden] { display: none !important; }` so we also need the `!important` here to be able to override the default hidden behavior on the sphinx rendered scikit-learn.org. See: https://github.com/scikit-learn/scikit-learn/issues/21755 */display: inline-block !important;position: relative;}#sk-container-id-2 div.sk-text-repr-fallback {display: none;}</style><div id=\"sk-container-id-2\" class=\"sk-top-container\"><div class=\"sk-text-repr-fallback\"><pre>DecisionTreeClassifier(criterion=&#x27;entropy&#x27;, max_depth=4)</pre><b>In a Jupyter environment, please rerun this cell to show the HTML representation or trust the notebook. <br />On GitHub, the HTML representation is unable to render, please try loading this page with nbviewer.org.</b></div><div class=\"sk-container\" hidden><div class=\"sk-item\"><div class=\"sk-estimator sk-toggleable\"><input class=\"sk-toggleable__control sk-hidden--visually\" id=\"sk-estimator-id-2\" type=\"checkbox\" checked><label for=\"sk-estimator-id-2\" class=\"sk-toggleable__label sk-toggleable__label-arrow\">DecisionTreeClassifier</label><div class=\"sk-toggleable__content\"><pre>DecisionTreeClassifier(criterion=&#x27;entropy&#x27;, max_depth=4)</pre></div></div></div></div></div>"
      ],
      "text/plain": [
       "DecisionTreeClassifier(criterion='entropy', max_depth=4)"
      ]
     },
     "execution_count": 64,
     "metadata": {},
     "output_type": "execute_result"
    }
   ],
   "source": [
    "drugTree = DecisionTreeClassifier(criterion=\"entropy\", max_depth = 4)\n",
    "drugTree"
   ]
  },
  {
   "cell_type": "markdown",
   "metadata": {},
   "source": [
    "Next, we will fit the data with the training feature matrix <b> X_train </b> and training  response vector <b> y_train </b>\n"
   ]
  },
  {
   "cell_type": "code",
   "execution_count": 66,
   "metadata": {},
   "outputs": [
    {
     "data": {
      "text/html": [
       "<style>#sk-container-id-3 {color: black;}#sk-container-id-3 pre{padding: 0;}#sk-container-id-3 div.sk-toggleable {background-color: white;}#sk-container-id-3 label.sk-toggleable__label {cursor: pointer;display: block;width: 100%;margin-bottom: 0;padding: 0.3em;box-sizing: border-box;text-align: center;}#sk-container-id-3 label.sk-toggleable__label-arrow:before {content: \"▸\";float: left;margin-right: 0.25em;color: #696969;}#sk-container-id-3 label.sk-toggleable__label-arrow:hover:before {color: black;}#sk-container-id-3 div.sk-estimator:hover label.sk-toggleable__label-arrow:before {color: black;}#sk-container-id-3 div.sk-toggleable__content {max-height: 0;max-width: 0;overflow: hidden;text-align: left;background-color: #f0f8ff;}#sk-container-id-3 div.sk-toggleable__content pre {margin: 0.2em;color: black;border-radius: 0.25em;background-color: #f0f8ff;}#sk-container-id-3 input.sk-toggleable__control:checked~div.sk-toggleable__content {max-height: 200px;max-width: 100%;overflow: auto;}#sk-container-id-3 input.sk-toggleable__control:checked~label.sk-toggleable__label-arrow:before {content: \"▾\";}#sk-container-id-3 div.sk-estimator input.sk-toggleable__control:checked~label.sk-toggleable__label {background-color: #d4ebff;}#sk-container-id-3 div.sk-label input.sk-toggleable__control:checked~label.sk-toggleable__label {background-color: #d4ebff;}#sk-container-id-3 input.sk-hidden--visually {border: 0;clip: rect(1px 1px 1px 1px);clip: rect(1px, 1px, 1px, 1px);height: 1px;margin: -1px;overflow: hidden;padding: 0;position: absolute;width: 1px;}#sk-container-id-3 div.sk-estimator {font-family: monospace;background-color: #f0f8ff;border: 1px dotted black;border-radius: 0.25em;box-sizing: border-box;margin-bottom: 0.5em;}#sk-container-id-3 div.sk-estimator:hover {background-color: #d4ebff;}#sk-container-id-3 div.sk-parallel-item::after {content: \"\";width: 100%;border-bottom: 1px solid gray;flex-grow: 1;}#sk-container-id-3 div.sk-label:hover label.sk-toggleable__label {background-color: #d4ebff;}#sk-container-id-3 div.sk-serial::before {content: \"\";position: absolute;border-left: 1px solid gray;box-sizing: border-box;top: 0;bottom: 0;left: 50%;z-index: 0;}#sk-container-id-3 div.sk-serial {display: flex;flex-direction: column;align-items: center;background-color: white;padding-right: 0.2em;padding-left: 0.2em;position: relative;}#sk-container-id-3 div.sk-item {position: relative;z-index: 1;}#sk-container-id-3 div.sk-parallel {display: flex;align-items: stretch;justify-content: center;background-color: white;position: relative;}#sk-container-id-3 div.sk-item::before, #sk-container-id-3 div.sk-parallel-item::before {content: \"\";position: absolute;border-left: 1px solid gray;box-sizing: border-box;top: 0;bottom: 0;left: 50%;z-index: -1;}#sk-container-id-3 div.sk-parallel-item {display: flex;flex-direction: column;z-index: 1;position: relative;background-color: white;}#sk-container-id-3 div.sk-parallel-item:first-child::after {align-self: flex-end;width: 50%;}#sk-container-id-3 div.sk-parallel-item:last-child::after {align-self: flex-start;width: 50%;}#sk-container-id-3 div.sk-parallel-item:only-child::after {width: 0;}#sk-container-id-3 div.sk-dashed-wrapped {border: 1px dashed gray;margin: 0 0.4em 0.5em 0.4em;box-sizing: border-box;padding-bottom: 0.4em;background-color: white;}#sk-container-id-3 div.sk-label label {font-family: monospace;font-weight: bold;display: inline-block;line-height: 1.2em;}#sk-container-id-3 div.sk-label-container {text-align: center;}#sk-container-id-3 div.sk-container {/* jupyter's `normalize.less` sets `[hidden] { display: none; }` but bootstrap.min.css set `[hidden] { display: none !important; }` so we also need the `!important` here to be able to override the default hidden behavior on the sphinx rendered scikit-learn.org. See: https://github.com/scikit-learn/scikit-learn/issues/21755 */display: inline-block !important;position: relative;}#sk-container-id-3 div.sk-text-repr-fallback {display: none;}</style><div id=\"sk-container-id-3\" class=\"sk-top-container\"><div class=\"sk-text-repr-fallback\"><pre>DecisionTreeClassifier(criterion=&#x27;entropy&#x27;, max_depth=4)</pre><b>In a Jupyter environment, please rerun this cell to show the HTML representation or trust the notebook. <br />On GitHub, the HTML representation is unable to render, please try loading this page with nbviewer.org.</b></div><div class=\"sk-container\" hidden><div class=\"sk-item\"><div class=\"sk-estimator sk-toggleable\"><input class=\"sk-toggleable__control sk-hidden--visually\" id=\"sk-estimator-id-3\" type=\"checkbox\" checked><label for=\"sk-estimator-id-3\" class=\"sk-toggleable__label sk-toggleable__label-arrow\">DecisionTreeClassifier</label><div class=\"sk-toggleable__content\"><pre>DecisionTreeClassifier(criterion=&#x27;entropy&#x27;, max_depth=4)</pre></div></div></div></div></div>"
      ],
      "text/plain": [
       "DecisionTreeClassifier(criterion='entropy', max_depth=4)"
      ]
     },
     "execution_count": 66,
     "metadata": {},
     "output_type": "execute_result"
    }
   ],
   "source": [
    "drugTree.fit(X_train, y_train)"
   ]
  },
  {
   "cell_type": "markdown",
   "metadata": {},
   "source": [
    "**Prediction**\n",
    "\n",
    "Let's make some predictions on the testing dataset\n",
    "\n"
   ]
  },
  {
   "cell_type": "code",
   "execution_count": 69,
   "metadata": {},
   "outputs": [
    {
     "data": {
      "text/plain": [
       "(array(['drugX', 'drugY', 'drugX', 'drugC', 'drugY'], dtype=object),\n",
       " 95     drugX\n",
       " 15     drugY\n",
       " 30     drugX\n",
       " 158    drugC\n",
       " 128    drugY\n",
       " Name: Drug, dtype: object)"
      ]
     },
     "execution_count": 69,
     "metadata": {},
     "output_type": "execute_result"
    }
   ],
   "source": [
    "predTree = drugTree.predict(X_test)\n",
    "predTree[0:5], y_test[0:5]"
   ]
  },
  {
   "cell_type": "markdown",
   "metadata": {},
   "source": [
    "**Confusion Matrix**\n",
    "\n",
    "The confusion matrix illustrates how the algorithm is performing w.r.t. distiguishing the classes from each other. In a glance, we can see how well our alogorithm is doing classfying one class against another."
   ]
  },
  {
   "cell_type": "code",
   "execution_count": 74,
   "metadata": {},
   "outputs": [
    {
     "data": {
      "text/plain": [
       "array([[ 6,  0,  0,  0,  0],\n",
       "       [ 0,  3,  0,  0,  0],\n",
       "       [ 0,  0,  5,  0,  0],\n",
       "       [ 0,  0,  0, 11,  0],\n",
       "       [ 0,  0,  0,  0, 15]], dtype=int64)"
      ]
     },
     "execution_count": 74,
     "metadata": {},
     "output_type": "execute_result"
    }
   ],
   "source": [
    "from sklearn.metrics import confusion_matrix, ConfusionMatrixDisplay\n",
    "confusion_matrix(y_test, predTree)"
   ]
  },
  {
   "cell_type": "code",
   "execution_count": 75,
   "metadata": {},
   "outputs": [
    {
     "data": {
      "text/plain": [
       "<sklearn.metrics._plot.confusion_matrix.ConfusionMatrixDisplay at 0x217c1e08dd0>"
      ]
     },
     "execution_count": 75,
     "metadata": {},
     "output_type": "execute_result"
    },
    {
     "data": {
      "image/png": "[encoded data removed]",
      "text/plain": [
       "<Figure size 640x480 with 2 Axes>"
      ]
     },
     "metadata": {},
     "output_type": "display_data"
    }
   ],
   "source": [
    "from sklearn.metrics import ConfusionMatrixDisplay, confusion_matrix\n",
    "\n",
    "cm = confusion_matrix(y_test, predTree)\n",
    "disp = ConfusionMatrixDisplay(confusion_matrix=cm)\n",
    "disp.plot()"
   ]
  },
  {
   "cell_type": "markdown",
   "metadata": {},
   "source": [
    "## Precision and Recall\n",
    "\n",
    "we need to calculate the precision and recall for each class individually:"
   ]
  },
  {
   "cell_type": "code",
   "execution_count": 76,
   "metadata": {},
   "outputs": [
    {
     "data": {
      "text/plain": [
       "Drug\n",
       "drugY    91\n",
       "drugX    54\n",
       "drugA    23\n",
       "drugC    16\n",
       "drugB    16\n",
       "Name: count, dtype: int64"
      ]
     },
     "execution_count": 76,
     "metadata": {},
     "output_type": "execute_result"
    }
   ],
   "source": [
    "drugs['Drug'].value_counts()"
   ]
  },
  {
   "cell_type": "code",
   "execution_count": 87,
   "metadata": {},
   "outputs": [],
   "source": [
    "precision_array = []\n",
    "recall_array = []\n",
    "for c in ['drugY','drugX', 'drugA', 'drugC','drugB']:\n",
    "  actual_class = y_test == c\n",
    "  predicted_class = predTree == c\n",
    "\n",
    "  ture_positives = sum(np.multiply(actual_class,predicted_class))\n",
    "  declared_positives = sum(predicted_class)\n",
    "  actual_positives = sum(actual_class)\n",
    "\n",
    "  precision = ture_positives/(0.0001+ declared_positives)\n",
    "  recall = ture_positives/(0.0001+ actual_positives)\n",
    "  precision_array.append(precision)\n",
    "  recall_array.append(recall)\n",
    "\n",
    "precision_array = np.array(precision_array)\n",
    "recall_array = np.array(recall_array)"
   ]
  },
  {
   "cell_type": "code",
   "execution_count": 83,
   "metadata": {},
   "outputs": [
    {
     "data": {
      "text/plain": [
       "array([0.99999333, 0.99999091, 0.99998333, 0.99998   , 0.99996667])"
      ]
     },
     "execution_count": 83,
     "metadata": {},
     "output_type": "execute_result"
    }
   ],
   "source": [
    "precision_array"
   ]
  },
  {
   "cell_type": "code",
   "execution_count": 84,
   "metadata": {},
   "outputs": [
    {
     "data": {
      "text/plain": [
       "array([0.99999333, 0.99999091, 0.99998333, 0.99998   , 0.99996667])"
      ]
     },
     "execution_count": 84,
     "metadata": {},
     "output_type": "execute_result"
    }
   ],
   "source": [
    "recall_array"
   ]
  },
  {
   "cell_type": "code",
   "execution_count": 85,
   "metadata": {},
   "outputs": [
    {
     "name": "stdout",
     "output_type": "stream",
     "text": [
      "Average precision is: 1.00\n",
      "Average recall is: 1.00\n"
     ]
    }
   ],
   "source": [
    "print('Average precision is: %.2f' %precision_array.mean())\n",
    "print('Average recall is: %.2f' %recall_array.mean())"
   ]
  },
  {
   "cell_type": "markdown",
   "metadata": {},
   "source": [
    "Now that we have the precision and recall for each class, we can calculate the F1-Score."
   ]
  },
  {
   "cell_type": "code",
   "execution_count": 89,
   "metadata": {},
   "outputs": [
    {
     "name": "stdout",
     "output_type": "stream",
     "text": [
      "F1-Score for class 0 is 1.00\n",
      "F1-Score for class 1 is 1.00\n",
      "F1-Score for class 2 is 1.00\n",
      "F1-Score for class 3 is 1.00\n",
      "F1-Score for class 4 is 1.00\n"
     ]
    }
   ],
   "source": [
    "f1_array = []\n",
    "for c in [0, 1, 2, 3, 4]:\n",
    "  p,r = precision_array[c],recall_array[c]\n",
    "  f1 = 2*p*r / (p+r)\n",
    "  f1_array.append(f1)\n",
    "  print('F1-Score for class %d is %.2f' %(c,f1))"
   ]
  },
  {
   "cell_type": "markdown",
   "metadata": {},
   "source": [
    "Now that we have the f1 accuracy for each class, we can calculate different types of F1-Score for this problem:"
   ]
  },
  {
   "cell_type": "markdown",
   "metadata": {},
   "source": [
    "**Macro F1-Score**"
   ]
  },
  {
   "cell_type": "code",
   "execution_count": 90,
   "metadata": {},
   "outputs": [
    {
     "name": "stdout",
     "output_type": "stream",
     "text": [
      "Macro F1-score is 1.00\n"
     ]
    }
   ],
   "source": [
    "# Macro F1-Score\n",
    "print('Macro F1-score is %.2f' %np.array(f1_array).mean())"
   ]
  },
  {
   "cell_type": "markdown",
   "metadata": {},
   "source": [
    "**Weighted F1-Score**"
   ]
  },
  {
   "cell_type": "code",
   "execution_count": 94,
   "metadata": {},
   "outputs": [
    {
     "name": "stdout",
     "output_type": "stream",
     "text": [
      "Weighted F1-score is 1.00\n"
     ]
    }
   ],
   "source": [
    "from sklearn.metrics import f1_score\n",
    "print('Weighted F1-score is %.2f' %f1_score(y_test, predTree, average='weighted'))"
   ]
  },
  {
   "cell_type": "markdown",
   "metadata": {},
   "source": [
    "**Micro F1-Score**"
   ]
  },
  {
   "cell_type": "code",
   "execution_count": 95,
   "metadata": {},
   "outputs": [
    {
     "name": "stdout",
     "output_type": "stream",
     "text": [
      "Micro F1-score is 1.00\n"
     ]
    }
   ],
   "source": [
    "print('Micro F1-score is %.2f' %f1_score(y_test, predTree, average='micro'))"
   ]
  },
  {
   "cell_type": "markdown",
   "metadata": {},
   "source": [
    "**All in one report**"
   ]
  },
  {
   "cell_type": "code",
   "execution_count": 97,
   "metadata": {},
   "outputs": [
    {
     "name": "stdout",
     "output_type": "stream",
     "text": [
      "Clasification report:\n",
      "               precision    recall  f1-score   support\n",
      "\n",
      "       drugA       1.00      1.00      1.00         6\n",
      "       drugB       1.00      1.00      1.00         3\n",
      "       drugC       1.00      1.00      1.00         5\n",
      "       drugX       1.00      1.00      1.00        11\n",
      "       drugY       1.00      1.00      1.00        15\n",
      "\n",
      "    accuracy                           1.00        40\n",
      "   macro avg       1.00      1.00      1.00        40\n",
      "weighted avg       1.00      1.00      1.00        40\n",
      "\n"
     ]
    }
   ],
   "source": [
    "from sklearn.metrics import classification_report\n",
    "print('Clasification report:\\n', classification_report(y_test, predTree))"
   ]
  },
  {
   "cell_type": "markdown",
   "metadata": {},
   "source": [
    "## Question :"
   ]
  },
  {
   "cell_type": "markdown",
   "metadata": {},
   "source": [
    "Suppose we have a multi-label classification problem in the field of football, where each sample (player) can belong to some of 4 classes that we have:\n",
    "\n",
    "* Class 1: The player has played for the national team before\n",
    "\n",
    "* Class 2: The player had previous history of heart problems\n",
    "\n",
    "* Class 3: The player had knee injuries before\n",
    "\n",
    "* Class 4: The player has been the captain of the team in the past\n",
    "\n",
    "What accuracy metric do you use to best capture the accuracy of classification algorithm which predicts the above classes based on some data from each player and why?"
   ]
  },
  {
   "cell_type": "markdown",
   "metadata": {},
   "source": [
    "***Answer***"
   ]
  },
  {
   "cell_type": "markdown",
   "metadata": {},
   "source": [
    "In classification problems that are in the form of multiple labels, using the accuracy criterion does not give a suitable output, because in these problems each sample can belong to several classes at the same time."
   ]
  },
  {
   "cell_type": "markdown",
   "metadata": {},
   "source": [
    "One commonly used metric for multi-label classification is the Hamming Loss."
   ]
  },
  {
   "cell_type": "markdown",
   "metadata": {},
   "source": [
    "Hamming Loss is calculated by taking a fraction of the wrong prediction with the total number of labels."
   ]
  },
  {
   "cell_type": "markdown",
   "metadata": {},
   "source": [
    "Formula :\n",
    "\n",
    "\\begin{align}\n",
    "\\text{Hamming Loss} = \\frac{1}{N} \\sum_{i=1}^{N} \\frac{1}{L} \\sum_{j=1}^{L} \\delta(y_{ij} \\neq \\hat{y}_{ij})\n",
    "\\end{align}\n",
    "\n",
    "* N is number of samples\n",
    "\n",
    "* L is number of classes\n",
    "\n",
    "* Yij is the actual label (for each sample , ith sample and jth label)\n",
    "\n",
    "* Y^ij is the predicted label (for each sample, ith sample and jth label)\n",
    "\n",
    "* Delta is the indicator function , which equals 1 if Yij not equal to Y^ij and 0 for otherwise\n",
    "\n",
    "The Hamming Loss ranges from 0 to 1, with lower values indicating better performance."
   ]
  },
  {
   "cell_type": "markdown",
   "metadata": {},
   "source": [
    "Hamming Loss is suitable for multi-label classification problems because it penalizes both false positives and false negatives for each class independently. This is important because in multi-label classification, a sample can belong to multiple classes at the same time."
   ]
  },
  {
   "cell_type": "markdown",
   "metadata": {},
   "source": [
    "Using traditional accuracy in a multi-label scenario could lead to misleading conclusions. For example, if a model predicts 3 out of 4 classes correctly for a sample, it would be considered as 0% accuracy using traditional accuracy, but it actually performed reasonably well.\n",
    "\n",
    "By using Hamming Loss, you get a more nuanced view of how well the model is performing in terms of classifying multiple labels for each sample."
   ]
  }
 ],
 "metadata": {
  "kernelspec": {
   "display_name": "Python 3",
   "language": "python",
   "name": "python3"
  },
  "language_info": {
   "codemirror_mode": {
    "name": "ipython",
    "version": 3
   },
   "file_extension": ".py",
   "mimetype": "text/x-python",
   "name": "python",
   "nbconvert_exporter": "python",
   "pygments_lexer": "ipython3",
   "version": "3.11.4"
  }
 },
 "nbformat": 4,
 "nbformat_minor": 2
}
